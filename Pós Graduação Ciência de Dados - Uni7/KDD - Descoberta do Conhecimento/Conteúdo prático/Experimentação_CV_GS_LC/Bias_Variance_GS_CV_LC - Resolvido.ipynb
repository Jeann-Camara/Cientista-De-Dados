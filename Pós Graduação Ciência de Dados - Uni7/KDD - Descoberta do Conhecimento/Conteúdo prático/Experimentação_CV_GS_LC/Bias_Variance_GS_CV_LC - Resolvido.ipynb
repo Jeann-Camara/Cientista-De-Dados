{
 "cells": [
  {
   "cell_type": "markdown",
   "metadata": {},
   "source": [
    "#### Com base no exemplo do titanic iremos realizar alguns experimentos\n",
    "   - Importe as bibliotecas necessárias"
   ]
  },
  {
   "cell_type": "code",
   "execution_count": 24,
   "metadata": {},
   "outputs": [],
   "source": [
    "import pandas as pd\n",
    "import numpy as np\n",
    "import matplotlib.pyplot as plt\n",
    "import seaborn as sns\n",
    "import warnings\n",
    "warnings.filterwarnings('ignore')"
   ]
  },
  {
   "cell_type": "code",
   "execution_count": 25,
   "metadata": {},
   "outputs": [],
   "source": [
    "train = pd.read_csv(\"titanic_ready_to_ml.csv\")"
   ]
  },
  {
   "cell_type": "markdown",
   "metadata": {},
   "source": [
    "#### Considere os seguintes algoritmos\n",
    "   - Importe a classe [DecisionTreeClassifier](https://scikit-learn.org/stable/modules/generated/sklearn.tree.DecisionTreeClassifier.html), [RandomForestClassifier](https://scikit-learn.org/stable/modules/generated/sklearn.ensemble.RandomForestClassifier.html) e [KNN Classifier](https://scikit-learn.org/stable/modules/generated/sklearn.neighbors.KNeighborsClassifier.html) do Sklearn"
   ]
  },
  {
   "cell_type": "code",
   "execution_count": 27,
   "metadata": {},
   "outputs": [],
   "source": [
    "from sklearn.tree import DecisionTreeClassifier\n",
    "from sklearn.ensemble import RandomForestClassifier\n",
    "from sklearn.neighbors import KNeighborsClassifier"
   ]
  },
  {
   "cell_type": "markdown",
   "metadata": {},
   "source": [
    "#### Realize o processo de treinamento e predição para o problema selecionado considerando um dos modelos sugeridos acima"
   ]
  },
  {
   "cell_type": "markdown",
   "metadata": {},
   "source": [
    "- **Resposta:** Escolhendo a primeira solução candidata, um simples algoritmo de árvore de decisão"
   ]
  },
  {
   "cell_type": "code",
   "execution_count": 28,
   "metadata": {},
   "outputs": [],
   "source": [
    "from sklearn.model_selection import train_test_split\n",
    "from sklearn.metrics import classification_report, confusion_matrix, f1_score"
   ]
  },
  {
   "cell_type": "code",
   "execution_count": 29,
   "metadata": {},
   "outputs": [],
   "source": [
    "RANDOM_STATE=16"
   ]
  },
  {
   "cell_type": "code",
   "execution_count": 30,
   "metadata": {},
   "outputs": [],
   "source": [
    "X_train, X_test, y_train, y_test = train_test_split(train.drop(['Survived'], axis=1), \n",
    "                                                   train['Survived'], test_size=0.30, \n",
    "                                                    random_state=RANDOM_STATE)"
   ]
  },
  {
   "cell_type": "code",
   "execution_count": 31,
   "metadata": {},
   "outputs": [],
   "source": [
    "dtc = DecisionTreeClassifier(random_state=RANDOM_STATE)"
   ]
  },
  {
   "cell_type": "code",
   "execution_count": 32,
   "metadata": {},
   "outputs": [
    {
     "data": {
      "text/plain": [
       "DecisionTreeClassifier(class_weight=None, criterion='gini', max_depth=None,\n",
       "                       max_features=None, max_leaf_nodes=None,\n",
       "                       min_impurity_decrease=0.0, min_impurity_split=None,\n",
       "                       min_samples_leaf=1, min_samples_split=2,\n",
       "                       min_weight_fraction_leaf=0.0, presort=False,\n",
       "                       random_state=16, splitter='best')"
      ]
     },
     "execution_count": 32,
     "metadata": {},
     "output_type": "execute_result"
    }
   ],
   "source": [
    "dtc.fit(X_train, y_train) #Treinando o modelo"
   ]
  },
  {
   "cell_type": "code",
   "execution_count": 33,
   "metadata": {},
   "outputs": [],
   "source": [
    "predictions = dtc.predict(X_test) #Realizando predições"
   ]
  },
  {
   "cell_type": "code",
   "execution_count": 34,
   "metadata": {},
   "outputs": [
    {
     "name": "stdout",
     "output_type": "stream",
     "text": [
      "              precision    recall  f1-score   support\n",
      "\n",
      "           0       0.79      0.86      0.82       153\n",
      "           1       0.78      0.70      0.74       114\n",
      "\n",
      "    accuracy                           0.79       267\n",
      "   macro avg       0.79      0.78      0.78       267\n",
      "weighted avg       0.79      0.79      0.79       267\n",
      "\n"
     ]
    }
   ],
   "source": [
    "print(classification_report(y_test,predictions))"
   ]
  },
  {
   "cell_type": "markdown",
   "metadata": {},
   "source": [
    "### Grid Search e Cross Validation"
   ]
  },
  {
   "cell_type": "markdown",
   "metadata": {},
   "source": [
    "Aplique apenas [CV](https://scikit-learn.org/stable/modules/generated/sklearn.model_selection.cross_val_score.html#sklearn.model_selection.cross_val_score) e verifique se a métrica de avaliação considerada ainda permanece a mesma."
   ]
  },
  {
   "cell_type": "code",
   "execution_count": 35,
   "metadata": {},
   "outputs": [
    {
     "name": "stdout",
     "output_type": "stream",
     "text": [
      "New F1-Score [0.819738   0.80011521 0.79885278 0.7642757  0.71704382]\n",
      "New F1-Score 0.780005100100194\n"
     ]
    }
   ],
   "source": [
    "from sklearn.model_selection import cross_val_score\n",
    "scores = cross_val_score(estimator=dtc, X=X_train, y=y_train, scoring='f1_weighted', cv=5)\n",
    "print('New F1-Score', scores)\n",
    "print('New F1-Score', scores.mean())"
   ]
  },
  {
   "cell_type": "markdown",
   "metadata": {},
   "source": [
    "- **Resposta:** A métrica F1 é diminuída em 1% após o processo de cross-validation"
   ]
  },
  {
   "cell_type": "markdown",
   "metadata": {},
   "source": [
    "Selecione dois hiperparâmetros, discuta a importância destes com seu colega"
   ]
  },
  {
   "cell_type": "markdown",
   "metadata": {},
   "source": [
    "- **Resposta:** Os paramêtros selecionados são: profundidade da árvore e número mínimo de amostras para realizar split de um nó ambos paramêtros contruibuem para o overfitting do modelo. Quanto mais profunda a árvore mais específico será o resultado para os dados treinados, esse mesmo comportamento acontece para valores muito baixo de **min_samples_split**"
   ]
  },
  {
   "cell_type": "markdown",
   "metadata": {},
   "source": [
    "Defina variações destes hiperparâmetros e aplique o processo de [Grid Search](https://scikit-learn.org/stable/modules/generated/sklearn.model_selection.GridSearchCV.html)"
   ]
  },
  {
   "cell_type": "code",
   "execution_count": 36,
   "metadata": {},
   "outputs": [],
   "source": [
    "from sklearn.model_selection import GridSearchCV"
   ]
  },
  {
   "cell_type": "code",
   "execution_count": 37,
   "metadata": {},
   "outputs": [],
   "source": [
    "parameters = {'min_samples_leaf':[3,5,7,10], \n",
    "              'min_samples_split':[3,5,7,10], \n",
    "              'max_depth':[6,10,15,20], \n",
    "              'random_state': [RANDOM_STATE]}\n",
    "clf = GridSearchCV(dtc, parameters, cv=5, scoring='f1')\n",
    "model = clf.fit(X_train, y_train)\n",
    "best_estimator = model.best_estimator_"
   ]
  },
  {
   "cell_type": "code",
   "execution_count": 38,
   "metadata": {},
   "outputs": [
    {
     "data": {
      "text/plain": [
       "DecisionTreeClassifier(class_weight=None, criterion='gini', max_depth=10,\n",
       "                       max_features=None, max_leaf_nodes=None,\n",
       "                       min_impurity_decrease=0.0, min_impurity_split=None,\n",
       "                       min_samples_leaf=7, min_samples_split=3,\n",
       "                       min_weight_fraction_leaf=0.0, presort=False,\n",
       "                       random_state=16, splitter='best')"
      ]
     },
     "execution_count": 38,
     "metadata": {},
     "output_type": "execute_result"
    }
   ],
   "source": [
    "best_estimator"
   ]
  },
  {
   "cell_type": "code",
   "execution_count": 39,
   "metadata": {},
   "outputs": [
    {
     "name": "stdout",
     "output_type": "stream",
     "text": [
      "              precision    recall  f1-score   support\n",
      "\n",
      "           0       0.83      0.89      0.86       153\n",
      "           1       0.84      0.76      0.80       114\n",
      "\n",
      "    accuracy                           0.84       267\n",
      "   macro avg       0.84      0.83      0.83       267\n",
      "weighted avg       0.84      0.84      0.83       267\n",
      "\n"
     ]
    }
   ],
   "source": [
    "predictions = best_estimator.predict(X_test)\n",
    "print(classification_report(y_test,predictions))"
   ]
  },
  {
   "cell_type": "markdown",
   "metadata": {},
   "source": [
    "#### Aplique Grid Search e cross validation. Por padrão o Grid Search já aplica CV. O objetivo deste exercício é você se familiarizar com as possibilidades existentes de experimentação. Leia o [ShuffleSplit](https://scikit-learn.org/stable/modules/generated/sklearn.model_selection.ShuffleSplit.html#sklearn.model_selection.ShuffleSplit) e [StratifiedShuffleSplit](https://scikit-learn.org/stable/modules/generated/sklearn.model_selection.StratifiedShuffleSplit.html).\n",
    "* *Desafio:* Aplique o shuffle considerando o balanceamento das classes"
   ]
  },
  {
   "cell_type": "code",
   "execution_count": 40,
   "metadata": {},
   "outputs": [
    {
     "name": "stdout",
     "output_type": "stream",
     "text": [
      "              precision    recall  f1-score   support\n",
      "\n",
      "           0       0.80      0.92      0.85       153\n",
      "           1       0.86      0.69      0.77       114\n",
      "\n",
      "    accuracy                           0.82       267\n",
      "   macro avg       0.83      0.80      0.81       267\n",
      "weighted avg       0.83      0.82      0.82       267\n",
      "\n"
     ]
    }
   ],
   "source": [
    "from sklearn.model_selection import StratifiedShuffleSplit\n",
    "parameters = {'min_samples_leaf':[3,5,7,10], \n",
    "              'min_samples_split':[3,5,7,10], \n",
    "              'max_depth':[6,10,15,20], \n",
    "              'random_state': [RANDOM_STATE]}\n",
    "cv = StratifiedShuffleSplit(n_splits=5, random_state=RANDOM_STATE)\n",
    "clf = GridSearchCV(dtc, parameters, cv=cv, scoring='f1')\n",
    "model = clf.fit(X_train, y_train)\n",
    "best_estimator = model.best_estimator_\n",
    "predictions = best_estimator.predict(X_test)\n",
    "print(classification_report(y_test,predictions))"
   ]
  },
  {
   "cell_type": "markdown",
   "metadata": {},
   "source": [
    "Quais os benefícios de utilizar as técnicas de CV e Grid Search na construção de um modelo?"
   ]
  },
  {
   "cell_type": "markdown",
   "metadata": {},
   "source": [
    "- **Resposta**: O benefício de utilizar validação cruzada no gridSearch é permitir que o modelo seja avaliado ainda em sua fase de construção, treinamento, podendo posteriormente ser avaliado com uma nova amostra de dados, por exemplo com um conjunto de testes. Logo, esta prática já fornece um modelo minimamente avaliado com amostras que não fizeram parte do seu treinamento, tornando mais válida sua forma de avaliar o modelo considerando a métrica que é analisada no processo de treinamento."
   ]
  },
  {
   "cell_type": "markdown",
   "metadata": {},
   "source": [
    "### Curvas de aprendizagem"
   ]
  },
  {
   "cell_type": "code",
   "execution_count": 56,
   "metadata": {},
   "outputs": [],
   "source": [
    "from sklearn.model_selection import learning_curve\n",
    "from sklearn.model_selection import validation_curve\n",
    "from sklearn.model_selection import ShuffleSplit"
   ]
  },
  {
   "cell_type": "markdown",
   "metadata": {},
   "source": [
    "Construa uma [curva de aprendizagem](https://scikit-learn.org/stable/auto_examples/model_selection/plot_learning_curve.html) considerando o número de amostras existentes na construção do seu modelo. Se preferir use a função abaixo."
   ]
  },
  {
   "cell_type": "code",
   "execution_count": 57,
   "metadata": {},
   "outputs": [],
   "source": [
    "def plot_learning_curve(estimator, title, X, y,):\n",
    "    \n",
    "    cv = ShuffleSplit(n_splits=10, test_size=0.2, random_state=0)\n",
    "    ylim=(0.7, 1.01)\n",
    "    n_jobs=1\n",
    "    train_sizes=np.linspace(.1, 1.0, 5)\n",
    "\n",
    "    plt.figure()\n",
    "    plt.title(title)\n",
    "    plt.ylim(*ylim)\n",
    "    plt.xlabel(\"Training examples\")\n",
    "    plt.ylabel(\"Score\")\n",
    "    train_sizes, train_scores, test_scores = learning_curve(\n",
    "        estimator, X, y, cv=cv, n_jobs=n_jobs, train_sizes=train_sizes)\n",
    "    train_scores_mean = np.mean(train_scores, axis=1)\n",
    "    train_scores_std = np.std(train_scores, axis=1)\n",
    "    test_scores_mean = np.mean(test_scores, axis=1)\n",
    "    test_scores_std = np.std(test_scores, axis=1)\n",
    "    plt.grid()\n",
    "\n",
    "    plt.fill_between(train_sizes, train_scores_mean - train_scores_std,\n",
    "                     train_scores_mean + train_scores_std, alpha=0.1,\n",
    "                     color=\"r\")\n",
    "    plt.fill_between(train_sizes, test_scores_mean - test_scores_std,\n",
    "                     test_scores_mean + test_scores_std, alpha=0.1, color=\"g\")\n",
    "    plt.plot(train_sizes, train_scores_mean, 'o-', color=\"r\",\n",
    "             label=\"Training score\")\n",
    "    plt.plot(train_sizes, test_scores_mean, 'o-', color=\"g\",\n",
    "             label=\"Cross-validation score\")\n",
    "\n",
    "    plt.legend(loc=\"best\")\n",
    "    return plt"
   ]
  },
  {
   "cell_type": "markdown",
   "metadata": {},
   "source": [
    "Qual o número ideal de amostras para construção do modelo?"
   ]
  },
  {
   "cell_type": "markdown",
   "metadata": {},
   "source": [
    "- **Resposta:** Observando os gráficos abaixo percebemos que o número de amostras depende de vários fatores, inclusive do processo de engenharia de features aplicada. No primeiro gráfico considerando todas as features percebemos que quanto mais amostras melhor. No segundo gráfico percebemos que o número ideal é 400, pois a partir desse número o modelo se estabiliza."
   ]
  },
  {
   "cell_type": "code",
   "execution_count": null,
   "metadata": {},
   "outputs": [],
   "source": [
    "X=train.drop(['Survived'], axis=1)\n",
    "New_X = train[['Prenome_ Mr', 'Age', 'Z_Fare', 'Class_3']]\n",
    "y=train['Survived']"
   ]
  },
  {
   "cell_type": "code",
   "execution_count": 66,
   "metadata": {},
   "outputs": [
    {
     "data": {
      "image/png": "[encoded data removed]",
      "text/plain": [
       "<Figure size 432x288 with 1 Axes>"
      ]
     },
     "metadata": {
      "needs_background": "light"
     },
     "output_type": "display_data"
    }
   ],
   "source": [
    "title = \"Learning Curves (Decision Tree)\"\n",
    "a = plot_learning_curve(dtc, title, X, y)"
   ]
  },
  {
   "cell_type": "code",
   "execution_count": 67,
   "metadata": {},
   "outputs": [
    {
     "data": {
      "image/png": "[encoded data removed]",
      "text/plain": [
       "<Figure size 432x288 with 1 Axes>"
      ]
     },
     "metadata": {
      "needs_background": "light"
     },
     "output_type": "display_data"
    }
   ],
   "source": [
    "title = \"Learning Curves (Decision Tree)\"\n",
    "a = plot_learning_curve(dtc, title, New_X, y)"
   ]
  },
  {
   "cell_type": "markdown",
   "metadata": {},
   "source": [
    "Análise o impacto do underfitting e underfitting considerando variações nos hiperparâmetros que você selecionou no processo do Grid Search. Utilize [curvas de validação](https://scikit-learn.org/stable/modules/generated/sklearn.model_selection.validation_curve.html). Se preferir use a função abaixo."
   ]
  },
  {
   "cell_type": "code",
   "execution_count": 69,
   "metadata": {},
   "outputs": [],
   "source": [
    "def model_complexity(estimator, title, param_name, values_param, scoring, X, y):\n",
    "    \"\"\" Calculates the performance of the model as model complexity increases.\n",
    "        The learning and testing errors rates are then plotted. \"\"\"\n",
    "    \n",
    "    # Create 10 cross-validation sets for training and testing\n",
    "    cv = ShuffleSplit(n_splits=10, test_size=0.2, random_state=0)\n",
    "\n",
    "    # Vary the max_depth parameter from 1 to 10\n",
    "\n",
    "    # Calculate the training and testing scores\n",
    "    train_scores, test_scores = validation_curve(estimator, X, y, \\\n",
    "        param_name = param_name, param_range = values_param, cv = cv, scoring = scoring)\n",
    "\n",
    "    # Find the mean and standard deviation for smoothing\n",
    "    train_mean = np.mean(train_scores, axis=1)\n",
    "    train_std = np.std(train_scores, axis=1)\n",
    "    test_mean = np.mean(test_scores, axis=1)\n",
    "    test_std = np.std(test_scores, axis=1)\n",
    "\n",
    "    # Plot the validation curve\n",
    "    plt.figure(figsize=(7, 5))\n",
    "    ylim=(0.7, 1.01)\n",
    "    plt.ylim(*ylim)\n",
    "    plt.title(title)\n",
    "    plt.grid()\n",
    "    plt.plot(values_param, train_mean, 'o-', color = 'r', label = 'Training Score')\n",
    "    plt.plot(values_param, test_mean, 'o-', color = 'g', label = 'Validation Score')\n",
    "    plt.fill_between(values_param, train_mean - train_std, \\\n",
    "        train_mean + train_std, alpha = 0.15, color = 'r')\n",
    "    plt.fill_between(values_param, test_mean - test_std, \\\n",
    "        test_mean + test_std, alpha = 0.15, color = 'g')\n",
    "    \n",
    "    # Visual aesthetics\n",
    "    plt.legend(loc = 'lower right')\n",
    "    plt.xlabel('Maximum Depth')\n",
    "    plt.ylabel('Score')\n",
    "    plt.ylim([-0.05,1.05])\n",
    "    plt.show()"
   ]
  },
  {
   "cell_type": "code",
   "execution_count": 70,
   "metadata": {},
   "outputs": [
    {
     "data": {
      "image/png": "[encoded data removed]",
      "text/plain": [
       "<Figure size 504x360 with 1 Axes>"
      ]
     },
     "metadata": {
      "needs_background": "light"
     },
     "output_type": "display_data"
    }
   ],
   "source": [
    "param_name='max_depth'\n",
    "values_param = np.arange(1,11)\n",
    "scoring='accuracy'\n",
    "title='Decision Tree Regressor Complexity Performance'\n",
    "model_complexity(dtc, title, param_name, values_param, scoring, X, y)"
   ]
  },
  {
   "cell_type": "markdown",
   "metadata": {},
   "source": [
    "### Equilíbrio entre viés e variância"
   ]
  },
  {
   "cell_type": "markdown",
   "metadata": {},
   "source": [
    "Qual o valor ideal para cada hiperparametro, ou seja, quais valores criam um modelo que melhor generaliza um amostras futuras desconhecidas considerando a analise visual?"
   ]
  },
  {
   "cell_type": "markdown",
   "metadata": {},
   "source": [
    "- **Resposta:** Considerando o gráfico anterior a melhor altura da árvore é quando a árvore atinge profundidade 4, pois a partir\n",
    "desse valor percebemos uma invariação na métrica de teste, mas ainda há crescimento na métrica do treinamento."
   ]
  },
  {
   "cell_type": "markdown",
   "metadata": {},
   "source": [
    "Quando o modelo é treinado com um valor muito baixo para o parametro definido, ele sofre com *underfitting* ou *overfitting*?\n",
    "**Dica:** Como você sabe que um modelo está experimentando viés alto ou variância alta? Viés alto é um sinal de *underfitting* e alta variância é um sinal de *overfitting*. Identifique a qual parte do equilíbrio."
   ]
  },
  {
   "cell_type": "markdown",
   "metadata": {},
   "source": [
    "- **Resposta:** Com um valor muito baixo o modelo sofre de overfitting e muito alto é penalizado com o problema do overfitting, como podemos ver no gráfico"
   ]
  },
  {
   "cell_type": "markdown",
   "metadata": {},
   "source": [
    "E o que acontece quando o modelo é treinado com o valor máximo? Justificar suas conclusões analisando o gráfico."
   ]
  },
  {
   "cell_type": "markdown",
   "metadata": {},
   "source": [
    "- **Resposta:** Acontece o problema do overfitting. Justificado anteriormente ;)"
   ]
  },
  {
   "cell_type": "markdown",
   "metadata": {},
   "source": [
    "### Experimentos ..."
   ]
  },
  {
   "cell_type": "markdown",
   "metadata": {},
   "source": [
    "**Será que é necessário utilizar todas as features dos dados para atingir o valor de uma determinada KPI(Key Performance Indicator)?**"
   ]
  },
  {
   "cell_type": "markdown",
   "metadata": {},
   "source": [
    "Desenvolva uma código de experimentação para analisar o impacto de cada atributo na construção de um modelo (visto até agora) considerando uma métrica definida por você e descubra qual o melhor subset de features. ***Aplique o método wrapper.***. Olha [a dica do Batman](https://machinelearningmastery.com/feature-selection-in-python-with-scikit-learn/)"
   ]
  },
  {
   "cell_type": "markdown",
   "metadata": {},
   "source": [
    "- **Resposta:** No exercício de classificação percebemos que as features que trazem o maior ganho de informação é este subconjunto ('Prenome_ Mr', 'Age', 'Z_Fare', 'Class_3'), porém ao aplicarmos o método Wrapper teremos uma visão mais de que mais experimentações podem ser realizadas nesse aspecto. O mesmo experimento pode ser realizado para outros modelos, estimadores."
   ]
  },
  {
   "cell_type": "code",
   "execution_count": 44,
   "metadata": {},
   "outputs": [
    {
     "name": "stdout",
     "output_type": "stream",
     "text": [
      "['Age' 'SibSp' 'Parch' 'Gender_male' 'Embarked_C' 'Embarked_Q'\n",
      " 'Embarked_S' 'Class_1' 'Class_2' 'Class_3' 'Z_Fare' 'Prenome_ Capt'\n",
      " 'Prenome_ Col' 'Prenome_ Don' 'Prenome_ Dr' 'Prenome_ Jonkheer'\n",
      " 'Prenome_ Lady' 'Prenome_ Major' 'Prenome_ Master' 'Prenome_ Miss'\n",
      " 'Prenome_ Mlle' 'Prenome_ Mme' 'Prenome_ Mr' 'Prenome_ Mrs'\n",
      " 'Prenome_ Rev' 'Ticket_1_4' 'Ticket_1_5' 'Ticket_1_6' 'Ticket_2_4'\n",
      " 'Ticket_2_5' 'Ticket_2_6' 'Ticket_3_6' 'Ticket_5_5' 'Ticket_6_3'\n",
      " 'Ticket_6_4' 'Ticket_6_5' 'Ticket_7_4' 'Ticket_8_4' 'Ticket_9_4'\n",
      " 'Ticket_A_10' 'Ticket_A_8' 'Ticket_A_9' 'Ticket_C_10' 'Ticket_C_16'\n",
      " 'Ticket_C_6' 'Ticket_C_7' 'Ticket_C_8' 'Ticket_C_9' 'Ticket_F_10'\n",
      " 'Ticket_F_12' 'Ticket_F_9' 'Ticket_L_4' 'Ticket_S_11' 'Ticket_S_12'\n",
      " 'Ticket_S_13' 'Ticket_S_15' 'Ticket_S_16' 'Ticket_S_17' 'Ticket_S_18'\n",
      " 'Ticket_S_7' 'Ticket_S_9' 'Ticket_W_10']\n",
      "[0.6274986  0.7046747  0.75513979 0.78192269 0.78149477 0.78941273\n",
      " 0.76730799 0.77485078 0.76091025 0.77875615 0.7802007  0.77927428\n",
      " 0.76453443 0.76508441 0.77431573 0.7631169  0.77634711 0.77756273\n",
      " 0.77835415 0.77697974 0.77828326 0.77097646 0.7690839  0.76871267\n",
      " 0.76993151 0.77572531 0.78365487 0.77910854 0.77584468 0.77770634\n",
      " 0.78162769 0.78397366 0.78183055 0.77065388 0.78187554 0.78380581\n",
      " 0.77374455 0.78473457 0.77379949 0.7809865  0.77428056 0.77899442\n",
      " 0.78408683 0.77843502 0.77228128 0.77494182 0.77944335 0.77638769\n",
      " 0.77654287 0.77000981 0.77104786 0.77789684 0.77937293 0.78298643\n",
      " 0.76958802 0.77066125 0.77460805 0.7761855  0.77464084 0.77959769\n",
      " 0.7765552  0.7933363  0.77254299 0.77613536 0.77329509 0.77786319\n",
      " 0.77663235 0.78412609 0.76097653 0.77029562 0.77502826 0.77952952\n",
      " 0.78692243 0.78154925 0.77724591 0.7800051 ]\n",
      "Optimal number of features : 62\n"
     ]
    },
    {
     "data": {
      "image/png": "[encoded data removed]",
      "text/plain": [
       "<Figure size 432x288 with 1 Axes>"
      ]
     },
     "metadata": {
      "needs_background": "light"
     },
     "output_type": "display_data"
    }
   ],
   "source": [
    "import matplotlib.pyplot as plt\n",
    "from sklearn.model_selection import StratifiedKFold\n",
    "from sklearn.feature_selection import RFECV\n",
    "\n",
    "# The \"f1\" scoring is proportional to the number of correct\n",
    "# classifications\n",
    "rfecv = RFECV(estimator=dtc, step=1, cv=StratifiedKFold(5), \n",
    "              scoring='f1_weighted')\n",
    "rfecv = rfecv.fit(X_train, y_train)\n",
    "\n",
    "print(X_train.columns.values[rfecv.support_])\n",
    "print(rfecv.grid_scores_)\n",
    "\n",
    "print(\"Optimal number of features : %d\" % rfecv.n_features_)\n",
    "\n",
    "# Plot number of features VS. cross-validation scores\n",
    "plt.figure()\n",
    "plt.xlabel(\"Number of features selected\")\n",
    "plt.ylabel(\"Cross validation score (nb of correct classifications)\")\n",
    "plt.plot(range(1, len(rfecv.grid_scores_) + 1), rfecv.grid_scores_)\n",
    "plt.show()"
   ]
  },
  {
   "cell_type": "code",
   "execution_count": 49,
   "metadata": {},
   "outputs": [],
   "source": [
    "from sklearn.feature_selection import RFE\n",
    "# create the RFE model and select 3 attributes\n",
    "feat_selector = RFE(estimator=dtc, n_features_to_select=5, step=1)\n",
    "feat_selector = feat_selector.fit(X_train, y_train)"
   ]
  },
  {
   "cell_type": "code",
   "execution_count": 51,
   "metadata": {},
   "outputs": [
    {
     "name": "stdout",
     "output_type": "stream",
     "text": [
      "['Age' 'SibSp' 'Class_3' 'Z_Fare' 'Prenome_ Mr']\n"
     ]
    }
   ],
   "source": [
    "# check selected features\n",
    "features_bool = np.array(feat_selector.support_)\n",
    "features = np.array(X_train.columns)\n",
    "result = features[features_bool]\n",
    "print(result)"
   ]
  },
  {
   "cell_type": "code",
   "execution_count": 52,
   "metadata": {},
   "outputs": [
    {
     "name": "stdout",
     "output_type": "stream",
     "text": [
      "[ 1  1  9 18  3 24 20 22 17  1  1 36 38 42  5 40 46 47 35  6 45 56  1 57\n",
      " 60  2 64 65  7  4 48 49 52 14 66 68  8 72 71 63 31 27 23 15 30 25 26 37\n",
      " 13 53 43 51 32 33 34 28 39 55 58 50 59 62 67 61 54 44 41 12 16 10 19 29\n",
      " 21 11 69 70]\n"
     ]
    }
   ],
   "source": [
    "# check ranking of features\n",
    "features_rank = feat_selector.ranking_\n",
    "print(features_rank)"
   ]
  },
  {
   "cell_type": "markdown",
   "metadata": {},
   "source": [
    "Plot a evolução da métrica a medida que os novos dados são adicionados"
   ]
  },
  {
   "cell_type": "code",
   "execution_count": 64,
   "metadata": {},
   "outputs": [
    {
     "name": "stdout",
     "output_type": "stream",
     "text": [
      "[{'#features': 33, 'score': 0.7465437788018434}, {'#features': 31, 'score': 0.7454545454545455}, {'#features': 65, 'score': 0.7441860465116279}, {'#features': 44, 'score': 0.7407407407407408}, {'#features': 51, 'score': 0.7407407407407408}, {'#features': 76, 'score': 0.7407407407407408}, {'#features': 67, 'score': 0.7383177570093459}, {'#features': 36, 'score': 0.7373271889400922}, {'#features': 34, 'score': 0.7348837209302326}, {'#features': 69, 'score': 0.7348837209302326}, {'#features': 10, 'score': 0.7326732673267327}, {'#features': 37, 'score': 0.732394366197183}, {'#features': 52, 'score': 0.732394366197183}, {'#features': 58, 'score': 0.732394366197183}, {'#features': 64, 'score': 0.732394366197183}, {'#features': 47, 'score': 0.7314814814814816}, {'#features': 28, 'score': 0.7297297297297298}, {'#features': 18, 'score': 0.7289719626168225}, {'#features': 38, 'score': 0.7289719626168225}, {'#features': 49, 'score': 0.7264150943396226}, {'#features': 66, 'score': 0.7264150943396226}, {'#features': 9, 'score': 0.72636815920398}, {'#features': 39, 'score': 0.7255813953488371}, {'#features': 40, 'score': 0.7255813953488371}, {'#features': 42, 'score': 0.7255813953488371}, {'#features': 43, 'score': 0.7255813953488371}, {'#features': 45, 'score': 0.7255813953488371}, {'#features': 46, 'score': 0.7255813953488371}, {'#features': 71, 'score': 0.7255813953488371}, {'#features': 74, 'score': 0.7255813953488371}, {'#features': 41, 'score': 0.7230046948356809}, {'#features': 50, 'score': 0.7230046948356809}, {'#features': 53, 'score': 0.7230046948356809}, {'#features': 55, 'score': 0.7230046948356809}, {'#features': 61, 'score': 0.7230046948356809}, {'#features': 62, 'score': 0.7230046948356809}, {'#features': 68, 'score': 0.7230046948356809}, {'#features': 73, 'score': 0.7230046948356809}, {'#features': 12, 'score': 0.7222222222222222}, {'#features': 32, 'score': 0.7222222222222222}, {'#features': 35, 'score': 0.7222222222222222}, {'#features': 15, 'score': 0.7203791469194312}, {'#features': 60, 'score': 0.7203791469194312}, {'#features': 63, 'score': 0.7203791469194312}, {'#features': 19, 'score': 0.719626168224299}, {'#features': 27, 'score': 0.719626168224299}, {'#features': 72, 'score': 0.719626168224299}, {'#features': 59, 'score': 0.7169811320754716}, {'#features': 30, 'score': 0.7162790697674419}, {'#features': 48, 'score': 0.7162790697674419}, {'#features': 70, 'score': 0.7136150234741783}, {'#features': 75, 'score': 0.7136150234741783}, {'#features': 56, 'score': 0.7109004739336494}, {'#features': 25, 'score': 0.7102803738317756}, {'#features': 11, 'score': 0.7069767441860464}, {'#features': 16, 'score': 0.7047619047619048}, {'#features': 23, 'score': 0.7047619047619048}, {'#features': 57, 'score': 0.7047619047619048}, {'#features': 8, 'score': 0.7035175879396985}, {'#features': 26, 'score': 0.7031963470319634}, {'#features': 21, 'score': 0.7009345794392524}, {'#features': 14, 'score': 0.6985645933014354}, {'#features': 17, 'score': 0.6981132075471698}, {'#features': 54, 'score': 0.6952380952380952}, {'#features': 22, 'score': 0.6915887850467289}, {'#features': 24, 'score': 0.6915887850467289}, {'#features': 13, 'score': 0.6886792452830189}, {'#features': 29, 'score': 0.6824644549763033}, {'#features': 6, 'score': 0.67}, {'#features': 20, 'score': 0.6666666666666667}, {'#features': 7, 'score': 0.6567164179104478}, {'#features': 5, 'score': 0.6532663316582914}, {'#features': 4, 'score': 0.6415094339622641}, {'#features': 3, 'score': 0.41988950276243087}, {'#features': 2, 'score': 0.31707317073170727}, {'#features': 1, 'score': 0.22535211267605634}]\n"
     ]
    }
   ],
   "source": [
    "features = X_train.columns\n",
    "features_select = []\n",
    "report = []\n",
    "for f in features:\n",
    "    features_select.append(f)\n",
    "    dtc.fit(X_train[features_select], y_train) #Treinando o modelo \n",
    "    predictions = dtc.predict(X_test[features_select]) #Realizando predições\n",
    "    number_of_features = len(features_select)\n",
    "    score = f1_score(y_test, predictions)\n",
    "    #print('Features: ', number_of_features, \"F1-score\", score)\n",
    "    report.append({'#features': number_of_features, 'score': score}) \n",
    "    #print(X[f].head())\n",
    "\n",
    "print(sorted(report, key = lambda i: i['score'], reverse=True))"
   ]
  },
  {
   "cell_type": "markdown",
   "metadata": {},
   "source": [
    "**Selecione no mínimo mais duas soluções candidatas, crie novos experimentos e  crie uma tabela com os resultados. Você pode variar o número de amostrar, o subset de features, ...**"
   ]
  },
  {
   "cell_type": "markdown",
   "metadata": {},
   "source": [
    "Experimentos solução I"
   ]
  },
  {
   "cell_type": "code",
   "execution_count": 107,
   "metadata": {},
   "outputs": [
    {
     "data": {
      "text/plain": [
       "0.7609756097560977"
      ]
     },
     "execution_count": 107,
     "metadata": {},
     "output_type": "execute_result"
    }
   ],
   "source": [
    "rf = RandomForestClassifier(random_state=RANDOM_STATE)\n",
    "rf.fit(X_train, y_train)\n",
    "predictions = rf.predict(X_test)\n",
    "f1_score(y_test, predictions)"
   ]
  },
  {
   "cell_type": "markdown",
   "metadata": {},
   "source": [
    "Experimentos solução II"
   ]
  },
  {
   "cell_type": "code",
   "execution_count": 109,
   "metadata": {},
   "outputs": [
    {
     "data": {
      "text/plain": [
       "0.7157894736842104"
      ]
     },
     "execution_count": 109,
     "metadata": {},
     "output_type": "execute_result"
    }
   ],
   "source": [
    "knn = KNeighborsClassifier()\n",
    "knn.fit(X_train, y_train)\n",
    "predictions = knn.predict(X_test)\n",
    "f1_score(y_test, predictions)"
   ]
  },
  {
   "cell_type": "markdown",
   "metadata": {},
   "source": [
    "Tabela com os resultados"
   ]
  },
  {
   "cell_type": "markdown",
   "metadata": {},
   "source": [
    "**Resposta:** Considerando estes simples experimentos com todas as amostras temos os seguintes resultados. Observe que as análises de overfitting e undeffiting não fizeram parte desta análise, embora tenham sido feitas anteriormente para o modelo de árvore de decisão.\n",
    " - KNN: ~71,5%\n",
    " - Random Forest: ~77%\n",
    " - Árvore de decisão: ~79%"
   ]
  }
 ],
 "metadata": {
  "kernelspec": {
   "display_name": "Python 3",
   "language": "python",
   "name": "python3"
  },
  "language_info": {
   "codemirror_mode": {
    "name": "ipython",
    "version": 3
   },
   "file_extension": ".py",
   "mimetype": "text/x-python",
   "name": "python",
   "nbconvert_exporter": "python",
   "pygments_lexer": "ipython3",
   "version": "3.7.3"
  }
 },
 "nbformat": 4,
 "nbformat_minor": 2
}
