{
 "cells": [
  {
   "cell_type": "markdown",
   "metadata": {},
   "source": [
    "![title](https://doity.com.br/media/doity/eventos/evento-20025-logo_organizador.png)\n",
    "\n",
    "# Prova de Descoberta do Conhecimento\n",
    "\n",
    "* **Prof. Cleilton Lima Rocha**\n",
    "* **emails:** climarocha@gmail.com\n",
    "* **deadline: 11/11 às 12h**"
   ]
  },
  {
   "cell_type": "markdown",
   "metadata": {},
   "source": [
    "Para este projeto exploraremos os dados Call_Data disponível disponível na pasta.\n",
    "\n",
    "\n",
    "Para facilitar a administração da segurança pública, o Departamento de Polícia de Seattle dividiu a cidade em 5 partes, cada uma com uma delegacia. Cada delegacia foi subdividida em setores, e estes foram divididos em beats (hondas). A administração tem um dataset chamado Call_Data, para obter maiores informações acesse este [link](https://data.seattle.gov/Public-Safety/Call-Data/33kz-ixgy).\n",
    "\n",
    "O objetivo do nosso projeto é apoiar os policiais quanto as medidas prescritivas que eles devem tomar ao tentarem resolver uma chamada. Para isto eles têm disponível o histórico de tudo o que já foi resolvido, por ele e por seus colegas, e sua solução de Data Science capaz de prever a variável alvo da nossa prova será **Event Clearance Description**.\n",
    "\n",
    "Boa prova e hands on!\n",
    "\n",
    "**PS.:**\n",
    "* Quando houver necessidade de splitar os dados aplique a proporção 70 para treino e 30 para teste\n",
    "* Quando houver necessidade de utilizar o random_state defina o valor 100\n",
    "* O título do email deve ser \"Prova KDD - Turma 3 - [Membros da equipe]\"\n",
    "* Envie o código fonte e o report (File ==> Download As ==> Html ou PDF), com o nome dos membros da dupla, para um dos meus emails, climarocha@gmail.com até o dia **11/11 às 12h**."
   ]
  },
  {
   "cell_type": "markdown",
   "metadata": {},
   "source": [
    "# Questões"
   ]
  },
  {
   "cell_type": "markdown",
   "metadata": {},
   "source": [
    "* **1. Importe o data set *call_data.csv* e considere a variável alvo 'Event Clearance Description'(0,5 pontos)** \n",
    "     * 1.1. Como está o balanceamento das classes?*\n",
    "     * P.S.: Não é obrigatório aplicar o undersampling and oversampling sobre o dataset\n",
    "     * P.S.: Se desejar você pode usar o dataset **call_data_small.csv** apenas pra agilizar o desenvolvimento no final tudo deve ser realizado com o **call_data.csv**"
   ]
  },
  {
   "cell_type": "code",
   "execution_count": 1,
   "metadata": {},
   "outputs": [],
   "source": [
    "import warnings\n",
    "warnings.filterwarnings('ignore')"
   ]
  },
  {
   "cell_type": "code",
   "execution_count": 2,
   "metadata": {},
   "outputs": [],
   "source": [
    "import pandas as pd"
   ]
  },
  {
   "cell_type": "code",
   "execution_count": 3,
   "metadata": {},
   "outputs": [],
   "source": [
    "call_data = pd.read_csv('call_data.csv')"
   ]
  },
  {
   "cell_type": "markdown",
   "metadata": {},
   "source": [
    "**2. Realize o EDA que você julgar necessário (análise exploratória dos dados), o objetivo do EDA é mostrar alguns insights sobre os dados (1,0 pontos)**\n",
    "   * PS.: Utilize recursos visuais, por exemplo gráficos"
   ]
  },
  {
   "cell_type": "code",
   "execution_count": 4,
   "metadata": {},
   "outputs": [
    {
     "name": "stdout",
     "output_type": "stream",
     "text": [
      "<class 'pandas.core.frame.DataFrame'>\n",
      "RangeIndex: 232442 entries, 0 to 232441\n",
      "Data columns (total 12 columns):\n",
      "Unnamed: 0                     232442 non-null int64\n",
      "CAD Event Number               232442 non-null int64\n",
      "Event Clearance Description    232442 non-null object\n",
      "Call Type                      232442 non-null object\n",
      "Priority                       232442 non-null int64\n",
      "Initial Call Type              232442 non-null object\n",
      "Final Call Type                232442 non-null object\n",
      "Original Time Queued           232442 non-null object\n",
      "Arrived Time                   232442 non-null object\n",
      "Precinct                       232442 non-null object\n",
      "Sector                         230892 non-null object\n",
      "Beat                           232442 non-null object\n",
      "dtypes: int64(3), object(9)\n",
      "memory usage: 21.3+ MB\n"
     ]
    }
   ],
   "source": [
    "call_data.info()"
   ]
  },
  {
   "cell_type": "code",
   "execution_count": 5,
   "metadata": {},
   "outputs": [
    {
     "data": {
      "text/html": [
       "<div>\n",
       "<style scoped>\n",
       "    .dataframe tbody tr th:only-of-type {\n",
       "        vertical-align: middle;\n",
       "    }\n",
       "\n",
       "    .dataframe tbody tr th {\n",
       "        vertical-align: top;\n",
       "    }\n",
       "\n",
       "    .dataframe thead th {\n",
       "        text-align: right;\n",
       "    }\n",
       "</style>\n",
       "<table border=\"1\" class=\"dataframe\">\n",
       "  <thead>\n",
       "    <tr style=\"text-align: right;\">\n",
       "      <th></th>\n",
       "      <th>Unnamed: 0</th>\n",
       "      <th>CAD Event Number</th>\n",
       "      <th>Event Clearance Description</th>\n",
       "      <th>Call Type</th>\n",
       "      <th>Priority</th>\n",
       "      <th>Initial Call Type</th>\n",
       "      <th>Final Call Type</th>\n",
       "      <th>Original Time Queued</th>\n",
       "      <th>Arrived Time</th>\n",
       "      <th>Precinct</th>\n",
       "      <th>Sector</th>\n",
       "      <th>Beat</th>\n",
       "    </tr>\n",
       "  </thead>\n",
       "  <tbody>\n",
       "    <tr>\n",
       "      <th>0</th>\n",
       "      <td>1</td>\n",
       "      <td>2009000189336</td>\n",
       "      <td>CITATION ISSUED (CRIMINAL OR NON-CRIMINAL)</td>\n",
       "      <td>TELEPHONE OTHER, NOT 911</td>\n",
       "      <td>3</td>\n",
       "      <td>TRAFFIC - BLOCKING ROADWAY</td>\n",
       "      <td>TRAFFIC - BLOCKING ROADWAY</td>\n",
       "      <td>06/02/2009 03:43:08 AM</td>\n",
       "      <td>Jun  2 2009 05:47:21:000AM</td>\n",
       "      <td>WEST</td>\n",
       "      <td>QUEEN</td>\n",
       "      <td>Q1</td>\n",
       "    </tr>\n",
       "    <tr>\n",
       "      <th>1</th>\n",
       "      <td>2</td>\n",
       "      <td>2009000189340</td>\n",
       "      <td>PROBLEM SOLVING PROJECT</td>\n",
       "      <td>ONVIEW</td>\n",
       "      <td>7</td>\n",
       "      <td>PREMISE CHECK, OFFICER INITIATED ONVIEW ONLY</td>\n",
       "      <td>PREMISE CHECK, OFFICER INITIATED ONVIEW ONLY</td>\n",
       "      <td>06/02/2009 03:47:24 AM</td>\n",
       "      <td>Jun  2 2009 03:47:24:000AM</td>\n",
       "      <td>WEST</td>\n",
       "      <td>KING</td>\n",
       "      <td>K1</td>\n",
       "    </tr>\n",
       "    <tr>\n",
       "      <th>2</th>\n",
       "      <td>5</td>\n",
       "      <td>2009000189344</td>\n",
       "      <td>UNABLE TO LOCATE INCIDENT OR COMPLAINANT</td>\n",
       "      <td>TELEPHONE OTHER, NOT 911</td>\n",
       "      <td>2</td>\n",
       "      <td>FIGHT - VERBAL/ORAL (NO WEAPONS)</td>\n",
       "      <td>--DISTURBANCE - OTHER</td>\n",
       "      <td>06/02/2009 03:53:00 AM</td>\n",
       "      <td>Jun  2 2009 04:21:52:000AM</td>\n",
       "      <td>NORTH</td>\n",
       "      <td>NORA</td>\n",
       "      <td>N3</td>\n",
       "    </tr>\n",
       "    <tr>\n",
       "      <th>3</th>\n",
       "      <td>6</td>\n",
       "      <td>2009000189345</td>\n",
       "      <td>REPORT WRITTEN (NO ARREST)</td>\n",
       "      <td>TELEPHONE OTHER, NOT 911</td>\n",
       "      <td>2</td>\n",
       "      <td>ACC - HIT AND RUN (NO INJURIES). INCLUDES IP/JO</td>\n",
       "      <td>--TRAFFIC - MV COLLISION INVESTIGATION</td>\n",
       "      <td>06/02/2009 03:54:42 AM</td>\n",
       "      <td>Jan  1 1900 12:00:00:000AM</td>\n",
       "      <td>SOUTH</td>\n",
       "      <td>OCEAN</td>\n",
       "      <td>O1</td>\n",
       "    </tr>\n",
       "    <tr>\n",
       "      <th>4</th>\n",
       "      <td>8</td>\n",
       "      <td>2009000189348</td>\n",
       "      <td>REPORT WRITTEN (NO ARREST)</td>\n",
       "      <td>ONVIEW</td>\n",
       "      <td>3</td>\n",
       "      <td>SUSPICIOUS PERSON, VEHICLE OR INCIDENT</td>\n",
       "      <td>--DISTURBANCE - OTHER</td>\n",
       "      <td>06/02/2009 03:58:02 AM</td>\n",
       "      <td>Jun  2 2009 03:58:02:000AM</td>\n",
       "      <td>WEST</td>\n",
       "      <td>KING</td>\n",
       "      <td>K2</td>\n",
       "    </tr>\n",
       "  </tbody>\n",
       "</table>\n",
       "</div>"
      ],
      "text/plain": [
       "   Unnamed: 0  CAD Event Number                 Event Clearance Description  \\\n",
       "0           1     2009000189336  CITATION ISSUED (CRIMINAL OR NON-CRIMINAL)   \n",
       "1           2     2009000189340                     PROBLEM SOLVING PROJECT   \n",
       "2           5     2009000189344    UNABLE TO LOCATE INCIDENT OR COMPLAINANT   \n",
       "3           6     2009000189345                  REPORT WRITTEN (NO ARREST)   \n",
       "4           8     2009000189348                  REPORT WRITTEN (NO ARREST)   \n",
       "\n",
       "                  Call Type  Priority  \\\n",
       "0  TELEPHONE OTHER, NOT 911         3   \n",
       "1                    ONVIEW         7   \n",
       "2  TELEPHONE OTHER, NOT 911         2   \n",
       "3  TELEPHONE OTHER, NOT 911         2   \n",
       "4                    ONVIEW         3   \n",
       "\n",
       "                                 Initial Call Type  \\\n",
       "0                       TRAFFIC - BLOCKING ROADWAY   \n",
       "1     PREMISE CHECK, OFFICER INITIATED ONVIEW ONLY   \n",
       "2                 FIGHT - VERBAL/ORAL (NO WEAPONS)   \n",
       "3  ACC - HIT AND RUN (NO INJURIES). INCLUDES IP/JO   \n",
       "4           SUSPICIOUS PERSON, VEHICLE OR INCIDENT   \n",
       "\n",
       "                                Final Call Type    Original Time Queued  \\\n",
       "0                    TRAFFIC - BLOCKING ROADWAY  06/02/2009 03:43:08 AM   \n",
       "1  PREMISE CHECK, OFFICER INITIATED ONVIEW ONLY  06/02/2009 03:47:24 AM   \n",
       "2                         --DISTURBANCE - OTHER  06/02/2009 03:53:00 AM   \n",
       "3        --TRAFFIC - MV COLLISION INVESTIGATION  06/02/2009 03:54:42 AM   \n",
       "4                         --DISTURBANCE - OTHER  06/02/2009 03:58:02 AM   \n",
       "\n",
       "                 Arrived Time Precinct Sector Beat  \n",
       "0  Jun  2 2009 05:47:21:000AM     WEST  QUEEN   Q1  \n",
       "1  Jun  2 2009 03:47:24:000AM     WEST   KING   K1  \n",
       "2  Jun  2 2009 04:21:52:000AM    NORTH   NORA   N3  \n",
       "3  Jan  1 1900 12:00:00:000AM    SOUTH  OCEAN   O1  \n",
       "4  Jun  2 2009 03:58:02:000AM     WEST   KING   K2  "
      ]
     },
     "execution_count": 5,
     "metadata": {},
     "output_type": "execute_result"
    }
   ],
   "source": [
    "call_data.head()"
   ]
  },
  {
   "cell_type": "code",
   "execution_count": 6,
   "metadata": {},
   "outputs": [],
   "source": [
    "import numpy as np\n",
    "import matplotlib.pyplot as plt\n",
    "import seaborn as sbn"
   ]
  },
  {
   "cell_type": "code",
   "execution_count": 7,
   "metadata": {},
   "outputs": [
    {
     "data": {
      "text/plain": [
       "<matplotlib.axes._subplots.AxesSubplot at 0x1dd8f200048>"
      ]
     },
     "execution_count": 7,
     "metadata": {},
     "output_type": "execute_result"
    },
    {
     "data": {
      "image/png": "[encoded data removed]",
      "text/plain": [
       "<Figure size 432x288 with 1 Axes>"
      ]
     },
     "metadata": {
      "needs_background": "light"
     },
     "output_type": "display_data"
    }
   ],
   "source": [
    "sbn.countplot(y='Event Clearance Description', data=call_data)"
   ]
  },
  {
   "cell_type": "markdown",
   "metadata": {},
   "source": [
    "- 1.1 As Classes de Event Clearance Description estão desbalanceadas."
   ]
  },
  {
   "cell_type": "code",
   "execution_count": 8,
   "metadata": {},
   "outputs": [
    {
     "data": {
      "text/plain": [
       "<matplotlib.axes._subplots.AxesSubplot at 0x1dd8f2965f8>"
      ]
     },
     "execution_count": 8,
     "metadata": {},
     "output_type": "execute_result"
    },
    {
     "data": {
      "image/png": "[encoded data removed]",
      "text/plain": [
       "<Figure size 1080x432 with 1 Axes>"
      ]
     },
     "metadata": {
      "needs_background": "light"
     },
     "output_type": "display_data"
    }
   ],
   "source": [
    "plt.figure(figsize = (15, 6))\n",
    "sbn.countplot(y='Event Clearance Description', hue='Call Type', data=call_data)"
   ]
  },
  {
   "cell_type": "code",
   "execution_count": 9,
   "metadata": {},
   "outputs": [
    {
     "name": "stdout",
     "output_type": "stream",
     "text": [
      "97.35 %\n"
     ]
    }
   ],
   "source": [
    "Percent_different_call_type = call_data[call_data['Initial Call Type'] != call_data['Final Call Type']].count() / call_data.count() * 100 \n",
    "print('%.2f' % Percent_different_call_type[0] + ' %')"
   ]
  },
  {
   "cell_type": "code",
   "execution_count": 10,
   "metadata": {},
   "outputs": [
    {
     "data": {
      "text/plain": [
       "<matplotlib.axes._subplots.AxesSubplot at 0x1dd8fdc5c18>"
      ]
     },
     "execution_count": 10,
     "metadata": {},
     "output_type": "execute_result"
    },
    {
     "data": {
      "image/png": "[encoded data removed]",
      "text/plain": [
       "<Figure size 432x288 with 1 Axes>"
      ]
     },
     "metadata": {
      "needs_background": "light"
     },
     "output_type": "display_data"
    }
   ],
   "source": [
    "sbn.countplot(x='Priority', data=call_data)"
   ]
  },
  {
   "cell_type": "code",
   "execution_count": 11,
   "metadata": {},
   "outputs": [
    {
     "data": {
      "text/plain": [
       "<matplotlib.axes._subplots.AxesSubplot at 0x1dd8fc4be48>"
      ]
     },
     "execution_count": 11,
     "metadata": {},
     "output_type": "execute_result"
    },
    {
     "data": {
      "image/png": "[encoded data removed]",
      "text/plain": [
       "<Figure size 432x288 with 1 Axes>"
      ]
     },
     "metadata": {
      "needs_background": "light"
     },
     "output_type": "display_data"
    }
   ],
   "source": [
    "sbn.countplot(y='Sector', data=call_data)"
   ]
  },
  {
   "cell_type": "markdown",
   "metadata": {},
   "source": [
    "**3. Realize o tratamento que você julgar mais adequado aos dados. (2,0 pontos)**\n",
    "  * P.S.: Explique, com suas palavras, porque o processo de feature engineering é necessário\n",
    "  * P.S.: A criação de um pipeline lhe dará pontos extras e melhorará o reaproveitamento de código"
   ]
  },
  {
   "cell_type": "code",
   "execution_count": 12,
   "metadata": {},
   "outputs": [],
   "source": [
    "import seaborn as sbn"
   ]
  },
  {
   "cell_type": "code",
   "execution_count": 13,
   "metadata": {},
   "outputs": [
    {
     "data": {
      "text/plain": [
       "<matplotlib.axes._subplots.AxesSubplot at 0x1dd8fcdea90>"
      ]
     },
     "execution_count": 13,
     "metadata": {},
     "output_type": "execute_result"
    },
    {
     "data": {
      "image/png": "[encoded data removed]",
      "text/plain": [
       "<Figure size 432x288 with 1 Axes>"
      ]
     },
     "metadata": {
      "needs_background": "light"
     },
     "output_type": "display_data"
    }
   ],
   "source": [
    "sbn.heatmap(data=call_data.isnull(), yticklabels=False, cbar=False)"
   ]
  },
  {
   "cell_type": "code",
   "execution_count": 14,
   "metadata": {},
   "outputs": [
    {
     "data": {
      "text/plain": [
       "Unnamed: 0                        0\n",
       "CAD Event Number                  0\n",
       "Event Clearance Description       0\n",
       "Call Type                         0\n",
       "Priority                          0\n",
       "Initial Call Type                 0\n",
       "Final Call Type                   0\n",
       "Original Time Queued              0\n",
       "Arrived Time                      0\n",
       "Precinct                          0\n",
       "Sector                         1550\n",
       "Beat                              0\n",
       "dtype: int64"
      ]
     },
     "execution_count": 14,
     "metadata": {},
     "output_type": "execute_result"
    }
   ],
   "source": [
    "len(call_data.index) - call_data.count()"
   ]
  },
  {
   "cell_type": "code",
   "execution_count": 15,
   "metadata": {},
   "outputs": [],
   "source": [
    "call_data.dropna(inplace=True) # Eliminar os registros nulos, pois sua quantidade não impacta estatisticamente na análise."
   ]
  },
  {
   "cell_type": "code",
   "execution_count": 16,
   "metadata": {},
   "outputs": [],
   "source": [
    "call_data = call_data.drop(columns=['Unnamed: 0', 'CAD Event Number', 'Arrived Time']) # Eliminar colunas com missing ocultos, pois não tem valor de negócio."
   ]
  },
  {
   "cell_type": "code",
   "execution_count": 17,
   "metadata": {},
   "outputs": [],
   "source": [
    "# Transforma a dimensão de tempo.\n",
    "data = pd.to_datetime(call_data['Original Time Queued'])\n",
    "call_data['Year'] = data.dt.year\n",
    "call_data['Month'] = data.dt.month\n",
    "call_data['Day'] = data.dt.day\n",
    "call_data['Weekday'] = data.dt.weekday\n",
    "call_data['Hour'] = data.dt.hour"
   ]
  },
  {
   "cell_type": "code",
   "execution_count": 18,
   "metadata": {},
   "outputs": [
    {
     "data": {
      "text/html": [
       "<div>\n",
       "<style scoped>\n",
       "    .dataframe tbody tr th:only-of-type {\n",
       "        vertical-align: middle;\n",
       "    }\n",
       "\n",
       "    .dataframe tbody tr th {\n",
       "        vertical-align: top;\n",
       "    }\n",
       "\n",
       "    .dataframe thead th {\n",
       "        text-align: right;\n",
       "    }\n",
       "</style>\n",
       "<table border=\"1\" class=\"dataframe\">\n",
       "  <thead>\n",
       "    <tr style=\"text-align: right;\">\n",
       "      <th></th>\n",
       "      <th>Event Clearance Description</th>\n",
       "      <th>Call Type</th>\n",
       "      <th>Priority</th>\n",
       "      <th>Initial Call Type</th>\n",
       "      <th>Final Call Type</th>\n",
       "      <th>Precinct</th>\n",
       "      <th>Sector</th>\n",
       "      <th>Beat</th>\n",
       "      <th>Year</th>\n",
       "      <th>Month</th>\n",
       "      <th>Day</th>\n",
       "      <th>Weekday</th>\n",
       "      <th>Hour</th>\n",
       "    </tr>\n",
       "  </thead>\n",
       "  <tbody>\n",
       "    <tr>\n",
       "      <th>0</th>\n",
       "      <td>CITATION ISSUED (CRIMINAL OR NON-CRIMINAL)</td>\n",
       "      <td>TELEPHONE OTHER, NOT 911</td>\n",
       "      <td>3</td>\n",
       "      <td>TRAFFIC - BLOCKING ROADWAY</td>\n",
       "      <td>TRAFFIC - BLOCKING ROADWAY</td>\n",
       "      <td>WEST</td>\n",
       "      <td>QUEEN</td>\n",
       "      <td>Q1</td>\n",
       "      <td>2009</td>\n",
       "      <td>6</td>\n",
       "      <td>2</td>\n",
       "      <td>1</td>\n",
       "      <td>3</td>\n",
       "    </tr>\n",
       "    <tr>\n",
       "      <th>1</th>\n",
       "      <td>PROBLEM SOLVING PROJECT</td>\n",
       "      <td>ONVIEW</td>\n",
       "      <td>7</td>\n",
       "      <td>PREMISE CHECK, OFFICER INITIATED ONVIEW ONLY</td>\n",
       "      <td>PREMISE CHECK, OFFICER INITIATED ONVIEW ONLY</td>\n",
       "      <td>WEST</td>\n",
       "      <td>KING</td>\n",
       "      <td>K1</td>\n",
       "      <td>2009</td>\n",
       "      <td>6</td>\n",
       "      <td>2</td>\n",
       "      <td>1</td>\n",
       "      <td>3</td>\n",
       "    </tr>\n",
       "    <tr>\n",
       "      <th>2</th>\n",
       "      <td>UNABLE TO LOCATE INCIDENT OR COMPLAINANT</td>\n",
       "      <td>TELEPHONE OTHER, NOT 911</td>\n",
       "      <td>2</td>\n",
       "      <td>FIGHT - VERBAL/ORAL (NO WEAPONS)</td>\n",
       "      <td>--DISTURBANCE - OTHER</td>\n",
       "      <td>NORTH</td>\n",
       "      <td>NORA</td>\n",
       "      <td>N3</td>\n",
       "      <td>2009</td>\n",
       "      <td>6</td>\n",
       "      <td>2</td>\n",
       "      <td>1</td>\n",
       "      <td>3</td>\n",
       "    </tr>\n",
       "    <tr>\n",
       "      <th>3</th>\n",
       "      <td>REPORT WRITTEN (NO ARREST)</td>\n",
       "      <td>TELEPHONE OTHER, NOT 911</td>\n",
       "      <td>2</td>\n",
       "      <td>ACC - HIT AND RUN (NO INJURIES). INCLUDES IP/JO</td>\n",
       "      <td>--TRAFFIC - MV COLLISION INVESTIGATION</td>\n",
       "      <td>SOUTH</td>\n",
       "      <td>OCEAN</td>\n",
       "      <td>O1</td>\n",
       "      <td>2009</td>\n",
       "      <td>6</td>\n",
       "      <td>2</td>\n",
       "      <td>1</td>\n",
       "      <td>3</td>\n",
       "    </tr>\n",
       "    <tr>\n",
       "      <th>4</th>\n",
       "      <td>REPORT WRITTEN (NO ARREST)</td>\n",
       "      <td>ONVIEW</td>\n",
       "      <td>3</td>\n",
       "      <td>SUSPICIOUS PERSON, VEHICLE OR INCIDENT</td>\n",
       "      <td>--DISTURBANCE - OTHER</td>\n",
       "      <td>WEST</td>\n",
       "      <td>KING</td>\n",
       "      <td>K2</td>\n",
       "      <td>2009</td>\n",
       "      <td>6</td>\n",
       "      <td>2</td>\n",
       "      <td>1</td>\n",
       "      <td>3</td>\n",
       "    </tr>\n",
       "  </tbody>\n",
       "</table>\n",
       "</div>"
      ],
      "text/plain": [
       "                  Event Clearance Description                 Call Type  \\\n",
       "0  CITATION ISSUED (CRIMINAL OR NON-CRIMINAL)  TELEPHONE OTHER, NOT 911   \n",
       "1                     PROBLEM SOLVING PROJECT                    ONVIEW   \n",
       "2    UNABLE TO LOCATE INCIDENT OR COMPLAINANT  TELEPHONE OTHER, NOT 911   \n",
       "3                  REPORT WRITTEN (NO ARREST)  TELEPHONE OTHER, NOT 911   \n",
       "4                  REPORT WRITTEN (NO ARREST)                    ONVIEW   \n",
       "\n",
       "   Priority                                Initial Call Type  \\\n",
       "0         3                       TRAFFIC - BLOCKING ROADWAY   \n",
       "1         7     PREMISE CHECK, OFFICER INITIATED ONVIEW ONLY   \n",
       "2         2                 FIGHT - VERBAL/ORAL (NO WEAPONS)   \n",
       "3         2  ACC - HIT AND RUN (NO INJURIES). INCLUDES IP/JO   \n",
       "4         3           SUSPICIOUS PERSON, VEHICLE OR INCIDENT   \n",
       "\n",
       "                                Final Call Type Precinct Sector Beat  Year  \\\n",
       "0                    TRAFFIC - BLOCKING ROADWAY     WEST  QUEEN   Q1  2009   \n",
       "1  PREMISE CHECK, OFFICER INITIATED ONVIEW ONLY     WEST   KING   K1  2009   \n",
       "2                         --DISTURBANCE - OTHER    NORTH   NORA   N3  2009   \n",
       "3        --TRAFFIC - MV COLLISION INVESTIGATION    SOUTH  OCEAN   O1  2009   \n",
       "4                         --DISTURBANCE - OTHER     WEST   KING   K2  2009   \n",
       "\n",
       "   Month  Day  Weekday  Hour  \n",
       "0      6    2        1     3  \n",
       "1      6    2        1     3  \n",
       "2      6    2        1     3  \n",
       "3      6    2        1     3  \n",
       "4      6    2        1     3  "
      ]
     },
     "execution_count": 18,
     "metadata": {},
     "output_type": "execute_result"
    }
   ],
   "source": [
    "call_data.drop(columns='Original Time Queued', inplace=True)\n",
    "call_data.head()"
   ]
  },
  {
   "cell_type": "code",
   "execution_count": 19,
   "metadata": {},
   "outputs": [
    {
     "data": {
      "text/html": [
       "<div>\n",
       "<style scoped>\n",
       "    .dataframe tbody tr th:only-of-type {\n",
       "        vertical-align: middle;\n",
       "    }\n",
       "\n",
       "    .dataframe tbody tr th {\n",
       "        vertical-align: top;\n",
       "    }\n",
       "\n",
       "    .dataframe thead th {\n",
       "        text-align: right;\n",
       "    }\n",
       "</style>\n",
       "<table border=\"1\" class=\"dataframe\">\n",
       "  <thead>\n",
       "    <tr style=\"text-align: right;\">\n",
       "      <th></th>\n",
       "      <th>Event Clearance Description</th>\n",
       "      <th>Year</th>\n",
       "      <th>Month</th>\n",
       "      <th>Day</th>\n",
       "      <th>Weekday</th>\n",
       "      <th>Hour</th>\n",
       "      <th>Call Type_911</th>\n",
       "      <th>Call Type_ALARM CALL (NOT POLICE ALARM)</th>\n",
       "      <th>Call Type_HISTORY CALL (RETRO)</th>\n",
       "      <th>Call Type_IN PERSON COMPLAINT</th>\n",
       "      <th>...</th>\n",
       "      <th>Beat_R3</th>\n",
       "      <th>Beat_S1</th>\n",
       "      <th>Beat_S2</th>\n",
       "      <th>Beat_S3</th>\n",
       "      <th>Beat_U1</th>\n",
       "      <th>Beat_U2</th>\n",
       "      <th>Beat_U3</th>\n",
       "      <th>Beat_W1</th>\n",
       "      <th>Beat_W2</th>\n",
       "      <th>Beat_W3</th>\n",
       "    </tr>\n",
       "  </thead>\n",
       "  <tbody>\n",
       "    <tr>\n",
       "      <th>0</th>\n",
       "      <td>CITATION ISSUED (CRIMINAL OR NON-CRIMINAL)</td>\n",
       "      <td>2009</td>\n",
       "      <td>6</td>\n",
       "      <td>2</td>\n",
       "      <td>1</td>\n",
       "      <td>3</td>\n",
       "      <td>0</td>\n",
       "      <td>0</td>\n",
       "      <td>0</td>\n",
       "      <td>0</td>\n",
       "      <td>...</td>\n",
       "      <td>0</td>\n",
       "      <td>0</td>\n",
       "      <td>0</td>\n",
       "      <td>0</td>\n",
       "      <td>0</td>\n",
       "      <td>0</td>\n",
       "      <td>0</td>\n",
       "      <td>0</td>\n",
       "      <td>0</td>\n",
       "      <td>0</td>\n",
       "    </tr>\n",
       "    <tr>\n",
       "      <th>1</th>\n",
       "      <td>PROBLEM SOLVING PROJECT</td>\n",
       "      <td>2009</td>\n",
       "      <td>6</td>\n",
       "      <td>2</td>\n",
       "      <td>1</td>\n",
       "      <td>3</td>\n",
       "      <td>0</td>\n",
       "      <td>0</td>\n",
       "      <td>0</td>\n",
       "      <td>0</td>\n",
       "      <td>...</td>\n",
       "      <td>0</td>\n",
       "      <td>0</td>\n",
       "      <td>0</td>\n",
       "      <td>0</td>\n",
       "      <td>0</td>\n",
       "      <td>0</td>\n",
       "      <td>0</td>\n",
       "      <td>0</td>\n",
       "      <td>0</td>\n",
       "      <td>0</td>\n",
       "    </tr>\n",
       "    <tr>\n",
       "      <th>2</th>\n",
       "      <td>UNABLE TO LOCATE INCIDENT OR COMPLAINANT</td>\n",
       "      <td>2009</td>\n",
       "      <td>6</td>\n",
       "      <td>2</td>\n",
       "      <td>1</td>\n",
       "      <td>3</td>\n",
       "      <td>0</td>\n",
       "      <td>0</td>\n",
       "      <td>0</td>\n",
       "      <td>0</td>\n",
       "      <td>...</td>\n",
       "      <td>0</td>\n",
       "      <td>0</td>\n",
       "      <td>0</td>\n",
       "      <td>0</td>\n",
       "      <td>0</td>\n",
       "      <td>0</td>\n",
       "      <td>0</td>\n",
       "      <td>0</td>\n",
       "      <td>0</td>\n",
       "      <td>0</td>\n",
       "    </tr>\n",
       "    <tr>\n",
       "      <th>3</th>\n",
       "      <td>REPORT WRITTEN (NO ARREST)</td>\n",
       "      <td>2009</td>\n",
       "      <td>6</td>\n",
       "      <td>2</td>\n",
       "      <td>1</td>\n",
       "      <td>3</td>\n",
       "      <td>0</td>\n",
       "      <td>0</td>\n",
       "      <td>0</td>\n",
       "      <td>0</td>\n",
       "      <td>...</td>\n",
       "      <td>0</td>\n",
       "      <td>0</td>\n",
       "      <td>0</td>\n",
       "      <td>0</td>\n",
       "      <td>0</td>\n",
       "      <td>0</td>\n",
       "      <td>0</td>\n",
       "      <td>0</td>\n",
       "      <td>0</td>\n",
       "      <td>0</td>\n",
       "    </tr>\n",
       "    <tr>\n",
       "      <th>4</th>\n",
       "      <td>REPORT WRITTEN (NO ARREST)</td>\n",
       "      <td>2009</td>\n",
       "      <td>6</td>\n",
       "      <td>2</td>\n",
       "      <td>1</td>\n",
       "      <td>3</td>\n",
       "      <td>0</td>\n",
       "      <td>0</td>\n",
       "      <td>0</td>\n",
       "      <td>0</td>\n",
       "      <td>...</td>\n",
       "      <td>0</td>\n",
       "      <td>0</td>\n",
       "      <td>0</td>\n",
       "      <td>0</td>\n",
       "      <td>0</td>\n",
       "      <td>0</td>\n",
       "      <td>0</td>\n",
       "      <td>0</td>\n",
       "      <td>0</td>\n",
       "      <td>0</td>\n",
       "    </tr>\n",
       "  </tbody>\n",
       "</table>\n",
       "<p>5 rows × 652 columns</p>\n",
       "</div>"
      ],
      "text/plain": [
       "                  Event Clearance Description  Year  Month  Day  Weekday  \\\n",
       "0  CITATION ISSUED (CRIMINAL OR NON-CRIMINAL)  2009      6    2        1   \n",
       "1                     PROBLEM SOLVING PROJECT  2009      6    2        1   \n",
       "2    UNABLE TO LOCATE INCIDENT OR COMPLAINANT  2009      6    2        1   \n",
       "3                  REPORT WRITTEN (NO ARREST)  2009      6    2        1   \n",
       "4                  REPORT WRITTEN (NO ARREST)  2009      6    2        1   \n",
       "\n",
       "   Hour  Call Type_911  Call Type_ALARM CALL (NOT POLICE ALARM)  \\\n",
       "0     3              0                                        0   \n",
       "1     3              0                                        0   \n",
       "2     3              0                                        0   \n",
       "3     3              0                                        0   \n",
       "4     3              0                                        0   \n",
       "\n",
       "   Call Type_HISTORY CALL (RETRO)  Call Type_IN PERSON COMPLAINT   ...     \\\n",
       "0                               0                              0   ...      \n",
       "1                               0                              0   ...      \n",
       "2                               0                              0   ...      \n",
       "3                               0                              0   ...      \n",
       "4                               0                              0   ...      \n",
       "\n",
       "   Beat_R3  Beat_S1  Beat_S2  Beat_S3  Beat_U1  Beat_U2  Beat_U3  Beat_W1  \\\n",
       "0        0        0        0        0        0        0        0        0   \n",
       "1        0        0        0        0        0        0        0        0   \n",
       "2        0        0        0        0        0        0        0        0   \n",
       "3        0        0        0        0        0        0        0        0   \n",
       "4        0        0        0        0        0        0        0        0   \n",
       "\n",
       "   Beat_W2  Beat_W3  \n",
       "0        0        0  \n",
       "1        0        0  \n",
       "2        0        0  \n",
       "3        0        0  \n",
       "4        0        0  \n",
       "\n",
       "[5 rows x 652 columns]"
      ]
     },
     "execution_count": 19,
     "metadata": {},
     "output_type": "execute_result"
    }
   ],
   "source": [
    "# \"Priority\" se mantém para One Hot Encode, pois apesar de numérico, também é categórico com seu valor convertido para string.\n",
    "call_data = pd.concat([call_data, pd.get_dummies(call_data[['Call Type','Priority','Initial Call Type', 'Final Call Type', 'Precinct', 'Sector', 'Beat']].astype(str))], axis=1) \n",
    "call_data.drop(['Call Type','Priority','Initial Call Type', 'Final Call Type', 'Precinct', 'Sector', 'Beat'], axis=1, inplace=True)\n",
    "call_data.head()"
   ]
  },
  {
   "cell_type": "code",
   "execution_count": 20,
   "metadata": {},
   "outputs": [
    {
     "name": "stdout",
     "output_type": "stream",
     "text": [
      "<class 'pandas.core.frame.DataFrame'>\n",
      "Int64Index: 230892 entries, 0 to 232441\n",
      "Columns: 652 entries, Event Clearance Description to Beat_W3\n",
      "dtypes: int64(5), object(1), uint8(646)\n",
      "memory usage: 154.6+ MB\n"
     ]
    }
   ],
   "source": [
    "call_data.info()"
   ]
  },
  {
   "cell_type": "markdown",
   "metadata": {},
   "source": [
    "- A Engenharia de Features é necessária para transformar o dataset de entra num dataset tratado, com os dados pre processados, ou seja, \n",
    "preparados para ser a entrada dos modelos de Machine Learning com a melhor eficácia possível."
   ]
  },
  {
   "cell_type": "markdown",
   "metadata": {},
   "source": [
    "**4. Selecione duas soluções candidatas e justifique suas escolhas. Mostre os pontos negativos e positivos de cada modelo. (2,0 pontos)**"
   ]
  },
  {
   "cell_type": "markdown",
   "metadata": {},
   "source": [
    "- Utilizarei DecisionTreeClassifier e RandomForestClassifier do Sklearn.\n",
    "- O modelo de ávore de decisão, permite uma exploração baseada em dados de relações não-lineares e interações entre muitas variáveis explicativas, é um modelo mais fácil de visualizar  e interpretar, lida bem com grandes conjuntos de dados bem e podem prever tanto variáveis categóricas, como variáveis quantitativas, no entanto, pequenas mudanças nos dados podem levar a diferentes divisões, e isso pode prejudicar a interpretabilidade do modelo. Além disso, as árvores de decisão não são muito reproduzíveis com dados futuros.\n",
    "- O modelo de floresta aleatória, pode ser utilizado tanto para regressão quanto para classificação e é fácil visualizar a importância relativa que ele atribui para cada característica na suas entradas, outra vantagem é que seus hiperparâmetros com valores default geralmente já produzem um bom resultado de predição, no entanto, uma quantidade grande de árvores pode tornar o algoritmo lento e ineficiente para predições em tempo real. Em geral, estes algoritmos são rápidos para treinar, mas muito lentos para fazer predições depois de treinados."
   ]
  },
  {
   "cell_type": "markdown",
   "metadata": {},
   "source": [
    "**5. Construa os modelos de aprendizagem de máquina para cada modelo (2,0 ponto)**    "
   ]
  },
  {
   "cell_type": "code",
   "execution_count": 21,
   "metadata": {},
   "outputs": [],
   "source": [
    "from sklearn.model_selection import train_test_split\n",
    "from sklearn.metrics import classification_report, confusion_matrix, f1_score\n",
    "from sklearn.tree import DecisionTreeClassifier\n",
    "from sklearn.ensemble  import  RandomForestClassifier "
   ]
  },
  {
   "cell_type": "code",
   "execution_count": 22,
   "metadata": {},
   "outputs": [],
   "source": [
    "x = call_data.drop(columns='Event Clearance Description')\n",
    "y = call_data['Event Clearance Description']"
   ]
  },
  {
   "cell_type": "code",
   "execution_count": 23,
   "metadata": {},
   "outputs": [],
   "source": [
    "x_train, x_test, y_train, y_test = train_test_split(x, y, test_size=0.30, random_state=100)"
   ]
  },
  {
   "cell_type": "code",
   "execution_count": 24,
   "metadata": {},
   "outputs": [],
   "source": [
    "dtc = DecisionTreeClassifier()"
   ]
  },
  {
   "cell_type": "code",
   "execution_count": 25,
   "metadata": {},
   "outputs": [],
   "source": [
    "model_dtc = dtc.fit(x_train, y_train)"
   ]
  },
  {
   "cell_type": "code",
   "execution_count": 26,
   "metadata": {},
   "outputs": [
    {
     "data": {
      "text/plain": [
       "array(['REPORT WRITTEN (NO ARREST)', 'REPORT WRITTEN (NO ARREST)',\n",
       "       'REPORT WRITTEN (NO ARREST)', ..., 'REPORT WRITTEN (NO ARREST)',\n",
       "       'REPORT WRITTEN (NO ARREST)', 'ORAL WARNING GIVEN'], dtype=object)"
      ]
     },
     "execution_count": 26,
     "metadata": {},
     "output_type": "execute_result"
    }
   ],
   "source": [
    "predictions_dtc = model_dtc.predict(x_test)\n",
    "predictions_dtc"
   ]
  },
  {
   "cell_type": "code",
   "execution_count": 27,
   "metadata": {},
   "outputs": [],
   "source": [
    "rfc = RandomForestClassifier()"
   ]
  },
  {
   "cell_type": "code",
   "execution_count": 28,
   "metadata": {},
   "outputs": [],
   "source": [
    "model_rfc = rfc.fit(x_train, y_train)"
   ]
  },
  {
   "cell_type": "code",
   "execution_count": 29,
   "metadata": {},
   "outputs": [
    {
     "data": {
      "text/plain": [
       "array(['REPORT WRITTEN (NO ARREST)', 'REPORT WRITTEN (NO ARREST)',\n",
       "       'REPORT WRITTEN (NO ARREST)', ..., 'PHYSICAL ARREST MADE',\n",
       "       'REPORT WRITTEN (NO ARREST)', 'ORAL WARNING GIVEN'], dtype=object)"
      ]
     },
     "execution_count": 29,
     "metadata": {},
     "output_type": "execute_result"
    }
   ],
   "source": [
    "predictions_rfc = model_rfc.predict(x_test)\n",
    "predictions_rfc"
   ]
  },
  {
   "cell_type": "markdown",
   "metadata": {},
   "source": [
    "**6. Para cada modelo aplique uma combinação aos hiperparâmetros com o GridSearch e aplique também o CrossValidation (2,0 pontos)**\n",
    "  * P.S.: Explique, com suas palavras, a necessidade de utilizar GridSearch e CrossValidation\n",
    "  * P.S.: Explique a importância para de no mínimo um hiperparâmetro para cada modelo"
   ]
  },
  {
   "cell_type": "code",
   "execution_count": 30,
   "metadata": {},
   "outputs": [],
   "source": [
    "from sklearn.model_selection import GridSearchCV"
   ]
  },
  {
   "cell_type": "code",
   "execution_count": 31,
   "metadata": {},
   "outputs": [],
   "source": [
    "parameters = {'min_samples_leaf':[3,5,7], \n",
    "              'min_samples_split':[3,5,7], \n",
    "              'max_depth':[5,10,15], \n",
    "              'random_state': [100]}"
   ]
  },
  {
   "cell_type": "code",
   "execution_count": 32,
   "metadata": {},
   "outputs": [],
   "source": [
    "clf_dtc = GridSearchCV(dtc, parameters, cv=3)"
   ]
  },
  {
   "cell_type": "code",
   "execution_count": 33,
   "metadata": {},
   "outputs": [],
   "source": [
    "model_clf_dtc = clf_dtc.fit(x_train, y_train)\n",
    "best_estimator_dtc = model_clf_dtc.best_estimator_"
   ]
  },
  {
   "cell_type": "code",
   "execution_count": 34,
   "metadata": {},
   "outputs": [
    {
     "data": {
      "text/plain": [
       "DecisionTreeClassifier(class_weight=None, criterion='gini', max_depth=15,\n",
       "            max_features=None, max_leaf_nodes=None,\n",
       "            min_impurity_decrease=0.0, min_impurity_split=None,\n",
       "            min_samples_leaf=7, min_samples_split=3,\n",
       "            min_weight_fraction_leaf=0.0, presort=False, random_state=100,\n",
       "            splitter='best')"
      ]
     },
     "execution_count": 34,
     "metadata": {},
     "output_type": "execute_result"
    }
   ],
   "source": [
    "best_estimator_dtc"
   ]
  },
  {
   "cell_type": "code",
   "execution_count": 35,
   "metadata": {},
   "outputs": [],
   "source": [
    "clf_rfc = GridSearchCV(rfc, parameters, cv=3)"
   ]
  },
  {
   "cell_type": "code",
   "execution_count": 36,
   "metadata": {},
   "outputs": [],
   "source": [
    "model_clf_rfc = clf_rfc.fit(x_train, y_train)\n",
    "best_estimator_rfc = model_clf_rfc.best_estimator_"
   ]
  },
  {
   "cell_type": "code",
   "execution_count": 37,
   "metadata": {},
   "outputs": [
    {
     "data": {
      "text/plain": [
       "RandomForestClassifier(bootstrap=True, class_weight=None, criterion='gini',\n",
       "            max_depth=15, max_features='auto', max_leaf_nodes=None,\n",
       "            min_impurity_decrease=0.0, min_impurity_split=None,\n",
       "            min_samples_leaf=3, min_samples_split=7,\n",
       "            min_weight_fraction_leaf=0.0, n_estimators=10, n_jobs=None,\n",
       "            oob_score=False, random_state=100, verbose=0, warm_start=False)"
      ]
     },
     "execution_count": 37,
     "metadata": {},
     "output_type": "execute_result"
    }
   ],
   "source": [
    "best_estimator_rfc"
   ]
  },
  {
   "cell_type": "markdown",
   "metadata": {},
   "source": [
    "- O GridSerach verifica, dentre as combinações de hiperparâmetros, quais darão melhor resultado para os dados de treino em determinado modelo, \n",
    " possibilitando melhor avaliação do modelo com seus hiperparâmetros otimizados.\n",
    "- O Cross Validation permite que o modelo seja avaliado por combinações de dados diferentes dos que inicialmente lhe serviram como treinamento, aperfeiçoando a validação do modelo."
   ]
  },
  {
   "cell_type": "markdown",
   "metadata": {},
   "source": [
    "**7. Defina uma métrica de avaliação e avalie as soluções candidatas. Justifique a escolha da sua métrica. (1,0 ponto)**"
   ]
  },
  {
   "cell_type": "code",
   "execution_count": 38,
   "metadata": {},
   "outputs": [
    {
     "name": "stdout",
     "output_type": "stream",
     "text": [
      "                                            precision    recall  f1-score   support\n",
      "\n",
      "CITATION ISSUED (CRIMINAL OR NON-CRIMINAL)       0.67      0.78      0.72      9274\n",
      "                 FALSE COMPLAINT/UNFOUNDED       0.96      0.84      0.90      3153\n",
      "                        ORAL WARNING GIVEN       0.72      0.67      0.69     13797\n",
      "                      PHYSICAL ARREST MADE       0.76      0.51      0.61      6389\n",
      "                   PROBLEM SOLVING PROJECT       0.89      0.82      0.86      2127\n",
      "                REPORT WRITTEN (NO ARREST)       0.80      0.93      0.86     27515\n",
      "  UNABLE TO LOCATE INCIDENT OR COMPLAINANT       0.58      0.37      0.45      7013\n",
      "\n",
      "                                 micro avg       0.76      0.76      0.76     69268\n",
      "                                 macro avg       0.77      0.70      0.73     69268\n",
      "                              weighted avg       0.75      0.76      0.74     69268\n",
      "\n"
     ]
    }
   ],
   "source": [
    "predictions_dtc = best_estimator_dtc.predict(x_test)\n",
    "print(classification_report(y_test,predictions_dtc))"
   ]
  },
  {
   "cell_type": "code",
   "execution_count": 39,
   "metadata": {},
   "outputs": [
    {
     "name": "stdout",
     "output_type": "stream",
     "text": [
      "                                            precision    recall  f1-score   support\n",
      "\n",
      "CITATION ISSUED (CRIMINAL OR NON-CRIMINAL)       0.64      0.84      0.72      9274\n",
      "                 FALSE COMPLAINT/UNFOUNDED       0.98      0.80      0.88      3153\n",
      "                        ORAL WARNING GIVEN       0.74      0.57      0.64     13797\n",
      "                      PHYSICAL ARREST MADE       0.89      0.30      0.44      6389\n",
      "                   PROBLEM SOLVING PROJECT       0.90      0.77      0.83      2127\n",
      "                REPORT WRITTEN (NO ARREST)       0.68      0.97      0.80     27515\n",
      "  UNABLE TO LOCATE INCIDENT OR COMPLAINANT       0.78      0.02      0.04      7013\n",
      "\n",
      "                                 micro avg       0.70      0.70      0.70     69268\n",
      "                                 macro avg       0.80      0.61      0.62     69268\n",
      "                              weighted avg       0.73      0.70      0.65     69268\n",
      "\n"
     ]
    }
   ],
   "source": [
    "predictions_rfc = best_estimator_rfc.predict(x_test)\n",
    "print(classification_report(y_test,predictions_rfc))"
   ]
  },
  {
   "cell_type": "markdown",
   "metadata": {},
   "source": [
    "- A Métrica escolhida é a Média Ponderada do F1 Score, pois agrega as avaliações de Precisão e Recall para cada classe.\n",
    "- A melhor Média Ponderada do F1 Score foi o do modelo de Árvore de Decisão com ~74%"
   ]
  },
  {
   "cell_type": "markdown",
   "metadata": {},
   "source": [
    "**8. Escolha um dos modelos, por exemplo o melhor modelo, e faça uma análise do overfitting e underfitting. Justique sua resposta com base em experimentos. (1,5 pontos)**\n",
    "   * Analise no mínimo 2 hiperparâmetros e também o número de amostras utilizado no treinamento\n",
    "   * Utilize recursos visuais, por exemplo gráficos, se você achar neccessário"
   ]
  },
  {
   "cell_type": "code",
   "execution_count": 40,
   "metadata": {},
   "outputs": [],
   "source": [
    "from sklearn.model_selection import learning_curve\n",
    "from sklearn.model_selection import validation_curve\n",
    "from sklearn.model_selection import ShuffleSplit"
   ]
  },
  {
   "cell_type": "code",
   "execution_count": 41,
   "metadata": {},
   "outputs": [],
   "source": [
    "def model_complexity(estimator, title, param_name, values_param, scoring, X, y):\n",
    "    \"\"\" Calculates the performance of the model as model complexity increases.\n",
    "        The learning and testing errors rates are then plotted. \"\"\"\n",
    "    \n",
    "    # Create 10 cross-validation sets for training and testing\n",
    "    cv = ShuffleSplit(n_splits=10, test_size=0.2, random_state=0)\n",
    "\n",
    "    # Vary the max_depth parameter from 1 to 10\n",
    "\n",
    "    # Calculate the training and testing scores\n",
    "    train_scores, test_scores = validation_curve(estimator, X, y, \\\n",
    "        param_name = param_name, param_range = values_param, cv = cv, scoring = scoring)\n",
    "\n",
    "    # Find the mean and standard deviation for smoothing\n",
    "    train_mean = np.mean(train_scores, axis=1)\n",
    "    train_std = np.std(train_scores, axis=1)\n",
    "    test_mean = np.mean(test_scores, axis=1)\n",
    "    test_std = np.std(test_scores, axis=1)\n",
    "\n",
    "    # Plot the validation curve\n",
    "    plt.figure(figsize=(7, 5))\n",
    "    ylim=(0.7, 1.01)\n",
    "    plt.ylim(*ylim)\n",
    "    plt.title(title)\n",
    "    plt.grid()\n",
    "    plt.plot(values_param, train_mean, 'o-', color = 'r', label = 'Training Score')\n",
    "    plt.plot(values_param, test_mean, 'o-', color = 'g', label = 'Validation Score')\n",
    "    plt.fill_between(values_param, train_mean - train_std, \\\n",
    "        train_mean + train_std, alpha = 0.15, color = 'r')\n",
    "    plt.fill_between(values_param, test_mean - test_std, \\\n",
    "        test_mean + test_std, alpha = 0.15, color = 'g')\n",
    "    \n",
    "    # Visual aesthetics\n",
    "    plt.legend(loc = 'lower right')\n",
    "    plt.xlabel(param_name)\n",
    "    plt.ylabel('Score')\n",
    "    plt.ylim([-0.05,1.05])\n",
    "    plt.show()"
   ]
  },
  {
   "cell_type": "code",
   "execution_count": 42,
   "metadata": {},
   "outputs": [
    {
     "data": {
      "image/png": "[encoded data removed]",
      "text/plain": [
       "<Figure size 504x360 with 1 Axes>"
      ]
     },
     "metadata": {
      "needs_background": "light"
     },
     "output_type": "display_data"
    },
    {
     "data": {
      "image/png": "[encoded data removed]",
      "text/plain": [
       "<Figure size 504x360 with 1 Axes>"
      ]
     },
     "metadata": {
      "needs_background": "light"
     },
     "output_type": "display_data"
    },
    {
     "data": {
      "image/png": "[encoded data removed]",
      "text/plain": [
       "<Figure size 504x360 with 1 Axes>"
      ]
     },
     "metadata": {
      "needs_background": "light"
     },
     "output_type": "display_data"
    }
   ],
   "source": [
    "param_name_1 = 'min_samples_leaf'\n",
    "param_name_2 = 'min_samples_split'\n",
    "param_name_3 = 'max_depth'\n",
    "values_param = np.arange(3,8)\n",
    "values_param_2 = np.arange(5,16)\n",
    "scoring='accuracy'\n",
    "title='Decision Tree Regressor Complexity Performance'\n",
    "model_complexity(best_estimator_dtc, title, param_name_1, values_param, scoring, x, y)\n",
    "model_complexity(best_estimator_dtc, title, param_name_2, values_param, scoring, x, y)\n",
    "model_complexity(best_estimator_dtc, title, param_name_3, values_param_2, scoring, x, y)"
   ]
  },
  {
   "cell_type": "markdown",
   "metadata": {},
   "source": [
    "- Os Scores não tem grande variação em relação aos 2 primeiros hiperparametros, mas no 3º hiperparametro verificado, nota-se que quanto maior o max_depth, maiores os scores obtidos, sendo que, diferente do que foi proposto pelo GridSearch, o valor para este parâmetro que apresentaria o menor over fitting com melhor score, seria 10."
   ]
  },
  {
   "cell_type": "code",
   "execution_count": 43,
   "metadata": {},
   "outputs": [],
   "source": [
    "def plot_learning_curve(estimator, title, X, y,):\n",
    "    \n",
    "    cv = ShuffleSplit(n_splits=10, test_size=0.3, random_state=100)\n",
    "    ylim=(0.7, 1.01)\n",
    "    n_jobs=1\n",
    "    train_sizes=np.linspace(.1, 1.0, 5)\n",
    "\n",
    "    plt.figure()\n",
    "    plt.title(title)\n",
    "    plt.ylim(*ylim)\n",
    "    plt.xlabel(\"Training examples\")\n",
    "    plt.ylabel(\"Score\")\n",
    "    train_sizes, train_scores, test_scores = learning_curve(\n",
    "        estimator, X, y, cv=cv, n_jobs=n_jobs, train_sizes=train_sizes)\n",
    "    train_scores_mean = np.mean(train_scores, axis=1)\n",
    "    train_scores_std = np.std(train_scores, axis=1)\n",
    "    test_scores_mean = np.mean(test_scores, axis=1)\n",
    "    test_scores_std = np.std(test_scores, axis=1)\n",
    "    plt.grid()\n",
    "\n",
    "    plt.fill_between(train_sizes, train_scores_mean - train_scores_std,\n",
    "                     train_scores_mean + train_scores_std, alpha=0.1,\n",
    "                     color=\"r\")\n",
    "    plt.fill_between(train_sizes, test_scores_mean - test_scores_std,\n",
    "                     test_scores_mean + test_scores_std, alpha=0.1, color=\"g\")\n",
    "    plt.plot(train_sizes, train_scores_mean, 'o-', color=\"r\",\n",
    "             label=\"Training score\")\n",
    "    plt.plot(train_sizes, test_scores_mean, 'o-', color=\"g\",\n",
    "             label=\"Cross-validation score\")\n",
    "\n",
    "    plt.legend(loc=\"best\")\n",
    "    return plt"
   ]
  },
  {
   "cell_type": "code",
   "execution_count": 44,
   "metadata": {},
   "outputs": [
    {
     "data": {
      "image/png": "[encoded data removed]",
      "text/plain": [
       "<Figure size 432x288 with 1 Axes>"
      ]
     },
     "metadata": {
      "needs_background": "light"
     },
     "output_type": "display_data"
    }
   ],
   "source": [
    "title = \"Learning Curves (Decision Tree)\"\n",
    "a = plot_learning_curve(best_estimator_dtc, title, x, y)"
   ]
  },
  {
   "cell_type": "markdown",
   "metadata": {},
   "source": [
    "- O número ideal de amostras é de 90.000, pois, como o gráfico demonstra, a parti dai, o score se estabiliza sem over fitting, pois o score de treino também se estabiliza."
   ]
  },
  {
   "cell_type": "markdown",
   "metadata": {},
   "source": [
    "**9. Realize a predição sobre os dado test_call_data, como o seu modelo saiu? (1,0 ponto)**"
   ]
  },
  {
   "cell_type": "code",
   "execution_count": 68,
   "metadata": {},
   "outputs": [],
   "source": [
    "test_call_data = pd.read_csv('test_call_data.csv')"
   ]
  },
  {
   "cell_type": "code",
   "execution_count": 69,
   "metadata": {},
   "outputs": [],
   "source": [
    "# Pré Processamento.\n",
    "test_call_data.dropna(inplace=True) # Eliminar os registros nulos, pois sua quantidade não impacta estatisticamente na análise.\n",
    "\n",
    "test_call_data = test_call_data.drop(columns=['Unnamed: 0', 'CAD Event Number', 'Arrived Time']) # Eliminar colunas com missing ocultos, pois não tem valor de negócio.\n",
    "\n",
    "# Transforma a dimensão de tempo.\n",
    "data = pd.to_datetime(test_call_data['Original Time Queued'])\n",
    "test_call_data['Year'] = data.dt.year\n",
    "test_call_data['Month'] = data.dt.month\n",
    "test_call_data['Day'] = data.dt.day\n",
    "test_call_data['Weekday'] = data.dt.weekday\n",
    "test_call_data['Hour'] = data.dt.hour\n",
    "\n",
    "test_call_data.drop(columns='Original Time Queued', inplace=True)\n",
    "\n",
    "# \"Priority\" se mantém para One Hot Encode, pois apesar de numérico, também é categórico com seu valor convertido para string.\n",
    "test_call_data = pd.concat([test_call_data, pd.get_dummies(test_call_data[['Call Type','Priority','Initial Call Type', 'Final Call Type', 'Precinct', 'Sector', 'Beat']].astype(str))], axis=1) \n",
    "test_call_data.drop(['Call Type','Priority','Initial Call Type', 'Final Call Type', 'Precinct', 'Sector', 'Beat'], axis=1, inplace=True)"
   ]
  },
  {
   "cell_type": "code",
   "execution_count": 70,
   "metadata": {},
   "outputs": [],
   "source": [
    "x = test_call_data.drop(columns='Event Clearance Description')\n",
    "y = test_call_data['Event Clearance Description']"
   ]
  },
  {
   "cell_type": "code",
   "execution_count": 71,
   "metadata": {},
   "outputs": [],
   "source": [
    "x_train, x_test, y_train, y_test = train_test_split(x, y, test_size=0.30, random_state=100)"
   ]
  },
  {
   "cell_type": "code",
   "execution_count": 59,
   "metadata": {},
   "outputs": [],
   "source": [
    "best_dtc = DecisionTreeClassifier(max_depth=10, min_samples_leaf=3, min_samples_split=7)"
   ]
  },
  {
   "cell_type": "code",
   "execution_count": 60,
   "metadata": {},
   "outputs": [],
   "source": [
    "best_model_dtc = best_dtc.fit(x_train, y_train)"
   ]
  },
  {
   "cell_type": "code",
   "execution_count": 61,
   "metadata": {},
   "outputs": [
    {
     "name": "stdout",
     "output_type": "stream",
     "text": [
      "                                            precision    recall  f1-score   support\n",
      "\n",
      "CITATION ISSUED (CRIMINAL OR NON-CRIMINAL)       0.64      0.67      0.66       832\n",
      "                 FALSE COMPLAINT/UNFOUNDED       0.97      0.76      0.85       326\n",
      "                        ORAL WARNING GIVEN       0.72      0.66      0.69      1540\n",
      "                      PHYSICAL ARREST MADE       0.69      0.34      0.46       640\n",
      "                   PROBLEM SOLVING PROJECT       0.87      0.56      0.68       208\n",
      "                REPORT WRITTEN (NO ARREST)       0.68      0.93      0.79      2553\n",
      "  UNABLE TO LOCATE INCIDENT OR COMPLAINANT       0.50      0.25      0.34       794\n",
      "\n",
      "                                 micro avg       0.69      0.69      0.69      6893\n",
      "                                 macro avg       0.73      0.60      0.64      6893\n",
      "                              weighted avg       0.68      0.69      0.67      6893\n",
      "\n"
     ]
    }
   ],
   "source": [
    "predictions_best_dtc = best_model_dtc.predict(x_test)\n",
    "print(classification_report(y_test, predictions_best_dtc))"
   ]
  },
  {
   "cell_type": "markdown",
   "metadata": {},
   "source": [
    "- A Média Ponderada do F1 Score na massa de teste foi de ~67%"
   ]
  },
  {
   "cell_type": "markdown",
   "metadata": {},
   "source": [
    "**10. Se seu modelo permitir analisar a importância das features, analise-o e tente justificar de forma subjetiva a importância da feature. Por exemplo, a feature_chamadas_a_noite possui um alto coeficiente, pois há uma tendência dos crimes acontecerem a noite, não tão simples assim :P. (1,0 ponto)**"
   ]
  },
  {
   "cell_type": "code",
   "execution_count": 64,
   "metadata": {},
   "outputs": [
    {
     "name": "stdout",
     "output_type": "stream",
     "text": [
      "['Month' 'Day' 'Weekday' 'Hour' 'Call Type_911'\n",
      " 'Call Type_ALARM CALL (NOT POLICE ALARM)'\n",
      " 'Call Type_HISTORY CALL (RETRO)' 'Call Type_IN PERSON COMPLAINT'\n",
      " 'Call Type_ONVIEW' 'Call Type_PROACTIVE (OFFICER INITIATED)'\n",
      " 'Call Type_TELEPHONE OTHER, NOT 911' 'Priority_1' 'Priority_2'\n",
      " 'Priority_3' 'Priority_4' 'Priority_5' 'Priority_6' 'Priority_7'\n",
      " 'Priority_9'\n",
      " 'Initial Call Type_-ASSIGNED DUTY - COMMUNITY,SCHOOL,SPECIAL EVENT'\n",
      " 'Initial Call Type_-ASSIGNED DUTY - DETAIL BY SUPERVISOR'\n",
      " 'Initial Call Type_-ASSIGNED DUTY - FOOT BEAT (FROM ASSIGNED CAR)'\n",
      " 'Initial Call Type_-ASSIGNED DUTY - IN-SERVICE TRAINING'\n",
      " 'Initial Call Type_-ASSIGNED DUTY - REPORTS'\n",
      " 'Initial Call Type_-ASSIGNED DUTY - STAKEOUT'\n",
      " 'Initial Call Type_-ASSIGNED DUTY - STATION DUTY (CLERK,MAIL,ETC)'\n",
      " 'Initial Call Type_-ELEMENTARY SCHOOL VISIT'\n",
      " 'Initial Call Type_-GAS/MAINTENANCE/WASH/GARAGE'\n",
      " 'Initial Call Type_-OUT OF CAR/NO REASON GIVEN'\n",
      " 'Initial Call Type_-OUT TO PRECINCT/STATION'\n",
      " 'Initial Call Type_-PRISONER ESCORT - BUSY CODE'\n",
      " 'Initial Call Type_ABANDONED VEHICLE'\n",
      " 'Initial Call Type_ABDUCTION - IP/JO - UNK KIDNAPPING'\n",
      " 'Initial Call Type_ABDUCTION - NO KNOWN KIDNAPPING'\n",
      " 'Initial Call Type_ACC - HIT AND RUN (NO INJURIES). INCLUDES IP/JO'\n",
      " 'Initial Call Type_ACC - NON INJURY, BLOCKING'\n",
      " 'Initial Call Type_ACC - REPORT, NON INJ/NON BLKG OR AFTER FACT INJ'\n",
      " 'Initial Call Type_ACC - UNK INJURIES'\n",
      " 'Initial Call Type_ACC - WITH INJURIES (INCLUDES HIT AND RUN)'\n",
      " 'Initial Call Type_ALARM - ATM MACHINE, FREE STANDING'\n",
      " 'Initial Call Type_ALARM - AUDIBLE AUTOMOBILE (UNOCC/ANTI-THEFT)'\n",
      " 'Initial Call Type_ALARM - BANK (HOLD-UP)'\n",
      " 'Initial Call Type_ALARM - COMM, HOLD-UP/PANIC (EXCEPT BANKS)'\n",
      " 'Initial Call Type_ALARM - COMM, SILENT/AUD BURG (INCL BANKS)'\n",
      " 'Initial Call Type_ALARM - DURESS/PANIC,BUS/TAXI/CAR/PRSN - NOT DV'\n",
      " 'Initial Call Type_ALARM - RESIDENTIAL - BURGLARY, SILENT/AUDIBLE'\n",
      " 'Initial Call Type_ALARM - RESIDENTIAL - SILENT/AUD PANIC/DURESS'\n",
      " 'Initial Call Type_ANIMAL - DANGEROUS'\n",
      " 'Initial Call Type_ANIMAL - INJURED, DEAD HAZARD, OTHER'\n",
      " 'Initial Call Type_ANIMAL - IP/JO - BITE'\n",
      " 'Initial Call Type_ANIMAL - IP/JO - DANGEROUS'\n",
      " 'Initial Call Type_ANIMAL, REPORT - BITE'\n",
      " 'Initial Call Type_ARSON - IP/JO' 'Initial Call Type_ARSON - REPORT'\n",
      " 'Initial Call Type_ASLT - DV' 'Initial Call Type_ASLT - IP/JO - DV'\n",
      " 'Initial Call Type_ASLT - IP/JO - PERSON SHOT OR SHOT AT'\n",
      " 'Initial Call Type_ASLT - IP/JO - WITH OR W/O WPNS (NO SHOOTINGS)'\n",
      " 'Initial Call Type_ASLT - MOLESTED ADULT (GROPED, FONDLED, ETC.)'\n",
      " 'Initial Call Type_ASLT - PERSON SHOT OR SHOT AT'\n",
      " 'Initial Call Type_ASLT - WITH OR W/O WEAPONS (NO SHOOTINGS)'\n",
      " 'Initial Call Type_ASSIST OTHER AGENCY - EMERGENCY SERVICE'\n",
      " 'Initial Call Type_ASSIST OTHER AGENCY - ROUTINE SERVICE'\n",
      " 'Initial Call Type_ASSIST PUBLIC - NO WELFARE CHK OR DV ORDER SERVICE'\n",
      " 'Initial Call Type_ASSIST SPD - ROUTINE SERVICE'\n",
      " 'Initial Call Type_AUTO - THEFT/LOSS, PLATES AND/OR TAB'\n",
      " 'Initial Call Type_AUTO RECOVERY'\n",
      " 'Initial Call Type_AUTO THEFT - VEH THEFT OR THEFT & RECOVERY'\n",
      " 'Initial Call Type_AUTO THEFT-IP/JO - VEHICLE, PLATES, TABS'\n",
      " 'Initial Call Type_BIAS -RACIAL, POLITICAL, SEXUAL MOTIVATION'\n",
      " 'Initial Call Type_BOMB - THREATS'\n",
      " 'Initial Call Type_BOMB THREATS - IP/JO'\n",
      " 'Initial Call Type_BURG - COMM BURGLARY (INCLUDES SCHOOLS)'\n",
      " 'Initial Call Type_BURG - IP/JO - COMM BURG (INCLUDES SCHOOLS)'\n",
      " 'Initial Call Type_BURG - IP/JO - RES (INCL UNOCC STRUCTURES)'\n",
      " 'Initial Call Type_BURG - RES (INCL UNOCC STRUCTURES ON PROP)'\n",
      " 'Initial Call Type_BURN - RECKLESS BURNING'\n",
      " 'Initial Call Type_CARJACKING - IP/JO - ROBBERY'\n",
      " 'Initial Call Type_CHILD -  LURING'\n",
      " 'Initial Call Type_CHILD - ABAND, ABUSED, MOLESTED, NEGLECTED'\n",
      " 'Initial Call Type_CHILD - IP/JO - ABAND, ABUSE, MOLEST, NEGLECT'\n",
      " 'Initial Call Type_CUSTODIAL INTERFERENCE - DV'\n",
      " 'Initial Call Type_DEMONSTRATIONS'\n",
      " 'Initial Call Type_DIST - DV - NO ASLT'\n",
      " 'Initial Call Type_DIST - IP/JO - DV DIST - NO ASLT'\n",
      " 'Initial Call Type_DISTURBANCE, MISCELLANEOUS/OTHER'\n",
      " 'Initial Call Type_DOA - CASUALTY, DEAD BODY'\n",
      " 'Initial Call Type_DOWN - CHECK FOR PERSON DOWN'\n",
      " 'Initial Call Type_DUI - DRIVING UNDER INFLUENCE'\n",
      " 'Initial Call Type_EXPLOSION - IP/JO'\n",
      " 'Initial Call Type_EXPLOSION WITH SIGNIFICANT DELAY'\n",
      " 'Initial Call Type_FIGHT - IP - PHYSICAL (NO WEAPONS)'\n",
      " 'Initial Call Type_FIGHT - IP/JO - WITH WEAPONS'\n",
      " 'Initial Call Type_FIGHT - JO - PHYSICAL (NO WEAPONS)'\n",
      " 'Initial Call Type_FIGHT - VERBAL/ORAL (NO WEAPONS)'\n",
      " 'Initial Call Type_FIGHT - WITH WEAPONS'\n",
      " 'Initial Call Type_FIREWORKS - NUISANCE (NO HAZARD)'\n",
      " 'Initial Call Type_FOLLOW UP' 'Initial Call Type_FOOT - ELUDING POLICE'\n",
      " 'Initial Call Type_FOUND - PERSON'\n",
      " 'Initial Call Type_FRAUD - FORGERY,BUNCO, SCAMS, ID THEFT, ETC'\n",
      " 'Initial Call Type_GAMBLING'\n",
      " 'Initial Call Type_HARAS - NO BIAS, THREATS OR MALICIOUSNESS'\n",
      " 'Initial Call Type_HARBOR - WATER DEBRIS, NAVIGATIONAL HAZARDS'\n",
      " 'Initial Call Type_HARBOR - WATER EMERGENCIES'\n",
      " 'Initial Call Type_HAZ - IMMINENT THRT TO PHYS SAFETY (NO HAZ MAT)'\n",
      " 'Initial Call Type_HAZ - POTENTIAL THRT TO PHYS SAFETY (NO HAZMAT)'\n",
      " 'Initial Call Type_HELP THE OFFICER' 'Initial Call Type_ILLEGAL DUMPING'\n",
      " 'Initial Call Type_INFORMATIONAL BROADCASTS'\n",
      " 'Initial Call Type_INJURED -  PERSON/INDUSTRIAL ACCIDENT'\n",
      " 'Initial Call Type_INJURED - IP/JO - PERSON/INDUSTRIAL ACCIDENT'\n",
      " 'Initial Call Type_JUVENILE - RUNAWAY'\n",
      " 'Initial Call Type_JUVENILE - RUNAWAY PICKUP'\n",
      " 'Initial Call Type_LEWD -  (EXPOSING, FLASHING, URINATING IN PUB)'\n",
      " 'Initial Call Type_LICENSE INSPECTIONS (CHECK FOR)'\n",
      " 'Initial Call Type_LIQUOR VIOLATIONS - ADULT'\n",
      " 'Initial Call Type_LIQUOR VIOLATIONS - MINOR'\n",
      " 'Initial Call Type_LITTERING'\n",
      " 'Initial Call Type_MENTAL - PERSON OR PICKUP/TRANSPORT'\n",
      " 'Initial Call Type_MISSING - (ALZHEIMER, ENDANGERED, ELDERLY)'\n",
      " 'Initial Call Type_MISSING - ADULT' 'Initial Call Type_MISSING - CHILD'\n",
      " 'Initial Call Type_NARCOTICS - FOUND'\n",
      " 'Initial Call Type_NARCOTICS - VIOLATIONS (LOITER, USE, SELL, NARS)'\n",
      " 'Initial Call Type_NARCOTICS WARRANT SERVICE'\n",
      " 'Initial Call Type_NOISE - ANIMAL (INCLUDES BARKING DOGS)'\n",
      " 'Initial Call Type_NOISE - DIST, GENERAL (CONST, RESID, BALL PLAY)'\n",
      " 'Initial Call Type_NOISE - DISTURBANCE (PARTY, ETC)'\n",
      " 'Initial Call Type_NUISANCE - MISCHIEF'\n",
      " 'Initial Call Type_OPEN - BUILDING, DOOR, ETC.'\n",
      " 'Initial Call Type_ORDER  - SERVICE OF DV COURT ORDER'\n",
      " 'Initial Call Type_ORDER - IP - VIOLATION OF DV COURT ORDER'\n",
      " 'Initial Call Type_ORDER - VIOLATING DV COURT ORDER'\n",
      " 'Initial Call Type_ORDER - VIOLATION OF COURT ORDER (NON DV)'\n",
      " 'Initial Call Type_OVERDOSE - DRUG RELATED CASUALTY'\n",
      " 'Initial Call Type_PANHANDLING, AGGRESSIVE'\n",
      " 'Initial Call Type_PARKING VIOLATION (EXCEPT ABANDONED CAR)'\n",
      " 'Initial Call Type_PARKS VIOLATIONS/CITES (INCLUDES EXCLUSIONS)'\n",
      " 'Initial Call Type_PEACE-STANDBY TO ASSURE (NO COURT ORDR SVC)'\n",
      " 'Initial Call Type_PEDESTRIAN VIOLATIONS'\n",
      " 'Initial Call Type_PHONE - OBSCENE OR NUISANCE PHONE CALLS'\n",
      " 'Initial Call Type_PREMISE CHECK, OFFICER INITIATED ONVIEW ONLY'\n",
      " 'Initial Call Type_PROPERTY - DAMAGE'\n",
      " 'Initial Call Type_PROPERTY - FOUND'\n",
      " 'Initial Call Type_PROPERTY - LOST OR MISSING'\n",
      " 'Initial Call Type_PROWLER' 'Initial Call Type_PROWLER - IP/JO'\n",
      " 'Initial Call Type_PURSE SNATCH - IP/JO - ROBBERY'\n",
      " 'Initial Call Type_PURSE SNATCH - ROBBERY' 'Initial Call Type_RAPE'\n",
      " 'Initial Call Type_RAPE - IP/JO' 'Initial Call Type_REQUEST TO WATCH'\n",
      " 'Initial Call Type_ROBBERY (INCLUDES STRONG ARM)'\n",
      " 'Initial Call Type_ROBBERY - IP/JO (INCLUDES STRONG ARM)'\n",
      " 'Initial Call Type_SECONDARY - FORGERY/BUNCO/SCAMS/ID THEFT'\n",
      " 'Initial Call Type_SECONDARY - PROPERTY DAMAGE/DESTRUCTION'\n",
      " 'Initial Call Type_SECONDARY - PROPERTY, LOST OR MISSING'\n",
      " 'Initial Call Type_SECONDARY - THEFT (NOT SHOPLIFT OR SERVICES)'\n",
      " 'Initial Call Type_SERVICE - WELFARE CHECK'\n",
      " 'Initial Call Type_SEX IN PUBLIC PLACE/VIEW (INCL MASTURBATION)'\n",
      " 'Initial Call Type_SEX OFFENDER - FAILURE TO REGISTER'\n",
      " 'Initial Call Type_SFD - ASSIST ON FIRE OR MEDIC RESPONSE'\n",
      " 'Initial Call Type_SHOPLIFT - THEFT'\n",
      " 'Initial Call Type_SHOTS - IP/JO - INCLUDES HEARD/NO ASSAULT'\n",
      " 'Initial Call Type_SHOTS -DELAY/INCLUDES HEARD/NO ASSAULT'\n",
      " 'Initial Call Type_SICK PERSON'\n",
      " 'Initial Call Type_SLEEPER ABOARD BUS/COMMUTER TRAIN'\n",
      " 'Initial Call Type_SUICIDE - IP/JO SUICIDAL PERSON AND ATTEMPTS'\n",
      " 'Initial Call Type_SUICIDE, SUICIDAL PERSON AND ATTEMPTS'\n",
      " 'Initial Call Type_SUSPICIOUS PACKAGE'\n",
      " 'Initial Call Type_SUSPICIOUS PERSON, VEHICLE OR INCIDENT'\n",
      " 'Initial Call Type_SUSPICIOUS STOP - OFFICER INITIATED ONVIEW'\n",
      " 'Initial Call Type_THEFT (DOES NOT INCLUDE SHOPLIFT OR SVCS)'\n",
      " 'Initial Call Type_THEFT OF SERVICES'\n",
      " 'Initial Call Type_THREATS (INCLS IN-PERSON/BY PHONE/IN WRITING)'\n",
      " 'Initial Call Type_THREATS - DV - NO ASSAULT'\n",
      " 'Initial Call Type_TRAFFIC - ASSIST MOTORIST'\n",
      " 'Initial Call Type_TRAFFIC - BLOCKING ROADWAY'\n",
      " 'Initial Call Type_TRAFFIC - MOVING VIOLATION'\n",
      " 'Initial Call Type_TRAFFIC - ROAD RAGE'\n",
      " 'Initial Call Type_TRAFFIC PURSUIT - OFFICER INITIATED ONVIEW'\n",
      " 'Initial Call Type_TRAFFIC STOP - OFFICER INITIATED ONVIEW'\n",
      " 'Initial Call Type_TRESPASS' 'Initial Call Type_TRU - ACC - HIT AND RUN'\n",
      " 'Initial Call Type_TRU - ASLT - WITH OR W/O WPNS (NO SHOOTINGS)'\n",
      " 'Initial Call Type_TRU - COMMERCIAL BURGLARY'\n",
      " 'Initial Call Type_TRU - FOLLOW UP'\n",
      " 'Initial Call Type_TRU - FORGERY/CHKS/BUNCO/SCAMS/ID THEFT'\n",
      " 'Initial Call Type_TRU - HARASSMENT'\n",
      " 'Final Call Type_--ARSON,BOMBS,EXPLO - BOMBS, EXPLO,LARGE FIREWORKS'\n",
      " 'Final Call Type_--ASSAULTS - FIREARM INVOLVED'\n",
      " 'Final Call Type_--ASSAULTS - GANG RELATED'\n",
      " 'Final Call Type_--ASSAULTS - HARASSMENT, THREATS'\n",
      " 'Final Call Type_--ASSAULTS - TELEPHONE, WRITING'\n",
      " 'Final Call Type_--ASSAULTS, OTHER'\n",
      " 'Final Call Type_--ASSIST OTHER AGENCY - CITY AGENCY'\n",
      " 'Final Call Type_--ASSIST OTHER AGENCY - COUNTY AGENCY'\n",
      " 'Final Call Type_--ASSIST OTHER AGENCY - FEDERAL AGENCY'\n",
      " 'Final Call Type_--ASSIST OTHER AGENCY - STATE AGENCY'\n",
      " 'Final Call Type_--BURGLARY - NON RESIDENTIAL/COMMERCIAL'\n",
      " 'Final Call Type_--BURGLARY - RESIDENTIAL, UNOCCUPIED'\n",
      " 'Final Call Type_--DISTURBANCE - NOISE'\n",
      " 'Final Call Type_--DISTURBANCE - NOISE RESIDENTIAL'\n",
      " 'Final Call Type_--DISTURBANCE - OTHER'\n",
      " 'Final Call Type_--DV - ARGUMENTS, DISTURBANCE (NO ARREST)'\n",
      " 'Final Call Type_--DV - ENFORCE COURT ORDER (ARREST MANDATED)'\n",
      " 'Final Call Type_--DV - SERVICE OF COURT ORDER'\n",
      " 'Final Call Type_--DV - STANDBY TO ASSURE PEACE'\n",
      " 'Final Call Type_--DV -VULNERABLE ADULT, FINANCIAL EXPLOITATION'\n",
      " 'Final Call Type_--DV -VULNERABLE ADULT, NEGLECT'\n",
      " 'Final Call Type_--DV -VULNERABLE ADULT, PHYSICAL ABUSE'\n",
      " 'Final Call Type_--FRAUD - FORGERY, BAD CHECKS'\n",
      " 'Final Call Type_--FRAUD - FRAUD, INCLUDING BUNCO'\n",
      " 'Final Call Type_--HARBOR - VESSEL, ABANDONED'\n",
      " 'Final Call Type_--HARBOR - VESSEL, THEFT'\n",
      " 'Final Call Type_--HARBOR - VESSEL, THEFT AND RECOVERY'\n",
      " 'Final Call Type_--HAZARDS - HAZARDS'\n",
      " 'Final Call Type_--HELP THE OFFICER - HELP THE OFFICER (EMERGENCY)'\n",
      " 'Final Call Type_--HOMICIDE'\n",
      " 'Final Call Type_--INTOX & LIQ VIOLS - ADULTS (VIOLATIONS)'\n",
      " 'Final Call Type_--INTOX & LIQ VIOLS - INTOXICATED PERSON'\n",
      " 'Final Call Type_--INTOX & LIQ VIOLS - MINORS (VIOLATIONS)'\n",
      " 'Final Call Type_--KIDNAP - CUSTODIAL INTERFERENCE'\n",
      " 'Final Call Type_--MISC MISD AND VIOLS - PARKS EXCLUSION'\n",
      " 'Final Call Type_--MISC MISD AND VIOLS - RECKLESS ENDANGERMENT'\n",
      " 'Final Call Type_--MISCHIEF OR NUISANCE - GENERAL'\n",
      " 'Final Call Type_--NARCOTICS - DRUG TRAFFIC LOITERING'\n",
      " 'Final Call Type_--NARCOTICS - FOUND , RECOVERED NARCOTICS'\n",
      " 'Final Call Type_--NARCOTICS - NARCOTICS WARRANT SERVICE'\n",
      " 'Final Call Type_--NARCOTICS - NARS REPORT'\n",
      " 'Final Call Type_--NARCOTICS - OTHER'\n",
      " 'Final Call Type_--PERSON - A.W.O.L.'\n",
      " 'Final Call Type_--PERSON - FOUND PERSON'\n",
      " 'Final Call Type_--PERSON - LOST PERSON'\n",
      " 'Final Call Type_--PERSON - MISSING PERSON'\n",
      " 'Final Call Type_--PERSON - RUNAWAY'\n",
      " 'Final Call Type_--PREMISE CHECKS - BUSINESS CHECK'\n",
      " 'Final Call Type_--PREMISE CHECKS - CRIME PREVENTION'\n",
      " 'Final Call Type_--PREMISE CHECKS - LICENSE INSPECTIONS'\n",
      " 'Final Call Type_--PREMISE CHECKS - REQUEST TO WATCH'\n",
      " 'Final Call Type_--PROPERTY - FOUND PROPERTY'\n",
      " 'Final Call Type_--PROPERTY - FOUND PROPERTY (NON-SPD SIN)'\n",
      " 'Final Call Type_--PROPERTY - MISSING PROPERTY'\n",
      " 'Final Call Type_--PROPERTY DEST (DAMG)'\n",
      " 'Final Call Type_--PROPERTY DEST (DAMG) - GRAFFITI (INCLUDES GANG)'\n",
      " 'Final Call Type_--PROWLER - GENERAL'\n",
      " 'Final Call Type_--PROWLER - TRESPASS'\n",
      " 'Final Call Type_--PROWLER - TRESPASS, PARKS EXCLUSION'\n",
      " 'Final Call Type_--RAPE - KNOWN SUSPECT (ACQUAINTANCE)'\n",
      " 'Final Call Type_--RAPE - UNKNOWN SUSPECT (STRANGER)'\n",
      " 'Final Call Type_--ROBBERY - ARMED'\n",
      " 'Final Call Type_--ROBBERY - STRONG ARM'\n",
      " 'Final Call Type_--SEX OFFENSES (NON-RAPE) - FAILURE TO REGISTER'\n",
      " 'Final Call Type_--SEX OFFENSES (NON-RAPE) - LEWD CONDUCT'\n",
      " 'Final Call Type_--SEX OFFENSES (RAPE) - MOLESTING'\n",
      " 'Final Call Type_--SUSPICIOUS CIRCUM. - BUILDING (OPEN DOOR, ETC)'\n",
      " 'Final Call Type_--SUSPICIOUS CIRCUM. - SUSPICIOUS PERSON'\n",
      " 'Final Call Type_--SUSPICIOUS CIRCUM. - SUSPICIOUS VEHICLE'\n",
      " 'Final Call Type_--THEFT - ALL OTHER'\n",
      " 'Final Call Type_--THEFT - AUTO ACCESSORIES'\n",
      " 'Final Call Type_--THEFT - BICYCLE' 'Final Call Type_--THEFT - CAR PROWL'\n",
      " 'Final Call Type_--THEFT - SHOPLIFT'\n",
      " 'Final Call Type_--TRAFFIC - ASSIST MOTORIST'\n",
      " 'Final Call Type_--TRAFFIC - BLOCKING TRAFFIC'\n",
      " 'Final Call Type_--TRAFFIC - D.U.I.'\n",
      " 'Final Call Type_--TRAFFIC - MOVING VIOLATION'\n",
      " 'Final Call Type_--TRAFFIC - MV COLLISION INVESTIGATION'\n",
      " 'Final Call Type_--TRAFFIC - PARKING VIOL (EXCEPT ABANDONED CAR)'\n",
      " 'Final Call Type_--TRAFFIC - PEDESTRIAN VIOLATION'\n",
      " 'Final Call Type_--TRAFFIC - REFUSE TO STOP (PURSUIT)'\n",
      " 'Final Call Type_--VICE - GAMBLING' 'Final Call Type_--VICE - OTHER'\n",
      " 'Final Call Type_--VICE - PROSTITUTION'\n",
      " 'Final Call Type_--VICE - VIOL. OF SOAP ORDER'\n",
      " 'Final Call Type_--WARRANT SERVICES - FELONY'\n",
      " 'Final Call Type_--WARRANT SERVICES - MISDEMEANOR'\n",
      " 'Final Call Type_--WEAPON, PERSON WITH - GUN'\n",
      " 'Final Call Type_--WEAPON,PERSON WITH - OTHER WEAPON'\n",
      " 'Final Call Type_-ASSIGNED DUTY - COMMUNITY,SCHOOL,SPECIAL EVENT'\n",
      " 'Final Call Type_-ASSIGNED DUTY - COURT'\n",
      " 'Final Call Type_-ASSIGNED DUTY - DETAIL BY SUPERVISOR'\n",
      " 'Final Call Type_-ASSIGNED DUTY - FOOT BEAT (FROM ASSIGNED CAR)'\n",
      " 'Final Call Type_-ASSIGNED DUTY - IN-SERVICE TRAINING'\n",
      " 'Final Call Type_-ASSIGNED DUTY - REPORTS'\n",
      " 'Final Call Type_-ASSIGNED DUTY - STAKEOUT'\n",
      " 'Final Call Type_-OUT AT RANGE'\n",
      " 'Final Call Type_-OUT TO PRECINCT/STATION'\n",
      " 'Final Call Type_ACC - HIT AND RUN (NO INJURIES). INCLUDES IP/JO'\n",
      " 'Final Call Type_ACC - NON INJURY, BLOCKING'\n",
      " 'Final Call Type_ACC - WITH INJURIES (INCLUDES HIT AND RUN)'\n",
      " 'Final Call Type_ASLT - DV'\n",
      " 'Final Call Type_ASLT - WITH OR W/O WEAPONS (NO SHOOTINGS)'\n",
      " 'Final Call Type_ASSIST OTHER AGENCY - ROUTINE SERVICE'\n",
      " 'Final Call Type_AUTO RECOVERY'\n",
      " 'Final Call Type_BIAS -RACIAL, POLITICAL, SEXUAL MOTIVATION'\n",
      " 'Final Call Type_BURG - COMM BURGLARY (INCLUDES SCHOOLS)'\n",
      " 'Final Call Type_BURG - IP/JO - RES (INCL UNOCC STRUCTURES)'\n",
      " 'Final Call Type_BURG - RES (INCL UNOCC STRUCTURES ON PROP)'\n",
      " 'Final Call Type_BURN - RECKLESS BURNING'\n",
      " 'Final Call Type_CHILD - ABAND, ABUSED, MOLESTED, NEGLECTED'\n",
      " 'Final Call Type_DISTURBANCE, MISCELLANEOUS/OTHER'\n",
      " 'Final Call Type_DOA - CASUALTY, DEAD BODY' 'Final Call Type_FOLLOW UP'\n",
      " 'Final Call Type_FRAUD - FORGERY,BUNCO, SCAMS, ID THEFT, ETC'\n",
      " 'Final Call Type_GAMBLING'\n",
      " 'Final Call Type_HARAS - NO BIAS, THREATS OR MALICIOUSNESS'\n",
      " 'Final Call Type_JUVENILE - RUNAWAY'\n",
      " 'Final Call Type_JUVENILE - RUNAWAY PICKUP'\n",
      " 'Final Call Type_LEWD -  (EXPOSING, FLASHING, URINATING IN PUB)'\n",
      " 'Final Call Type_LIQUOR VIOLATIONS - ADULT'\n",
      " 'Final Call Type_MENTAL - PERSON OR PICKUP/TRANSPORT'\n",
      " 'Final Call Type_MISSING - (ALZHEIMER, ENDANGERED, ELDERLY)'\n",
      " 'Final Call Type_MISSING - CHILD'\n",
      " 'Final Call Type_NARCOTICS - VIOLATIONS (LOITER, USE, SELL, NARS)'\n",
      " 'Final Call Type_NUISANCE - MISCHIEF'\n",
      " 'Final Call Type_ORDER - IP - VIOLATION OF DV COURT ORDER'\n",
      " 'Final Call Type_ORDER - VIOLATION OF COURT ORDER (NON DV)'\n",
      " 'Final Call Type_PARKING VIOLATION (EXCEPT ABANDONED CAR)'\n",
      " 'Final Call Type_PREMISE CHECK, OFFICER INITIATED ONVIEW ONLY'\n",
      " 'Final Call Type_PROPERTY - DAMAGE' 'Final Call Type_PROPERTY - FOUND'\n",
      " 'Final Call Type_PROPERTY - LOST OR MISSING' 'Final Call Type_PROWLER'\n",
      " 'Final Call Type_RAPE' 'Final Call Type_ROBBERY (INCLUDES STRONG ARM)'\n",
      " 'Final Call Type_SECONDARY - THEFT (NOT SHOPLIFT OR SERVICES)'\n",
      " 'Final Call Type_SEX OFFENDER - FAILURE TO REGISTER'\n",
      " 'Final Call Type_SUICIDE, SUICIDAL PERSON AND ATTEMPTS'\n",
      " 'Final Call Type_SUSPICIOUS PERSON, VEHICLE OR INCIDENT'\n",
      " 'Final Call Type_THEFT (DOES NOT INCLUDE SHOPLIFT OR SVCS)'\n",
      " 'Final Call Type_THREATS (INCLS IN-PERSON/BY PHONE/IN WRITING)'\n",
      " 'Final Call Type_THREATS - DV - NO ASSAULT'\n",
      " 'Final Call Type_TRAFFIC - MOVING VIOLATION' 'Final Call Type_TRESPASS'\n",
      " 'Final Call Type_VICE - PROSTITUTION'\n",
      " 'Final Call Type_WARRANT - FELONY PICKUP'\n",
      " 'Final Call Type_WARRANT - MISD WARRANT PICKUP'\n",
      " 'Final Call Type_WEAPN - GUN,DEADLY WPN (NO THRTS/ASLT/DIST)'\n",
      " 'Precinct_EAST' 'Precinct_NORTH' 'Precinct_SOUTH' 'Precinct_SOUTHWEST'\n",
      " 'Precinct_WEST' 'Sector_BOY' 'Sector_CHARLIE' 'Sector_DAVID'\n",
      " 'Sector_EDWARD' 'Sector_FRANK' 'Sector_GEORGE' 'Sector_JOHN'\n",
      " 'Sector_KING' 'Sector_LINCOLN' 'Sector_MARY' 'Sector_NORA' 'Sector_OCEAN'\n",
      " 'Sector_QUEEN' 'Sector_ROBERT' 'Sector_SAM' 'Sector_UNION'\n",
      " 'Sector_WILLIAM' 'Beat_B1' 'Beat_B2' 'Beat_B3' 'Beat_C1' 'Beat_C2'\n",
      " 'Beat_C3' 'Beat_D1' 'Beat_D2' 'Beat_D3' 'Beat_E1' 'Beat_E2' 'Beat_E3'\n",
      " 'Beat_F1' 'Beat_F2' 'Beat_F3' 'Beat_G1' 'Beat_G2' 'Beat_G3' 'Beat_J1'\n",
      " 'Beat_J2' 'Beat_J3' 'Beat_K1' 'Beat_K2' 'Beat_K3' 'Beat_L1' 'Beat_L2'\n",
      " 'Beat_L3' 'Beat_M1' 'Beat_M2' 'Beat_M3' 'Beat_N1' 'Beat_N2' 'Beat_N3'\n",
      " 'Beat_O1' 'Beat_O2' 'Beat_O3' 'Beat_Q1' 'Beat_Q2' 'Beat_Q3' 'Beat_R1'\n",
      " 'Beat_R2' 'Beat_R3' 'Beat_S1' 'Beat_S2' 'Beat_S3' 'Beat_U1' 'Beat_U2'\n",
      " 'Beat_U3' 'Beat_W1' 'Beat_W2' 'Beat_W3']\n",
      "[0.50525406 0.55984953 0.59541519 0.59417141 0.58584341 0.58982488\n",
      " 0.6043092  0.61699274 0.62849395 0.64111588 0.65205965 0.6597076\n",
      " 0.66250647 0.66959552 0.67245493 0.67612155 0.67966594 0.68140772\n",
      " 0.6807867  0.67948108 0.6812858  0.68165853 0.68078506 0.68364392\n",
      " 0.68420437 0.68476292 0.68644299 0.68607124 0.68557336 0.68606995\n",
      " 0.686132   0.68706498 0.68830835 0.68936493 0.68992457 0.68936504\n",
      " 0.6893022  0.68899137 0.68967539 0.68955065 0.68905282 0.68992374\n",
      " 0.69017198 0.69010921 0.68948788 0.68874151 0.68874105 0.68936178\n",
      " 0.68961092 0.68992175 0.69091676 0.68973538 0.69017041 0.69023337\n",
      " 0.69116623 0.69079313 0.69216081 0.6927208  0.6939028  0.69296985\n",
      " 0.6931568  0.69303223 0.69309469 0.69328114 0.69377904 0.69315713\n",
      " 0.69334356 0.69377885 0.69377883 0.69384111 0.69365451 0.69390326\n",
      " 0.69371679 0.69353038 0.69489848 0.69433882 0.69390411 0.69409072\n",
      " 0.6939664  0.69452463 0.69439975 0.69464876 0.69452442 0.69495994\n",
      " 0.69440033 0.69433807 0.69458676 0.69471112 0.69483583 0.69471118\n",
      " 0.69483544 0.69471135 0.69483567 0.69489761 0.69464916 0.69496013\n",
      " 0.69464884 0.6947732  0.69471132 0.69452463 0.69433799 0.6945868\n",
      " 0.69464913 0.69464913 0.69495984 0.6948979  0.69483562 0.6945869\n",
      " 0.69471103 0.69483581 0.694587   0.69495998 0.69514681 0.69483577\n",
      " 0.69483567 0.69452467 0.69440022 0.69496003 0.69477306 0.69477325\n",
      " 0.69483548 0.69495994 0.69458684 0.69477306 0.69502226 0.69502243\n",
      " 0.69477335 0.69495978 0.69471126 0.69452467 0.6952086  0.69471135\n",
      " 0.69495994 0.69477325 0.69464922 0.69489794 0.69471108 0.69508416\n",
      " 0.69483567 0.6950843  0.69489784 0.69496003 0.69452457 0.69502222\n",
      " 0.69471112 0.69502213 0.69502201 0.69483533 0.69471106 0.69495998\n",
      " 0.69483548 0.69483581 0.69452467 0.69464899 0.69446239 0.69464889\n",
      " 0.69477341 0.69496013 0.69496023 0.69446244 0.69477345 0.69458657\n",
      " 0.69496003 0.69477333 0.69464899 0.69514633 0.69464897 0.69502216\n",
      " 0.69483535 0.69495994 0.69483571 0.69458674 0.69477339 0.6950222\n",
      " 0.69458694 0.69514648 0.6949598  0.69471116 0.69502201 0.69514662\n",
      " 0.69483552 0.69502213 0.69489775 0.69477335 0.69483571 0.69458684\n",
      " 0.6946487  0.69458684 0.69477358 0.69477321 0.69464884 0.69502203\n",
      " 0.69483571 0.69477329 0.69452444 0.69477341 0.69514662 0.69464922\n",
      " 0.69452477 0.69508426 0.69483554 0.69502216 0.6947111  0.6947732\n",
      " 0.69514658 0.69471135 0.69520871 0.69483587 0.69452471 0.69458676\n",
      " 0.69508443 0.69508472 0.69514672 0.69483567 0.69471159 0.69496023\n",
      " 0.69427613 0.69471135 0.69489748 0.69458667 0.69458671 0.69464889\n",
      " 0.69496007 0.69477321 0.69483571 0.69496007 0.69452481 0.69477296\n",
      " 0.69508443 0.69489784 0.69464913 0.69489781 0.69464899 0.69489813\n",
      " 0.69471118 0.69477358 0.69464884 0.6947113  0.69464913 0.69464903\n",
      " 0.69489779 0.69464903 0.69471122 0.69489804 0.69495984 0.69464893\n",
      " 0.69471139 0.69477339 0.6945869  0.6950224  0.69464907 0.69477329\n",
      " 0.6946487  0.6947112  0.69477343 0.69520881 0.69483538 0.69446267\n",
      " 0.69496021 0.69502236 0.69464874 0.69527131 0.69464903 0.69471135\n",
      " 0.69471139 0.69489777 0.69483571 0.6948979  0.69464893 0.69471135\n",
      " 0.69458674 0.6947113  0.69483581 0.69446277 0.69477341 0.6949603\n",
      " 0.69458674 0.6947112  0.6947737  0.69527102 0.69477349 0.69464916\n",
      " 0.69483571 0.69502224 0.69508459 0.69483575 0.694898   0.69489784\n",
      " 0.69496023 0.69433795 0.69446229 0.69508426 0.69477316 0.69496007\n",
      " 0.69471137 0.69477368 0.69527121 0.69477372 0.6950223  0.69496044\n",
      " 0.69520875 0.69440043 0.69440035 0.69514681 0.69458707 0.69471149\n",
      " 0.69520881 0.69483562 0.69496001 0.6945868  0.69489765 0.69489804\n",
      " 0.6950224  0.69508439 0.69433816 0.69489794 0.6946494  0.69496001\n",
      " 0.69495999 0.69508466 0.69471162 0.69502236 0.69489798 0.69446239\n",
      " 0.6950223  0.69464893 0.69464893 0.69446229 0.69458688 0.69514633\n",
      " 0.6946494  0.6951466  0.69489808 0.69464913 0.69502234 0.69477349\n",
      " 0.69464889 0.69471135 0.69452477 0.69464911 0.69421371 0.69477349\n",
      " 0.69446235 0.69471153 0.69458686 0.69477343 0.6950222  0.69458707\n",
      " 0.69483594 0.69464907 0.69464901 0.69471143 0.69514679 0.69502226\n",
      " 0.69520889 0.69508443 0.6949598  0.69477329 0.69495994 0.6947112\n",
      " 0.694587   0.69477366 0.69520894 0.69527121 0.69471106 0.69477335\n",
      " 0.69520875 0.69496046 0.69477389 0.69471145 0.6947732  0.69483566\n",
      " 0.69452484 0.6945249  0.69483562 0.6945868  0.69477372 0.69458707\n",
      " 0.69483567 0.69464888 0.69489775 0.69502234 0.69464916 0.69496003\n",
      " 0.69471143 0.6947732  0.69502259 0.69458698 0.69502216 0.69464936\n",
      " 0.69502216 0.6947113  0.69483567 0.6950223  0.69496007 0.69440045\n",
      " 0.69483544 0.69502224 0.69496007 0.69483598 0.69496036 0.69433826\n",
      " 0.69458713 0.69496011 0.69508433 0.69458671 0.69496017 0.6950224\n",
      " 0.69495998 0.69483565 0.69489779 0.69489804 0.69533315 0.69496027\n",
      " 0.69483575 0.69495999 0.69477339 0.69458688 0.69458703 0.69433826\n",
      " 0.69471122 0.69464926 0.69483562 0.69489802 0.69458727 0.69483562\n",
      " 0.69483538 0.69477349 0.69514648 0.69508435 0.69483552 0.69483535\n",
      " 0.69477352 0.69477364 0.69502234 0.69458671 0.69464915 0.69471157\n",
      " 0.69471122 0.69495994 0.69489784 0.69489804 0.69483571 0.69483564\n",
      " 0.69496017 0.69483562 0.69489786 0.69496027 0.69483552 0.69446254\n",
      " 0.69496017 0.69452494 0.69508459 0.69452477 0.69483567 0.69483552\n",
      " 0.69464913 0.69477329 0.69489757 0.69464907 0.69483585 0.69471122\n",
      " 0.69495998 0.694898   0.69471126 0.69483558 0.69502197]\n",
      "Optimal number of features : 413\n"
     ]
    }
   ],
   "source": [
    "import matplotlib.pyplot as plt\n",
    "from sklearn.model_selection import StratifiedKFold\n",
    "from sklearn.feature_selection import RFECV\n",
    "\n",
    "# classifications\n",
    "rfecv = RFECV(estimator=best_model_dtc, step=1, cv=StratifiedKFold(5))\n",
    "rfecv = rfecv.fit(x_train, y_train)\n",
    "\n",
    "print(x_train.columns.values[rfecv.support_])\n",
    "print(rfecv.grid_scores_)\n",
    "\n",
    "print(\"Optimal number of features : %d\" % rfecv.n_features_)"
   ]
  },
  {
   "cell_type": "markdown",
   "metadata": {},
   "source": [
    "- As Features mais importantes são \"Sector\" e \"Beat\", ou seja, Setor e a Ronda, features relacionadas à localização de origem da chamada, de forma a determinarem mais fortemente um maior número e determinada descrição de ocorrências."
   ]
  },
  {
   "cell_type": "markdown",
   "metadata": {},
   "source": [
    " **11. Aplique clusterização, preferencialmente o KMeans sobre o dado, e comunique suas novas descobertas, sinta-se a vontade para apresentar uma solução com recursos visuais (2,0 pontos)**"
   ]
  },
  {
   "cell_type": "code",
   "execution_count": 65,
   "metadata": {},
   "outputs": [],
   "source": [
    "from sklearn.preprocessing import MinMaxScaler\n",
    "from sklearn.cluster import KMeans\n",
    "from sklearn.metrics import silhouette_score"
   ]
  },
  {
   "cell_type": "code",
   "execution_count": null,
   "metadata": {},
   "outputs": [],
   "source": [
    "scaler = MinMaxScaler()\n",
    "values = scaler.fit_transform(x_train)"
   ]
  },
  {
   "cell_type": "code",
   "execution_count": 73,
   "metadata": {},
   "outputs": [],
   "source": [
    "x_train = pd.DataFrame(values, columns = x_train.columns)"
   ]
  },
  {
   "cell_type": "code",
   "execution_count": 74,
   "metadata": {},
   "outputs": [
    {
     "data": {
      "text/plain": [
       "Index(['Year', 'Month', 'Day', 'Weekday', 'Hour', 'Call Type_911',\n",
       "       'Call Type_ALARM CALL (NOT POLICE ALARM)',\n",
       "       'Call Type_HISTORY CALL (RETRO)', 'Call Type_IN PERSON COMPLAINT',\n",
       "       'Call Type_ONVIEW',\n",
       "       ...\n",
       "       'Beat_R3', 'Beat_S1', 'Beat_S2', 'Beat_S3', 'Beat_U1', 'Beat_U2',\n",
       "       'Beat_U3', 'Beat_W1', 'Beat_W2', 'Beat_W3'],\n",
       "      dtype='object', length=467)"
      ]
     },
     "execution_count": 74,
     "metadata": {},
     "output_type": "execute_result"
    }
   ],
   "source": [
    "x_train.columns"
   ]
  },
  {
   "cell_type": "code",
   "execution_count": 77,
   "metadata": {},
   "outputs": [
    {
     "data": {
      "image/png": "[encoded data removed]",
      "text/plain": [
       "<Figure size 1080x432 with 1 Axes>"
      ]
     },
     "metadata": {
      "needs_background": "light"
     },
     "output_type": "display_data"
    }
   ],
   "source": [
    "sil = []\n",
    "for k in range(2, 8):\n",
    "    kmeans_ = KMeans(n_clusters=k, random_state=10)\n",
    "    kmeans_.fit(x_train)\n",
    "    sil.append(silhouette_score(x_test, kmeans_.predict(x_test)))\n",
    "\n",
    "cluster = np.arange(2, 8)\n",
    "sil = np.array(sil)\n",
    "\n",
    "plt.figure(figsize = (15, 6))\n",
    "plt.plot(cluster, sil, 'b*-')\n",
    "\n",
    "plt.title(\"Silhouette Curve\", fontsize = 20)\n",
    "plt.xlabel(\"Clusters\", fontsize = 12)\n",
    "plt.ylabel(\"Silhouette\", fontsize = 12)\n",
    "\n",
    "plt.xticks(cluster)\n",
    "plt.grid()\n",
    "\n",
    "plt.show()"
   ]
  },
  {
   "cell_type": "markdown",
   "metadata": {},
   "source": [
    "- De acordo com o gráfico do Silhouette Score para cada quantidade de clusters testada, percebe-se que o melhor score se dá para a configuração de 2 clusters, para o modelo K-means, ou seja, clusterização sem os dados de entrada previamente rotulados por classe alvo(y). "
   ]
  },
  {
   "cell_type": "markdown",
   "metadata": {},
   "source": [
    "# Bom trabalho!"
   ]
  }
 ],
 "metadata": {
  "anaconda-cloud": {},
  "kernelspec": {
   "display_name": "Python 3",
   "language": "python",
   "name": "python3"
  },
  "language_info": {
   "codemirror_mode": {
    "name": "ipython",
    "version": 3
   },
   "file_extension": ".py",
   "mimetype": "text/x-python",
   "name": "python",
   "nbconvert_exporter": "python",
   "pygments_lexer": "ipython3",
   "version": "3.7.1"
  }
 },
 "nbformat": 4,
 "nbformat_minor": 2
}
