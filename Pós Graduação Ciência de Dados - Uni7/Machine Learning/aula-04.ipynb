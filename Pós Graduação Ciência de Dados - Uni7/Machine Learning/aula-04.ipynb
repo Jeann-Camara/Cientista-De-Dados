{
 "cells": [
  {
   "cell_type": "code",
   "execution_count": 1,
   "metadata": {},
   "outputs": [],
   "source": [
    "from sklearn.datasets import load_boston\n",
    "from sklearn.linear_model import LinearRegression, Lasso, LogisticRegression\n",
    "from sklearn.preprocessing import MinMaxScaler, PolynomialFeatures\n",
    "from sklearn.model_selection import train_test_split\n",
    "import numpy as np\n",
    "from sklearn.datasets import load_breast_cancer\n",
    "from sklearn.svm import SVC"
   ]
  },
  {
   "cell_type": "code",
   "execution_count": 2,
   "metadata": {},
   "outputs": [],
   "source": [
    "boston = load_boston()"
   ]
  },
  {
   "cell_type": "markdown",
   "metadata": {},
   "source": [
    "# Não escalado"
   ]
  },
  {
   "cell_type": "code",
   "execution_count": 3,
   "metadata": {},
   "outputs": [],
   "source": [
    "X = boston['data']\n",
    "y = boston['target']\n",
    "X_scaled = MinMaxScaler().fit_transform(X)"
   ]
  },
  {
   "cell_type": "code",
   "execution_count": 4,
   "metadata": {},
   "outputs": [],
   "source": [
    "X_train, X_test, y_train, y_test = train_test_split(X,y)"
   ]
  },
  {
   "cell_type": "code",
   "execution_count": 5,
   "metadata": {},
   "outputs": [
    {
     "data": {
      "text/plain": [
       "0.700770938393629"
      ]
     },
     "execution_count": 5,
     "metadata": {},
     "output_type": "execute_result"
    }
   ],
   "source": [
    "lr = LinearRegression()\n",
    "lr.fit(X_train, y_train)\n",
    "lr.score(X_test, y_test)"
   ]
  },
  {
   "cell_type": "markdown",
   "metadata": {},
   "source": [
    "# Escalado"
   ]
  },
  {
   "cell_type": "code",
   "execution_count": 6,
   "metadata": {},
   "outputs": [],
   "source": [
    "X_train, X_test, y_train, y_test = train_test_split(X_scaled, y)"
   ]
  },
  {
   "cell_type": "code",
   "execution_count": 7,
   "metadata": {},
   "outputs": [
    {
     "data": {
      "text/plain": [
       "0.6632079052893783"
      ]
     },
     "execution_count": 7,
     "metadata": {},
     "output_type": "execute_result"
    }
   ],
   "source": [
    "lr.fit(X_train, y_train)\n",
    "lr.score(X_test, y_test)"
   ]
  },
  {
   "cell_type": "markdown",
   "metadata": {},
   "source": [
    "# Polinomial"
   ]
  },
  {
   "cell_type": "code",
   "execution_count": 8,
   "metadata": {},
   "outputs": [],
   "source": [
    "poly = PolynomialFeatures(degree=2)"
   ]
  },
  {
   "cell_type": "code",
   "execution_count": 9,
   "metadata": {},
   "outputs": [],
   "source": [
    "X_poly = poly.fit_transform(X_scaled)"
   ]
  },
  {
   "cell_type": "code",
   "execution_count": 10,
   "metadata": {},
   "outputs": [],
   "source": [
    "X_train, X_test, y_train, y_test = train_test_split(X_poly, y)"
   ]
  },
  {
   "cell_type": "code",
   "execution_count": 11,
   "metadata": {},
   "outputs": [
    {
     "data": {
      "text/plain": [
       "0.8307026371187769"
      ]
     },
     "execution_count": 11,
     "metadata": {},
     "output_type": "execute_result"
    }
   ],
   "source": [
    "lr.fit(X_train, y_train)\n",
    "lr.score(X_test, y_test)"
   ]
  },
  {
   "cell_type": "markdown",
   "metadata": {},
   "source": [
    "# Regressão Logística"
   ]
  },
  {
   "cell_type": "code",
   "execution_count": 12,
   "metadata": {},
   "outputs": [],
   "source": [
    "cancer = load_breast_cancer()\n",
    "X = cancer['data']\n",
    "y = cancer['target']\n",
    "X_train, X_test, y_train, y_test = train_test_split(X,y)"
   ]
  },
  {
   "cell_type": "code",
   "execution_count": 13,
   "metadata": {},
   "outputs": [
    {
     "data": {
      "text/plain": [
       "0.9694835680751174"
      ]
     },
     "execution_count": 13,
     "metadata": {},
     "output_type": "execute_result"
    }
   ],
   "source": [
    "clf = LogisticRegression(C=100, solver='lbfgs', max_iter=10000)\n",
    "clf.fit(X_train, y_train)\n",
    "clf.score(X_train, y_train)"
   ]
  },
  {
   "cell_type": "markdown",
   "metadata": {},
   "source": [
    "# SVM"
   ]
  },
  {
   "cell_type": "code",
   "execution_count": 14,
   "metadata": {},
   "outputs": [],
   "source": [
    "svc= SVC(kernel='linear', C=2)"
   ]
  },
  {
   "cell_type": "code",
   "execution_count": 15,
   "metadata": {},
   "outputs": [],
   "source": [
    "(X_cancer, y_cancer) = load_breast_cancer(return_X_y=True)"
   ]
  },
  {
   "cell_type": "code",
   "execution_count": 16,
   "metadata": {},
   "outputs": [
    {
     "data": {
      "text/plain": [
       "0.9630931458699473"
      ]
     },
     "execution_count": 16,
     "metadata": {},
     "output_type": "execute_result"
    }
   ],
   "source": [
    "X_train, X_test, y_train, y_test = train_test_split(X_cancer,y_cancer)\n",
    "svc.fit(X_cancer, y_cancer)\n",
    "svc.score(X_cancer, y_cancer)"
   ]
  },
  {
   "cell_type": "markdown",
   "metadata": {},
   "source": [
    "# Crossvalidation"
   ]
  },
  {
   "cell_type": "code",
   "execution_count": null,
   "metadata": {},
   "outputs": [],
   "source": []
  },
  {
   "cell_type": "markdown",
   "metadata": {},
   "source": [
    "# Curva de validação"
   ]
  },
  {
   "cell_type": "code",
   "execution_count": 17,
   "metadata": {},
   "outputs": [],
   "source": [
    "from sklearn.model_selection import validation_curve"
   ]
  },
  {
   "cell_type": "code",
   "execution_count": 29,
   "metadata": {},
   "outputs": [],
   "source": [
    "param_range = np.linspace(1, 3, num=5)\n",
    "train_scores, test_scores = validation_curve(LogisticRegression(solver='lbfgs', max_iter=10000), X, y, param_name='C', param_range=param_range, cv=3)"
   ]
  },
  {
   "cell_type": "code",
   "execution_count": 30,
   "metadata": {},
   "outputs": [
    {
     "data": {
      "text/plain": [
       "array([[0.96569921, 0.9525066 , 0.97105263],\n",
       "       [0.96569921, 0.95514512, 0.97105263],\n",
       "       [0.96833773, 0.95514512, 0.97368421],\n",
       "       [0.9762533 , 0.95514512, 0.97631579],\n",
       "       [0.9762533 , 0.9525066 , 0.97631579]])"
      ]
     },
     "execution_count": 30,
     "metadata": {},
     "output_type": "execute_result"
    }
   ],
   "source": [
    "train_scores"
   ]
  },
  {
   "cell_type": "code",
   "execution_count": 34,
   "metadata": {},
   "outputs": [
    {
     "data": {
      "text/plain": [
       "array([[0.94210526, 0.96842105, 0.94708995],\n",
       "       [0.94210526, 0.96842105, 0.94708995],\n",
       "       [0.94210526, 0.96315789, 0.94708995],\n",
       "       [0.94210526, 0.96315789, 0.94708995],\n",
       "       [0.94210526, 0.96315789, 0.94708995]])"
      ]
     },
     "execution_count": 34,
     "metadata": {},
     "output_type": "execute_result"
    }
   ],
   "source": [
    "test_scores"
   ]
  },
  {
   "cell_type": "markdown",
   "metadata": {},
   "source": [
    "# Árvore de decisão"
   ]
  },
  {
   "cell_type": "code",
   "execution_count": 45,
   "metadata": {},
   "outputs": [],
   "source": [
    "from sklearn.datasets import load_iris\n",
    "from sklearn import tree\n",
    "from adspy_shared_utilities import plot_decision_tree\n",
    "from sklearn.model_selection import train_test_split\n",
    "import graphviz\n",
    "import matplotlib.pyplot as plt"
   ]
  },
  {
   "cell_type": "code",
   "execution_count": 36,
   "metadata": {},
   "outputs": [],
   "source": [
    "iris = load_iris()"
   ]
  },
  {
   "cell_type": "code",
   "execution_count": 38,
   "metadata": {},
   "outputs": [],
   "source": [
    "X_train, X_test, y_train, y_test = train_test_split(iris.data, iris.target, random_state=3)"
   ]
  },
  {
   "cell_type": "code",
   "execution_count": 39,
   "metadata": {},
   "outputs": [],
   "source": [
    "clf = tree.DecisionTreeClassifier(max_depth=4)"
   ]
  },
  {
   "cell_type": "code",
   "execution_count": 41,
   "metadata": {},
   "outputs": [
    {
     "data": {
      "text/plain": [
       "0.9910714285714286"
      ]
     },
     "execution_count": 41,
     "metadata": {},
     "output_type": "execute_result"
    }
   ],
   "source": [
    "clf.fit(X_train, y_train)\n",
    "clf.score(X_train, y_train)"
   ]
  },
  {
   "cell_type": "code",
   "execution_count": 44,
   "metadata": {},
   "outputs": [],
   "source": [
    "param_range = np.linspace(1,20,20)\n",
    "train_scores, test_scores = validation_curve(clf, iris.data, iris.target, param_name='max_depth', param_range=param_range, cv=3)"
   ]
  },
  {
   "cell_type": "code",
   "execution_count": 47,
   "metadata": {},
   "outputs": [
    {
     "data": {
      "image/png": "[encoded data removed]",
      "text/plain": [
       "<Figure size 432x288 with 1 Axes>"
      ]
     },
     "metadata": {
      "needs_background": "light"
     },
     "output_type": "display_data"
    }
   ],
   "source": [
    "plt.plot(param_range, train_scores.mean(axis=1), 'r-')\n",
    "plt.plot(param_range, test_scores.mean(axis=1), 'b-')\n",
    "plt.show()"
   ]
  },
  {
   "cell_type": "markdown",
   "metadata": {},
   "source": [
    "# One-hot encoding"
   ]
  },
  {
   "cell_type": "code",
   "execution_count": 49,
   "metadata": {},
   "outputs": [],
   "source": [
    "from sklearn.preprocessing import LabelEncoder, OneHotEncoder\n",
    "import pandas as pd"
   ]
  },
  {
   "cell_type": "code",
   "execution_count": 54,
   "metadata": {},
   "outputs": [
    {
     "name": "stdout",
     "output_type": "stream",
     "text": [
      "[ 4  4  4  5  5  5  5  0  1  1  1  1  1  3  3  3  3  3  2  2  2  2  2  2\n",
      "  8  8  8  6  6  6  6  6  6  9  9  9  9  9  9  9  9  9  9  7  7  7  7  7\n",
      "  7 10 10 10 10 10 10 10 10 10 10]\n"
     ]
    }
   ],
   "source": [
    "fruits = pd.read_table('fruit.txt')\n",
    "\n",
    "data = fruits['fruit_subtype']\n",
    "label_encoder = LabelEncoder()\n",
    "integer_encoded = label_encoder.fit_transform(data)\n",
    "print(integer_encoded)"
   ]
  },
  {
   "cell_type": "code",
   "execution_count": 55,
   "metadata": {},
   "outputs": [
    {
     "name": "stdout",
     "output_type": "stream",
     "text": [
      "[[0. 0. 0. 0. 1. 0. 0. 0. 0. 0. 0.]\n",
      " [0. 0. 0. 0. 1. 0. 0. 0. 0. 0. 0.]\n",
      " [0. 0. 0. 0. 1. 0. 0. 0. 0. 0. 0.]\n",
      " [0. 0. 0. 0. 0. 1. 0. 0. 0. 0. 0.]\n",
      " [0. 0. 0. 0. 0. 1. 0. 0. 0. 0. 0.]\n",
      " [0. 0. 0. 0. 0. 1. 0. 0. 0. 0. 0.]\n",
      " [0. 0. 0. 0. 0. 1. 0. 0. 0. 0. 0.]\n",
      " [1. 0. 0. 0. 0. 0. 0. 0. 0. 0. 0.]\n",
      " [0. 1. 0. 0. 0. 0. 0. 0. 0. 0. 0.]\n",
      " [0. 1. 0. 0. 0. 0. 0. 0. 0. 0. 0.]\n",
      " [0. 1. 0. 0. 0. 0. 0. 0. 0. 0. 0.]\n",
      " [0. 1. 0. 0. 0. 0. 0. 0. 0. 0. 0.]\n",
      " [0. 1. 0. 0. 0. 0. 0. 0. 0. 0. 0.]\n",
      " [0. 0. 0. 1. 0. 0. 0. 0. 0. 0. 0.]\n",
      " [0. 0. 0. 1. 0. 0. 0. 0. 0. 0. 0.]\n",
      " [0. 0. 0. 1. 0. 0. 0. 0. 0. 0. 0.]\n",
      " [0. 0. 0. 1. 0. 0. 0. 0. 0. 0. 0.]\n",
      " [0. 0. 0. 1. 0. 0. 0. 0. 0. 0. 0.]\n",
      " [0. 0. 1. 0. 0. 0. 0. 0. 0. 0. 0.]\n",
      " [0. 0. 1. 0. 0. 0. 0. 0. 0. 0. 0.]\n",
      " [0. 0. 1. 0. 0. 0. 0. 0. 0. 0. 0.]\n",
      " [0. 0. 1. 0. 0. 0. 0. 0. 0. 0. 0.]\n",
      " [0. 0. 1. 0. 0. 0. 0. 0. 0. 0. 0.]\n",
      " [0. 0. 1. 0. 0. 0. 0. 0. 0. 0. 0.]\n",
      " [0. 0. 0. 0. 0. 0. 0. 0. 1. 0. 0.]\n",
      " [0. 0. 0. 0. 0. 0. 0. 0. 1. 0. 0.]\n",
      " [0. 0. 0. 0. 0. 0. 0. 0. 1. 0. 0.]\n",
      " [0. 0. 0. 0. 0. 0. 1. 0. 0. 0. 0.]\n",
      " [0. 0. 0. 0. 0. 0. 1. 0. 0. 0. 0.]\n",
      " [0. 0. 0. 0. 0. 0. 1. 0. 0. 0. 0.]\n",
      " [0. 0. 0. 0. 0. 0. 1. 0. 0. 0. 0.]\n",
      " [0. 0. 0. 0. 0. 0. 1. 0. 0. 0. 0.]\n",
      " [0. 0. 0. 0. 0. 0. 1. 0. 0. 0. 0.]\n",
      " [0. 0. 0. 0. 0. 0. 0. 0. 0. 1. 0.]\n",
      " [0. 0. 0. 0. 0. 0. 0. 0. 0. 1. 0.]\n",
      " [0. 0. 0. 0. 0. 0. 0. 0. 0. 1. 0.]\n",
      " [0. 0. 0. 0. 0. 0. 0. 0. 0. 1. 0.]\n",
      " [0. 0. 0. 0. 0. 0. 0. 0. 0. 1. 0.]\n",
      " [0. 0. 0. 0. 0. 0. 0. 0. 0. 1. 0.]\n",
      " [0. 0. 0. 0. 0. 0. 0. 0. 0. 1. 0.]\n",
      " [0. 0. 0. 0. 0. 0. 0. 0. 0. 1. 0.]\n",
      " [0. 0. 0. 0. 0. 0. 0. 0. 0. 1. 0.]\n",
      " [0. 0. 0. 0. 0. 0. 0. 0. 0. 1. 0.]\n",
      " [0. 0. 0. 0. 0. 0. 0. 1. 0. 0. 0.]\n",
      " [0. 0. 0. 0. 0. 0. 0. 1. 0. 0. 0.]\n",
      " [0. 0. 0. 0. 0. 0. 0. 1. 0. 0. 0.]\n",
      " [0. 0. 0. 0. 0. 0. 0. 1. 0. 0. 0.]\n",
      " [0. 0. 0. 0. 0. 0. 0. 1. 0. 0. 0.]\n",
      " [0. 0. 0. 0. 0. 0. 0. 1. 0. 0. 0.]\n",
      " [0. 0. 0. 0. 0. 0. 0. 0. 0. 0. 1.]\n",
      " [0. 0. 0. 0. 0. 0. 0. 0. 0. 0. 1.]\n",
      " [0. 0. 0. 0. 0. 0. 0. 0. 0. 0. 1.]\n",
      " [0. 0. 0. 0. 0. 0. 0. 0. 0. 0. 1.]\n",
      " [0. 0. 0. 0. 0. 0. 0. 0. 0. 0. 1.]\n",
      " [0. 0. 0. 0. 0. 0. 0. 0. 0. 0. 1.]\n",
      " [0. 0. 0. 0. 0. 0. 0. 0. 0. 0. 1.]\n",
      " [0. 0. 0. 0. 0. 0. 0. 0. 0. 0. 1.]\n",
      " [0. 0. 0. 0. 0. 0. 0. 0. 0. 0. 1.]\n",
      " [0. 0. 0. 0. 0. 0. 0. 0. 0. 0. 1.]]\n"
     ]
    }
   ],
   "source": [
    "onehor_encoder = OneHotEncoder(sparse=False, categories='auto')\n",
    "integer_encoded = integer_encoded.reshape(len(integer_encoded), 1)\n",
    "onehot_encoded = onehor_encoder.fit_transform(integer_encoded)\n",
    "print(onehot_encoded)"
   ]
  },
  {
   "cell_type": "markdown",
   "metadata": {},
   "source": [
    "# Balanceamento de dataset"
   ]
  },
  {
   "cell_type": "code",
   "execution_count": 61,
   "metadata": {},
   "outputs": [],
   "source": [
    "from sklearn.metrics import classification_report, confusion_matrix\n",
    "from sklearn.tree import DecisionTreeClassifier"
   ]
  },
  {
   "cell_type": "code",
   "execution_count": 62,
   "metadata": {},
   "outputs": [
    {
     "name": "stdout",
     "output_type": "stream",
     "text": [
      "              precision    recall  f1-score   support\n",
      "\n",
      "           0       1.00      1.00      1.00        16\n",
      "           1       0.82      1.00      0.90         9\n",
      "           2       1.00      0.85      0.92        13\n",
      "\n",
      "   micro avg       0.95      0.95      0.95        38\n",
      "   macro avg       0.94      0.95      0.94        38\n",
      "weighted avg       0.96      0.95      0.95        38\n",
      "\n",
      "[[16  0  0]\n",
      " [ 0  9  0]\n",
      " [ 0  2 11]]\n"
     ]
    }
   ],
   "source": [
    "dt = DecisionTreeClassifier()\n",
    "X = iris.data\n",
    "y = iris.target\n",
    "X_train, X_test, y_train, y_test = train_test_split(X, y)\n",
    "dt.fit(X_train, y_train)\n",
    "y_pred = dt.predict(X_test)\n",
    "print(classification_report(y_test, y_pred))\n",
    "print(confusion_matrix(y_test, y_pred))"
   ]
  },
  {
   "cell_type": "code",
   "execution_count": 63,
   "metadata": {},
   "outputs": [],
   "source": [
    "from sklearn.model_selection import GridSearchCV"
   ]
  },
  {
   "cell_type": "code",
   "execution_count": 73,
   "metadata": {},
   "outputs": [
    {
     "data": {
      "text/plain": [
       "GridSearchCV(cv=3, error_score='raise-deprecating',\n",
       "       estimator=DecisionTreeClassifier(class_weight=None, criterion='gini', max_depth=None,\n",
       "            max_features=None, max_leaf_nodes=None,\n",
       "            min_impurity_decrease=0.0, min_impurity_split=None,\n",
       "            min_samples_leaf=1, min_samples_split=2,\n",
       "            min_weight_fraction_leaf=0.0, presort=False, random_state=None,\n",
       "            splitter='best'),\n",
       "       fit_params=None, iid=False, n_jobs=None,\n",
       "       param_grid={'max_depth': [1, 3, 5, 7], 'min_samples_leaf': [1, 2, 3, 4, 5], 'max_leaf_nodes': [5, 10, 15, 20]},\n",
       "       pre_dispatch='2*n_jobs', refit=True, return_train_score=True,\n",
       "       scoring=None, verbose=0)"
      ]
     },
     "execution_count": 73,
     "metadata": {},
     "output_type": "execute_result"
    }
   ],
   "source": [
    "param_grid = {'max_depth': [1, 3, 5, 7], 'min_samples_leaf': [1,2,3,4,5], 'max_leaf_nodes':[5,10,15,20]}\n",
    "gs = GridSearchCV(DecisionTreeClassifier(), param_grid=param_grid, cv=3, iid=False, return_train_score=True)\n",
    "gs.fit(X_train, y_train)"
   ]
  },
  {
   "cell_type": "code",
   "execution_count": 74,
   "metadata": {},
   "outputs": [
    {
     "data": {
      "text/plain": [
       "0.9473684210526315"
      ]
     },
     "execution_count": 74,
     "metadata": {},
     "output_type": "execute_result"
    }
   ],
   "source": [
    "gs.score(X_test, y_test)"
   ]
  },
  {
   "cell_type": "code",
   "execution_count": 75,
   "metadata": {},
   "outputs": [
    {
     "data": {
      "text/plain": [
       "DecisionTreeClassifier(class_weight=None, criterion='gini', max_depth=3,\n",
       "            max_features=None, max_leaf_nodes=10,\n",
       "            min_impurity_decrease=0.0, min_impurity_split=None,\n",
       "            min_samples_leaf=1, min_samples_split=2,\n",
       "            min_weight_fraction_leaf=0.0, presort=False, random_state=None,\n",
       "            splitter='best')"
      ]
     },
     "execution_count": 75,
     "metadata": {},
     "output_type": "execute_result"
    }
   ],
   "source": [
    "gs.best_estimator_"
   ]
  },
  {
   "cell_type": "code",
   "execution_count": 76,
   "metadata": {},
   "outputs": [
    {
     "data": {
      "text/plain": [
       "{'max_depth': 3, 'max_leaf_nodes': 10, 'min_samples_leaf': 1}"
      ]
     },
     "execution_count": 76,
     "metadata": {},
     "output_type": "execute_result"
    }
   ],
   "source": [
    "gs.best_params_"
   ]
  },
  {
   "cell_type": "code",
   "execution_count": 77,
   "metadata": {},
   "outputs": [
    {
     "data": {
      "text/plain": [
       "0.9295256795256795"
      ]
     },
     "execution_count": 77,
     "metadata": {},
     "output_type": "execute_result"
    }
   ],
   "source": [
    "gs.best_score_"
   ]
  },
  {
   "cell_type": "code",
   "execution_count": 82,
   "metadata": {},
   "outputs": [
    {
     "data": {
      "text/plain": [
       "[{'max_depth': 1, 'max_leaf_nodes': 5, 'min_samples_leaf': 1},\n",
       " {'max_depth': 1, 'max_leaf_nodes': 5, 'min_samples_leaf': 2},\n",
       " {'max_depth': 1, 'max_leaf_nodes': 5, 'min_samples_leaf': 3},\n",
       " {'max_depth': 1, 'max_leaf_nodes': 5, 'min_samples_leaf': 4},\n",
       " {'max_depth': 1, 'max_leaf_nodes': 5, 'min_samples_leaf': 5},\n",
       " {'max_depth': 1, 'max_leaf_nodes': 10, 'min_samples_leaf': 1},\n",
       " {'max_depth': 1, 'max_leaf_nodes': 10, 'min_samples_leaf': 2},\n",
       " {'max_depth': 1, 'max_leaf_nodes': 10, 'min_samples_leaf': 3},\n",
       " {'max_depth': 1, 'max_leaf_nodes': 10, 'min_samples_leaf': 4},\n",
       " {'max_depth': 1, 'max_leaf_nodes': 10, 'min_samples_leaf': 5},\n",
       " {'max_depth': 1, 'max_leaf_nodes': 15, 'min_samples_leaf': 1},\n",
       " {'max_depth': 1, 'max_leaf_nodes': 15, 'min_samples_leaf': 2},\n",
       " {'max_depth': 1, 'max_leaf_nodes': 15, 'min_samples_leaf': 3},\n",
       " {'max_depth': 1, 'max_leaf_nodes': 15, 'min_samples_leaf': 4},\n",
       " {'max_depth': 1, 'max_leaf_nodes': 15, 'min_samples_leaf': 5},\n",
       " {'max_depth': 1, 'max_leaf_nodes': 20, 'min_samples_leaf': 1},\n",
       " {'max_depth': 1, 'max_leaf_nodes': 20, 'min_samples_leaf': 2},\n",
       " {'max_depth': 1, 'max_leaf_nodes': 20, 'min_samples_leaf': 3},\n",
       " {'max_depth': 1, 'max_leaf_nodes': 20, 'min_samples_leaf': 4},\n",
       " {'max_depth': 1, 'max_leaf_nodes': 20, 'min_samples_leaf': 5},\n",
       " {'max_depth': 3, 'max_leaf_nodes': 5, 'min_samples_leaf': 1},\n",
       " {'max_depth': 3, 'max_leaf_nodes': 5, 'min_samples_leaf': 2},\n",
       " {'max_depth': 3, 'max_leaf_nodes': 5, 'min_samples_leaf': 3},\n",
       " {'max_depth': 3, 'max_leaf_nodes': 5, 'min_samples_leaf': 4},\n",
       " {'max_depth': 3, 'max_leaf_nodes': 5, 'min_samples_leaf': 5},\n",
       " {'max_depth': 3, 'max_leaf_nodes': 10, 'min_samples_leaf': 1},\n",
       " {'max_depth': 3, 'max_leaf_nodes': 10, 'min_samples_leaf': 2},\n",
       " {'max_depth': 3, 'max_leaf_nodes': 10, 'min_samples_leaf': 3},\n",
       " {'max_depth': 3, 'max_leaf_nodes': 10, 'min_samples_leaf': 4},\n",
       " {'max_depth': 3, 'max_leaf_nodes': 10, 'min_samples_leaf': 5},\n",
       " {'max_depth': 3, 'max_leaf_nodes': 15, 'min_samples_leaf': 1},\n",
       " {'max_depth': 3, 'max_leaf_nodes': 15, 'min_samples_leaf': 2},\n",
       " {'max_depth': 3, 'max_leaf_nodes': 15, 'min_samples_leaf': 3},\n",
       " {'max_depth': 3, 'max_leaf_nodes': 15, 'min_samples_leaf': 4},\n",
       " {'max_depth': 3, 'max_leaf_nodes': 15, 'min_samples_leaf': 5},\n",
       " {'max_depth': 3, 'max_leaf_nodes': 20, 'min_samples_leaf': 1},\n",
       " {'max_depth': 3, 'max_leaf_nodes': 20, 'min_samples_leaf': 2},\n",
       " {'max_depth': 3, 'max_leaf_nodes': 20, 'min_samples_leaf': 3},\n",
       " {'max_depth': 3, 'max_leaf_nodes': 20, 'min_samples_leaf': 4},\n",
       " {'max_depth': 3, 'max_leaf_nodes': 20, 'min_samples_leaf': 5},\n",
       " {'max_depth': 5, 'max_leaf_nodes': 5, 'min_samples_leaf': 1},\n",
       " {'max_depth': 5, 'max_leaf_nodes': 5, 'min_samples_leaf': 2},\n",
       " {'max_depth': 5, 'max_leaf_nodes': 5, 'min_samples_leaf': 3},\n",
       " {'max_depth': 5, 'max_leaf_nodes': 5, 'min_samples_leaf': 4},\n",
       " {'max_depth': 5, 'max_leaf_nodes': 5, 'min_samples_leaf': 5},\n",
       " {'max_depth': 5, 'max_leaf_nodes': 10, 'min_samples_leaf': 1},\n",
       " {'max_depth': 5, 'max_leaf_nodes': 10, 'min_samples_leaf': 2},\n",
       " {'max_depth': 5, 'max_leaf_nodes': 10, 'min_samples_leaf': 3},\n",
       " {'max_depth': 5, 'max_leaf_nodes': 10, 'min_samples_leaf': 4},\n",
       " {'max_depth': 5, 'max_leaf_nodes': 10, 'min_samples_leaf': 5},\n",
       " {'max_depth': 5, 'max_leaf_nodes': 15, 'min_samples_leaf': 1},\n",
       " {'max_depth': 5, 'max_leaf_nodes': 15, 'min_samples_leaf': 2},\n",
       " {'max_depth': 5, 'max_leaf_nodes': 15, 'min_samples_leaf': 3},\n",
       " {'max_depth': 5, 'max_leaf_nodes': 15, 'min_samples_leaf': 4},\n",
       " {'max_depth': 5, 'max_leaf_nodes': 15, 'min_samples_leaf': 5},\n",
       " {'max_depth': 5, 'max_leaf_nodes': 20, 'min_samples_leaf': 1},\n",
       " {'max_depth': 5, 'max_leaf_nodes': 20, 'min_samples_leaf': 2},\n",
       " {'max_depth': 5, 'max_leaf_nodes': 20, 'min_samples_leaf': 3},\n",
       " {'max_depth': 5, 'max_leaf_nodes': 20, 'min_samples_leaf': 4},\n",
       " {'max_depth': 5, 'max_leaf_nodes': 20, 'min_samples_leaf': 5},\n",
       " {'max_depth': 7, 'max_leaf_nodes': 5, 'min_samples_leaf': 1},\n",
       " {'max_depth': 7, 'max_leaf_nodes': 5, 'min_samples_leaf': 2},\n",
       " {'max_depth': 7, 'max_leaf_nodes': 5, 'min_samples_leaf': 3},\n",
       " {'max_depth': 7, 'max_leaf_nodes': 5, 'min_samples_leaf': 4},\n",
       " {'max_depth': 7, 'max_leaf_nodes': 5, 'min_samples_leaf': 5},\n",
       " {'max_depth': 7, 'max_leaf_nodes': 10, 'min_samples_leaf': 1},\n",
       " {'max_depth': 7, 'max_leaf_nodes': 10, 'min_samples_leaf': 2},\n",
       " {'max_depth': 7, 'max_leaf_nodes': 10, 'min_samples_leaf': 3},\n",
       " {'max_depth': 7, 'max_leaf_nodes': 10, 'min_samples_leaf': 4},\n",
       " {'max_depth': 7, 'max_leaf_nodes': 10, 'min_samples_leaf': 5},\n",
       " {'max_depth': 7, 'max_leaf_nodes': 15, 'min_samples_leaf': 1},\n",
       " {'max_depth': 7, 'max_leaf_nodes': 15, 'min_samples_leaf': 2},\n",
       " {'max_depth': 7, 'max_leaf_nodes': 15, 'min_samples_leaf': 3},\n",
       " {'max_depth': 7, 'max_leaf_nodes': 15, 'min_samples_leaf': 4},\n",
       " {'max_depth': 7, 'max_leaf_nodes': 15, 'min_samples_leaf': 5},\n",
       " {'max_depth': 7, 'max_leaf_nodes': 20, 'min_samples_leaf': 1},\n",
       " {'max_depth': 7, 'max_leaf_nodes': 20, 'min_samples_leaf': 2},\n",
       " {'max_depth': 7, 'max_leaf_nodes': 20, 'min_samples_leaf': 3},\n",
       " {'max_depth': 7, 'max_leaf_nodes': 20, 'min_samples_leaf': 4},\n",
       " {'max_depth': 7, 'max_leaf_nodes': 20, 'min_samples_leaf': 5}]"
      ]
     },
     "execution_count": 82,
     "metadata": {},
     "output_type": "execute_result"
    }
   ],
   "source": []
  }
 ],
 "metadata": {
  "kernelspec": {
   "display_name": "Python 3",
   "language": "python",
   "name": "python3"
  },
  "language_info": {
   "codemirror_mode": {
    "name": "ipython",
    "version": 3
   },
   "file_extension": ".py",
   "mimetype": "text/x-python",
   "name": "python",
   "nbconvert_exporter": "python",
   "pygments_lexer": "ipython3",
   "version": "3.7.1"
  }
 },
 "nbformat": 4,
 "nbformat_minor": 2
}
