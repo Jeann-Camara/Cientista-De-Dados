{
 "cells": [
  {
   "cell_type": "code",
   "execution_count": 150,
   "metadata": {},
   "outputs": [],
   "source": [
    "# Importa Bibliotecas.\n",
    "import numpy as np\n",
    "import pandas as pd\n",
    "import seaborn as seb\n",
    "import matplotlib.pyplot as plt\n",
    "%matplotlib inline\n",
    "from sklearn.model_selection import train_test_split\n",
    "from sklearn import preprocessing, metrics, linear_model\n",
    "from sklearn.neighbors import KNeighborsClassifier\n",
    "import warnings\n",
    "warnings.filterwarnings('ignore')"
   ]
  },
  {
   "cell_type": "code",
   "execution_count": 151,
   "metadata": {},
   "outputs": [],
   "source": [
    "# Carrega Dataset.\n",
    "df_Traffic_Brazil = pd.read_csv(\"traffic_brazil.csv\", encoding = 'utf-8', delimiter = ';') "
   ]
  },
  {
   "cell_type": "code",
   "execution_count": 152,
   "metadata": {},
   "outputs": [
    {
     "name": "stdout",
     "output_type": "stream",
     "text": [
      "<class 'pandas.core.frame.DataFrame'>\n",
      "RangeIndex: 135 entries, 0 to 134\n",
      "Data columns (total 18 columns):\n",
      "Hour (Coded)                             135 non-null int64\n",
      "Immobilized bus                          135 non-null int64\n",
      "Broken Truck                             135 non-null int64\n",
      "Vehicle excess                           135 non-null int64\n",
      "Accident victim                          135 non-null int64\n",
      "Running over                             135 non-null int64\n",
      "Fire vehicles                            135 non-null int64\n",
      "Occurrence involving freight             135 non-null int64\n",
      "Incident involving dangerous freight     135 non-null int64\n",
      "Lack of electricity                      135 non-null int64\n",
      "Fire                                     135 non-null int64\n",
      "Point of flooding                        135 non-null int64\n",
      "Manifestations                           135 non-null int64\n",
      "Defect in the network of trolleybuses    135 non-null int64\n",
      "Tree on the road                         135 non-null int64\n",
      "Semaphore off                            135 non-null int64\n",
      "Intermittent Semaphore                   135 non-null int64\n",
      "Slowness in traffic (%)                  135 non-null object\n",
      "dtypes: int64(17), object(1)\n",
      "memory usage: 19.1+ KB\n"
     ]
    }
   ],
   "source": [
    "# Análise exploratória dos dados.\n",
    "df_Traffic_Brazil.info()"
   ]
  },
  {
   "cell_type": "code",
   "execution_count": 153,
   "metadata": {},
   "outputs": [
    {
     "data": {
      "text/html": [
       "<div>\n",
       "<style scoped>\n",
       "    .dataframe tbody tr th:only-of-type {\n",
       "        vertical-align: middle;\n",
       "    }\n",
       "\n",
       "    .dataframe tbody tr th {\n",
       "        vertical-align: top;\n",
       "    }\n",
       "\n",
       "    .dataframe thead th {\n",
       "        text-align: right;\n",
       "    }\n",
       "</style>\n",
       "<table border=\"1\" class=\"dataframe\">\n",
       "  <thead>\n",
       "    <tr style=\"text-align: right;\">\n",
       "      <th></th>\n",
       "      <th>Hour (Coded)</th>\n",
       "      <th>Immobilized bus</th>\n",
       "      <th>Broken Truck</th>\n",
       "      <th>Vehicle excess</th>\n",
       "      <th>Accident victim</th>\n",
       "      <th>Running over</th>\n",
       "      <th>Fire vehicles</th>\n",
       "      <th>Occurrence involving freight</th>\n",
       "      <th>Incident involving dangerous freight</th>\n",
       "      <th>Lack of electricity</th>\n",
       "      <th>Fire</th>\n",
       "      <th>Point of flooding</th>\n",
       "      <th>Manifestations</th>\n",
       "      <th>Defect in the network of trolleybuses</th>\n",
       "      <th>Tree on the road</th>\n",
       "      <th>Semaphore off</th>\n",
       "      <th>Intermittent Semaphore</th>\n",
       "    </tr>\n",
       "  </thead>\n",
       "  <tbody>\n",
       "    <tr>\n",
       "      <th>count</th>\n",
       "      <td>135.00000</td>\n",
       "      <td>135.000000</td>\n",
       "      <td>135.000000</td>\n",
       "      <td>135.000000</td>\n",
       "      <td>135.000000</td>\n",
       "      <td>135.000000</td>\n",
       "      <td>135.000000</td>\n",
       "      <td>135.000000</td>\n",
       "      <td>135.000000</td>\n",
       "      <td>135.000000</td>\n",
       "      <td>135.000000</td>\n",
       "      <td>135.000000</td>\n",
       "      <td>135.000000</td>\n",
       "      <td>135.000000</td>\n",
       "      <td>135.000000</td>\n",
       "      <td>135.000000</td>\n",
       "      <td>135.000000</td>\n",
       "    </tr>\n",
       "    <tr>\n",
       "      <th>mean</th>\n",
       "      <td>14.00000</td>\n",
       "      <td>0.340741</td>\n",
       "      <td>0.874074</td>\n",
       "      <td>0.029630</td>\n",
       "      <td>0.422222</td>\n",
       "      <td>0.118519</td>\n",
       "      <td>0.007407</td>\n",
       "      <td>0.007407</td>\n",
       "      <td>0.007407</td>\n",
       "      <td>0.118519</td>\n",
       "      <td>0.007407</td>\n",
       "      <td>0.118519</td>\n",
       "      <td>0.051852</td>\n",
       "      <td>0.229630</td>\n",
       "      <td>0.044444</td>\n",
       "      <td>0.125926</td>\n",
       "      <td>0.014815</td>\n",
       "    </tr>\n",
       "    <tr>\n",
       "      <th>std</th>\n",
       "      <td>7.81789</td>\n",
       "      <td>0.659749</td>\n",
       "      <td>1.102437</td>\n",
       "      <td>0.170195</td>\n",
       "      <td>0.696116</td>\n",
       "      <td>0.346665</td>\n",
       "      <td>0.086066</td>\n",
       "      <td>0.086066</td>\n",
       "      <td>0.086066</td>\n",
       "      <td>0.504485</td>\n",
       "      <td>0.086066</td>\n",
       "      <td>0.712907</td>\n",
       "      <td>0.222554</td>\n",
       "      <td>0.818998</td>\n",
       "      <td>0.206848</td>\n",
       "      <td>0.464077</td>\n",
       "      <td>0.121261</td>\n",
       "    </tr>\n",
       "    <tr>\n",
       "      <th>min</th>\n",
       "      <td>1.00000</td>\n",
       "      <td>0.000000</td>\n",
       "      <td>0.000000</td>\n",
       "      <td>0.000000</td>\n",
       "      <td>0.000000</td>\n",
       "      <td>0.000000</td>\n",
       "      <td>0.000000</td>\n",
       "      <td>0.000000</td>\n",
       "      <td>0.000000</td>\n",
       "      <td>0.000000</td>\n",
       "      <td>0.000000</td>\n",
       "      <td>0.000000</td>\n",
       "      <td>0.000000</td>\n",
       "      <td>0.000000</td>\n",
       "      <td>0.000000</td>\n",
       "      <td>0.000000</td>\n",
       "      <td>0.000000</td>\n",
       "    </tr>\n",
       "    <tr>\n",
       "      <th>25%</th>\n",
       "      <td>7.00000</td>\n",
       "      <td>0.000000</td>\n",
       "      <td>0.000000</td>\n",
       "      <td>0.000000</td>\n",
       "      <td>0.000000</td>\n",
       "      <td>0.000000</td>\n",
       "      <td>0.000000</td>\n",
       "      <td>0.000000</td>\n",
       "      <td>0.000000</td>\n",
       "      <td>0.000000</td>\n",
       "      <td>0.000000</td>\n",
       "      <td>0.000000</td>\n",
       "      <td>0.000000</td>\n",
       "      <td>0.000000</td>\n",
       "      <td>0.000000</td>\n",
       "      <td>0.000000</td>\n",
       "      <td>0.000000</td>\n",
       "    </tr>\n",
       "    <tr>\n",
       "      <th>50%</th>\n",
       "      <td>14.00000</td>\n",
       "      <td>0.000000</td>\n",
       "      <td>1.000000</td>\n",
       "      <td>0.000000</td>\n",
       "      <td>0.000000</td>\n",
       "      <td>0.000000</td>\n",
       "      <td>0.000000</td>\n",
       "      <td>0.000000</td>\n",
       "      <td>0.000000</td>\n",
       "      <td>0.000000</td>\n",
       "      <td>0.000000</td>\n",
       "      <td>0.000000</td>\n",
       "      <td>0.000000</td>\n",
       "      <td>0.000000</td>\n",
       "      <td>0.000000</td>\n",
       "      <td>0.000000</td>\n",
       "      <td>0.000000</td>\n",
       "    </tr>\n",
       "    <tr>\n",
       "      <th>75%</th>\n",
       "      <td>21.00000</td>\n",
       "      <td>1.000000</td>\n",
       "      <td>1.000000</td>\n",
       "      <td>0.000000</td>\n",
       "      <td>1.000000</td>\n",
       "      <td>0.000000</td>\n",
       "      <td>0.000000</td>\n",
       "      <td>0.000000</td>\n",
       "      <td>0.000000</td>\n",
       "      <td>0.000000</td>\n",
       "      <td>0.000000</td>\n",
       "      <td>0.000000</td>\n",
       "      <td>0.000000</td>\n",
       "      <td>0.000000</td>\n",
       "      <td>0.000000</td>\n",
       "      <td>0.000000</td>\n",
       "      <td>0.000000</td>\n",
       "    </tr>\n",
       "    <tr>\n",
       "      <th>max</th>\n",
       "      <td>27.00000</td>\n",
       "      <td>4.000000</td>\n",
       "      <td>5.000000</td>\n",
       "      <td>1.000000</td>\n",
       "      <td>3.000000</td>\n",
       "      <td>2.000000</td>\n",
       "      <td>1.000000</td>\n",
       "      <td>1.000000</td>\n",
       "      <td>1.000000</td>\n",
       "      <td>4.000000</td>\n",
       "      <td>1.000000</td>\n",
       "      <td>7.000000</td>\n",
       "      <td>1.000000</td>\n",
       "      <td>8.000000</td>\n",
       "      <td>1.000000</td>\n",
       "      <td>4.000000</td>\n",
       "      <td>1.000000</td>\n",
       "    </tr>\n",
       "  </tbody>\n",
       "</table>\n",
       "</div>"
      ],
      "text/plain": [
       "       Hour (Coded)  Immobilized bus  Broken Truck  Vehicle excess  \\\n",
       "count     135.00000       135.000000    135.000000      135.000000   \n",
       "mean       14.00000         0.340741      0.874074        0.029630   \n",
       "std         7.81789         0.659749      1.102437        0.170195   \n",
       "min         1.00000         0.000000      0.000000        0.000000   \n",
       "25%         7.00000         0.000000      0.000000        0.000000   \n",
       "50%        14.00000         0.000000      1.000000        0.000000   \n",
       "75%        21.00000         1.000000      1.000000        0.000000   \n",
       "max        27.00000         4.000000      5.000000        1.000000   \n",
       "\n",
       "       Accident victim  Running over  Fire vehicles  \\\n",
       "count       135.000000    135.000000     135.000000   \n",
       "mean          0.422222      0.118519       0.007407   \n",
       "std           0.696116      0.346665       0.086066   \n",
       "min           0.000000      0.000000       0.000000   \n",
       "25%           0.000000      0.000000       0.000000   \n",
       "50%           0.000000      0.000000       0.000000   \n",
       "75%           1.000000      0.000000       0.000000   \n",
       "max           3.000000      2.000000       1.000000   \n",
       "\n",
       "       Occurrence involving freight  Incident involving dangerous freight  \\\n",
       "count                    135.000000                            135.000000   \n",
       "mean                       0.007407                              0.007407   \n",
       "std                        0.086066                              0.086066   \n",
       "min                        0.000000                              0.000000   \n",
       "25%                        0.000000                              0.000000   \n",
       "50%                        0.000000                              0.000000   \n",
       "75%                        0.000000                              0.000000   \n",
       "max                        1.000000                              1.000000   \n",
       "\n",
       "       Lack of electricity        Fire  Point of flooding  Manifestations  \\\n",
       "count           135.000000  135.000000         135.000000      135.000000   \n",
       "mean              0.118519    0.007407           0.118519        0.051852   \n",
       "std               0.504485    0.086066           0.712907        0.222554   \n",
       "min               0.000000    0.000000           0.000000        0.000000   \n",
       "25%               0.000000    0.000000           0.000000        0.000000   \n",
       "50%               0.000000    0.000000           0.000000        0.000000   \n",
       "75%               0.000000    0.000000           0.000000        0.000000   \n",
       "max               4.000000    1.000000           7.000000        1.000000   \n",
       "\n",
       "       Defect in the network of trolleybuses  Tree on the road  Semaphore off  \\\n",
       "count                             135.000000        135.000000     135.000000   \n",
       "mean                                0.229630          0.044444       0.125926   \n",
       "std                                 0.818998          0.206848       0.464077   \n",
       "min                                 0.000000          0.000000       0.000000   \n",
       "25%                                 0.000000          0.000000       0.000000   \n",
       "50%                                 0.000000          0.000000       0.000000   \n",
       "75%                                 0.000000          0.000000       0.000000   \n",
       "max                                 8.000000          1.000000       4.000000   \n",
       "\n",
       "       Intermittent Semaphore  \n",
       "count              135.000000  \n",
       "mean                 0.014815  \n",
       "std                  0.121261  \n",
       "min                  0.000000  \n",
       "25%                  0.000000  \n",
       "50%                  0.000000  \n",
       "75%                  0.000000  \n",
       "max                  1.000000  "
      ]
     },
     "execution_count": 153,
     "metadata": {},
     "output_type": "execute_result"
    }
   ],
   "source": [
    "df_Traffic_Brazil.describe()"
   ]
  },
  {
   "cell_type": "code",
   "execution_count": 154,
   "metadata": {},
   "outputs": [
    {
     "data": {
      "text/html": [
       "<div>\n",
       "<style scoped>\n",
       "    .dataframe tbody tr th:only-of-type {\n",
       "        vertical-align: middle;\n",
       "    }\n",
       "\n",
       "    .dataframe tbody tr th {\n",
       "        vertical-align: top;\n",
       "    }\n",
       "\n",
       "    .dataframe thead th {\n",
       "        text-align: right;\n",
       "    }\n",
       "</style>\n",
       "<table border=\"1\" class=\"dataframe\">\n",
       "  <thead>\n",
       "    <tr style=\"text-align: right;\">\n",
       "      <th></th>\n",
       "      <th>Hour (Coded)</th>\n",
       "      <th>Immobilized bus</th>\n",
       "      <th>Broken Truck</th>\n",
       "      <th>Vehicle excess</th>\n",
       "      <th>Accident victim</th>\n",
       "      <th>Running over</th>\n",
       "      <th>Fire vehicles</th>\n",
       "      <th>Occurrence involving freight</th>\n",
       "      <th>Incident involving dangerous freight</th>\n",
       "      <th>Lack of electricity</th>\n",
       "      <th>Fire</th>\n",
       "      <th>Point of flooding</th>\n",
       "      <th>Manifestations</th>\n",
       "      <th>Defect in the network of trolleybuses</th>\n",
       "      <th>Tree on the road</th>\n",
       "      <th>Semaphore off</th>\n",
       "      <th>Intermittent Semaphore</th>\n",
       "      <th>Slowness in traffic (%)</th>\n",
       "    </tr>\n",
       "  </thead>\n",
       "  <tbody>\n",
       "    <tr>\n",
       "      <th>0</th>\n",
       "      <td>1</td>\n",
       "      <td>0</td>\n",
       "      <td>0</td>\n",
       "      <td>0</td>\n",
       "      <td>0</td>\n",
       "      <td>0</td>\n",
       "      <td>0</td>\n",
       "      <td>0</td>\n",
       "      <td>0</td>\n",
       "      <td>0</td>\n",
       "      <td>0</td>\n",
       "      <td>0</td>\n",
       "      <td>0</td>\n",
       "      <td>0</td>\n",
       "      <td>0</td>\n",
       "      <td>0</td>\n",
       "      <td>0</td>\n",
       "      <td>4,1</td>\n",
       "    </tr>\n",
       "    <tr>\n",
       "      <th>1</th>\n",
       "      <td>2</td>\n",
       "      <td>0</td>\n",
       "      <td>0</td>\n",
       "      <td>0</td>\n",
       "      <td>0</td>\n",
       "      <td>0</td>\n",
       "      <td>0</td>\n",
       "      <td>0</td>\n",
       "      <td>0</td>\n",
       "      <td>0</td>\n",
       "      <td>0</td>\n",
       "      <td>0</td>\n",
       "      <td>0</td>\n",
       "      <td>0</td>\n",
       "      <td>0</td>\n",
       "      <td>0</td>\n",
       "      <td>0</td>\n",
       "      <td>6,6</td>\n",
       "    </tr>\n",
       "    <tr>\n",
       "      <th>2</th>\n",
       "      <td>3</td>\n",
       "      <td>0</td>\n",
       "      <td>0</td>\n",
       "      <td>0</td>\n",
       "      <td>0</td>\n",
       "      <td>0</td>\n",
       "      <td>0</td>\n",
       "      <td>0</td>\n",
       "      <td>0</td>\n",
       "      <td>0</td>\n",
       "      <td>0</td>\n",
       "      <td>0</td>\n",
       "      <td>0</td>\n",
       "      <td>0</td>\n",
       "      <td>0</td>\n",
       "      <td>0</td>\n",
       "      <td>0</td>\n",
       "      <td>8,7</td>\n",
       "    </tr>\n",
       "    <tr>\n",
       "      <th>3</th>\n",
       "      <td>4</td>\n",
       "      <td>0</td>\n",
       "      <td>0</td>\n",
       "      <td>0</td>\n",
       "      <td>0</td>\n",
       "      <td>0</td>\n",
       "      <td>0</td>\n",
       "      <td>0</td>\n",
       "      <td>0</td>\n",
       "      <td>0</td>\n",
       "      <td>0</td>\n",
       "      <td>0</td>\n",
       "      <td>0</td>\n",
       "      <td>0</td>\n",
       "      <td>0</td>\n",
       "      <td>0</td>\n",
       "      <td>0</td>\n",
       "      <td>9,2</td>\n",
       "    </tr>\n",
       "    <tr>\n",
       "      <th>4</th>\n",
       "      <td>5</td>\n",
       "      <td>0</td>\n",
       "      <td>0</td>\n",
       "      <td>0</td>\n",
       "      <td>0</td>\n",
       "      <td>0</td>\n",
       "      <td>0</td>\n",
       "      <td>0</td>\n",
       "      <td>0</td>\n",
       "      <td>0</td>\n",
       "      <td>0</td>\n",
       "      <td>0</td>\n",
       "      <td>0</td>\n",
       "      <td>0</td>\n",
       "      <td>0</td>\n",
       "      <td>0</td>\n",
       "      <td>0</td>\n",
       "      <td>11,1</td>\n",
       "    </tr>\n",
       "  </tbody>\n",
       "</table>\n",
       "</div>"
      ],
      "text/plain": [
       "   Hour (Coded)  Immobilized bus  Broken Truck  Vehicle excess  \\\n",
       "0             1                0             0               0   \n",
       "1             2                0             0               0   \n",
       "2             3                0             0               0   \n",
       "3             4                0             0               0   \n",
       "4             5                0             0               0   \n",
       "\n",
       "   Accident victim  Running over  Fire vehicles  Occurrence involving freight  \\\n",
       "0                0             0              0                             0   \n",
       "1                0             0              0                             0   \n",
       "2                0             0              0                             0   \n",
       "3                0             0              0                             0   \n",
       "4                0             0              0                             0   \n",
       "\n",
       "   Incident involving dangerous freight  Lack of electricity  Fire  \\\n",
       "0                                     0                    0     0   \n",
       "1                                     0                    0     0   \n",
       "2                                     0                    0     0   \n",
       "3                                     0                    0     0   \n",
       "4                                     0                    0     0   \n",
       "\n",
       "   Point of flooding  Manifestations  Defect in the network of trolleybuses  \\\n",
       "0                  0               0                                      0   \n",
       "1                  0               0                                      0   \n",
       "2                  0               0                                      0   \n",
       "3                  0               0                                      0   \n",
       "4                  0               0                                      0   \n",
       "\n",
       "   Tree on the road  Semaphore off  Intermittent Semaphore  \\\n",
       "0                 0              0                       0   \n",
       "1                 0              0                       0   \n",
       "2                 0              0                       0   \n",
       "3                 0              0                       0   \n",
       "4                 0              0                       0   \n",
       "\n",
       "  Slowness in traffic (%)  \n",
       "0                     4,1  \n",
       "1                     6,6  \n",
       "2                     8,7  \n",
       "3                     9,2  \n",
       "4                    11,1  "
      ]
     },
     "execution_count": 154,
     "metadata": {},
     "output_type": "execute_result"
    }
   ],
   "source": [
    "df_Traffic_Brazil.head()"
   ]
  },
  {
   "cell_type": "code",
   "execution_count": 155,
   "metadata": {},
   "outputs": [],
   "source": [
    "# Limpa valores nulos.\n",
    "df_Traffic_Brazil = df_Traffic_Brazil.dropna()"
   ]
  },
  {
   "cell_type": "markdown",
   "metadata": {},
   "source": [
    "## 1.Em quais horários o trânsito apresenta maior lentidão?"
   ]
  },
  {
   "cell_type": "code",
   "execution_count": 156,
   "metadata": {},
   "outputs": [],
   "source": [
    "# Converte os valores de \"Slowness in traffic\" para numérico.\n",
    "df_Traffic_Brazil[\"Slowness in traffic (%)\"] = df_Traffic_Brazil[\"Slowness in traffic (%)\"].apply(lambda x: pd.to_numeric(x.replace(\",\",\".\")))"
   ]
  },
  {
   "cell_type": "code",
   "execution_count": 157,
   "metadata": {},
   "outputs": [],
   "source": [
    "# Converte os valores de Horas de acordo com seus códigos.\n",
    "df_Traffic_Brazil[\"Hour (Coded)\"] = df_Traffic_Brazil[\"Hour (Coded)\"].apply(lambda x: int(((x-1) * 0.5) + 7))"
   ]
  },
  {
   "cell_type": "code",
   "execution_count": 158,
   "metadata": {},
   "outputs": [],
   "source": [
    "# Renomeia Colunas\n",
    "df_Traffic_Brazil = df_Traffic_Brazil.rename(columns = {\"Hour (Coded)\": \"Hora\", \n",
    "                                                        \"Slowness in traffic (%)\":\"Lentidão no trânsito (%)\",\n",
    "                                                        \"Lack of electricity\": \"Falta de eletricidade\",\n",
    "                                                        \"Point of flooding\": \"Ponto de inundação\"\n",
    "                                                       }) "
   ]
  },
  {
   "cell_type": "code",
   "execution_count": 159,
   "metadata": {},
   "outputs": [
    {
     "data": {
      "text/plain": [
       "<matplotlib.axes._subplots.AxesSubplot at 0x24d368b2fd0>"
      ]
     },
     "execution_count": 159,
     "metadata": {},
     "output_type": "execute_result"
    },
    {
     "data": {
      "image/png": "[encoded data removed]",
      "text/plain": [
       "<Figure size 1152x432 with 1 Axes>"
      ]
     },
     "metadata": {
      "needs_background": "light"
     },
     "output_type": "display_data"
    }
   ],
   "source": [
    "# Cria gráfico de barras com relação entre \"Temperatura\" e \"CO\".\n",
    "plt.figure(figsize=(16, 6))\n",
    "seb.barplot(x=\"Hora\", y=\"Lentidão no trânsito (%)\", data=df_Traffic_Brazil[[\"Hora\",\"Lentidão no trânsito (%)\"]], estimator=np.mean)"
   ]
  },
  {
   "cell_type": "markdown",
   "metadata": {},
   "source": [
    "## A maior lentidão se concentra entre as 17:00 e 19:00 horas."
   ]
  },
  {
   "cell_type": "markdown",
   "metadata": {},
   "source": [
    "## 2.Quais os fatores que provocam maior lentidão?"
   ]
  },
  {
   "cell_type": "code",
   "execution_count": 160,
   "metadata": {},
   "outputs": [
    {
     "data": {
      "text/plain": [
       "Hora                        0.727847\n",
       "Falta de eletricidade       0.436569\n",
       "Ponto de inundação          0.420016\n",
       "Lentidão no trânsito (%)    1.000000\n",
       "Name: Lentidão no trânsito (%), dtype: float64"
      ]
     },
     "execution_count": 160,
     "metadata": {},
     "output_type": "execute_result"
    }
   ],
   "source": [
    "# Analisa as correlações absolutas supeiores a 0.4 entre a Lentidão e os demais atributos.\n",
    "df_Traffic_Brazil.corr()[\"Lentidão no trânsito (%)\"][df_Traffic_Brazil.corr()[\"Lentidão no trânsito (%)\"] > abs(0.4)]"
   ]
  },
  {
   "cell_type": "markdown",
   "metadata": {},
   "source": [
    "## Logo, os fatores que mais provocam lentidão de forma considerável são, nesta ordem: Hora, Falta de eletricidade e Ponto de inundação."
   ]
  },
  {
   "cell_type": "markdown",
   "metadata": {},
   "source": [
    "## 3.Apresente os pesos obtidos pela execução de uma regressão linear. Estes pesos confirmam os gráficos obtidos no item anterior?"
   ]
  },
  {
   "cell_type": "code",
   "execution_count": 869,
   "metadata": {},
   "outputs": [],
   "source": [
    "# Separa apenas colunas da predição.\n",
    "df_Traffic_Brazil = df_Traffic_Brazil[[\"Hora\",\"Lentidão no trânsito (%)\"]]"
   ]
  },
  {
   "cell_type": "code",
   "execution_count": 870,
   "metadata": {},
   "outputs": [],
   "source": [
    "# Divide o dataset entre treino e teste.\n",
    "x_train, x_test, y_train, y_test = train_test_split(df_Traffic_Brazil[\"Hora\"], df_Traffic_Brazil[\"Lentidão no trânsito (%)\"], test_size=0.03)"
   ]
  },
  {
   "cell_type": "code",
   "execution_count": 871,
   "metadata": {},
   "outputs": [],
   "source": [
    "# Preprocessamento dos dados.\n",
    "label_encod = preprocessing.LabelEncoder()\n",
    "\n",
    "x_train = label_encod.fit_transform(x_train).reshape(-1, 1)\n",
    "y_train = label_encod.fit_transform(y_train).reshape(-1, 1)\n",
    "\n",
    "x_test = label_encod.fit_transform(x_test).reshape(-1, 1)\n",
    "y_test = label_encod.fit_transform(y_test).reshape(-1, 1)"
   ]
  },
  {
   "cell_type": "code",
   "execution_count": 872,
   "metadata": {},
   "outputs": [],
   "source": [
    "# Instancia modelo de Regressão Linear do sklearn.\n",
    "reg_lin = linear_model.LinearRegression()"
   ]
  },
  {
   "cell_type": "code",
   "execution_count": 873,
   "metadata": {},
   "outputs": [
    {
     "data": {
      "text/plain": [
       "LinearRegression(copy_X=True, fit_intercept=True, n_jobs=None,\n",
       "         normalize=False)"
      ]
     },
     "execution_count": 873,
     "metadata": {},
     "output_type": "execute_result"
    }
   ],
   "source": [
    "# Treina o modelo.\n",
    "reg_lin.fit(x_train, y_train)"
   ]
  },
  {
   "cell_type": "code",
   "execution_count": 874,
   "metadata": {},
   "outputs": [],
   "source": [
    "# Utiliza modelo treinado para a predição.\n",
    "y_pred = reg_lin.predict(x_test)"
   ]
  },
  {
   "cell_type": "code",
   "execution_count": 875,
   "metadata": {},
   "outputs": [
    {
     "name": "stdout",
     "output_type": "stream",
     "text": [
      "Acurácia Regressão Linear: 61.5 %\n"
     ]
    }
   ],
   "source": [
    "print(\"Acurácia Regressão Linear: %.1f %%\" % (reg_lin.score(y_test, y_pred)*100))"
   ]
  },
  {
   "cell_type": "markdown",
   "metadata": {},
   "source": [
    "## Os \"pesos\" obtidos pelo modelo linear são:"
   ]
  },
  {
   "cell_type": "code",
   "execution_count": 876,
   "metadata": {},
   "outputs": [
    {
     "name": "stdout",
     "output_type": "stream",
     "text": [
      "Coeficiente Angular: 3.9\n"
     ]
    }
   ],
   "source": [
    "print(\"Coeficiente Angular: %.1f\" % (reg_lin.coef_))"
   ]
  },
  {
   "cell_type": "code",
   "execution_count": 877,
   "metadata": {},
   "outputs": [
    {
     "name": "stdout",
     "output_type": "stream",
     "text": [
      "Coeficiente Linear: 13.1\n"
     ]
    }
   ],
   "source": [
    "print(\"Coeficiente Linear: %.1f\" % (reg_lin.intercept_))"
   ]
  },
  {
   "cell_type": "markdown",
   "metadata": {},
   "source": [
    "## Que resultaria na Função F'(x) a seguir:"
   ]
  },
  {
   "cell_type": "code",
   "execution_count": 878,
   "metadata": {},
   "outputs": [
    {
     "name": "stdout",
     "output_type": "stream",
     "text": [
      "F'(x) = y = 3.9x + 13.1\n"
     ]
    }
   ],
   "source": [
    "print(\"F'(x) = y = %.1fx + %.1f\" % (reg_lin.coef_, reg_lin.intercept_))"
   ]
  },
  {
   "cell_type": "markdown",
   "metadata": {},
   "source": [
    "## 4.Compare os resultados obtidos no item anterior com o KNN."
   ]
  },
  {
   "cell_type": "code",
   "execution_count": 879,
   "metadata": {},
   "outputs": [],
   "source": [
    "# Instancia modelo KNN do sklearn.\n",
    "knn = KNeighborsClassifier(n_neighbors=3)"
   ]
  },
  {
   "cell_type": "code",
   "execution_count": 880,
   "metadata": {},
   "outputs": [
    {
     "data": {
      "text/plain": [
       "KNeighborsClassifier(algorithm='auto', leaf_size=30, metric='minkowski',\n",
       "           metric_params=None, n_jobs=None, n_neighbors=3, p=2,\n",
       "           weights='uniform')"
      ]
     },
     "execution_count": 880,
     "metadata": {},
     "output_type": "execute_result"
    }
   ],
   "source": [
    "# Treina o modelo.\n",
    "knn.fit(x_train, y_train)"
   ]
  },
  {
   "cell_type": "code",
   "execution_count": 881,
   "metadata": {},
   "outputs": [],
   "source": [
    "# Utiliza modelo treinado para a predição.\n",
    "y_pred = knn.predict(x_test)"
   ]
  },
  {
   "cell_type": "code",
   "execution_count": 882,
   "metadata": {},
   "outputs": [
    {
     "name": "stdout",
     "output_type": "stream",
     "text": [
      "Acurácia Regressão Linear: 31.8 %\n"
     ]
    }
   ],
   "source": [
    "print(\"Acurácia Regressão Linear: %.1f %%\" % (reg_lin.score(y_test, y_pred)*100))"
   ]
  },
  {
   "cell_type": "markdown",
   "metadata": {},
   "source": [
    "## O Modelo de KNN apresentou acurácia inferior ao modelo de Regressão Linear."
   ]
  },
  {
   "cell_type": "code",
   "execution_count": null,
   "metadata": {},
   "outputs": [],
   "source": []
  }
 ],
 "metadata": {
  "kernelspec": {
   "display_name": "Python 3",
   "language": "python",
   "name": "python3"
  },
  "language_info": {
   "codemirror_mode": {
    "name": "ipython",
    "version": 3
   },
   "file_extension": ".py",
   "mimetype": "text/x-python",
   "name": "python",
   "nbconvert_exporter": "python",
   "pygments_lexer": "ipython3",
   "version": "3.7.1"
  }
 },
 "nbformat": 4,
 "nbformat_minor": 2
}
