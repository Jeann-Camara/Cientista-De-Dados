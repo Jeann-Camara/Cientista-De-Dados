{
 "cells": [
  {
   "cell_type": "markdown",
   "metadata": {},
   "source": [
    "# <font color='blue'>Data Science Academy - Python Fundamentos - Capítulo 14</font>\n",
    "\n",
    "## Download: http://github.com/dsacademybr"
   ]
  },
  {
   "cell_type": "markdown",
   "metadata": {},
   "source": [
    "## Web Scraping"
   ]
  },
  {
   "cell_type": "code",
   "execution_count": 1,
   "metadata": {},
   "outputs": [],
   "source": [
    "# Biblioteca usada para requisitar uma página de um web site\n",
    "import urllib.request"
   ]
  },
  {
   "cell_type": "code",
   "execution_count": 7,
   "metadata": {},
   "outputs": [
    {
     "ename": "URLError",
     "evalue": "<urlopen error Tunnel connection failed: 407 Proxy Authentication Required>",
     "output_type": "error",
     "traceback": [
      "\u001b[1;31m---------------------------------------------------------------------------\u001b[0m",
      "\u001b[1;31mOSError\u001b[0m                                   Traceback (most recent call last)",
      "\u001b[1;32m~\\AppData\\Local\\Continuum\\anaconda3\\lib\\urllib\\request.py\u001b[0m in \u001b[0;36mdo_open\u001b[1;34m(self, http_class, req, **http_conn_args)\u001b[0m\n\u001b[0;32m   1316\u001b[0m                 h.request(req.get_method(), req.selector, req.data, headers,\n\u001b[1;32m-> 1317\u001b[1;33m                           encode_chunked=req.has_header('Transfer-encoding'))\n\u001b[0m\u001b[0;32m   1318\u001b[0m             \u001b[1;32mexcept\u001b[0m \u001b[0mOSError\u001b[0m \u001b[1;32mas\u001b[0m \u001b[0merr\u001b[0m\u001b[1;33m:\u001b[0m \u001b[1;31m# timeout error\u001b[0m\u001b[1;33m\u001b[0m\u001b[0m\n",
      "\u001b[1;32m~\\AppData\\Local\\Continuum\\anaconda3\\lib\\http\\client.py\u001b[0m in \u001b[0;36mrequest\u001b[1;34m(self, method, url, body, headers, encode_chunked)\u001b[0m\n\u001b[0;32m   1228\u001b[0m         \u001b[1;34m\"\"\"Send a complete request to the server.\"\"\"\u001b[0m\u001b[1;33m\u001b[0m\u001b[0m\n\u001b[1;32m-> 1229\u001b[1;33m         \u001b[0mself\u001b[0m\u001b[1;33m.\u001b[0m\u001b[0m_send_request\u001b[0m\u001b[1;33m(\u001b[0m\u001b[0mmethod\u001b[0m\u001b[1;33m,\u001b[0m \u001b[0murl\u001b[0m\u001b[1;33m,\u001b[0m \u001b[0mbody\u001b[0m\u001b[1;33m,\u001b[0m \u001b[0mheaders\u001b[0m\u001b[1;33m,\u001b[0m \u001b[0mencode_chunked\u001b[0m\u001b[1;33m)\u001b[0m\u001b[1;33m\u001b[0m\u001b[0m\n\u001b[0m\u001b[0;32m   1230\u001b[0m \u001b[1;33m\u001b[0m\u001b[0m\n",
      "\u001b[1;32m~\\AppData\\Local\\Continuum\\anaconda3\\lib\\http\\client.py\u001b[0m in \u001b[0;36m_send_request\u001b[1;34m(self, method, url, body, headers, encode_chunked)\u001b[0m\n\u001b[0;32m   1274\u001b[0m             \u001b[0mbody\u001b[0m \u001b[1;33m=\u001b[0m \u001b[0m_encode\u001b[0m\u001b[1;33m(\u001b[0m\u001b[0mbody\u001b[0m\u001b[1;33m,\u001b[0m \u001b[1;34m'body'\u001b[0m\u001b[1;33m)\u001b[0m\u001b[1;33m\u001b[0m\u001b[0m\n\u001b[1;32m-> 1275\u001b[1;33m         \u001b[0mself\u001b[0m\u001b[1;33m.\u001b[0m\u001b[0mendheaders\u001b[0m\u001b[1;33m(\u001b[0m\u001b[0mbody\u001b[0m\u001b[1;33m,\u001b[0m \u001b[0mencode_chunked\u001b[0m\u001b[1;33m=\u001b[0m\u001b[0mencode_chunked\u001b[0m\u001b[1;33m)\u001b[0m\u001b[1;33m\u001b[0m\u001b[0m\n\u001b[0m\u001b[0;32m   1276\u001b[0m \u001b[1;33m\u001b[0m\u001b[0m\n",
      "\u001b[1;32m~\\AppData\\Local\\Continuum\\anaconda3\\lib\\http\\client.py\u001b[0m in \u001b[0;36mendheaders\u001b[1;34m(self, message_body, encode_chunked)\u001b[0m\n\u001b[0;32m   1223\u001b[0m             \u001b[1;32mraise\u001b[0m \u001b[0mCannotSendHeader\u001b[0m\u001b[1;33m(\u001b[0m\u001b[1;33m)\u001b[0m\u001b[1;33m\u001b[0m\u001b[0m\n\u001b[1;32m-> 1224\u001b[1;33m         \u001b[0mself\u001b[0m\u001b[1;33m.\u001b[0m\u001b[0m_send_output\u001b[0m\u001b[1;33m(\u001b[0m\u001b[0mmessage_body\u001b[0m\u001b[1;33m,\u001b[0m \u001b[0mencode_chunked\u001b[0m\u001b[1;33m=\u001b[0m\u001b[0mencode_chunked\u001b[0m\u001b[1;33m)\u001b[0m\u001b[1;33m\u001b[0m\u001b[0m\n\u001b[0m\u001b[0;32m   1225\u001b[0m \u001b[1;33m\u001b[0m\u001b[0m\n",
      "\u001b[1;32m~\\AppData\\Local\\Continuum\\anaconda3\\lib\\http\\client.py\u001b[0m in \u001b[0;36m_send_output\u001b[1;34m(self, message_body, encode_chunked)\u001b[0m\n\u001b[0;32m   1015\u001b[0m         \u001b[1;32mdel\u001b[0m \u001b[0mself\u001b[0m\u001b[1;33m.\u001b[0m\u001b[0m_buffer\u001b[0m\u001b[1;33m[\u001b[0m\u001b[1;33m:\u001b[0m\u001b[1;33m]\u001b[0m\u001b[1;33m\u001b[0m\u001b[0m\n\u001b[1;32m-> 1016\u001b[1;33m         \u001b[0mself\u001b[0m\u001b[1;33m.\u001b[0m\u001b[0msend\u001b[0m\u001b[1;33m(\u001b[0m\u001b[0mmsg\u001b[0m\u001b[1;33m)\u001b[0m\u001b[1;33m\u001b[0m\u001b[0m\n\u001b[0m\u001b[0;32m   1017\u001b[0m \u001b[1;33m\u001b[0m\u001b[0m\n",
      "\u001b[1;32m~\\AppData\\Local\\Continuum\\anaconda3\\lib\\http\\client.py\u001b[0m in \u001b[0;36msend\u001b[1;34m(self, data)\u001b[0m\n\u001b[0;32m    955\u001b[0m             \u001b[1;32mif\u001b[0m \u001b[0mself\u001b[0m\u001b[1;33m.\u001b[0m\u001b[0mauto_open\u001b[0m\u001b[1;33m:\u001b[0m\u001b[1;33m\u001b[0m\u001b[0m\n\u001b[1;32m--> 956\u001b[1;33m                 \u001b[0mself\u001b[0m\u001b[1;33m.\u001b[0m\u001b[0mconnect\u001b[0m\u001b[1;33m(\u001b[0m\u001b[1;33m)\u001b[0m\u001b[1;33m\u001b[0m\u001b[0m\n\u001b[0m\u001b[0;32m    957\u001b[0m             \u001b[1;32melse\u001b[0m\u001b[1;33m:\u001b[0m\u001b[1;33m\u001b[0m\u001b[0m\n",
      "\u001b[1;32m~\\AppData\\Local\\Continuum\\anaconda3\\lib\\http\\client.py\u001b[0m in \u001b[0;36mconnect\u001b[1;34m(self)\u001b[0m\n\u001b[0;32m   1383\u001b[0m \u001b[1;33m\u001b[0m\u001b[0m\n\u001b[1;32m-> 1384\u001b[1;33m             \u001b[0msuper\u001b[0m\u001b[1;33m(\u001b[0m\u001b[1;33m)\u001b[0m\u001b[1;33m.\u001b[0m\u001b[0mconnect\u001b[0m\u001b[1;33m(\u001b[0m\u001b[1;33m)\u001b[0m\u001b[1;33m\u001b[0m\u001b[0m\n\u001b[0m\u001b[0;32m   1385\u001b[0m \u001b[1;33m\u001b[0m\u001b[0m\n",
      "\u001b[1;32m~\\AppData\\Local\\Continuum\\anaconda3\\lib\\http\\client.py\u001b[0m in \u001b[0;36mconnect\u001b[1;34m(self)\u001b[0m\n\u001b[0;32m    931\u001b[0m         \u001b[1;32mif\u001b[0m \u001b[0mself\u001b[0m\u001b[1;33m.\u001b[0m\u001b[0m_tunnel_host\u001b[0m\u001b[1;33m:\u001b[0m\u001b[1;33m\u001b[0m\u001b[0m\n\u001b[1;32m--> 932\u001b[1;33m             \u001b[0mself\u001b[0m\u001b[1;33m.\u001b[0m\u001b[0m_tunnel\u001b[0m\u001b[1;33m(\u001b[0m\u001b[1;33m)\u001b[0m\u001b[1;33m\u001b[0m\u001b[0m\n\u001b[0m\u001b[0;32m    933\u001b[0m \u001b[1;33m\u001b[0m\u001b[0m\n",
      "\u001b[1;32m~\\AppData\\Local\\Continuum\\anaconda3\\lib\\http\\client.py\u001b[0m in \u001b[0;36m_tunnel\u001b[1;34m(self)\u001b[0m\n\u001b[0;32m    910\u001b[0m             raise OSError(\"Tunnel connection failed: %d %s\" % (code,\n\u001b[1;32m--> 911\u001b[1;33m                                                                message.strip()))\n\u001b[0m\u001b[0;32m    912\u001b[0m         \u001b[1;32mwhile\u001b[0m \u001b[1;32mTrue\u001b[0m\u001b[1;33m:\u001b[0m\u001b[1;33m\u001b[0m\u001b[0m\n",
      "\u001b[1;31mOSError\u001b[0m: Tunnel connection failed: 407 Proxy Authentication Required",
      "\nDuring handling of the above exception, another exception occurred:\n",
      "\u001b[1;31mURLError\u001b[0m                                  Traceback (most recent call last)",
      "\u001b[1;32m<ipython-input-7-04cbbbf19431>\u001b[0m in \u001b[0;36m<module>\u001b[1;34m()\u001b[0m\n\u001b[0;32m      1\u001b[0m \u001b[1;31m# Definimos a url\u001b[0m\u001b[1;33m\u001b[0m\u001b[1;33m\u001b[0m\u001b[0m\n\u001b[0;32m      2\u001b[0m \u001b[1;31m# Verifique as permissões em https://www.python.org/robots.txt\u001b[0m\u001b[1;33m\u001b[0m\u001b[1;33m\u001b[0m\u001b[0m\n\u001b[1;32m----> 3\u001b[1;33m \u001b[1;32mwith\u001b[0m \u001b[0murllib\u001b[0m\u001b[1;33m.\u001b[0m\u001b[0mrequest\u001b[0m\u001b[1;33m.\u001b[0m\u001b[0murlopen\u001b[0m\u001b[1;33m(\u001b[0m\u001b[1;34m\"https://www.python.org/about/\"\u001b[0m\u001b[1;33m)\u001b[0m \u001b[1;32mas\u001b[0m \u001b[0murl\u001b[0m\u001b[1;33m:\u001b[0m\u001b[1;33m\u001b[0m\u001b[0m\n\u001b[0m\u001b[0;32m      4\u001b[0m     \u001b[0mpage\u001b[0m \u001b[1;33m=\u001b[0m \u001b[0murl\u001b[0m\u001b[1;33m.\u001b[0m\u001b[0mread\u001b[0m\u001b[1;33m(\u001b[0m\u001b[1;33m)\u001b[0m\u001b[1;33m\u001b[0m\u001b[0m\n",
      "\u001b[1;32m~\\AppData\\Local\\Continuum\\anaconda3\\lib\\urllib\\request.py\u001b[0m in \u001b[0;36murlopen\u001b[1;34m(url, data, timeout, cafile, capath, cadefault, context)\u001b[0m\n\u001b[0;32m    220\u001b[0m     \u001b[1;32melse\u001b[0m\u001b[1;33m:\u001b[0m\u001b[1;33m\u001b[0m\u001b[0m\n\u001b[0;32m    221\u001b[0m         \u001b[0mopener\u001b[0m \u001b[1;33m=\u001b[0m \u001b[0m_opener\u001b[0m\u001b[1;33m\u001b[0m\u001b[0m\n\u001b[1;32m--> 222\u001b[1;33m     \u001b[1;32mreturn\u001b[0m \u001b[0mopener\u001b[0m\u001b[1;33m.\u001b[0m\u001b[0mopen\u001b[0m\u001b[1;33m(\u001b[0m\u001b[0murl\u001b[0m\u001b[1;33m,\u001b[0m \u001b[0mdata\u001b[0m\u001b[1;33m,\u001b[0m \u001b[0mtimeout\u001b[0m\u001b[1;33m)\u001b[0m\u001b[1;33m\u001b[0m\u001b[0m\n\u001b[0m\u001b[0;32m    223\u001b[0m \u001b[1;33m\u001b[0m\u001b[0m\n\u001b[0;32m    224\u001b[0m \u001b[1;32mdef\u001b[0m \u001b[0minstall_opener\u001b[0m\u001b[1;33m(\u001b[0m\u001b[0mopener\u001b[0m\u001b[1;33m)\u001b[0m\u001b[1;33m:\u001b[0m\u001b[1;33m\u001b[0m\u001b[0m\n",
      "\u001b[1;32m~\\AppData\\Local\\Continuum\\anaconda3\\lib\\urllib\\request.py\u001b[0m in \u001b[0;36mopen\u001b[1;34m(self, fullurl, data, timeout)\u001b[0m\n\u001b[0;32m    523\u001b[0m             \u001b[0mreq\u001b[0m \u001b[1;33m=\u001b[0m \u001b[0mmeth\u001b[0m\u001b[1;33m(\u001b[0m\u001b[0mreq\u001b[0m\u001b[1;33m)\u001b[0m\u001b[1;33m\u001b[0m\u001b[0m\n\u001b[0;32m    524\u001b[0m \u001b[1;33m\u001b[0m\u001b[0m\n\u001b[1;32m--> 525\u001b[1;33m         \u001b[0mresponse\u001b[0m \u001b[1;33m=\u001b[0m \u001b[0mself\u001b[0m\u001b[1;33m.\u001b[0m\u001b[0m_open\u001b[0m\u001b[1;33m(\u001b[0m\u001b[0mreq\u001b[0m\u001b[1;33m,\u001b[0m \u001b[0mdata\u001b[0m\u001b[1;33m)\u001b[0m\u001b[1;33m\u001b[0m\u001b[0m\n\u001b[0m\u001b[0;32m    526\u001b[0m \u001b[1;33m\u001b[0m\u001b[0m\n\u001b[0;32m    527\u001b[0m         \u001b[1;31m# post-process response\u001b[0m\u001b[1;33m\u001b[0m\u001b[1;33m\u001b[0m\u001b[0m\n",
      "\u001b[1;32m~\\AppData\\Local\\Continuum\\anaconda3\\lib\\urllib\\request.py\u001b[0m in \u001b[0;36m_open\u001b[1;34m(self, req, data)\u001b[0m\n\u001b[0;32m    541\u001b[0m         \u001b[0mprotocol\u001b[0m \u001b[1;33m=\u001b[0m \u001b[0mreq\u001b[0m\u001b[1;33m.\u001b[0m\u001b[0mtype\u001b[0m\u001b[1;33m\u001b[0m\u001b[0m\n\u001b[0;32m    542\u001b[0m         result = self._call_chain(self.handle_open, protocol, protocol +\n\u001b[1;32m--> 543\u001b[1;33m                                   '_open', req)\n\u001b[0m\u001b[0;32m    544\u001b[0m         \u001b[1;32mif\u001b[0m \u001b[0mresult\u001b[0m\u001b[1;33m:\u001b[0m\u001b[1;33m\u001b[0m\u001b[0m\n\u001b[0;32m    545\u001b[0m             \u001b[1;32mreturn\u001b[0m \u001b[0mresult\u001b[0m\u001b[1;33m\u001b[0m\u001b[0m\n",
      "\u001b[1;32m~\\AppData\\Local\\Continuum\\anaconda3\\lib\\urllib\\request.py\u001b[0m in \u001b[0;36m_call_chain\u001b[1;34m(self, chain, kind, meth_name, *args)\u001b[0m\n\u001b[0;32m    501\u001b[0m         \u001b[1;32mfor\u001b[0m \u001b[0mhandler\u001b[0m \u001b[1;32min\u001b[0m \u001b[0mhandlers\u001b[0m\u001b[1;33m:\u001b[0m\u001b[1;33m\u001b[0m\u001b[0m\n\u001b[0;32m    502\u001b[0m             \u001b[0mfunc\u001b[0m \u001b[1;33m=\u001b[0m \u001b[0mgetattr\u001b[0m\u001b[1;33m(\u001b[0m\u001b[0mhandler\u001b[0m\u001b[1;33m,\u001b[0m \u001b[0mmeth_name\u001b[0m\u001b[1;33m)\u001b[0m\u001b[1;33m\u001b[0m\u001b[0m\n\u001b[1;32m--> 503\u001b[1;33m             \u001b[0mresult\u001b[0m \u001b[1;33m=\u001b[0m \u001b[0mfunc\u001b[0m\u001b[1;33m(\u001b[0m\u001b[1;33m*\u001b[0m\u001b[0margs\u001b[0m\u001b[1;33m)\u001b[0m\u001b[1;33m\u001b[0m\u001b[0m\n\u001b[0m\u001b[0;32m    504\u001b[0m             \u001b[1;32mif\u001b[0m \u001b[0mresult\u001b[0m \u001b[1;32mis\u001b[0m \u001b[1;32mnot\u001b[0m \u001b[1;32mNone\u001b[0m\u001b[1;33m:\u001b[0m\u001b[1;33m\u001b[0m\u001b[0m\n\u001b[0;32m    505\u001b[0m                 \u001b[1;32mreturn\u001b[0m \u001b[0mresult\u001b[0m\u001b[1;33m\u001b[0m\u001b[0m\n",
      "\u001b[1;32m~\\AppData\\Local\\Continuum\\anaconda3\\lib\\urllib\\request.py\u001b[0m in \u001b[0;36mhttps_open\u001b[1;34m(self, req)\u001b[0m\n\u001b[0;32m   1358\u001b[0m         \u001b[1;32mdef\u001b[0m \u001b[0mhttps_open\u001b[0m\u001b[1;33m(\u001b[0m\u001b[0mself\u001b[0m\u001b[1;33m,\u001b[0m \u001b[0mreq\u001b[0m\u001b[1;33m)\u001b[0m\u001b[1;33m:\u001b[0m\u001b[1;33m\u001b[0m\u001b[0m\n\u001b[0;32m   1359\u001b[0m             return self.do_open(http.client.HTTPSConnection, req,\n\u001b[1;32m-> 1360\u001b[1;33m                 context=self._context, check_hostname=self._check_hostname)\n\u001b[0m\u001b[0;32m   1361\u001b[0m \u001b[1;33m\u001b[0m\u001b[0m\n\u001b[0;32m   1362\u001b[0m         \u001b[0mhttps_request\u001b[0m \u001b[1;33m=\u001b[0m \u001b[0mAbstractHTTPHandler\u001b[0m\u001b[1;33m.\u001b[0m\u001b[0mdo_request_\u001b[0m\u001b[1;33m\u001b[0m\u001b[0m\n",
      "\u001b[1;32m~\\AppData\\Local\\Continuum\\anaconda3\\lib\\urllib\\request.py\u001b[0m in \u001b[0;36mdo_open\u001b[1;34m(self, http_class, req, **http_conn_args)\u001b[0m\n\u001b[0;32m   1317\u001b[0m                           encode_chunked=req.has_header('Transfer-encoding'))\n\u001b[0;32m   1318\u001b[0m             \u001b[1;32mexcept\u001b[0m \u001b[0mOSError\u001b[0m \u001b[1;32mas\u001b[0m \u001b[0merr\u001b[0m\u001b[1;33m:\u001b[0m \u001b[1;31m# timeout error\u001b[0m\u001b[1;33m\u001b[0m\u001b[0m\n\u001b[1;32m-> 1319\u001b[1;33m                 \u001b[1;32mraise\u001b[0m \u001b[0mURLError\u001b[0m\u001b[1;33m(\u001b[0m\u001b[0merr\u001b[0m\u001b[1;33m)\u001b[0m\u001b[1;33m\u001b[0m\u001b[0m\n\u001b[0m\u001b[0;32m   1320\u001b[0m             \u001b[0mr\u001b[0m \u001b[1;33m=\u001b[0m \u001b[0mh\u001b[0m\u001b[1;33m.\u001b[0m\u001b[0mgetresponse\u001b[0m\u001b[1;33m(\u001b[0m\u001b[1;33m)\u001b[0m\u001b[1;33m\u001b[0m\u001b[0m\n\u001b[0;32m   1321\u001b[0m         \u001b[1;32mexcept\u001b[0m\u001b[1;33m:\u001b[0m\u001b[1;33m\u001b[0m\u001b[0m\n",
      "\u001b[1;31mURLError\u001b[0m: <urlopen error Tunnel connection failed: 407 Proxy Authentication Required>"
     ]
    }
   ],
   "source": [
    "# Definimos a url\n",
    "# Verifique as permissões em https://www.python.org/robots.txt\n",
    "with urllib.request.urlopen(\"https://www.python.org/about/\") as url:\n",
    "    page = url.read()"
   ]
  },
  {
   "cell_type": "code",
   "execution_count": 6,
   "metadata": {},
   "outputs": [
    {
     "ename": "NameError",
     "evalue": "name 'page' is not defined",
     "output_type": "error",
     "traceback": [
      "\u001b[1;31m---------------------------------------------------------------------------\u001b[0m",
      "\u001b[1;31mNameError\u001b[0m                                 Traceback (most recent call last)",
      "\u001b[1;32m<ipython-input-6-e4fd193ab885>\u001b[0m in \u001b[0;36m<module>\u001b[1;34m()\u001b[0m\n\u001b[0;32m      1\u001b[0m \u001b[1;31m# Imprime o conteúdo\u001b[0m\u001b[1;33m\u001b[0m\u001b[1;33m\u001b[0m\u001b[0m\n\u001b[1;32m----> 2\u001b[1;33m \u001b[0mprint\u001b[0m\u001b[1;33m(\u001b[0m\u001b[0mpage\u001b[0m\u001b[1;33m)\u001b[0m\u001b[1;33m\u001b[0m\u001b[0m\n\u001b[0m",
      "\u001b[1;31mNameError\u001b[0m: name 'page' is not defined"
     ]
    }
   ],
   "source": [
    "# Imprime o conteúdo\n",
    "print(page)"
   ]
  },
  {
   "cell_type": "code",
   "execution_count": 4,
   "metadata": {},
   "outputs": [],
   "source": [
    "from bs4 import BeautifulSoup"
   ]
  },
  {
   "cell_type": "code",
   "execution_count": 5,
   "metadata": {},
   "outputs": [],
   "source": [
    "# Analise o html na variável 'page' e armazene-o no formato Beautiful Soup\n",
    "soup = BeautifulSoup(page, \"html.parser\")"
   ]
  },
  {
   "cell_type": "code",
   "execution_count": 6,
   "metadata": {},
   "outputs": [
    {
     "data": {
      "text/plain": [
       "<title>Welcome to Python.org</title>"
      ]
     },
     "execution_count": 6,
     "metadata": {},
     "output_type": "execute_result"
    }
   ],
   "source": [
    "soup.title"
   ]
  },
  {
   "cell_type": "code",
   "execution_count": 7,
   "metadata": {},
   "outputs": [
    {
     "data": {
      "text/plain": [
       "'Welcome to Python.org'"
      ]
     },
     "execution_count": 7,
     "metadata": {},
     "output_type": "execute_result"
    }
   ],
   "source": [
    "soup.title.string"
   ]
  },
  {
   "cell_type": "code",
   "execution_count": 8,
   "metadata": {},
   "outputs": [
    {
     "data": {
      "text/plain": [
       "<a href=\"#content\" title=\"Skip to content\">Skip to content</a>"
      ]
     },
     "execution_count": 8,
     "metadata": {},
     "output_type": "execute_result"
    }
   ],
   "source": [
    "soup.a "
   ]
  },
  {
   "cell_type": "code",
   "execution_count": 9,
   "metadata": {},
   "outputs": [
    {
     "data": {
      "text/plain": [
       "[<a href=\"#content\" title=\"Skip to content\">Skip to content</a>,\n",
       " <a aria-hidden=\"true\" class=\"jump-link\" href=\"#python-network\" id=\"close-python-network\">\n",
       " <span aria-hidden=\"true\" class=\"icon-arrow-down\"><span>▼</span></span> Close\n",
       "                 </a>,\n",
       " <a class=\"current_item selectedcurrent_branch selected\" href=\"/\" title=\"The Python Programming Language\">Python</a>,\n",
       " <a href=\"/psf-landing/\" title=\"The Python Software Foundation\">PSF</a>,\n",
       " <a href=\"https://docs.python.org\" title=\"Python Documentation\">Docs</a>,\n",
       " <a href=\"https://pypi.python.org/\" title=\"Python Package Index\">PyPI</a>,\n",
       " <a href=\"/jobs/\" title=\"Python Job Board\">Jobs</a>,\n",
       " <a href=\"/community/\" title=\"Python Community\">Community</a>,\n",
       " <a aria-hidden=\"true\" class=\"jump-link\" href=\"#top\" id=\"python-network\">\n",
       " <span aria-hidden=\"true\" class=\"icon-arrow-up\"><span>▲</span></span> The Python Network\n",
       "                 </a>,\n",
       " <a href=\"/\"><img alt=\"python™\" class=\"python-logo\" src=\"/static/img/python-logo.png\"/></a>,\n",
       " <a class=\"jump-to-menu\" href=\"#site-map\" id=\"site-map-link\"><span class=\"menu-icon\">≡</span> Menu</a>,\n",
       " <a class=\"action-trigger\" href=\"#\"><strong><small>A</small> A</strong></a>,\n",
       " <a class=\"text-shrink\" href=\"javascript:;\" title=\"Make Text Smaller\">Smaller</a>,\n",
       " <a class=\"text-grow\" href=\"javascript:;\" title=\"Make Text Larger\">Larger</a>,\n",
       " <a class=\"text-reset\" href=\"javascript:;\" title=\"Reset any font size changes I have made\">Reset</a>,\n",
       " <a class=\"action-trigger\" href=\"#\">Socialize</a>,\n",
       " <a href=\"http://plus.google.com/+Python\"><span aria-hidden=\"true\" class=\"icon-google-plus\"></span>Google+</a>,\n",
       " <a href=\"http://www.facebook.com/pythonlang?fref=ts\"><span aria-hidden=\"true\" class=\"icon-facebook\"></span>Facebook</a>,\n",
       " <a href=\"http://twitter.com/ThePSF\"><span aria-hidden=\"true\" class=\"icon-twitter\"></span>Twitter</a>,\n",
       " <a href=\"/community/irc/\"><span aria-hidden=\"true\" class=\"icon-freenode\"></span>Chat on IRC</a>,\n",
       " <a href=\"/accounts/login/\" title=\"Sign Up or Sign In to Python.org\">Sign In</a>,\n",
       " <a href=\"/accounts/signup/\">Sign Up / Register</a>,\n",
       " <a href=\"/accounts/login/\">Sign In</a>,\n",
       " <a class=\"\" href=\"/about/\" title=\"\">About</a>,\n",
       " <a href=\"/about/apps/\" title=\"\">Applications</a>,\n",
       " <a href=\"/about/quotes/\" title=\"\">Quotes</a>,\n",
       " <a href=\"/about/gettingstarted/\" title=\"\">Getting Started</a>,\n",
       " <a href=\"/about/help/\" title=\"\">Help</a>,\n",
       " <a href=\"http://brochure.getpython.info/\" title=\"\">Python Brochure</a>,\n",
       " <a class=\"\" href=\"/downloads/\" title=\"\">Downloads</a>,\n",
       " <a href=\"/downloads/\" title=\"\">All releases</a>,\n",
       " <a href=\"/downloads/source/\" title=\"\">Source code</a>,\n",
       " <a href=\"/downloads/windows/\" title=\"\">Windows</a>,\n",
       " <a href=\"/downloads/mac-osx/\" title=\"\">Mac OS X</a>,\n",
       " <a href=\"/download/other/\" title=\"\">Other Platforms</a>,\n",
       " <a href=\"https://docs.python.org/3/license.html\" title=\"\">License</a>,\n",
       " <a href=\"/download/alternatives\" title=\"\">Alternative Implementations</a>,\n",
       " <a class=\"\" href=\"/doc/\" title=\"\">Documentation</a>,\n",
       " <a href=\"/doc/\" title=\"\">Docs</a>,\n",
       " <a href=\"/doc/av\" title=\"\">Audio/Visual Talks</a>,\n",
       " <a href=\"https://wiki.python.org/moin/BeginnersGuide\" title=\"\">Beginner's Guide</a>,\n",
       " <a href=\"https://devguide.python.org/\" title=\"\">Developer's Guide</a>,\n",
       " <a href=\"https://docs.python.org/faq/\" title=\"\">FAQ</a>,\n",
       " <a href=\"http://wiki.python.org/moin/Languages\" title=\"\">Non-English Docs</a>,\n",
       " <a href=\"http://python.org/dev/peps/\" title=\"\">PEP Index</a>,\n",
       " <a href=\"https://wiki.python.org/moin/PythonBooks\" title=\"\">Python Books</a>,\n",
       " <a href=\"/doc/essays/\" title=\"\">Python Essays</a>,\n",
       " <a class=\"\" href=\"/community/\" title=\"\">Community</a>,\n",
       " <a href=\"/community/diversity/\" title=\"\">Diversity</a>,\n",
       " <a href=\"/community/lists/\" title=\"\">Mailing Lists</a>,\n",
       " <a href=\"/community/irc/\" title=\"\">IRC</a>,\n",
       " <a href=\"/community/forums/\" title=\"\">Forums</a>,\n",
       " <a href=\"/community/workshops/\" title=\"\">Python Conferences</a>,\n",
       " <a href=\"/community/sigs/\" title=\"\">Special Interest Groups</a>,\n",
       " <a href=\"https://wiki.python.org/moin/\" title=\"\">Python Wiki</a>,\n",
       " <a href=\"/community/logos/\" title=\"\">Python Logo</a>,\n",
       " <a href=\"/community/merchandise/\" title=\"\">Merchandise</a>,\n",
       " <a href=\"/community/awards\" title=\"\">Community Awards</a>,\n",
       " <a href=\"https://www.python.org/psf/codeofconduct/\" title=\"\">Code of Conduct</a>,\n",
       " <a class=\"\" href=\"/about/success/\" title=\"success-stories\">Success Stories</a>,\n",
       " <a href=\"/about/success/#arts\" title=\"\">Arts</a>,\n",
       " <a href=\"/about/success/#business\" title=\"\">Business</a>,\n",
       " <a href=\"/about/success/#education\" title=\"\">Education</a>,\n",
       " <a href=\"/about/success/#engineering\" title=\"\">Engineering</a>,\n",
       " <a href=\"/about/success/#government\" title=\"\">Government</a>,\n",
       " <a href=\"/about/success/#scientific\" title=\"\">Scientific</a>,\n",
       " <a href=\"/about/success/#software-development\" title=\"\">Software Development</a>,\n",
       " <a class=\"\" href=\"/blogs/\" title=\"News from around the Python world\">News</a>,\n",
       " <a href=\"/blogs/\" title=\"Python Insider Blog Posts\">Python News</a>,\n",
       " <a href=\"http://planetpython.org/\" title=\"Planet Python\">Community News</a>,\n",
       " <a href=\"http://pyfound.blogspot.com/\" title=\"PSF Blog\">PSF News</a>,\n",
       " <a href=\"http://pycon.blogspot.com/\" title=\"PyCon Blog\">PyCon News</a>,\n",
       " <a class=\"\" href=\"/events/\" title=\"\">Events</a>,\n",
       " <a href=\"/events/python-events\" title=\"\">Python Events</a>,\n",
       " <a href=\"/events/python-user-group/\" title=\"\">User Group Events</a>,\n",
       " <a href=\"/events/python-events/past/\" title=\"\">Python Events Archive</a>,\n",
       " <a href=\"/events/python-user-group/past/\" title=\"\">User Group Events Archive</a>,\n",
       " <a href=\"https://wiki.python.org/moin/PythonEventsCalendar#Submitting_an_Event\" title=\"\">Submit an Event</a>,\n",
       " <a class=\"button prompt\" data-shell-container=\"#dive-into-python\" href=\"/shell/\" id=\"start-shell\">&gt;_\n",
       "                         <span class=\"message\">Launch Interactive Shell</span>\n",
       " </a>,\n",
       " <a href=\"//docs.python.org/3/tutorial/controlflow.html#defining-functions\">More about defining functions in Python 3</a>,\n",
       " <a href=\"//docs.python.org/3/tutorial/introduction.html#lists\">More about lists in Python 3</a>,\n",
       " <a href=\"http://docs.python.org/3/tutorial/introduction.html#using-python-as-a-calculator\">More about simple math functions in Python 3</a>,\n",
       " <a href=\"//docs.python.org/3/tutorial/\">Whet your appetite</a>,\n",
       " <a href=\"//docs.python.org/3/tutorial/controlflow.html\">More control flow tools in Python 3</a>,\n",
       " <a class=\"readmore\" href=\"/doc/\">Learn More</a>,\n",
       " <a href=\"/about/gettingstarted/\">Start with our Beginner’s Guide</a>,\n",
       " <a href=\"/downloads/release/python-370/\">Python 3.7.0</a>,\n",
       " <a href=\"https://docs.python.org\">docs.python.org</a>,\n",
       " <a href=\"//jobs.python.org\">jobs.python.org</a>,\n",
       " <a href=\"http://blog.python.org\" title=\"More News\">More</a>,\n",
       " <a href=\"http://feedproxy.google.com/~r/PythonInsider/~3/RMqgTQsV720/python-3.html\">Python 3.7.0 is now available (and so is 3.6.6)! On behalf of ...</a>,\n",
       " <a href=\"http://feedproxy.google.com/~r/PythonInsider/~3/PuHgTVhNAAE/python-370rc1-and-366rc1-now-available.html\">Python 3.7.0rc1 and 3.6.6rc1 are now available. 3.7.0rc1 is the final planned release preview of Python 3.7, ...</a>,\n",
       " <a href=\"http://feedproxy.google.com/~r/PythonInsider/~3/rPQiRIs2Qhg/python-370b5-bonus-beta-is-now.html\">A 3.7 update: Python 3.7.0b5 is now the final beta preview of Python 3.7, the ...</a>,\n",
       " <a href=\"http://feedproxy.google.com/~r/PythonInsider/~3/vo7OgsISIdQ/python-370b4-final-37-beta-now.html\">Python 3.7.0b4 is the final beta preview of Python 3.7, the next feature release of ...</a>,\n",
       " <a href=\"http://feedproxy.google.com/~r/PythonInsider/~3/BMstxEjkOt0/python-2715-released.html\">The bugfix release Python 2.7.15 is now available for download.</a>,\n",
       " <a href=\"/events/calendars/\" title=\"More Events\">More</a>,\n",
       " <a href=\"/events/python-events/675/\">PyHEP 2018</a>,\n",
       " <a href=\"/events/python-user-group/736/\">Django Girls Bo</a>,\n",
       " <a href=\"/events/python-events/656/\">SciPy 2018</a>,\n",
       " <a href=\"/events/python-user-group/731/\">Django Girls Barranquilla</a>,\n",
       " <a href=\"/events/python-user-group/735/\">Django Girls Kampala</a>,\n",
       " <a href=\"/success-stories/\" title=\"More Success Stories\">More</a>,\n",
       " <a href=\"/success-stories/industrial-light-magic-runs-python/\">ILM runs a batch processing environment capable of modeling, rendering and compositing tens of thousands of motion picture frames per day. Thousands of machines running Linux, IRIX, Compaq Tru64, OS X, Solaris, and Windows join together to provide a production pipeline used by ~800 users daily. Speed of development is key, and Python was a faster way to code (and re-code) the programs that control this production pipeline.</a>,\n",
       " <a href=\"/success-stories/industrial-light-magic-runs-python/\">Industrial Light &amp; Magic Runs on Python</a>,\n",
       " <a href=\"/about/apps\" title=\"More Applications\">More</a>,\n",
       " <a class=\"tag\" href=\"http://www.djangoproject.com/\">Django</a>,\n",
       " <a class=\"tag\" href=\"http://www.pylonsproject.org/\">Pyramid</a>,\n",
       " <a class=\"tag\" href=\"http://bottlepy.org\">Bottle</a>,\n",
       " <a class=\"tag\" href=\"http://tornadoweb.org\">Tornado</a>,\n",
       " <a class=\"tag\" href=\"http://flask.pocoo.org/\">Flask</a>,\n",
       " <a class=\"tag\" href=\"http://www.web2py.com/\">web2py</a>,\n",
       " <a class=\"tag\" href=\"http://wiki.python.org/moin/TkInter\">tkInter</a>,\n",
       " <a class=\"tag\" href=\"https://wiki.gnome.org/Projects/PyGObject\">PyGObject</a>,\n",
       " <a class=\"tag\" href=\"http://www.riverbankcomputing.co.uk/software/pyqt/intro\">PyQt</a>,\n",
       " <a class=\"tag\" href=\"https://wiki.qt.io/PySide\">PySide</a>,\n",
       " <a class=\"tag\" href=\"https://kivy.org/\">Kivy</a>,\n",
       " <a class=\"tag\" href=\"http://www.wxpython.org/\">wxPython</a>,\n",
       " <a class=\"tag\" href=\"http://www.scipy.org\">SciPy</a>,\n",
       " <a class=\"tag\" href=\"http://pandas.pydata.org/\">Pandas</a>,\n",
       " <a class=\"tag\" href=\"http://ipython.org\">IPython</a>,\n",
       " <a class=\"tag\" href=\"http://buildbot.net/\">Buildbot</a>,\n",
       " <a class=\"tag\" href=\"http://trac.edgewall.org/\">Trac</a>,\n",
       " <a class=\"tag\" href=\"http://roundup.sourceforge.net/\">Roundup</a>,\n",
       " <a class=\"tag\" href=\"http://www.ansible.com\">Ansible</a>,\n",
       " <a class=\"tag\" href=\"http://www.saltstack.com\">Salt</a>,\n",
       " <a class=\"tag\" href=\"https://www.openstack.org\">OpenStack</a>,\n",
       " <a href=\"/dev/peps/\">Python Enhancement Proposals<span class=\"say-no-more\"> (PEPs)</span></a>,\n",
       " <a aria-hidden=\"true\" class=\"rss-link\" href=\"/dev/peps/peps.rss\"><span class=\"icon-feed\"></span> RSS</a>,\n",
       " <a href=\"/psf/\">Python Software Foundation</a>,\n",
       " <a class=\"readmore\" href=\"/psf/\">Learn more</a>,\n",
       " <a class=\"button\" href=\"/users/membership/\">Become a Member</a>,\n",
       " <a class=\"button\" href=\"/psf/donations/\">Donate to the PSF</a>,\n",
       " <a class=\"jump-link\" href=\"#python-network\" id=\"back-to-top-1\"><span aria-hidden=\"true\" class=\"icon-arrow-up\"><span>▲</span></span> Back to Top</a>,\n",
       " <a href=\"/about/\">About</a>,\n",
       " <a href=\"/about/apps/\" title=\"\">Applications</a>,\n",
       " <a href=\"/about/quotes/\" title=\"\">Quotes</a>,\n",
       " <a href=\"/about/gettingstarted/\" title=\"\">Getting Started</a>,\n",
       " <a href=\"/about/help/\" title=\"\">Help</a>,\n",
       " <a href=\"http://brochure.getpython.info/\" title=\"\">Python Brochure</a>,\n",
       " <a href=\"/downloads/\">Downloads</a>,\n",
       " <a href=\"/downloads/\" title=\"\">All releases</a>,\n",
       " <a href=\"/downloads/source/\" title=\"\">Source code</a>,\n",
       " <a href=\"/downloads/windows/\" title=\"\">Windows</a>,\n",
       " <a href=\"/downloads/mac-osx/\" title=\"\">Mac OS X</a>,\n",
       " <a href=\"/download/other/\" title=\"\">Other Platforms</a>,\n",
       " <a href=\"https://docs.python.org/3/license.html\" title=\"\">License</a>,\n",
       " <a href=\"/download/alternatives\" title=\"\">Alternative Implementations</a>,\n",
       " <a href=\"/doc/\">Documentation</a>,\n",
       " <a href=\"/doc/\" title=\"\">Docs</a>,\n",
       " <a href=\"/doc/av\" title=\"\">Audio/Visual Talks</a>,\n",
       " <a href=\"https://wiki.python.org/moin/BeginnersGuide\" title=\"\">Beginner's Guide</a>,\n",
       " <a href=\"https://devguide.python.org/\" title=\"\">Developer's Guide</a>,\n",
       " <a href=\"https://docs.python.org/faq/\" title=\"\">FAQ</a>,\n",
       " <a href=\"http://wiki.python.org/moin/Languages\" title=\"\">Non-English Docs</a>,\n",
       " <a href=\"http://python.org/dev/peps/\" title=\"\">PEP Index</a>,\n",
       " <a href=\"https://wiki.python.org/moin/PythonBooks\" title=\"\">Python Books</a>,\n",
       " <a href=\"/doc/essays/\" title=\"\">Python Essays</a>,\n",
       " <a href=\"/community/\">Community</a>,\n",
       " <a href=\"/community/diversity/\" title=\"\">Diversity</a>,\n",
       " <a href=\"/community/lists/\" title=\"\">Mailing Lists</a>,\n",
       " <a href=\"/community/irc/\" title=\"\">IRC</a>,\n",
       " <a href=\"/community/forums/\" title=\"\">Forums</a>,\n",
       " <a href=\"/community/workshops/\" title=\"\">Python Conferences</a>,\n",
       " <a href=\"/community/sigs/\" title=\"\">Special Interest Groups</a>,\n",
       " <a href=\"https://wiki.python.org/moin/\" title=\"\">Python Wiki</a>,\n",
       " <a href=\"/community/logos/\" title=\"\">Python Logo</a>,\n",
       " <a href=\"/community/merchandise/\" title=\"\">Merchandise</a>,\n",
       " <a href=\"/community/awards\" title=\"\">Community Awards</a>,\n",
       " <a href=\"https://www.python.org/psf/codeofconduct/\" title=\"\">Code of Conduct</a>,\n",
       " <a href=\"/about/success/\" title=\"success-stories\">Success Stories</a>,\n",
       " <a href=\"/about/success/#arts\" title=\"\">Arts</a>,\n",
       " <a href=\"/about/success/#business\" title=\"\">Business</a>,\n",
       " <a href=\"/about/success/#education\" title=\"\">Education</a>,\n",
       " <a href=\"/about/success/#engineering\" title=\"\">Engineering</a>,\n",
       " <a href=\"/about/success/#government\" title=\"\">Government</a>,\n",
       " <a href=\"/about/success/#scientific\" title=\"\">Scientific</a>,\n",
       " <a href=\"/about/success/#software-development\" title=\"\">Software Development</a>,\n",
       " <a href=\"/blogs/\" title=\"News from around the Python world\">News</a>,\n",
       " <a href=\"/blogs/\" title=\"Python Insider Blog Posts\">Python News</a>,\n",
       " <a href=\"http://planetpython.org/\" title=\"Planet Python\">Community News</a>,\n",
       " <a href=\"http://pyfound.blogspot.com/\" title=\"PSF Blog\">PSF News</a>,\n",
       " <a href=\"http://pycon.blogspot.com/\" title=\"PyCon Blog\">PyCon News</a>,\n",
       " <a href=\"/events/\">Events</a>,\n",
       " <a href=\"/events/python-events\" title=\"\">Python Events</a>,\n",
       " <a href=\"/events/python-user-group/\" title=\"\">User Group Events</a>,\n",
       " <a href=\"/events/python-events/past/\" title=\"\">Python Events Archive</a>,\n",
       " <a href=\"/events/python-user-group/past/\" title=\"\">User Group Events Archive</a>,\n",
       " <a href=\"https://wiki.python.org/moin/PythonEventsCalendar#Submitting_an_Event\" title=\"\">Submit an Event</a>,\n",
       " <a href=\"/dev/\">Contributing</a>,\n",
       " <a href=\"https://devguide.python.org/\" title=\"\">Developer's Guide</a>,\n",
       " <a href=\"https://bugs.python.org/\" title=\"\">Issue Tracker</a>,\n",
       " <a href=\"https://mail.python.org/mailman/listinfo/python-dev\" title=\"\">python-dev list</a>,\n",
       " <a href=\"/dev/core-mentorship/\" title=\"\">Core Mentorship</a>,\n",
       " <a class=\"jump-link\" href=\"#python-network\" id=\"back-to-top-2\"><span aria-hidden=\"true\" class=\"icon-arrow-up\"><span>▲</span></span> Back to Top</a>,\n",
       " <a href=\"/about/help/\">Help &amp; <span class=\"say-no-more\">General</span> Contact</a>,\n",
       " <a href=\"/community/diversity/\">Diversity <span class=\"say-no-more\">Initiatives</span></a>,\n",
       " <a href=\"https://github.com/python/pythondotorg/issues\">Submit Website Bug</a>,\n",
       " <a href=\"https://status.python.org/\">Status <span class=\"python-status-indicator-default\" id=\"python-status-indicator\"></span></a>,\n",
       " <a href=\"/psf-landing/\">Python Software Foundation</a>,\n",
       " <a href=\"/about/legal/\">Legal Statements</a>,\n",
       " <a href=\"/privacy/\">Privacy Policy</a>,\n",
       " <a href=\"/psf/sponsorship/sponsors/\">Powered by Rackspace</a>]"
      ]
     },
     "execution_count": 9,
     "metadata": {},
     "output_type": "execute_result"
    }
   ],
   "source": [
    "soup.find_all(\"a\")"
   ]
  },
  {
   "cell_type": "code",
   "execution_count": 10,
   "metadata": {},
   "outputs": [],
   "source": [
    "tables = soup.find('table')"
   ]
  },
  {
   "cell_type": "code",
   "execution_count": 11,
   "metadata": {},
   "outputs": [
    {
     "name": "stdout",
     "output_type": "stream",
     "text": [
      "<table border=\"0\" cellpadding=\"0\" cellspacing=\"0\" class=\"quote-from\" width=\"100%\">\n",
      "<tbody>\n",
      "<tr>\n",
      "<td><p><a href=\"/success-stories/industrial-light-magic-runs-python/\">Industrial Light &amp; Magic Runs on Python</a> <em>by Tim Fortenberry</em></p></td>\n",
      "</tr>\n",
      "</tbody>\n",
      "</table>\n"
     ]
    }
   ],
   "source": [
    "print(tables)"
   ]
  },
  {
   "cell_type": "markdown",
   "metadata": {},
   "source": [
    "# Fim"
   ]
  },
  {
   "cell_type": "markdown",
   "metadata": {},
   "source": [
    "### Obrigado - Data Science Academy - <a href=\"http://facebook.com/dsacademybr\">facebook.com/dsacademybr</a>"
   ]
  }
 ],
 "metadata": {
  "kernelspec": {
   "display_name": "Python 3",
   "language": "python",
   "name": "python3"
  },
  "language_info": {
   "codemirror_mode": {
    "name": "ipython",
    "version": 3
   },
   "file_extension": ".py",
   "mimetype": "text/x-python",
   "name": "python",
   "nbconvert_exporter": "python",
   "pygments_lexer": "ipython3",
   "version": "3.7.0"
  }
 },
 "nbformat": 4,
 "nbformat_minor": 2
}
