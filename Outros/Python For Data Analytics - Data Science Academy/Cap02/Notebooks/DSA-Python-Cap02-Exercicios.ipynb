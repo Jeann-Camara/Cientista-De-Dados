{
 "cells": [
  {
   "cell_type": "markdown",
   "metadata": {},
   "source": [
    "# <font color='blue'>Data Science Academy - Python Fundamentos - Capítulo 2</font>\n",
    "\n",
    "## Download: http://github.com/dsacademybr"
   ]
  },
  {
   "cell_type": "markdown",
   "metadata": {},
   "source": [
    "## Exercícios Cap02"
   ]
  },
  {
   "cell_type": "code",
   "execution_count": 43,
   "metadata": {},
   "outputs": [
    {
     "name": "stdout",
     "output_type": "stream",
     "text": [
      "[1, 2, 3, 4, 5, 6, 7, 8, 9, 10]\n"
     ]
    }
   ],
   "source": [
    "# Exercício 1 - Imprima na tela os números de 1 a 10. Use uma lista para armazenar os números.\n",
    "\n",
    "numero = 1\n",
    "quantidade = 10\n",
    "lista_numeros = []\n",
    "\n",
    "while numero <= quantidade:\n",
    "    \n",
    "    lista_numeros.append(numero)\n",
    "    \n",
    "    numero += 1\n",
    "\n",
    "print(lista_numeros)"
   ]
  },
  {
   "cell_type": "code",
   "execution_count": 11,
   "metadata": {},
   "outputs": [
    {
     "name": "stdout",
     "output_type": "stream",
     "text": [
      "['Objeto5', 'Objeto4', 'Objeto3', 'Objeto2', 'Objeto1']\n"
     ]
    }
   ],
   "source": [
    "# Exercício 2 - Crie uma lista de 5 objetos e imprima na tela\n",
    "\n",
    "quantidade_objetos = 5\n",
    "lista_objetos = []\n",
    "\n",
    "while quantidade_objetos > 0 :\n",
    "    \n",
    "    lista_objetos.append(\"Objeto\" + str(quantidade_objetos))\n",
    "    \n",
    "    quantidade_objetos -= 1\n",
    "\n",
    "print(lista_objetos)"
   ]
  },
  {
   "cell_type": "code",
   "execution_count": 13,
   "metadata": {},
   "outputs": [
    {
     "name": "stdout",
     "output_type": "stream",
     "text": [
      "Aprendendo Python\n"
     ]
    }
   ],
   "source": [
    "# Exercício 3 - Crie duas strings e concatene as duas em uma terceira string\n",
    "\n",
    "string1 = \"Aprendendo \"\n",
    "string2 = \"Python\"\n",
    "\n",
    "print(string1 + string2)"
   ]
  },
  {
   "cell_type": "code",
   "execution_count": 18,
   "metadata": {},
   "outputs": [
    {
     "data": {
      "text/plain": [
       "3"
      ]
     },
     "execution_count": 18,
     "metadata": {},
     "output_type": "execute_result"
    }
   ],
   "source": [
    "# Exercício 4 - Crie uma tupla com os seguintes elementos: 1, 2, 2, 3, 4, 4, 4, 5 e depois utilize a função count do \n",
    "# objeto tupla para verificar quantas vezes o número 4 aparece na tupla\n",
    "\n",
    "tupla_numeros = (1, 2, 2, 3, 4, 4, 4, 5)\n",
    "\n",
    "tupla_numeros.count(4)"
   ]
  },
  {
   "cell_type": "code",
   "execution_count": 20,
   "metadata": {},
   "outputs": [
    {
     "name": "stdout",
     "output_type": "stream",
     "text": [
      "{}\n"
     ]
    }
   ],
   "source": [
    "# Exercício 5 - Crie um dicionário vazio e imprima na tela\n",
    "\n",
    "dicionario_vazio = {}\n",
    "\n",
    "print(dicionario_vazio)"
   ]
  },
  {
   "cell_type": "code",
   "execution_count": 51,
   "metadata": {},
   "outputs": [
    {
     "name": "stdout",
     "output_type": "stream",
     "text": [
      "{0: 'Valor1', 1: 'Valor2', 2: 'Valor3'}\n"
     ]
    }
   ],
   "source": [
    "# Exercício 6 - Crie um dicionário com 3 chaves e 3 valores e imprima na tela\n",
    "\n",
    "chave = 1\n",
    "quantidade = 3\n",
    "dicionario = {}\n",
    "\n",
    "while chave <= quantidade:\n",
    "    \n",
    "    dicionario[chave-1] = \"Valor\" + str(chave)\n",
    "        \n",
    "    chave += 1\n",
    "    \n",
    "print(dicionario)"
   ]
  },
  {
   "cell_type": "code",
   "execution_count": 52,
   "metadata": {},
   "outputs": [
    {
     "name": "stdout",
     "output_type": "stream",
     "text": [
      "{0: 'Valor1', 1: 'Valor2', 2: 'Valor3', 3: 'Valor4'}\n"
     ]
    }
   ],
   "source": [
    "# Exercício 7 - Adicione mais um elemento ao dicionário criado no exercício anterior e imprima na tela\n",
    "\n",
    "dicionario[quantidade] = \"Valor\" + str(quantidade+1)\n",
    "\n",
    "print(dicionario)"
   ]
  },
  {
   "cell_type": "code",
   "execution_count": 53,
   "metadata": {},
   "outputs": [
    {
     "name": "stdout",
     "output_type": "stream",
     "text": [
      "{0: 'Valor1', 1: 'Valor2', 2: [3, 3]}\n"
     ]
    }
   ],
   "source": [
    "# Exercício 8 - Crie um dicionário com 3 chaves e 3 valores. Um dos valores deve ser uma lista de 2 elementos numéricos. \n",
    "# Imprima o dicionário na tela.\n",
    "\n",
    "chave = 1\n",
    "quantidade = 3\n",
    "dicionario_ultimo_numeros = {}\n",
    "\n",
    "while chave <= quantidade:\n",
    "    \n",
    "    valor = \"Valor\" + str(chave)\n",
    "    \n",
    "    if chave == quantidade:\n",
    "        valor = [chave, quantidade]\n",
    "    \n",
    "    dicionario_ultimo_numeros[chave-1] = valor\n",
    "        \n",
    "    chave += 1\n",
    "    \n",
    "print(dicionario_ultimo_numeros)"
   ]
  },
  {
   "cell_type": "code",
   "execution_count": 60,
   "metadata": {},
   "outputs": [
    {
     "name": "stdout",
     "output_type": "stream",
     "text": [
      "{0: 'String', 1: (2, 4), 2: {3: 4, 4: 5}, 3: 0.8}\n"
     ]
    }
   ],
   "source": [
    "# Exercício 9 - Crie uma lista de 4 elementos. O primeiro elemento deve ser uma string, \n",
    "# o segundo uma tupla de 2 elementos, o terceiro um dcionário com 2 chaves e 2 valores e \n",
    "# o quarto elemento um valor do tipo float.\n",
    "# Imprima a lista na tela.\n",
    "\n",
    "chave = 1\n",
    "quantidade = 4\n",
    "dicionario_diversos = {}\n",
    "\n",
    "while chave <= quantidade:\n",
    "    \n",
    "    valor = \"Valor\" + str(chave)\n",
    "    \n",
    "    if chave == 1:\n",
    "        valor = \"String\"\n",
    "    \n",
    "    if chave == 2:\n",
    "        valor = (chave, quantidade)\n",
    "        \n",
    "    if chave == 3:\n",
    "        valor = {chave:quantidade, chave+1:quantidade+1}\n",
    "\n",
    "    if chave == 4:\n",
    "        valor = float(chave/(quantidade+1))\n",
    "    \n",
    "    dicionario_diversos[chave-1] = valor\n",
    "        \n",
    "    chave += 1\n",
    "    \n",
    "print(dicionario_diversos)"
   ]
  },
  {
   "cell_type": "code",
   "execution_count": 65,
   "metadata": {},
   "outputs": [
    {
     "name": "stdout",
     "output_type": "stream",
     "text": [
      "Cientista de Dados\n"
     ]
    }
   ],
   "source": [
    "# Exercício 10 - Considere a string abaixo. Imprima na tela apenas os caracteres da posição 1 a 18.\n",
    "\n",
    "frase = 'Cientista de Dados é o profissional mais sexy do século XXI'\n",
    "\n",
    "print(frase[0:18])"
   ]
  },
  {
   "cell_type": "markdown",
   "metadata": {},
   "source": [
    "# Fim"
   ]
  },
  {
   "cell_type": "markdown",
   "metadata": {},
   "source": [
    "### Obrigado - Data Science Academy - <a href=\"http://facebook.com/dsacademybr\">facebook.com/dsacademybr</a>"
   ]
  }
 ],
 "metadata": {
  "kernelspec": {
   "display_name": "Python 3",
   "language": "python",
   "name": "python3"
  },
  "language_info": {
   "codemirror_mode": {
    "name": "ipython",
    "version": 3
   },
   "file_extension": ".py",
   "mimetype": "text/x-python",
   "name": "python",
   "nbconvert_exporter": "python",
   "pygments_lexer": "ipython3",
   "version": "3.7.0"
  }
 },
 "nbformat": 4,
 "nbformat_minor": 1
}
