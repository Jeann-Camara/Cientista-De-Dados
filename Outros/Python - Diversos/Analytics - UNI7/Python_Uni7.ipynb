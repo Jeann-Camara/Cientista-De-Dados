{
 "cells": [
  {
   "cell_type": "markdown",
   "metadata": {},
   "source": [
    "![title](https://doity.com.br/media/doity/eventos/evento-20025-logo_organizador.png)\n",
    "\n",
    "# Prova de Programação para Data Science e Data Analytics\n",
    "\n",
    "* **Prof. Cleilton Lima Rocha**\n",
    "* **emails:** climarocha@gmail.com\n",
    "* **deadline: 11/3 às 23h**\n",
    "***\n",
    "* **Titulo do e-mail:** Prova de PDSDA [Fulane, Beltrano]\n",
    "* **Conteúdo do e-mail:** Envie-me, obrigatoriamente, o código fonte e o report de todos os jupyters notebook (File ==> Download As ==> Html ou PDF), com o nome dos membros da dupla, para um dos meus emails, climarocha@gmail.com ou cleilton_rocha@atlantico.com.br até o dia **13/3 às 23h**, após esta data sua prova valerá no máximo **8 (oito pontos)**.\n",
    "* **Respostas das questões:** \n",
    "    - Quando você julgar necessário construa gráficos para responder as questões e explique-os de forma sucinta com clareza e objetividade. Isso lhe ajudará a se tornar um bom cientista de dados.\n",
    "    - As questões podem ser respondidas utilizando o **Pyspark**, embora não seja obrigatório.\n",
    "***\n",
    "Qualquer dúvida podem me escrever!"
   ]
  },
  {
   "cell_type": "markdown",
   "metadata": {},
   "source": [
    "### Descrição"
   ]
  },
  {
   "cell_type": "markdown",
   "metadata": {},
   "source": [
    "Para facilitar a administração da segurança pública, o Departamento de Polícia de Seattle dividiu a cidade em 5 partes, cada uma\n",
    "com uma delegacia. Cada delegacia foi subdividida em setores, e estes foram divididos em *beats* (hondas).\n",
    "A administração tem dois *datasets* um chamado **Call_Data**, para obter maiores informações acesse este [link](https://data.seattle.gov/Public-Safety/Call-Data/33kz-ixgy) e outro chamado **Crime_Data**, maiores detalhes [aqui](https://data.seattle.gov/Public-Safety/Crime-Data/4fs7-3vj5) (acesse os links para compreender o dicionário de cada dataset). \n",
    "\n",
    "O download do dataset de chamadas está disponível neste [link](https://data.seattle.gov/api/views/33kz-ixgy/rows.csv?accessType=DOWNLOAD) e o download do dataset de crimes está [aqui](https://data.seattle.gov/api/views/4fs7-3vj5/rows.csv?accessType=DOWNLOAD).\n",
    "\n",
    "\n",
    "O administrador geral pediu que você, cientista de dados, o ajudasse a elaborar um report respondendo algumas perguntas.  O objetivo deste projeto é ajudar a administração fornecendo informações relevantes para ajudá-los a resolver de forma mais rápida uma chamada, um crime ou mesmo replanejar a distribuição das hondas e setores. Como bom cientista de dados que você é, você tem a liberdade de ir além e responder mais perguntas do que as que estão aqui =D, através dos insights que vão surgindo a medida que você mergulha no problema.\n",
    "\n",
    "**Boa prova e hands on!**"
   ]
  },
  {
   "cell_type": "markdown",
   "metadata": {},
   "source": [
    "### Questões obrigatórias da avaliação"
   ]
  },
  {
   "cell_type": "markdown",
   "metadata": {},
   "source": [
    "- Carreque o dataset de chamadas ..."
   ]
  },
  {
   "cell_type": "code",
   "execution_count": 2,
   "metadata": {},
   "outputs": [],
   "source": [
    "import pandas as pd\n",
    "import seaborn as sns\n",
    "import numpy as np\n",
    "import matplotlib.pyplot as plt\n",
    "%matplotlib inline\n",
    "import warnings\n",
    "from datetime import datetime\n",
    "from dateutil.relativedelta import relativedelta"
   ]
  },
  {
   "cell_type": "code",
   "execution_count": 3,
   "metadata": {},
   "outputs": [
    {
     "name": "stdout",
     "output_type": "stream",
     "text": [
      "<class 'pandas.core.frame.DataFrame'>\n",
      "RangeIndex: 3856726 entries, 0 to 3856725\n",
      "Data columns (total 11 columns):\n",
      "CAD Event Number               int64\n",
      "Event Clearance Description    object\n",
      "Call Type                      object\n",
      "Priority                       int64\n",
      "Initial Call Type              object\n",
      "Final Call Type                object\n",
      "Original Time Queued           object\n",
      "Arrived Time                   object\n",
      "Precinct                       object\n",
      "Sector                         object\n",
      "Beat                           object\n",
      "dtypes: int64(2), object(9)\n",
      "memory usage: 323.7+ MB\n"
     ]
    }
   ],
   "source": [
    "call = pd.read_csv(\"Call_Data.csv\")\n",
    "call.info()"
   ]
  },
  {
   "cell_type": "markdown",
   "metadata": {},
   "source": [
    "- Crie variáveis para representar o ano, mês, dia da semana e semana (por exemplo, 2_2018) para o dataset de chamadas."
   ]
  },
  {
   "cell_type": "code",
   "execution_count": 4,
   "metadata": {},
   "outputs": [],
   "source": [
    "from datetime import datetime\n",
    "\n",
    "def num_dia(dataVar):\n",
    "    datetime_object = datetime.strptime(dataVar, '%m/%d/%Y %I:%M:%S %p')\n",
    "    return datetime_object.day\n",
    "\n",
    "def num_semana(dataVar):\n",
    "    datetime_object = datetime.strptime(dataVar, '%m/%d/%Y %I:%M:%S %p')\n",
    "    return str(datetime_object.isocalendar()[1]) + '_' + str(datetime_object.isocalendar()[0])\n",
    "\n",
    "def num_ano(dataVar):\n",
    "    datetime_object = datetime.strptime(dataVar, '%m/%d/%Y %I:%M:%S %p')\n",
    "    return datetime_object.year\n",
    "\n",
    "def num_mes(dataVar):\n",
    "    datetime_object = datetime.strptime(dataVar, '%m/%d/%Y %I:%M:%S %p')\n",
    "    return datetime_object.month\n",
    "\n",
    "def dia_da_semana(dataVar):\n",
    "    datetime_object = datetime.strptime(dataVar, '%m/%d/%Y %I:%M:%S %p')\n",
    "    if datetime_object.isoweekday() == 1:\n",
    "        return 'Monday'\n",
    "    elif datetime_object.isoweekday() == 2:\n",
    "        return 'Tuesday'\n",
    "    elif datetime_object.isoweekday() == 3:\n",
    "        return 'Wednesday'\n",
    "    elif datetime_object.isoweekday() == 4:\n",
    "        return 'Thursday'\n",
    "    elif datetime_object.isoweekday() == 5:\n",
    "        return 'Friday'\n",
    "    elif datetime_object.isoweekday() == 6:\n",
    "        return 'Saturday'\n",
    "    elif datetime_object.isoweekday() == 7:\n",
    "        return 'Sunday'\n",
    "    else:\n",
    "        return 'ERROR'\n",
    "\n",
    "def periodo_dia(dataVar):\n",
    "    datetime_object = datetime.strptime(dataVar, '%m/%d/%Y %I:%M:%S %p')\n",
    "    if (datetime_object.hour < 6):\n",
    "        return 'After Midnight'\n",
    "    elif (datetime_object.hour < 12):\n",
    "        return 'Morning'\n",
    "    elif (datetime_object.hour < 18):\n",
    "        return 'Afternoon'\n",
    "    else:\n",
    "        return 'Night'"
   ]
  },
  {
   "cell_type": "code",
   "execution_count": 5,
   "metadata": {},
   "outputs": [],
   "source": [
    "call['Week'] = call['Original Time Queued'].apply(lambda data: num_semana(data))\n",
    "call['Year'] = call['Original Time Queued'].apply(lambda data: num_ano(data))\n",
    "call['Month'] = call['Original Time Queued'].apply(lambda data: num_mes(data))\n",
    "call['Day'] = call['Original Time Queued'].apply(lambda data: num_dia(data))\n",
    "call['Weekday'] = call['Original Time Queued'].apply(lambda data: dia_da_semana(data))\n",
    "call['Day Period'] = call['Original Time Queued'].apply(lambda data: periodo_dia(data))"
   ]
  },
  {
   "cell_type": "markdown",
   "metadata": {},
   "source": [
    "- Elimine os registros cujo precint, setor ou beat seja nulo."
   ]
  },
  {
   "cell_type": "code",
   "execution_count": 6,
   "metadata": {},
   "outputs": [
    {
     "name": "stdout",
     "output_type": "stream",
     "text": [
      "Registros eliminados de 'call':  36509\n"
     ]
    }
   ],
   "source": [
    "call_len = len(call)\n",
    "\n",
    "call.drop(call[call['Precinct'].isnull() | call['Beat'].isnull() | call['Sector'].isnull()].index, inplace=True)\n",
    "\n",
    "print('Registros eliminados de \\'call\\':  %i' % (call_len - len(call)))"
   ]
  },
  {
   "cell_type": "markdown",
   "metadata": {},
   "source": [
    "- Qual delegacia tem mais setores? E qual tem mais beats?"
   ]
  },
  {
   "cell_type": "code",
   "execution_count": 7,
   "metadata": {},
   "outputs": [
    {
     "name": "stdout",
     "output_type": "stream",
     "text": [
      "A delegacia com mais setores é NORTH, e a com mais beats é NORTH\n"
     ]
    }
   ],
   "source": [
    "call_precinct_s = call.groupby(['Precinct'])['Sector'].nunique()\n",
    "\n",
    "call_precinct_b = call.groupby(['Precinct'])['Beat'].nunique()\n",
    "\n",
    "print('A delegacia com mais setores é %s, e a com mais beats é %s' % (call_precinct_s.idxmax(), call_precinct_b.idxmax()))"
   ]
  },
  {
   "cell_type": "markdown",
   "metadata": {},
   "source": [
    "- Apresente a evolução do número de chamadas, escolha 3 tipos de chamadas, ao longo dos últimos 10 anos."
   ]
  },
  {
   "cell_type": "code",
   "execution_count": 8,
   "metadata": {},
   "outputs": [
    {
     "name": "stdout",
     "output_type": "stream",
     "text": [
      "Esses são os 3 principais tipo de ligações e sua quantidade\n"
     ]
    },
    {
     "data": {
      "text/html": [
       "<div>\n",
       "<style scoped>\n",
       "    .dataframe tbody tr th:only-of-type {\n",
       "        vertical-align: middle;\n",
       "    }\n",
       "\n",
       "    .dataframe tbody tr th {\n",
       "        vertical-align: top;\n",
       "    }\n",
       "\n",
       "    .dataframe thead th {\n",
       "        text-align: right;\n",
       "    }\n",
       "</style>\n",
       "<table border=\"1\" class=\"dataframe\">\n",
       "  <thead>\n",
       "    <tr style=\"text-align: right;\">\n",
       "      <th></th>\n",
       "      <th>Call Type</th>\n",
       "      <th>Total</th>\n",
       "    </tr>\n",
       "  </thead>\n",
       "  <tbody>\n",
       "    <tr>\n",
       "      <th>0</th>\n",
       "      <td>ONVIEW</td>\n",
       "      <td>1529312</td>\n",
       "    </tr>\n",
       "    <tr>\n",
       "      <th>1</th>\n",
       "      <td>911</td>\n",
       "      <td>1294109</td>\n",
       "    </tr>\n",
       "    <tr>\n",
       "      <th>2</th>\n",
       "      <td>TELEPHONE OTHER, NOT 911</td>\n",
       "      <td>885041</td>\n",
       "    </tr>\n",
       "  </tbody>\n",
       "</table>\n",
       "</div>"
      ],
      "text/plain": [
       "                  Call Type    Total\n",
       "0                    ONVIEW  1529312\n",
       "1                       911  1294109\n",
       "2  TELEPHONE OTHER, NOT 911   885041"
      ]
     },
     "execution_count": 8,
     "metadata": {},
     "output_type": "execute_result"
    }
   ],
   "source": [
    "call_tipo = call.groupby('Call Type').count().reset_index()\n",
    "print('Esses são os 3 principais tipo de ligações e sua quantidade')\n",
    "\n",
    "call_tipo.rename(index=str, columns={'CAD Event Number': 'Total'}, inplace=True)\n",
    "call_tipo.sort_values('Total', ascending=False).reset_index()[['Call Type','Total']].head(3)"
   ]
  },
  {
   "cell_type": "code",
   "execution_count": 9,
   "metadata": {},
   "outputs": [
    {
     "data": {
      "text/plain": [
       "<matplotlib.axes._subplots.AxesSubplot at 0x19f443c1a58>"
      ]
     },
     "execution_count": 9,
     "metadata": {},
     "output_type": "execute_result"
    },
    {
     "data": {
      "image/png": "[encoded data removed]",
      "text/plain": [
       "<Figure size 864x504 with 1 Axes>"
      ]
     },
     "metadata": {
      "needs_background": "light"
     },
     "output_type": "display_data"
    }
   ],
   "source": [
    "call_10 = call[((call['Year'] >= 2008) & (call['Year'] <= 2018)) & \n",
    "               ((call['Call Type'] == '911') | \n",
    "                (call['Call Type'] == 'ONVIEW') | \n",
    "                (call['Call Type'] == 'TELEPHONE OTHER, NOT 911') )]\n",
    "\n",
    "call_10.reset_index(inplace=True)\n",
    "\n",
    "plt.figure(figsize=[12,7])\n",
    "sns.countplot(x='Year', hue='Call Type', data=call_10)"
   ]
  },
  {
   "cell_type": "markdown",
   "metadata": {},
   "source": [
    "#### R: Constatamos que as chamadas do tipo ONVIEW tiveram um pico em 2010, caíram em 2011 e cresceram até 2013, depois caíram novamente e cresceram até 2017, mantendo uma constância em 2018\n",
    "\n",
    "#### As chamadas do tipo 911foram crescendo até 2014 quando passaram a ter uma quantidade bem próxima nos anos seguintes.\n",
    "\n",
    "#### Já os telefones que não são 911 tiveram números oscilantes nos últimos 10 anos. Notamos, porém o distanciamento desse tipo de chamada com os passar dos anos para os números de chamadas 911.\n"
   ]
  },
  {
   "cell_type": "markdown",
   "metadata": {},
   "source": [
    "- A delegacia que possui mais setores é a que mais recebe chamadas? Justifique sua resposta."
   ]
  },
  {
   "cell_type": "code",
   "execution_count": 10,
   "metadata": {},
   "outputs": [],
   "source": [
    "call_precinct_s = call.groupby(['Precinct'])['Sector'].nunique().reset_index()\n",
    "call_qtd = call.groupby('Precinct').size().reset_index()\n",
    "call_precinct_s.sort_values('Sector', ascending=False, inplace=True)\n",
    "\n",
    "call_qtd.rename(index=str, columns={0: 'Numero de Chamadas'}, inplace=True)\n",
    "call_qtd.sort_values('Numero de Chamadas', ascending=False, inplace=True)"
   ]
  },
  {
   "cell_type": "code",
   "execution_count": 11,
   "metadata": {},
   "outputs": [
    {
     "data": {
      "text/plain": [
       "<matplotlib.axes._subplots.AxesSubplot at 0x19f439bfe10>"
      ]
     },
     "execution_count": 11,
     "metadata": {},
     "output_type": "execute_result"
    },
    {
     "data": {
      "image/png": "[encoded data removed]",
      "text/plain": [
       "<Figure size 864x504 with 1 Axes>"
      ]
     },
     "metadata": {
      "needs_background": "light"
     },
     "output_type": "display_data"
    }
   ],
   "source": [
    "plt.figure(figsize=[12,7])\n",
    "sns.barplot(data=call_precinct_s, x='Precinct', y='Sector')"
   ]
  },
  {
   "cell_type": "code",
   "execution_count": 12,
   "metadata": {},
   "outputs": [
    {
     "data": {
      "text/plain": [
       "<matplotlib.axes._subplots.AxesSubplot at 0x19f444e4b70>"
      ]
     },
     "execution_count": 12,
     "metadata": {},
     "output_type": "execute_result"
    },
    {
     "data": {
      "image/png": "[encoded data removed]",
      "text/plain": [
       "<Figure size 864x504 with 1 Axes>"
      ]
     },
     "metadata": {
      "needs_background": "light"
     },
     "output_type": "display_data"
    }
   ],
   "source": [
    "plt.figure(figsize=[12,7])\n",
    "sns.barplot(data=call_qtd, x='Precinct', y='Numero de Chamadas')"
   ]
  },
  {
   "cell_type": "markdown",
   "metadata": {},
   "source": [
    "#### R: O Precinct com o maior número de Sectors é NORTH, porém o que possui mais ligações e WEST.]\n"
   ]
  },
  {
   "cell_type": "markdown",
   "metadata": {},
   "source": [
    "-  Apresente o ranking dos setores, no máximo 10, considerando o percentual de chamadas fraudulentas \"FALSE COMPLAINT/UNFOUNDED\"."
   ]
  },
  {
   "cell_type": "code",
   "execution_count": 13,
   "metadata": {},
   "outputs": [
    {
     "data": {
      "text/plain": [
       "<matplotlib.axes._subplots.AxesSubplot at 0x19f42cbd0f0>"
      ]
     },
     "execution_count": 13,
     "metadata": {},
     "output_type": "execute_result"
    },
    {
     "data": {
      "image/png": "[encoded data removed]",
      "text/plain": [
       "<Figure size 864x504 with 1 Axes>"
      ]
     },
     "metadata": {
      "needs_background": "light"
     },
     "output_type": "display_data"
    }
   ],
   "source": [
    "call['False Call'] = call['Event Clearance Description'] == 'FALSE COMPLAINT/UNFOUNDED'\n",
    "total_call = call['Event Clearance Description'].count()\n",
    "call_false = call.groupby('Sector').sum()\n",
    "call_false['Percent False'] = (call_false['False Call']/total_call)*100\n",
    "call_false.sort_values(by=['False Call'], ascending=False, inplace=True)\n",
    "call_false = call_false.reset_index().head(10)\n",
    "\n",
    "plt.figure(figsize=[12,7])\n",
    "sns.barplot(x='Sector', y='Percent False', data=call_false) "
   ]
  },
  {
   "cell_type": "markdown",
   "metadata": {},
   "source": [
    "* Com relação à distribuição das chamadas fraudulentas no tempo, é possível observar momentos dentro dos dias ou dias\n",
    "da semana onde chamadas deste tipo tem maiores chances de ocorrerem?"
   ]
  },
  {
   "cell_type": "code",
   "execution_count": 14,
   "metadata": {},
   "outputs": [
    {
     "data": {
      "text/html": [
       "<div>\n",
       "<style scoped>\n",
       "    .dataframe tbody tr th:only-of-type {\n",
       "        vertical-align: middle;\n",
       "    }\n",
       "\n",
       "    .dataframe tbody tr th {\n",
       "        vertical-align: top;\n",
       "    }\n",
       "\n",
       "    .dataframe thead th {\n",
       "        text-align: right;\n",
       "    }\n",
       "</style>\n",
       "<table border=\"1\" class=\"dataframe\">\n",
       "  <thead>\n",
       "    <tr style=\"text-align: right;\">\n",
       "      <th></th>\n",
       "      <th>Month</th>\n",
       "      <th>Day</th>\n",
       "      <th>False Call</th>\n",
       "    </tr>\n",
       "  </thead>\n",
       "  <tbody>\n",
       "    <tr>\n",
       "      <th>185</th>\n",
       "      <td>7</td>\n",
       "      <td>4</td>\n",
       "      <td>374.0</td>\n",
       "    </tr>\n",
       "    <tr>\n",
       "      <th>184</th>\n",
       "      <td>7</td>\n",
       "      <td>3</td>\n",
       "      <td>344.0</td>\n",
       "    </tr>\n",
       "    <tr>\n",
       "      <th>187</th>\n",
       "      <td>7</td>\n",
       "      <td>6</td>\n",
       "      <td>324.0</td>\n",
       "    </tr>\n",
       "    <tr>\n",
       "      <th>330</th>\n",
       "      <td>11</td>\n",
       "      <td>26</td>\n",
       "      <td>316.0</td>\n",
       "    </tr>\n",
       "    <tr>\n",
       "      <th>208</th>\n",
       "      <td>7</td>\n",
       "      <td>27</td>\n",
       "      <td>310.0</td>\n",
       "    </tr>\n",
       "  </tbody>\n",
       "</table>\n",
       "</div>"
      ],
      "text/plain": [
       "     Month  Day  False Call\n",
       "185      7    4       374.0\n",
       "184      7    3       344.0\n",
       "187      7    6       324.0\n",
       "330     11   26       316.0\n",
       "208      7   27       310.0"
      ]
     },
     "execution_count": 14,
     "metadata": {},
     "output_type": "execute_result"
    }
   ],
   "source": [
    "false_call_day = call.groupby(['Month','Day']).sum().reset_index()[['Month','Day','False Call']].sort_values(by=['False Call'], ascending=False)\n",
    "false_call_day.head()\n"
   ]
  },
  {
   "cell_type": "markdown",
   "metadata": {},
   "source": [
    "#### R: O Dia do ano que possui mais ligações falsa são os dias próximos as feriado de 4 de Julho, dia da Independência"
   ]
  },
  {
   "cell_type": "code",
   "execution_count": 15,
   "metadata": {},
   "outputs": [
    {
     "data": {
      "text/html": [
       "<div>\n",
       "<style scoped>\n",
       "    .dataframe tbody tr th:only-of-type {\n",
       "        vertical-align: middle;\n",
       "    }\n",
       "\n",
       "    .dataframe tbody tr th {\n",
       "        vertical-align: top;\n",
       "    }\n",
       "\n",
       "    .dataframe thead th {\n",
       "        text-align: right;\n",
       "    }\n",
       "</style>\n",
       "<table border=\"1\" class=\"dataframe\">\n",
       "  <thead>\n",
       "    <tr style=\"text-align: right;\">\n",
       "      <th></th>\n",
       "      <th>Weekday</th>\n",
       "      <th>Day Period</th>\n",
       "      <th>False Call</th>\n",
       "    </tr>\n",
       "  </thead>\n",
       "  <tbody>\n",
       "    <tr>\n",
       "      <th>10</th>\n",
       "      <td>Saturday</td>\n",
       "      <td>Morning</td>\n",
       "      <td>3750.0</td>\n",
       "    </tr>\n",
       "    <tr>\n",
       "      <th>9</th>\n",
       "      <td>Saturday</td>\n",
       "      <td>Afternoon</td>\n",
       "      <td>3680.0</td>\n",
       "    </tr>\n",
       "    <tr>\n",
       "      <th>2</th>\n",
       "      <td>Friday</td>\n",
       "      <td>Morning</td>\n",
       "      <td>3668.0</td>\n",
       "    </tr>\n",
       "    <tr>\n",
       "      <th>18</th>\n",
       "      <td>Thursday</td>\n",
       "      <td>Morning</td>\n",
       "      <td>3664.0</td>\n",
       "    </tr>\n",
       "    <tr>\n",
       "      <th>26</th>\n",
       "      <td>Wednesday</td>\n",
       "      <td>Morning</td>\n",
       "      <td>3601.0</td>\n",
       "    </tr>\n",
       "  </tbody>\n",
       "</table>\n",
       "</div>"
      ],
      "text/plain": [
       "      Weekday Day Period  False Call\n",
       "10   Saturday    Morning      3750.0\n",
       "9    Saturday  Afternoon      3680.0\n",
       "2      Friday    Morning      3668.0\n",
       "18   Thursday    Morning      3664.0\n",
       "26  Wednesday    Morning      3601.0"
      ]
     },
     "execution_count": 15,
     "metadata": {},
     "output_type": "execute_result"
    }
   ],
   "source": [
    "false_call_per_week = call.groupby(['Weekday','Day Period']).sum().reset_index()[['Weekday','Day Period','False Call']].sort_values(by=['False Call'], ascending=False)\n",
    "\n",
    "false_call_per_week.head()"
   ]
  },
  {
   "cell_type": "markdown",
   "metadata": {},
   "source": [
    "#### R: Numa análise agrupoando por período do dia e dias da semana, as chamadas fraudulentas costumam ocorrer com mais frequências aos sábados entre 6:00 e 18:00"
   ]
  },
  {
   "cell_type": "markdown",
   "metadata": {},
   "source": [
    "* Qual o dia em que ocorrem mais chamadas? E qual o tipo de chamada mais recorrente nesse dia? Como esse tipo de chamada evoluiu ao longo dos últimos 5 anos?"
   ]
  },
  {
   "cell_type": "code",
   "execution_count": 16,
   "metadata": {},
   "outputs": [
    {
     "name": "stdout",
     "output_type": "stream",
     "text": [
      "Esse é o dia com a maior quantidade de chamadas:\n"
     ]
    },
    {
     "data": {
      "text/html": [
       "<div>\n",
       "<style scoped>\n",
       "    .dataframe tbody tr th:only-of-type {\n",
       "        vertical-align: middle;\n",
       "    }\n",
       "\n",
       "    .dataframe tbody tr th {\n",
       "        vertical-align: top;\n",
       "    }\n",
       "\n",
       "    .dataframe thead th {\n",
       "        text-align: right;\n",
       "    }\n",
       "</style>\n",
       "<table border=\"1\" class=\"dataframe\">\n",
       "  <thead>\n",
       "    <tr style=\"text-align: right;\">\n",
       "      <th></th>\n",
       "      <th>Day</th>\n",
       "      <th>Month</th>\n",
       "      <th>Year</th>\n",
       "      <th>Total</th>\n",
       "    </tr>\n",
       "  </thead>\n",
       "  <tbody>\n",
       "    <tr>\n",
       "      <th>3482</th>\n",
       "      <td>14</td>\n",
       "      <td>12</td>\n",
       "      <td>2018</td>\n",
       "      <td>1494</td>\n",
       "    </tr>\n",
       "  </tbody>\n",
       "</table>\n",
       "</div>"
      ],
      "text/plain": [
       "      Day  Month  Year  Total\n",
       "3482   14     12  2018   1494"
      ]
     },
     "execution_count": 16,
     "metadata": {},
     "output_type": "execute_result"
    }
   ],
   "source": [
    "call_type_day = call.groupby(['Year','Month','Day']).count().reset_index().sort_values(by=['CAD Event Number'], ascending=False)\n",
    "call_type_day.rename(index=str, columns={'CAD Event Number': 'Total'}, inplace=True)\n",
    "print('Esse é o dia com a maior quantidade de chamadas:')\n",
    "call_type_day.head(1)[['Day','Month','Year','Total']]\n"
   ]
  },
  {
   "cell_type": "code",
   "execution_count": 17,
   "metadata": {},
   "outputs": [
    {
     "name": "stdout",
     "output_type": "stream",
     "text": [
      "Essa é a chamada com a maior quantidade no dia:\n"
     ]
    },
    {
     "data": {
      "text/html": [
       "<div>\n",
       "<style scoped>\n",
       "    .dataframe tbody tr th:only-of-type {\n",
       "        vertical-align: middle;\n",
       "    }\n",
       "\n",
       "    .dataframe tbody tr th {\n",
       "        vertical-align: top;\n",
       "    }\n",
       "\n",
       "    .dataframe thead th {\n",
       "        text-align: right;\n",
       "    }\n",
       "</style>\n",
       "<table border=\"1\" class=\"dataframe\">\n",
       "  <thead>\n",
       "    <tr style=\"text-align: right;\">\n",
       "      <th></th>\n",
       "      <th>Initial Call Type</th>\n",
       "      <th>Total</th>\n",
       "    </tr>\n",
       "  </thead>\n",
       "  <tbody>\n",
       "    <tr>\n",
       "      <th>84</th>\n",
       "      <td>PREMISE CHECK, OFFICER INITIATED ONVIEW ONLY</td>\n",
       "      <td>119</td>\n",
       "    </tr>\n",
       "  </tbody>\n",
       "</table>\n",
       "</div>"
      ],
      "text/plain": [
       "                               Initial Call Type  Total\n",
       "84  PREMISE CHECK, OFFICER INITIATED ONVIEW ONLY    119"
      ]
     },
     "execution_count": 17,
     "metadata": {},
     "output_type": "execute_result"
    }
   ],
   "source": [
    "call_type = call[(call['Year'] == 2018) & (call['Month'] == 12) & (call['Day'] == 14)].reset_index()\n",
    "call_type = call_type.groupby('Initial Call Type').count().reset_index().sort_values(by=['index'], ascending=False)\n",
    "call_type.rename(index=str, columns={'CAD Event Number': 'Total'}, inplace=True)\n",
    "print('Essa é a chamada com a maior quantidade no dia:')\n",
    "call_type[['Initial Call Type', 'Total']].head(1)"
   ]
  },
  {
   "cell_type": "code",
   "execution_count": 18,
   "metadata": {},
   "outputs": [
    {
     "name": "stdout",
     "output_type": "stream",
     "text": [
      "Ao longo dos últimos 5 anos (excluíndo 2019), foi assim que essa chamada evoluiu:\n"
     ]
    },
    {
     "data": {
      "text/plain": [
       "<matplotlib.axes._subplots.AxesSubplot at 0x19f401b3b38>"
      ]
     },
     "execution_count": 18,
     "metadata": {},
     "output_type": "execute_result"
    },
    {
     "data": {
      "image/png": "[encoded data removed]",
      "text/plain": [
       "<Figure size 864x504 with 1 Axes>"
      ]
     },
     "metadata": {
      "needs_background": "light"
     },
     "output_type": "display_data"
    }
   ],
   "source": [
    "call_5 = call[(call['Year'] >= 2013) & (call['Year'] < 2019)  & (call['Initial Call Type'] == 'PREMISE CHECK, OFFICER INITIATED ONVIEW ONLY')]\n",
    "call_5 = call_5.groupby('Year').count().reset_index()[['Year', 'Initial Call Type']]\n",
    "call_5.rename(index=str, columns={'Initial Call Type': 'Total de Chamadas'}, inplace=True)\n",
    "\n",
    "print('Ao longo dos últimos 5 anos (excluíndo 2019), foi assim que essa chamada evoluiu:')\n",
    "plt.figure(figsize=[12,7])\n",
    "sns.barplot(x='Year', y='Total de Chamadas', data=call_5)"
   ]
  },
  {
   "cell_type": "markdown",
   "metadata": {},
   "source": [
    "- Quais chamadas são *outliers* nos últimos 5 anos? Considere como *outlier* as chamadas fora do intervalo de 1,5 da distância inter quartil (Q3-Q1). O que você pode concluir desta informação?"
   ]
  },
  {
   "cell_type": "code",
   "execution_count": 19,
   "metadata": {},
   "outputs": [],
   "source": [
    "def outline(call, mean, std):\n",
    "    upper = mean + std\n",
    "    return call > upper"
   ]
  },
  {
   "cell_type": "code",
   "execution_count": 20,
   "metadata": {},
   "outputs": [
    {
     "data": {
      "text/html": [
       "<div>\n",
       "<style scoped>\n",
       "    .dataframe tbody tr th:only-of-type {\n",
       "        vertical-align: middle;\n",
       "    }\n",
       "\n",
       "    .dataframe tbody tr th {\n",
       "        vertical-align: top;\n",
       "    }\n",
       "\n",
       "    .dataframe thead th {\n",
       "        text-align: right;\n",
       "    }\n",
       "</style>\n",
       "<table border=\"1\" class=\"dataframe\">\n",
       "  <thead>\n",
       "    <tr style=\"text-align: right;\">\n",
       "      <th></th>\n",
       "      <th>Initial Call Type</th>\n",
       "      <th>Total</th>\n",
       "    </tr>\n",
       "  </thead>\n",
       "  <tbody>\n",
       "    <tr>\n",
       "      <th>0</th>\n",
       "      <td>PREMISE CHECK, OFFICER INITIATED ONVIEW ONLY</td>\n",
       "      <td>356157</td>\n",
       "    </tr>\n",
       "    <tr>\n",
       "      <th>1</th>\n",
       "      <td>SUSPICIOUS PERSON, VEHICLE OR INCIDENT</td>\n",
       "      <td>233365</td>\n",
       "    </tr>\n",
       "    <tr>\n",
       "      <th>2</th>\n",
       "      <td>TRAFFIC STOP - OFFICER INITIATED ONVIEW</td>\n",
       "      <td>227665</td>\n",
       "    </tr>\n",
       "    <tr>\n",
       "      <th>3</th>\n",
       "      <td>PARKING VIOLATION (EXCEPT ABANDONED CAR)</td>\n",
       "      <td>190733</td>\n",
       "    </tr>\n",
       "    <tr>\n",
       "      <th>4</th>\n",
       "      <td>DISTURBANCE, MISCELLANEOUS/OTHER</td>\n",
       "      <td>186375</td>\n",
       "    </tr>\n",
       "    <tr>\n",
       "      <th>5</th>\n",
       "      <td>SUSPICIOUS STOP - OFFICER INITIATED ONVIEW</td>\n",
       "      <td>156749</td>\n",
       "    </tr>\n",
       "    <tr>\n",
       "      <th>6</th>\n",
       "      <td>THEFT (DOES NOT INCLUDE SHOPLIFT OR SVCS)</td>\n",
       "      <td>103496</td>\n",
       "    </tr>\n",
       "    <tr>\n",
       "      <th>7</th>\n",
       "      <td>DIRECTED PATROL ACTIVITY</td>\n",
       "      <td>98226</td>\n",
       "    </tr>\n",
       "    <tr>\n",
       "      <th>8</th>\n",
       "      <td>FOLLOW UP</td>\n",
       "      <td>77050</td>\n",
       "    </tr>\n",
       "    <tr>\n",
       "      <th>9</th>\n",
       "      <td>OFF DUTY EMPLOYMENT</td>\n",
       "      <td>75111</td>\n",
       "    </tr>\n",
       "    <tr>\n",
       "      <th>10</th>\n",
       "      <td>NUISANCE - MISCHIEF</td>\n",
       "      <td>68333</td>\n",
       "    </tr>\n",
       "    <tr>\n",
       "      <th>11</th>\n",
       "      <td>TRESPASS</td>\n",
       "      <td>64088</td>\n",
       "    </tr>\n",
       "    <tr>\n",
       "      <th>12</th>\n",
       "      <td>ALARM - RESIDENTIAL - BURGLARY, SILENT/AUDIBLE</td>\n",
       "      <td>56175</td>\n",
       "    </tr>\n",
       "    <tr>\n",
       "      <th>13</th>\n",
       "      <td>BURG - RES (INCL UNOCC STRUCTURES ON PROP)</td>\n",
       "      <td>55480</td>\n",
       "    </tr>\n",
       "    <tr>\n",
       "      <th>14</th>\n",
       "      <td>NARCOTICS - VIOLATIONS (LOITER, USE, SELL, NARS)</td>\n",
       "      <td>55211</td>\n",
       "    </tr>\n",
       "    <tr>\n",
       "      <th>15</th>\n",
       "      <td>SHOPLIFT - THEFT</td>\n",
       "      <td>52144</td>\n",
       "    </tr>\n",
       "    <tr>\n",
       "      <th>16</th>\n",
       "      <td>ALARM - COMM, SILENT/AUD BURG (INCL BANKS)</td>\n",
       "      <td>50091</td>\n",
       "    </tr>\n",
       "  </tbody>\n",
       "</table>\n",
       "</div>"
      ],
      "text/plain": [
       "                                   Initial Call Type   Total\n",
       "0       PREMISE CHECK, OFFICER INITIATED ONVIEW ONLY  356157\n",
       "1             SUSPICIOUS PERSON, VEHICLE OR INCIDENT  233365\n",
       "2            TRAFFIC STOP - OFFICER INITIATED ONVIEW  227665\n",
       "3           PARKING VIOLATION (EXCEPT ABANDONED CAR)  190733\n",
       "4                   DISTURBANCE, MISCELLANEOUS/OTHER  186375\n",
       "5         SUSPICIOUS STOP - OFFICER INITIATED ONVIEW  156749\n",
       "6          THEFT (DOES NOT INCLUDE SHOPLIFT OR SVCS)  103496\n",
       "7                           DIRECTED PATROL ACTIVITY   98226\n",
       "8                                          FOLLOW UP   77050\n",
       "9                                OFF DUTY EMPLOYMENT   75111\n",
       "10                               NUISANCE - MISCHIEF   68333\n",
       "11                                          TRESPASS   64088\n",
       "12    ALARM - RESIDENTIAL - BURGLARY, SILENT/AUDIBLE   56175\n",
       "13        BURG - RES (INCL UNOCC STRUCTURES ON PROP)   55480\n",
       "14  NARCOTICS - VIOLATIONS (LOITER, USE, SELL, NARS)   55211\n",
       "15                                  SHOPLIFT - THEFT   52144\n",
       "16        ALARM - COMM, SILENT/AUD BURG (INCL BANKS)   50091"
      ]
     },
     "execution_count": 20,
     "metadata": {},
     "output_type": "execute_result"
    }
   ],
   "source": [
    "callOutline = call[(call['Year'] >= 2013) & (call['Year']) < 2018 ]\n",
    "callOutline = callOutline.groupby('Initial Call Type').count().reset_index()\n",
    "callOutline = callOutline[['Initial Call Type','CAD Event Number']]\n",
    "callOutline.rename(index=str, columns={'CAD Event Number': 'Total'}, inplace=True)\n",
    "\n",
    "std = callOutline['Total'].std()\n",
    "mean = callOutline['Total'].mean()\n",
    "\n",
    "callOutlineStd = callOutline[callOutline['Total'].apply(outline, args = (mean, std))]\n",
    "\n",
    "callOutlineStd.sort_values('Total', ascending=False).reset_index()[['Initial Call Type','Total']]"
   ]
  },
  {
   "cell_type": "code",
   "execution_count": 21,
   "metadata": {},
   "outputs": [
    {
     "name": "stdout",
     "output_type": "stream",
     "text": [
      "Nesses 5 anos foram feitos 309 tipos de ligações diferentes totalizando 3820217 ligações \n",
      "Considerando os outlines, nesses 5 anos foram feitos 17 tipos de ligações, somando 2106449 ligações. \n",
      "Constatamos que a quantidade de ligações outlines nesse perioso representa 55.14% das ligações feitas.\n"
     ]
    }
   ],
   "source": [
    "totalTudo = callOutline['Total'].count()\n",
    "somaTudo = callOutline['Total'].sum()\n",
    "totalOutline = callOutlineStd['Total'].count()\n",
    "somaOutline = callOutlineStd['Total'].sum()\n",
    "\n",
    "print('Nesses 5 anos foram feitos %s tipos de ligações diferentes totalizando %s ligações ' % (totalTudo, somaTudo))\n",
    "print('Considerando os outlines, nesses 5 anos foram feitos %s tipos de ligações, somando %s ligações. ' % (totalOutline, somaOutline))\n",
    "print('Constatamos que a quantidade de ligações outlines nesse perioso representa %0.2f%% das ligações feitas.' % (somaOutline/somaTudo*100))"
   ]
  },
  {
   "cell_type": "markdown",
   "metadata": {},
   "source": [
    "* Quais as chamadas tem recebido mais atenção da polícia nos últimos 5 anos, considere a prioridade?"
   ]
  },
  {
   "cell_type": "code",
   "execution_count": 22,
   "metadata": {},
   "outputs": [],
   "source": [
    "def time_diff(inicio, fim):\n",
    "    datetime_inicio = datetime.strptime(inicio, '%m/%d/%Y %I:%M:%S %p')\n",
    "    datetime_fim = datetime.strptime(fim, '%b %d %Y %I:%M:%S:%f%p')\n",
    "    \n",
    "    if datetime_fim >= datetime_inicio:\n",
    "        diferenca = datetime_fim - datetime_inicio\n",
    "    else:\n",
    "        diferenca = -1\n",
    "    return diferenca"
   ]
  },
  {
   "cell_type": "code",
   "execution_count": 23,
   "metadata": {},
   "outputs": [],
   "source": [
    "call['Call Difference'] = call.apply(lambda data: time_diff(data['Original Time Queued'], data['Arrived Time']), axis=1)"
   ]
  },
  {
   "cell_type": "code",
   "execution_count": 24,
   "metadata": {},
   "outputs": [],
   "source": [
    "call_diff = call[ (call['Year'] >= 2013)]\n",
    "call_diff = call_diff[call_diff['Call Difference'] != -1 ]"
   ]
  },
  {
   "cell_type": "code",
   "execution_count": 25,
   "metadata": {},
   "outputs": [
    {
     "name": "stdout",
     "output_type": "stream",
     "text": [
      "Essas são as top 10 chamadas que receberam maior atenção nos últimos 10 anos.\n",
      "O critério de atenção usado foi o tempo levado entre a chamada e a chegada dos policiais\n"
     ]
    },
    {
     "data": {
      "text/plain": [
       "0              --FRAUD - FRAUD, INCLUDING BUNCO\n",
       "1                   -DOWN TIME - OUT OF SERVICE\n",
       "2                                 -OUT AT RANGE\n",
       "3    --ALARM-COMM (INC BANK, ATM, SCHOOLS, BSN)\n",
       "4                  --TRAFFIC - BLOCKING TRAFFIC\n",
       "5                      -ELEMENTARY SCHOOL VISIT\n",
       "6                   -OUT OF CAR/NO REASON GIVEN\n",
       "7                        -ASSIGNED DUTY - COURT\n",
       "8                  -GAS/MAINTENANCE/WASH/GARAGE\n",
       "9                    ALARM - NO RESPONSE STATUS\n",
       "Name: Initial Call Type, dtype: object"
      ]
     },
     "execution_count": 25,
     "metadata": {},
     "output_type": "execute_result"
    }
   ],
   "source": [
    "call_diff_gb = call_diff.groupby(['Priority', 'Initial Call Type']).max().reset_index()\n",
    "call_diff_gb.sort_values(by=['Priority','Call Difference'], ascending=[False,True], inplace=True)\n",
    "print('Essas são as top 10 chamadas que receberam maior atenção nos últimos 10 anos.')\n",
    "print('O critério de atenção usado foi o tempo levado entre a chamada e a chegada dos policiais')\n",
    "call_diff_gb.head(10).reset_index()['Initial Call Type']"
   ]
  },
  {
   "cell_type": "markdown",
   "metadata": {},
   "source": [
    "* Apresente o ranking das 10 chamadas mais relevantes no ano de 2018."
   ]
  },
  {
   "cell_type": "code",
   "execution_count": 26,
   "metadata": {},
   "outputs": [
    {
     "name": "stdout",
     "output_type": "stream",
     "text": [
      "Essas são as top 10 chamadas mais relevantes de 2018.\n",
      "O critério de relevancia foia a quantidade de chamadas feitas no ano.\n"
     ]
    },
    {
     "data": {
      "text/plain": [
       "<matplotlib.axes._subplots.AxesSubplot at 0x19f3f5afd30>"
      ]
     },
     "execution_count": 26,
     "metadata": {},
     "output_type": "execute_result"
    },
    {
     "data": {
      "image/png": "[encoded data removed]",
      "text/plain": [
       "<Figure size 864x504 with 1 Axes>"
      ]
     },
     "metadata": {
      "needs_background": "light"
     },
     "output_type": "display_data"
    }
   ],
   "source": [
    "call_2018 = call[call['Year'] == 2018]\n",
    "call_2018gb = call_2018.groupby('Initial Call Type').count().reset_index()\n",
    "call_2018gb10 = call_2018gb.sort_values('CAD Event Number', ascending=False).head(10).reset_index()\n",
    "call_2018gb10.rename(index=str, columns={'CAD Event Number': 'Total'}, inplace=True)\n",
    "\n",
    "\n",
    "print('Essas são as top 10 chamadas mais relevantes de 2018.')\n",
    "print('O critério de relevancia foia a quantidade de chamadas feitas no ano.')\n",
    "\n",
    "plt.figure(figsize=[12,7])\n",
    "sns.barplot(x='Total' , y='Initial Call Type',data=call_2018gb10 )"
   ]
  },
  {
   "cell_type": "markdown",
   "metadata": {},
   "source": [
    "- Quais as chamadas que mais demoram para serem atendidas? Há alguma relação com a prioridade?"
   ]
  },
  {
   "cell_type": "code",
   "execution_count": 27,
   "metadata": {},
   "outputs": [
    {
     "data": {
      "text/html": [
       "<div>\n",
       "<style scoped>\n",
       "    .dataframe tbody tr th:only-of-type {\n",
       "        vertical-align: middle;\n",
       "    }\n",
       "\n",
       "    .dataframe tbody tr th {\n",
       "        vertical-align: top;\n",
       "    }\n",
       "\n",
       "    .dataframe thead th {\n",
       "        text-align: right;\n",
       "    }\n",
       "</style>\n",
       "<table border=\"1\" class=\"dataframe\">\n",
       "  <thead>\n",
       "    <tr style=\"text-align: right;\">\n",
       "      <th></th>\n",
       "      <th>Initial Call Type</th>\n",
       "      <th>Priority</th>\n",
       "      <th>Call Difference</th>\n",
       "    </tr>\n",
       "  </thead>\n",
       "  <tbody>\n",
       "    <tr>\n",
       "      <th>1586055</th>\n",
       "      <td>ACC - REPORT, NON INJ/NON BLKG OR AFTER FACT INJ</td>\n",
       "      <td>3</td>\n",
       "      <td>43 days, 21:19:10</td>\n",
       "    </tr>\n",
       "    <tr>\n",
       "      <th>659570</th>\n",
       "      <td>PARKING VIOLATION (EXCEPT ABANDONED CAR)</td>\n",
       "      <td>3</td>\n",
       "      <td>39 days, 23:16:12</td>\n",
       "    </tr>\n",
       "    <tr>\n",
       "      <th>2585101</th>\n",
       "      <td>POWER OUT - POLES AND TRANSFORMERS</td>\n",
       "      <td>3</td>\n",
       "      <td>23 days, 0:58:25</td>\n",
       "    </tr>\n",
       "    <tr>\n",
       "      <th>1270893</th>\n",
       "      <td>AUTO THEFT - VEH THEFT OR THEFT &amp; RECOVERY</td>\n",
       "      <td>3</td>\n",
       "      <td>14 days, 16:55:52</td>\n",
       "    </tr>\n",
       "    <tr>\n",
       "      <th>421169</th>\n",
       "      <td>PROPERTY - LOST OR MISSING</td>\n",
       "      <td>4</td>\n",
       "      <td>12 days, 3:54:55</td>\n",
       "    </tr>\n",
       "    <tr>\n",
       "      <th>1595130</th>\n",
       "      <td>DISTURBANCE, MISCELLANEOUS/OTHER</td>\n",
       "      <td>2</td>\n",
       "      <td>10 days, 18:58:04</td>\n",
       "    </tr>\n",
       "    <tr>\n",
       "      <th>139711</th>\n",
       "      <td>DISTURBANCE, MISCELLANEOUS/OTHER</td>\n",
       "      <td>3</td>\n",
       "      <td>8 days, 8:01:45</td>\n",
       "    </tr>\n",
       "    <tr>\n",
       "      <th>2199052</th>\n",
       "      <td>SUSPICIOUS PERSON, VEHICLE OR INCIDENT</td>\n",
       "      <td>3</td>\n",
       "      <td>7 days, 14:27:01</td>\n",
       "    </tr>\n",
       "    <tr>\n",
       "      <th>3400059</th>\n",
       "      <td>INFORMATIONAL BROADCASTS</td>\n",
       "      <td>4</td>\n",
       "      <td>7 days, 7:35:07</td>\n",
       "    </tr>\n",
       "    <tr>\n",
       "      <th>1653773</th>\n",
       "      <td>RAPE</td>\n",
       "      <td>3</td>\n",
       "      <td>5 days, 22:19:52</td>\n",
       "    </tr>\n",
       "  </tbody>\n",
       "</table>\n",
       "</div>"
      ],
      "text/plain": [
       "                                        Initial Call Type  Priority  \\\n",
       "1586055  ACC - REPORT, NON INJ/NON BLKG OR AFTER FACT INJ         3   \n",
       "659570           PARKING VIOLATION (EXCEPT ABANDONED CAR)         3   \n",
       "2585101                POWER OUT - POLES AND TRANSFORMERS         3   \n",
       "1270893        AUTO THEFT - VEH THEFT OR THEFT & RECOVERY         3   \n",
       "421169                         PROPERTY - LOST OR MISSING         4   \n",
       "1595130                  DISTURBANCE, MISCELLANEOUS/OTHER         2   \n",
       "139711                   DISTURBANCE, MISCELLANEOUS/OTHER         3   \n",
       "2199052            SUSPICIOUS PERSON, VEHICLE OR INCIDENT         3   \n",
       "3400059                          INFORMATIONAL BROADCASTS         4   \n",
       "1653773                                              RAPE         3   \n",
       "\n",
       "           Call Difference  \n",
       "1586055  43 days, 21:19:10  \n",
       "659570   39 days, 23:16:12  \n",
       "2585101   23 days, 0:58:25  \n",
       "1270893  14 days, 16:55:52  \n",
       "421169    12 days, 3:54:55  \n",
       "1595130  10 days, 18:58:04  \n",
       "139711     8 days, 8:01:45  \n",
       "2199052   7 days, 14:27:01  \n",
       "3400059    7 days, 7:35:07  \n",
       "1653773   5 days, 22:19:52  "
      ]
     },
     "execution_count": 27,
     "metadata": {},
     "output_type": "execute_result"
    }
   ],
   "source": [
    "callDemora = call[call['Call Difference'] != -1 ]\n",
    "callDemora = callDemora.sort_values('Call Difference', ascending=False)\n",
    "callDemora[['Initial Call Type','Priority','Call Difference']].head(10)\n"
   ]
  },
  {
   "cell_type": "markdown",
   "metadata": {},
   "source": [
    "#### R: Podemos observar que as chamadas com maior tempo de atendimento são as que possuem prioridade média-baixa"
   ]
  },
  {
   "cell_type": "markdown",
   "metadata": {},
   "source": [
    "- Qual é a chamada com mais enganos, ou seja, aquelas que mais mudam de classificação entre o início da chamada e o final da chamada?"
   ]
  },
  {
   "cell_type": "code",
   "execution_count": 28,
   "metadata": {},
   "outputs": [
    {
     "name": "stdout",
     "output_type": "stream",
     "text": [
      "Essas são os 5 tipos de chamadas que mudam o sua classificação inicial: \n"
     ]
    },
    {
     "data": {
      "text/plain": [
       "<matplotlib.axes._subplots.AxesSubplot at 0x19f3ead56d8>"
      ]
     },
     "execution_count": 28,
     "metadata": {},
     "output_type": "execute_result"
    },
    {
     "data": {
      "image/png": "[encoded data removed]",
      "text/plain": [
       "<Figure size 864x504 with 1 Axes>"
      ]
     },
     "metadata": {
      "needs_background": "light"
     },
     "output_type": "display_data"
    }
   ],
   "source": [
    "call['Mistake'] = (call['Initial Call Type'] != call['Final Call Type'])\n",
    "\n",
    "call_mistake = call[['Initial Call Type','Final Call Type','Mistake']]\n",
    "\n",
    "call_mistake = call_mistake.groupby(['Initial Call Type']).sum().reset_index()\n",
    "\n",
    "call_mistake.sort_values(by=['Mistake'], ascending=False, inplace=True)\n",
    "\n",
    "call_mistake_5 = call_mistake.head(5)\n",
    "print('Essas são os 5 tipos de chamadas que mudam o sua classificação inicial: ')\n",
    "plt.figure(figsize=[12,7])\n",
    "sns.barplot(y='Initial Call Type', x='Mistake', data=call_mistake_5)"
   ]
  },
  {
   "cell_type": "markdown",
   "metadata": {},
   "source": [
    "* O número médio de chamadas ao longo dos anos por delegacia tem aumentado ou diminuído?"
   ]
  },
  {
   "cell_type": "code",
   "execution_count": 29,
   "metadata": {},
   "outputs": [
    {
     "data": {
      "text/plain": [
       "<matplotlib.axes._subplots.AxesSubplot at 0x19f3e325550>"
      ]
     },
     "execution_count": 29,
     "metadata": {},
     "output_type": "execute_result"
    },
    {
     "data": {
      "image/png": "[encoded data removed]",
      "text/plain": [
       "<Figure size 864x504 with 1 Axes>"
      ]
     },
     "metadata": {
      "needs_background": "light"
     },
     "output_type": "display_data"
    }
   ],
   "source": [
    "call['Media'] = 1\n",
    "callYear = call[call['Year'] < 2019].groupby(['Year','Precinct']).sum().reset_index()\n",
    "callMeanYear = callYear.groupby('Year').mean().reset_index()\n",
    "plt.figure(figsize=[12,7])\n",
    "sns.barplot(data=callMeanYear, x='Year', y='Media')"
   ]
  },
  {
   "cell_type": "markdown",
   "metadata": {},
   "source": [
    "#### R: Após um pico na média de chamadas por delegacia em 2010 ocorreu uma queda com um aumento gradativo até 2013. Uma nova queda ocorre em 2014, seguindo de um novo crescimento gradual. "
   ]
  },
  {
   "cell_type": "markdown",
   "metadata": {},
   "source": [
    "- Carregue o data set de crimes e elimine todos os elementos que possuam valores nulos."
   ]
  },
  {
   "cell_type": "code",
   "execution_count": 30,
   "metadata": {},
   "outputs": [],
   "source": [
    "df_crime = pd.read_csv(\"Crime_Data.csv\")"
   ]
  },
  {
   "cell_type": "code",
   "execution_count": 31,
   "metadata": {},
   "outputs": [
    {
     "name": "stdout",
     "output_type": "stream",
     "text": [
      "<class 'pandas.core.frame.DataFrame'>\n",
      "RangeIndex: 514285 entries, 0 to 514284\n",
      "Data columns (total 11 columns):\n",
      "Report Number                  514285 non-null int64\n",
      "Occurred Date                  514283 non-null object\n",
      "Occurred Time                  514283 non-null float64\n",
      "Reported Date                  514285 non-null object\n",
      "Reported Time                  514283 non-null float64\n",
      "Crime Subcategory              514023 non-null object\n",
      "Primary Offense Description    514285 non-null object\n",
      "Precinct                       514279 non-null object\n",
      "Sector                         511001 non-null object\n",
      "Beat                           511049 non-null object\n",
      "Neighborhood                   514285 non-null object\n",
      "dtypes: float64(2), int64(1), object(8)\n",
      "memory usage: 43.2+ MB\n"
     ]
    }
   ],
   "source": [
    "df_crime.info()"
   ]
  },
  {
   "cell_type": "code",
   "execution_count": 32,
   "metadata": {},
   "outputs": [
    {
     "data": {
      "text/html": [
       "<div>\n",
       "<style scoped>\n",
       "    .dataframe tbody tr th:only-of-type {\n",
       "        vertical-align: middle;\n",
       "    }\n",
       "\n",
       "    .dataframe tbody tr th {\n",
       "        vertical-align: top;\n",
       "    }\n",
       "\n",
       "    .dataframe thead th {\n",
       "        text-align: right;\n",
       "    }\n",
       "</style>\n",
       "<table border=\"1\" class=\"dataframe\">\n",
       "  <thead>\n",
       "    <tr style=\"text-align: right;\">\n",
       "      <th></th>\n",
       "      <th>Report Number</th>\n",
       "      <th>Occurred Date</th>\n",
       "      <th>Occurred Time</th>\n",
       "      <th>Reported Date</th>\n",
       "      <th>Reported Time</th>\n",
       "      <th>Crime Subcategory</th>\n",
       "      <th>Primary Offense Description</th>\n",
       "      <th>Precinct</th>\n",
       "      <th>Sector</th>\n",
       "      <th>Beat</th>\n",
       "      <th>Neighborhood</th>\n",
       "    </tr>\n",
       "  </thead>\n",
       "  <tbody>\n",
       "    <tr>\n",
       "      <th>0</th>\n",
       "      <td>1975000079415</td>\n",
       "      <td>12/16/1975</td>\n",
       "      <td>900.0</td>\n",
       "      <td>12/16/1975</td>\n",
       "      <td>1500.0</td>\n",
       "      <td>BURGLARY-RESIDENTIAL</td>\n",
       "      <td>BURGLARY-FORCE-RES</td>\n",
       "      <td>SOUTH</td>\n",
       "      <td>R</td>\n",
       "      <td>R3</td>\n",
       "      <td>LAKEWOOD/SEWARD PARK</td>\n",
       "    </tr>\n",
       "    <tr>\n",
       "      <th>1</th>\n",
       "      <td>1976000069169</td>\n",
       "      <td>01/01/1976</td>\n",
       "      <td>1.0</td>\n",
       "      <td>01/31/1976</td>\n",
       "      <td>2359.0</td>\n",
       "      <td>SEX OFFENSE-OTHER</td>\n",
       "      <td>SEXOFF-INDECENT LIBERTIES</td>\n",
       "      <td>UNKNOWN</td>\n",
       "      <td>NaN</td>\n",
       "      <td>NaN</td>\n",
       "      <td>UNKNOWN</td>\n",
       "    </tr>\n",
       "    <tr>\n",
       "      <th>2</th>\n",
       "      <td>1979000049118</td>\n",
       "      <td>01/28/1979</td>\n",
       "      <td>1600.0</td>\n",
       "      <td>02/09/1979</td>\n",
       "      <td>1430.0</td>\n",
       "      <td>CAR PROWL</td>\n",
       "      <td>THEFT-CARPROWL</td>\n",
       "      <td>EAST</td>\n",
       "      <td>G</td>\n",
       "      <td>G2</td>\n",
       "      <td>CENTRAL AREA/SQUIRE PARK</td>\n",
       "    </tr>\n",
       "    <tr>\n",
       "      <th>3</th>\n",
       "      <td>19810000305573</td>\n",
       "      <td>08/22/1981</td>\n",
       "      <td>2029.0</td>\n",
       "      <td>08/22/1981</td>\n",
       "      <td>2030.0</td>\n",
       "      <td>HOMICIDE</td>\n",
       "      <td>HOMICIDE-PREMEDITATED-WEAPON</td>\n",
       "      <td>SOUTH</td>\n",
       "      <td>S</td>\n",
       "      <td>S2</td>\n",
       "      <td>BRIGHTON/DUNLAP</td>\n",
       "    </tr>\n",
       "    <tr>\n",
       "      <th>4</th>\n",
       "      <td>1981000076456</td>\n",
       "      <td>02/14/1981</td>\n",
       "      <td>2000.0</td>\n",
       "      <td>02/15/1981</td>\n",
       "      <td>435.0</td>\n",
       "      <td>BURGLARY-RESIDENTIAL</td>\n",
       "      <td>BURGLARY-FORCE-RES</td>\n",
       "      <td>SOUTHWEST</td>\n",
       "      <td>W</td>\n",
       "      <td>W3</td>\n",
       "      <td>ROXHILL/WESTWOOD/ARBOR HEIGHTS</td>\n",
       "    </tr>\n",
       "  </tbody>\n",
       "</table>\n",
       "</div>"
      ],
      "text/plain": [
       "    Report Number Occurred Date  Occurred Time Reported Date  Reported Time  \\\n",
       "0   1975000079415    12/16/1975          900.0    12/16/1975         1500.0   \n",
       "1   1976000069169    01/01/1976            1.0    01/31/1976         2359.0   \n",
       "2   1979000049118    01/28/1979         1600.0    02/09/1979         1430.0   \n",
       "3  19810000305573    08/22/1981         2029.0    08/22/1981         2030.0   \n",
       "4   1981000076456    02/14/1981         2000.0    02/15/1981          435.0   \n",
       "\n",
       "      Crime Subcategory   Primary Offense Description   Precinct Sector Beat  \\\n",
       "0  BURGLARY-RESIDENTIAL            BURGLARY-FORCE-RES      SOUTH      R   R3   \n",
       "1     SEX OFFENSE-OTHER     SEXOFF-INDECENT LIBERTIES    UNKNOWN    NaN  NaN   \n",
       "2             CAR PROWL                THEFT-CARPROWL       EAST      G   G2   \n",
       "3              HOMICIDE  HOMICIDE-PREMEDITATED-WEAPON      SOUTH      S   S2   \n",
       "4  BURGLARY-RESIDENTIAL            BURGLARY-FORCE-RES  SOUTHWEST      W   W3   \n",
       "\n",
       "                     Neighborhood  \n",
       "0            LAKEWOOD/SEWARD PARK  \n",
       "1                         UNKNOWN  \n",
       "2        CENTRAL AREA/SQUIRE PARK  \n",
       "3                 BRIGHTON/DUNLAP  \n",
       "4  ROXHILL/WESTWOOD/ARBOR HEIGHTS  "
      ]
     },
     "execution_count": 32,
     "metadata": {},
     "output_type": "execute_result"
    }
   ],
   "source": [
    "df_crime.head()"
   ]
  },
  {
   "cell_type": "code",
   "execution_count": 33,
   "metadata": {},
   "outputs": [
    {
     "name": "stdout",
     "output_type": "stream",
     "text": [
      "Registros eliminados de 'crime':  3552\n"
     ]
    }
   ],
   "source": [
    "len_crime_all = len(df_crime)\n",
    "df_crime = df_crime.dropna()\n",
    "\n",
    "print('Registros eliminados de \\'crime\\':  %i' % (len_crime_all - len(df_crime)))"
   ]
  },
  {
   "cell_type": "markdown",
   "metadata": {},
   "source": [
    "- Qual o ranking dos 10 crimes que mais ocorreu em seattle nos últimos 3 anos? "
   ]
  },
  {
   "cell_type": "code",
   "execution_count": 34,
   "metadata": {},
   "outputs": [
    {
     "data": {
      "text/plain": [
       "131         WEAPON-UNLAWFUL USE\n",
       "130           WEAPON-POSSESSION\n",
       "129            WEAPON-DISCHARGE\n",
       "128            WEAPON-CONCEALED\n",
       "127             VEH-THEFT-TRUCK\n",
       "126           VEH-THEFT-TRAILER\n",
       "125    VEH-THEFT-RECREATION VEH\n",
       "124            VEH-THEFT-OTHVEH\n",
       "123          VEH-THEFT-MTRCYCLE\n",
       "122          VEH-THEFT-HVYEQUIP\n",
       "Name: Primary Offense Description, dtype: object"
      ]
     },
     "execution_count": 34,
     "metadata": {},
     "output_type": "execute_result"
    }
   ],
   "source": [
    "data_3anos_atras = datetime.now() - relativedelta(years=3)\n",
    "df_crime_3anos = df_crime[pd.to_datetime(df_crime[\"Occurred Date\"]) > data_3anos_atras]\n",
    "\n",
    "top10_Crimes = df_crime_3anos.groupby(\"Primary Offense Description\").count().reset_index().sort_values(by=['Report Number'],ascending=False)\n",
    "top10_Crimes[\"Primary Offense Description\"].sort_values(ascending=False).head(10)"
   ]
  },
  {
   "cell_type": "markdown",
   "metadata": {},
   "source": [
    "* Qual o setor, a região e o beat mais perigoso, considerando o número total de crimes? E qual crime mais se destacou no setor?"
   ]
  },
  {
   "cell_type": "code",
   "execution_count": 35,
   "metadata": {},
   "outputs": [],
   "source": [
    "count_crimes_sector = df_crime.groupby(\"Sector\").count().reset_index().sort_values(by=['Report Number'],ascending=False)\n",
    "count_crimes_neighborhood = df_crime.groupby(\"Neighborhood\").count().reset_index().sort_values(by=['Report Number'],ascending=False)\n",
    "count_crimes_beat = df_crime.groupby(\"Beat\").count().reset_index().sort_values(by=['Report Number'],ascending=False)"
   ]
  },
  {
   "cell_type": "code",
   "execution_count": 36,
   "metadata": {},
   "outputs": [
    {
     "data": {
      "text/plain": [
       "16    W\n",
       "Name: Sector, dtype: object"
      ]
     },
     "execution_count": 36,
     "metadata": {},
     "output_type": "execute_result"
    }
   ],
   "source": [
    "top1_setor_crimes = count_crimes_sector[\"Sector\"].sort_values(ascending=False).head(1)\n",
    "top1_setor_crimes"
   ]
  },
  {
   "cell_type": "code",
   "execution_count": 37,
   "metadata": {},
   "outputs": [
    {
     "data": {
      "text/plain": [
       "58    WALLINGFORD\n",
       "Name: Neighborhood, dtype: object"
      ]
     },
     "execution_count": 37,
     "metadata": {},
     "output_type": "execute_result"
    }
   ],
   "source": [
    "top1_neighborhood_crimes = count_crimes_neighborhood[\"Neighborhood\"].sort_values(ascending=False).head(1)\n",
    "top1_neighborhood_crimes"
   ]
  },
  {
   "cell_type": "code",
   "execution_count": 38,
   "metadata": {},
   "outputs": [
    {
     "data": {
      "text/plain": [
       "50    W3\n",
       "Name: Beat, dtype: object"
      ]
     },
     "execution_count": 38,
     "metadata": {},
     "output_type": "execute_result"
    }
   ],
   "source": [
    "top1_beat_crimes = count_crimes_beat[\"Beat\"].sort_values(ascending=False).head(1)\n",
    "top1_beat_crimes"
   ]
  },
  {
   "cell_type": "code",
   "execution_count": 39,
   "metadata": {},
   "outputs": [
    {
     "data": {
      "text/plain": [
       "115    WEAPON-UNLAWFUL USE\n",
       "Name: Primary Offense Description, dtype: object"
      ]
     },
     "execution_count": 39,
     "metadata": {},
     "output_type": "execute_result"
    }
   ],
   "source": [
    "count_crimes_top1_setor = df_crime[df_crime[\"Sector\"] == \"W\"].groupby(\"Primary Offense Description\").count().reset_index().sort_values(by=['Report Number'],ascending=False)\n",
    "count_crimes_top1_setor\n",
    "\n",
    "top1_crimes_top1_sector = count_crimes_top1_setor[\"Primary Offense Description\"].sort_values(ascending=False).head(1)\n",
    "top1_crimes_top1_sector"
   ]
  },
  {
   "cell_type": "markdown",
   "metadata": {},
   "source": [
    "- Crie variáveis para representar o ano, mês, dia da semana e semana (por exemplo, 2_2018) para o dataset de crimes."
   ]
  },
  {
   "cell_type": "code",
   "execution_count": 40,
   "metadata": {},
   "outputs": [],
   "source": [
    "df_crime['Year'] = df_crime[\"Occurred Date\"].apply(lambda data: pd.to_datetime(data).year)\n",
    "df_crime['Month'] = df_crime[\"Occurred Date\"].apply(lambda data: pd.to_datetime(data).month)\n",
    "df_crime['Weekday'] = df_crime[\"Occurred Date\"].apply(lambda data: pd.to_datetime(data).weekday)\n",
    "df_crime['Week'] = df_crime[\"Occurred Date\"].apply(lambda data: pd.to_datetime(data).week)"
   ]
  },
  {
   "cell_type": "code",
   "execution_count": 41,
   "metadata": {},
   "outputs": [
    {
     "name": "stdout",
     "output_type": "stream",
     "text": [
      "<class 'pandas.core.frame.DataFrame'>\n",
      "Int64Index: 510733 entries, 0 to 514284\n",
      "Data columns (total 15 columns):\n",
      "Report Number                  510733 non-null int64\n",
      "Occurred Date                  510733 non-null object\n",
      "Occurred Time                  510733 non-null float64\n",
      "Reported Date                  510733 non-null object\n",
      "Reported Time                  510733 non-null float64\n",
      "Crime Subcategory              510733 non-null object\n",
      "Primary Offense Description    510733 non-null object\n",
      "Precinct                       510733 non-null object\n",
      "Sector                         510733 non-null object\n",
      "Beat                           510733 non-null object\n",
      "Neighborhood                   510733 non-null object\n",
      "Year                           510733 non-null int64\n",
      "Month                          510733 non-null int64\n",
      "Weekday                        510733 non-null object\n",
      "Week                           510733 non-null int64\n",
      "dtypes: float64(2), int64(4), object(9)\n",
      "memory usage: 62.3+ MB\n"
     ]
    }
   ],
   "source": [
    "df_crime.info()"
   ]
  },
  {
   "cell_type": "markdown",
   "metadata": {},
   "source": [
    "- Realize o join do dataset de chamadas com o dataset de crimes considerando os últimos 10 anos. *P.S.:* Observe as chaves de integração."
   ]
  },
  {
   "cell_type": "code",
   "execution_count": 42,
   "metadata": {},
   "outputs": [
    {
     "name": "stdout",
     "output_type": "stream",
     "text": [
      "<class 'pandas.core.frame.DataFrame'>\n",
      "Int64Index: 43731 entries, 1675276 to 3841563\n",
      "Data columns (total 35 columns):\n",
      "CAD Event Number               43731 non-null int64\n",
      "Event Clearance Description    43731 non-null object\n",
      "Call Type                      43731 non-null object\n",
      "Priority                       43731 non-null int64\n",
      "Initial Call Type              43731 non-null object\n",
      "Final Call Type                43731 non-null object\n",
      "Original Time Queued           43731 non-null object\n",
      "Arrived Time                   43731 non-null object\n",
      "Precinct_chamada               43731 non-null object\n",
      "Sector_chamada                 43731 non-null object\n",
      "Beat_chamada                   43731 non-null object\n",
      "Week_chamada                   43731 non-null object\n",
      "Year_chamada                   43731 non-null int64\n",
      "Month_chamada                  43731 non-null int64\n",
      "Day                            43731 non-null int64\n",
      "Weekday_chamada                43731 non-null object\n",
      "Day Period                     43731 non-null object\n",
      "False Call                     43731 non-null bool\n",
      "Call Difference                43731 non-null object\n",
      "Mistake                        43731 non-null bool\n",
      "Media                          43731 non-null int64\n",
      "Occurred Date                  43731 non-null object\n",
      "Occurred Time                  43731 non-null float64\n",
      "Reported Date                  43731 non-null object\n",
      "Reported Time                  43731 non-null float64\n",
      "Crime Subcategory              43731 non-null object\n",
      "Primary Offense Description    43731 non-null object\n",
      "Precinct_crime                 43731 non-null object\n",
      "Sector_crime                   43731 non-null object\n",
      "Beat_crime                     43731 non-null object\n",
      "Neighborhood                   43731 non-null object\n",
      "Year_crime                     43731 non-null float64\n",
      "Month_crime                    43731 non-null float64\n",
      "Weekday_crime                  43731 non-null object\n",
      "Week_crime                     43731 non-null float64\n",
      "dtypes: bool(2), float64(5), int64(6), object(22)\n",
      "memory usage: 11.4+ MB\n"
     ]
    }
   ],
   "source": [
    "df_chamadas_crimes = call.join(df_crime.set_index(\"Report Number\"), on=\"CAD Event Number\", lsuffix='_chamada', rsuffix='_crime')\n",
    "\n",
    "df_chamadas_crimes = df_chamadas_crimes[df_chamadas_crimes[\"Year_crime\"] >= datetime.now().year - 5]\n",
    "df_chamadas_crimes.info()"
   ]
  },
  {
   "cell_type": "markdown",
   "metadata": {},
   "source": [
    "- Existe alguma relação do número de crimes com o número de chamadas, considerando os últimos 5 anos?"
   ]
  },
  {
   "cell_type": "code",
   "execution_count": null,
   "metadata": {},
   "outputs": [],
   "source": []
  },
  {
   "cell_type": "markdown",
   "metadata": {},
   "source": [
    "- Qual o ano mais violento considerando o total de crimes?"
   ]
  },
  {
   "cell_type": "code",
   "execution_count": 43,
   "metadata": {},
   "outputs": [
    {
     "name": "stdout",
     "output_type": "stream",
     "text": [
      "Esse é o Top 10 de anos mais violentos baseados no número de crimes:\n"
     ]
    },
    {
     "data": {
      "text/html": [
       "<div>\n",
       "<style scoped>\n",
       "    .dataframe tbody tr th:only-of-type {\n",
       "        vertical-align: middle;\n",
       "    }\n",
       "\n",
       "    .dataframe tbody tr th {\n",
       "        vertical-align: top;\n",
       "    }\n",
       "\n",
       "    .dataframe thead th {\n",
       "        text-align: right;\n",
       "    }\n",
       "</style>\n",
       "<table border=\"1\" class=\"dataframe\">\n",
       "  <thead>\n",
       "    <tr style=\"text-align: right;\">\n",
       "      <th></th>\n",
       "      <th>Year</th>\n",
       "      <th>Total</th>\n",
       "    </tr>\n",
       "  </thead>\n",
       "  <tbody>\n",
       "    <tr>\n",
       "      <th>0</th>\n",
       "      <td>2018</td>\n",
       "      <td>50844</td>\n",
       "    </tr>\n",
       "    <tr>\n",
       "      <th>1</th>\n",
       "      <td>2017</td>\n",
       "      <td>49949</td>\n",
       "    </tr>\n",
       "    <tr>\n",
       "      <th>2</th>\n",
       "      <td>2014</td>\n",
       "      <td>49096</td>\n",
       "    </tr>\n",
       "    <tr>\n",
       "      <th>3</th>\n",
       "      <td>2016</td>\n",
       "      <td>48951</td>\n",
       "    </tr>\n",
       "    <tr>\n",
       "      <th>4</th>\n",
       "      <td>2015</td>\n",
       "      <td>47489</td>\n",
       "    </tr>\n",
       "    <tr>\n",
       "      <th>5</th>\n",
       "      <td>2013</td>\n",
       "      <td>45258</td>\n",
       "    </tr>\n",
       "    <tr>\n",
       "      <th>6</th>\n",
       "      <td>2009</td>\n",
       "      <td>44730</td>\n",
       "    </tr>\n",
       "    <tr>\n",
       "      <th>7</th>\n",
       "      <td>2010</td>\n",
       "      <td>43032</td>\n",
       "    </tr>\n",
       "    <tr>\n",
       "      <th>8</th>\n",
       "      <td>2008</td>\n",
       "      <td>42267</td>\n",
       "    </tr>\n",
       "    <tr>\n",
       "      <th>9</th>\n",
       "      <td>2011</td>\n",
       "      <td>41016</td>\n",
       "    </tr>\n",
       "  </tbody>\n",
       "</table>\n",
       "</div>"
      ],
      "text/plain": [
       "   Year  Total\n",
       "0  2018  50844\n",
       "1  2017  49949\n",
       "2  2014  49096\n",
       "3  2016  48951\n",
       "4  2015  47489\n",
       "5  2013  45258\n",
       "6  2009  44730\n",
       "7  2010  43032\n",
       "8  2008  42267\n",
       "9  2011  41016"
      ]
     },
     "execution_count": 43,
     "metadata": {},
     "output_type": "execute_result"
    }
   ],
   "source": [
    "TotalCrime = df_crime.count()\n",
    "crimeAno = df_crime.groupby('Year').count().reset_index()\n",
    "\n",
    "crimeAno.rename(index=str, columns={'Report Number': 'Total'}, inplace=True)\n",
    "\n",
    "crimeAno = crimeAno[['Year','Total']]\n",
    "crimeAno = crimeAno.sort_values('Total', ascending=False)\n",
    "print('Esse é o Top 10 de anos mais violentos baseados no número de crimes:')\n",
    "crimeAno.head(10).reset_index()[['Year','Total']]"
   ]
  },
  {
   "cell_type": "markdown",
   "metadata": {},
   "source": [
    "* Qual o mês, semana e dia mais violento dos últimos 5 anos, considerando o número de crimes e o número de chamadas?"
   ]
  },
  {
   "cell_type": "code",
   "execution_count": 44,
   "metadata": {},
   "outputs": [
    {
     "data": {
      "text/plain": [
       "Year  Month\n",
       "2017  8        4524\n",
       "Name: Total, dtype: int64"
      ]
     },
     "execution_count": 44,
     "metadata": {},
     "output_type": "execute_result"
    }
   ],
   "source": [
    "crime5 = df_crime[(df_crime['Year'] >= 2013) & (df_crime['Year'] < 2019)]\n",
    "crimeMes = crime5.groupby(['Year','Month']).count()\n",
    "crimeMes.rename(index=str, columns={'Report Number': 'Total'}, inplace=True)\n",
    "crimeMes.sort_values('Total', ascending=False)['Total'].head(1)"
   ]
  },
  {
   "cell_type": "markdown",
   "metadata": {},
   "source": [
    "#### R: O Mês mais violento foi Agosto de 2017"
   ]
  },
  {
   "cell_type": "code",
   "execution_count": 45,
   "metadata": {},
   "outputs": [
    {
     "data": {
      "text/plain": [
       "Year  Week\n",
       "2018  1       1133\n",
       "Name: Total, dtype: int64"
      ]
     },
     "execution_count": 45,
     "metadata": {},
     "output_type": "execute_result"
    }
   ],
   "source": [
    "crimeSemana = crime5.groupby(['Year','Week']).count()\n",
    "crimeSemana.rename(index=str, columns={'Report Number': 'Total'}, inplace=True)\n",
    "crimeSemana.sort_values('Total', ascending=False)['Total'].head(1)"
   ]
  },
  {
   "cell_type": "markdown",
   "metadata": {},
   "source": [
    "#### R: A semana mais violenta foi a primeira semana de 2018, tendo ocorrido 1133 crimes registrados"
   ]
  },
  {
   "cell_type": "code",
   "execution_count": 46,
   "metadata": {},
   "outputs": [
    {
     "data": {
      "text/plain": [
       "Reported Date\n",
       "03/31/2014    194\n",
       "Name: Total, dtype: int64"
      ]
     },
     "execution_count": 46,
     "metadata": {},
     "output_type": "execute_result"
    }
   ],
   "source": [
    "crimeDia = crime5.groupby(['Reported Date']).count()\n",
    "crimeDia.rename(index=str, columns={'Report Number': 'Total'}, inplace=True)\n",
    "crimeDia.sort_values('Total', ascending=False)['Total'].head(1)"
   ]
  },
  {
   "cell_type": "markdown",
   "metadata": {},
   "source": [
    "#### R: O dia mais violento, com 194 crimes registrados, foi o dia 31 de Março de 2014"
   ]
  },
  {
   "cell_type": "markdown",
   "metadata": {},
   "source": [
    "- Crie no mínimo 2 gráficos sobre quaisquer perguntas que você queira responder, considerando o dataset de crimes e explique-os de forma suscinta."
   ]
  },
  {
   "cell_type": "markdown",
   "metadata": {},
   "source": [
    "#### Pergunta 1: Qual o horário mais violendo de algum Setor?"
   ]
  },
  {
   "cell_type": "code",
   "execution_count": 47,
   "metadata": {},
   "outputs": [],
   "source": [
    "def periodoDia(time):\n",
    "    if time < 300:\n",
    "        return 0\n",
    "    elif time < 600:\n",
    "        return 1\n",
    "    elif time < 900:\n",
    "        return 2\n",
    "    elif time < 1200:\n",
    "        return 3\n",
    "    elif time < 1500:\n",
    "        return 4\n",
    "    elif time < 1800:\n",
    "        return 5\n",
    "    elif time < 2100:\n",
    "        return 6\n",
    "    else:\n",
    "        return 7"
   ]
  },
  {
   "cell_type": "code",
   "execution_count": 48,
   "metadata": {},
   "outputs": [],
   "source": [
    "df_crime['Hora do Dia'] = df_crime['Occurred Time'].apply(lambda time: periodoDia(time))"
   ]
  },
  {
   "cell_type": "code",
   "execution_count": 49,
   "metadata": {},
   "outputs": [
    {
     "data": {
      "text/plain": [
       "<matplotlib.axes._subplots.AxesSubplot at 0x19f3d103780>"
      ]
     },
     "execution_count": 49,
     "metadata": {},
     "output_type": "execute_result"
    },
    {
     "data": {
      "image/png": "[encoded data removed]",
      "text/plain": [
       "<Figure size 864x504 with 1 Axes>"
      ]
     },
     "metadata": {
      "needs_background": "light"
     },
     "output_type": "display_data"
    }
   ],
   "source": [
    "crimeSetor = df_crime.groupby('Sector').agg({'Report Number': 'count', 'Hora do Dia': 'mean'})\n",
    "\n",
    "crimeSetor = crimeSetor.sort_values('Report Number', ascending=False).reset_index()\n",
    "\n",
    "plt.figure(figsize=[12,7])\n",
    "sns.barplot(data=crimeSetor, x='Sector', y='Hora do Dia')"
   ]
  },
  {
   "cell_type": "markdown",
   "metadata": {},
   "source": [
    "#### R:\n",
    "#### Primeiramente classificamos os horários do dia em 8 categorias a cada 3 horas.\n",
    "#### Depois de somar a quantidade de crimes em um setor, tiramos a média desses horários categorizados, afim de saber dentro de qual categoria de horário os crimes costumam acontecer mais.\n",
    "\n",
    "#### Pudemos contatar que as maioria das ocorrencia é próximo ao horário de 15:00, limite superior da categoria 4."
   ]
  },
  {
   "cell_type": "code",
   "execution_count": 50,
   "metadata": {},
   "outputs": [
    {
     "data": {
      "text/html": [
       "<div>\n",
       "<style scoped>\n",
       "    .dataframe tbody tr th:only-of-type {\n",
       "        vertical-align: middle;\n",
       "    }\n",
       "\n",
       "    .dataframe tbody tr th {\n",
       "        vertical-align: top;\n",
       "    }\n",
       "\n",
       "    .dataframe thead th {\n",
       "        text-align: right;\n",
       "    }\n",
       "</style>\n",
       "<table border=\"1\" class=\"dataframe\">\n",
       "  <thead>\n",
       "    <tr style=\"text-align: right;\">\n",
       "      <th></th>\n",
       "      <th>Sector</th>\n",
       "      <th>Report Number</th>\n",
       "      <th>Hora do Dia</th>\n",
       "    </tr>\n",
       "  </thead>\n",
       "  <tbody>\n",
       "    <tr>\n",
       "      <th>0</th>\n",
       "      <td>M</td>\n",
       "      <td>42255</td>\n",
       "      <td>4.416732</td>\n",
       "    </tr>\n",
       "  </tbody>\n",
       "</table>\n",
       "</div>"
      ],
      "text/plain": [
       "  Sector  Report Number  Hora do Dia\n",
       "0      M          42255     4.416732"
      ]
     },
     "execution_count": 50,
     "metadata": {},
     "output_type": "execute_result"
    }
   ],
   "source": [
    "crimeSetor.head(1)"
   ]
  },
  {
   "cell_type": "code",
   "execution_count": 51,
   "metadata": {},
   "outputs": [
    {
     "data": {
      "text/plain": [
       "<matplotlib.axes._subplots.AxesSubplot at 0x19f3c3ae198>"
      ]
     },
     "execution_count": 51,
     "metadata": {},
     "output_type": "execute_result"
    },
    {
     "data": {
      "image/png": "[encoded data removed]",
      "text/plain": [
       "<Figure size 864x504 with 1 Axes>"
      ]
     },
     "metadata": {
      "needs_background": "light"
     },
     "output_type": "display_data"
    }
   ],
   "source": [
    "crimeSetorAno = df_crime[(df_crime['Sector'] == 'M') & (df_crime['Year'] > 2005)].groupby(['Sector','Year']).agg({'Report Number': 'count', 'Hora do Dia': 'mean'})\n",
    "\n",
    "crimeSetorAno = crimeSetorAno.sort_values('Report Number', ascending=False).reset_index()\n",
    "\n",
    "plt.figure(figsize=[12,7])\n",
    "sns.lineplot(data=crimeSetorAno, x='Year', y='Hora do Dia')"
   ]
  },
  {
   "cell_type": "markdown",
   "metadata": {},
   "source": [
    "#### R: Após verificar que o setor M é o que possui a maior quantidade de crimes, fizemos uma análise do horário médio ao longo dos anos nesse setor. Com exceção do ano de 2007, o horário médio que ocorrem mais crimes ficou na categoria 4, (entre 15:00 e 18:00), variando para um pouco mais cedo ao passar dos anos."
   ]
  },
  {
   "cell_type": "markdown",
   "metadata": {},
   "source": [
    "- Crie no mínimo 2 gráficos sobre quaisquer perguntas que você queira responder, considerando o dataset de crimes e chamadas juntas e explique-os de forma suscinta."
   ]
  },
  {
   "cell_type": "code",
   "execution_count": null,
   "metadata": {},
   "outputs": [],
   "source": []
  },
  {
   "cell_type": "markdown",
   "metadata": {},
   "source": [
    "- Crie um pacote em python com o nome **help_seattle**, contendo outro pacote chamado **seattle_info**, e este contendo um módulo com informações do dataset de **chamadas** e outro módulo contendo informações do dataset de **crimes** módulo para responder no mínimo 3 das perguntas acima."
   ]
  },
  {
   "cell_type": "code",
   "execution_count": null,
   "metadata": {},
   "outputs": [],
   "source": []
  },
  {
   "cell_type": "markdown",
   "metadata": {},
   "source": [
    "- Em sala estudamos sobre módulos e pacotes em Python. Este é o exercício passado em sala de aula e que deve ser entregue junto com a avaliação. \n",
    "    - Crie um pacote banco que:\n",
    "        - Crie um pacote que cadastre contas de pessoas físicas e jurídicas\n",
    "        - Crie um pacote que conceda empréstimos e informe o valor da prestação considerando:\n",
    "            - 10% de juros do empréstimo mais 0,5% do número de prestações para pessoas físicas\n",
    "            - 5% de juros do empréstimo mais 0,3% do número de prestações para pessoas físicas\n",
    "        - Crie um módulo para realizar as operações de saque, deposito e transferencia, cobrança de tarifa, R\\\\$-20,00 para PF e R\\\\$: 10,00 para PF\n",
    "        - Simule o lucro total do banco considerando o pagamento da tarifa de todos os clientes e os empréstimos realizados.\n",
    "        - Crie um script em python ou um jupyter notebook que demostre a utilização do pacote"
   ]
  },
  {
   "cell_type": "markdown",
   "metadata": {},
   "source": [
    "#### R: Arquivo com o script e os arquivos enviados compactados em anexo."
   ]
  },
  {
   "cell_type": "markdown",
   "metadata": {},
   "source": [
    "### Desafios"
   ]
  },
  {
   "cell_type": "markdown",
   "metadata": {},
   "source": [
    "#### Desafio 1 (+3 Pontos extras)"
   ]
  },
  {
   "cell_type": "markdown",
   "metadata": {},
   "source": [
    "* Faça este [curso online](https://www.datacamp.com/community/open-courses/introducao-a-r) e gratuito de introdução ao R e salve todos o hands on em úm unico script ou arquivo jupyter notebook\n",
    "* Baixe e configure o R studio  seguindo as instruções desse [tutorial](https://campus.datacamp.com/courses/introducao-a-r/capitulo-1-introducao-ao-basico?ex=1)\n",
    "* Se quiser você pode baixar o R Studio a partir do Anaconda Navigator e utilizar no Jupyter notebook. Veja [aqui](https://docs.anaconda.com/anaconda/navigator/tutorials/r-lang/) algumas dicas"
   ]
  },
  {
   "cell_type": "markdown",
   "metadata": {},
   "source": [
    "#### R: Script com o curso enviado em anexo"
   ]
  },
  {
   "cell_type": "markdown",
   "metadata": {},
   "source": [
    "#### Desafio 2 (+1,5 Ponto extra)"
   ]
  },
  {
   "cell_type": "markdown",
   "metadata": {},
   "source": [
    "* Crie um spark-job que calcule o número de chamadas feitas de alguma forma através do 911 (considere a programação utilizando **RDD**). Liste o setor, a região e o beat com maior número de chamadas 911? Veja o exemplo de um spark-job no nosso material."
   ]
  },
  {
   "cell_type": "code",
   "execution_count": 52,
   "metadata": {},
   "outputs": [],
   "source": [
    "import csv"
   ]
  },
  {
   "cell_type": "code",
   "execution_count": 54,
   "metadata": {},
   "outputs": [],
   "source": [
    "with open(\"Call_Data.csv\", \"r\", newline=\"\") as f1:\n",
    "    reader = csv.reader(f1, delimiter=\",\")\n",
    "    with open(\"Call_Data_New.csv\", \"w\", newline=\"\") as f2:\n",
    "        writer = csv.writer(f2)\n",
    "        for row in reader:\n",
    "            new_row = [col.replace(\",\", \" -\") for col in row]\n",
    "            writer.writerow(new_row)"
   ]
  },
  {
   "cell_type": "markdown",
   "metadata": {},
   "source": [
    "Esse procedimento elimina as vírgulas dentro das aspas que causam problema no PySpark ao separar as colunas por usar ',' como delimitador de coluna."
   ]
  },
  {
   "cell_type": "code",
   "execution_count": 55,
   "metadata": {},
   "outputs": [],
   "source": [
    "import findspark\n",
    "findspark.init()"
   ]
  },
  {
   "cell_type": "code",
   "execution_count": 56,
   "metadata": {},
   "outputs": [],
   "source": [
    "import pyspark\n",
    "from pyspark.sql import SparkSession\n",
    "from pyspark.sql import DataFrame, Row\n",
    "from pyspark.sql import functions as F\n",
    "from pyspark.sql.types import *"
   ]
  },
  {
   "cell_type": "code",
   "execution_count": 57,
   "metadata": {},
   "outputs": [],
   "source": [
    "spark = SparkSession.builder \\\n",
    "   .master(\"local\") \\\n",
    "   .appName(\"Prova PDSDA\") \\\n",
    "   .config(\"spark.executor.memory\", \"2gb\") \\\n",
    "   .getOrCreate()\n",
    "\n",
    "sc = spark.sparkContext"
   ]
  },
  {
   "cell_type": "code",
   "execution_count": 59,
   "metadata": {},
   "outputs": [
    {
     "data": {
      "text/plain": [
       "['CAD Event Number,Event Clearance Description,Call Type,Priority,Initial Call Type,Final Call Type,Original Time Queued,Arrived Time,Precinct,Sector,Beat']"
      ]
     },
     "execution_count": 59,
     "metadata": {},
     "output_type": "execute_result"
    }
   ],
   "source": [
    "FILE_CALL_PATH = 'Call_Data_New.csv'\n",
    "rdd = sc.textFile(FILE_CALL_PATH)\n",
    "rdd.take(1)"
   ]
  },
  {
   "cell_type": "code",
   "execution_count": 60,
   "metadata": {},
   "outputs": [],
   "source": [
    "rdd911 = sc.textFile(FILE_CALL_PATH) \\\n",
    "    .map(lambda line: line.split(\",\")) \\\n",
    "    .filter(lambda line: '911' in line[2].lower()) \\\n",
    "    .map(lambda word: ('911', 1)) \\\n",
    "    .reduceByKey(lambda a, b: a + b)"
   ]
  },
  {
   "cell_type": "code",
   "execution_count": null,
   "metadata": {},
   "outputs": [],
   "source": [
    "rdd911.take(1)"
   ]
  },
  {
   "cell_type": "code",
   "execution_count": 62,
   "metadata": {},
   "outputs": [],
   "source": [
    "import os\n",
    "os.remove('Call_Data_New.csv')"
   ]
  }
 ],
 "metadata": {
  "kernelspec": {
   "display_name": "Python 3",
   "language": "python",
   "name": "python3"
  },
  "language_info": {
   "codemirror_mode": {
    "name": "ipython",
    "version": 3
   },
   "file_extension": ".py",
   "mimetype": "text/x-python",
   "name": "python",
   "nbconvert_exporter": "python",
   "pygments_lexer": "ipython3",
   "version": "3.7.1"
  }
 },
 "nbformat": 4,
 "nbformat_minor": 2
}
