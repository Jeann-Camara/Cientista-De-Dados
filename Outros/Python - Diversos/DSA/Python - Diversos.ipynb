{
 "cells": [
  {
   "cell_type": "code",
   "execution_count": 1,
   "metadata": {},
   "outputs": [
    {
     "name": "stdout",
     "output_type": "stream",
     "text": [
      "Data Science Academy\n"
     ]
    }
   ],
   "source": [
    "print(\"Data Science Academy\")"
   ]
  },
  {
   "cell_type": "code",
   "execution_count": 2,
   "metadata": {},
   "outputs": [
    {
     "data": {
      "text/plain": [
       "4"
      ]
     },
     "execution_count": 2,
     "metadata": {},
     "output_type": "execute_result"
    }
   ],
   "source": [
    "2 + 2 "
   ]
  },
  {
   "cell_type": "code",
   "execution_count": 3,
   "metadata": {},
   "outputs": [
    {
     "data": {
      "text/plain": [
       "7"
      ]
     },
     "execution_count": 3,
     "metadata": {},
     "output_type": "execute_result"
    }
   ],
   "source": [
    "3 + 4"
   ]
  },
  {
   "cell_type": "code",
   "execution_count": 4,
   "metadata": {},
   "outputs": [
    {
     "data": {
      "text/plain": [
       "14"
      ]
     },
     "execution_count": 4,
     "metadata": {},
     "output_type": "execute_result"
    }
   ],
   "source": [
    "5 + 9 "
   ]
  },
  {
   "cell_type": "code",
   "execution_count": 5,
   "metadata": {},
   "outputs": [],
   "source": [
    "# este é um comentário"
   ]
  },
  {
   "cell_type": "code",
   "execution_count": 6,
   "metadata": {},
   "outputs": [
    {
     "data": {
      "text/plain": [
       "16"
      ]
     },
     "execution_count": 6,
     "metadata": {},
     "output_type": "execute_result"
    }
   ],
   "source": [
    "4 ** 2\n"
   ]
  },
  {
   "cell_type": "code",
   "execution_count": 7,
   "metadata": {},
   "outputs": [
    {
     "data": {
      "text/plain": [
       "1"
      ]
     },
     "execution_count": 7,
     "metadata": {},
     "output_type": "execute_result"
    }
   ],
   "source": [
    "10 % 3"
   ]
  },
  {
   "cell_type": "code",
   "execution_count": 8,
   "metadata": {},
   "outputs": [
    {
     "data": {
      "text/plain": [
       "int"
      ]
     },
     "execution_count": 8,
     "metadata": {},
     "output_type": "execute_result"
    }
   ],
   "source": [
    "type(5)"
   ]
  },
  {
   "cell_type": "code",
   "execution_count": 9,
   "metadata": {},
   "outputs": [
    {
     "data": {
      "text/plain": [
       "float"
      ]
     },
     "execution_count": 9,
     "metadata": {},
     "output_type": "execute_result"
    }
   ],
   "source": [
    "type(5.0)"
   ]
  },
  {
   "cell_type": "code",
   "execution_count": 10,
   "metadata": {},
   "outputs": [
    {
     "data": {
      "text/plain": [
       "str"
      ]
     },
     "execution_count": 10,
     "metadata": {},
     "output_type": "execute_result"
    }
   ],
   "source": [
    "type(\"eu sou uma string\")"
   ]
  },
  {
   "cell_type": "code",
   "execution_count": 11,
   "metadata": {},
   "outputs": [
    {
     "data": {
      "text/plain": [
       "str"
      ]
     },
     "execution_count": 11,
     "metadata": {},
     "output_type": "execute_result"
    }
   ],
   "source": [
    "a = \"teste\"\n",
    "type(a)"
   ]
  },
  {
   "cell_type": "code",
   "execution_count": 12,
   "metadata": {},
   "outputs": [
    {
     "data": {
      "text/plain": [
       "8.0"
      ]
     },
     "execution_count": 12,
     "metadata": {},
     "output_type": "execute_result"
    }
   ],
   "source": [
    "4 + 4.0\n"
   ]
  },
  {
   "cell_type": "code",
   "execution_count": 13,
   "metadata": {},
   "outputs": [
    {
     "data": {
      "text/plain": [
       "8"
      ]
     },
     "execution_count": 13,
     "metadata": {},
     "output_type": "execute_result"
    }
   ],
   "source": [
    "4 + 4 "
   ]
  },
  {
   "cell_type": "code",
   "execution_count": 14,
   "metadata": {},
   "outputs": [
    {
     "data": {
      "text/plain": [
       "2.0"
      ]
     },
     "execution_count": 14,
     "metadata": {},
     "output_type": "execute_result"
    }
   ],
   "source": [
    "4 / 2 "
   ]
  },
  {
   "cell_type": "code",
   "execution_count": 15,
   "metadata": {},
   "outputs": [
    {
     "data": {
      "text/plain": [
       "2"
      ]
     },
     "execution_count": 15,
     "metadata": {},
     "output_type": "execute_result"
    }
   ],
   "source": [
    "int(4 / 2)"
   ]
  },
  {
   "cell_type": "code",
   "execution_count": 16,
   "metadata": {},
   "outputs": [
    {
     "data": {
      "text/plain": [
       "2"
      ]
     },
     "execution_count": 16,
     "metadata": {},
     "output_type": "execute_result"
    }
   ],
   "source": [
    "4 // 2"
   ]
  },
  {
   "cell_type": "code",
   "execution_count": 17,
   "metadata": {},
   "outputs": [
    {
     "data": {
      "text/plain": [
       "1.3333333333333333"
      ]
     },
     "execution_count": 17,
     "metadata": {},
     "output_type": "execute_result"
    }
   ],
   "source": [
    "4 / 3.0 "
   ]
  },
  {
   "cell_type": "code",
   "execution_count": 18,
   "metadata": {},
   "outputs": [
    {
     "data": {
      "text/plain": [
       "1.0"
      ]
     },
     "execution_count": 18,
     "metadata": {},
     "output_type": "execute_result"
    }
   ],
   "source": [
    "4 // 3.0 "
   ]
  },
  {
   "cell_type": "code",
   "execution_count": 19,
   "metadata": {},
   "outputs": [
    {
     "data": {
      "text/plain": [
       "1"
      ]
     },
     "execution_count": 19,
     "metadata": {},
     "output_type": "execute_result"
    }
   ],
   "source": [
    "int(4 // 3.0)"
   ]
  },
  {
   "cell_type": "code",
   "execution_count": 20,
   "metadata": {},
   "outputs": [
    {
     "data": {
      "text/plain": [
       "1"
      ]
     },
     "execution_count": 20,
     "metadata": {},
     "output_type": "execute_result"
    }
   ],
   "source": [
    "int(4 / 3.0)"
   ]
  },
  {
   "cell_type": "code",
   "execution_count": 21,
   "metadata": {},
   "outputs": [
    {
     "data": {
      "text/plain": [
       "9.0"
      ]
     },
     "execution_count": 21,
     "metadata": {},
     "output_type": "execute_result"
    }
   ],
   "source": [
    "float(9)"
   ]
  },
  {
   "cell_type": "code",
   "execution_count": 22,
   "metadata": {},
   "outputs": [
    {
     "data": {
      "text/plain": [
       "6"
      ]
     },
     "execution_count": 22,
     "metadata": {},
     "output_type": "execute_result"
    }
   ],
   "source": [
    "int(6.5)"
   ]
  },
  {
   "cell_type": "code",
   "execution_count": 23,
   "metadata": {},
   "outputs": [
    {
     "data": {
      "text/plain": [
       "6"
      ]
     },
     "execution_count": 23,
     "metadata": {},
     "output_type": "execute_result"
    }
   ],
   "source": [
    "int(6.6)"
   ]
  },
  {
   "cell_type": "code",
   "execution_count": 24,
   "metadata": {},
   "outputs": [
    {
     "data": {
      "text/plain": [
       "'0x18a'"
      ]
     },
     "execution_count": 24,
     "metadata": {},
     "output_type": "execute_result"
    }
   ],
   "source": [
    "hex(394)"
   ]
  },
  {
   "cell_type": "code",
   "execution_count": 25,
   "metadata": {},
   "outputs": [
    {
     "data": {
      "text/plain": [
       "'0b110000110'"
      ]
     },
     "execution_count": 25,
     "metadata": {},
     "output_type": "execute_result"
    }
   ],
   "source": [
    "bin(390)"
   ]
  },
  {
   "cell_type": "code",
   "execution_count": 26,
   "metadata": {},
   "outputs": [
    {
     "data": {
      "text/plain": [
       "8"
      ]
     },
     "execution_count": 26,
     "metadata": {},
     "output_type": "execute_result"
    }
   ],
   "source": [
    "abs(-8)"
   ]
  },
  {
   "cell_type": "code",
   "execution_count": 29,
   "metadata": {},
   "outputs": [
    {
     "data": {
      "text/plain": [
       "3.141"
      ]
     },
     "execution_count": 29,
     "metadata": {},
     "output_type": "execute_result"
    }
   ],
   "source": [
    "round(3.1412, 3)"
   ]
  },
  {
   "cell_type": "code",
   "execution_count": 30,
   "metadata": {},
   "outputs": [
    {
     "data": {
      "text/plain": [
       "16"
      ]
     },
     "execution_count": 30,
     "metadata": {},
     "output_type": "execute_result"
    }
   ],
   "source": [
    "pow(4,2)"
   ]
  },
  {
   "cell_type": "code",
   "execution_count": 31,
   "metadata": {},
   "outputs": [
    {
     "name": "stdout",
     "output_type": "stream",
     "text": [
      "10\n"
     ]
    }
   ],
   "source": [
    "print(10)"
   ]
  },
  {
   "cell_type": "code",
   "execution_count": 39,
   "metadata": {},
   "outputs": [
    {
     "name": "stdout",
     "output_type": "stream",
     "text": [
      "0\n"
     ]
    }
   ],
   "source": [
    "b =0; print(b)"
   ]
  },
  {
   "cell_type": "code",
   "execution_count": 42,
   "metadata": {},
   "outputs": [
    {
     "name": "stdout",
     "output_type": "stream",
     "text": [
      "4\n"
     ]
    }
   ],
   "source": [
    "b = 5; print(b-1)"
   ]
  },
  {
   "cell_type": "code",
   "execution_count": 35,
   "metadata": {},
   "outputs": [
    {
     "data": {
      "text/plain": [
       "8.0"
      ]
     },
     "execution_count": 35,
     "metadata": {},
     "output_type": "execute_result"
    }
   ],
   "source": [
    "abs(8.0)"
   ]
  },
  {
   "cell_type": "code",
   "execution_count": 37,
   "metadata": {},
   "outputs": [
    {
     "data": {
      "text/plain": [
       "8.0"
      ]
     },
     "execution_count": 37,
     "metadata": {},
     "output_type": "execute_result"
    }
   ],
   "source": [
    "abs(-8.0)"
   ]
  },
  {
   "cell_type": "code",
   "execution_count": 38,
   "metadata": {},
   "outputs": [
    {
     "data": {
      "text/plain": [
       "9"
      ]
     },
     "execution_count": 38,
     "metadata": {},
     "output_type": "execute_result"
    }
   ],
   "source": [
    "abs(-9)"
   ]
  },
  {
   "cell_type": "code",
   "execution_count": 43,
   "metadata": {},
   "outputs": [
    {
     "name": "stdout",
     "output_type": "stream",
     "text": [
      "1\n"
     ]
    }
   ],
   "source": [
    "var_teste = 1; print(var_teste)"
   ]
  },
  {
   "cell_type": "code",
   "execution_count": 44,
   "metadata": {},
   "outputs": [
    {
     "name": "stdout",
     "output_type": "stream",
     "text": [
      "5\n"
     ]
    }
   ],
   "source": [
    "print(b)\n"
   ]
  },
  {
   "cell_type": "code",
   "execution_count": 45,
   "metadata": {},
   "outputs": [
    {
     "data": {
      "text/plain": [
       "int"
      ]
     },
     "execution_count": 45,
     "metadata": {},
     "output_type": "execute_result"
    }
   ],
   "source": [
    "type(var_teste)"
   ]
  },
  {
   "cell_type": "code",
   "execution_count": 47,
   "metadata": {},
   "outputs": [
    {
     "data": {
      "text/plain": [
       "'Jeann Câmara'"
      ]
     },
     "execution_count": 47,
     "metadata": {},
     "output_type": "execute_result"
    }
   ],
   "source": [
    "\"Jeann\" + \" Câmara\"\n"
   ]
  },
  {
   "cell_type": "code",
   "execution_count": 50,
   "metadata": {},
   "outputs": [
    {
     "data": {
      "text/plain": [
       "'Je'"
      ]
     },
     "execution_count": 50,
     "metadata": {},
     "output_type": "execute_result"
    }
   ],
   "source": [
    "a = \"Jeann\"; a[0]+a[1]"
   ]
  },
  {
   "cell_type": "code",
   "execution_count": 51,
   "metadata": {},
   "outputs": [
    {
     "ename": "TypeError",
     "evalue": "'str' object does not support item assignment",
     "output_type": "error",
     "traceback": [
      "\u001b[1;31m---------------------------------------------------------------------------\u001b[0m",
      "\u001b[1;31mTypeError\u001b[0m                                 Traceback (most recent call last)",
      "\u001b[1;32m<ipython-input-51-83ffec2b726a>\u001b[0m in \u001b[0;36m<module>\u001b[1;34m()\u001b[0m\n\u001b[1;32m----> 1\u001b[1;33m \u001b[0ma\u001b[0m\u001b[1;33m[\u001b[0m\u001b[1;36m0\u001b[0m\u001b[1;33m]\u001b[0m\u001b[1;33m=\u001b[0m \u001b[1;34m\"j\"\u001b[0m\u001b[1;33m\u001b[0m\u001b[0m\n\u001b[0m",
      "\u001b[1;31mTypeError\u001b[0m: 'str' object does not support item assignment"
     ]
    }
   ],
   "source": [
    "a[0]= \"j\""
   ]
  },
  {
   "cell_type": "code",
   "execution_count": 55,
   "metadata": {},
   "outputs": [
    {
     "data": {
      "text/plain": [
       "'teste'"
      ]
     },
     "execution_count": 55,
     "metadata": {},
     "output_type": "execute_result"
    }
   ],
   "source": [
    "'teste'"
   ]
  },
  {
   "cell_type": "code",
   "execution_count": 59,
   "metadata": {},
   "outputs": [
    {
     "name": "stdout",
     "output_type": "stream",
     "text": [
      "Jeann \n",
      "Câmara\n"
     ]
    }
   ],
   "source": [
    "print('Jeann \\nCâmara')"
   ]
  },
  {
   "cell_type": "code",
   "execution_count": 61,
   "metadata": {},
   "outputs": [
    {
     "name": "stdout",
     "output_type": "stream",
     "text": [
      "\n",
      "\n"
     ]
    }
   ],
   "source": [
    "print('\\n')"
   ]
  },
  {
   "cell_type": "code",
   "execution_count": 92,
   "metadata": {},
   "outputs": [],
   "source": [
    "strNome = \"Jeann Câmara\"\n",
    "\n",
    "strNome[:1] + strNome[1:]\n",
    "\n",
    "strNome[::3]"
   ]
  },
  {
   "cell_type": "code",
   "execution_count": 84,
   "metadata": {},
   "outputs": [
    {
     "data": {
      "text/plain": [
       "'aaa'"
      ]
     },
     "execution_count": 84,
     "metadata": {},
     "output_type": "execute_result"
    }
   ],
   "source": [
    "letra = 'a'\n",
    "\n",
    "letra * 3"
   ]
  },
  {
   "cell_type": "code",
   "execution_count": 87,
   "metadata": {},
   "outputs": [
    {
     "data": {
      "text/plain": [
       "'A'"
      ]
     },
     "execution_count": 87,
     "metadata": {},
     "output_type": "execute_result"
    }
   ],
   "source": [
    "letra.capitalize()"
   ]
  },
  {
   "cell_type": "raw",
   "metadata": {},
   "source": [
    "letra."
   ]
  },
  {
   "cell_type": "code",
   "execution_count": 88,
   "metadata": {},
   "outputs": [
    {
     "data": {
      "text/plain": [
       "0"
      ]
     },
     "execution_count": 88,
     "metadata": {},
     "output_type": "execute_result"
    }
   ],
   "source": [
    "strNome.find(a)"
   ]
  },
  {
   "cell_type": "code",
   "execution_count": 97,
   "metadata": {},
   "outputs": [
    {
     "data": {
      "text/plain": [
       "3"
      ]
     },
     "execution_count": 97,
     "metadata": {},
     "output_type": "execute_result"
    }
   ],
   "source": [
    "strNome.count('a')"
   ]
  },
  {
   "cell_type": "code",
   "execution_count": 102,
   "metadata": {},
   "outputs": [
    {
     "ename": "TypeError",
     "evalue": "int() argument must be a string, a bytes-like object or a number, not 'builtin_function_or_method'",
     "output_type": "error",
     "traceback": [
      "\u001b[1;31m---------------------------------------------------------------------------\u001b[0m",
      "\u001b[1;31mTypeError\u001b[0m                                 Traceback (most recent call last)",
      "\u001b[1;32m<ipython-input-102-709233480aca>\u001b[0m in \u001b[0;36m<module>\u001b[1;34m()\u001b[0m\n\u001b[1;32m----> 1\u001b[1;33m \u001b[0mprint\u001b[0m\u001b[1;33m(\u001b[0m\u001b[0mint\u001b[0m\u001b[1;33m(\u001b[0m\u001b[0mstrNome\u001b[0m\u001b[1;33m.\u001b[0m\u001b[0mcount\u001b[0m\u001b[1;33m)\u001b[0m\u001b[1;33m)\u001b[0m\u001b[1;33m\u001b[0m\u001b[0m\n\u001b[0m",
      "\u001b[1;31mTypeError\u001b[0m: int() argument must be a string, a bytes-like object or a number, not 'builtin_function_or_method'"
     ]
    }
   ],
   "source": [
    "print(int(strNome.count))"
   ]
  },
  {
   "cell_type": "code",
   "execution_count": 103,
   "metadata": {},
   "outputs": [],
   "source": [
    "listaMercado = [\"pão\", \"Ovo\",\"Manteiga\"]"
   ]
  },
  {
   "cell_type": "code",
   "execution_count": 104,
   "metadata": {},
   "outputs": [
    {
     "data": {
      "text/plain": [
       "['pão', 'Ovo', 'Manteiga']"
      ]
     },
     "execution_count": 104,
     "metadata": {},
     "output_type": "execute_result"
    }
   ],
   "source": [
    "listaMercado"
   ]
  },
  {
   "cell_type": "code",
   "execution_count": 105,
   "metadata": {},
   "outputs": [],
   "source": [
    "listaMercado[0] = \"PÃO\"\n"
   ]
  },
  {
   "cell_type": "code",
   "execution_count": 106,
   "metadata": {},
   "outputs": [
    {
     "data": {
      "text/plain": [
       "['PÃO', 'Ovo', 'Manteiga']"
      ]
     },
     "execution_count": 106,
     "metadata": {},
     "output_type": "execute_result"
    }
   ],
   "source": [
    "listaMercado"
   ]
  },
  {
   "cell_type": "code",
   "execution_count": 108,
   "metadata": {},
   "outputs": [],
   "source": [
    "del listaMercado[2]"
   ]
  },
  {
   "cell_type": "code",
   "execution_count": 109,
   "metadata": {},
   "outputs": [
    {
     "data": {
      "text/plain": [
       "['PÃO', 'Ovo']"
      ]
     },
     "execution_count": 109,
     "metadata": {},
     "output_type": "execute_result"
    }
   ],
   "source": [
    "listaMercado"
   ]
  },
  {
   "cell_type": "code",
   "execution_count": 128,
   "metadata": {},
   "outputs": [],
   "source": [
    "listas = [[1,2,3],[\"a\",\"b\",\"c\"],[0]]\n"
   ]
  },
  {
   "cell_type": "code",
   "execution_count": 129,
   "metadata": {},
   "outputs": [
    {
     "data": {
      "text/plain": [
       "[[-1, 2, 3], ['a', 'b', 'c'], [0]]"
      ]
     },
     "execution_count": 129,
     "metadata": {},
     "output_type": "execute_result"
    }
   ],
   "source": [
    "listas[0][0] = -1; listas\n"
   ]
  },
  {
   "cell_type": "code",
   "execution_count": 131,
   "metadata": {},
   "outputs": [
    {
     "data": {
      "text/plain": [
       "0"
      ]
     },
     "execution_count": 131,
     "metadata": {},
     "output_type": "execute_result"
    }
   ],
   "source": [
    "listas[2][0]\n"
   ]
  },
  {
   "cell_type": "code",
   "execution_count": 132,
   "metadata": {},
   "outputs": [
    {
     "data": {
      "text/plain": [
       "False"
      ]
     },
     "execution_count": 132,
     "metadata": {},
     "output_type": "execute_result"
    }
   ],
   "source": [
    "0 in listas"
   ]
  },
  {
   "cell_type": "code",
   "execution_count": 134,
   "metadata": {},
   "outputs": [
    {
     "data": {
      "text/plain": [
       "True"
      ]
     },
     "execution_count": 134,
     "metadata": {},
     "output_type": "execute_result"
    }
   ],
   "source": [
    "0 in listas[2]\n"
   ]
  },
  {
   "cell_type": "code",
   "execution_count": 138,
   "metadata": {},
   "outputs": [
    {
     "data": {
      "text/plain": [
       "False"
      ]
     },
     "execution_count": 138,
     "metadata": {},
     "output_type": "execute_result"
    }
   ],
   "source": [
    " ['a', 'b', 'c'] in listas[1]"
   ]
  },
  {
   "cell_type": "code",
   "execution_count": 139,
   "metadata": {},
   "outputs": [
    {
     "data": {
      "text/plain": [
       "3"
      ]
     },
     "execution_count": 139,
     "metadata": {},
     "output_type": "execute_result"
    }
   ],
   "source": [
    "len(listas)"
   ]
  },
  {
   "cell_type": "code",
   "execution_count": 145,
   "metadata": {},
   "outputs": [
    {
     "data": {
      "text/plain": [
       "3"
      ]
     },
     "execution_count": 145,
     "metadata": {},
     "output_type": "execute_result"
    }
   ],
   "source": [
    "max(listas[:1][0])"
   ]
  },
  {
   "cell_type": "code",
   "execution_count": 173,
   "metadata": {},
   "outputs": [
    {
     "ename": "SyntaxError",
     "evalue": "invalid syntax (<ipython-input-173-8d9ba51a295d>, line 2)",
     "output_type": "error",
     "traceback": [
      "\u001b[1;36m  File \u001b[1;32m\"<ipython-input-173-8d9ba51a295d>\"\u001b[1;36m, line \u001b[1;32m2\u001b[0m\n\u001b[1;33m    if(1==1)\u001b[0m\n\u001b[1;37m            ^\u001b[0m\n\u001b[1;31mSyntaxError\u001b[0m\u001b[1;31m:\u001b[0m invalid syntax\n"
     ]
    }
   ],
   "source": [
    "for item in listas: \n",
    "    if(1==1)\n",
    "        print(item)\n",
    "    else"
   ]
  },
  {
   "cell_type": "code",
   "execution_count": 175,
   "metadata": {},
   "outputs": [],
   "source": [
    "nomeCompleto = {1:\"Jeann\", 2:\"Câmara\"}"
   ]
  },
  {
   "cell_type": "code",
   "execution_count": 177,
   "metadata": {},
   "outputs": [
    {
     "data": {
      "text/plain": [
       "'Jeann'"
      ]
     },
     "execution_count": 177,
     "metadata": {},
     "output_type": "execute_result"
    }
   ],
   "source": [
    "nomeCompleto[1]"
   ]
  },
  {
   "cell_type": "code",
   "execution_count": 178,
   "metadata": {},
   "outputs": [
    {
     "data": {
      "text/plain": [
       "'Câmara'"
      ]
     },
     "execution_count": 178,
     "metadata": {},
     "output_type": "execute_result"
    }
   ],
   "source": [
    "nomeCompleto[2]"
   ]
  },
  {
   "cell_type": "code",
   "execution_count": 179,
   "metadata": {},
   "outputs": [],
   "source": [
    "nomeCompleto[1] = \"JEANN\""
   ]
  },
  {
   "cell_type": "code",
   "execution_count": 180,
   "metadata": {},
   "outputs": [
    {
     "data": {
      "text/plain": [
       "'JEANN'"
      ]
     },
     "execution_count": 180,
     "metadata": {},
     "output_type": "execute_result"
    }
   ],
   "source": [
    "nomeCompleto[1]"
   ]
  },
  {
   "cell_type": "code",
   "execution_count": 181,
   "metadata": {},
   "outputs": [],
   "source": [
    "nomeCompleto.clear()"
   ]
  },
  {
   "cell_type": "code",
   "execution_count": 182,
   "metadata": {},
   "outputs": [
    {
     "data": {
      "text/plain": [
       "{}"
      ]
     },
     "execution_count": 182,
     "metadata": {},
     "output_type": "execute_result"
    }
   ],
   "source": [
    "nomeCompleto"
   ]
  },
  {
   "cell_type": "code",
   "execution_count": 183,
   "metadata": {},
   "outputs": [],
   "source": [
    "del nomeCompleto"
   ]
  },
  {
   "cell_type": "code",
   "execution_count": 184,
   "metadata": {},
   "outputs": [
    {
     "ename": "NameError",
     "evalue": "name 'nomeCompleto' is not defined",
     "output_type": "error",
     "traceback": [
      "\u001b[1;31m---------------------------------------------------------------------------\u001b[0m",
      "\u001b[1;31mNameError\u001b[0m                                 Traceback (most recent call last)",
      "\u001b[1;32m<ipython-input-184-722b3a2723d5>\u001b[0m in \u001b[0;36m<module>\u001b[1;34m()\u001b[0m\n\u001b[1;32m----> 1\u001b[1;33m \u001b[0mnomeCompleto\u001b[0m\u001b[1;33m\u001b[0m\u001b[0m\n\u001b[0m",
      "\u001b[1;31mNameError\u001b[0m: name 'nomeCompleto' is not defined"
     ]
    }
   ],
   "source": [
    "nomeCompleto"
   ]
  },
  {
   "cell_type": "code",
   "execution_count": 185,
   "metadata": {},
   "outputs": [],
   "source": [
    "nomeCompleto = {1:\"Jeann\", 2:\"Câmara\"}"
   ]
  },
  {
   "cell_type": "code",
   "execution_count": 186,
   "metadata": {},
   "outputs": [
    {
     "ename": "AttributeError",
     "evalue": "'dict' object has no attribute 'len'",
     "output_type": "error",
     "traceback": [
      "\u001b[1;31m---------------------------------------------------------------------------\u001b[0m",
      "\u001b[1;31mAttributeError\u001b[0m                            Traceback (most recent call last)",
      "\u001b[1;32m<ipython-input-186-486a85028b70>\u001b[0m in \u001b[0;36m<module>\u001b[1;34m()\u001b[0m\n\u001b[1;32m----> 1\u001b[1;33m \u001b[0mnomeCompleto\u001b[0m\u001b[1;33m.\u001b[0m\u001b[0mlen\u001b[0m\u001b[1;33m(\u001b[0m\u001b[1;33m)\u001b[0m\u001b[1;33m\u001b[0m\u001b[0m\n\u001b[0m",
      "\u001b[1;31mAttributeError\u001b[0m: 'dict' object has no attribute 'len'"
     ]
    }
   ],
   "source": [
    "nomeCompleto.len()"
   ]
  },
  {
   "cell_type": "code",
   "execution_count": 187,
   "metadata": {},
   "outputs": [
    {
     "data": {
      "text/plain": [
       "2"
      ]
     },
     "execution_count": 187,
     "metadata": {},
     "output_type": "execute_result"
    }
   ],
   "source": [
    "len(nomeCompleto)"
   ]
  },
  {
   "cell_type": "code",
   "execution_count": 188,
   "metadata": {},
   "outputs": [
    {
     "data": {
      "text/plain": [
       "dict_keys([1, 2])"
      ]
     },
     "execution_count": 188,
     "metadata": {},
     "output_type": "execute_result"
    }
   ],
   "source": [
    "nomeCompleto.keys()"
   ]
  },
  {
   "cell_type": "code",
   "execution_count": 189,
   "metadata": {},
   "outputs": [
    {
     "data": {
      "text/plain": [
       "dict_values(['Jeann', 'Câmara'])"
      ]
     },
     "execution_count": 189,
     "metadata": {},
     "output_type": "execute_result"
    }
   ],
   "source": [
    "nomeCompleto.values()"
   ]
  },
  {
   "cell_type": "code",
   "execution_count": 190,
   "metadata": {},
   "outputs": [
    {
     "data": {
      "text/plain": [
       "dict_items([(1, 'Jeann'), (2, 'Câmara')])"
      ]
     },
     "execution_count": 190,
     "metadata": {},
     "output_type": "execute_result"
    }
   ],
   "source": [
    "nomeCompleto.items()"
   ]
  },
  {
   "cell_type": "code",
   "execution_count": 194,
   "metadata": {},
   "outputs": [],
   "source": [
    "nomeCompleto.update({3:\"Rodrigues\"})"
   ]
  },
  {
   "cell_type": "code",
   "execution_count": 195,
   "metadata": {},
   "outputs": [
    {
     "data": {
      "text/plain": [
       "{1: 'Jeann', 2: 'Câmara', 3: 'Rodrigues'}"
      ]
     },
     "execution_count": 195,
     "metadata": {},
     "output_type": "execute_result"
    }
   ],
   "source": [
    "nomeCompleto"
   ]
  },
  {
   "cell_type": "code",
   "execution_count": 196,
   "metadata": {},
   "outputs": [],
   "source": [
    "nomeCompleto[4] = \"teste\""
   ]
  },
  {
   "cell_type": "code",
   "execution_count": 197,
   "metadata": {},
   "outputs": [
    {
     "data": {
      "text/plain": [
       "{1: 'Jeann', 2: 'Câmara', 3: 'Rodrigues', 4: 'teste'}"
      ]
     },
     "execution_count": 197,
     "metadata": {},
     "output_type": "execute_result"
    }
   ],
   "source": [
    "nomeCompleto"
   ]
  },
  {
   "cell_type": "code",
   "execution_count": 198,
   "metadata": {},
   "outputs": [],
   "source": [
    "nomeCompleto[\"teste\"] = \"teste2\""
   ]
  },
  {
   "cell_type": "code",
   "execution_count": 199,
   "metadata": {},
   "outputs": [
    {
     "data": {
      "text/plain": [
       "{1: 'Jeann', 2: 'Câmara', 3: 'Rodrigues', 4: 'teste', 'teste': 'teste2'}"
      ]
     },
     "execution_count": 199,
     "metadata": {},
     "output_type": "execute_result"
    }
   ],
   "source": [
    "nomeCompleto"
   ]
  },
  {
   "cell_type": "code",
   "execution_count": 200,
   "metadata": {},
   "outputs": [],
   "source": [
    "nomeCompleto.clear()"
   ]
  },
  {
   "cell_type": "code",
   "execution_count": 201,
   "metadata": {},
   "outputs": [],
   "source": [
    "nomeCompleto = {1:\"Jeann\", 2:\"Câmara\"}"
   ]
  },
  {
   "cell_type": "code",
   "execution_count": 202,
   "metadata": {},
   "outputs": [
    {
     "data": {
      "text/plain": [
       "{1: 'Jeann', 2: 'Câmara'}"
      ]
     },
     "execution_count": 202,
     "metadata": {},
     "output_type": "execute_result"
    }
   ],
   "source": [
    "nomeCompleto"
   ]
  },
  {
   "cell_type": "code",
   "execution_count": 228,
   "metadata": {},
   "outputs": [],
   "source": [
    "tupla1 = (\"Jeann\", \"Câmara\", 30)"
   ]
  },
  {
   "cell_type": "code",
   "execution_count": 204,
   "metadata": {},
   "outputs": [
    {
     "data": {
      "text/plain": [
       "('Jeann', 'Câmara', 30)"
      ]
     },
     "execution_count": 204,
     "metadata": {},
     "output_type": "execute_result"
    }
   ],
   "source": [
    "tupla1"
   ]
  },
  {
   "cell_type": "code",
   "execution_count": 205,
   "metadata": {},
   "outputs": [
    {
     "data": {
      "text/plain": [
       "3"
      ]
     },
     "execution_count": 205,
     "metadata": {},
     "output_type": "execute_result"
    }
   ],
   "source": [
    "len(tupla1)"
   ]
  },
  {
   "cell_type": "code",
   "execution_count": 206,
   "metadata": {},
   "outputs": [
    {
     "data": {
      "text/plain": [
       "('Câmara', 30)"
      ]
     },
     "execution_count": 206,
     "metadata": {},
     "output_type": "execute_result"
    }
   ],
   "source": [
    "tupla1[1:]"
   ]
  },
  {
   "cell_type": "code",
   "execution_count": 207,
   "metadata": {},
   "outputs": [
    {
     "data": {
      "text/plain": [
       "('Jeann', 'Câmara')"
      ]
     },
     "execution_count": 207,
     "metadata": {},
     "output_type": "execute_result"
    }
   ],
   "source": [
    "tupla1[:-1]"
   ]
  },
  {
   "cell_type": "code",
   "execution_count": 208,
   "metadata": {},
   "outputs": [
    {
     "data": {
      "text/plain": [
       "('Jeann', 'Câmara', 30)"
      ]
     },
     "execution_count": 208,
     "metadata": {},
     "output_type": "execute_result"
    }
   ],
   "source": [
    "tupla1[:]"
   ]
  },
  {
   "cell_type": "code",
   "execution_count": 210,
   "metadata": {},
   "outputs": [
    {
     "data": {
      "text/plain": [
       "1"
      ]
     },
     "execution_count": 210,
     "metadata": {},
     "output_type": "execute_result"
    }
   ],
   "source": [
    "tupla1.count(30)"
   ]
  },
  {
   "cell_type": "code",
   "execution_count": 211,
   "metadata": {},
   "outputs": [
    {
     "data": {
      "text/plain": [
       "2"
      ]
     },
     "execution_count": 211,
     "metadata": {},
     "output_type": "execute_result"
    }
   ],
   "source": [
    "tupla1.index(30)"
   ]
  },
  {
   "cell_type": "code",
   "execution_count": 212,
   "metadata": {},
   "outputs": [],
   "source": [
    "lista1 = list(tupla1)"
   ]
  },
  {
   "cell_type": "code",
   "execution_count": 213,
   "metadata": {},
   "outputs": [],
   "source": [
    "lista1.append(\"teste\")"
   ]
  },
  {
   "cell_type": "code",
   "execution_count": 214,
   "metadata": {},
   "outputs": [],
   "source": [
    "tupla1 = tuple(lista1)"
   ]
  },
  {
   "cell_type": "code",
   "execution_count": 225,
   "metadata": {},
   "outputs": [],
   "source": [
    "tupla1"
   ]
  },
  {
   "cell_type": "code",
   "execution_count": 230,
   "metadata": {},
   "outputs": [],
   "source": [
    "tupla1 = list(tupla1).append(\"teste2\")"
   ]
  },
  {
   "cell_type": "code",
   "execution_count": 217,
   "metadata": {},
   "outputs": [
    {
     "data": {
      "text/plain": [
       "tuple"
      ]
     },
     "execution_count": 217,
     "metadata": {},
     "output_type": "execute_result"
    }
   ],
   "source": [
    "type(tupla1)"
   ]
  },
  {
   "cell_type": "code",
   "execution_count": 218,
   "metadata": {},
   "outputs": [
    {
     "ename": "NameError",
     "evalue": "name 'tupla' is not defined",
     "output_type": "error",
     "traceback": [
      "\u001b[1;31m---------------------------------------------------------------------------\u001b[0m",
      "\u001b[1;31mNameError\u001b[0m                                 Traceback (most recent call last)",
      "\u001b[1;32m<ipython-input-218-5dbcc13828bc>\u001b[0m in \u001b[0;36m<module>\u001b[1;34m()\u001b[0m\n\u001b[1;32m----> 1\u001b[1;33m \u001b[0mtupla\u001b[0m\u001b[1;33m\u001b[0m\u001b[0m\n\u001b[0m",
      "\u001b[1;31mNameError\u001b[0m: name 'tupla' is not defined"
     ]
    }
   ],
   "source": [
    "tupla"
   ]
  },
  {
   "cell_type": "code",
   "execution_count": 231,
   "metadata": {},
   "outputs": [],
   "source": [
    "tupla1"
   ]
  },
  {
   "cell_type": "code",
   "execution_count": 251,
   "metadata": {},
   "outputs": [],
   "source": [
    "Teste_Dsa = open(\"Teste_Dsa.txt\", \"r\")"
   ]
  },
  {
   "cell_type": "code",
   "execution_count": 234,
   "metadata": {},
   "outputs": [
    {
     "data": {
      "text/plain": [
       "'Python é uma linguagem poderosa'"
      ]
     },
     "execution_count": 234,
     "metadata": {},
     "output_type": "execute_result"
    }
   ],
   "source": [
    "Teste_Dsa.read()"
   ]
  },
  {
   "cell_type": "code",
   "execution_count": 235,
   "metadata": {},
   "outputs": [
    {
     "data": {
      "text/plain": [
       "31"
      ]
     },
     "execution_count": 235,
     "metadata": {},
     "output_type": "execute_result"
    }
   ],
   "source": [
    "Teste_Dsa.tell()"
   ]
  },
  {
   "cell_type": "code",
   "execution_count": 237,
   "metadata": {},
   "outputs": [
    {
     "data": {
      "text/plain": [
       "0"
      ]
     },
     "execution_count": 237,
     "metadata": {},
     "output_type": "execute_result"
    }
   ],
   "source": [
    "Teste_Dsa.seek(0,0)"
   ]
  },
  {
   "cell_type": "code",
   "execution_count": 238,
   "metadata": {},
   "outputs": [
    {
     "data": {
      "text/plain": [
       "'Python é u'"
      ]
     },
     "execution_count": 238,
     "metadata": {},
     "output_type": "execute_result"
    }
   ],
   "source": [
    "Teste_Dsa.read(10)"
   ]
  },
  {
   "cell_type": "code",
   "execution_count": 247,
   "metadata": {},
   "outputs": [],
   "source": [
    "Teste_Dsa = open(\"Teste_Dsa.txt\", \"w\")"
   ]
  },
  {
   "cell_type": "code",
   "execution_count": 240,
   "metadata": {},
   "outputs": [
    {
     "ename": "UnsupportedOperation",
     "evalue": "not readable",
     "output_type": "error",
     "traceback": [
      "\u001b[1;31m---------------------------------------------------------------------------\u001b[0m",
      "\u001b[1;31mUnsupportedOperation\u001b[0m                      Traceback (most recent call last)",
      "\u001b[1;32m<ipython-input-240-0cabfb41e568>\u001b[0m in \u001b[0;36m<module>\u001b[1;34m()\u001b[0m\n\u001b[1;32m----> 1\u001b[1;33m \u001b[0mTeste_Dsa\u001b[0m\u001b[1;33m.\u001b[0m\u001b[0mread\u001b[0m\u001b[1;33m(\u001b[0m\u001b[1;33m)\u001b[0m\u001b[1;33m\u001b[0m\u001b[0m\n\u001b[0m",
      "\u001b[1;31mUnsupportedOperation\u001b[0m: not readable"
     ]
    }
   ],
   "source": [
    "Teste_Dsa.read()"
   ]
  },
  {
   "cell_type": "code",
   "execution_count": 243,
   "metadata": {},
   "outputs": [
    {
     "data": {
      "text/plain": [
       "16"
      ]
     },
     "execution_count": 243,
     "metadata": {},
     "output_type": "execute_result"
    }
   ],
   "source": [
    "Teste_Dsa.write(\"texto adicionado\")"
   ]
  },
  {
   "cell_type": "code",
   "execution_count": 245,
   "metadata": {},
   "outputs": [
    {
     "data": {
      "text/plain": [
       "<_io.TextIOWrapper name='Teste_Dsa.txt' mode='r' encoding='cp1252'>"
      ]
     },
     "execution_count": 245,
     "metadata": {},
     "output_type": "execute_result"
    }
   ],
   "source": [
    "Teste_Dsa"
   ]
  },
  {
   "cell_type": "code",
   "execution_count": 246,
   "metadata": {},
   "outputs": [
    {
     "data": {
      "text/plain": [
       "''"
      ]
     },
     "execution_count": 246,
     "metadata": {},
     "output_type": "execute_result"
    }
   ],
   "source": [
    "Teste_Dsa.read()"
   ]
  },
  {
   "cell_type": "code",
   "execution_count": 248,
   "metadata": {},
   "outputs": [
    {
     "data": {
      "text/plain": [
       "33"
      ]
     },
     "execution_count": 248,
     "metadata": {},
     "output_type": "execute_result"
    }
   ],
   "source": [
    "Teste_Dsa.write(\"Python é uma linguagem poderosa !\")"
   ]
  },
  {
   "cell_type": "code",
   "execution_count": 249,
   "metadata": {},
   "outputs": [],
   "source": [
    "Teste_Dsa.close()"
   ]
  },
  {
   "cell_type": "code",
   "execution_count": 252,
   "metadata": {},
   "outputs": [
    {
     "data": {
      "text/plain": [
       "'Python é uma linguagem poderosa !'"
      ]
     },
     "execution_count": 252,
     "metadata": {},
     "output_type": "execute_result"
    }
   ],
   "source": [
    "Teste_Dsa.read()"
   ]
  },
  {
   "cell_type": "code",
   "execution_count": 258,
   "metadata": {},
   "outputs": [],
   "source": [
    "Teste_Dsa = open(\"Teste_Dsa.txt\", \"a\")"
   ]
  },
  {
   "cell_type": "code",
   "execution_count": 259,
   "metadata": {},
   "outputs": [
    {
     "data": {
      "text/plain": [
       "16"
      ]
     },
     "execution_count": 259,
     "metadata": {},
     "output_type": "execute_result"
    }
   ],
   "source": [
    "Teste_Dsa.write(\"Texto adicionado\")"
   ]
  },
  {
   "cell_type": "code",
   "execution_count": 257,
   "metadata": {},
   "outputs": [
    {
     "data": {
      "text/plain": [
       "'Python é uma linguagem poderosa !'"
      ]
     },
     "execution_count": 257,
     "metadata": {},
     "output_type": "execute_result"
    }
   ],
   "source": []
  },
  {
   "cell_type": "code",
   "execution_count": 256,
   "metadata": {},
   "outputs": [],
   "source": []
  },
  {
   "cell_type": "code",
   "execution_count": 260,
   "metadata": {},
   "outputs": [],
   "source": [
    "Teste_Dsa.close()"
   ]
  },
  {
   "cell_type": "code",
   "execution_count": 261,
   "metadata": {},
   "outputs": [],
   "source": [
    "Teste_Dsa = open(\"Teste_Dsa.txt\", \"r\")"
   ]
  },
  {
   "cell_type": "code",
   "execution_count": 262,
   "metadata": {},
   "outputs": [
    {
     "data": {
      "text/plain": [
       "'Python é uma linguagem poderosa !Texto adicionado'"
      ]
     },
     "execution_count": 262,
     "metadata": {},
     "output_type": "execute_result"
    }
   ],
   "source": [
    "Teste_Dsa.read()"
   ]
  },
  {
   "cell_type": "code",
   "execution_count": 296,
   "metadata": {},
   "outputs": [
    {
     "name": "stdout",
     "output_type": "stream",
     "text": [
      "Digite o nome do arquivo: teste4\n"
     ]
    }
   ],
   "source": [
    "filename = input(\"Digite o nome do arquivo: \") + \".txt\""
   ]
  },
  {
   "cell_type": "code",
   "execution_count": 297,
   "metadata": {},
   "outputs": [
    {
     "data": {
      "text/plain": [
       "'teste4.txt'"
      ]
     },
     "execution_count": 297,
     "metadata": {},
     "output_type": "execute_result"
    }
   ],
   "source": [
    "filename"
   ]
  },
  {
   "cell_type": "code",
   "execution_count": 298,
   "metadata": {},
   "outputs": [],
   "source": [
    "filename = open(filename,\"w\")"
   ]
  },
  {
   "cell_type": "code",
   "execution_count": 299,
   "metadata": {},
   "outputs": [
    {
     "data": {
      "text/plain": [
       "15"
      ]
     },
     "execution_count": 299,
     "metadata": {},
     "output_type": "execute_result"
    }
   ],
   "source": [
    "filename.write(\"Texto do teste4\")"
   ]
  },
  {
   "cell_type": "code",
   "execution_count": 300,
   "metadata": {},
   "outputs": [],
   "source": [
    "filename.close()"
   ]
  },
  {
   "cell_type": "code",
   "execution_count": 301,
   "metadata": {},
   "outputs": [],
   "source": [
    "filename = open(filename.name, \"r\")"
   ]
  },
  {
   "cell_type": "code",
   "execution_count": 302,
   "metadata": {},
   "outputs": [
    {
     "data": {
      "text/plain": [
       "'Texto do teste4'"
      ]
     },
     "execution_count": 302,
     "metadata": {},
     "output_type": "execute_result"
    }
   ],
   "source": [
    "filename.read()"
   ]
  },
  {
   "cell_type": "code",
   "execution_count": 304,
   "metadata": {},
   "outputs": [],
   "source": [
    "salarios = open(\"salarios.csv\", \"r\")"
   ]
  },
  {
   "cell_type": "code",
   "execution_count": 305,
   "metadata": {},
   "outputs": [],
   "source": [
    "data = salarios.read()"
   ]
  },
  {
   "cell_type": "code",
   "execution_count": 306,
   "metadata": {},
   "outputs": [],
   "source": [
    "rows = data.split('\\n')"
   ]
  },
  {
   "cell_type": "code",
   "execution_count": 309,
   "metadata": {},
   "outputs": [
    {
     "data": {
      "text/plain": [
       "['Name,Position Title,Department,Employee Annual Salary',\n",
       " '\"AARON,  ELVIA J\",WATER RATE TAKER,WATER MGMNT,$88968.00',\n",
       " '\"AARON,  JEFFERY M\",POLICE OFFICER,POLICE,$80778.00',\n",
       " '\"AARON,  KARINA\",POLICE OFFICER,POLICE,$80778.00',\n",
       " '\"AARON,  KIMBERLEI R\",CHIEF CONTRACT EXPEDITER,GENERAL SERVICES,$84780.00',\n",
       " '\"ABAD JR,  VICENTE M\",CIVIL ENGINEER IV,WATER MGMNT,$104736.00',\n",
       " '\"ABARCA,  ANABEL\",ASST TO THE ALDERMAN,CITY COUNCIL,$70764.00',\n",
       " '\"ABARCA,  EMMANUEL\",GENERAL LABORER - DSS,STREETS & SAN,$40560.00',\n",
       " '\"ABBATACOLA,  ROBERT J\",ELECTRICAL MECHANIC,AVIATION,$91520.00',\n",
       " '\"ABBATEMARCO,  JAMES J\",FIRE ENGINEER,FIRE,$90456.00',\n",
       " '\"ABBATE,  TERRY M\",POLICE OFFICER,POLICE,$86520.00',\n",
       " '\"ABBOTT,  BETTY L\",FOSTER GRANDPARENT,FAMILY & SUPPORT,$2756.00',\n",
       " '\"ABBOTT,  LYNISE M\",CLERK III,POLICE,$43920.00',\n",
       " '\"ABBRUZZESE,  WILLIAM J\",INVESTIGATOR - IPRA II,IPRA,$72468.00',\n",
       " '\"ABDALLAH,  ZAID\",POLICE OFFICER,POLICE,$69684.00',\n",
       " '\"ABDELHADI,  ABDALMAHD\",POLICE OFFICER,POLICE,$80778.00',\n",
       " '\"ABDELLATIF,  AREF R\",FIREFIGHTER (PER ARBITRATORS AWARD)-PARAMEDIC,FIRE,$98244.00',\n",
       " '\"ABDELMAJEID,  AZIZ\",POLICE OFFICER,POLICE,$80778.00',\n",
       " '\"ABDOLLAHZADEH,  ALI\",FIREFIGHTER/PARAMEDIC,FIRE,$87720.00',\n",
       " '\"ABDUL-KARIM,  MUHAMMAD A\",ENGINEERING TECHNICIAN VI,WATER MGMNT,$106104.00',\n",
       " '\"ABDULLAH,  DANIEL N\",FIREFIGHTER-EMT,FIRE,$91764.00',\n",
       " '\"ABDULLAH,  KEVIN\",LIEUTENANT,FIRE,$110370.00',\n",
       " '\"ABDULLAH,  LAKENYA N\",CROSSING GUARD,POLICE,$16692.00',\n",
       " '\"ABDULLAH,  RASHAD J\",ELECTRICAL MECHANIC-AUTO-POLICE MTR MNT,GENERAL SERVICES,$91520.00',\n",
       " '\"ABDUL-SHAKUR,  TAHIR\",GENERAL LABORER - DSS,STREETS & SAN,$40560.00',\n",
       " '\"ABEJERO,  JASON V\",POLICE OFFICER,POLICE,$86520.00',\n",
       " '\"ABERCROMBIE IV,  EARL S\",PARAMEDIC,FIRE,$54114.00',\n",
       " '\"ABERCROMBIE,  TIMOTHY\",MOTOR TRUCK DRIVER,STREETS & SAN,$71780.80',\n",
       " '\"ABIOYE,  ADEWOLE A\",LIBRARY ASSOCIATE - HOURLY,PUBLIC LIBRARY,$24835.20',\n",
       " '\"ABOUELKHEIR,  HASSAN A\",SENIOR PROGRAMMER/ANALYST,DoIT,$104736.00',\n",
       " '\"ABRAHAM,  GIRLEY T\",CIVIL ENGINEER IV,WATER MGMNT,$104736.00',\n",
       " '\"ABRAHAM,  GODWIN K\",ENGINEERING TECHNICIAN V,BUSINESS AFFAIRS,$96672.00',\n",
       " '\"ABRAHAM,  NANCY A\",POLICE OFFICER,POLICE,$46206.00',\n",
       " '\"ABRAMAVICIUS,  ANNA A\",SUPERVISING TRAFFIC CONTROL AIDE,OEMC,$55800.00',\n",
       " '\"ABRAMS,  DANIELLE T\",SANITATION LABORER,STREETS & SAN,$72384.00',\n",
       " '\"ABRAMS,  HENRY L\",POLICE OFFICER,POLICE,$92316.00',\n",
       " '\"ABRAMSKI,  JOHN E\",AMBULANCE COMMANDER,FIRE,$123948.00',\n",
       " '\"ABRAMS,  SAMUEL A\",POOL MOTOR TRUCK DRIVER,STREETS & SAN,$16151.20',\n",
       " '\"ABRATANSKI,  MARK A\",FIREFIGHTER-EMT,FIRE,$85680.00',\n",
       " '\"ABREU,  DILAN\",SEWER BRICKLAYER,WATER MGMNT,$88566.40',\n",
       " '\"ABREU,  EDWIN\",TREE TRIMMER,STREETS & SAN,$74464.00',\n",
       " '\"ABREU,  ROBERTO J\",TRAFFIC SIGNAL REPAIRMAN,TRANSPORTN,$95888.04',\n",
       " '\"ABREU,  ROSITA\",PERSONAL COMPUTER OPERATOR III,HEALTH,$66684.00',\n",
       " '\"ABREU,  VICTOR\",SENIOR COMPANION,FAMILY & SUPPORT,$2756.00',\n",
       " '\"ABREU,  VICTOR\",FIREFIGHTER-EMT,FIRE,$95460.00',\n",
       " '\"ABRON,  FLOYD\",POLICE OFFICER,POLICE,$86520.00',\n",
       " '\"ABRONS,  KENNETH L\",ELECTRICAL MECHANIC,AVIATION,$91520.00',\n",
       " '\"ABSTON,  KATHY A\",POLICE OFFICER,POLICE,$89718.00',\n",
       " '\"ABUBAKER,  MOHAMMED G\",SENIOR ENVIRONMENTAL INSPECTOR,HEALTH,$76656.00',\n",
       " '\"ABUDAYEH,  ELIAS\",POLICE OFFICER,POLICE,$46206.00',\n",
       " '\"ABUHASHISH,  AWWAD\",PLUMBER,WATER MGMNT,$97032.00',\n",
       " '\"ABUTALEB,  AHMAD H\",CIVIL ENGINEER II,WATER MGMNT,$87912.00',\n",
       " '\"ABUZANAT,  ABDALLA H\",POLICE OFFICER (ASSIGNED AS EVIDENCE TECHNICIAN),POLICE,$90846.00',\n",
       " '\"ACCARDO,  ANTHONY D\",CONSTRUCTION LABORER,AVIATION,$79040.00',\n",
       " '\"ACCARDO,  JENNIFER A\",POLICE OFFICER,POLICE,$83616.00',\n",
       " '\"ACCARDO,  THOMAS J\",POLICE OFFICER,POLICE,$83616.00',\n",
       " '\"ACCIARI,  MICHAEL G\",DIVISION SUPERINTENDENT,STREETS & SAN,$106884.00',\n",
       " '\"ACCIARI,  NICHOLAS B\",MOTOR TRUCK DRIVER,STREETS & SAN,$72862.40',\n",
       " '\"ACCURSO,  MARY K\",ADMINISTRATIVE ASST,MAYOR\\'S OFFICE,$48000.00',\n",
       " '\"ACEVEDO,  AARON F\",POLICE OFFICER,POLICE,$80778.00',\n",
       " '\"ACEVEDO,  ALEJANDRO R\",POLICE OFFICER,POLICE,$80778.00',\n",
       " '\"ACEVEDO,  BIENVENIDO\",POLICE OFFICER,POLICE,$86520.00',\n",
       " '\"ACEVEDO,  CLARISSA\",POLICE OFFICER,POLICE,$92316.00',\n",
       " '\"ACEVEDO,  DAILHA\",COMMUNICABLE DISEASE CONTROL INVESTIGATOR II,HEALTH,$66684.00',\n",
       " '\"ACEVEDO,  EDWARD\",POLICE OFFICER,POLICE,$83616.00',\n",
       " '\"ACEVEDO,  EDWIN C\",FIREFIGHTER,FIRE,$90018.00',\n",
       " '\"ACEVEDO,  ERIC\",POLICE OFFICER,POLICE,$46206.00',\n",
       " '\"ACEVEDO,  GILBERT\",LIEUTENANT-EMT,FIRE,$117078.00',\n",
       " '\"ACEVEDO,  ILIA\",POLICE OFFICER,POLICE,$69684.00',\n",
       " '\"ACEVEDO,  JANETE\",POLICE OFFICER,POLICE,$80778.00',\n",
       " '\"ACEVEDO,  JASON M\",POLICE OFFICER,POLICE,$83616.00',\n",
       " '\"ACEVEDO,  JAVIER\",ASPHALT LABORER,TRANSPORTN,$79040.00',\n",
       " '\"ACEVEDO,  JEFF\",POLICE OFFICER,POLICE,$89718.00',\n",
       " '\"ACEVEDO,  LOUIS N\",MOTOR TRUCK DRIVER,GENERAL SERVICES,$71780.80',\n",
       " '\"ACEVEDO,  MANUEL A\",FIREFIGHTER,FIRE,$86520.00',\n",
       " '\"ACEVEDO,  MARCO A\",POLICE OFFICER (ASSIGNED AS DETECTIVE),POLICE,$93648.00',\n",
       " '\"ACEVEDO,  MARISOL\",SENIOR PUBLIC INFORMATION OFFICER,BUSINESS AFFAIRS,$84780.00',\n",
       " '\"ACEVEDO,  MARTIN J\",POLICE OFFICER,POLICE,$86520.00',\n",
       " '\"ACEVEDO,  MIKE\",AVIATION SECURITY OFFICER,AVIATION,$64188.00',\n",
       " '\"ACEVEDO,  NADINE M\",POLICE OFFICER,POLICE,$83616.00',\n",
       " '\"ACEVEDO,  RAFAEL\",POLICE OFFICER,POLICE,$83616.00',\n",
       " '\"ACEVES,  JUAN C\",POLICE OFFICER,POLICE,$83616.00',\n",
       " '\"ACEVEZ,  ANTHONY E\",POLICE OFFICER,POLICE,$86520.00',\n",
       " '\"ACHILLES,  AMBER L\",ASST CORPORATION COUNSEL SUPVSR,LAW,$91068.00',\n",
       " '\"ACHILLY,  LISA S\",POLICE OFFICER,POLICE,$86520.00',\n",
       " '\"ACHTEL,  SCOTT R\",FIREFIGHTER-EMT,FIRE,$91764.00',\n",
       " '\"ACKERMANN,  MICHAEL A\",PARAMEDIC,FIRE,$54114.00',\n",
       " '\"ACKLIN,  QIANA D\",CROSSING GUARD,POLICE,$16692.00',\n",
       " '\"ACOSTA,  JESSE A\",POLICE OFFICER,POLICE,$89718.00',\n",
       " '\"ACOSTA,  MARTHA A\",LIBRARY ASSOCIATE,PUBLIC LIBRARY,$66120.00',\n",
       " '\"ACOSTA,  MICHELE D\",POLICE OFFICER,POLICE,$86520.00',\n",
       " '\"ACOSTA,  PABLO S\",SANITATION LABORER,STREETS & SAN,$72384.00',\n",
       " '\"ACOSTA,  ROSA M\",PARKING ENFORCEMENT AIDE,AVIATION,$55800.00',\n",
       " '\"ACRES,  ANTHONY E\",CONSTRUCTION LABORER,GENERAL SERVICES,$79040.00',\n",
       " '\"ACSVECS,  ZAIREH\",POLICE OFFICER,POLICE,$80778.00',\n",
       " '\"ACUFF,  KRISTIN L\",ASST CORPORATION COUNSEL,LAW,$70380.00',\n",
       " '\"ADAIR,  KENNETH R\",POLICE OFFICER,POLICE,$83616.00',\n",
       " '\"ADAIR,  STEVEN\",SANITATION LABORER,STREETS & SAN,$72384.00',\n",
       " '\"ADAMCZYK JR,  JAN\",BOOTER - PARKING,FINANCE,$64812.80',\n",
       " '\"ADAMCZYK,  LAWRENCE M\",FIREFIGHTER,FIRE,$90018.00',\n",
       " '\"ADAME,  JORGE A\",MACHINIST (AUTOMOTIVE),GENERAL SERVICES,$92248.00',\n",
       " '\"ADAME,  PEDRO\",CUSTODIAL WORKER,AVIATION,$42369.60',\n",
       " '\"ADAMIAK,  SIMON P\",POLICE OFFICER,POLICE,$83616.00',\n",
       " '\"ADAMIK,  JEFFREY S\",POLICE OFFICER (ASSIGNED AS DETECTIVE),POLICE,$93648.00',\n",
       " '\"ADAMIK,  MATTHEW W\",PARAMEDIC I/C,FIRE,$87534.00',\n",
       " '\"ADAM,  MICHAEL A\",MOTOR TRUCK DRIVER,TRANSPORTN,$71780.80',\n",
       " '\"ADAMOW,  JEFFREY W\",FIREFIGHTER-EMT,FIRE,$85680.00',\n",
       " '\"ADAM,  RICHARD\",FOREMAN OF MOTOR TRUCK DRIVERS,STREETS & SAN,$75732.80',\n",
       " '\"ADAMS,  CRAIG W\",POLICE OFFICER,POLICE,$92316.00',\n",
       " '\"ADAMS,  DAVID E\",SPECIAL EVENTS COORD III,CULTURAL AFFAIRS,$77280.00',\n",
       " '\"ADAMS,  DEANIE M\",LIBRARIAN I,PUBLIC LIBRARY,$53796.00',\n",
       " '\"ADAMS,  DELRICE\",PROGRAM DEVELOPMENT COORD,HEALTH,$54492.00',\n",
       " '\"ADAMS,  DENIS H\",CLINICAL THERAPIST III,POLICE,$95880.00',\n",
       " '\"ADAMS,  DWAYNE D\",POLICE OFFICER,POLICE,$80778.00',\n",
       " '\"ADAMS EL,  WARREN\",CROSSING GUARD,POLICE,$18324.80',\n",
       " '\"ADAMS,  ERWIN\",ASPHALT LABORER,TRANSPORTN,$79040.00',\n",
       " '\"ADAMS,  EULA M\",DATA ENTRY OPERATOR,WATER MGMNT,$48168.00',\n",
       " '\"ADAMS,  GARY W\",SANITATION LABORER,STREETS & SAN,$72384.00',\n",
       " '\"ADAMS,  GREGORY M\",AVIATION SECURITY OFFICER,AVIATION,$61260.00',\n",
       " '\"ADAMS,  GREGORY W\",ADMINISTRATIVE ASST III,BUSINESS AFFAIRS,$73200.00',\n",
       " '\"ADAMS,  HAROLD\",CONCRETE LABORER,TRANSPORTN,$79040.00',\n",
       " '\"ADAMS,  JAMES W\",POLICE OFFICER (ASSIGNED AS DETECTIVE),POLICE,$97044.00',\n",
       " '\"ADAMS JR,  JERRY M\",POLICE OFFICER,POLICE,$89718.00',\n",
       " '\"ADAMS JR,  JOHN W\",FIREFIGHTER-EMT,FIRE,$85680.00',\n",
       " '\"ADAMSKI,  JERRY J\",POLICE OFFICER,POLICE,$83616.00',\n",
       " '\"ADAMSKI,  ROBERT\",POLICE OFFICER,POLICE,$69684.00',\n",
       " '\"ADAMS,  KRYSTA\",GENERAL LABORER - DSS,STREETS & SAN,$40560.00',\n",
       " '\"ADAMS,  LEAH\",ACCOUNTING TECHNICIAN II,COMMUNITY DEVELOPMENT,$60780.00',\n",
       " '\"ADAMS,  MARJORIE E\",LIBRARY PAGE,PUBLIC LIBRARY,$12407.20',\n",
       " '\"ADAMS,  MATTHEW\",POLICE OFFICER,POLICE,$46206.00',\n",
       " '\"ADAMS,  MAURICE R\",PROPERTY CUSTODIAN,POLICE,$63708.00',\n",
       " '\"ADAMS,  MICHAEL A\",POLICE OFFICER (ASSIGNED AS DETECTIVE),POLICE,$97044.00',\n",
       " '\"ADAMS,  MICHAEL J\",WATCHMAN,GENERAL SERVICES,$43950.40',\n",
       " '\"ADAMS,  OLIVIA I\",LEGAL SECRETARY,LAW,$80328.00',\n",
       " '\"ADAMS,  QUAN R\",POOL MOTOR TRUCK DRIVER,STREETS & SAN,$71780.80',\n",
       " '\"ADAMS,  QUENJANA\",INFORMATION COORD,HEALTH,$66564.00',\n",
       " '\"ADAMS,  RAYMOND T\",LIEUTENANT-EMT,FIRE,$109872.00',\n",
       " '\"ADAMS,  ROBERT L\",VENTILATION AND FURNACE INSPECTOR,BUILDINGS,$93288.00',\n",
       " '\"ADAMS,  ROSITA\",CROSSING GUARD - PER AGREEMENT,POLICE,$13790.40',\n",
       " '\"ADAMS,  RYAN\",POLICE OFFICER,POLICE,$80778.00',\n",
       " '\"ADAMS,  SHERYLL A\",LIBRARIAN IV,PUBLIC LIBRARY,$90948.00',\n",
       " '\"ADAMS,  STANLEY\",SUPVSR OF COMPENSATION,BUSINESS AFFAIRS,$88812.00',\n",
       " '\"ADAMS,  TANERA C\",CIVIL ENGINEER IV,TRANSPORTN,$104736.00',\n",
       " '\"ADAMS THOMAS,  CHEEAREASE R\",PUBLIC HEALTH ADMINISTRATOR I,HEALTH,$69888.00',\n",
       " '\"ADAMS,  TIMOTHY J\",POLICE OFFICER,POLICE,$86520.00',\n",
       " '\"ADAMS,  VICKY M\",POLICE OFFICER,POLICE,$86520.00',\n",
       " '\"ADAPON,  NENITA P\",ACCOUNTING TECHNICIAN I,FINANCE,$58020.00',\n",
       " '\"ADCOCK,  DAVID G\",POLICE OFFICER,POLICE,$83616.00',\n",
       " '\"ADCOCK,  MARK\",FOREMAN OF WINDOW WASHERS,AVIATION,$48963.20',\n",
       " '\"ADCOCK,  TOMMY W\",CONCRETE LABORER,TRANSPORTN,$79040.00',\n",
       " '\"ADDANTE,  VINCENZO\",POOL MOTOR TRUCK DRIVER,STREETS & SAN,$16151.20',\n",
       " '\"ADDISON,  LATASHA D\",LIBRARY CLERK - HOURLY,PUBLIC LIBRARY,$15995.20',\n",
       " '\"ADDISON,  LEWIS\",LIBRARY ASSOCIATE,PUBLIC LIBRARY,$66120.00',\n",
       " '\"ADDUCI,  MARK A\",LIEUTENANT,POLICE,$120264.00',\n",
       " '\"ADEBAYO,  BENJAMIN B\",BUILDING/CONSTRUCTION INSPECTOR,BUILDINGS,$107124.00',\n",
       " '\"ADEGBORE,  JUANITA\",POLICE OFFICER,POLICE,$86520.00',\n",
       " '\"ADE,  JAMES P\",POLICE OFFICER,POLICE,$80778.00',\n",
       " '\"ADE,  JAMES P\",SERGEANT,POLICE,$110370.00',\n",
       " '\"ADEKA,  IBILOLA I\",SUPERVISING DISEASE CONTROL INVESTIGATOR - EXCL,HEALTH,$70380.00',\n",
       " '\"ADELAKUN,  NIKTE E\",POLICE OFFICER,POLICE,$83616.00',\n",
       " '\"ADELIZZI,  JOY A\",DEPUTY COMMISSIONER,BUSINESS AFFAIRS,$116688.00',\n",
       " '\"ADELMAN,  BRUCE E\",LEGISLATIVE AIDE,CITY COUNCIL,$18999.96',\n",
       " '\"ADENI,  MOHAMED K\",ACCOUNTANT IV,FINANCE,$95880.00',\n",
       " '\"ADESANYA,  EMMANUEL S\",ENVIRONMENTAL ENGINEER II,HEALTH,$95880.00',\n",
       " '\"ADESOKAN,  ADENIKE\",LAW CLERK,LAW,$25152.40',\n",
       " '\"ADEWOLE,  KAREEM A\",LABORER - APPRENTICE,WATER MGMNT,$55328.00',\n",
       " '\"ADEYEMO,  HORATIO A\",CIVIL ENGINEER III,TRANSPORTN,$95880.00',\n",
       " '\"ADEYEMO,  MOJIROLA M\",PUBLIC HEALTH ADMINISTRATOR I,HEALTH,$66684.00',\n",
       " '\"ADKINS,  BRITTANY L\",ASST CORPORATION COUNSEL,LAW,$57192.00',\n",
       " '\"ADKINS,  KERRI M\",POLICE COMMUNICATIONS OPERATOR I,OEMC,$73764.00',\n",
       " '\"ADKINS,  MARC D\",POLICE OFFICER,POLICE,$92316.00',\n",
       " '\"ADKINS,  WILLIAM J\",FIRE COMMUNICATIONS OPERATOR II,OEMC,$92004.00',\n",
       " '\"ADLER,  LAURA R\",LIBRARY ASSOCIATE - HOURLY,PUBLIC LIBRARY,$24835.20',\n",
       " '\"ADLER,  TRACY L\",POLICE OFFICER,POLICE,$80778.00',\n",
       " '\"ADLESICK JR,  JOSEPH D\",POLICE OFFICER,POLICE,$86520.00',\n",
       " '\"ADOLFIE,  ELIZABETH U\",ADMINISTRATIVE ASST III,BUSINESS AFFAIRS,$69888.00',\n",
       " '\"ADOLFIE JR,  WALTER S\",POLICE OFFICER,POLICE,$89718.00',\n",
       " '\"ADREANI,  JOHN A\",POLICE OFFICER,POLICE,$89718.00',\n",
       " '\"ADREANI,  JOHN J\",FIRE ENGINEER-EMT,FIRE,$99324.00',\n",
       " '\"ADRIAN,  CHERI A\",SERGEANT,POLICE,$106920.00',\n",
       " '\"ADRIAN,  JOHN P\",ASST CHIEF AIRPORT OPERATIONS SUPVSR,AVIATION,$117528.00',\n",
       " '\"AEEK,  WUR D\",STUDENT INTERN,TRANSPORTN,$21840.00',\n",
       " '\"AFFANEH,  MAHIR A\",POLICE OFFICER,POLICE,$86520.00',\n",
       " '\"AGAR,  BULENT B\",COORDINATING ENGINEER I,WATER MGMNT,$103740.00',\n",
       " '\"AGEE,  LAWRENCE\",POLICE OFFICER,POLICE,$83616.00',\n",
       " '\"AGIN,  LAURA J\",POLICE OFFICER,POLICE,$92316.00',\n",
       " '\"AGNEW,  ANTONIO E\",POOL MOTOR TRUCK DRIVER,AVIATION,$71780.80',\n",
       " '\"AGOSTA,  JOSEPH J\",POLICE OFFICER (ASSIGNED AS DETECTIVE),POLICE,$99888.00',\n",
       " '\"AGOSTINELLI,  MICHAEL A\",FIREFIGHTER (PER ARBITRATORS AWARD),FIRE,$97044.00',\n",
       " '\"AGOSTO,  HECTOR I\",POLICE OFFICER,POLICE,$83616.00',\n",
       " '\"AGREDANO,  MARIO\",BRIDGE OPERATOR,TRANSPORTN,$55968.00',\n",
       " '\"AGRON,  EDUARDO\",SERGEANT,POLICE,$106920.00',\n",
       " '\"AGRON,  EDWIN\",POLICE OFFICER,POLICE,$83616.00',\n",
       " '\"AGSALUD,  FERNAN S\",SANITATION LABORER,STREETS & SAN,$72384.00',\n",
       " '\"AGSALUD JR,  JUANITO S\",SANITATION LABORER,STREETS & SAN,$72384.00',\n",
       " '\"AGUADA,  GILBERT GLENN\",POLICE OFFICER,POLICE,$69684.00',\n",
       " '\"AGUAS,  ALEX\",POLICE OFFICER,POLICE,$69684.00',\n",
       " '\"AGUAYO,  BRAULIO\",FIREFIGHTER,FIRE,$65946.00',\n",
       " '\"AGUAYO,  LUIS A\",FIREFIGHTER-EMT,FIRE,$85680.00',\n",
       " '\"AGUET,  PHILLIP R\",SENIOR EMERGENCY MANAGEMENT COORD,HEALTH,$63732.00',\n",
       " '\"AGUIAR,  WILLIAM M\",ASST CORPORATION COUNSEL SUPVSR,LAW,$106416.00',\n",
       " '\"AGUILAR,  ALFREDO\",DISTRICT SUPVSR - GRAFFITI REMOVAL SERVICES,STREETS & SAN,$92304.00',\n",
       " '\"AGUILAR,  EFRAIN\",SANITATION LABORER,STREETS & SAN,$72384.00',\n",
       " '\"AGUILAR,  ELMA M\",ANIMAL CARE AIDE I,ANIMAL CONTRL,$66684.00',\n",
       " '\"AGUILAR,  ESTHER\",COORD OF SPECIAL PROJECTS,HEALTH,$84780.00',\n",
       " '\"AGUILAR,  IRENE\",SANITATION CLERK,STREETS & SAN,$67344.00',\n",
       " '\"AGUILAR,  JESUS D\",PARAMEDIC I/C,FIRE,$79404.00',\n",
       " '\"AGUILAR,  JOSE CRUZ A\",SANITATION LABORER,STREETS & SAN,$72384.00',\n",
       " '\"AGUILAR,  JOSEPHINE\",FIREFIGHTER,FIRE,$90018.00',\n",
       " '\"AGUILAR,  JUANITA\",POOL MOTOR TRUCK DRIVER,AVIATION,$71780.80',\n",
       " '\"AGUILAR,  JUANITA M\",EDITORIAL ASST,CITY CLERK,$60780.00',\n",
       " '\"AGUILAR,  KARINA D\",SERGEANT,POLICE,$103590.00',\n",
       " '\"AGUILAR,  LOUIS\",SENIOR CLERK-ELECTIONS,BOARD OF ELECTION,$50472.00',\n",
       " '\"AGUILAR,  LUIS\",POLICE OFFICER,POLICE,$83616.00',\n",
       " '\"AGUILAR,  RAY R\",POLICE OFFICER,POLICE,$80778.00',\n",
       " '\"AGUILAR,  RICARDO L\",ANIMAL CONTROL OFFICER,ANIMAL CONTRL,$64188.00',\n",
       " '\"AGUILAR,  ROBERT\",MOTOR TRUCK DRIVER,STREETS & SAN,$71780.80',\n",
       " '\"AGUILAR,  ROBERT\",MOTOR TRUCK DRIVER,STREETS & SAN,$71780.80',\n",
       " '\"AGUILERA,  CONSUELO M\",SERGEANT,POLICE,$110370.00',\n",
       " '\"AGUILERA,  HORACIO\",POLICE OFFICER,POLICE,$46206.00',\n",
       " '\"AGUILERA,  JESUS\",SANITATION LABORER,STREETS & SAN,$72384.00',\n",
       " '\"AGUILERA,  JUAN A\",STREET LIGHT REPAIR WORKER,TRANSPORTN,$95888.04',\n",
       " '\"AGUILERA,  LINDA M\",POLICE OFFICER,POLICE,$83616.00',\n",
       " '\"AGUILERA,  MARIA C\",POLICE OFFICER,POLICE,$65946.00',\n",
       " '\"AGUILERA,  SAUL\",POLICE OFFICER,POLICE,$73296.00',\n",
       " '\"AGUILERA,  TONY\",MOTOR TRUCK DRIVER,STREETS & SAN,$71780.80',\n",
       " '\"AGUILOS,  CESAR M\",POLICE OFFICER,POLICE,$86520.00',\n",
       " '\"AGUINAGA,  JOHN P\",POLICE OFFICER,POLICE,$92316.00',\n",
       " '\"AGUINAGA,  JOSEPH C\",POLICE OFFICER,POLICE,$92316.00',\n",
       " '\"AGUINAGA,  MEGAN E\",POLICE OFFICER,POLICE,$80778.00',\n",
       " '\"AGUIRRE,  ALEX\",SANITATION LABORER,STREETS & SAN,$72384.00',\n",
       " '\"AGUIRRE,  ANTHONY J\",POLICE OFFICER,POLICE,$86520.00',\n",
       " '\"AGUIRRE,  ENRIQUE\",POLICE OFFICER,POLICE,$80778.00',\n",
       " '\"AGUIRRE,  GUADALUPE\",ADMINISTRATIVE SERVICES OFFICER II,TRANSPORTN,$88812.00',\n",
       " '\"AGUIRRE,  GUADALUPE G\",POLICE OFFICER,POLICE,$80778.00',\n",
       " '\"AGUIRRE,  JOSEPH R\",POLICE OFFICER (ASSIGNED AS DETECTIVE),POLICE,$99888.00',\n",
       " '\"AGUIRRE,  JUAN M\",POLICE OFFICER (ASSIGNED AS EVIDENCE TECHNICIAN),POLICE,$94236.00',\n",
       " '\"AGUIRRE,  PABLO\",POLICE OFFICER,POLICE,$80778.00',\n",
       " '\"AGUIRRE,  RAMIRO\",POLICE OFFICER,POLICE,$80778.00',\n",
       " '\"AGUIRRE,  ROBERT J\",LOAD DISPATCHER,TRANSPORTN,$95888.04',\n",
       " '\"AGUIRRE,  TANYA L\",POLICE OFFICER,POLICE,$92316.00',\n",
       " '\"AGYEKUM,  KOFI\",PROGRAMMER/ANALYST,BUSINESS AFFAIRS,$87912.00',\n",
       " '\"AHARANWA,  ALEXANDER E\",LIBRARIAN I,PUBLIC LIBRARY,$72840.00',\n",
       " '\"AHEARN,  DORY E\",POLICE OFFICER,POLICE,$86520.00',\n",
       " '\"AHERN,  MICHAEL J\",FIRE ENGINEER-EMT,FIRE,$99324.00',\n",
       " '\"AHERN,  PATRICIA\",ALDERMANIC AIDE,CITY COUNCIL,$23400.00',\n",
       " '\"AHERN,  PATRICK J\",FIREFIGHTER,FIRE,$86520.00',\n",
       " '\"AHERN,  SCOTT E\",POLICE OFFICER,POLICE,$89718.00',\n",
       " '\"AHLGRIM,  MICHAEL L\",FIREFIGHTER,FIRE,$65946.00',\n",
       " '\"AHLHEIM,  MARGARET L\",LIEUTENANT-EMT,FIRE,$106524.00',\n",
       " '\"AHMAD,  FADI M\",POLICE OFFICER,POLICE,$80778.00',\n",
       " '\"AHMAD,  FAROOQ\",LABORER,AVIATION,$67329.60',\n",
       " '\"AHMAD,  HOORYA\",ASST CORPORATION COUNSEL,LAW,$61980.00',\n",
       " '\"AHMAD,  SARWAT\",LIBRARY CLERK - HOURLY,PUBLIC LIBRARY,$15995.20',\n",
       " '\"AHMED,  AMMAR E\",DIR OF INFORMATION SYSTEMS,INSPECTOR GEN,$105828.00',\n",
       " '\"AHMED,  KHALID\",CHIEF PROGRAMMER/ANALYST,WATER MGMNT,$110352.00',\n",
       " '\"AHMED,  MOHAMMAD A\",PARKING ENFORCEMENT AIDE,FINANCE,$53292.00',\n",
       " '\"AHMED,  NAFEES\",DEPUTY COMMISSIONER,AVIATION,$120444.00',\n",
       " '\"AHMED,  QUAZI S\",CRIMINAL HISTORY ANALYST,POLICE,$80328.00',\n",
       " '\"AHMED,  RIZWANA P\",SENIOR RESEARCH ANALYST,COMMUNITY DEVELOPMENT,$80424.00',\n",
       " '\"AHMED,  SHAHRUKH Z\",DATA ENTRY OPERATOR,TRANSPORTN,$45972.00',\n",
       " '\"AHMED,  SYED\",FIELD SERVICE SPECIALIST II,TRANSPORTN,$52836.00',\n",
       " '\"AHMED,  WAJIH\",AUDITOR I,FINANCE,$52116.00',\n",
       " '\"AHUILE,  CECILIA T\",LEGISLATIVE AIDE,CITY COUNCIL,$44004.00',\n",
       " '\"AICH,  ABRAHAM A\",POLICE OFFICER,POLICE,$83616.00',\n",
       " '\"AIKENS,  BRADLEY K\",CAPTAIN-EMT,FIRE,$131466.00',\n",
       " '\"AIKENS,  CATHERINE\",PERSONAL COMPUTER OPERATOR I,POLICE,$48168.00',\n",
       " '\"AIKENS,  CLORA M\",PUBLIC HEALTH NURSE IV,HEALTH,$101076.00',\n",
       " '\"AIKENS,  JANET S\",MEDICAL X-RAY TECHNOLOGIST,HEALTH,$60780.00',\n",
       " '\"AIKIN JR,  LAWRENCE J\",POLICE OFFICER,POLICE,$86520.00',\n",
       " '\"AILLON,  EDMUNDO R\",POLICE OFFICER,POLICE,$83616.00',\n",
       " '\"AIMERS,  JAMES\",POLICE OFFICER,POLICE,$65946.00',\n",
       " '\"AINUDDIN,  SAL N\",MOTOR TRUCK DRIVER,AVIATION,$71780.80',\n",
       " '\"AINUDDIN,  ZAHID N\",MOTOR TRUCK DRIVER,STREETS & SAN,$71780.80',\n",
       " '\"AJIBODU,  LINDA\",TITLE V PROGRAM TRAINEE I,FAMILY & SUPPORT,$8580.00',\n",
       " '\"AJZYK,  EDWARD G\",PRINCIPAL CLERK-ELECTIONS,BOARD OF ELECTION,$67872.00',\n",
       " '\"AKANA,  MARK S\",POLICE OFFICER/EXPLSV DETECT K9 HNDLR,POLICE,$94236.00',\n",
       " '\"AKERS,  AMY A\",EXECUTIVE SECRETARY I,LAW,$47904.00',\n",
       " '\"AKERS,  DEREC A\",FIREFIGHTER-EMT,FIRE,$91764.00',\n",
       " '\"AKERSON,  WILLIE L\",POLICE OFFICER,POLICE,$89718.00',\n",
       " '\"AKHTAR,  SAEED\",ASST CITY TREASURER,TREASURER,$85020.00',\n",
       " '\"AKHTAR,  SYED J\",OPERATING ENGINEER-GROUP A,GENERAL SERVICES,$98675.20',\n",
       " '\"AKINBUSUYI,  AYOKUNLE\",POLICE OFFICER,POLICE,$80778.00',\n",
       " '\"AKINDE,  OLATOKUNBO\",LAW CLERK,LAW,$25152.40',\n",
       " '\"AKINLEMIBOLA,  GRACE O\",ADMINISTRATIVE ASST,MAYOR\\'S OFFICE,$65004.00',\n",
       " '\"AKINS,  DARYL\",POLICE OFFICER,POLICE,$92316.00',\n",
       " '\"AKINS,  KIMBERLY L\",POLICE OFFICER,POLICE,$83616.00',\n",
       " '\"AKINS,  LISA\",SANITATION LABORER,STREETS & SAN,$72384.00',\n",
       " '\"AKINS,  LOU ANN\",POOL MOTOR TRUCK DRIVER,TRANSPORTN,$71780.80',\n",
       " '\"AKINS,  MONICA E\",POLICE OFFICER,POLICE,$80778.00',\n",
       " '\"AKINS,  ROBIN G\",POLICE OFFICER,POLICE,$80778.00',\n",
       " '\"ALAGNA,  ANTHONY J\",POLICE COMMUNICATIONS OPERATOR I,OEMC,$70404.00',\n",
       " '\"ALAGNA,  STEVEN O\",POLICE OFFICER,POLICE,$89718.00',\n",
       " '\"ALAGNO,  THOMAS\",POLICE OFFICER,POLICE,$69684.00',\n",
       " '\"AL AMIN,  HASAN M\",POLICE OFFICER,POLICE,$86520.00',\n",
       " '\"AL AMIN,  HASSAN\",POLICE OFFICER,POLICE,$89718.00',\n",
       " '\"AL AMIN,  MAHASIN I\",COMMUNICABLE DISEASE CONTROL INVESTIGATOR II,HEALTH,$80328.00',\n",
       " '\"AL AMIN,  RASHEEDAH K\",SENIOR COMPANION,FAMILY & SUPPORT,$2756.00',\n",
       " '\"ALAM,  MOHAMMAD H\",WATER CHEMIST IV,WATER MGMNT,$95880.00',\n",
       " '\"ALAMO,  ROBERTO G\",FIREFIGHTER,FIRE,$80778.00',\n",
       " '\"ALAM,  SYED S\",ACCOUNTANT II,FINANCE,$80424.00',\n",
       " '\"ALANIS,  JOSE E\",POLICE OFFICER (ASSIGNED AS DETECTIVE),POLICE,$97044.00',\n",
       " '\"ALANIS,  OSCAR\",MACHINIST (AUTOMOTIVE),GENERAL SERVICES,$92248.00',\n",
       " '\"ALANIS,  ROBERT\",POLICE OFFICER,POLICE,$89718.00',\n",
       " '\"ALANIZ,  BRIAN\",POLICE OFFICER,POLICE,$83616.00',\n",
       " '\"ALANIZ,  CHERI\",POLICE OFFICER,POLICE,$69684.00',\n",
       " '\"ALANIZ,  ELIZABETH\",POLICE OFFICER,POLICE,$83616.00',\n",
       " '\"ALANIZ,  MICHAEL R\",POLICE OFFICER,POLICE,$83616.00',\n",
       " '\"ALANIZ,  ROBERT A\",CUSTODIAL WORKER,AVIATION,$42369.60',\n",
       " '\"ALANIZ,  SANDRA\",ADMINISTRATIVE ASST III,FIRE,$66684.00',\n",
       " '\"ALANZO,  SHARON\",PUBLIC HEALTH NURSE I,HEALTH,$90468.00',\n",
       " '\"ALARCON,  LUIS J\",LOAN PROCESSING SPECIALIST,COMMUNITY DEVELOPMENT,$80328.00',\n",
       " '\"ALATORRE,  FRANK J\",POLICE OFFICER,POLICE,$80778.00',\n",
       " '\"ALBAKRI,  FARES\",POLICE OFFICER,POLICE,$46206.00',\n",
       " '\"ALBANO,  MARC N\",FIREFIGHTER,FIRE,$65946.00',\n",
       " '\"ALBARILLO,  VERBENA S\",PUBLIC HEALTH NUTRITIONIST III,HEALTH,$67308.00',\n",
       " '\"ALBARRAN,  ALBERTO S\",POLICE OFFICER,POLICE,$89718.00',\n",
       " '\"ALBARRAN,  FABIAN\",FIREFIGHTER-EMT,FIRE,$88680.00',\n",
       " '\"ALBARRAN,  FRANK J\",COORDINATING FIRE COMMUNICATIONS OPERATOR,OEMC,$114608.04',\n",
       " '\"ALBA,  SAUL B\",MOTOR TRUCK DRIVER,STREETS & SAN,$71780.80',\n",
       " '\"ALBERT,  DAMIAN\",FINANCIAL PLANNING ANALYST,COMMUNITY DEVELOPMENT,$79464.00',\n",
       " '\"ALBERT,  DONNA\",POLICE OFFICER,POLICE,$69684.00',\n",
       " '\"ALBERT,  LOUIS\",SANITATION LABORER,STREETS & SAN,$62608.00',\n",
       " '\"ALBERTS,  DONNA M\",REVENUE INVESTIGATOR II,BUSINESS AFFAIRS,$84072.00',\n",
       " '\"ALBERTS,  RICHARD A\",FIREFIGHTER,FIRE,$90018.00',\n",
       " '\"ALBIN,  RAYMOND M\",EQUIPMENT DISPATCHER,GENERAL SERVICES,$73028.80',\n",
       " '\"ALBRECHT,  DANIEL R\",MACHINIST (AUTOMOTIVE),GENERAL SERVICES,$92248.00',\n",
       " '\"ALBRECHT,  DAWN M\",POLICE OFFICER / FLD TRNG OFFICER,POLICE,$84858.00',\n",
       " '\"ALBRIGHT,  KEITH E\",FIRE ENGINEER-EMT,FIRE,$99324.00',\n",
       " '\"ALBRITTON,  JOSEPH A\",DEPUTY COMMISSIONER,DISABILITIES,$96768.00',\n",
       " '\"ALCALA,  DAVID A\",POLICE OFFICER,POLICE,$83616.00',\n",
       " '\"ALCALA,  JOSE P\",CONSTRUCTION LABORER,WATER MGMNT,$79040.00',\n",
       " '\"ALCALA,  RUBEN\",SANITATION LABORER,STREETS & SAN,$72384.00',\n",
       " '\"ALCANTARA,  ELIZABETH\",POLICE COMMUNICATIONS OPERATOR I,OEMC,$61260.00',\n",
       " '\"ALCANTARA,  JOVITA L\",CROSSING GUARD,POLICE,$17492.80',\n",
       " '\"ALCANTAR,  CELIA\",ACCOUNTING TECHNICIAN III,HEALTH,$80328.00',\n",
       " '\"ALCANTAR,  RAMIRO\",TRAFFIC CONTROL AIDE-HOURLY,OEMC,$19656.00',\n",
       " '\"ALCARAZ,  ANGEL G\",ASST CORPORATION COUNSEL,LAW,$57192.00',\n",
       " '\"ALCAZAR,  ANTOINETTE\",POLICE OFFICER,POLICE,$80778.00',\n",
       " '\"ALCAZAR,  DAVID E\",POLICE OFFICER,POLICE,$80778.00',\n",
       " '\"ALCAZAR,  GUADALUPE R\",PUBLIC HEALTH NURSE II,HEALTH,$94932.00',\n",
       " '\"ALCAZAR,  VICTOR A\",POLICE OFFICER,POLICE,$86520.00',\n",
       " '\"ALCOCK,  EMILIE K\",LIBRARY ASSOCIATE - HOURLY,PUBLIC LIBRARY,$24835.20',\n",
       " '\"ALCOZER,  JOSEPH\",TRAFFIC SIGNAL REPAIRMAN,TRANSPORTN,$95888.04',\n",
       " '\"ALDAHONDO,  GIL A\",POLICE OFFICER,POLICE,$80778.00',\n",
       " '\"ALDANA,  CARLOS J\",POLICE OFFICER,POLICE,$83616.00',\n",
       " '\"ALDANA,  J F\",CONSTRUCTION LABORER,WATER MGMNT,$79040.00',\n",
       " '\"ALDAY,  MARTHA S\",POLICE OFFICER,POLICE,$92316.00',\n",
       " '\"ALDERDEN,  JACOB M\",SERGEANT,POLICE,$100440.00',\n",
       " '\"ALDRICH,  JEFFREY S\",POLICE OFFICER (ASSIGNED AS DETECTIVE),POLICE,$93648.00',\n",
       " '\"ALDRIDGE,  JENNIFER L\",POLICE OFFICER,POLICE,$89718.00',\n",
       " '\"ALDWORTH,  JAMES P\",FIREFIGHTER,FIRE,$86520.00',\n",
       " '\"ALEGADO,  ROBERTO S\",POLICE OFFICER,POLICE,$86520.00',\n",
       " '\"ALEGADO,  SAMUEL M\",OPERATING ENGINEER-GROUP C,AVIATION,$93745.60',\n",
       " '\"ALEGRE,  DAVID\",POLICE OFFICER,POLICE,$69684.00',\n",
       " '\"ALEGRIA,  ARTURO M\",POLICE OFFICER,POLICE,$46206.00',\n",
       " '\"ALEJANDRE,  ROCKY J\",MOTOR TRUCK DRIVER,TRANSPORTN,$71780.80',\n",
       " '\"ALEJANDRO,  JESSE\",POLICE OFFICER,POLICE,$65946.00',\n",
       " '\"ALEJO,  LUIS F\",POLICE OFFICER,POLICE,$89718.00',\n",
       " '\"ALEMAN,  GEORGE\",FIREFIGHTER-EMT,FIRE,$85680.00',\n",
       " '\"ALEMAN,  JESUS\",PLUMBER,WATER MGMNT,$97032.00',\n",
       " '\"ALEQUIN,  ANA I\",PROPERTY CUSTODIAN,POLICE,$66684.00',\n",
       " '\"ALESIA,  JOSEPH\",AIRPORT MANAGER - O\\'HARE,AVIATION,$84180.00',\n",
       " '\"ALESSI,  CHRISTINE L\",POLICE OFFICER,POLICE,$83616.00',\n",
       " '\"ALESSI,  ROBERT W\",FIREFIGHTER,FIRE,$65946.00',\n",
       " '\"ALESZCZYK,  ADAM S\",POLICE TECHNICIAN,POLICE,$87780.00',\n",
       " '\"ALEXA,  MICHELENE A\",SERGEANT,POLICE,$106920.00',\n",
       " '\"ALEXANDER,  BRENDA\",CROSSING GUARD,POLICE,$22131.20',\n",
       " '\"ALEXANDER,  CLEMMIE\",LABORER,TRANSPORTN,$79040.00',\n",
       " '\"ALEXANDER,  CONRAD E\",POLICE OFFICER (ASSIGNED AS DETECTIVE),POLICE,$93648.00',\n",
       " '\"ALEXANDER,  DANA\",DEPUTY CHIEF,POLICE,$170112.00',\n",
       " '\"ALEXANDER,  DARIUS Q\",POLICE OFFICER,POLICE,$80778.00',\n",
       " '\"ALEXANDER,  DARLENE\",POLICE OFFICER,POLICE,$86520.00',\n",
       " '\"ALEXANDER,  DORIS A\",CROSSING GUARD,POLICE,$18324.80',\n",
       " '\"ALEXANDER,  EARL\",DETENTION AIDE,POLICE,$64188.00',\n",
       " '\"ALEXANDER,  JAMES P\",AMBULANCE COMMANDER,FIRE,$120264.00',\n",
       " '\"ALEXANDER JR,  GENE I\",POLICE OFFICER,POLICE,$86520.00',\n",
       " '\"ALEXANDER,  KEVIN\",PLUMBER,WATER MGMNT,$97032.00',\n",
       " '\"ALEXANDER,  KIMBERLY T\",POLICE OFFICER,POLICE,$89718.00',\n",
       " '\"ALEXANDER,  LARRON H\",POLICE OFFICER,POLICE,$83616.00',\n",
       " '\"ALEXANDER,  LORIE J\",CROSSING GUARD,POLICE,$17492.80',\n",
       " '\"ALEXANDER,  MARK A\",SANITATION LABORER,STREETS & SAN,$72384.00',\n",
       " '\"ALEXANDER,  MARY F\",FOSTER GRANDPARENT,FAMILY & SUPPORT,$2756.00',\n",
       " '\"ALEXANDER,  MICHAEL A\",CAPTAIN,POLICE,$134820.00',\n",
       " '\"ALEXANDER,  PATRICIA L\",PARKING ENFORCEMENT AIDE,FINANCE,$46380.00',\n",
       " '\"ALEXANDER,  RACQUEL L\",TRAFFIC ENFORCEMENT TECH,FINANCE,$31740.00',\n",
       " '\"ALEXANDER,  ROCHELLE D\",CROSSING GUARD,POLICE,$20092.80',\n",
       " '\"ALEXANDER,  ROSS J\",POLICE OFFICER,POLICE,$80778.00',\n",
       " '\"ALEXANDER,  SAMUEL M\",FIELD SERVICE SPECIALIST III,TRANSPORTN,$84888.00',\n",
       " '\"ALEXANDER,  SARAH B\",LIBRARIAN I,PUBLIC LIBRARY,$53796.00',\n",
       " '\"ALEXANDER,  VERONICA J\",SANITATION LABORER,STREETS & SAN,$72384.00',\n",
       " '\"ALEXANDER,  WENDY R\",RECRUITER,HUMAN RESOURCES,$69888.00',\n",
       " '\"ALEXE,  ELENA\",POLICE OFFICER,POLICE,$86520.00',\n",
       " '\"ALFANO,  ANTHONY\",STAFF ASST TO THE ALDERMAN,CITY COUNCIL,$52980.00',\n",
       " '\"AL FARAH,  TENA A\",POLICE OFFICER,POLICE,$69684.00',\n",
       " '\"ALFARO,  HECTOR\",POLICE OFFICER,POLICE,$86520.00',\n",
       " '\"ALFARO,  JOSEPHJAM S\",POLICE OFFICER,POLICE,$80778.00',\n",
       " '\"ALFARO,  JOSEPH S\",POLICE OFFICER,POLICE,$83616.00',\n",
       " '\"ALFARO JR,  BERNARDO\",AVIATION SECURITY OFFICER,AVIATION,$77220.00',\n",
       " '\"ALFERES,  GERARDO F\",SUPERVISING VIDEOGRAPHER,BUSINESS AFFAIRS,$73752.00',\n",
       " '\"ALFICH,  FRED T\",HOISTING ENGINEER,WATER MGMNT,$97968.00',\n",
       " '\"ALFICH,  SCOTT\",HOISTING ENGINEER,WATER MGMNT,$97968.00',\n",
       " '\"ALFINI,  PAUL R\",POLICE OFFICER (ASSIGNED AS DETECTIVE),POLICE,$97044.00',\n",
       " '\"ALFRED,  BRENDA L\",SANITATION CLERK,STREETS & SAN,$61356.00',\n",
       " '\"ALFRED,  SANDRA L\",EXECUTIVE DIR OF ANIMAL CARE AND CONTROL,ANIMAL CONTRL,$138420.00',\n",
       " '\"ALFRED,  TIARA M\",CUSTODIAL WORKER,AVIATION,$26936.00',\n",
       " '\"ALGARIN,  JOEL S\",POLICE OFFICER,POLICE,$83616.00',\n",
       " '\"ALGAS,  JONATHAN T\",FIREFIGHTER-EMT,FIRE,$88680.00',\n",
       " '\"ALGHINI,  LISA M\",POLICE OFFICER,POLICE,$83616.00',\n",
       " '\"ALGHINI,  RICHARD\",POLICE OFFICER,POLICE,$83616.00',\n",
       " '\"AL GHOLEH,  HASAN M\",PROJECT MANAGER - BUILDINGS,BUILDINGS,$104736.00',\n",
       " '\"AL HAJJE,  MOHAMAD H\",FILTRATION ENGINEER IV,WATER MGMNT,$104736.00',\n",
       " '\"ALI,  ARMANDA\",CROSSING GUARD,POLICE,$18324.80',\n",
       " '\"ALIASI,  ERMINIO\",CONSTRUCTION LABORER,WATER MGMNT,$79040.00',\n",
       " '\"ALI,  BILAL R\",POLICE OFFICER,POLICE,$86520.00',\n",
       " '\"ALICEA,  ANGEL R\",OPERATING ENGINEER-GROUP A,AVIATION,$98675.20',\n",
       " '\"ALICEA,  JOSE L\",MOTOR TRUCK DRIVER,TRANSPORTN,$71780.80',\n",
       " '\"ALICEA JR,  FELIX\",LABORER,AVIATION,$67329.60',\n",
       " '\"ALICEA,  ROSITA M\",FIRE COMMUNICATIONS OPERATOR I,OEMC,$49272.00',\n",
       " '\"ALICEA,  VILMA R\",COMMUNICABLE DISEASE CONTROL INVESTIGATOR II,HEALTH,$66684.00',\n",
       " '\"ALI,  FARI\",SANITATION LABORER,STREETS & SAN,$72384.00',\n",
       " '\"ALI,  JAVED\",POLICE OFFICER,POLICE,$80778.00',\n",
       " '\"ALI  KELLEY,  YASMINE M\",MANAGER OF POLICE PAYROLLS,POLICE,$97728.00',\n",
       " '\"ALI,  MEER I\",POLICE OFFICER,POLICE,$86520.00',\n",
       " '\"ALI,  MOHAMMED\",POLICE OFFICER,POLICE,$80778.00',\n",
       " '\"ALINOVICH,  PETER A\",OPERATING ENGINEER-GROUP A,GENERAL SERVICES,$98675.20',\n",
       " '\"ALIOTO,  ROCCO J\",POLICE OFFICER,POLICE,$86520.00',\n",
       " '\"ALI,  SYED H\",CONSTRUCTION LABORER,WATER MGMNT,$79040.00',\n",
       " '\"ALI,  SYED S\",POLICE CADET,POLICE,$9360.00',\n",
       " '\"ALLAIN,  CAROLYN\",SENIOR TELECOMMUNICATIONS SPECIALIST,DoIT,$84072.00',\n",
       " '\"ALLEE,  MATTHEW L\",STAFF ASST TO THE ALDERMAN,CITY COUNCIL,$54288.00',\n",
       " '\"ALLEGRETTI,  ANTHONY\",FIRE ENGINEER-EMT,FIRE,$105918.00',\n",
       " '\"ALLEGRINI,  NICK\",CEMENT FINISHER,TRANSPORTN,$93808.00',\n",
       " '\"ALLEMAN,  ROBERT R\",OPERATING ENGINEER-GROUP A,WATER MGMNT,$98675.20',\n",
       " '\"ALLEN,  ACHEN J\",LIBRARY PAGE,PUBLIC LIBRARY,$12407.20',\n",
       " '\"ALLEN,  ALPHONSO J\",PARAMEDIC,FIRE,$83616.00',\n",
       " '\"ALLEN,  ANDRE G\",FIREFIGHTER,FIRE,$90018.00',\n",
       " '\"ALLEN,  ANNETTE D\",CLERK IV,POLICE,$60780.00',\n",
       " '\"ALLEN,  ANTONIO W\",EXPLOSIVES TECHNICIAN I,POLICE,$103590.00',\n",
       " '\"ALLEN,  CLINTON S\",DISABILITY SPECIALIST II,DISABILITIES,$80424.00',\n",
       " '\"ALLEN,  CRAIG M\",FIRE ENGINEER-EMT,FIRE,$99324.00',\n",
       " '\"ALLEN,  DALPHINE\",WATCHMAN,GENERAL SERVICES,$43950.40',\n",
       " '\"ALLEN,  DANIEL H\",SERGEANT,POLICE,$106920.00',\n",
       " '\"ALLEN,  DANIEL J\",FIREFIGHTER,FIRE,$90018.00',\n",
       " '\"ALLEN,  DAVID\",POLICE OFFICER,POLICE,$83616.00',\n",
       " '\"ALLEN,  DEBORAH A\",POLICE OFFICER,POLICE,$86520.00',\n",
       " '\"ALLEN,  DENOTRA\",POLICE OFFICER,POLICE,$89718.00',\n",
       " '\"ALLEN,  DERRICK\",FIREFIGHTER-EMT,FIRE,$91764.00',\n",
       " '\"ALLEN,  DERRICK D\",POLICE AGENT,POLICE,$94236.00',\n",
       " '\"ALLEN,  DOMINIQUE\",POLICE OFFICER,POLICE,$46206.00',\n",
       " '\"ALLEN,  DONNIE\",TRAFFIC CONTROL AIDE-HOURLY,OEMC,$19656.00',\n",
       " '\"ALLEN,  DOROTHY M\",CROSSING GUARD,POLICE,$17492.80',\n",
       " '\"ALLEN,  ELIZABETH\",ACCOUNTANT I,TREASURER,$72840.00',\n",
       " '\"ALLEN,  GLORIA\",POLICE OFFICER,POLICE,$89718.00',\n",
       " '\"ALLEN,  GORDON K\",POLICE OFFICER,POLICE,$89718.00',\n",
       " '\"ALLEN,  HENRY C\",POLICE OFFICER,POLICE,$86520.00',\n",
       " '\"ALLEN,  JAMES W\",POLICE OFFICER,POLICE,$83616.00',\n",
       " '\"ALLEN,  JEFFREY W\",SERGEANT,POLICE,$106920.00',\n",
       " '\"ALLEN,  JONATHAN E\",STAFF ASST,FINANCE,$73200.00',\n",
       " '\"ALLEN JR,  ISAAC\",POOL MOTOR TRUCK DRIVER,STREETS & SAN,$71780.80',\n",
       " '\"ALLEN,  KEITH A\",POLICE OFFICER (ASSIGNED AS DETECTIVE),POLICE,$97044.00',\n",
       " '\"ALLEN,  KEVIN C\",POLICE OFFICER,POLICE,$89718.00',\n",
       " '\"ALLEN,  KEVIN M\",ACCOUNTANT IV,FINANCE,$95880.00',\n",
       " '\"ALLEN,  LAJEUNE R\",POLICE OFFICER,POLICE,$92316.00',\n",
       " '\"ALLEN,  LA SHAWNDA\",COLLECTIONS REPRESENTATIVE,FINANCE,$55428.00',\n",
       " '\"ALLEN,  MARIE\",CROSSING GUARD,POLICE,$22131.20',\n",
       " '\"ALLEN,  MARK D\",POLICE OFFICER (ASGND AS MARINE OFFICER),POLICE,$97044.00',\n",
       " '\"ALLEN,  MELVIN\",SANITATION LABORER,STREETS & SAN,$72384.00',\n",
       " '\"ALLEN,  MICHAEL J\",PARAMEDIC I/C,FIRE,$87534.00',\n",
       " '\"ALLEN,  MYRA B\",CROSSING GUARD,POLICE,$17492.80',\n",
       " '\"ALLEN,  NAJJA T\",LIBRARY ASSOCIATE - HOURLY,PUBLIC LIBRARY,$24835.20',\n",
       " '\"ALLEN,  PETER B\",BRIDGE OPERATOR,TRANSPORTN,$64308.00',\n",
       " '\"ALLEN,  PHOEBE\",POLICE OFFICER,POLICE,$83616.00',\n",
       " '\"ALLEN,  RAYMOND G\",POLICE OFFICER,POLICE,$89718.00',\n",
       " '\"ALLEN,  REGAN J\",POLICE OFFICER,POLICE,$83616.00',\n",
       " '\"ALLEN,  RICHARD\",POOL MOTOR TRUCK DRIVER,STREETS & SAN,$71780.80',\n",
       " '\"ALLEN,  ROBERT\",MACHINIST,WATER MGMNT,$92248.00',\n",
       " '\"ALLEN,  ROBERT G\",POOL MOTOR TRUCK DRIVER,STREETS & SAN,$71780.80',\n",
       " '\"ALLEN,  ROBERT L\",MOTOR TRUCK DRIVER,STREETS & SAN,$71780.80',\n",
       " '\"ALLEN,  RUTH B\",CIVIL ENGINEER III,WATER MGMNT,$95880.00',\n",
       " '\"ALLEN,  RYAN M\",LIBRARY CLERK,PUBLIC LIBRARY,$43920.00',\n",
       " '\"ALLEN,  RYSHON C\",LABORER,AVIATION,$67329.60',\n",
       " '\"ALLEN,  SANDRA\",ADMINISTRATIVE ASST II,BUILDINGS,$63708.00',\n",
       " '\"ALLENSON,  SAGE\",POLICE OFFICER,POLICE,$80778.00',\n",
       " '\"ALLEN,  TERRY L\",FOREMAN OF CONSTRUCTION LABORERS,TRANSPORTN,$81328.00',\n",
       " '\"ALLEN,  TIMOTHY\",SANITATION LABORER,STREETS & SAN,$72384.00',\n",
       " '\"ALLEN,  TIMOTHY M\",ANIMAL CONTROL OFFICER,ANIMAL CONTRL,$67212.00',\n",
       " '\"ALLEN,  TYREE D\",SANITATION LABORER,STREETS & SAN,$72384.00',\n",
       " '\"ALLEN,  VERDIE P\",ASST DEPUTY CHIEF PARAMEDIC,FIRE,$156360.00',\n",
       " '\"ALLEN,  VINCENT\",POLICE OFFICER / FLD TRNG OFFICER,POLICE,$94236.00',\n",
       " '\"ALLEN,  WANDA L\",ADMINISTRATIVE ASST III,PUBLIC LIBRARY,$73200.00',\n",
       " '\"ALLEN,  WILLIAM\",GENERAL LABORER - DSS,STREETS & SAN,$43201.60',\n",
       " '\"ALLEN,  WILLIAM L\",SANITATION LABORER,STREETS & SAN,$72384.00',\n",
       " '\"ALLEYNE,  HATTIE\",POOL MOTOR TRUCK DRIVER,STREETS & SAN,$71780.80',\n",
       " '\"ALLEYNE,  STEVE C\",FIRE ENGINEER-EMT,FIRE,$99324.00',\n",
       " '\"ALLISON,  ALLYSON M\",ASST TO THE ALDERMAN,CITY COUNCIL,$76188.00',\n",
       " '\"ALLISON,  JACOB M\",MACHINIST (AUTOMOTIVE),GENERAL SERVICES,$92248.00',\n",
       " '\"ALLISON,  JOHN L\",ANIMAL CONTROL OFFICER,ANIMAL CONTRL,$58476.00',\n",
       " '\"ALLISON,  PAUL W\",FIREFIGHTER,FIRE,$86520.00',\n",
       " '\"ALMAGUER,  DAVID J\",MOTOR TRUCK DRIVER,AVIATION,$71780.80',\n",
       " '\"ALMAGUER,  PHILIP\",POLICE OFFICER,POLICE,$46206.00',\n",
       " '\"ALMANZA,  EDUARDO\",POLICE OFFICER,POLICE,$83616.00',\n",
       " '\"ALMANZA,  JESUS\",HOISTING ENGINEER,WATER MGMNT,$97968.00',\n",
       " '\"ALMANZA,  JOSE A\",POLICE OFFICER,POLICE,$83616.00',\n",
       " '\"ALMANZA,  MONICA\",AUDITOR I,FINANCE,$80424.00',\n",
       " '\"ALMANZA,  THERESA A\",POLICE OFFICER,POLICE,$89718.00',\n",
       " '\"ALMANZA,  YOLANDA M\",SUPERVISING CLERK,FINANCE,$66684.00',\n",
       " '\"ALMARAZ,  THOMAS\",CONSTRUCTION LABORER,WATER MGMNT,$79040.00',\n",
       " '\"ALMAZAN,  ALEJANDRO\",POLICE OFFICER (ASSIGNED AS DETECTIVE),POLICE,$99888.00',\n",
       " '\"ALMAZAN,  CARMEN\",ADMINISTRATIVE ASST III,OEMC,$66684.00',\n",
       " '\"ALMAZAN IZAGUIRRE,  CECILIA\",PUBLIC HEALTH ADMINISTRATOR III,HEALTH,$80916.00',\n",
       " '\"ALMAZAN,  SIDRONIO\",POLICE OFFICER,POLICE,$83616.00',\n",
       " '\"ALMAZAN,  SONIA\",POLICE OFFICER,POLICE,$86520.00',\n",
       " '\"ALMAZAN,  TOMAS\",POLICE OFFICER,POLICE,$46206.00',\n",
       " '\"ALMDALE,  LLOYD M\",POLICE OFFICER (ASSIGNED AS DETECTIVE),POLICE,$93648.00',\n",
       " '\"ALMENDAREZ III,  FILIBERTO\",PAYROLL ADMINISTRATOR,FINANCE,$93024.00',\n",
       " '\"ALMODOVAR,  JOSHUA\",POLICE OFFICER,POLICE,$69684.00',\n",
       " '\"ALMODOVAR,  MANUEL\",LIEUTENANT,FIRE,$110370.00',\n",
       " '\"ALMODOVAR,  OLGA N\",CROSSING GUARD - PER AGREEMENT,POLICE,$16484.00',\n",
       " '\"ALNEMRI,  EYAD J\",POLICE OFFICER,POLICE,$83616.00',\n",
       " '\"ALNEMRI,  SAMI J\",POLICE OFFICER,POLICE,$86520.00',\n",
       " '\"ALOISIO,  SALVATORE D\",POLICE OFFICER,POLICE,$73296.00',\n",
       " '\"ALONISTIOTIS,  GEORGE\",ASST MANAGING EDITOR COUNCIL JOURNAL,CITY CLERK,$62640.00',\n",
       " '\"ALONISTIOTIS,  KONSTANTINES M\",ASSISTANT DIRECTOR OF FINANCE,TREASURER,$73080.00',\n",
       " '\"ALONSO,  ARMANDO\",POLICE OFFICER (ASSIGNED AS EVIDENCE TECHNICIAN),POLICE,$97044.00',\n",
       " '\"ALONSO JR,  JAVIER\",POLICE OFFICER,POLICE,$83616.00',\n",
       " '\"ALONSO,  KENNETH\",POOL MOTOR TRUCK DRIVER,STREETS & SAN,$71780.80',\n",
       " '\"ALONSO,  LAURA K\",FIREFIGHTER,FIRE,$65946.00',\n",
       " '\"ALONSO,  MARIO A\",DIR OF LIBRARY - PROGRAMS AND EXHIBITS,PUBLIC LIBRARY,$105048.00',\n",
       " '\"ALONZO,  CHRISTOPHER B\",PARAMEDIC,FIRE,$54114.00',\n",
       " '\"ALONZO,  EDWARD\",SERGEANT,POLICE,$106920.00',\n",
       " '\"ALONZO,  GREGORY P\",PAINTER,WATER MGMNT,$86840.00',\n",
       " '\"ALONZO,  J B\",COORDINATING PLANNER,TRANSPORTN,$92064.00',\n",
       " '\"ALONZO,  JESSICA M\",LIBRARY CLERK - HOURLY,PUBLIC LIBRARY,$15995.20',\n",
       " '\"ALONZO,  JOAQUIN\",MOTOR TRUCK DRIVER,STREETS & SAN,$71780.80',\n",
       " '\"ALONZO,  SHAWN P\",POLICE OFFICER,POLICE,$80778.00',\n",
       " '\"ALONZO,  VINCENT S\",POLICE OFFICER (ASSIGNED AS DETECTIVE),POLICE,$93648.00',\n",
       " '\"ALPERN,  STUART H\",COORD OF SPECIAL PROJECTS,BUSINESS AFFAIRS,$84780.00',\n",
       " '\"ALPERS,  DAVID P\",BUILDING/CONSTRUCTION INSPECTOR,BUILDINGS,$107124.00',\n",
       " '\"ALPERTO,  EVARISTO P\",CONSTRUCTION LABORER,WATER MGMNT,$79040.00',\n",
       " '\"ALROY,  MARY E\",ADMINISTRATIVE ASST II,FAMILY & SUPPORT,$66684.00',\n",
       " '\"ALSTON,  ETTA E\",ADMINISTRATIVE ASST II,LAW,$55428.00',\n",
       " '\"ALSTONMIDDLETON,  GLORIA\",STAFF ASST,FAMILY & SUPPORT,$73200.00',\n",
       " '\"ALSTON,  NICOLE T\",TRAFFIC CONTROL AIDE-HOURLY,OEMC,$19656.00',\n",
       " '\"ALTAMIRANO,  LAZARO\",POLICE OFFICER,POLICE,$83616.00',\n",
       " '\"ALTAMIRANO,  RAFAEL\",POLICE OFFICER,POLICE,$46206.00',\n",
       " '\"ALTENBACH,  ADAM J\",POLICE OFFICER,POLICE,$80778.00',\n",
       " '\"ALTENBACH,  BLAIR J\",POLICE OFFICER,POLICE,$80778.00',\n",
       " '\"ALTHOFF,  KELIN\",POLICE OFFICER,POLICE,$69684.00',\n",
       " '\"ALTMAN,  MARK T\",BATTALION CHIEF - EMT,FIRE,$139536.00',\n",
       " '\"ALTMAN,  MICHAEL P\",BATTALION CHIEF,FIRE,$135480.00',\n",
       " '\"ALTMAN,  PATRICIA A\",POLICE OFFICER,POLICE,$92316.00',\n",
       " '\"ALTWASSER,  PATRICK W\",POLICE OFFICER,POLICE,$80778.00',\n",
       " '\"ALUISE,  LEONARD V\",ENGINEERING TECHNICIAN IV,TRANSPORTN,$67344.00',\n",
       " '\"ALVARADO,  CARLOS L\",MOTOR TRUCK DRIVER,GENERAL SERVICES,$71780.80',\n",
       " '\"ALVARADO,  GERARDO\",POLICE OFFICER,POLICE,$86520.00',\n",
       " '\"ALVARADO GNIADE,  DEBORAH M\",PERSONNEL ASSISTANT,POLICE,$63708.00',\n",
       " '\"ALVARADO,  IGNACIO\",POLICE OFFICER,POLICE,$80778.00',\n",
       " '\"ALVARADO,  JAIME\",SERGEANT,POLICE,$100440.00',\n",
       " '\"ALVARADO,  JESUS\",SANITATION LABORER,STREETS & SAN,$72384.00',\n",
       " '\"ALVARADO,  JORGE M\",SANITATION LABORER,STREETS & SAN,$76627.20',\n",
       " '\"ALVARADO,  JOSE M\",SANITATION LABORER,STREETS & SAN,$72384.00',\n",
       " '\"ALVARADO,  JOSHUA E\",POLICE OFFICER,POLICE,$86520.00',\n",
       " '\"ALVARADO,  JUAN C\",POLICE OFFICER,POLICE,$86520.00',\n",
       " '\"ALVARADO,  MATTHEW W\",POLICE OFFICER / FLD TRNG OFFICER,POLICE,$84858.00',\n",
       " '\"ALVARADO,  PETER\",PARAMEDIC,FIRE,$54114.00',\n",
       " '\"ALVARADO,  RAUL A\",FIREFIGHTER,FIRE,$93594.00',\n",
       " '\"ALVARADO,  RAYNA A\",POLICE OFFICER,POLICE,$80778.00',\n",
       " '\"ALVARADO,  RENE\",FIREFIGHTER,FIRE,$93594.00',\n",
       " '\"ALVARADO,  SALVADOR\",LINEMAN,OEMC,$95888.04',\n",
       " '\"ALVAREZ,  AGDA\",CROSSING GUARD,POLICE,$17492.80',\n",
       " '\"ALVAREZ,  ALFREDO\",PARKING INVESTIGATOR,FINANCE,$70380.00',\n",
       " '\"ALVAREZ,  ANTONIO\",SERGEANT,POLICE,$103590.00',\n",
       " '\"ALVAREZ,  ARMANDO\",POLICE OFFICER,POLICE,$80778.00',\n",
       " '\"ALVAREZ,  CRISTINA\",WEB AUTHOR,CITY CLERK,$63516.00',\n",
       " '\"ALVAREZ,  DAYLILY C\",LIBRARIAN II,PUBLIC LIBRARY,$59352.00',\n",
       " '\"ALVAREZ,  DEBORAH A\",PARAMEDIC,FIRE,$90018.00',\n",
       " '\"ALVAREZ,  EDGAR\",POLICE OFFICER,POLICE,$65946.00',\n",
       " '\"ALVAREZ,  ELENA\",POLICE OFFICER,POLICE,$73296.00',\n",
       " '\"ALVAREZ,  GENARO\",ENGINEERING TECHNICIAN IV,TRANSPORTN,$54864.00',\n",
       " '\"ALVAREZ,  HECTOR L\",POLICE OFFICER (ASSIGNED AS DETECTIVE),POLICE,$97044.00',\n",
       " '\"ALVAREZ,  HERNAN L\",POLICE OFFICER,POLICE,$80778.00',\n",
       " '\"ALVAREZ,  JAVIER\",POLICE OFFICER,POLICE,$65946.00',\n",
       " '\"ALVAREZ,  JESSE\",SERGEANT,POLICE,$103590.00',\n",
       " '\"ALVAREZ,  JESSICA\",POLICE OFFICER,POLICE,$46206.00',\n",
       " '\"ALVAREZ,  JESUS\",POOL MOTOR TRUCK DRIVER,STREETS & SAN,$71780.80',\n",
       " '\"ALVAREZ,  JOSE A\",POLICE OFFICER,POLICE,$80778.00',\n",
       " '\"ALVAREZ,  JOSE M\",POLICE OFFICER,POLICE,$86520.00',\n",
       " '\"ALVAREZ,  JOSEPH M\",POOL MOTOR TRUCK DRIVER,AVIATION,$71780.80',\n",
       " '\"ALVAREZ JR,  DAVID\",POLICE OFFICER,POLICE,$46206.00',\n",
       " '\"ALVAREZ JR,  RAFAEL\",LIEUTENANT-EMT,FIRE,$109872.00',\n",
       " '\"ALVAREZ JR,  RAUL\",SANITATION LABORER,STREETS & SAN,$72384.00',\n",
       " '\"ALVAREZ,  JUAN\",POLICE OFFICER,POLICE,$69684.00',\n",
       " '\"ALVAREZ,  LUIS\",POLICE OFFICER,POLICE,$69684.00',\n",
       " '\"ALVAREZ,  MANOEL A\",CUSTODIAL WORKER,AVIATION,$42369.60',\n",
       " '\"ALVAREZ,  MARCO A\",POOL MOTOR TRUCK DRIVER,STREETS & SAN,$71780.80',\n",
       " '\"ALVAREZ,  MARGARITA\",CHIEF CONTRACT EXPEDITER,WATER MGMNT,$88812.00',\n",
       " '\"ALVAREZ,  MARIA\",DATA ENTRY OPERATOR,AVIATION,$43920.00',\n",
       " '\"ALVAREZ,  MARIA D\",POOL MOTOR TRUCK DRIVER,STREETS & SAN,$71780.80',\n",
       " '\"ALVAREZ,  NIKI L\",CROSSING GUARD,POLICE,$22131.20',\n",
       " '\"ALVAREZ PENA,  SHERRY L\",SERGEANT,POLICE,$110370.00',\n",
       " '\"ALVAREZ,  RAMIRO\",POLICE OFFICER,POLICE,$80778.00',\n",
       " '\"ALVAREZ,  RAMON\",SANITATION LABORER,STREETS & SAN,$72384.00',\n",
       " '\"ALVAREZ,  RAUL\",SERGEANT,POLICE,$100440.00',\n",
       " '\"ALVAREZ,  RICHARD D\",SERGEANT,POLICE,$106920.00',\n",
       " '\"ALVAREZ,  ROBERT\",POLICE OFFICER,POLICE,$80778.00',\n",
       " '\"ALVAREZ,  ROBIN C\",PARAMEDIC FIELD CHIEF,FIRE,$131562.00',\n",
       " '\"ALVAREZ,  SALLY R\",LIBRARY CLERK,PUBLIC LIBRARY,$43920.00',\n",
       " '\"ALVAREZ,  TIBALDO\",BUILDING/CONSTRUCTION INSPECTOR,BUILDINGS,$84060.00',\n",
       " '\"ALVEAR,  ANGELINA\",POLICE OFFICER,POLICE,$46206.00',\n",
       " '\"ALVERIO,  EVELYN J\",ASST TO THE COMMISSIONER,PROCUREMENT,$59004.00',\n",
       " '\"ALVERIO,  LUIS A\",SERGEANT,POLICE,$110370.00',\n",
       " '\"ALVISO,  CHARLES\",POLICE OFFICER,POLICE,$46206.00',\n",
       " '\"ALVIS,  VIDETTE A\",MOTOR TRUCK DRIVER,GENERAL SERVICES,$71780.80',\n",
       " '\"ALVIZU,  RAYMOND M\",POOL MOTOR TRUCK DRIVER,WATER MGMNT,$71780.80',\n",
       " '\"ALYINOVICH,  JOHN F\",POLICE OFFICER,POLICE,$89718.00',\n",
       " '\"AMADI,  RITA N\",PUBLIC HEALTH ADMINISTRATOR II,HEALTH,$80328.00',\n",
       " '\"AMADO,  BONITA S\",DIR OF FACILITIES MANAGEMENT,POLICE,$105828.00',\n",
       " '\"AMADOR,  ANGEL\",POLICE OFFICER,POLICE,$86520.00',\n",
       " '\"AMADOR,  BIANCA\",LEGISLATIVE AIDE,CITY COUNCIL,$12480.00',\n",
       " '\"AMARO,  KATHERINE M\",PERSONAL COMPUTER OPERATOR II,WATER MGMNT,$60780.00',\n",
       " '\"AMARO,  KENNETH\",MOTOR TRUCK DRIVER,TRANSPORTN,$71780.80',\n",
       " '\"AMARO,  TIZOC R\",POLICE OFFICER,POLICE,$86520.00',\n",
       " '\"AMATI,  MARK A\",LIEUTENANT,POLICE,$123948.00',\n",
       " '\"AMATO,  ANTHONY M\",POLICE OFFICER (ASSIGNED AS DETECTIVE),POLICE,$93648.00',\n",
       " '\"AMATO,  DINO J\",POLICE OFFICER (ASSIGNED AS DETECTIVE),POLICE,$97044.00',\n",
       " '\"AMATO,  MICHAEL J\",POLICE OFFICER,POLICE,$83616.00',\n",
       " '\"AMATORE,  CHRIS\",FIREFIGHTER-EMT,FIRE,$85680.00',\n",
       " '\"AMATORE JR,  JAMES V\",FIREFIGHTER-EMT (RECRUIT),FIRE,$54114.00',\n",
       " '\"AMATO,  STEVEN J\",POLICE OFFICER (ASSIGNED AS DETECTIVE),POLICE,$99888.00',\n",
       " '\"AMBE,  NEBA\",DIR OF INFORMATION SYSTEMS,DoIT,$113208.00',\n",
       " '\"AMBOLO,  MICHAEL J\",DIRECTOR OF FINANCE,OEMC,$92064.00',\n",
       " '\"AMBROSE,  CHRISTOPHE M\",FIREFIGHTER (PER ARBITRATORS AWARD)-PARAMEDIC,FIRE,$105384.00',\n",
       " '\"AMBROSE,  KEVIN J\",FIREFIGHTER-EMT,FIRE,$85680.00',\n",
       " '\"AMBROSE,  PATRICK L\",BOOTER - PARKING,FINANCE,$64812.80',\n",
       " '\"AMBROSIA,  JOSEPH W\",ASST CHIEF AIRPORT OPERATIONS SUPVSR,AVIATION,$102288.00',\n",
       " '\"AMBROSINO,  DANIELLA N\",STAFF ASST TO THE ALDERMAN,CITY COUNCIL,$44544.00',\n",
       " '\"AMBURGEY,  MARK M\",ELECTRICAL MECHANIC (AUTOMOTIVE),GENERAL SERVICES,$91520.00',\n",
       " '\"AMDEMICHAEL,  BAHLEBBY W\",DEPUTY MANAGING EDITOR COUNCIL JOURNAL,CITY CLERK,$102060.00',\n",
       " '\"AMELIO,  ANTHONY J\",POLICE OFFICER,POLICE,$86520.00',\n",
       " '\"AMELIO,  PAUL S\",POLICE OFFICER,POLICE,$80778.00',\n",
       " '\"AMELIO,  PETER R\",POLICE OFFICER,POLICE,$83616.00',\n",
       " '\"AMELIO,  PETER R\",MOTOR TRUCK DRIVER,STREETS & SAN,$71780.80',\n",
       " '\"AMELIO,  RALPH C\",MOTOR TRUCK DRIVER,WATER MGMNT,$71780.80',\n",
       " '\"AMEND,  PATRICK J\",FIREFIGHTER (PER ARBITRATORS AWARD)-PARAMEDIC,FIRE,$101688.00',\n",
       " '\"AMES,  MORTIMER P\",ASST CORPORATION COUNSEL SUPVSR,LAW,$118164.00',\n",
       " '\"AMEY,  JADE N\",LIBRARY ASSOCIATE - HOURLY,PUBLIC LIBRARY,$24835.20',\n",
       " '\"AMEZAGA,  LAURA A\",POLICE OFFICER,POLICE,$86520.00',\n",
       " '\"AMEZQUITA,  SONIA\",POLICE OFFICER,POLICE,$89718.00',\n",
       " '\"AMICK,  DAVID J\",BUILDING/CONSTRUCTION INSPECTOR,BUILDINGS,$84060.00',\n",
       " '\"AMITI,  TEKI\",PARKING ENFORCEMENT AIDE,FINANCE,$53292.00',\n",
       " '\"AMMONS,  GREGORY W\",PARKING INVESTIGATOR,FINANCE,$63276.00',\n",
       " '\"AMORELLA,  MICHAEL S\",POLICE OFFICER,POLICE,$83616.00',\n",
       " '\"AMOS,  ALVIN A\",DETENTION AIDE,POLICE,$61260.00',\n",
       " '\"AMPADU,  DORIS C\",CLERK III,HEALTH,$55428.00',\n",
       " '\"AMPARAN,  ERNESTO\",POLICE OFFICER,POLICE,$69684.00',\n",
       " '\"AMRAEN,  DAVID J\",FOREMAN OF HOISTING ENGINEERS,GENERAL SERVICES,$106288.00',\n",
       " '\"AMSDEN,  MICHAEL\",PROJECTS ADMINISTRATOR,TRANSPORTN,$94260.00',\n",
       " '\"AMSTADT,  ROBERT J\",POLICE OFFICER,POLICE,$80778.00',\n",
       " '\"ANAELE,  BENEDICT E\",INVESTIGATOR - IPRA III,IPRA,$111132.00',\n",
       " '\"ANASTASOF,  FRANK G\",TREE TRIMMER,STREETS & SAN,$74464.00',\n",
       " '\"ANAWES,  CHAMOON F\",FILTRATION ENGINEER III,WATER MGMNT,$95880.00',\n",
       " '\"ANAYA,  GEORGE\",POLICE OFFICER,POLICE,$69684.00',\n",
       " '\"ANAYA,  JUAN P\",AIRPORT OPERATIONS SUPVSR II,AVIATION,$81108.00',\n",
       " '\"ANAYA,  PEDRO\",POLICE OFFICER,POLICE,$69684.00',\n",
       " '\"ANDABLO II,  HUMBERTO\",POLICE OFFICER,POLICE,$80778.00',\n",
       " '\"ANDAVERDE III,  FEDERICO\",SERGEANT,POLICE,$103590.00',\n",
       " '\"ANDAVIS,  CHRISTOPHER\",FIRE COMMUNICATIONS OPERATOR I,OEMC,$65676.00',\n",
       " '\"ANDEREGG,  DANIEL\",POLICE OFFICER,POLICE,$69684.00',\n",
       " '\"ANDER,  PERRY A\",WATER CHEMIST II,WATER MGMNT,$80424.00',\n",
       " '\"ANDERSEN,  CHRIS E\",POLICE OFFICER (ASGND AS MOUNTED PATROL OFFICER),POLICE,$94236.00',\n",
       " '\"ANDERSEN,  CHRISTOPHER\",POLICE OFFICER,POLICE,$83616.00',\n",
       " '\"ANDERSEN,  JEREMY C\",POLICE OFFICER,POLICE,$83616.00',\n",
       " '\"ANDERSEN,  MARK A\",SERGEANT,POLICE,$110370.00',\n",
       " '\"ANDERSEN,  MARK E\",LIBRARY DIVISION CHIEF,PUBLIC LIBRARY,$99108.00',\n",
       " '\"ANDERSEN,  MATTHEW P\",FIRE ENGINEER-EMT,FIRE,$99324.00',\n",
       " '\"ANDERSEN,  ROBERT P\",FIRE ENGINEER,FIRE,$93648.00',\n",
       " '\"ANDERSEN,  TAMI L\",LIEUTENANT,POLICE,$123948.00',\n",
       " '\"ANDERS,  KEVIN R\",MOTOR TRUCK DRIVER,STREETS & SAN,$72862.40',\n",
       " '\"ANDERSON,  ALBERT J\",SANITATION LABORER,STREETS & SAN,$72384.00',\n",
       " '\"ANDERSON,  ANDREW J\",DISTRICT SUPERINTENDENT OF WATER DISTRIBUTION,WATER MGMNT,$107124.00',\n",
       " '\"ANDERSON,  BRADLEY\",POLICE OFFICER,POLICE,$69684.00',\n",
       " '\"ANDERSON,  CHARLES E\",POLICE OFFICER,POLICE,$89718.00',\n",
       " '\"ANDERSON,  CLOUTHA D\",HEAD LIBRARY CLERK,PUBLIC LIBRARY,$63708.00',\n",
       " '\"ANDERSON,  COREY\",POLICE OFFICER,POLICE,$83616.00',\n",
       " '\"ANDERSON,  COREY A\",POLICE OFFICER,POLICE,$83616.00',\n",
       " '\"ANDERSON,  CORY\",POLICE OFFICER,POLICE,$69684.00',\n",
       " '\"ANDERSON,  DARNETTA L\",ACCOUNTANT III,FAMILY & SUPPORT,$83256.00',\n",
       " '\"ANDERSON,  DAVID C\",PROJECTS ADMINISTRATOR,BUILDINGS,$90252.00',\n",
       " '\"ANDERSON,  DAVID C\",SEWER BRICKLAYER,WATER MGMNT,$88566.40',\n",
       " '\"ANDERSON,  DAVID R\",POLICE OFFICER,POLICE,$80778.00',\n",
       " '\"ANDERSON,  DEBORAH L\",CHIEF PROGRAMMER/ANALYST,DoIT,$112332.00',\n",
       " '\"ANDERSON,  DEBRA L\",POLICE OFFICER,POLICE,$83616.00',\n",
       " '\"ANDERSON,  DERRICK W\",MOTOR TRUCK DRIVER,STREETS & SAN,$71780.80',\n",
       " '\"ANDERSON,  DIANA M\",POLICE OFFICER,POLICE,$86520.00',\n",
       " '\"ANDERSON,  DIANE G\",CROSSING GUARD,POLICE,$19188.00',\n",
       " '\"ANDERSON,  DONALD\",FOREMAN OF WATER PIPE CONSTRUCTION,WATER MGMNT,$101192.00',\n",
       " '\"ANDERSON,  DOUGLAS T\",POLICE OFFICER,POLICE,$83616.00',\n",
       " '\"ANDERSON,  EDWARD A\",FIREFIGHTER-EMT,FIRE,$88680.00',\n",
       " '\"ANDERSON,  EDWARD M\",SR PROCUREMENT SPECIALIST,PROCUREMENT,$84780.00',\n",
       " '\"ANDERSON,  ELIZER\",TRAFFIC CONTROL AIDE-HOURLY,OEMC,$19656.00',\n",
       " '\"ANDERSON,  ELLIS R\",POLICE OFFICER,POLICE,$83616.00',\n",
       " '\"ANDERSON,  ERIC J\",LABORER - APPRENTICE,WATER MGMNT,$55328.00',\n",
       " '\"ANDERSON,  ERIC M\",LIBRARIAN I,PUBLIC LIBRARY,$72840.00',\n",
       " '\"ANDERSON,  GARY M\",POLICE OFFICER,POLICE,$80778.00',\n",
       " '\"ANDERSON,  GLEN E\",FIREFIGHTER-EMT,FIRE,$88680.00',\n",
       " '\"ANDERSON,  HANNAH L\",PUBLIC HEALTH ADMINISTRATOR III,HEALTH,$73752.00',\n",
       " '\"ANDERSON,  IVY L\",ASST CHIEF OPERATING ENGINEER,WATER MGMNT,$108534.40',\n",
       " '\"ANDERSON,  JACOB P\",FIREFIGHTER/PARAMEDIC,FIRE,$87720.00',\n",
       " '\"ANDERSON,  JAMES E\",POLICE OFFICER (ASSIGNED AS DETECTIVE),POLICE,$99888.00',\n",
       " '\"ANDERSON,  JAMES J\",POLICE OFFICER,POLICE,$92316.00',\n",
       " '\"ANDERSON,  JEROME L\",POLICE OFFICER,POLICE,$92316.00',\n",
       " '\"ANDERSON,  JODY M\",SUPPORT SERVICES COORD,FAMILY & SUPPORT,$66684.00',\n",
       " '\"ANDERSON,  JOE A\",FIREFIGHTER-EMT,FIRE,$85680.00',\n",
       " '\"ANDERSON,  JOE E\",LEGISLATIVE AIDE,CITY COUNCIL,$45864.00',\n",
       " '\"ANDERSON,  JOHN M\",TRAFFIC CONTROL AIDE-HOURLY,OEMC,$19656.00',\n",
       " '\"ANDERSON,  JOHN S\",FIREFIGHTER,FIRE,$86520.00',\n",
       " '\"ANDERSON,  JOHN T\",LIEUTENANT,POLICE,$123948.00',\n",
       " '\"ANDERSON JR,  ERNEST L\",CONSTRUCTION LABORER,WATER MGMNT,$79040.00',\n",
       " '\"ANDERSON JR,  ROY T\",FIREFIGHTER/PARAMEDIC,FIRE,$97728.00',\n",
       " '\"ANDERSON,  KEVIN B\",CAPTAIN,POLICE,$134820.00',\n",
       " '\"ANDERSON,  LAKISA S\",POLICE OFFICER,POLICE,$89718.00',\n",
       " '\"ANDERSON,  LANCE Q\",FIRE ENGINEER,FIRE,$99888.00',\n",
       " '\"ANDERSON,  LARRY D\",PAINTER,AVIATION,$86840.00',\n",
       " '\"ANDERSON,  LESTER J\",SENIOR BUSINESS CONSULTANT,BUSINESS AFFAIRS,$67224.00',\n",
       " '\"ANDERSON,  LUCI A\",ASST COMMISSIONER,WATER MGMNT,$105828.00',\n",
       " '\"ANDERSON,  LUIS F\",OPERATING ENGINEER-GROUP A,WATER MGMNT,$98675.20',\n",
       " '\"ANDERSON,  LUTHER\",CONCRETE LABORER,TRANSPORTN,$79040.00',\n",
       " '\"ANDERSON,  LUVENIA M\",ADMIN ASST II - LABORERS,TRANSPORTN,$55968.00',\n",
       " '\"ANDERSON,  MALINDA\",POOL MOTOR TRUCK DRIVER,STREETS & SAN,$71780.80',\n",
       " '\"ANDERSON,  MARION D\",POLICE OFFICER (ASSIGNED AS CANINE HANDLER),POLICE,$97044.00',\n",
       " '\"ANDERSON,  MARK R\",ELECTRICAL MECHANIC,TRANSPORTN,$91520.00',\n",
       " '\"ANDERSON,  MAURICE\",POLICE OFFICER,POLICE,$86520.00',\n",
       " '\"ANDERSON,  MICHAEL A\",SERGEANT,POLICE,$100440.00',\n",
       " '\"ANDERSON,  MIGUEL\",POLICE OFFICER,POLICE,$69684.00',\n",
       " '\"ANDERSON,  MINNIE B\",TITLE V PROGRAM TRAINEE I,FAMILY & SUPPORT,$8580.00',\n",
       " '\"ANDERSON,  OLIVER\",TRAFFIC CONTROL AIDE-HOURLY,OEMC,$19656.00',\n",
       " '\"ANDERSON,  PAUL D\",POLICE OFFICER,POLICE,$92316.00',\n",
       " '\"ANDERSON,  PAUL E\",FIREFIGHTER,FIRE,$83616.00',\n",
       " '\"ANDERSON,  PAUL L\",MOTOR TRUCK DRIVER,WATER MGMNT,$71780.80',\n",
       " '\"ANDERSON,  QUINTUSSIA\",ADMINISTRATIVE ASST II,HEALTH,$60780.00',\n",
       " '\"ANDERSON,  RHONDA F\",PROJECT COORD,FAMILY & SUPPORT,$73752.00',\n",
       " '\"ANDERSON,  RHONDA M\",PROPERTY CUSTODIAN - AUTO POUND,STREETS & SAN,$38436.00',\n",
       " '\"ANDERSON,  RHONDA M\",POLICE OFFICER (ASSIGNED AS DETECTIVE),POLICE,$93648.00',\n",
       " '\"ANDERSON,  ROBIN L\",OPERATING ENGINEER-GROUP C,WATER MGMNT,$93745.60',\n",
       " '\"ANDERSON,  RORY A\",POLICE AGENT,POLICE,$90846.00',\n",
       " '\"ANDERSON,  ROSLYN\",FOSTER GRANDPARENT,FAMILY & SUPPORT,$2756.00',\n",
       " '\"ANDERSON,  ROY\",FIREFIGHTER,FIRE,$93594.00',\n",
       " '\"ANDERSON,  SALLY A\",SANITATION LABORER,STREETS & SAN,$72384.00',\n",
       " '\"ANDERSON,  SHARON J\",LIBRARIAN III,PUBLIC LIBRARY,$83256.00',\n",
       " '\"ANDERSON,  STEPHEN R\",SERGEANT,POLICE,$103590.00',\n",
       " '\"ANDERSON,  TARIQ A\",OPERATING ENGINEER-GROUP C,WATER MGMNT,$93745.60',\n",
       " '\"ANDERSON,  TEDDY R\",SANITATION LABORER,STREETS & SAN,$72384.00',\n",
       " '\"ANDERSON,  TEFFANY\",PUBLIC HEALTH ADMINISTRATOR III,HEALTH,$66564.00',\n",
       " '\"ANDERSON,  THEODORE C\",POLICE OFFICER,POLICE,$89718.00',\n",
       " '\"ANDERSON,  THOMAS\",EMERGENCY CREW DISPATCHER,WATER MGMNT,$79040.00',\n",
       " '\"ANDERSON,  THOMAS E\",AVIATION SECURITY OFFICER,AVIATION,$67212.00',\n",
       " '\"ANDERSON,  THOMAS R\",SANITATION LABORER,STREETS & SAN,$72384.00',\n",
       " '\"ANDERSON,  TODD R\",AMBULANCE COMMANDER,FIRE,$120264.00',\n",
       " '\"ANDERSON,  TRACEY A\",POLICE OFFICER,POLICE,$86520.00',\n",
       " '\"ANDERSON,  VICTOR O\",POLICE OFFICER,POLICE,$89718.00',\n",
       " '\"ANDERSON,  WESLEY\",POLICE OFFICER,POLICE,$83616.00',\n",
       " '\"ANDERSON,  YVETTE M\",CROSSING GUARD,POLICE,$18324.80',\n",
       " '\"ANDINO,  JUANITA\",CROSSING GUARD,POLICE,$22131.20',\n",
       " '\"ANDINO,  WILLIAM\",POLICE OFFICER (ASSIGNED AS DETECTIVE),POLICE,$93648.00',\n",
       " '\"ANDOLINO,  STEVE C\",FIREFIGHTER-EMT,FIRE,$88680.00',\n",
       " '\"ANDONAEGUI,  ARTURO V\",POLICE OFFICER,POLICE,$86520.00',\n",
       " '\"ANDO,  SCOTT M\",CHIEF ADMINISTRATOR,IPRA,$161856.00',\n",
       " '\"ANDRADE,  DANIEL\",POLICE OFFICER,POLICE,$80778.00',\n",
       " '\"ANDRADE,  JAMES N\",POLICE OFFICER,POLICE,$89718.00',\n",
       " '\"ANDRADE,  MARK\",FIRE ENGINEER,FIRE,$99888.00',\n",
       " '\"ANDRADE,  PASCUALA Y\",MOTOR TRUCK DRIVER,STREETS & SAN,$71780.80',\n",
       " '\"ANDRAS,  GREGORY A\",POLICE OFFICER (ASSIGNED AS DETECTIVE),POLICE,$97044.00',\n",
       " '\"ANDREW,  CHERYL L\",LIBRARY ASSOCIATE,PUBLIC LIBRARY,$66120.00',\n",
       " '\"ANDREWS,  ADAM C\",POLICE OFFICER,POLICE,$89718.00',\n",
       " '\"ANDREWS,  ANTHONY J\",SERGEANT,POLICE,$106920.00',\n",
       " '\"ANDREWS,  ANTRINIUS\",POLICE OFFICER,POLICE,$73296.00',\n",
       " '\"ANDREWS-ARMISTEAD,  RHONDA C\",BUSINESS CONSULTANT,BUSINESS AFFAIRS,$59796.00',\n",
       " '\"ANDREWS,  CHARLES E\",POLICE OFFICER,POLICE,$89718.00',\n",
       " '\"ANDREWS,  CLARENCE J\",SANITATION LABORER,STREETS & SAN,$72384.00',\n",
       " '\"ANDREWS,  CONSTANTINE G\",DEPUTY CHIEF,POLICE,$170112.00',\n",
       " '\"ANDREWS,  DAVID\",POLICE OFFICER,POLICE,$69684.00',\n",
       " '\"ANDREWS,  DENISE\",NURSE PRACTITIONER,HEALTH,$127392.00',\n",
       " '\"ANDREWS JR,  MARSHALL C\",POLICE OFFICER,POLICE,$80778.00',\n",
       " '\"ANDREWS,  LISA M\",SERGEANT,POLICE,$110370.00',\n",
       " '\"ANDREWS,  MARTIN L\",LOAD DISPATCHER,TRANSPORTN,$95888.04',\n",
       " '\"ANDREWS,  MICHAEL R\",CONSTRUCTION LABORER,WATER MGMNT,$79040.00',\n",
       " '\"ANDREWS,  RISHAUNDA M\",LIBRARY PAGE,PUBLIC LIBRARY,$12407.20',\n",
       " '\"ANDREWS SMITH,  MARSHA L\",POLICE OFFICER,POLICE,$89718.00',\n",
       " '\"ANDRIACCHI,  JAMES J\",ASPHALT FOREMAN,TRANSPORTN,$80912.00',\n",
       " '\"ANDRICH,  DAVID L\",POLICE OFFICER,POLICE,$80778.00',\n",
       " '\"ANDROS,  ARTHUR N\",PROJECT MANAGER,GENERAL SERVICES,$106884.00',\n",
       " '\"ANDRUSHKO,  TARAS M\",POLICE OFFICER,POLICE,$83616.00',\n",
       " '\"ANDRUZZI JR,  JOSEPH J\",LIEUTENANT,POLICE,$123948.00',\n",
       " '\"ANDUJAR,  DANIEL\",POLICE OFFICER,POLICE,$83616.00',\n",
       " '\"ANELLO,  KATIE M\",POLICE OFFICER,POLICE,$86520.00',\n",
       " '\"ANELLO,  PHILLIP A\",LIEUTENANT-EMT,FIRE,$109872.00',\n",
       " '\"ANGARONE,  DEAN J\",FIREFIGHTER,FIRE,$83616.00',\n",
       " '\"ANGARONE,  JOSEPH R\",POLICE OFFICER,POLICE,$46206.00',\n",
       " '\"ANGARONE,  KENNETH\",COMMANDER,POLICE,$162684.00',\n",
       " '\"ANGELES,  RONALDO C\",AVIATION SECURITY OFFICER,AVIATION,$61260.00',\n",
       " '\"ANGELETTI,  ANTHONY R\",ELECTRICAL MECHANIC,GENERAL SERVICES,$91520.00',\n",
       " '\"ANGELETTI,  DIANE E\",CLERK III,HUMAN RESOURCES,$36264.00',\n",
       " '\"ANGEL,  GLENN K\",ASST CORPORATION COUNSEL SUPVSR,LAW,$92676.00',\n",
       " '\"ANGELINI,  JOHN R\",FIRE ENGINEER-EMT,FIRE,$105918.00',\n",
       " '\"ANGELO,  DEAN C\",POLICE OFFICER,POLICE,$80778.00',\n",
       " '\"ANGELOPOULOS,  JOHN T\",POLICE OFFICER,POLICE,$89718.00',\n",
       " '\"ANGEL,  SAMUEL\",POLICE OFFICER,POLICE,$46206.00',\n",
       " '\"ANGLADA,  RAFAEL\",INFORMATION SERVICES COORD,POLICE,$84780.00',\n",
       " '\"ANGLEMIRE,  MICHAEL T\",BRIDGE OPERATOR,TRANSPORTN,$50496.00',\n",
       " '\"ANGSTEN,  JAMES E\",POLICE OFFICER,POLICE,$89718.00',\n",
       " '\"ANGUIANO,  RICARDO\",POLICE OFFICER,POLICE,$46206.00',\n",
       " '\"ANGUIANO,  SARA I\",SUPVSR OF ACCOUNTING,FINANCE,$79464.00',\n",
       " '\"ANGUS,  KEVIN P\",LIEUTENANT,FIRE,$103590.00',\n",
       " '\"ANGUS,  WILLIAM J\",POLICE OFFICER,POLICE,$89718.00',\n",
       " '\"ANKUM,  CHARMAIN D\",LABORER - APPRENTICE,WATER MGMNT,$55328.00',\n",
       " '\"ANNERINO,  ANTHONY\",SANITATION LABORER,STREETS & SAN,$72384.00',\n",
       " '\"AN,  NICK H\",TRAFFIC ENGINEER V,TRANSPORTN,$100620.00',\n",
       " '\"ANNIS,  CHARLES L\",FIREFIGHTER,FIRE,$90018.00',\n",
       " '\"ANNIS,  CURT\",BATTALION CHIEF - EMT,FIRE,$143682.00',\n",
       " '\"ANNOR,  SAMUEL\",POLICE OFFICER,POLICE,$86520.00',\n",
       " '\"ANNUNZIO,  EDWARD A\",POLICE OFFICER,POLICE,$89718.00',\n",
       " '\"ANOSIKE,  MORGAN U\",PARKING ENFORCEMENT AIDE,FINANCE,$50904.00',\n",
       " '\"ANSARI,  SARAH S\",ASST INSPECTOR GENERAL,INSPECTOR GEN,$97164.00',\n",
       " '\"ANSELMO,  JAMIE R\",POLICE OFFICER,POLICE,$89718.00',\n",
       " '\"ANSIER,  MICHAEL A\",FIREFIGHTER-EMT,FIRE,$85680.00',\n",
       " '\"ANSLEY,  NANNETTE\",POLICE OFFICER (ASSIGNED AS DETECTIVE),POLICE,$97044.00',\n",
       " '\"ANSON,  BENJAMIN W\",ASSOC CLASSIFICATION & COMP ANALYST,HUMAN RESOURCES,$59436.00',\n",
       " '\"ANTESBERGER,  BRENT P\",POLICE OFFICER,POLICE,$80778.00',\n",
       " '\"ANTHONY,  FREDERICK\",POLICE OFFICER,POLICE,$89718.00',\n",
       " '\"ANTHONY,  GWANA R\",SERGEANT,POLICE,$106920.00',\n",
       " '\"ANTHONY,  ROBERT K\",COORD OF AIR MASK SERVICES,FIRE,$157776.00',\n",
       " '\"ANTHONY SANDERS,  DEBRA L\",CLERK IV,PROCUREMENT,$60780.00',\n",
       " '\"ANTHONY,  STEVEN C\",POOL MOTOR TRUCK DRIVER,AVIATION,$71780.80',\n",
       " '\"ANTHOS,  ROSS A\",MOTOR TRUCK DRIVER,AVIATION,$71780.80',\n",
       " '\"ANTICO,  JOSEPH B\",POLICE OFFICER,POLICE,$80778.00',\n",
       " '\"ANTONACCI,  JOHN M\",GENERAL MANAGER OF AIRPORT OPERATIONS,AVIATION,$109032.00',\n",
       " '\"ANTONIAZZI,  BARRY M\",PARAMEDIC I/C,FIRE,$87534.00',\n",
       " '\"ANTONIAZZI,  GINO A\",POLICE OFFICER,POLICE,$80778.00',\n",
       " '\"ANTONIK,  RYAN M\",FIREFIGHTER-EMT,FIRE,$85680.00',\n",
       " '\"ANTONOPOULOS,  CHRISTOPHER J\",ENVIRONMENTAL INVESTIGATOR,HEALTH,$73200.00',\n",
       " '\"ANTONOW,  GREGORY R\",FIREFIGHTER,FIRE,$80778.00',\n",
       " '\"ANTONSEN,  RICHARD\",POLICE OFFICER,POLICE,$83616.00',\n",
       " '\"ANTONSON,  EINAR N\",FOREMAN OF LINEMEN,TRANSPORTN,$106288.00',\n",
       " '\"ANTONUCCI WHITE,  JILL L\",SUPERVISING PARALEGAL,LAW,$84780.00',\n",
       " '\"ANTONY,  ELENGICAL K\",MOTOR TRUCK DRIVER,STREETS & SAN,$71780.80',\n",
       " '\"ANTOSIAK,  MICHAEL A\",POOL MOTOR TRUCK DRIVER,AVIATION,$71780.80',\n",
       " '\"ANTROBUS,  ERIC\",FIREFIGHTER (PER ARBITRATORS AWARD)-PARAMEDIC,FIRE,$98244.00',\n",
       " '\"ANZALDO,  JORGE\",PARAMEDIC,FIRE,$83616.00',\n",
       " '\"APACIBLE,  JONATHAN B\",POLICE OFFICER,POLICE,$86520.00',\n",
       " '\"APARICIO,  JOSE M\",BUILDING/CONSTRUCTION INSPECTOR,BUILDINGS,$88968.00',\n",
       " '\"APEL,  JOHN F\",AVIATION SECURITY OFFICER - HOURLY,AVIATION,$22120.80',\n",
       " '\"APIECZONEK JR,  LES R\",POLICE OFFICER,POLICE,$80778.00',\n",
       " '\"APONTE,  IRMA M\",STAFF ASST TO THE ALDERMAN,CITY COUNCIL,$55656.00',\n",
       " '\"APONTE,  WILFREDO\",GLAZIER,GENERAL SERVICES,$83200.00',\n",
       " '\"APORONGAO,  ALAIN\",POLICE OFFICER,POLICE,$69684.00',\n",
       " '\"APOSTOLOPOALOS,  NIKOS\",MOTOR TRUCK DRIVER,AVIATION,$71780.80',\n",
       " '\"APOSTOLOS,  CONSTANTIN E\",REVENUE INVESTIGATOR II,BUSINESS AFFAIRS,$88116.00',\n",
       " '\"APOSTOLOS,  DIMITRIOS M\",ASST CHIEF OPERATING ENGINEER,AVIATION,$108534.40',\n",
       " '\"APOSTOLOS,  GEORGE M\",OPERATING ENGINEER-GROUP A,AVIATION,$98675.20',\n",
       " '\"APPEL,  DAVID L\",POLICE OFFICER,POLICE,$80778.00',\n",
       " '\"APPLEBERRY,  JALISSA\",TRAFFIC CONTROL AIDE-HOURLY,OEMC,$19656.00',\n",
       " '\"APPLEWHITE,  ALETTA\",POOL MOTOR TRUCK DRIVER,STREETS & SAN,$71780.80',\n",
       " '\"APPLEWHITE,  DARRELL E\",POOL MOTOR TRUCK DRIVER,STREETS & SAN,$16151.20',\n",
       " '\"APURI,  HARINATH B\",TIMEKEEPER - CPD,POLICE,$63708.00',\n",
       " '\"APURI,  PRAMEELA K\",DETENTION AIDE,POLICE,$58476.00',\n",
       " '\"AQUEEL,  MOHAMMAD  SABIR S\",WATER CHEMIST II,WATER MGMNT,$52116.00',\n",
       " '\"AQUINO,  ANTHONY J\",STORES LABORER,GENERAL SERVICES,$79040.00',\n",
       " '\"AQUINO,  ANTHONY M\",SANITATION LABORER,STREETS & SAN,$72384.00',\n",
       " '\"AQUINO,  CANDELARIO\",SIGN PAINTER,AVIATION,$74880.00',\n",
       " '\"AQUINO,  REYNALDO A\",PROJECTS ADMINISTRATOR,GENERAL SERVICES,$87600.00',\n",
       " '\"AQUINO,  WILLIAM\",DIVISION SUPERINTENDENT,STREETS & SAN,$119112.00',\n",
       " '\"ARAGON,  DANIEL\",POLICE OFFICER,POLICE,$73296.00',\n",
       " '\"ARAGONES,  HIRAM\",PARAMEDIC,FIRE,$73296.00',\n",
       " '\"ARAKELOV,  GEORGE\",OPERATING ENGINEER-GROUP C,AVIATION,$93745.60',\n",
       " '\"ARAMBULA,  MIGUEL\",SANITATION LABORER,STREETS & SAN,$72384.00',\n",
       " '\"ARAMBULA,  SAUL\",POLICE OFFICER (ASSIGNED AS DETECTIVE),POLICE,$93648.00',\n",
       " '\"ARAMBURU,  DALLAS\",POLICE OFFICER,POLICE,$69684.00',\n",
       " '\"ARANDA,  ARTHUR\",FIREFIGHTER,FIRE,$86520.00',\n",
       " '\"ARANDA,  ERICA\",AVIATION SECURITY OFFICER,AVIATION,$58476.00',\n",
       " '\"ARANDA,  ROSARIO\",POLICE COMMUNICATIONS OPERATOR I,OEMC,$64188.00',\n",
       " '\"ARANOWSKI,  ALEX J\",POLICE OFFICER (ASSIGNED AS EVIDENCE TECHNICIAN),POLICE,$94236.00',\n",
       " '\"ARASZEWSKI,  BARBARA L\",SUPVSR OF PERSONNEL SERVICES,DoIT,$80916.00',\n",
       " '\"ARAUJO,  JOHN C\",PARKING ENFORCEMENT AIDE,FINANCE,$48540.00',\n",
       " '\"ARAUJO,  MARIO E\",FIREFIGHTER-EMT,FIRE,$88680.00',\n",
       " '\"ARBAGEY,  EDWIN T\",CONSTRUCTION LABORER,WATER MGMNT,$79040.00',\n",
       " '\"ARCE,  DANIELLA\",POLICE OFFICER,POLICE,$73296.00',\n",
       " '\"ARCE,  GILBERT\",POLICE OFFICER/EXPLSV DETECT K9 HNDLR,POLICE,$97044.00',\n",
       " '\"ARCE,  LUIS\",GENERAL LABORER - DSS,STREETS & SAN,$40560.00',\n",
       " '\"ARCEO,  LEW M\",POLICE OFFICER,POLICE,$80778.00',\n",
       " '\"ARCHAMBAULT,  JOSEPH\",MOTOR TRUCK DRIVER,STREETS & SAN,$71780.80',\n",
       " '\"ARCHAMBEAULT,  EDWARD H\",ADMINISTRATIVE ASST III,WATER MGMNT,$66684.00',\n",
       " '\"ARCHER,  CHRISTOPHER J\",POOL MOTOR TRUCK DRIVER,WATER MGMNT,$71780.80',\n",
       " '\"ARCHER,  KENDRA R\",POLICE OFFICER,POLICE,$69684.00',\n",
       " '\"ARCHER,  STEVEN K\",POLICE OFFICER,POLICE,$80778.00',\n",
       " '\"ARCHILLA,  IRIS G\",ASST TO THE COMMISSIONER,HUMAN RELATIONS,$63516.00',\n",
       " '\"ARCHULETA,  RAYMOND\",POLICE OFFICER,POLICE,$69684.00',\n",
       " '\"ARCHULITA,  LAURA\",POLICE OFFICER,POLICE,$69684.00',\n",
       " '\"ARCIERI,  ROCCO\",HOISTING ENGINEER,WATER MGMNT,$97968.00',\n",
       " '\"ARCILLAS,  MARK J\",POLICE OFFICER,POLICE,$86520.00',\n",
       " '\"ARCOS,  XAVIER\",SANITATION CLERK,STREETS & SAN,$61356.00',\n",
       " '\"ARDELEAN,  JOHN\",LABORER - APPRENTICE,WATER MGMNT,$55328.00',\n",
       " '\"ARDELJAN,  MARINEL\",AUTOMOTIVE PAINTER,GENERAL SERVICES,$86840.00',\n",
       " '\"ARDITO,  KEVIN B\",POLICE OFFICER,POLICE,$86520.00',\n",
       " '\"AREIZAGA,  NOEL\",POLICE OFFICER,POLICE,$83616.00',\n",
       " '\"AREKAT,  DARWISH A\",POLICE OFFICER,POLICE,$80778.00',\n",
       " '\"ARELLANO,  ALESIA\",ACCOUNTANT II,FINANCE,$80424.00',\n",
       " '\"ARELLANO,  HECTOR A\",INVESTIGATOR III - IG,INSPECTOR GEN,$83100.00',\n",
       " '\"ARELLANO,  JASON\",POLICE OFFICER,POLICE,$80778.00',\n",
       " '\"ARELLANO,  MIGUEL A\",POLICE OFFICER,POLICE,$83616.00',\n",
       " '\"ARENA,  JOHN S\",ALDERMAN,CITY COUNCIL,$109993.92',\n",
       " '\"ARENAS,  ANA LUISA\",LIBRARY PAGE,PUBLIC LIBRARY,$12407.20',\n",
       " '\"ARENAS,  FRANK\",SANITATION LABORER,STREETS & SAN,$72384.00',\n",
       " '\"ARENAS,  ISABEL C\",HEAD LIBRARY CLERK,PUBLIC LIBRARY,$52848.00',\n",
       " '\"ARENDS,  JASON M\",POLICE OFFICER,POLICE,$86520.00',\n",
       " '\"ARENDS,  SHANNON M\",LIBRARIAN IV,PUBLIC LIBRARY,$95880.00',\n",
       " '\"ARENS,  ROBERT J\",FIREFIGHTER-EMT,FIRE,$91764.00',\n",
       " '\"ARENS,  STEPHANIE L\",LIBRARIAN IV,PUBLIC LIBRARY,$95880.00',\n",
       " '\"ARES,  DAISY\",CROSSING GUARD,POLICE,$18324.80',\n",
       " '\"ARES,  JOSE M\",SANITATION LABORER,STREETS & SAN,$72384.00',\n",
       " '\"ARES,  MICHAEL\",POLICE OFFICER,POLICE,$69684.00',\n",
       " '\"AREVALO,  JOAN E\",ADMINISTRATIVE ASST II,PUBLIC LIBRARY,$55428.00',\n",
       " '\"ARGENBRIGHT,  THOMAS W\",COMMANDER,POLICE,$162684.00',\n",
       " '\"ARGIRIS,  CONSTANTINE J\",STAFF ASST TO THE ALDERMAN,CITY COUNCIL,$52980.00',\n",
       " '\"ARGUELLES,  REBECCA\",SERGEANT,POLICE,$110370.00',\n",
       " '\"ARGUELLO,  BLANCHE L\",PROGRAM ANALYST,POLICE,$96672.00',\n",
       " '\"ARGUELLO,  FANNIE\",POLICE OFFICER,POLICE,$83616.00',\n",
       " '\"ARGUETA,  VICKIE\",ASST CORPORATION COUNSEL,LAW,$61980.00',\n",
       " '\"ARGUETA,  VILMA S\",POLICE OFFICER,POLICE,$80778.00',\n",
       " '\"ARGUMEDO,  LETISCIA S\",POLICE OFFICER,POLICE,$69684.00',\n",
       " '\"ARGYROPOULOS,  JAMES\",POLICE OFFICER,POLICE,$69684.00',\n",
       " '\"ARGYROPOULOS,  NICK\",POLICE OFFICER,POLICE,$83616.00',\n",
       " '\"ARIAS SUL,  MARYLN C\",ADMINISTRATIVE SERVICES OFFICER II,DISABILITIES,$88812.00',\n",
       " '\"ARIAS,  YOLANDA C\",ASST TO THE COMMISSIONER,CULTURAL AFFAIRS,$80916.00',\n",
       " '\"ARIAZ,  COLETTE A\",FIREFIGHTER-EMT,FIRE,$85680.00',\n",
       " '\"ARIF-ABRAHAM,  FATIMA Z\",POLICE OFFICER,POLICE,$80778.00',\n",
       " '\"ARIMA,  BENJAMIN H\",FIREFIGHTER,FIRE,$80778.00',\n",
       " '\"ARIZA,  ROY\",POLICE OFFICER,POLICE,$83616.00',\n",
       " '\"ARIZZI,  BRIAN T\",AIRPORT OPERATIONS SUPVSR II,AVIATION,$84888.00',\n",
       " '\"ARLOWE JR,  PATRICK J\",MOTOR TRUCK DRIVER,WATER MGMNT,$71780.80',\n",
       " '\"ARMAND,  GERTRUDE D\",CROSSING GUARD,POLICE,$16692.00',\n",
       " '\"ARMAND,  HELEN J\",ELDER PROTECTIVE INVESTIGATOR I,FAMILY & SUPPORT,$72840.00',\n",
       " '\"ARMANO,  CURT M\",TREE TRIMMER,STREETS & SAN,$74464.00',\n",
       " '\"ARMENTA,  ANTHONY M\",BRICKLAYER,TRANSPORTN,$88566.40',\n",
       " '\"ARMFIELD,  BYRON\",POOL MOTOR TRUCK DRIVER,STREETS & SAN,$71780.80',\n",
       " '\"ARMFIELD,  CHIQUITA C\",PARKING ENFORCEMENT AIDE,FINANCE,$46380.00',\n",
       " '\"ARMISTEAD JR,  LEON\",POLICE OFFICER,POLICE,$92316.00',\n",
       " '\"ARMOUR,  GRACE ANN\",CLERK II,AVIATION,$43920.00',\n",
       " '\"ARMSTEAD,  AARON P\",POLICE OFFICER,POLICE,$80778.00',\n",
       " '\"ARMSTEAD,  FELICIA G\",POLICE OFFICER,POLICE,$86520.00',\n",
       " '\"ARMSTEAD,  TRAVIS B\",POLICE OFFICER,POLICE,$92316.00',\n",
       " '\"ARMSTRONG,  CLAYTON E\",FOREMAN OF LINEMEN,TRANSPORTN,$106288.00',\n",
       " '\"ARMSTRONG,  DERRICK D\",POLICE OFFICER (ASSIGNED AS DETECTIVE),POLICE,$97044.00',\n",
       " '\"ARMSTRONG,  JEROME\",SANITATION LABORER,STREETS & SAN,$72384.00',\n",
       " '\"ARMSTRONG,  LOUISE\",SENIOR COMPANION,FAMILY & SUPPORT,$2756.00',\n",
       " '\"ARMSTRONG,  OTIS\",ALDERMANIC AIDE,CITY COUNCIL,$5200.00',\n",
       " '\"ARMSTRONG,  PHILLIP D\",POLICE OFFICER,POLICE,$83616.00',\n",
       " '\"ARMSTRONG,  SONYA\",PRINCIPAL PROGRAMMER/ANALYST,FIRE,$97728.00',\n",
       " '\"ARNDT,  DONNA L\",LIBRARY CLERK,PUBLIC LIBRARY,$48168.00',\n",
       " '\"ARNDT,  JOHN V\",CARPENTER,GENERAL SERVICES,$90168.00',\n",
       " '\"ARNOLD,  ANDREA\",CROSSING GUARD,POLICE,$18324.80',\n",
       " '\"ARNOLD,  DENISE C\",DATA ENTRY OPERATOR,AVIATION,$48168.00',\n",
       " '\"ARNOLD,  DIONNE C\",PERSONAL COMPUTER OPERATOR III,PROCUREMENT,$66684.00',\n",
       " '\"ARNOLD-GHOLSTON,  LEATRICA M\",POLICE COMMUNICATIONS OPERATOR II,OEMC,$73764.00',\n",
       " '\"ARNOLD,  PATRICK J\",LIEUTENANT-EMT,FIRE,$109872.00',\n",
       " '\"ARNOLD,  PEARLIE\",CROSSING GUARD,POLICE,$18324.80',\n",
       " '\"ARNOLD,  ROY E\",PAINTER,STREETS & SAN,$86840.00',\n",
       " '\"ARNOLDT,  ROBERT K\",FIREFIGHTER,FIRE,$86520.00',\n",
       " '\"ARNOLTS,  ROBERT C\",POLICE OFFICER,POLICE,$86520.00',\n",
       " '\"ARNONE,  PAUL S\",POOL MOTOR TRUCK DRIVER,AVIATION,$71780.80',\n",
       " '\"ARNSWALD,  THOMAS J\",BATTALION CHIEF - EMT,FIRE,$143682.00',\n",
       " '\"ARNTZEN,  GUENTHER K\",FOREMAN OF ELECTRICAL MECHANICS,OEMC,$97760.00',\n",
       " '\"AROCHO,  ALBERTO\",POOL MOTOR TRUCK DRIVER,AVIATION,$71780.80',\n",
       " '\"ARREDIA,  GARY J\",CONSTRUCTION LABORER,WATER MGMNT,$79040.00',\n",
       " '\"ARREDONDO,  JAVIER\",FIRE ENGINEER,FIRE,$93648.00',\n",
       " '\"ARREDONDO,  TIMOTHY J\",ELECTRICAL MECHANIC,WATER MGMNT,$91520.00',\n",
       " '\"ARREDONDO,  TIMOTHY J\",ELECTRICAL MECHANIC,WATER MGMNT,$91520.00',\n",
       " '\"ARRIAZOLA,  RENE\",POLICE OFFICER,POLICE,$86520.00',\n",
       " '\"ARRIETA,  BLAS E\",ACCOUNTING TECHNICIAN I,FINANCE,$66684.00',\n",
       " '\"ARRIETA,  CHARLES\",CLERK IV,FINANCE,$55428.00',\n",
       " '\"ARRINGTON,  ANDRE J\",FOREMAN OF LINEMEN,OEMC,$106287.96',\n",
       " '\"ARRINGTON,  CORDIA M\",POLICE OFFICER,POLICE,$89718.00',\n",
       " '\"ARRINGTON,  JANET\",SANITATION LABORER,STREETS & SAN,$72384.00',\n",
       " '\"ARRINGTON,  JEREMY\",POLICE OFFICER,POLICE,$46206.00',\n",
       " '\"ARRINGTON,  REGINALD S\",FIREFIGHTER-EMT,FIRE,$91764.00',\n",
       " '\"ARRIOLA,  OSCAR F\",HEAD LIBRARY CLERK,PUBLIC LIBRARY,$60780.00',\n",
       " '\"ARROYO,  ABELARDO X\",SANITATION LABORER,STREETS & SAN,$72384.00',\n",
       " '\"ARROYO,  CESAR\",FIREFIGHTER-EMT,FIRE,$85680.00',\n",
       " '\"ARROYO,  CHRISTOPHER J\",LIEUTENANT-EMT,FIRE,$117078.00',\n",
       " '\"ARROYO,  DANNY\",POLICE OFFICER,POLICE,$69684.00',\n",
       " '\"ARROYO,  ESTEBAN\",POLICE OFFICER,POLICE,$65946.00',\n",
       " '\"ARROYO,  FRANCISCO\",LIBRARIAN II,PUBLIC LIBRARY,$80424.00',\n",
       " '\"ARROYO-FREGOSO,  NANCY\",STAFF ASST,FIRE,$54864.00',\n",
       " '\"ARROYO,  GEORGE\",CUSTODIAL WORKER,AVIATION,$34008.00',\n",
       " '\"ARROYO,  HECTOR L\",FIREFIGHTER (PER ARBITRATORS AWARD)-PARAMEDIC,FIRE,$108462.00',\n",
       " '\"ARROYO,  HERIBERTO\",CLERK III,PUBLIC LIBRARY,$43920.00',\n",
       " '\"ARROYO,  HORACIO A\",FIREFIGHTER-EMT,FIRE,$85680.00',\n",
       " '\"ARROYO,  JASON M\",POLICE OFFICER,POLICE,$80778.00',\n",
       " '\"ARROYO,  JAVIER C\",AIRPORT OPERATIONS SUPVSR II,AVIATION,$107124.00',\n",
       " '\"ARROYO,  JESSE\",POLICE OFFICER,POLICE,$86520.00',\n",
       " ...]"
      ]
     },
     "execution_count": 309,
     "metadata": {},
     "output_type": "execute_result"
    }
   ],
   "source": [
    "full_datarows"
   ]
  },
  {
   "cell_type": "code",
   "execution_count": 311,
   "metadata": {},
   "outputs": [
    {
     "data": {
      "text/plain": [
       "[['Name', 'Position Title', 'Department', 'Employee Annual Salary'],\n",
       " ['\"AARON', '  ELVIA J\"', 'WATER RATE TAKER', 'WATER MGMNT', '$88968.00'],\n",
       " ['\"AARON', '  JEFFERY M\"', 'POLICE OFFICER', 'POLICE', '$80778.00'],\n",
       " ['\"AARON', '  KARINA\"', 'POLICE OFFICER', 'POLICE', '$80778.00'],\n",
       " ['\"AARON',\n",
       "  '  KIMBERLEI R\"',\n",
       "  'CHIEF CONTRACT EXPEDITER',\n",
       "  'GENERAL SERVICES',\n",
       "  '$84780.00'],\n",
       " ['\"ABAD JR',\n",
       "  '  VICENTE M\"',\n",
       "  'CIVIL ENGINEER IV',\n",
       "  'WATER MGMNT',\n",
       "  '$104736.00'],\n",
       " ['\"ABARCA', '  ANABEL\"', 'ASST TO THE ALDERMAN', 'CITY COUNCIL', '$70764.00'],\n",
       " ['\"ABARCA',\n",
       "  '  EMMANUEL\"',\n",
       "  'GENERAL LABORER - DSS',\n",
       "  'STREETS & SAN',\n",
       "  '$40560.00'],\n",
       " ['\"ABBATACOLA',\n",
       "  '  ROBERT J\"',\n",
       "  'ELECTRICAL MECHANIC',\n",
       "  'AVIATION',\n",
       "  '$91520.00'],\n",
       " ['\"ABBATEMARCO', '  JAMES J\"', 'FIRE ENGINEER', 'FIRE', '$90456.00'],\n",
       " ['\"ABBATE', '  TERRY M\"', 'POLICE OFFICER', 'POLICE', '$86520.00'],\n",
       " ['\"ABBOTT',\n",
       "  '  BETTY L\"',\n",
       "  'FOSTER GRANDPARENT',\n",
       "  'FAMILY & SUPPORT',\n",
       "  '$2756.00'],\n",
       " ['\"ABBOTT', '  LYNISE M\"', 'CLERK III', 'POLICE', '$43920.00'],\n",
       " ['\"ABBRUZZESE',\n",
       "  '  WILLIAM J\"',\n",
       "  'INVESTIGATOR - IPRA II',\n",
       "  'IPRA',\n",
       "  '$72468.00'],\n",
       " ['\"ABDALLAH', '  ZAID\"', 'POLICE OFFICER', 'POLICE', '$69684.00'],\n",
       " ['\"ABDELHADI', '  ABDALMAHD\"', 'POLICE OFFICER', 'POLICE', '$80778.00'],\n",
       " ['\"ABDELLATIF',\n",
       "  '  AREF R\"',\n",
       "  'FIREFIGHTER (PER ARBITRATORS AWARD)-PARAMEDIC',\n",
       "  'FIRE',\n",
       "  '$98244.00'],\n",
       " ['\"ABDELMAJEID', '  AZIZ\"', 'POLICE OFFICER', 'POLICE', '$80778.00'],\n",
       " ['\"ABDOLLAHZADEH', '  ALI\"', 'FIREFIGHTER/PARAMEDIC', 'FIRE', '$87720.00'],\n",
       " ['\"ABDUL-KARIM',\n",
       "  '  MUHAMMAD A\"',\n",
       "  'ENGINEERING TECHNICIAN VI',\n",
       "  'WATER MGMNT',\n",
       "  '$106104.00'],\n",
       " ['\"ABDULLAH', '  DANIEL N\"', 'FIREFIGHTER-EMT', 'FIRE', '$91764.00'],\n",
       " ['\"ABDULLAH', '  KEVIN\"', 'LIEUTENANT', 'FIRE', '$110370.00'],\n",
       " ['\"ABDULLAH', '  LAKENYA N\"', 'CROSSING GUARD', 'POLICE', '$16692.00'],\n",
       " ['\"ABDULLAH',\n",
       "  '  RASHAD J\"',\n",
       "  'ELECTRICAL MECHANIC-AUTO-POLICE MTR MNT',\n",
       "  'GENERAL SERVICES',\n",
       "  '$91520.00'],\n",
       " ['\"ABDUL-SHAKUR',\n",
       "  '  TAHIR\"',\n",
       "  'GENERAL LABORER - DSS',\n",
       "  'STREETS & SAN',\n",
       "  '$40560.00'],\n",
       " ['\"ABEJERO', '  JASON V\"', 'POLICE OFFICER', 'POLICE', '$86520.00'],\n",
       " ['\"ABERCROMBIE IV', '  EARL S\"', 'PARAMEDIC', 'FIRE', '$54114.00'],\n",
       " ['\"ABERCROMBIE',\n",
       "  '  TIMOTHY\"',\n",
       "  'MOTOR TRUCK DRIVER',\n",
       "  'STREETS & SAN',\n",
       "  '$71780.80'],\n",
       " ['\"ABIOYE',\n",
       "  '  ADEWOLE A\"',\n",
       "  'LIBRARY ASSOCIATE - HOURLY',\n",
       "  'PUBLIC LIBRARY',\n",
       "  '$24835.20'],\n",
       " ['\"ABOUELKHEIR',\n",
       "  '  HASSAN A\"',\n",
       "  'SENIOR PROGRAMMER/ANALYST',\n",
       "  'DoIT',\n",
       "  '$104736.00'],\n",
       " ['\"ABRAHAM', '  GIRLEY T\"', 'CIVIL ENGINEER IV', 'WATER MGMNT', '$104736.00'],\n",
       " ['\"ABRAHAM',\n",
       "  '  GODWIN K\"',\n",
       "  'ENGINEERING TECHNICIAN V',\n",
       "  'BUSINESS AFFAIRS',\n",
       "  '$96672.00'],\n",
       " ['\"ABRAHAM', '  NANCY A\"', 'POLICE OFFICER', 'POLICE', '$46206.00'],\n",
       " ['\"ABRAMAVICIUS',\n",
       "  '  ANNA A\"',\n",
       "  'SUPERVISING TRAFFIC CONTROL AIDE',\n",
       "  'OEMC',\n",
       "  '$55800.00'],\n",
       " ['\"ABRAMS',\n",
       "  '  DANIELLE T\"',\n",
       "  'SANITATION LABORER',\n",
       "  'STREETS & SAN',\n",
       "  '$72384.00'],\n",
       " ['\"ABRAMS', '  HENRY L\"', 'POLICE OFFICER', 'POLICE', '$92316.00'],\n",
       " ['\"ABRAMSKI', '  JOHN E\"', 'AMBULANCE COMMANDER', 'FIRE', '$123948.00'],\n",
       " ['\"ABRAMS',\n",
       "  '  SAMUEL A\"',\n",
       "  'POOL MOTOR TRUCK DRIVER',\n",
       "  'STREETS & SAN',\n",
       "  '$16151.20'],\n",
       " ['\"ABRATANSKI', '  MARK A\"', 'FIREFIGHTER-EMT', 'FIRE', '$85680.00'],\n",
       " ['\"ABREU', '  DILAN\"', 'SEWER BRICKLAYER', 'WATER MGMNT', '$88566.40'],\n",
       " ['\"ABREU', '  EDWIN\"', 'TREE TRIMMER', 'STREETS & SAN', '$74464.00'],\n",
       " ['\"ABREU',\n",
       "  '  ROBERTO J\"',\n",
       "  'TRAFFIC SIGNAL REPAIRMAN',\n",
       "  'TRANSPORTN',\n",
       "  '$95888.04'],\n",
       " ['\"ABREU',\n",
       "  '  ROSITA\"',\n",
       "  'PERSONAL COMPUTER OPERATOR III',\n",
       "  'HEALTH',\n",
       "  '$66684.00'],\n",
       " ['\"ABREU', '  VICTOR\"', 'SENIOR COMPANION', 'FAMILY & SUPPORT', '$2756.00'],\n",
       " ['\"ABREU', '  VICTOR\"', 'FIREFIGHTER-EMT', 'FIRE', '$95460.00'],\n",
       " ['\"ABRON', '  FLOYD\"', 'POLICE OFFICER', 'POLICE', '$86520.00'],\n",
       " ['\"ABRONS', '  KENNETH L\"', 'ELECTRICAL MECHANIC', 'AVIATION', '$91520.00'],\n",
       " ['\"ABSTON', '  KATHY A\"', 'POLICE OFFICER', 'POLICE', '$89718.00'],\n",
       " ['\"ABUBAKER',\n",
       "  '  MOHAMMED G\"',\n",
       "  'SENIOR ENVIRONMENTAL INSPECTOR',\n",
       "  'HEALTH',\n",
       "  '$76656.00'],\n",
       " ['\"ABUDAYEH', '  ELIAS\"', 'POLICE OFFICER', 'POLICE', '$46206.00'],\n",
       " ['\"ABUHASHISH', '  AWWAD\"', 'PLUMBER', 'WATER MGMNT', '$97032.00'],\n",
       " ['\"ABUTALEB', '  AHMAD H\"', 'CIVIL ENGINEER II', 'WATER MGMNT', '$87912.00'],\n",
       " ['\"ABUZANAT',\n",
       "  '  ABDALLA H\"',\n",
       "  'POLICE OFFICER (ASSIGNED AS EVIDENCE TECHNICIAN)',\n",
       "  'POLICE',\n",
       "  '$90846.00'],\n",
       " ['\"ACCARDO', '  ANTHONY D\"', 'CONSTRUCTION LABORER', 'AVIATION', '$79040.00'],\n",
       " ['\"ACCARDO', '  JENNIFER A\"', 'POLICE OFFICER', 'POLICE', '$83616.00'],\n",
       " ['\"ACCARDO', '  THOMAS J\"', 'POLICE OFFICER', 'POLICE', '$83616.00'],\n",
       " ['\"ACCIARI',\n",
       "  '  MICHAEL G\"',\n",
       "  'DIVISION SUPERINTENDENT',\n",
       "  'STREETS & SAN',\n",
       "  '$106884.00'],\n",
       " ['\"ACCIARI',\n",
       "  '  NICHOLAS B\"',\n",
       "  'MOTOR TRUCK DRIVER',\n",
       "  'STREETS & SAN',\n",
       "  '$72862.40'],\n",
       " ['\"ACCURSO',\n",
       "  '  MARY K\"',\n",
       "  'ADMINISTRATIVE ASST',\n",
       "  \"MAYOR'S OFFICE\",\n",
       "  '$48000.00'],\n",
       " ['\"ACEVEDO', '  AARON F\"', 'POLICE OFFICER', 'POLICE', '$80778.00'],\n",
       " ['\"ACEVEDO', '  ALEJANDRO R\"', 'POLICE OFFICER', 'POLICE', '$80778.00'],\n",
       " ['\"ACEVEDO', '  BIENVENIDO\"', 'POLICE OFFICER', 'POLICE', '$86520.00'],\n",
       " ['\"ACEVEDO', '  CLARISSA\"', 'POLICE OFFICER', 'POLICE', '$92316.00'],\n",
       " ['\"ACEVEDO',\n",
       "  '  DAILHA\"',\n",
       "  'COMMUNICABLE DISEASE CONTROL INVESTIGATOR II',\n",
       "  'HEALTH',\n",
       "  '$66684.00'],\n",
       " ['\"ACEVEDO', '  EDWARD\"', 'POLICE OFFICER', 'POLICE', '$83616.00'],\n",
       " ['\"ACEVEDO', '  EDWIN C\"', 'FIREFIGHTER', 'FIRE', '$90018.00'],\n",
       " ['\"ACEVEDO', '  ERIC\"', 'POLICE OFFICER', 'POLICE', '$46206.00'],\n",
       " ['\"ACEVEDO', '  GILBERT\"', 'LIEUTENANT-EMT', 'FIRE', '$117078.00'],\n",
       " ['\"ACEVEDO', '  ILIA\"', 'POLICE OFFICER', 'POLICE', '$69684.00'],\n",
       " ['\"ACEVEDO', '  JANETE\"', 'POLICE OFFICER', 'POLICE', '$80778.00'],\n",
       " ['\"ACEVEDO', '  JASON M\"', 'POLICE OFFICER', 'POLICE', '$83616.00'],\n",
       " ['\"ACEVEDO', '  JAVIER\"', 'ASPHALT LABORER', 'TRANSPORTN', '$79040.00'],\n",
       " ['\"ACEVEDO', '  JEFF\"', 'POLICE OFFICER', 'POLICE', '$89718.00'],\n",
       " ['\"ACEVEDO',\n",
       "  '  LOUIS N\"',\n",
       "  'MOTOR TRUCK DRIVER',\n",
       "  'GENERAL SERVICES',\n",
       "  '$71780.80'],\n",
       " ['\"ACEVEDO', '  MANUEL A\"', 'FIREFIGHTER', 'FIRE', '$86520.00'],\n",
       " ['\"ACEVEDO',\n",
       "  '  MARCO A\"',\n",
       "  'POLICE OFFICER (ASSIGNED AS DETECTIVE)',\n",
       "  'POLICE',\n",
       "  '$93648.00'],\n",
       " ['\"ACEVEDO',\n",
       "  '  MARISOL\"',\n",
       "  'SENIOR PUBLIC INFORMATION OFFICER',\n",
       "  'BUSINESS AFFAIRS',\n",
       "  '$84780.00'],\n",
       " ['\"ACEVEDO', '  MARTIN J\"', 'POLICE OFFICER', 'POLICE', '$86520.00'],\n",
       " ['\"ACEVEDO', '  MIKE\"', 'AVIATION SECURITY OFFICER', 'AVIATION', '$64188.00'],\n",
       " ['\"ACEVEDO', '  NADINE M\"', 'POLICE OFFICER', 'POLICE', '$83616.00'],\n",
       " ['\"ACEVEDO', '  RAFAEL\"', 'POLICE OFFICER', 'POLICE', '$83616.00'],\n",
       " ['\"ACEVES', '  JUAN C\"', 'POLICE OFFICER', 'POLICE', '$83616.00'],\n",
       " ['\"ACEVEZ', '  ANTHONY E\"', 'POLICE OFFICER', 'POLICE', '$86520.00'],\n",
       " ['\"ACHILLES',\n",
       "  '  AMBER L\"',\n",
       "  'ASST CORPORATION COUNSEL SUPVSR',\n",
       "  'LAW',\n",
       "  '$91068.00'],\n",
       " ['\"ACHILLY', '  LISA S\"', 'POLICE OFFICER', 'POLICE', '$86520.00'],\n",
       " ['\"ACHTEL', '  SCOTT R\"', 'FIREFIGHTER-EMT', 'FIRE', '$91764.00'],\n",
       " ['\"ACKERMANN', '  MICHAEL A\"', 'PARAMEDIC', 'FIRE', '$54114.00'],\n",
       " ['\"ACKLIN', '  QIANA D\"', 'CROSSING GUARD', 'POLICE', '$16692.00'],\n",
       " ['\"ACOSTA', '  JESSE A\"', 'POLICE OFFICER', 'POLICE', '$89718.00'],\n",
       " ['\"ACOSTA',\n",
       "  '  MARTHA A\"',\n",
       "  'LIBRARY ASSOCIATE',\n",
       "  'PUBLIC LIBRARY',\n",
       "  '$66120.00'],\n",
       " ['\"ACOSTA', '  MICHELE D\"', 'POLICE OFFICER', 'POLICE', '$86520.00'],\n",
       " ['\"ACOSTA', '  PABLO S\"', 'SANITATION LABORER', 'STREETS & SAN', '$72384.00'],\n",
       " ['\"ACOSTA', '  ROSA M\"', 'PARKING ENFORCEMENT AIDE', 'AVIATION', '$55800.00'],\n",
       " ['\"ACRES',\n",
       "  '  ANTHONY E\"',\n",
       "  'CONSTRUCTION LABORER',\n",
       "  'GENERAL SERVICES',\n",
       "  '$79040.00'],\n",
       " ['\"ACSVECS', '  ZAIREH\"', 'POLICE OFFICER', 'POLICE', '$80778.00'],\n",
       " ['\"ACUFF', '  KRISTIN L\"', 'ASST CORPORATION COUNSEL', 'LAW', '$70380.00'],\n",
       " ['\"ADAIR', '  KENNETH R\"', 'POLICE OFFICER', 'POLICE', '$83616.00'],\n",
       " ['\"ADAIR', '  STEVEN\"', 'SANITATION LABORER', 'STREETS & SAN', '$72384.00'],\n",
       " ['\"ADAMCZYK JR', '  JAN\"', 'BOOTER - PARKING', 'FINANCE', '$64812.80'],\n",
       " ['\"ADAMCZYK', '  LAWRENCE M\"', 'FIREFIGHTER', 'FIRE', '$90018.00'],\n",
       " ['\"ADAME',\n",
       "  '  JORGE A\"',\n",
       "  'MACHINIST (AUTOMOTIVE)',\n",
       "  'GENERAL SERVICES',\n",
       "  '$92248.00'],\n",
       " ['\"ADAME', '  PEDRO\"', 'CUSTODIAL WORKER', 'AVIATION', '$42369.60'],\n",
       " ['\"ADAMIAK', '  SIMON P\"', 'POLICE OFFICER', 'POLICE', '$83616.00'],\n",
       " ['\"ADAMIK',\n",
       "  '  JEFFREY S\"',\n",
       "  'POLICE OFFICER (ASSIGNED AS DETECTIVE)',\n",
       "  'POLICE',\n",
       "  '$93648.00'],\n",
       " ['\"ADAMIK', '  MATTHEW W\"', 'PARAMEDIC I/C', 'FIRE', '$87534.00'],\n",
       " ['\"ADAM', '  MICHAEL A\"', 'MOTOR TRUCK DRIVER', 'TRANSPORTN', '$71780.80'],\n",
       " ['\"ADAMOW', '  JEFFREY W\"', 'FIREFIGHTER-EMT', 'FIRE', '$85680.00'],\n",
       " ['\"ADAM',\n",
       "  '  RICHARD\"',\n",
       "  'FOREMAN OF MOTOR TRUCK DRIVERS',\n",
       "  'STREETS & SAN',\n",
       "  '$75732.80'],\n",
       " ['\"ADAMS', '  CRAIG W\"', 'POLICE OFFICER', 'POLICE', '$92316.00'],\n",
       " ['\"ADAMS',\n",
       "  '  DAVID E\"',\n",
       "  'SPECIAL EVENTS COORD III',\n",
       "  'CULTURAL AFFAIRS',\n",
       "  '$77280.00'],\n",
       " ['\"ADAMS', '  DEANIE M\"', 'LIBRARIAN I', 'PUBLIC LIBRARY', '$53796.00'],\n",
       " ['\"ADAMS', '  DELRICE\"', 'PROGRAM DEVELOPMENT COORD', 'HEALTH', '$54492.00'],\n",
       " ['\"ADAMS', '  DENIS H\"', 'CLINICAL THERAPIST III', 'POLICE', '$95880.00'],\n",
       " ['\"ADAMS', '  DWAYNE D\"', 'POLICE OFFICER', 'POLICE', '$80778.00'],\n",
       " ['\"ADAMS EL', '  WARREN\"', 'CROSSING GUARD', 'POLICE', '$18324.80'],\n",
       " ['\"ADAMS', '  ERWIN\"', 'ASPHALT LABORER', 'TRANSPORTN', '$79040.00'],\n",
       " ['\"ADAMS', '  EULA M\"', 'DATA ENTRY OPERATOR', 'WATER MGMNT', '$48168.00'],\n",
       " ['\"ADAMS', '  GARY W\"', 'SANITATION LABORER', 'STREETS & SAN', '$72384.00'],\n",
       " ['\"ADAMS',\n",
       "  '  GREGORY M\"',\n",
       "  'AVIATION SECURITY OFFICER',\n",
       "  'AVIATION',\n",
       "  '$61260.00'],\n",
       " ['\"ADAMS',\n",
       "  '  GREGORY W\"',\n",
       "  'ADMINISTRATIVE ASST III',\n",
       "  'BUSINESS AFFAIRS',\n",
       "  '$73200.00'],\n",
       " ['\"ADAMS', '  HAROLD\"', 'CONCRETE LABORER', 'TRANSPORTN', '$79040.00'],\n",
       " ['\"ADAMS',\n",
       "  '  JAMES W\"',\n",
       "  'POLICE OFFICER (ASSIGNED AS DETECTIVE)',\n",
       "  'POLICE',\n",
       "  '$97044.00'],\n",
       " ['\"ADAMS JR', '  JERRY M\"', 'POLICE OFFICER', 'POLICE', '$89718.00'],\n",
       " ['\"ADAMS JR', '  JOHN W\"', 'FIREFIGHTER-EMT', 'FIRE', '$85680.00'],\n",
       " ['\"ADAMSKI', '  JERRY J\"', 'POLICE OFFICER', 'POLICE', '$83616.00'],\n",
       " ['\"ADAMSKI', '  ROBERT\"', 'POLICE OFFICER', 'POLICE', '$69684.00'],\n",
       " ['\"ADAMS',\n",
       "  '  KRYSTA\"',\n",
       "  'GENERAL LABORER - DSS',\n",
       "  'STREETS & SAN',\n",
       "  '$40560.00'],\n",
       " ['\"ADAMS',\n",
       "  '  LEAH\"',\n",
       "  'ACCOUNTING TECHNICIAN II',\n",
       "  'COMMUNITY DEVELOPMENT',\n",
       "  '$60780.00'],\n",
       " ['\"ADAMS', '  MARJORIE E\"', 'LIBRARY PAGE', 'PUBLIC LIBRARY', '$12407.20'],\n",
       " ['\"ADAMS', '  MATTHEW\"', 'POLICE OFFICER', 'POLICE', '$46206.00'],\n",
       " ['\"ADAMS', '  MAURICE R\"', 'PROPERTY CUSTODIAN', 'POLICE', '$63708.00'],\n",
       " ['\"ADAMS',\n",
       "  '  MICHAEL A\"',\n",
       "  'POLICE OFFICER (ASSIGNED AS DETECTIVE)',\n",
       "  'POLICE',\n",
       "  '$97044.00'],\n",
       " ['\"ADAMS', '  MICHAEL J\"', 'WATCHMAN', 'GENERAL SERVICES', '$43950.40'],\n",
       " ['\"ADAMS', '  OLIVIA I\"', 'LEGAL SECRETARY', 'LAW', '$80328.00'],\n",
       " ['\"ADAMS',\n",
       "  '  QUAN R\"',\n",
       "  'POOL MOTOR TRUCK DRIVER',\n",
       "  'STREETS & SAN',\n",
       "  '$71780.80'],\n",
       " ['\"ADAMS', '  QUENJANA\"', 'INFORMATION COORD', 'HEALTH', '$66564.00'],\n",
       " ['\"ADAMS', '  RAYMOND T\"', 'LIEUTENANT-EMT', 'FIRE', '$109872.00'],\n",
       " ['\"ADAMS',\n",
       "  '  ROBERT L\"',\n",
       "  'VENTILATION AND FURNACE INSPECTOR',\n",
       "  'BUILDINGS',\n",
       "  '$93288.00'],\n",
       " ['\"ADAMS',\n",
       "  '  ROSITA\"',\n",
       "  'CROSSING GUARD - PER AGREEMENT',\n",
       "  'POLICE',\n",
       "  '$13790.40'],\n",
       " ['\"ADAMS', '  RYAN\"', 'POLICE OFFICER', 'POLICE', '$80778.00'],\n",
       " ['\"ADAMS', '  SHERYLL A\"', 'LIBRARIAN IV', 'PUBLIC LIBRARY', '$90948.00'],\n",
       " ['\"ADAMS',\n",
       "  '  STANLEY\"',\n",
       "  'SUPVSR OF COMPENSATION',\n",
       "  'BUSINESS AFFAIRS',\n",
       "  '$88812.00'],\n",
       " ['\"ADAMS', '  TANERA C\"', 'CIVIL ENGINEER IV', 'TRANSPORTN', '$104736.00'],\n",
       " ['\"ADAMS THOMAS',\n",
       "  '  CHEEAREASE R\"',\n",
       "  'PUBLIC HEALTH ADMINISTRATOR I',\n",
       "  'HEALTH',\n",
       "  '$69888.00'],\n",
       " ['\"ADAMS', '  TIMOTHY J\"', 'POLICE OFFICER', 'POLICE', '$86520.00'],\n",
       " ['\"ADAMS', '  VICKY M\"', 'POLICE OFFICER', 'POLICE', '$86520.00'],\n",
       " ['\"ADAPON', '  NENITA P\"', 'ACCOUNTING TECHNICIAN I', 'FINANCE', '$58020.00'],\n",
       " ['\"ADCOCK', '  DAVID G\"', 'POLICE OFFICER', 'POLICE', '$83616.00'],\n",
       " ['\"ADCOCK', '  MARK\"', 'FOREMAN OF WINDOW WASHERS', 'AVIATION', '$48963.20'],\n",
       " ['\"ADCOCK', '  TOMMY W\"', 'CONCRETE LABORER', 'TRANSPORTN', '$79040.00'],\n",
       " ['\"ADDANTE',\n",
       "  '  VINCENZO\"',\n",
       "  'POOL MOTOR TRUCK DRIVER',\n",
       "  'STREETS & SAN',\n",
       "  '$16151.20'],\n",
       " ['\"ADDISON',\n",
       "  '  LATASHA D\"',\n",
       "  'LIBRARY CLERK - HOURLY',\n",
       "  'PUBLIC LIBRARY',\n",
       "  '$15995.20'],\n",
       " ['\"ADDISON', '  LEWIS\"', 'LIBRARY ASSOCIATE', 'PUBLIC LIBRARY', '$66120.00'],\n",
       " ['\"ADDUCI', '  MARK A\"', 'LIEUTENANT', 'POLICE', '$120264.00'],\n",
       " ['\"ADEBAYO',\n",
       "  '  BENJAMIN B\"',\n",
       "  'BUILDING/CONSTRUCTION INSPECTOR',\n",
       "  'BUILDINGS',\n",
       "  '$107124.00'],\n",
       " ['\"ADEGBORE', '  JUANITA\"', 'POLICE OFFICER', 'POLICE', '$86520.00'],\n",
       " ['\"ADE', '  JAMES P\"', 'POLICE OFFICER', 'POLICE', '$80778.00'],\n",
       " ['\"ADE', '  JAMES P\"', 'SERGEANT', 'POLICE', '$110370.00'],\n",
       " ['\"ADEKA',\n",
       "  '  IBILOLA I\"',\n",
       "  'SUPERVISING DISEASE CONTROL INVESTIGATOR - EXCL',\n",
       "  'HEALTH',\n",
       "  '$70380.00'],\n",
       " ['\"ADELAKUN', '  NIKTE E\"', 'POLICE OFFICER', 'POLICE', '$83616.00'],\n",
       " ['\"ADELIZZI',\n",
       "  '  JOY A\"',\n",
       "  'DEPUTY COMMISSIONER',\n",
       "  'BUSINESS AFFAIRS',\n",
       "  '$116688.00'],\n",
       " ['\"ADELMAN', '  BRUCE E\"', 'LEGISLATIVE AIDE', 'CITY COUNCIL', '$18999.96'],\n",
       " ['\"ADENI', '  MOHAMED K\"', 'ACCOUNTANT IV', 'FINANCE', '$95880.00'],\n",
       " ['\"ADESANYA',\n",
       "  '  EMMANUEL S\"',\n",
       "  'ENVIRONMENTAL ENGINEER II',\n",
       "  'HEALTH',\n",
       "  '$95880.00'],\n",
       " ['\"ADESOKAN', '  ADENIKE\"', 'LAW CLERK', 'LAW', '$25152.40'],\n",
       " ['\"ADEWOLE',\n",
       "  '  KAREEM A\"',\n",
       "  'LABORER - APPRENTICE',\n",
       "  'WATER MGMNT',\n",
       "  '$55328.00'],\n",
       " ['\"ADEYEMO', '  HORATIO A\"', 'CIVIL ENGINEER III', 'TRANSPORTN', '$95880.00'],\n",
       " ['\"ADEYEMO',\n",
       "  '  MOJIROLA M\"',\n",
       "  'PUBLIC HEALTH ADMINISTRATOR I',\n",
       "  'HEALTH',\n",
       "  '$66684.00'],\n",
       " ['\"ADKINS', '  BRITTANY L\"', 'ASST CORPORATION COUNSEL', 'LAW', '$57192.00'],\n",
       " ['\"ADKINS',\n",
       "  '  KERRI M\"',\n",
       "  'POLICE COMMUNICATIONS OPERATOR I',\n",
       "  'OEMC',\n",
       "  '$73764.00'],\n",
       " ['\"ADKINS', '  MARC D\"', 'POLICE OFFICER', 'POLICE', '$92316.00'],\n",
       " ['\"ADKINS',\n",
       "  '  WILLIAM J\"',\n",
       "  'FIRE COMMUNICATIONS OPERATOR II',\n",
       "  'OEMC',\n",
       "  '$92004.00'],\n",
       " ['\"ADLER',\n",
       "  '  LAURA R\"',\n",
       "  'LIBRARY ASSOCIATE - HOURLY',\n",
       "  'PUBLIC LIBRARY',\n",
       "  '$24835.20'],\n",
       " ['\"ADLER', '  TRACY L\"', 'POLICE OFFICER', 'POLICE', '$80778.00'],\n",
       " ['\"ADLESICK JR', '  JOSEPH D\"', 'POLICE OFFICER', 'POLICE', '$86520.00'],\n",
       " ['\"ADOLFIE',\n",
       "  '  ELIZABETH U\"',\n",
       "  'ADMINISTRATIVE ASST III',\n",
       "  'BUSINESS AFFAIRS',\n",
       "  '$69888.00'],\n",
       " ['\"ADOLFIE JR', '  WALTER S\"', 'POLICE OFFICER', 'POLICE', '$89718.00'],\n",
       " ['\"ADREANI', '  JOHN A\"', 'POLICE OFFICER', 'POLICE', '$89718.00'],\n",
       " ['\"ADREANI', '  JOHN J\"', 'FIRE ENGINEER-EMT', 'FIRE', '$99324.00'],\n",
       " ['\"ADRIAN', '  CHERI A\"', 'SERGEANT', 'POLICE', '$106920.00'],\n",
       " ['\"ADRIAN',\n",
       "  '  JOHN P\"',\n",
       "  'ASST CHIEF AIRPORT OPERATIONS SUPVSR',\n",
       "  'AVIATION',\n",
       "  '$117528.00'],\n",
       " ['\"AEEK', '  WUR D\"', 'STUDENT INTERN', 'TRANSPORTN', '$21840.00'],\n",
       " ['\"AFFANEH', '  MAHIR A\"', 'POLICE OFFICER', 'POLICE', '$86520.00'],\n",
       " ['\"AGAR',\n",
       "  '  BULENT B\"',\n",
       "  'COORDINATING ENGINEER I',\n",
       "  'WATER MGMNT',\n",
       "  '$103740.00'],\n",
       " ['\"AGEE', '  LAWRENCE\"', 'POLICE OFFICER', 'POLICE', '$83616.00'],\n",
       " ['\"AGIN', '  LAURA J\"', 'POLICE OFFICER', 'POLICE', '$92316.00'],\n",
       " ['\"AGNEW',\n",
       "  '  ANTONIO E\"',\n",
       "  'POOL MOTOR TRUCK DRIVER',\n",
       "  'AVIATION',\n",
       "  '$71780.80'],\n",
       " ['\"AGOSTA',\n",
       "  '  JOSEPH J\"',\n",
       "  'POLICE OFFICER (ASSIGNED AS DETECTIVE)',\n",
       "  'POLICE',\n",
       "  '$99888.00'],\n",
       " ['\"AGOSTINELLI',\n",
       "  '  MICHAEL A\"',\n",
       "  'FIREFIGHTER (PER ARBITRATORS AWARD)',\n",
       "  'FIRE',\n",
       "  '$97044.00'],\n",
       " ['\"AGOSTO', '  HECTOR I\"', 'POLICE OFFICER', 'POLICE', '$83616.00'],\n",
       " ['\"AGREDANO', '  MARIO\"', 'BRIDGE OPERATOR', 'TRANSPORTN', '$55968.00'],\n",
       " ['\"AGRON', '  EDUARDO\"', 'SERGEANT', 'POLICE', '$106920.00'],\n",
       " ['\"AGRON', '  EDWIN\"', 'POLICE OFFICER', 'POLICE', '$83616.00'],\n",
       " ['\"AGSALUD',\n",
       "  '  FERNAN S\"',\n",
       "  'SANITATION LABORER',\n",
       "  'STREETS & SAN',\n",
       "  '$72384.00'],\n",
       " ['\"AGSALUD JR',\n",
       "  '  JUANITO S\"',\n",
       "  'SANITATION LABORER',\n",
       "  'STREETS & SAN',\n",
       "  '$72384.00'],\n",
       " ['\"AGUADA', '  GILBERT GLENN\"', 'POLICE OFFICER', 'POLICE', '$69684.00'],\n",
       " ['\"AGUAS', '  ALEX\"', 'POLICE OFFICER', 'POLICE', '$69684.00'],\n",
       " ['\"AGUAYO', '  BRAULIO\"', 'FIREFIGHTER', 'FIRE', '$65946.00'],\n",
       " ['\"AGUAYO', '  LUIS A\"', 'FIREFIGHTER-EMT', 'FIRE', '$85680.00'],\n",
       " ['\"AGUET',\n",
       "  '  PHILLIP R\"',\n",
       "  'SENIOR EMERGENCY MANAGEMENT COORD',\n",
       "  'HEALTH',\n",
       "  '$63732.00'],\n",
       " ['\"AGUIAR',\n",
       "  '  WILLIAM M\"',\n",
       "  'ASST CORPORATION COUNSEL SUPVSR',\n",
       "  'LAW',\n",
       "  '$106416.00'],\n",
       " ['\"AGUILAR',\n",
       "  '  ALFREDO\"',\n",
       "  'DISTRICT SUPVSR - GRAFFITI REMOVAL SERVICES',\n",
       "  'STREETS & SAN',\n",
       "  '$92304.00'],\n",
       " ['\"AGUILAR', '  EFRAIN\"', 'SANITATION LABORER', 'STREETS & SAN', '$72384.00'],\n",
       " ['\"AGUILAR', '  ELMA M\"', 'ANIMAL CARE AIDE I', 'ANIMAL CONTRL', '$66684.00'],\n",
       " ['\"AGUILAR', '  ESTHER\"', 'COORD OF SPECIAL PROJECTS', 'HEALTH', '$84780.00'],\n",
       " ['\"AGUILAR', '  IRENE\"', 'SANITATION CLERK', 'STREETS & SAN', '$67344.00'],\n",
       " ['\"AGUILAR', '  JESUS D\"', 'PARAMEDIC I/C', 'FIRE', '$79404.00'],\n",
       " ['\"AGUILAR',\n",
       "  '  JOSE CRUZ A\"',\n",
       "  'SANITATION LABORER',\n",
       "  'STREETS & SAN',\n",
       "  '$72384.00'],\n",
       " ['\"AGUILAR', '  JOSEPHINE\"', 'FIREFIGHTER', 'FIRE', '$90018.00'],\n",
       " ['\"AGUILAR',\n",
       "  '  JUANITA\"',\n",
       "  'POOL MOTOR TRUCK DRIVER',\n",
       "  'AVIATION',\n",
       "  '$71780.80'],\n",
       " ['\"AGUILAR', '  JUANITA M\"', 'EDITORIAL ASST', 'CITY CLERK', '$60780.00'],\n",
       " ['\"AGUILAR', '  KARINA D\"', 'SERGEANT', 'POLICE', '$103590.00'],\n",
       " ['\"AGUILAR',\n",
       "  '  LOUIS\"',\n",
       "  'SENIOR CLERK-ELECTIONS',\n",
       "  'BOARD OF ELECTION',\n",
       "  '$50472.00'],\n",
       " ['\"AGUILAR', '  LUIS\"', 'POLICE OFFICER', 'POLICE', '$83616.00'],\n",
       " ['\"AGUILAR', '  RAY R\"', 'POLICE OFFICER', 'POLICE', '$80778.00'],\n",
       " ['\"AGUILAR',\n",
       "  '  RICARDO L\"',\n",
       "  'ANIMAL CONTROL OFFICER',\n",
       "  'ANIMAL CONTRL',\n",
       "  '$64188.00'],\n",
       " ['\"AGUILAR', '  ROBERT\"', 'MOTOR TRUCK DRIVER', 'STREETS & SAN', '$71780.80'],\n",
       " ['\"AGUILAR', '  ROBERT\"', 'MOTOR TRUCK DRIVER', 'STREETS & SAN', '$71780.80'],\n",
       " ['\"AGUILERA', '  CONSUELO M\"', 'SERGEANT', 'POLICE', '$110370.00'],\n",
       " ['\"AGUILERA', '  HORACIO\"', 'POLICE OFFICER', 'POLICE', '$46206.00'],\n",
       " ['\"AGUILERA', '  JESUS\"', 'SANITATION LABORER', 'STREETS & SAN', '$72384.00'],\n",
       " ['\"AGUILERA',\n",
       "  '  JUAN A\"',\n",
       "  'STREET LIGHT REPAIR WORKER',\n",
       "  'TRANSPORTN',\n",
       "  '$95888.04'],\n",
       " ['\"AGUILERA', '  LINDA M\"', 'POLICE OFFICER', 'POLICE', '$83616.00'],\n",
       " ['\"AGUILERA', '  MARIA C\"', 'POLICE OFFICER', 'POLICE', '$65946.00'],\n",
       " ['\"AGUILERA', '  SAUL\"', 'POLICE OFFICER', 'POLICE', '$73296.00'],\n",
       " ['\"AGUILERA', '  TONY\"', 'MOTOR TRUCK DRIVER', 'STREETS & SAN', '$71780.80'],\n",
       " ['\"AGUILOS', '  CESAR M\"', 'POLICE OFFICER', 'POLICE', '$86520.00'],\n",
       " ['\"AGUINAGA', '  JOHN P\"', 'POLICE OFFICER', 'POLICE', '$92316.00'],\n",
       " ['\"AGUINAGA', '  JOSEPH C\"', 'POLICE OFFICER', 'POLICE', '$92316.00'],\n",
       " ['\"AGUINAGA', '  MEGAN E\"', 'POLICE OFFICER', 'POLICE', '$80778.00'],\n",
       " ['\"AGUIRRE', '  ALEX\"', 'SANITATION LABORER', 'STREETS & SAN', '$72384.00'],\n",
       " ['\"AGUIRRE', '  ANTHONY J\"', 'POLICE OFFICER', 'POLICE', '$86520.00'],\n",
       " ['\"AGUIRRE', '  ENRIQUE\"', 'POLICE OFFICER', 'POLICE', '$80778.00'],\n",
       " ['\"AGUIRRE',\n",
       "  '  GUADALUPE\"',\n",
       "  'ADMINISTRATIVE SERVICES OFFICER II',\n",
       "  'TRANSPORTN',\n",
       "  '$88812.00'],\n",
       " ['\"AGUIRRE', '  GUADALUPE G\"', 'POLICE OFFICER', 'POLICE', '$80778.00'],\n",
       " ['\"AGUIRRE',\n",
       "  '  JOSEPH R\"',\n",
       "  'POLICE OFFICER (ASSIGNED AS DETECTIVE)',\n",
       "  'POLICE',\n",
       "  '$99888.00'],\n",
       " ['\"AGUIRRE',\n",
       "  '  JUAN M\"',\n",
       "  'POLICE OFFICER (ASSIGNED AS EVIDENCE TECHNICIAN)',\n",
       "  'POLICE',\n",
       "  '$94236.00'],\n",
       " ['\"AGUIRRE', '  PABLO\"', 'POLICE OFFICER', 'POLICE', '$80778.00'],\n",
       " ['\"AGUIRRE', '  RAMIRO\"', 'POLICE OFFICER', 'POLICE', '$80778.00'],\n",
       " ['\"AGUIRRE', '  ROBERT J\"', 'LOAD DISPATCHER', 'TRANSPORTN', '$95888.04'],\n",
       " ['\"AGUIRRE', '  TANYA L\"', 'POLICE OFFICER', 'POLICE', '$92316.00'],\n",
       " ['\"AGYEKUM',\n",
       "  '  KOFI\"',\n",
       "  'PROGRAMMER/ANALYST',\n",
       "  'BUSINESS AFFAIRS',\n",
       "  '$87912.00'],\n",
       " ['\"AHARANWA', '  ALEXANDER E\"', 'LIBRARIAN I', 'PUBLIC LIBRARY', '$72840.00'],\n",
       " ['\"AHEARN', '  DORY E\"', 'POLICE OFFICER', 'POLICE', '$86520.00'],\n",
       " ['\"AHERN', '  MICHAEL J\"', 'FIRE ENGINEER-EMT', 'FIRE', '$99324.00'],\n",
       " ['\"AHERN', '  PATRICIA\"', 'ALDERMANIC AIDE', 'CITY COUNCIL', '$23400.00'],\n",
       " ['\"AHERN', '  PATRICK J\"', 'FIREFIGHTER', 'FIRE', '$86520.00'],\n",
       " ['\"AHERN', '  SCOTT E\"', 'POLICE OFFICER', 'POLICE', '$89718.00'],\n",
       " ['\"AHLGRIM', '  MICHAEL L\"', 'FIREFIGHTER', 'FIRE', '$65946.00'],\n",
       " ['\"AHLHEIM', '  MARGARET L\"', 'LIEUTENANT-EMT', 'FIRE', '$106524.00'],\n",
       " ['\"AHMAD', '  FADI M\"', 'POLICE OFFICER', 'POLICE', '$80778.00'],\n",
       " ['\"AHMAD', '  FAROOQ\"', 'LABORER', 'AVIATION', '$67329.60'],\n",
       " ['\"AHMAD', '  HOORYA\"', 'ASST CORPORATION COUNSEL', 'LAW', '$61980.00'],\n",
       " ['\"AHMAD',\n",
       "  '  SARWAT\"',\n",
       "  'LIBRARY CLERK - HOURLY',\n",
       "  'PUBLIC LIBRARY',\n",
       "  '$15995.20'],\n",
       " ['\"AHMED',\n",
       "  '  AMMAR E\"',\n",
       "  'DIR OF INFORMATION SYSTEMS',\n",
       "  'INSPECTOR GEN',\n",
       "  '$105828.00'],\n",
       " ['\"AHMED',\n",
       "  '  KHALID\"',\n",
       "  'CHIEF PROGRAMMER/ANALYST',\n",
       "  'WATER MGMNT',\n",
       "  '$110352.00'],\n",
       " ['\"AHMED',\n",
       "  '  MOHAMMAD A\"',\n",
       "  'PARKING ENFORCEMENT AIDE',\n",
       "  'FINANCE',\n",
       "  '$53292.00'],\n",
       " ['\"AHMED', '  NAFEES\"', 'DEPUTY COMMISSIONER', 'AVIATION', '$120444.00'],\n",
       " ['\"AHMED', '  QUAZI S\"', 'CRIMINAL HISTORY ANALYST', 'POLICE', '$80328.00'],\n",
       " ['\"AHMED',\n",
       "  '  RIZWANA P\"',\n",
       "  'SENIOR RESEARCH ANALYST',\n",
       "  'COMMUNITY DEVELOPMENT',\n",
       "  '$80424.00'],\n",
       " ['\"AHMED', '  SHAHRUKH Z\"', 'DATA ENTRY OPERATOR', 'TRANSPORTN', '$45972.00'],\n",
       " ['\"AHMED',\n",
       "  '  SYED\"',\n",
       "  'FIELD SERVICE SPECIALIST II',\n",
       "  'TRANSPORTN',\n",
       "  '$52836.00'],\n",
       " ['\"AHMED', '  WAJIH\"', 'AUDITOR I', 'FINANCE', '$52116.00'],\n",
       " ['\"AHUILE', '  CECILIA T\"', 'LEGISLATIVE AIDE', 'CITY COUNCIL', '$44004.00'],\n",
       " ['\"AICH', '  ABRAHAM A\"', 'POLICE OFFICER', 'POLICE', '$83616.00'],\n",
       " ['\"AIKENS', '  BRADLEY K\"', 'CAPTAIN-EMT', 'FIRE', '$131466.00'],\n",
       " ['\"AIKENS',\n",
       "  '  CATHERINE\"',\n",
       "  'PERSONAL COMPUTER OPERATOR I',\n",
       "  'POLICE',\n",
       "  '$48168.00'],\n",
       " ['\"AIKENS', '  CLORA M\"', 'PUBLIC HEALTH NURSE IV', 'HEALTH', '$101076.00'],\n",
       " ['\"AIKENS',\n",
       "  '  JANET S\"',\n",
       "  'MEDICAL X-RAY TECHNOLOGIST',\n",
       "  'HEALTH',\n",
       "  '$60780.00'],\n",
       " ['\"AIKIN JR', '  LAWRENCE J\"', 'POLICE OFFICER', 'POLICE', '$86520.00'],\n",
       " ['\"AILLON', '  EDMUNDO R\"', 'POLICE OFFICER', 'POLICE', '$83616.00'],\n",
       " ['\"AIMERS', '  JAMES\"', 'POLICE OFFICER', 'POLICE', '$65946.00'],\n",
       " ['\"AINUDDIN', '  SAL N\"', 'MOTOR TRUCK DRIVER', 'AVIATION', '$71780.80'],\n",
       " ['\"AINUDDIN',\n",
       "  '  ZAHID N\"',\n",
       "  'MOTOR TRUCK DRIVER',\n",
       "  'STREETS & SAN',\n",
       "  '$71780.80'],\n",
       " ['\"AJIBODU',\n",
       "  '  LINDA\"',\n",
       "  'TITLE V PROGRAM TRAINEE I',\n",
       "  'FAMILY & SUPPORT',\n",
       "  '$8580.00'],\n",
       " ['\"AJZYK',\n",
       "  '  EDWARD G\"',\n",
       "  'PRINCIPAL CLERK-ELECTIONS',\n",
       "  'BOARD OF ELECTION',\n",
       "  '$67872.00'],\n",
       " ['\"AKANA',\n",
       "  '  MARK S\"',\n",
       "  'POLICE OFFICER/EXPLSV DETECT K9 HNDLR',\n",
       "  'POLICE',\n",
       "  '$94236.00'],\n",
       " ['\"AKERS', '  AMY A\"', 'EXECUTIVE SECRETARY I', 'LAW', '$47904.00'],\n",
       " ['\"AKERS', '  DEREC A\"', 'FIREFIGHTER-EMT', 'FIRE', '$91764.00'],\n",
       " ['\"AKERSON', '  WILLIE L\"', 'POLICE OFFICER', 'POLICE', '$89718.00'],\n",
       " ['\"AKHTAR', '  SAEED\"', 'ASST CITY TREASURER', 'TREASURER', '$85020.00'],\n",
       " ['\"AKHTAR',\n",
       "  '  SYED J\"',\n",
       "  'OPERATING ENGINEER-GROUP A',\n",
       "  'GENERAL SERVICES',\n",
       "  '$98675.20'],\n",
       " ['\"AKINBUSUYI', '  AYOKUNLE\"', 'POLICE OFFICER', 'POLICE', '$80778.00'],\n",
       " ['\"AKINDE', '  OLATOKUNBO\"', 'LAW CLERK', 'LAW', '$25152.40'],\n",
       " ['\"AKINLEMIBOLA',\n",
       "  '  GRACE O\"',\n",
       "  'ADMINISTRATIVE ASST',\n",
       "  \"MAYOR'S OFFICE\",\n",
       "  '$65004.00'],\n",
       " ['\"AKINS', '  DARYL\"', 'POLICE OFFICER', 'POLICE', '$92316.00'],\n",
       " ['\"AKINS', '  KIMBERLY L\"', 'POLICE OFFICER', 'POLICE', '$83616.00'],\n",
       " ['\"AKINS', '  LISA\"', 'SANITATION LABORER', 'STREETS & SAN', '$72384.00'],\n",
       " ['\"AKINS',\n",
       "  '  LOU ANN\"',\n",
       "  'POOL MOTOR TRUCK DRIVER',\n",
       "  'TRANSPORTN',\n",
       "  '$71780.80'],\n",
       " ['\"AKINS', '  MONICA E\"', 'POLICE OFFICER', 'POLICE', '$80778.00'],\n",
       " ['\"AKINS', '  ROBIN G\"', 'POLICE OFFICER', 'POLICE', '$80778.00'],\n",
       " ['\"ALAGNA',\n",
       "  '  ANTHONY J\"',\n",
       "  'POLICE COMMUNICATIONS OPERATOR I',\n",
       "  'OEMC',\n",
       "  '$70404.00'],\n",
       " ['\"ALAGNA', '  STEVEN O\"', 'POLICE OFFICER', 'POLICE', '$89718.00'],\n",
       " ['\"ALAGNO', '  THOMAS\"', 'POLICE OFFICER', 'POLICE', '$69684.00'],\n",
       " ['\"AL AMIN', '  HASAN M\"', 'POLICE OFFICER', 'POLICE', '$86520.00'],\n",
       " ['\"AL AMIN', '  HASSAN\"', 'POLICE OFFICER', 'POLICE', '$89718.00'],\n",
       " ['\"AL AMIN',\n",
       "  '  MAHASIN I\"',\n",
       "  'COMMUNICABLE DISEASE CONTROL INVESTIGATOR II',\n",
       "  'HEALTH',\n",
       "  '$80328.00'],\n",
       " ['\"AL AMIN',\n",
       "  '  RASHEEDAH K\"',\n",
       "  'SENIOR COMPANION',\n",
       "  'FAMILY & SUPPORT',\n",
       "  '$2756.00'],\n",
       " ['\"ALAM', '  MOHAMMAD H\"', 'WATER CHEMIST IV', 'WATER MGMNT', '$95880.00'],\n",
       " ['\"ALAMO', '  ROBERTO G\"', 'FIREFIGHTER', 'FIRE', '$80778.00'],\n",
       " ['\"ALAM', '  SYED S\"', 'ACCOUNTANT II', 'FINANCE', '$80424.00'],\n",
       " ['\"ALANIS',\n",
       "  '  JOSE E\"',\n",
       "  'POLICE OFFICER (ASSIGNED AS DETECTIVE)',\n",
       "  'POLICE',\n",
       "  '$97044.00'],\n",
       " ['\"ALANIS',\n",
       "  '  OSCAR\"',\n",
       "  'MACHINIST (AUTOMOTIVE)',\n",
       "  'GENERAL SERVICES',\n",
       "  '$92248.00'],\n",
       " ['\"ALANIS', '  ROBERT\"', 'POLICE OFFICER', 'POLICE', '$89718.00'],\n",
       " ['\"ALANIZ', '  BRIAN\"', 'POLICE OFFICER', 'POLICE', '$83616.00'],\n",
       " ['\"ALANIZ', '  CHERI\"', 'POLICE OFFICER', 'POLICE', '$69684.00'],\n",
       " ['\"ALANIZ', '  ELIZABETH\"', 'POLICE OFFICER', 'POLICE', '$83616.00'],\n",
       " ['\"ALANIZ', '  MICHAEL R\"', 'POLICE OFFICER', 'POLICE', '$83616.00'],\n",
       " ['\"ALANIZ', '  ROBERT A\"', 'CUSTODIAL WORKER', 'AVIATION', '$42369.60'],\n",
       " ['\"ALANIZ', '  SANDRA\"', 'ADMINISTRATIVE ASST III', 'FIRE', '$66684.00'],\n",
       " ['\"ALANZO', '  SHARON\"', 'PUBLIC HEALTH NURSE I', 'HEALTH', '$90468.00'],\n",
       " ['\"ALARCON',\n",
       "  '  LUIS J\"',\n",
       "  'LOAN PROCESSING SPECIALIST',\n",
       "  'COMMUNITY DEVELOPMENT',\n",
       "  '$80328.00'],\n",
       " ['\"ALATORRE', '  FRANK J\"', 'POLICE OFFICER', 'POLICE', '$80778.00'],\n",
       " ['\"ALBAKRI', '  FARES\"', 'POLICE OFFICER', 'POLICE', '$46206.00'],\n",
       " ['\"ALBANO', '  MARC N\"', 'FIREFIGHTER', 'FIRE', '$65946.00'],\n",
       " ['\"ALBARILLO',\n",
       "  '  VERBENA S\"',\n",
       "  'PUBLIC HEALTH NUTRITIONIST III',\n",
       "  'HEALTH',\n",
       "  '$67308.00'],\n",
       " ['\"ALBARRAN', '  ALBERTO S\"', 'POLICE OFFICER', 'POLICE', '$89718.00'],\n",
       " ['\"ALBARRAN', '  FABIAN\"', 'FIREFIGHTER-EMT', 'FIRE', '$88680.00'],\n",
       " ['\"ALBARRAN',\n",
       "  '  FRANK J\"',\n",
       "  'COORDINATING FIRE COMMUNICATIONS OPERATOR',\n",
       "  'OEMC',\n",
       "  '$114608.04'],\n",
       " ['\"ALBA', '  SAUL B\"', 'MOTOR TRUCK DRIVER', 'STREETS & SAN', '$71780.80'],\n",
       " ['\"ALBERT',\n",
       "  '  DAMIAN\"',\n",
       "  'FINANCIAL PLANNING ANALYST',\n",
       "  'COMMUNITY DEVELOPMENT',\n",
       "  '$79464.00'],\n",
       " ['\"ALBERT', '  DONNA\"', 'POLICE OFFICER', 'POLICE', '$69684.00'],\n",
       " ['\"ALBERT', '  LOUIS\"', 'SANITATION LABORER', 'STREETS & SAN', '$62608.00'],\n",
       " ['\"ALBERTS',\n",
       "  '  DONNA M\"',\n",
       "  'REVENUE INVESTIGATOR II',\n",
       "  'BUSINESS AFFAIRS',\n",
       "  '$84072.00'],\n",
       " ['\"ALBERTS', '  RICHARD A\"', 'FIREFIGHTER', 'FIRE', '$90018.00'],\n",
       " ['\"ALBIN',\n",
       "  '  RAYMOND M\"',\n",
       "  'EQUIPMENT DISPATCHER',\n",
       "  'GENERAL SERVICES',\n",
       "  '$73028.80'],\n",
       " ['\"ALBRECHT',\n",
       "  '  DANIEL R\"',\n",
       "  'MACHINIST (AUTOMOTIVE)',\n",
       "  'GENERAL SERVICES',\n",
       "  '$92248.00'],\n",
       " ['\"ALBRECHT',\n",
       "  '  DAWN M\"',\n",
       "  'POLICE OFFICER / FLD TRNG OFFICER',\n",
       "  'POLICE',\n",
       "  '$84858.00'],\n",
       " ['\"ALBRIGHT', '  KEITH E\"', 'FIRE ENGINEER-EMT', 'FIRE', '$99324.00'],\n",
       " ['\"ALBRITTON',\n",
       "  '  JOSEPH A\"',\n",
       "  'DEPUTY COMMISSIONER',\n",
       "  'DISABILITIES',\n",
       "  '$96768.00'],\n",
       " ['\"ALCALA', '  DAVID A\"', 'POLICE OFFICER', 'POLICE', '$83616.00'],\n",
       " ['\"ALCALA', '  JOSE P\"', 'CONSTRUCTION LABORER', 'WATER MGMNT', '$79040.00'],\n",
       " ['\"ALCALA', '  RUBEN\"', 'SANITATION LABORER', 'STREETS & SAN', '$72384.00'],\n",
       " ['\"ALCANTARA',\n",
       "  '  ELIZABETH\"',\n",
       "  'POLICE COMMUNICATIONS OPERATOR I',\n",
       "  'OEMC',\n",
       "  '$61260.00'],\n",
       " ['\"ALCANTARA', '  JOVITA L\"', 'CROSSING GUARD', 'POLICE', '$17492.80'],\n",
       " ['\"ALCANTAR', '  CELIA\"', 'ACCOUNTING TECHNICIAN III', 'HEALTH', '$80328.00'],\n",
       " ['\"ALCANTAR',\n",
       "  '  RAMIRO\"',\n",
       "  'TRAFFIC CONTROL AIDE-HOURLY',\n",
       "  'OEMC',\n",
       "  '$19656.00'],\n",
       " ['\"ALCARAZ', '  ANGEL G\"', 'ASST CORPORATION COUNSEL', 'LAW', '$57192.00'],\n",
       " ['\"ALCAZAR', '  ANTOINETTE\"', 'POLICE OFFICER', 'POLICE', '$80778.00'],\n",
       " ['\"ALCAZAR', '  DAVID E\"', 'POLICE OFFICER', 'POLICE', '$80778.00'],\n",
       " ['\"ALCAZAR',\n",
       "  '  GUADALUPE R\"',\n",
       "  'PUBLIC HEALTH NURSE II',\n",
       "  'HEALTH',\n",
       "  '$94932.00'],\n",
       " ['\"ALCAZAR', '  VICTOR A\"', 'POLICE OFFICER', 'POLICE', '$86520.00'],\n",
       " ['\"ALCOCK',\n",
       "  '  EMILIE K\"',\n",
       "  'LIBRARY ASSOCIATE - HOURLY',\n",
       "  'PUBLIC LIBRARY',\n",
       "  '$24835.20'],\n",
       " ['\"ALCOZER',\n",
       "  '  JOSEPH\"',\n",
       "  'TRAFFIC SIGNAL REPAIRMAN',\n",
       "  'TRANSPORTN',\n",
       "  '$95888.04'],\n",
       " ['\"ALDAHONDO', '  GIL A\"', 'POLICE OFFICER', 'POLICE', '$80778.00'],\n",
       " ['\"ALDANA', '  CARLOS J\"', 'POLICE OFFICER', 'POLICE', '$83616.00'],\n",
       " ['\"ALDANA', '  J F\"', 'CONSTRUCTION LABORER', 'WATER MGMNT', '$79040.00'],\n",
       " ['\"ALDAY', '  MARTHA S\"', 'POLICE OFFICER', 'POLICE', '$92316.00'],\n",
       " ['\"ALDERDEN', '  JACOB M\"', 'SERGEANT', 'POLICE', '$100440.00'],\n",
       " ['\"ALDRICH',\n",
       "  '  JEFFREY S\"',\n",
       "  'POLICE OFFICER (ASSIGNED AS DETECTIVE)',\n",
       "  'POLICE',\n",
       "  '$93648.00'],\n",
       " ['\"ALDRIDGE', '  JENNIFER L\"', 'POLICE OFFICER', 'POLICE', '$89718.00'],\n",
       " ['\"ALDWORTH', '  JAMES P\"', 'FIREFIGHTER', 'FIRE', '$86520.00'],\n",
       " ['\"ALEGADO', '  ROBERTO S\"', 'POLICE OFFICER', 'POLICE', '$86520.00'],\n",
       " ['\"ALEGADO',\n",
       "  '  SAMUEL M\"',\n",
       "  'OPERATING ENGINEER-GROUP C',\n",
       "  'AVIATION',\n",
       "  '$93745.60'],\n",
       " ['\"ALEGRE', '  DAVID\"', 'POLICE OFFICER', 'POLICE', '$69684.00'],\n",
       " ['\"ALEGRIA', '  ARTURO M\"', 'POLICE OFFICER', 'POLICE', '$46206.00'],\n",
       " ['\"ALEJANDRE', '  ROCKY J\"', 'MOTOR TRUCK DRIVER', 'TRANSPORTN', '$71780.80'],\n",
       " ['\"ALEJANDRO', '  JESSE\"', 'POLICE OFFICER', 'POLICE', '$65946.00'],\n",
       " ['\"ALEJO', '  LUIS F\"', 'POLICE OFFICER', 'POLICE', '$89718.00'],\n",
       " ['\"ALEMAN', '  GEORGE\"', 'FIREFIGHTER-EMT', 'FIRE', '$85680.00'],\n",
       " ['\"ALEMAN', '  JESUS\"', 'PLUMBER', 'WATER MGMNT', '$97032.00'],\n",
       " ['\"ALEQUIN', '  ANA I\"', 'PROPERTY CUSTODIAN', 'POLICE', '$66684.00'],\n",
       " ['\"ALESIA', '  JOSEPH\"', \"AIRPORT MANAGER - O'HARE\", 'AVIATION', '$84180.00'],\n",
       " ['\"ALESSI', '  CHRISTINE L\"', 'POLICE OFFICER', 'POLICE', '$83616.00'],\n",
       " ['\"ALESSI', '  ROBERT W\"', 'FIREFIGHTER', 'FIRE', '$65946.00'],\n",
       " ['\"ALESZCZYK', '  ADAM S\"', 'POLICE TECHNICIAN', 'POLICE', '$87780.00'],\n",
       " ['\"ALEXA', '  MICHELENE A\"', 'SERGEANT', 'POLICE', '$106920.00'],\n",
       " ['\"ALEXANDER', '  BRENDA\"', 'CROSSING GUARD', 'POLICE', '$22131.20'],\n",
       " ['\"ALEXANDER', '  CLEMMIE\"', 'LABORER', 'TRANSPORTN', '$79040.00'],\n",
       " ['\"ALEXANDER',\n",
       "  '  CONRAD E\"',\n",
       "  'POLICE OFFICER (ASSIGNED AS DETECTIVE)',\n",
       "  'POLICE',\n",
       "  '$93648.00'],\n",
       " ['\"ALEXANDER', '  DANA\"', 'DEPUTY CHIEF', 'POLICE', '$170112.00'],\n",
       " ['\"ALEXANDER', '  DARIUS Q\"', 'POLICE OFFICER', 'POLICE', '$80778.00'],\n",
       " ['\"ALEXANDER', '  DARLENE\"', 'POLICE OFFICER', 'POLICE', '$86520.00'],\n",
       " ['\"ALEXANDER', '  DORIS A\"', 'CROSSING GUARD', 'POLICE', '$18324.80'],\n",
       " ['\"ALEXANDER', '  EARL\"', 'DETENTION AIDE', 'POLICE', '$64188.00'],\n",
       " ['\"ALEXANDER', '  JAMES P\"', 'AMBULANCE COMMANDER', 'FIRE', '$120264.00'],\n",
       " ['\"ALEXANDER JR', '  GENE I\"', 'POLICE OFFICER', 'POLICE', '$86520.00'],\n",
       " ['\"ALEXANDER', '  KEVIN\"', 'PLUMBER', 'WATER MGMNT', '$97032.00'],\n",
       " ['\"ALEXANDER', '  KIMBERLY T\"', 'POLICE OFFICER', 'POLICE', '$89718.00'],\n",
       " ['\"ALEXANDER', '  LARRON H\"', 'POLICE OFFICER', 'POLICE', '$83616.00'],\n",
       " ['\"ALEXANDER', '  LORIE J\"', 'CROSSING GUARD', 'POLICE', '$17492.80'],\n",
       " ['\"ALEXANDER',\n",
       "  '  MARK A\"',\n",
       "  'SANITATION LABORER',\n",
       "  'STREETS & SAN',\n",
       "  '$72384.00'],\n",
       " ['\"ALEXANDER',\n",
       "  '  MARY F\"',\n",
       "  'FOSTER GRANDPARENT',\n",
       "  'FAMILY & SUPPORT',\n",
       "  '$2756.00'],\n",
       " ['\"ALEXANDER', '  MICHAEL A\"', 'CAPTAIN', 'POLICE', '$134820.00'],\n",
       " ['\"ALEXANDER',\n",
       "  '  PATRICIA L\"',\n",
       "  'PARKING ENFORCEMENT AIDE',\n",
       "  'FINANCE',\n",
       "  '$46380.00'],\n",
       " ['\"ALEXANDER',\n",
       "  '  RACQUEL L\"',\n",
       "  'TRAFFIC ENFORCEMENT TECH',\n",
       "  'FINANCE',\n",
       "  '$31740.00'],\n",
       " ['\"ALEXANDER', '  ROCHELLE D\"', 'CROSSING GUARD', 'POLICE', '$20092.80'],\n",
       " ['\"ALEXANDER', '  ROSS J\"', 'POLICE OFFICER', 'POLICE', '$80778.00'],\n",
       " ['\"ALEXANDER',\n",
       "  '  SAMUEL M\"',\n",
       "  'FIELD SERVICE SPECIALIST III',\n",
       "  'TRANSPORTN',\n",
       "  '$84888.00'],\n",
       " ['\"ALEXANDER', '  SARAH B\"', 'LIBRARIAN I', 'PUBLIC LIBRARY', '$53796.00'],\n",
       " ['\"ALEXANDER',\n",
       "  '  VERONICA J\"',\n",
       "  'SANITATION LABORER',\n",
       "  'STREETS & SAN',\n",
       "  '$72384.00'],\n",
       " ['\"ALEXANDER', '  WENDY R\"', 'RECRUITER', 'HUMAN RESOURCES', '$69888.00'],\n",
       " ['\"ALEXE', '  ELENA\"', 'POLICE OFFICER', 'POLICE', '$86520.00'],\n",
       " ['\"ALFANO',\n",
       "  '  ANTHONY\"',\n",
       "  'STAFF ASST TO THE ALDERMAN',\n",
       "  'CITY COUNCIL',\n",
       "  '$52980.00'],\n",
       " ['\"AL FARAH', '  TENA A\"', 'POLICE OFFICER', 'POLICE', '$69684.00'],\n",
       " ['\"ALFARO', '  HECTOR\"', 'POLICE OFFICER', 'POLICE', '$86520.00'],\n",
       " ['\"ALFARO', '  JOSEPHJAM S\"', 'POLICE OFFICER', 'POLICE', '$80778.00'],\n",
       " ['\"ALFARO', '  JOSEPH S\"', 'POLICE OFFICER', 'POLICE', '$83616.00'],\n",
       " ['\"ALFARO JR',\n",
       "  '  BERNARDO\"',\n",
       "  'AVIATION SECURITY OFFICER',\n",
       "  'AVIATION',\n",
       "  '$77220.00'],\n",
       " ['\"ALFERES',\n",
       "  '  GERARDO F\"',\n",
       "  'SUPERVISING VIDEOGRAPHER',\n",
       "  'BUSINESS AFFAIRS',\n",
       "  '$73752.00'],\n",
       " ['\"ALFICH', '  FRED T\"', 'HOISTING ENGINEER', 'WATER MGMNT', '$97968.00'],\n",
       " ['\"ALFICH', '  SCOTT\"', 'HOISTING ENGINEER', 'WATER MGMNT', '$97968.00'],\n",
       " ['\"ALFINI',\n",
       "  '  PAUL R\"',\n",
       "  'POLICE OFFICER (ASSIGNED AS DETECTIVE)',\n",
       "  'POLICE',\n",
       "  '$97044.00'],\n",
       " ['\"ALFRED', '  BRENDA L\"', 'SANITATION CLERK', 'STREETS & SAN', '$61356.00'],\n",
       " ['\"ALFRED',\n",
       "  '  SANDRA L\"',\n",
       "  'EXECUTIVE DIR OF ANIMAL CARE AND CONTROL',\n",
       "  'ANIMAL CONTRL',\n",
       "  '$138420.00'],\n",
       " ['\"ALFRED', '  TIARA M\"', 'CUSTODIAL WORKER', 'AVIATION', '$26936.00'],\n",
       " ['\"ALGARIN', '  JOEL S\"', 'POLICE OFFICER', 'POLICE', '$83616.00'],\n",
       " ['\"ALGAS', '  JONATHAN T\"', 'FIREFIGHTER-EMT', 'FIRE', '$88680.00'],\n",
       " ['\"ALGHINI', '  LISA M\"', 'POLICE OFFICER', 'POLICE', '$83616.00'],\n",
       " ['\"ALGHINI', '  RICHARD\"', 'POLICE OFFICER', 'POLICE', '$83616.00'],\n",
       " ['\"AL GHOLEH',\n",
       "  '  HASAN M\"',\n",
       "  'PROJECT MANAGER - BUILDINGS',\n",
       "  'BUILDINGS',\n",
       "  '$104736.00'],\n",
       " ['\"AL HAJJE',\n",
       "  '  MOHAMAD H\"',\n",
       "  'FILTRATION ENGINEER IV',\n",
       "  'WATER MGMNT',\n",
       "  '$104736.00'],\n",
       " ['\"ALI', '  ARMANDA\"', 'CROSSING GUARD', 'POLICE', '$18324.80'],\n",
       " ['\"ALIASI', '  ERMINIO\"', 'CONSTRUCTION LABORER', 'WATER MGMNT', '$79040.00'],\n",
       " ['\"ALI', '  BILAL R\"', 'POLICE OFFICER', 'POLICE', '$86520.00'],\n",
       " ['\"ALICEA',\n",
       "  '  ANGEL R\"',\n",
       "  'OPERATING ENGINEER-GROUP A',\n",
       "  'AVIATION',\n",
       "  '$98675.20'],\n",
       " ['\"ALICEA', '  JOSE L\"', 'MOTOR TRUCK DRIVER', 'TRANSPORTN', '$71780.80'],\n",
       " ['\"ALICEA JR', '  FELIX\"', 'LABORER', 'AVIATION', '$67329.60'],\n",
       " ['\"ALICEA',\n",
       "  '  ROSITA M\"',\n",
       "  'FIRE COMMUNICATIONS OPERATOR I',\n",
       "  'OEMC',\n",
       "  '$49272.00'],\n",
       " ['\"ALICEA',\n",
       "  '  VILMA R\"',\n",
       "  'COMMUNICABLE DISEASE CONTROL INVESTIGATOR II',\n",
       "  'HEALTH',\n",
       "  '$66684.00'],\n",
       " ['\"ALI', '  FARI\"', 'SANITATION LABORER', 'STREETS & SAN', '$72384.00'],\n",
       " ['\"ALI', '  JAVED\"', 'POLICE OFFICER', 'POLICE', '$80778.00'],\n",
       " ['\"ALI  KELLEY',\n",
       "  '  YASMINE M\"',\n",
       "  'MANAGER OF POLICE PAYROLLS',\n",
       "  'POLICE',\n",
       "  '$97728.00'],\n",
       " ['\"ALI', '  MEER I\"', 'POLICE OFFICER', 'POLICE', '$86520.00'],\n",
       " ['\"ALI', '  MOHAMMED\"', 'POLICE OFFICER', 'POLICE', '$80778.00'],\n",
       " ['\"ALINOVICH',\n",
       "  '  PETER A\"',\n",
       "  'OPERATING ENGINEER-GROUP A',\n",
       "  'GENERAL SERVICES',\n",
       "  '$98675.20'],\n",
       " ['\"ALIOTO', '  ROCCO J\"', 'POLICE OFFICER', 'POLICE', '$86520.00'],\n",
       " ['\"ALI', '  SYED H\"', 'CONSTRUCTION LABORER', 'WATER MGMNT', '$79040.00'],\n",
       " ['\"ALI', '  SYED S\"', 'POLICE CADET', 'POLICE', '$9360.00'],\n",
       " ['\"ALLAIN',\n",
       "  '  CAROLYN\"',\n",
       "  'SENIOR TELECOMMUNICATIONS SPECIALIST',\n",
       "  'DoIT',\n",
       "  '$84072.00'],\n",
       " ['\"ALLEE',\n",
       "  '  MATTHEW L\"',\n",
       "  'STAFF ASST TO THE ALDERMAN',\n",
       "  'CITY COUNCIL',\n",
       "  '$54288.00'],\n",
       " ['\"ALLEGRETTI', '  ANTHONY\"', 'FIRE ENGINEER-EMT', 'FIRE', '$105918.00'],\n",
       " ['\"ALLEGRINI', '  NICK\"', 'CEMENT FINISHER', 'TRANSPORTN', '$93808.00'],\n",
       " ['\"ALLEMAN',\n",
       "  '  ROBERT R\"',\n",
       "  'OPERATING ENGINEER-GROUP A',\n",
       "  'WATER MGMNT',\n",
       "  '$98675.20'],\n",
       " ['\"ALLEN', '  ACHEN J\"', 'LIBRARY PAGE', 'PUBLIC LIBRARY', '$12407.20'],\n",
       " ['\"ALLEN', '  ALPHONSO J\"', 'PARAMEDIC', 'FIRE', '$83616.00'],\n",
       " ['\"ALLEN', '  ANDRE G\"', 'FIREFIGHTER', 'FIRE', '$90018.00'],\n",
       " ['\"ALLEN', '  ANNETTE D\"', 'CLERK IV', 'POLICE', '$60780.00'],\n",
       " ['\"ALLEN', '  ANTONIO W\"', 'EXPLOSIVES TECHNICIAN I', 'POLICE', '$103590.00'],\n",
       " ['\"ALLEN',\n",
       "  '  CLINTON S\"',\n",
       "  'DISABILITY SPECIALIST II',\n",
       "  'DISABILITIES',\n",
       "  '$80424.00'],\n",
       " ['\"ALLEN', '  CRAIG M\"', 'FIRE ENGINEER-EMT', 'FIRE', '$99324.00'],\n",
       " ['\"ALLEN', '  DALPHINE\"', 'WATCHMAN', 'GENERAL SERVICES', '$43950.40'],\n",
       " ['\"ALLEN', '  DANIEL H\"', 'SERGEANT', 'POLICE', '$106920.00'],\n",
       " ['\"ALLEN', '  DANIEL J\"', 'FIREFIGHTER', 'FIRE', '$90018.00'],\n",
       " ['\"ALLEN', '  DAVID\"', 'POLICE OFFICER', 'POLICE', '$83616.00'],\n",
       " ['\"ALLEN', '  DEBORAH A\"', 'POLICE OFFICER', 'POLICE', '$86520.00'],\n",
       " ['\"ALLEN', '  DENOTRA\"', 'POLICE OFFICER', 'POLICE', '$89718.00'],\n",
       " ['\"ALLEN', '  DERRICK\"', 'FIREFIGHTER-EMT', 'FIRE', '$91764.00'],\n",
       " ['\"ALLEN', '  DERRICK D\"', 'POLICE AGENT', 'POLICE', '$94236.00'],\n",
       " ['\"ALLEN', '  DOMINIQUE\"', 'POLICE OFFICER', 'POLICE', '$46206.00'],\n",
       " ['\"ALLEN', '  DONNIE\"', 'TRAFFIC CONTROL AIDE-HOURLY', 'OEMC', '$19656.00'],\n",
       " ['\"ALLEN', '  DOROTHY M\"', 'CROSSING GUARD', 'POLICE', '$17492.80'],\n",
       " ['\"ALLEN', '  ELIZABETH\"', 'ACCOUNTANT I', 'TREASURER', '$72840.00'],\n",
       " ['\"ALLEN', '  GLORIA\"', 'POLICE OFFICER', 'POLICE', '$89718.00'],\n",
       " ['\"ALLEN', '  GORDON K\"', 'POLICE OFFICER', 'POLICE', '$89718.00'],\n",
       " ['\"ALLEN', '  HENRY C\"', 'POLICE OFFICER', 'POLICE', '$86520.00'],\n",
       " ['\"ALLEN', '  JAMES W\"', 'POLICE OFFICER', 'POLICE', '$83616.00'],\n",
       " ['\"ALLEN', '  JEFFREY W\"', 'SERGEANT', 'POLICE', '$106920.00'],\n",
       " ['\"ALLEN', '  JONATHAN E\"', 'STAFF ASST', 'FINANCE', '$73200.00'],\n",
       " ['\"ALLEN JR',\n",
       "  '  ISAAC\"',\n",
       "  'POOL MOTOR TRUCK DRIVER',\n",
       "  'STREETS & SAN',\n",
       "  '$71780.80'],\n",
       " ['\"ALLEN',\n",
       "  '  KEITH A\"',\n",
       "  'POLICE OFFICER (ASSIGNED AS DETECTIVE)',\n",
       "  'POLICE',\n",
       "  '$97044.00'],\n",
       " ['\"ALLEN', '  KEVIN C\"', 'POLICE OFFICER', 'POLICE', '$89718.00'],\n",
       " ['\"ALLEN', '  KEVIN M\"', 'ACCOUNTANT IV', 'FINANCE', '$95880.00'],\n",
       " ['\"ALLEN', '  LAJEUNE R\"', 'POLICE OFFICER', 'POLICE', '$92316.00'],\n",
       " ['\"ALLEN',\n",
       "  '  LA SHAWNDA\"',\n",
       "  'COLLECTIONS REPRESENTATIVE',\n",
       "  'FINANCE',\n",
       "  '$55428.00'],\n",
       " ['\"ALLEN', '  MARIE\"', 'CROSSING GUARD', 'POLICE', '$22131.20'],\n",
       " ['\"ALLEN',\n",
       "  '  MARK D\"',\n",
       "  'POLICE OFFICER (ASGND AS MARINE OFFICER)',\n",
       "  'POLICE',\n",
       "  '$97044.00'],\n",
       " ['\"ALLEN', '  MELVIN\"', 'SANITATION LABORER', 'STREETS & SAN', '$72384.00'],\n",
       " ['\"ALLEN', '  MICHAEL J\"', 'PARAMEDIC I/C', 'FIRE', '$87534.00'],\n",
       " ['\"ALLEN', '  MYRA B\"', 'CROSSING GUARD', 'POLICE', '$17492.80'],\n",
       " ['\"ALLEN',\n",
       "  '  NAJJA T\"',\n",
       "  'LIBRARY ASSOCIATE - HOURLY',\n",
       "  'PUBLIC LIBRARY',\n",
       "  '$24835.20'],\n",
       " ['\"ALLEN', '  PETER B\"', 'BRIDGE OPERATOR', 'TRANSPORTN', '$64308.00'],\n",
       " ['\"ALLEN', '  PHOEBE\"', 'POLICE OFFICER', 'POLICE', '$83616.00'],\n",
       " ['\"ALLEN', '  RAYMOND G\"', 'POLICE OFFICER', 'POLICE', '$89718.00'],\n",
       " ['\"ALLEN', '  REGAN J\"', 'POLICE OFFICER', 'POLICE', '$83616.00'],\n",
       " ['\"ALLEN',\n",
       "  '  RICHARD\"',\n",
       "  'POOL MOTOR TRUCK DRIVER',\n",
       "  'STREETS & SAN',\n",
       "  '$71780.80'],\n",
       " ['\"ALLEN', '  ROBERT\"', 'MACHINIST', 'WATER MGMNT', '$92248.00'],\n",
       " ['\"ALLEN',\n",
       "  '  ROBERT G\"',\n",
       "  'POOL MOTOR TRUCK DRIVER',\n",
       "  'STREETS & SAN',\n",
       "  '$71780.80'],\n",
       " ['\"ALLEN', '  ROBERT L\"', 'MOTOR TRUCK DRIVER', 'STREETS & SAN', '$71780.80'],\n",
       " ['\"ALLEN', '  RUTH B\"', 'CIVIL ENGINEER III', 'WATER MGMNT', '$95880.00'],\n",
       " ['\"ALLEN', '  RYAN M\"', 'LIBRARY CLERK', 'PUBLIC LIBRARY', '$43920.00'],\n",
       " ['\"ALLEN', '  RYSHON C\"', 'LABORER', 'AVIATION', '$67329.60'],\n",
       " ['\"ALLEN', '  SANDRA\"', 'ADMINISTRATIVE ASST II', 'BUILDINGS', '$63708.00'],\n",
       " ['\"ALLENSON', '  SAGE\"', 'POLICE OFFICER', 'POLICE', '$80778.00'],\n",
       " ['\"ALLEN',\n",
       "  '  TERRY L\"',\n",
       "  'FOREMAN OF CONSTRUCTION LABORERS',\n",
       "  'TRANSPORTN',\n",
       "  '$81328.00'],\n",
       " ['\"ALLEN', '  TIMOTHY\"', 'SANITATION LABORER', 'STREETS & SAN', '$72384.00'],\n",
       " ['\"ALLEN',\n",
       "  '  TIMOTHY M\"',\n",
       "  'ANIMAL CONTROL OFFICER',\n",
       "  'ANIMAL CONTRL',\n",
       "  '$67212.00'],\n",
       " ['\"ALLEN', '  TYREE D\"', 'SANITATION LABORER', 'STREETS & SAN', '$72384.00'],\n",
       " ['\"ALLEN',\n",
       "  '  VERDIE P\"',\n",
       "  'ASST DEPUTY CHIEF PARAMEDIC',\n",
       "  'FIRE',\n",
       "  '$156360.00'],\n",
       " ['\"ALLEN',\n",
       "  '  VINCENT\"',\n",
       "  'POLICE OFFICER / FLD TRNG OFFICER',\n",
       "  'POLICE',\n",
       "  '$94236.00'],\n",
       " ['\"ALLEN',\n",
       "  '  WANDA L\"',\n",
       "  'ADMINISTRATIVE ASST III',\n",
       "  'PUBLIC LIBRARY',\n",
       "  '$73200.00'],\n",
       " ['\"ALLEN',\n",
       "  '  WILLIAM\"',\n",
       "  'GENERAL LABORER - DSS',\n",
       "  'STREETS & SAN',\n",
       "  '$43201.60'],\n",
       " ['\"ALLEN',\n",
       "  '  WILLIAM L\"',\n",
       "  'SANITATION LABORER',\n",
       "  'STREETS & SAN',\n",
       "  '$72384.00'],\n",
       " ['\"ALLEYNE',\n",
       "  '  HATTIE\"',\n",
       "  'POOL MOTOR TRUCK DRIVER',\n",
       "  'STREETS & SAN',\n",
       "  '$71780.80'],\n",
       " ['\"ALLEYNE', '  STEVE C\"', 'FIRE ENGINEER-EMT', 'FIRE', '$99324.00'],\n",
       " ['\"ALLISON',\n",
       "  '  ALLYSON M\"',\n",
       "  'ASST TO THE ALDERMAN',\n",
       "  'CITY COUNCIL',\n",
       "  '$76188.00'],\n",
       " ['\"ALLISON',\n",
       "  '  JACOB M\"',\n",
       "  'MACHINIST (AUTOMOTIVE)',\n",
       "  'GENERAL SERVICES',\n",
       "  '$92248.00'],\n",
       " ['\"ALLISON',\n",
       "  '  JOHN L\"',\n",
       "  'ANIMAL CONTROL OFFICER',\n",
       "  'ANIMAL CONTRL',\n",
       "  '$58476.00'],\n",
       " ['\"ALLISON', '  PAUL W\"', 'FIREFIGHTER', 'FIRE', '$86520.00'],\n",
       " ['\"ALMAGUER', '  DAVID J\"', 'MOTOR TRUCK DRIVER', 'AVIATION', '$71780.80'],\n",
       " ['\"ALMAGUER', '  PHILIP\"', 'POLICE OFFICER', 'POLICE', '$46206.00'],\n",
       " ['\"ALMANZA', '  EDUARDO\"', 'POLICE OFFICER', 'POLICE', '$83616.00'],\n",
       " ['\"ALMANZA', '  JESUS\"', 'HOISTING ENGINEER', 'WATER MGMNT', '$97968.00'],\n",
       " ['\"ALMANZA', '  JOSE A\"', 'POLICE OFFICER', 'POLICE', '$83616.00'],\n",
       " ['\"ALMANZA', '  MONICA\"', 'AUDITOR I', 'FINANCE', '$80424.00'],\n",
       " ['\"ALMANZA', '  THERESA A\"', 'POLICE OFFICER', 'POLICE', '$89718.00'],\n",
       " ['\"ALMANZA', '  YOLANDA M\"', 'SUPERVISING CLERK', 'FINANCE', '$66684.00'],\n",
       " ['\"ALMARAZ', '  THOMAS\"', 'CONSTRUCTION LABORER', 'WATER MGMNT', '$79040.00'],\n",
       " ['\"ALMAZAN',\n",
       "  '  ALEJANDRO\"',\n",
       "  'POLICE OFFICER (ASSIGNED AS DETECTIVE)',\n",
       "  'POLICE',\n",
       "  '$99888.00'],\n",
       " ['\"ALMAZAN', '  CARMEN\"', 'ADMINISTRATIVE ASST III', 'OEMC', '$66684.00'],\n",
       " ['\"ALMAZAN IZAGUIRRE',\n",
       "  '  CECILIA\"',\n",
       "  'PUBLIC HEALTH ADMINISTRATOR III',\n",
       "  'HEALTH',\n",
       "  '$80916.00'],\n",
       " ['\"ALMAZAN', '  SIDRONIO\"', 'POLICE OFFICER', 'POLICE', '$83616.00'],\n",
       " ['\"ALMAZAN', '  SONIA\"', 'POLICE OFFICER', 'POLICE', '$86520.00'],\n",
       " ['\"ALMAZAN', '  TOMAS\"', 'POLICE OFFICER', 'POLICE', '$46206.00'],\n",
       " ['\"ALMDALE',\n",
       "  '  LLOYD M\"',\n",
       "  'POLICE OFFICER (ASSIGNED AS DETECTIVE)',\n",
       "  'POLICE',\n",
       "  '$93648.00'],\n",
       " ['\"ALMENDAREZ III',\n",
       "  '  FILIBERTO\"',\n",
       "  'PAYROLL ADMINISTRATOR',\n",
       "  'FINANCE',\n",
       "  '$93024.00'],\n",
       " ['\"ALMODOVAR', '  JOSHUA\"', 'POLICE OFFICER', 'POLICE', '$69684.00'],\n",
       " ['\"ALMODOVAR', '  MANUEL\"', 'LIEUTENANT', 'FIRE', '$110370.00'],\n",
       " ['\"ALMODOVAR',\n",
       "  '  OLGA N\"',\n",
       "  'CROSSING GUARD - PER AGREEMENT',\n",
       "  'POLICE',\n",
       "  '$16484.00'],\n",
       " ['\"ALNEMRI', '  EYAD J\"', 'POLICE OFFICER', 'POLICE', '$83616.00'],\n",
       " ['\"ALNEMRI', '  SAMI J\"', 'POLICE OFFICER', 'POLICE', '$86520.00'],\n",
       " ['\"ALOISIO', '  SALVATORE D\"', 'POLICE OFFICER', 'POLICE', '$73296.00'],\n",
       " ['\"ALONISTIOTIS',\n",
       "  '  GEORGE\"',\n",
       "  'ASST MANAGING EDITOR COUNCIL JOURNAL',\n",
       "  'CITY CLERK',\n",
       "  '$62640.00'],\n",
       " ['\"ALONISTIOTIS',\n",
       "  '  KONSTANTINES M\"',\n",
       "  'ASSISTANT DIRECTOR OF FINANCE',\n",
       "  'TREASURER',\n",
       "  '$73080.00'],\n",
       " ['\"ALONSO',\n",
       "  '  ARMANDO\"',\n",
       "  'POLICE OFFICER (ASSIGNED AS EVIDENCE TECHNICIAN)',\n",
       "  'POLICE',\n",
       "  '$97044.00'],\n",
       " ['\"ALONSO JR', '  JAVIER\"', 'POLICE OFFICER', 'POLICE', '$83616.00'],\n",
       " ['\"ALONSO',\n",
       "  '  KENNETH\"',\n",
       "  'POOL MOTOR TRUCK DRIVER',\n",
       "  'STREETS & SAN',\n",
       "  '$71780.80'],\n",
       " ['\"ALONSO', '  LAURA K\"', 'FIREFIGHTER', 'FIRE', '$65946.00'],\n",
       " ['\"ALONSO',\n",
       "  '  MARIO A\"',\n",
       "  'DIR OF LIBRARY - PROGRAMS AND EXHIBITS',\n",
       "  'PUBLIC LIBRARY',\n",
       "  '$105048.00'],\n",
       " ['\"ALONZO', '  CHRISTOPHER B\"', 'PARAMEDIC', 'FIRE', '$54114.00'],\n",
       " ['\"ALONZO', '  EDWARD\"', 'SERGEANT', 'POLICE', '$106920.00'],\n",
       " ['\"ALONZO', '  GREGORY P\"', 'PAINTER', 'WATER MGMNT', '$86840.00'],\n",
       " ['\"ALONZO', '  J B\"', 'COORDINATING PLANNER', 'TRANSPORTN', '$92064.00'],\n",
       " ['\"ALONZO',\n",
       "  '  JESSICA M\"',\n",
       "  'LIBRARY CLERK - HOURLY',\n",
       "  'PUBLIC LIBRARY',\n",
       "  '$15995.20'],\n",
       " ['\"ALONZO', '  JOAQUIN\"', 'MOTOR TRUCK DRIVER', 'STREETS & SAN', '$71780.80'],\n",
       " ['\"ALONZO', '  SHAWN P\"', 'POLICE OFFICER', 'POLICE', '$80778.00'],\n",
       " ['\"ALONZO',\n",
       "  '  VINCENT S\"',\n",
       "  'POLICE OFFICER (ASSIGNED AS DETECTIVE)',\n",
       "  'POLICE',\n",
       "  '$93648.00'],\n",
       " ['\"ALPERN',\n",
       "  '  STUART H\"',\n",
       "  'COORD OF SPECIAL PROJECTS',\n",
       "  'BUSINESS AFFAIRS',\n",
       "  '$84780.00'],\n",
       " ['\"ALPERS',\n",
       "  '  DAVID P\"',\n",
       "  'BUILDING/CONSTRUCTION INSPECTOR',\n",
       "  'BUILDINGS',\n",
       "  '$107124.00'],\n",
       " ['\"ALPERTO',\n",
       "  '  EVARISTO P\"',\n",
       "  'CONSTRUCTION LABORER',\n",
       "  'WATER MGMNT',\n",
       "  '$79040.00'],\n",
       " ['\"ALROY',\n",
       "  '  MARY E\"',\n",
       "  'ADMINISTRATIVE ASST II',\n",
       "  'FAMILY & SUPPORT',\n",
       "  '$66684.00'],\n",
       " ['\"ALSTON', '  ETTA E\"', 'ADMINISTRATIVE ASST II', 'LAW', '$55428.00'],\n",
       " ['\"ALSTONMIDDLETON',\n",
       "  '  GLORIA\"',\n",
       "  'STAFF ASST',\n",
       "  'FAMILY & SUPPORT',\n",
       "  '$73200.00'],\n",
       " ['\"ALSTON',\n",
       "  '  NICOLE T\"',\n",
       "  'TRAFFIC CONTROL AIDE-HOURLY',\n",
       "  'OEMC',\n",
       "  '$19656.00'],\n",
       " ['\"ALTAMIRANO', '  LAZARO\"', 'POLICE OFFICER', 'POLICE', '$83616.00'],\n",
       " ['\"ALTAMIRANO', '  RAFAEL\"', 'POLICE OFFICER', 'POLICE', '$46206.00'],\n",
       " ['\"ALTENBACH', '  ADAM J\"', 'POLICE OFFICER', 'POLICE', '$80778.00'],\n",
       " ['\"ALTENBACH', '  BLAIR J\"', 'POLICE OFFICER', 'POLICE', '$80778.00'],\n",
       " ['\"ALTHOFF', '  KELIN\"', 'POLICE OFFICER', 'POLICE', '$69684.00'],\n",
       " ['\"ALTMAN', '  MARK T\"', 'BATTALION CHIEF - EMT', 'FIRE', '$139536.00'],\n",
       " ['\"ALTMAN', '  MICHAEL P\"', 'BATTALION CHIEF', 'FIRE', '$135480.00'],\n",
       " ['\"ALTMAN', '  PATRICIA A\"', 'POLICE OFFICER', 'POLICE', '$92316.00'],\n",
       " ['\"ALTWASSER', '  PATRICK W\"', 'POLICE OFFICER', 'POLICE', '$80778.00'],\n",
       " ['\"ALUISE',\n",
       "  '  LEONARD V\"',\n",
       "  'ENGINEERING TECHNICIAN IV',\n",
       "  'TRANSPORTN',\n",
       "  '$67344.00'],\n",
       " ['\"ALVARADO',\n",
       "  '  CARLOS L\"',\n",
       "  'MOTOR TRUCK DRIVER',\n",
       "  'GENERAL SERVICES',\n",
       "  '$71780.80'],\n",
       " ['\"ALVARADO', '  GERARDO\"', 'POLICE OFFICER', 'POLICE', '$86520.00'],\n",
       " ['\"ALVARADO GNIADE',\n",
       "  '  DEBORAH M\"',\n",
       "  'PERSONNEL ASSISTANT',\n",
       "  'POLICE',\n",
       "  '$63708.00'],\n",
       " ['\"ALVARADO', '  IGNACIO\"', 'POLICE OFFICER', 'POLICE', '$80778.00'],\n",
       " ['\"ALVARADO', '  JAIME\"', 'SERGEANT', 'POLICE', '$100440.00'],\n",
       " ['\"ALVARADO', '  JESUS\"', 'SANITATION LABORER', 'STREETS & SAN', '$72384.00'],\n",
       " ['\"ALVARADO',\n",
       "  '  JORGE M\"',\n",
       "  'SANITATION LABORER',\n",
       "  'STREETS & SAN',\n",
       "  '$76627.20'],\n",
       " ['\"ALVARADO',\n",
       "  '  JOSE M\"',\n",
       "  'SANITATION LABORER',\n",
       "  'STREETS & SAN',\n",
       "  '$72384.00'],\n",
       " ['\"ALVARADO', '  JOSHUA E\"', 'POLICE OFFICER', 'POLICE', '$86520.00'],\n",
       " ['\"ALVARADO', '  JUAN C\"', 'POLICE OFFICER', 'POLICE', '$86520.00'],\n",
       " ['\"ALVARADO',\n",
       "  '  MATTHEW W\"',\n",
       "  'POLICE OFFICER / FLD TRNG OFFICER',\n",
       "  'POLICE',\n",
       "  '$84858.00'],\n",
       " ['\"ALVARADO', '  PETER\"', 'PARAMEDIC', 'FIRE', '$54114.00'],\n",
       " ['\"ALVARADO', '  RAUL A\"', 'FIREFIGHTER', 'FIRE', '$93594.00'],\n",
       " ['\"ALVARADO', '  RAYNA A\"', 'POLICE OFFICER', 'POLICE', '$80778.00'],\n",
       " ['\"ALVARADO', '  RENE\"', 'FIREFIGHTER', 'FIRE', '$93594.00'],\n",
       " ['\"ALVARADO', '  SALVADOR\"', 'LINEMAN', 'OEMC', '$95888.04'],\n",
       " ['\"ALVAREZ', '  AGDA\"', 'CROSSING GUARD', 'POLICE', '$17492.80'],\n",
       " ['\"ALVAREZ', '  ALFREDO\"', 'PARKING INVESTIGATOR', 'FINANCE', '$70380.00'],\n",
       " ['\"ALVAREZ', '  ANTONIO\"', 'SERGEANT', 'POLICE', '$103590.00'],\n",
       " ['\"ALVAREZ', '  ARMANDO\"', 'POLICE OFFICER', 'POLICE', '$80778.00'],\n",
       " ['\"ALVAREZ', '  CRISTINA\"', 'WEB AUTHOR', 'CITY CLERK', '$63516.00'],\n",
       " ['\"ALVAREZ', '  DAYLILY C\"', 'LIBRARIAN II', 'PUBLIC LIBRARY', '$59352.00'],\n",
       " ['\"ALVAREZ', '  DEBORAH A\"', 'PARAMEDIC', 'FIRE', '$90018.00'],\n",
       " ['\"ALVAREZ', '  EDGAR\"', 'POLICE OFFICER', 'POLICE', '$65946.00'],\n",
       " ['\"ALVAREZ', '  ELENA\"', 'POLICE OFFICER', 'POLICE', '$73296.00'],\n",
       " ['\"ALVAREZ',\n",
       "  '  GENARO\"',\n",
       "  'ENGINEERING TECHNICIAN IV',\n",
       "  'TRANSPORTN',\n",
       "  '$54864.00'],\n",
       " ['\"ALVAREZ',\n",
       "  '  HECTOR L\"',\n",
       "  'POLICE OFFICER (ASSIGNED AS DETECTIVE)',\n",
       "  'POLICE',\n",
       "  '$97044.00'],\n",
       " ['\"ALVAREZ', '  HERNAN L\"', 'POLICE OFFICER', 'POLICE', '$80778.00'],\n",
       " ['\"ALVAREZ', '  JAVIER\"', 'POLICE OFFICER', 'POLICE', '$65946.00'],\n",
       " ['\"ALVAREZ', '  JESSE\"', 'SERGEANT', 'POLICE', '$103590.00'],\n",
       " ['\"ALVAREZ', '  JESSICA\"', 'POLICE OFFICER', 'POLICE', '$46206.00'],\n",
       " ['\"ALVAREZ',\n",
       "  '  JESUS\"',\n",
       "  'POOL MOTOR TRUCK DRIVER',\n",
       "  'STREETS & SAN',\n",
       "  '$71780.80'],\n",
       " ['\"ALVAREZ', '  JOSE A\"', 'POLICE OFFICER', 'POLICE', '$80778.00'],\n",
       " ['\"ALVAREZ', '  JOSE M\"', 'POLICE OFFICER', 'POLICE', '$86520.00'],\n",
       " ['\"ALVAREZ',\n",
       "  '  JOSEPH M\"',\n",
       "  'POOL MOTOR TRUCK DRIVER',\n",
       "  'AVIATION',\n",
       "  '$71780.80'],\n",
       " ['\"ALVAREZ JR', '  DAVID\"', 'POLICE OFFICER', 'POLICE', '$46206.00'],\n",
       " ['\"ALVAREZ JR', '  RAFAEL\"', 'LIEUTENANT-EMT', 'FIRE', '$109872.00'],\n",
       " ['\"ALVAREZ JR',\n",
       "  '  RAUL\"',\n",
       "  'SANITATION LABORER',\n",
       "  'STREETS & SAN',\n",
       "  '$72384.00'],\n",
       " ['\"ALVAREZ', '  JUAN\"', 'POLICE OFFICER', 'POLICE', '$69684.00'],\n",
       " ['\"ALVAREZ', '  LUIS\"', 'POLICE OFFICER', 'POLICE', '$69684.00'],\n",
       " ['\"ALVAREZ', '  MANOEL A\"', 'CUSTODIAL WORKER', 'AVIATION', '$42369.60'],\n",
       " ['\"ALVAREZ',\n",
       "  '  MARCO A\"',\n",
       "  'POOL MOTOR TRUCK DRIVER',\n",
       "  'STREETS & SAN',\n",
       "  '$71780.80'],\n",
       " ['\"ALVAREZ',\n",
       "  '  MARGARITA\"',\n",
       "  'CHIEF CONTRACT EXPEDITER',\n",
       "  'WATER MGMNT',\n",
       "  '$88812.00'],\n",
       " ['\"ALVAREZ', '  MARIA\"', 'DATA ENTRY OPERATOR', 'AVIATION', '$43920.00'],\n",
       " ['\"ALVAREZ',\n",
       "  '  MARIA D\"',\n",
       "  'POOL MOTOR TRUCK DRIVER',\n",
       "  'STREETS & SAN',\n",
       "  '$71780.80'],\n",
       " ['\"ALVAREZ', '  NIKI L\"', 'CROSSING GUARD', 'POLICE', '$22131.20'],\n",
       " ['\"ALVAREZ PENA', '  SHERRY L\"', 'SERGEANT', 'POLICE', '$110370.00'],\n",
       " ['\"ALVAREZ', '  RAMIRO\"', 'POLICE OFFICER', 'POLICE', '$80778.00'],\n",
       " ['\"ALVAREZ', '  RAMON\"', 'SANITATION LABORER', 'STREETS & SAN', '$72384.00'],\n",
       " ['\"ALVAREZ', '  RAUL\"', 'SERGEANT', 'POLICE', '$100440.00'],\n",
       " ['\"ALVAREZ', '  RICHARD D\"', 'SERGEANT', 'POLICE', '$106920.00'],\n",
       " ['\"ALVAREZ', '  ROBERT\"', 'POLICE OFFICER', 'POLICE', '$80778.00'],\n",
       " ['\"ALVAREZ', '  ROBIN C\"', 'PARAMEDIC FIELD CHIEF', 'FIRE', '$131562.00'],\n",
       " ['\"ALVAREZ', '  SALLY R\"', 'LIBRARY CLERK', 'PUBLIC LIBRARY', '$43920.00'],\n",
       " ['\"ALVAREZ',\n",
       "  '  TIBALDO\"',\n",
       "  'BUILDING/CONSTRUCTION INSPECTOR',\n",
       "  'BUILDINGS',\n",
       "  '$84060.00'],\n",
       " ['\"ALVEAR', '  ANGELINA\"', 'POLICE OFFICER', 'POLICE', '$46206.00'],\n",
       " ['\"ALVERIO',\n",
       "  '  EVELYN J\"',\n",
       "  'ASST TO THE COMMISSIONER',\n",
       "  'PROCUREMENT',\n",
       "  '$59004.00'],\n",
       " ['\"ALVERIO', '  LUIS A\"', 'SERGEANT', 'POLICE', '$110370.00'],\n",
       " ['\"ALVISO', '  CHARLES\"', 'POLICE OFFICER', 'POLICE', '$46206.00'],\n",
       " ['\"ALVIS',\n",
       "  '  VIDETTE A\"',\n",
       "  'MOTOR TRUCK DRIVER',\n",
       "  'GENERAL SERVICES',\n",
       "  '$71780.80'],\n",
       " ['\"ALVIZU',\n",
       "  '  RAYMOND M\"',\n",
       "  'POOL MOTOR TRUCK DRIVER',\n",
       "  'WATER MGMNT',\n",
       "  '$71780.80'],\n",
       " ['\"ALYINOVICH', '  JOHN F\"', 'POLICE OFFICER', 'POLICE', '$89718.00'],\n",
       " ['\"AMADI',\n",
       "  '  RITA N\"',\n",
       "  'PUBLIC HEALTH ADMINISTRATOR II',\n",
       "  'HEALTH',\n",
       "  '$80328.00'],\n",
       " ['\"AMADO',\n",
       "  '  BONITA S\"',\n",
       "  'DIR OF FACILITIES MANAGEMENT',\n",
       "  'POLICE',\n",
       "  '$105828.00'],\n",
       " ['\"AMADOR', '  ANGEL\"', 'POLICE OFFICER', 'POLICE', '$86520.00'],\n",
       " ['\"AMADOR', '  BIANCA\"', 'LEGISLATIVE AIDE', 'CITY COUNCIL', '$12480.00'],\n",
       " ['\"AMARO',\n",
       "  '  KATHERINE M\"',\n",
       "  'PERSONAL COMPUTER OPERATOR II',\n",
       "  'WATER MGMNT',\n",
       "  '$60780.00'],\n",
       " ['\"AMARO', '  KENNETH\"', 'MOTOR TRUCK DRIVER', 'TRANSPORTN', '$71780.80'],\n",
       " ['\"AMARO', '  TIZOC R\"', 'POLICE OFFICER', 'POLICE', '$86520.00'],\n",
       " ['\"AMATI', '  MARK A\"', 'LIEUTENANT', 'POLICE', '$123948.00'],\n",
       " ['\"AMATO',\n",
       "  '  ANTHONY M\"',\n",
       "  'POLICE OFFICER (ASSIGNED AS DETECTIVE)',\n",
       "  'POLICE',\n",
       "  '$93648.00'],\n",
       " ['\"AMATO',\n",
       "  '  DINO J\"',\n",
       "  'POLICE OFFICER (ASSIGNED AS DETECTIVE)',\n",
       "  'POLICE',\n",
       "  '$97044.00'],\n",
       " ['\"AMATO', '  MICHAEL J\"', 'POLICE OFFICER', 'POLICE', '$83616.00'],\n",
       " ['\"AMATORE', '  CHRIS\"', 'FIREFIGHTER-EMT', 'FIRE', '$85680.00'],\n",
       " ['\"AMATORE JR',\n",
       "  '  JAMES V\"',\n",
       "  'FIREFIGHTER-EMT (RECRUIT)',\n",
       "  'FIRE',\n",
       "  '$54114.00'],\n",
       " ['\"AMATO',\n",
       "  '  STEVEN J\"',\n",
       "  'POLICE OFFICER (ASSIGNED AS DETECTIVE)',\n",
       "  'POLICE',\n",
       "  '$99888.00'],\n",
       " ['\"AMBE', '  NEBA\"', 'DIR OF INFORMATION SYSTEMS', 'DoIT', '$113208.00'],\n",
       " ['\"AMBOLO', '  MICHAEL J\"', 'DIRECTOR OF FINANCE', 'OEMC', '$92064.00'],\n",
       " ['\"AMBROSE',\n",
       "  '  CHRISTOPHE M\"',\n",
       "  'FIREFIGHTER (PER ARBITRATORS AWARD)-PARAMEDIC',\n",
       "  'FIRE',\n",
       "  '$105384.00'],\n",
       " ['\"AMBROSE', '  KEVIN J\"', 'FIREFIGHTER-EMT', 'FIRE', '$85680.00'],\n",
       " ['\"AMBROSE', '  PATRICK L\"', 'BOOTER - PARKING', 'FINANCE', '$64812.80'],\n",
       " ['\"AMBROSIA',\n",
       "  '  JOSEPH W\"',\n",
       "  'ASST CHIEF AIRPORT OPERATIONS SUPVSR',\n",
       "  'AVIATION',\n",
       "  '$102288.00'],\n",
       " ['\"AMBROSINO',\n",
       "  '  DANIELLA N\"',\n",
       "  'STAFF ASST TO THE ALDERMAN',\n",
       "  'CITY COUNCIL',\n",
       "  '$44544.00'],\n",
       " ['\"AMBURGEY',\n",
       "  '  MARK M\"',\n",
       "  'ELECTRICAL MECHANIC (AUTOMOTIVE)',\n",
       "  'GENERAL SERVICES',\n",
       "  '$91520.00'],\n",
       " ['\"AMDEMICHAEL',\n",
       "  '  BAHLEBBY W\"',\n",
       "  'DEPUTY MANAGING EDITOR COUNCIL JOURNAL',\n",
       "  'CITY CLERK',\n",
       "  '$102060.00'],\n",
       " ['\"AMELIO', '  ANTHONY J\"', 'POLICE OFFICER', 'POLICE', '$86520.00'],\n",
       " ['\"AMELIO', '  PAUL S\"', 'POLICE OFFICER', 'POLICE', '$80778.00'],\n",
       " ['\"AMELIO', '  PETER R\"', 'POLICE OFFICER', 'POLICE', '$83616.00'],\n",
       " ['\"AMELIO', '  PETER R\"', 'MOTOR TRUCK DRIVER', 'STREETS & SAN', '$71780.80'],\n",
       " ['\"AMELIO', '  RALPH C\"', 'MOTOR TRUCK DRIVER', 'WATER MGMNT', '$71780.80'],\n",
       " ['\"AMEND',\n",
       "  '  PATRICK J\"',\n",
       "  'FIREFIGHTER (PER ARBITRATORS AWARD)-PARAMEDIC',\n",
       "  'FIRE',\n",
       "  '$101688.00'],\n",
       " ['\"AMES',\n",
       "  '  MORTIMER P\"',\n",
       "  'ASST CORPORATION COUNSEL SUPVSR',\n",
       "  'LAW',\n",
       "  '$118164.00'],\n",
       " ['\"AMEY',\n",
       "  '  JADE N\"',\n",
       "  'LIBRARY ASSOCIATE - HOURLY',\n",
       "  'PUBLIC LIBRARY',\n",
       "  '$24835.20'],\n",
       " ['\"AMEZAGA', '  LAURA A\"', 'POLICE OFFICER', 'POLICE', '$86520.00'],\n",
       " ['\"AMEZQUITA', '  SONIA\"', 'POLICE OFFICER', 'POLICE', '$89718.00'],\n",
       " ['\"AMICK',\n",
       "  '  DAVID J\"',\n",
       "  'BUILDING/CONSTRUCTION INSPECTOR',\n",
       "  'BUILDINGS',\n",
       "  '$84060.00'],\n",
       " ['\"AMITI', '  TEKI\"', 'PARKING ENFORCEMENT AIDE', 'FINANCE', '$53292.00'],\n",
       " ['\"AMMONS', '  GREGORY W\"', 'PARKING INVESTIGATOR', 'FINANCE', '$63276.00'],\n",
       " ['\"AMORELLA', '  MICHAEL S\"', 'POLICE OFFICER', 'POLICE', '$83616.00'],\n",
       " ['\"AMOS', '  ALVIN A\"', 'DETENTION AIDE', 'POLICE', '$61260.00'],\n",
       " ['\"AMPADU', '  DORIS C\"', 'CLERK III', 'HEALTH', '$55428.00'],\n",
       " ['\"AMPARAN', '  ERNESTO\"', 'POLICE OFFICER', 'POLICE', '$69684.00'],\n",
       " ['\"AMRAEN',\n",
       "  '  DAVID J\"',\n",
       "  'FOREMAN OF HOISTING ENGINEERS',\n",
       "  'GENERAL SERVICES',\n",
       "  '$106288.00'],\n",
       " ['\"AMSDEN',\n",
       "  '  MICHAEL\"',\n",
       "  'PROJECTS ADMINISTRATOR',\n",
       "  'TRANSPORTN',\n",
       "  '$94260.00'],\n",
       " ['\"AMSTADT', '  ROBERT J\"', 'POLICE OFFICER', 'POLICE', '$80778.00'],\n",
       " ['\"ANAELE', '  BENEDICT E\"', 'INVESTIGATOR - IPRA III', 'IPRA', '$111132.00'],\n",
       " ['\"ANASTASOF', '  FRANK G\"', 'TREE TRIMMER', 'STREETS & SAN', '$74464.00'],\n",
       " ['\"ANAWES',\n",
       "  '  CHAMOON F\"',\n",
       "  'FILTRATION ENGINEER III',\n",
       "  'WATER MGMNT',\n",
       "  '$95880.00'],\n",
       " ['\"ANAYA', '  GEORGE\"', 'POLICE OFFICER', 'POLICE', '$69684.00'],\n",
       " ['\"ANAYA',\n",
       "  '  JUAN P\"',\n",
       "  'AIRPORT OPERATIONS SUPVSR II',\n",
       "  'AVIATION',\n",
       "  '$81108.00'],\n",
       " ['\"ANAYA', '  PEDRO\"', 'POLICE OFFICER', 'POLICE', '$69684.00'],\n",
       " ['\"ANDABLO II', '  HUMBERTO\"', 'POLICE OFFICER', 'POLICE', '$80778.00'],\n",
       " ['\"ANDAVERDE III', '  FEDERICO\"', 'SERGEANT', 'POLICE', '$103590.00'],\n",
       " ['\"ANDAVIS',\n",
       "  '  CHRISTOPHER\"',\n",
       "  'FIRE COMMUNICATIONS OPERATOR I',\n",
       "  'OEMC',\n",
       "  '$65676.00'],\n",
       " ['\"ANDEREGG', '  DANIEL\"', 'POLICE OFFICER', 'POLICE', '$69684.00'],\n",
       " ['\"ANDER', '  PERRY A\"', 'WATER CHEMIST II', 'WATER MGMNT', '$80424.00'],\n",
       " ['\"ANDERSEN',\n",
       "  '  CHRIS E\"',\n",
       "  'POLICE OFFICER (ASGND AS MOUNTED PATROL OFFICER)',\n",
       "  'POLICE',\n",
       "  '$94236.00'],\n",
       " ['\"ANDERSEN', '  CHRISTOPHER\"', 'POLICE OFFICER', 'POLICE', '$83616.00'],\n",
       " ['\"ANDERSEN', '  JEREMY C\"', 'POLICE OFFICER', 'POLICE', '$83616.00'],\n",
       " ['\"ANDERSEN', '  MARK A\"', 'SERGEANT', 'POLICE', '$110370.00'],\n",
       " ['\"ANDERSEN',\n",
       "  '  MARK E\"',\n",
       "  'LIBRARY DIVISION CHIEF',\n",
       "  'PUBLIC LIBRARY',\n",
       "  '$99108.00'],\n",
       " ['\"ANDERSEN', '  MATTHEW P\"', 'FIRE ENGINEER-EMT', 'FIRE', '$99324.00'],\n",
       " ['\"ANDERSEN', '  ROBERT P\"', 'FIRE ENGINEER', 'FIRE', '$93648.00'],\n",
       " ['\"ANDERSEN', '  TAMI L\"', 'LIEUTENANT', 'POLICE', '$123948.00'],\n",
       " ['\"ANDERS', '  KEVIN R\"', 'MOTOR TRUCK DRIVER', 'STREETS & SAN', '$72862.40'],\n",
       " ['\"ANDERSON',\n",
       "  '  ALBERT J\"',\n",
       "  'SANITATION LABORER',\n",
       "  'STREETS & SAN',\n",
       "  '$72384.00'],\n",
       " ['\"ANDERSON',\n",
       "  '  ANDREW J\"',\n",
       "  'DISTRICT SUPERINTENDENT OF WATER DISTRIBUTION',\n",
       "  'WATER MGMNT',\n",
       "  '$107124.00'],\n",
       " ['\"ANDERSON', '  BRADLEY\"', 'POLICE OFFICER', 'POLICE', '$69684.00'],\n",
       " ['\"ANDERSON', '  CHARLES E\"', 'POLICE OFFICER', 'POLICE', '$89718.00'],\n",
       " ['\"ANDERSON',\n",
       "  '  CLOUTHA D\"',\n",
       "  'HEAD LIBRARY CLERK',\n",
       "  'PUBLIC LIBRARY',\n",
       "  '$63708.00'],\n",
       " ['\"ANDERSON', '  COREY\"', 'POLICE OFFICER', 'POLICE', '$83616.00'],\n",
       " ['\"ANDERSON', '  COREY A\"', 'POLICE OFFICER', 'POLICE', '$83616.00'],\n",
       " ['\"ANDERSON', '  CORY\"', 'POLICE OFFICER', 'POLICE', '$69684.00'],\n",
       " ['\"ANDERSON',\n",
       "  '  DARNETTA L\"',\n",
       "  'ACCOUNTANT III',\n",
       "  'FAMILY & SUPPORT',\n",
       "  '$83256.00'],\n",
       " ['\"ANDERSON',\n",
       "  '  DAVID C\"',\n",
       "  'PROJECTS ADMINISTRATOR',\n",
       "  'BUILDINGS',\n",
       "  '$90252.00'],\n",
       " ['\"ANDERSON', '  DAVID C\"', 'SEWER BRICKLAYER', 'WATER MGMNT', '$88566.40'],\n",
       " ['\"ANDERSON', '  DAVID R\"', 'POLICE OFFICER', 'POLICE', '$80778.00'],\n",
       " ['\"ANDERSON',\n",
       "  '  DEBORAH L\"',\n",
       "  'CHIEF PROGRAMMER/ANALYST',\n",
       "  'DoIT',\n",
       "  '$112332.00'],\n",
       " ['\"ANDERSON', '  DEBRA L\"', 'POLICE OFFICER', 'POLICE', '$83616.00'],\n",
       " ['\"ANDERSON',\n",
       "  '  DERRICK W\"',\n",
       "  'MOTOR TRUCK DRIVER',\n",
       "  'STREETS & SAN',\n",
       "  '$71780.80'],\n",
       " ['\"ANDERSON', '  DIANA M\"', 'POLICE OFFICER', 'POLICE', '$86520.00'],\n",
       " ['\"ANDERSON', '  DIANE G\"', 'CROSSING GUARD', 'POLICE', '$19188.00'],\n",
       " ['\"ANDERSON',\n",
       "  '  DONALD\"',\n",
       "  'FOREMAN OF WATER PIPE CONSTRUCTION',\n",
       "  'WATER MGMNT',\n",
       "  '$101192.00'],\n",
       " ['\"ANDERSON', '  DOUGLAS T\"', 'POLICE OFFICER', 'POLICE', '$83616.00'],\n",
       " ['\"ANDERSON', '  EDWARD A\"', 'FIREFIGHTER-EMT', 'FIRE', '$88680.00'],\n",
       " ['\"ANDERSON',\n",
       "  '  EDWARD M\"',\n",
       "  'SR PROCUREMENT SPECIALIST',\n",
       "  'PROCUREMENT',\n",
       "  '$84780.00'],\n",
       " ['\"ANDERSON',\n",
       "  '  ELIZER\"',\n",
       "  'TRAFFIC CONTROL AIDE-HOURLY',\n",
       "  'OEMC',\n",
       "  '$19656.00'],\n",
       " ['\"ANDERSON', '  ELLIS R\"', 'POLICE OFFICER', 'POLICE', '$83616.00'],\n",
       " ['\"ANDERSON',\n",
       "  '  ERIC J\"',\n",
       "  'LABORER - APPRENTICE',\n",
       "  'WATER MGMNT',\n",
       "  '$55328.00'],\n",
       " ['\"ANDERSON', '  ERIC M\"', 'LIBRARIAN I', 'PUBLIC LIBRARY', '$72840.00'],\n",
       " ['\"ANDERSON', '  GARY M\"', 'POLICE OFFICER', 'POLICE', '$80778.00'],\n",
       " ['\"ANDERSON', '  GLEN E\"', 'FIREFIGHTER-EMT', 'FIRE', '$88680.00'],\n",
       " ['\"ANDERSON',\n",
       "  '  HANNAH L\"',\n",
       "  'PUBLIC HEALTH ADMINISTRATOR III',\n",
       "  'HEALTH',\n",
       "  '$73752.00'],\n",
       " ['\"ANDERSON',\n",
       "  '  IVY L\"',\n",
       "  'ASST CHIEF OPERATING ENGINEER',\n",
       "  'WATER MGMNT',\n",
       "  '$108534.40'],\n",
       " ['\"ANDERSON', '  JACOB P\"', 'FIREFIGHTER/PARAMEDIC', 'FIRE', '$87720.00'],\n",
       " ['\"ANDERSON',\n",
       "  '  JAMES E\"',\n",
       "  'POLICE OFFICER (ASSIGNED AS DETECTIVE)',\n",
       "  'POLICE',\n",
       "  '$99888.00'],\n",
       " ['\"ANDERSON', '  JAMES J\"', 'POLICE OFFICER', 'POLICE', '$92316.00'],\n",
       " ['\"ANDERSON', '  JEROME L\"', 'POLICE OFFICER', 'POLICE', '$92316.00'],\n",
       " ['\"ANDERSON',\n",
       "  '  JODY M\"',\n",
       "  'SUPPORT SERVICES COORD',\n",
       "  'FAMILY & SUPPORT',\n",
       "  '$66684.00'],\n",
       " ['\"ANDERSON', '  JOE A\"', 'FIREFIGHTER-EMT', 'FIRE', '$85680.00'],\n",
       " ['\"ANDERSON', '  JOE E\"', 'LEGISLATIVE AIDE', 'CITY COUNCIL', '$45864.00'],\n",
       " ['\"ANDERSON',\n",
       "  '  JOHN M\"',\n",
       "  'TRAFFIC CONTROL AIDE-HOURLY',\n",
       "  'OEMC',\n",
       "  '$19656.00'],\n",
       " ['\"ANDERSON', '  JOHN S\"', 'FIREFIGHTER', 'FIRE', '$86520.00'],\n",
       " ['\"ANDERSON', '  JOHN T\"', 'LIEUTENANT', 'POLICE', '$123948.00'],\n",
       " ['\"ANDERSON JR',\n",
       "  '  ERNEST L\"',\n",
       "  'CONSTRUCTION LABORER',\n",
       "  'WATER MGMNT',\n",
       "  '$79040.00'],\n",
       " ['\"ANDERSON JR', '  ROY T\"', 'FIREFIGHTER/PARAMEDIC', 'FIRE', '$97728.00'],\n",
       " ['\"ANDERSON', '  KEVIN B\"', 'CAPTAIN', 'POLICE', '$134820.00'],\n",
       " ['\"ANDERSON', '  LAKISA S\"', 'POLICE OFFICER', 'POLICE', '$89718.00'],\n",
       " ['\"ANDERSON', '  LANCE Q\"', 'FIRE ENGINEER', 'FIRE', '$99888.00'],\n",
       " ['\"ANDERSON', '  LARRY D\"', 'PAINTER', 'AVIATION', '$86840.00'],\n",
       " ['\"ANDERSON',\n",
       "  '  LESTER J\"',\n",
       "  'SENIOR BUSINESS CONSULTANT',\n",
       "  'BUSINESS AFFAIRS',\n",
       "  '$67224.00'],\n",
       " ['\"ANDERSON', '  LUCI A\"', 'ASST COMMISSIONER', 'WATER MGMNT', '$105828.00'],\n",
       " ['\"ANDERSON',\n",
       "  '  LUIS F\"',\n",
       "  'OPERATING ENGINEER-GROUP A',\n",
       "  'WATER MGMNT',\n",
       "  '$98675.20'],\n",
       " ['\"ANDERSON', '  LUTHER\"', 'CONCRETE LABORER', 'TRANSPORTN', '$79040.00'],\n",
       " ['\"ANDERSON',\n",
       "  '  LUVENIA M\"',\n",
       "  'ADMIN ASST II - LABORERS',\n",
       "  'TRANSPORTN',\n",
       "  '$55968.00'],\n",
       " ['\"ANDERSON',\n",
       "  '  MALINDA\"',\n",
       "  'POOL MOTOR TRUCK DRIVER',\n",
       "  'STREETS & SAN',\n",
       "  '$71780.80'],\n",
       " ['\"ANDERSON',\n",
       "  '  MARION D\"',\n",
       "  'POLICE OFFICER (ASSIGNED AS CANINE HANDLER)',\n",
       "  'POLICE',\n",
       "  '$97044.00'],\n",
       " ['\"ANDERSON', '  MARK R\"', 'ELECTRICAL MECHANIC', 'TRANSPORTN', '$91520.00'],\n",
       " ['\"ANDERSON', '  MAURICE\"', 'POLICE OFFICER', 'POLICE', '$86520.00'],\n",
       " ['\"ANDERSON', '  MICHAEL A\"', 'SERGEANT', 'POLICE', '$100440.00'],\n",
       " ['\"ANDERSON', '  MIGUEL\"', 'POLICE OFFICER', 'POLICE', '$69684.00'],\n",
       " ['\"ANDERSON',\n",
       "  '  MINNIE B\"',\n",
       "  'TITLE V PROGRAM TRAINEE I',\n",
       "  'FAMILY & SUPPORT',\n",
       "  '$8580.00'],\n",
       " ['\"ANDERSON',\n",
       "  '  OLIVER\"',\n",
       "  'TRAFFIC CONTROL AIDE-HOURLY',\n",
       "  'OEMC',\n",
       "  '$19656.00'],\n",
       " ['\"ANDERSON', '  PAUL D\"', 'POLICE OFFICER', 'POLICE', '$92316.00'],\n",
       " ['\"ANDERSON', '  PAUL E\"', 'FIREFIGHTER', 'FIRE', '$83616.00'],\n",
       " ['\"ANDERSON', '  PAUL L\"', 'MOTOR TRUCK DRIVER', 'WATER MGMNT', '$71780.80'],\n",
       " ['\"ANDERSON',\n",
       "  '  QUINTUSSIA\"',\n",
       "  'ADMINISTRATIVE ASST II',\n",
       "  'HEALTH',\n",
       "  '$60780.00'],\n",
       " ['\"ANDERSON',\n",
       "  '  RHONDA F\"',\n",
       "  'PROJECT COORD',\n",
       "  'FAMILY & SUPPORT',\n",
       "  '$73752.00'],\n",
       " ['\"ANDERSON',\n",
       "  '  RHONDA M\"',\n",
       "  'PROPERTY CUSTODIAN - AUTO POUND',\n",
       "  'STREETS & SAN',\n",
       "  '$38436.00'],\n",
       " ['\"ANDERSON',\n",
       "  '  RHONDA M\"',\n",
       "  'POLICE OFFICER (ASSIGNED AS DETECTIVE)',\n",
       "  'POLICE',\n",
       "  '$93648.00'],\n",
       " ['\"ANDERSON',\n",
       "  '  ROBIN L\"',\n",
       "  'OPERATING ENGINEER-GROUP C',\n",
       "  'WATER MGMNT',\n",
       "  '$93745.60'],\n",
       " ['\"ANDERSON', '  RORY A\"', 'POLICE AGENT', 'POLICE', '$90846.00'],\n",
       " ['\"ANDERSON',\n",
       "  '  ROSLYN\"',\n",
       "  'FOSTER GRANDPARENT',\n",
       "  'FAMILY & SUPPORT',\n",
       "  '$2756.00'],\n",
       " ['\"ANDERSON', '  ROY\"', 'FIREFIGHTER', 'FIRE', '$93594.00'],\n",
       " ['\"ANDERSON',\n",
       "  '  SALLY A\"',\n",
       "  'SANITATION LABORER',\n",
       "  'STREETS & SAN',\n",
       "  '$72384.00'],\n",
       " ['\"ANDERSON', '  SHARON J\"', 'LIBRARIAN III', 'PUBLIC LIBRARY', '$83256.00'],\n",
       " ['\"ANDERSON', '  STEPHEN R\"', 'SERGEANT', 'POLICE', '$103590.00'],\n",
       " ['\"ANDERSON',\n",
       "  '  TARIQ A\"',\n",
       "  'OPERATING ENGINEER-GROUP C',\n",
       "  'WATER MGMNT',\n",
       "  '$93745.60'],\n",
       " ['\"ANDERSON',\n",
       "  '  TEDDY R\"',\n",
       "  'SANITATION LABORER',\n",
       "  'STREETS & SAN',\n",
       "  '$72384.00'],\n",
       " ['\"ANDERSON',\n",
       "  '  TEFFANY\"',\n",
       "  'PUBLIC HEALTH ADMINISTRATOR III',\n",
       "  'HEALTH',\n",
       "  '$66564.00'],\n",
       " ['\"ANDERSON', '  THEODORE C\"', 'POLICE OFFICER', 'POLICE', '$89718.00'],\n",
       " ['\"ANDERSON',\n",
       "  '  THOMAS\"',\n",
       "  'EMERGENCY CREW DISPATCHER',\n",
       "  'WATER MGMNT',\n",
       "  '$79040.00'],\n",
       " ['\"ANDERSON',\n",
       "  '  THOMAS E\"',\n",
       "  'AVIATION SECURITY OFFICER',\n",
       "  'AVIATION',\n",
       "  '$67212.00'],\n",
       " ['\"ANDERSON',\n",
       "  '  THOMAS R\"',\n",
       "  'SANITATION LABORER',\n",
       "  'STREETS & SAN',\n",
       "  '$72384.00'],\n",
       " ['\"ANDERSON', '  TODD R\"', 'AMBULANCE COMMANDER', 'FIRE', '$120264.00'],\n",
       " ['\"ANDERSON', '  TRACEY A\"', 'POLICE OFFICER', 'POLICE', '$86520.00'],\n",
       " ['\"ANDERSON', '  VICTOR O\"', 'POLICE OFFICER', 'POLICE', '$89718.00'],\n",
       " ['\"ANDERSON', '  WESLEY\"', 'POLICE OFFICER', 'POLICE', '$83616.00'],\n",
       " ['\"ANDERSON', '  YVETTE M\"', 'CROSSING GUARD', 'POLICE', '$18324.80'],\n",
       " ['\"ANDINO', '  JUANITA\"', 'CROSSING GUARD', 'POLICE', '$22131.20'],\n",
       " ['\"ANDINO',\n",
       "  '  WILLIAM\"',\n",
       "  'POLICE OFFICER (ASSIGNED AS DETECTIVE)',\n",
       "  'POLICE',\n",
       "  '$93648.00'],\n",
       " ['\"ANDOLINO', '  STEVE C\"', 'FIREFIGHTER-EMT', 'FIRE', '$88680.00'],\n",
       " ['\"ANDONAEGUI', '  ARTURO V\"', 'POLICE OFFICER', 'POLICE', '$86520.00'],\n",
       " ['\"ANDO', '  SCOTT M\"', 'CHIEF ADMINISTRATOR', 'IPRA', '$161856.00'],\n",
       " ['\"ANDRADE', '  DANIEL\"', 'POLICE OFFICER', 'POLICE', '$80778.00'],\n",
       " ['\"ANDRADE', '  JAMES N\"', 'POLICE OFFICER', 'POLICE', '$89718.00'],\n",
       " ['\"ANDRADE', '  MARK\"', 'FIRE ENGINEER', 'FIRE', '$99888.00'],\n",
       " ['\"ANDRADE',\n",
       "  '  PASCUALA Y\"',\n",
       "  'MOTOR TRUCK DRIVER',\n",
       "  'STREETS & SAN',\n",
       "  '$71780.80'],\n",
       " ['\"ANDRAS',\n",
       "  '  GREGORY A\"',\n",
       "  'POLICE OFFICER (ASSIGNED AS DETECTIVE)',\n",
       "  'POLICE',\n",
       "  '$97044.00'],\n",
       " ['\"ANDREW',\n",
       "  '  CHERYL L\"',\n",
       "  'LIBRARY ASSOCIATE',\n",
       "  'PUBLIC LIBRARY',\n",
       "  '$66120.00'],\n",
       " ['\"ANDREWS', '  ADAM C\"', 'POLICE OFFICER', 'POLICE', '$89718.00'],\n",
       " ['\"ANDREWS', '  ANTHONY J\"', 'SERGEANT', 'POLICE', '$106920.00'],\n",
       " ['\"ANDREWS', '  ANTRINIUS\"', 'POLICE OFFICER', 'POLICE', '$73296.00'],\n",
       " ['\"ANDREWS-ARMISTEAD',\n",
       "  '  RHONDA C\"',\n",
       "  'BUSINESS CONSULTANT',\n",
       "  'BUSINESS AFFAIRS',\n",
       "  '$59796.00'],\n",
       " ['\"ANDREWS', '  CHARLES E\"', 'POLICE OFFICER', 'POLICE', '$89718.00'],\n",
       " ['\"ANDREWS',\n",
       "  '  CLARENCE J\"',\n",
       "  'SANITATION LABORER',\n",
       "  'STREETS & SAN',\n",
       "  '$72384.00'],\n",
       " ['\"ANDREWS', '  CONSTANTINE G\"', 'DEPUTY CHIEF', 'POLICE', '$170112.00'],\n",
       " ['\"ANDREWS', '  DAVID\"', 'POLICE OFFICER', 'POLICE', '$69684.00'],\n",
       " ['\"ANDREWS', '  DENISE\"', 'NURSE PRACTITIONER', 'HEALTH', '$127392.00'],\n",
       " ['\"ANDREWS JR', '  MARSHALL C\"', 'POLICE OFFICER', 'POLICE', '$80778.00'],\n",
       " ['\"ANDREWS', '  LISA M\"', 'SERGEANT', 'POLICE', '$110370.00'],\n",
       " ['\"ANDREWS', '  MARTIN L\"', 'LOAD DISPATCHER', 'TRANSPORTN', '$95888.04'],\n",
       " ['\"ANDREWS',\n",
       "  '  MICHAEL R\"',\n",
       "  'CONSTRUCTION LABORER',\n",
       "  'WATER MGMNT',\n",
       "  '$79040.00'],\n",
       " ['\"ANDREWS', '  RISHAUNDA M\"', 'LIBRARY PAGE', 'PUBLIC LIBRARY', '$12407.20'],\n",
       " ['\"ANDREWS SMITH', '  MARSHA L\"', 'POLICE OFFICER', 'POLICE', '$89718.00'],\n",
       " ['\"ANDRIACCHI', '  JAMES J\"', 'ASPHALT FOREMAN', 'TRANSPORTN', '$80912.00'],\n",
       " ['\"ANDRICH', '  DAVID L\"', 'POLICE OFFICER', 'POLICE', '$80778.00'],\n",
       " ['\"ANDROS',\n",
       "  '  ARTHUR N\"',\n",
       "  'PROJECT MANAGER',\n",
       "  'GENERAL SERVICES',\n",
       "  '$106884.00'],\n",
       " ['\"ANDRUSHKO', '  TARAS M\"', 'POLICE OFFICER', 'POLICE', '$83616.00'],\n",
       " ['\"ANDRUZZI JR', '  JOSEPH J\"', 'LIEUTENANT', 'POLICE', '$123948.00'],\n",
       " ['\"ANDUJAR', '  DANIEL\"', 'POLICE OFFICER', 'POLICE', '$83616.00'],\n",
       " ['\"ANELLO', '  KATIE M\"', 'POLICE OFFICER', 'POLICE', '$86520.00'],\n",
       " ['\"ANELLO', '  PHILLIP A\"', 'LIEUTENANT-EMT', 'FIRE', '$109872.00'],\n",
       " ['\"ANGARONE', '  DEAN J\"', 'FIREFIGHTER', 'FIRE', '$83616.00'],\n",
       " ['\"ANGARONE', '  JOSEPH R\"', 'POLICE OFFICER', 'POLICE', '$46206.00'],\n",
       " ['\"ANGARONE', '  KENNETH\"', 'COMMANDER', 'POLICE', '$162684.00'],\n",
       " ['\"ANGELES',\n",
       "  '  RONALDO C\"',\n",
       "  'AVIATION SECURITY OFFICER',\n",
       "  'AVIATION',\n",
       "  '$61260.00'],\n",
       " ['\"ANGELETTI',\n",
       "  '  ANTHONY R\"',\n",
       "  'ELECTRICAL MECHANIC',\n",
       "  'GENERAL SERVICES',\n",
       "  '$91520.00'],\n",
       " ['\"ANGELETTI', '  DIANE E\"', 'CLERK III', 'HUMAN RESOURCES', '$36264.00'],\n",
       " ['\"ANGEL',\n",
       "  '  GLENN K\"',\n",
       "  'ASST CORPORATION COUNSEL SUPVSR',\n",
       "  'LAW',\n",
       "  '$92676.00'],\n",
       " ['\"ANGELINI', '  JOHN R\"', 'FIRE ENGINEER-EMT', 'FIRE', '$105918.00'],\n",
       " ['\"ANGELO', '  DEAN C\"', 'POLICE OFFICER', 'POLICE', '$80778.00'],\n",
       " ['\"ANGELOPOULOS', '  JOHN T\"', 'POLICE OFFICER', 'POLICE', '$89718.00'],\n",
       " ['\"ANGEL', '  SAMUEL\"', 'POLICE OFFICER', 'POLICE', '$46206.00'],\n",
       " ['\"ANGLADA',\n",
       "  '  RAFAEL\"',\n",
       "  'INFORMATION SERVICES COORD',\n",
       "  'POLICE',\n",
       "  '$84780.00'],\n",
       " ['\"ANGLEMIRE', '  MICHAEL T\"', 'BRIDGE OPERATOR', 'TRANSPORTN', '$50496.00'],\n",
       " ['\"ANGSTEN', '  JAMES E\"', 'POLICE OFFICER', 'POLICE', '$89718.00'],\n",
       " ['\"ANGUIANO', '  RICARDO\"', 'POLICE OFFICER', 'POLICE', '$46206.00'],\n",
       " ['\"ANGUIANO', '  SARA I\"', 'SUPVSR OF ACCOUNTING', 'FINANCE', '$79464.00'],\n",
       " ['\"ANGUS', '  KEVIN P\"', 'LIEUTENANT', 'FIRE', '$103590.00'],\n",
       " ['\"ANGUS', '  WILLIAM J\"', 'POLICE OFFICER', 'POLICE', '$89718.00'],\n",
       " ['\"ANKUM',\n",
       "  '  CHARMAIN D\"',\n",
       "  'LABORER - APPRENTICE',\n",
       "  'WATER MGMNT',\n",
       "  '$55328.00'],\n",
       " ['\"ANNERINO',\n",
       "  '  ANTHONY\"',\n",
       "  'SANITATION LABORER',\n",
       "  'STREETS & SAN',\n",
       "  '$72384.00'],\n",
       " ['\"AN', '  NICK H\"', 'TRAFFIC ENGINEER V', 'TRANSPORTN', '$100620.00'],\n",
       " ['\"ANNIS', '  CHARLES L\"', 'FIREFIGHTER', 'FIRE', '$90018.00'],\n",
       " ['\"ANNIS', '  CURT\"', 'BATTALION CHIEF - EMT', 'FIRE', '$143682.00'],\n",
       " ['\"ANNOR', '  SAMUEL\"', 'POLICE OFFICER', 'POLICE', '$86520.00'],\n",
       " ['\"ANNUNZIO', '  EDWARD A\"', 'POLICE OFFICER', 'POLICE', '$89718.00'],\n",
       " ['\"ANOSIKE',\n",
       "  '  MORGAN U\"',\n",
       "  'PARKING ENFORCEMENT AIDE',\n",
       "  'FINANCE',\n",
       "  '$50904.00'],\n",
       " ['\"ANSARI',\n",
       "  '  SARAH S\"',\n",
       "  'ASST INSPECTOR GENERAL',\n",
       "  'INSPECTOR GEN',\n",
       "  '$97164.00'],\n",
       " ['\"ANSELMO', '  JAMIE R\"', 'POLICE OFFICER', 'POLICE', '$89718.00'],\n",
       " ['\"ANSIER', '  MICHAEL A\"', 'FIREFIGHTER-EMT', 'FIRE', '$85680.00'],\n",
       " ['\"ANSLEY',\n",
       "  '  NANNETTE\"',\n",
       "  'POLICE OFFICER (ASSIGNED AS DETECTIVE)',\n",
       "  'POLICE',\n",
       "  '$97044.00'],\n",
       " ['\"ANSON',\n",
       "  '  BENJAMIN W\"',\n",
       "  'ASSOC CLASSIFICATION & COMP ANALYST',\n",
       "  'HUMAN RESOURCES',\n",
       "  '$59436.00'],\n",
       " ['\"ANTESBERGER', '  BRENT P\"', 'POLICE OFFICER', 'POLICE', '$80778.00'],\n",
       " ['\"ANTHONY', '  FREDERICK\"', 'POLICE OFFICER', 'POLICE', '$89718.00'],\n",
       " ['\"ANTHONY', '  GWANA R\"', 'SERGEANT', 'POLICE', '$106920.00'],\n",
       " ['\"ANTHONY',\n",
       "  '  ROBERT K\"',\n",
       "  'COORD OF AIR MASK SERVICES',\n",
       "  'FIRE',\n",
       "  '$157776.00'],\n",
       " ['\"ANTHONY SANDERS', '  DEBRA L\"', 'CLERK IV', 'PROCUREMENT', '$60780.00'],\n",
       " ['\"ANTHONY',\n",
       "  '  STEVEN C\"',\n",
       "  'POOL MOTOR TRUCK DRIVER',\n",
       "  'AVIATION',\n",
       "  '$71780.80'],\n",
       " ['\"ANTHOS', '  ROSS A\"', 'MOTOR TRUCK DRIVER', 'AVIATION', '$71780.80'],\n",
       " ['\"ANTICO', '  JOSEPH B\"', 'POLICE OFFICER', 'POLICE', '$80778.00'],\n",
       " ['\"ANTONACCI',\n",
       "  '  JOHN M\"',\n",
       "  'GENERAL MANAGER OF AIRPORT OPERATIONS',\n",
       "  'AVIATION',\n",
       "  '$109032.00'],\n",
       " ['\"ANTONIAZZI', '  BARRY M\"', 'PARAMEDIC I/C', 'FIRE', '$87534.00'],\n",
       " ['\"ANTONIAZZI', '  GINO A\"', 'POLICE OFFICER', 'POLICE', '$80778.00'],\n",
       " ['\"ANTONIK', '  RYAN M\"', 'FIREFIGHTER-EMT', 'FIRE', '$85680.00'],\n",
       " ['\"ANTONOPOULOS',\n",
       "  '  CHRISTOPHER J\"',\n",
       "  'ENVIRONMENTAL INVESTIGATOR',\n",
       "  'HEALTH',\n",
       "  '$73200.00'],\n",
       " ['\"ANTONOW', '  GREGORY R\"', 'FIREFIGHTER', 'FIRE', '$80778.00'],\n",
       " ['\"ANTONSEN', '  RICHARD\"', 'POLICE OFFICER', 'POLICE', '$83616.00'],\n",
       " ['\"ANTONSON', '  EINAR N\"', 'FOREMAN OF LINEMEN', 'TRANSPORTN', '$106288.00'],\n",
       " ['\"ANTONUCCI WHITE',\n",
       "  '  JILL L\"',\n",
       "  'SUPERVISING PARALEGAL',\n",
       "  'LAW',\n",
       "  '$84780.00'],\n",
       " ['\"ANTONY',\n",
       "  '  ELENGICAL K\"',\n",
       "  'MOTOR TRUCK DRIVER',\n",
       "  'STREETS & SAN',\n",
       "  '$71780.80'],\n",
       " ['\"ANTOSIAK',\n",
       "  '  MICHAEL A\"',\n",
       "  'POOL MOTOR TRUCK DRIVER',\n",
       "  'AVIATION',\n",
       "  '$71780.80'],\n",
       " ['\"ANTROBUS',\n",
       "  '  ERIC\"',\n",
       "  'FIREFIGHTER (PER ARBITRATORS AWARD)-PARAMEDIC',\n",
       "  'FIRE',\n",
       "  '$98244.00'],\n",
       " ['\"ANZALDO', '  JORGE\"', 'PARAMEDIC', 'FIRE', '$83616.00'],\n",
       " ['\"APACIBLE', '  JONATHAN B\"', 'POLICE OFFICER', 'POLICE', '$86520.00'],\n",
       " ['\"APARICIO',\n",
       "  '  JOSE M\"',\n",
       "  'BUILDING/CONSTRUCTION INSPECTOR',\n",
       "  'BUILDINGS',\n",
       "  '$88968.00'],\n",
       " ['\"APEL',\n",
       "  '  JOHN F\"',\n",
       "  'AVIATION SECURITY OFFICER - HOURLY',\n",
       "  'AVIATION',\n",
       "  '$22120.80'],\n",
       " ['\"APIECZONEK JR', '  LES R\"', 'POLICE OFFICER', 'POLICE', '$80778.00'],\n",
       " ['\"APONTE',\n",
       "  '  IRMA M\"',\n",
       "  'STAFF ASST TO THE ALDERMAN',\n",
       "  'CITY COUNCIL',\n",
       "  '$55656.00'],\n",
       " ['\"APONTE', '  WILFREDO\"', 'GLAZIER', 'GENERAL SERVICES', '$83200.00'],\n",
       " ['\"APORONGAO', '  ALAIN\"', 'POLICE OFFICER', 'POLICE', '$69684.00'],\n",
       " ['\"APOSTOLOPOALOS',\n",
       "  '  NIKOS\"',\n",
       "  'MOTOR TRUCK DRIVER',\n",
       "  'AVIATION',\n",
       "  '$71780.80'],\n",
       " ['\"APOSTOLOS',\n",
       "  '  CONSTANTIN E\"',\n",
       "  'REVENUE INVESTIGATOR II',\n",
       "  'BUSINESS AFFAIRS',\n",
       "  '$88116.00'],\n",
       " ['\"APOSTOLOS',\n",
       "  '  DIMITRIOS M\"',\n",
       "  'ASST CHIEF OPERATING ENGINEER',\n",
       "  'AVIATION',\n",
       "  '$108534.40'],\n",
       " ['\"APOSTOLOS',\n",
       "  '  GEORGE M\"',\n",
       "  'OPERATING ENGINEER-GROUP A',\n",
       "  'AVIATION',\n",
       "  '$98675.20'],\n",
       " ['\"APPEL', '  DAVID L\"', 'POLICE OFFICER', 'POLICE', '$80778.00'],\n",
       " ['\"APPLEBERRY',\n",
       "  '  JALISSA\"',\n",
       "  'TRAFFIC CONTROL AIDE-HOURLY',\n",
       "  'OEMC',\n",
       "  '$19656.00'],\n",
       " ['\"APPLEWHITE',\n",
       "  '  ALETTA\"',\n",
       "  'POOL MOTOR TRUCK DRIVER',\n",
       "  'STREETS & SAN',\n",
       "  '$71780.80'],\n",
       " ['\"APPLEWHITE',\n",
       "  '  DARRELL E\"',\n",
       "  'POOL MOTOR TRUCK DRIVER',\n",
       "  'STREETS & SAN',\n",
       "  '$16151.20'],\n",
       " ['\"APURI', '  HARINATH B\"', 'TIMEKEEPER - CPD', 'POLICE', '$63708.00'],\n",
       " ['\"APURI', '  PRAMEELA K\"', 'DETENTION AIDE', 'POLICE', '$58476.00'],\n",
       " ['\"AQUEEL',\n",
       "  '  MOHAMMAD  SABIR S\"',\n",
       "  'WATER CHEMIST II',\n",
       "  'WATER MGMNT',\n",
       "  '$52116.00'],\n",
       " ['\"AQUINO',\n",
       "  '  ANTHONY J\"',\n",
       "  'STORES LABORER',\n",
       "  'GENERAL SERVICES',\n",
       "  '$79040.00'],\n",
       " ['\"AQUINO',\n",
       "  '  ANTHONY M\"',\n",
       "  'SANITATION LABORER',\n",
       "  'STREETS & SAN',\n",
       "  '$72384.00'],\n",
       " ['\"AQUINO', '  CANDELARIO\"', 'SIGN PAINTER', 'AVIATION', '$74880.00'],\n",
       " ['\"AQUINO',\n",
       "  '  REYNALDO A\"',\n",
       "  'PROJECTS ADMINISTRATOR',\n",
       "  'GENERAL SERVICES',\n",
       "  '$87600.00'],\n",
       " ['\"AQUINO',\n",
       "  '  WILLIAM\"',\n",
       "  'DIVISION SUPERINTENDENT',\n",
       "  'STREETS & SAN',\n",
       "  '$119112.00'],\n",
       " ['\"ARAGON', '  DANIEL\"', 'POLICE OFFICER', 'POLICE', '$73296.00'],\n",
       " ['\"ARAGONES', '  HIRAM\"', 'PARAMEDIC', 'FIRE', '$73296.00'],\n",
       " ['\"ARAKELOV',\n",
       "  '  GEORGE\"',\n",
       "  'OPERATING ENGINEER-GROUP C',\n",
       "  'AVIATION',\n",
       "  '$93745.60'],\n",
       " ['\"ARAMBULA',\n",
       "  '  MIGUEL\"',\n",
       "  'SANITATION LABORER',\n",
       "  'STREETS & SAN',\n",
       "  '$72384.00'],\n",
       " ['\"ARAMBULA',\n",
       "  '  SAUL\"',\n",
       "  'POLICE OFFICER (ASSIGNED AS DETECTIVE)',\n",
       "  'POLICE',\n",
       "  '$93648.00'],\n",
       " ['\"ARAMBURU', '  DALLAS\"', 'POLICE OFFICER', 'POLICE', '$69684.00'],\n",
       " ['\"ARANDA', '  ARTHUR\"', 'FIREFIGHTER', 'FIRE', '$86520.00'],\n",
       " ['\"ARANDA', '  ERICA\"', 'AVIATION SECURITY OFFICER', 'AVIATION', '$58476.00'],\n",
       " ['\"ARANDA',\n",
       "  '  ROSARIO\"',\n",
       "  'POLICE COMMUNICATIONS OPERATOR I',\n",
       "  'OEMC',\n",
       "  '$64188.00'],\n",
       " ['\"ARANOWSKI',\n",
       "  '  ALEX J\"',\n",
       "  'POLICE OFFICER (ASSIGNED AS EVIDENCE TECHNICIAN)',\n",
       "  'POLICE',\n",
       "  '$94236.00'],\n",
       " ['\"ARASZEWSKI',\n",
       "  '  BARBARA L\"',\n",
       "  'SUPVSR OF PERSONNEL SERVICES',\n",
       "  'DoIT',\n",
       "  '$80916.00'],\n",
       " ['\"ARAUJO', '  JOHN C\"', 'PARKING ENFORCEMENT AIDE', 'FINANCE', '$48540.00'],\n",
       " ['\"ARAUJO', '  MARIO E\"', 'FIREFIGHTER-EMT', 'FIRE', '$88680.00'],\n",
       " ['\"ARBAGEY',\n",
       "  '  EDWIN T\"',\n",
       "  'CONSTRUCTION LABORER',\n",
       "  'WATER MGMNT',\n",
       "  '$79040.00'],\n",
       " ['\"ARCE', '  DANIELLA\"', 'POLICE OFFICER', 'POLICE', '$73296.00'],\n",
       " ['\"ARCE',\n",
       "  '  GILBERT\"',\n",
       "  'POLICE OFFICER/EXPLSV DETECT K9 HNDLR',\n",
       "  'POLICE',\n",
       "  '$97044.00'],\n",
       " ['\"ARCE', '  LUIS\"', 'GENERAL LABORER - DSS', 'STREETS & SAN', '$40560.00'],\n",
       " ['\"ARCEO', '  LEW M\"', 'POLICE OFFICER', 'POLICE', '$80778.00'],\n",
       " ['\"ARCHAMBAULT',\n",
       "  '  JOSEPH\"',\n",
       "  'MOTOR TRUCK DRIVER',\n",
       "  'STREETS & SAN',\n",
       "  '$71780.80'],\n",
       " ['\"ARCHAMBEAULT',\n",
       "  '  EDWARD H\"',\n",
       "  'ADMINISTRATIVE ASST III',\n",
       "  'WATER MGMNT',\n",
       "  '$66684.00'],\n",
       " ['\"ARCHER',\n",
       "  '  CHRISTOPHER J\"',\n",
       "  'POOL MOTOR TRUCK DRIVER',\n",
       "  'WATER MGMNT',\n",
       "  '$71780.80'],\n",
       " ['\"ARCHER', '  KENDRA R\"', 'POLICE OFFICER', 'POLICE', '$69684.00'],\n",
       " ['\"ARCHER', '  STEVEN K\"', 'POLICE OFFICER', 'POLICE', '$80778.00'],\n",
       " ['\"ARCHILLA',\n",
       "  '  IRIS G\"',\n",
       "  'ASST TO THE COMMISSIONER',\n",
       "  'HUMAN RELATIONS',\n",
       "  '$63516.00'],\n",
       " ['\"ARCHULETA', '  RAYMOND\"', 'POLICE OFFICER', 'POLICE', '$69684.00'],\n",
       " ['\"ARCHULITA', '  LAURA\"', 'POLICE OFFICER', 'POLICE', '$69684.00'],\n",
       " ['\"ARCIERI', '  ROCCO\"', 'HOISTING ENGINEER', 'WATER MGMNT', '$97968.00'],\n",
       " ['\"ARCILLAS', '  MARK J\"', 'POLICE OFFICER', 'POLICE', '$86520.00'],\n",
       " ['\"ARCOS', '  XAVIER\"', 'SANITATION CLERK', 'STREETS & SAN', '$61356.00'],\n",
       " ['\"ARDELEAN', '  JOHN\"', 'LABORER - APPRENTICE', 'WATER MGMNT', '$55328.00'],\n",
       " ['\"ARDELJAN',\n",
       "  '  MARINEL\"',\n",
       "  'AUTOMOTIVE PAINTER',\n",
       "  'GENERAL SERVICES',\n",
       "  '$86840.00'],\n",
       " ['\"ARDITO', '  KEVIN B\"', 'POLICE OFFICER', 'POLICE', '$86520.00'],\n",
       " ['\"AREIZAGA', '  NOEL\"', 'POLICE OFFICER', 'POLICE', '$83616.00'],\n",
       " ['\"AREKAT', '  DARWISH A\"', 'POLICE OFFICER', 'POLICE', '$80778.00'],\n",
       " ['\"ARELLANO', '  ALESIA\"', 'ACCOUNTANT II', 'FINANCE', '$80424.00'],\n",
       " ['\"ARELLANO',\n",
       "  '  HECTOR A\"',\n",
       "  'INVESTIGATOR III - IG',\n",
       "  'INSPECTOR GEN',\n",
       "  '$83100.00'],\n",
       " ['\"ARELLANO', '  JASON\"', 'POLICE OFFICER', 'POLICE', '$80778.00'],\n",
       " ['\"ARELLANO', '  MIGUEL A\"', 'POLICE OFFICER', 'POLICE', '$83616.00'],\n",
       " ['\"ARENA', '  JOHN S\"', 'ALDERMAN', 'CITY COUNCIL', '$109993.92'],\n",
       " ['\"ARENAS', '  ANA LUISA\"', 'LIBRARY PAGE', 'PUBLIC LIBRARY', '$12407.20'],\n",
       " ['\"ARENAS', '  FRANK\"', 'SANITATION LABORER', 'STREETS & SAN', '$72384.00'],\n",
       " ['\"ARENAS',\n",
       "  '  ISABEL C\"',\n",
       "  'HEAD LIBRARY CLERK',\n",
       "  'PUBLIC LIBRARY',\n",
       "  '$52848.00'],\n",
       " ['\"ARENDS', '  JASON M\"', 'POLICE OFFICER', 'POLICE', '$86520.00'],\n",
       " ['\"ARENDS', '  SHANNON M\"', 'LIBRARIAN IV', 'PUBLIC LIBRARY', '$95880.00'],\n",
       " ['\"ARENS', '  ROBERT J\"', 'FIREFIGHTER-EMT', 'FIRE', '$91764.00'],\n",
       " ['\"ARENS', '  STEPHANIE L\"', 'LIBRARIAN IV', 'PUBLIC LIBRARY', '$95880.00'],\n",
       " ['\"ARES', '  DAISY\"', 'CROSSING GUARD', 'POLICE', '$18324.80'],\n",
       " ['\"ARES', '  JOSE M\"', 'SANITATION LABORER', 'STREETS & SAN', '$72384.00'],\n",
       " ['\"ARES', '  MICHAEL\"', 'POLICE OFFICER', 'POLICE', '$69684.00'],\n",
       " ['\"AREVALO',\n",
       "  '  JOAN E\"',\n",
       "  'ADMINISTRATIVE ASST II',\n",
       "  'PUBLIC LIBRARY',\n",
       "  '$55428.00'],\n",
       " ['\"ARGENBRIGHT', '  THOMAS W\"', 'COMMANDER', 'POLICE', '$162684.00'],\n",
       " ['\"ARGIRIS',\n",
       "  '  CONSTANTINE J\"',\n",
       "  'STAFF ASST TO THE ALDERMAN',\n",
       "  'CITY COUNCIL',\n",
       "  '$52980.00'],\n",
       " ['\"ARGUELLES', '  REBECCA\"', 'SERGEANT', 'POLICE', '$110370.00'],\n",
       " ['\"ARGUELLO', '  BLANCHE L\"', 'PROGRAM ANALYST', 'POLICE', '$96672.00'],\n",
       " ['\"ARGUELLO', '  FANNIE\"', 'POLICE OFFICER', 'POLICE', '$83616.00'],\n",
       " ['\"ARGUETA', '  VICKIE\"', 'ASST CORPORATION COUNSEL', 'LAW', '$61980.00'],\n",
       " ['\"ARGUETA', '  VILMA S\"', 'POLICE OFFICER', 'POLICE', '$80778.00'],\n",
       " ['\"ARGUMEDO', '  LETISCIA S\"', 'POLICE OFFICER', 'POLICE', '$69684.00'],\n",
       " ['\"ARGYROPOULOS', '  JAMES\"', 'POLICE OFFICER', 'POLICE', '$69684.00'],\n",
       " ['\"ARGYROPOULOS', '  NICK\"', 'POLICE OFFICER', 'POLICE', '$83616.00'],\n",
       " ['\"ARIAS SUL',\n",
       "  '  MARYLN C\"',\n",
       "  'ADMINISTRATIVE SERVICES OFFICER II',\n",
       "  'DISABILITIES',\n",
       "  '$88812.00'],\n",
       " ['\"ARIAS',\n",
       "  '  YOLANDA C\"',\n",
       "  'ASST TO THE COMMISSIONER',\n",
       "  'CULTURAL AFFAIRS',\n",
       "  '$80916.00'],\n",
       " ['\"ARIAZ', '  COLETTE A\"', 'FIREFIGHTER-EMT', 'FIRE', '$85680.00'],\n",
       " ['\"ARIF-ABRAHAM', '  FATIMA Z\"', 'POLICE OFFICER', 'POLICE', '$80778.00'],\n",
       " ['\"ARIMA', '  BENJAMIN H\"', 'FIREFIGHTER', 'FIRE', '$80778.00'],\n",
       " ['\"ARIZA', '  ROY\"', 'POLICE OFFICER', 'POLICE', '$83616.00'],\n",
       " ['\"ARIZZI',\n",
       "  '  BRIAN T\"',\n",
       "  'AIRPORT OPERATIONS SUPVSR II',\n",
       "  'AVIATION',\n",
       "  '$84888.00'],\n",
       " ['\"ARLOWE JR',\n",
       "  '  PATRICK J\"',\n",
       "  'MOTOR TRUCK DRIVER',\n",
       "  'WATER MGMNT',\n",
       "  '$71780.80'],\n",
       " ['\"ARMAND', '  GERTRUDE D\"', 'CROSSING GUARD', 'POLICE', '$16692.00'],\n",
       " ['\"ARMAND',\n",
       "  '  HELEN J\"',\n",
       "  'ELDER PROTECTIVE INVESTIGATOR I',\n",
       "  'FAMILY & SUPPORT',\n",
       "  '$72840.00'],\n",
       " ['\"ARMANO', '  CURT M\"', 'TREE TRIMMER', 'STREETS & SAN', '$74464.00'],\n",
       " ['\"ARMENTA', '  ANTHONY M\"', 'BRICKLAYER', 'TRANSPORTN', '$88566.40'],\n",
       " ['\"ARMFIELD',\n",
       "  '  BYRON\"',\n",
       "  'POOL MOTOR TRUCK DRIVER',\n",
       "  'STREETS & SAN',\n",
       "  '$71780.80'],\n",
       " ['\"ARMFIELD',\n",
       "  '  CHIQUITA C\"',\n",
       "  'PARKING ENFORCEMENT AIDE',\n",
       "  'FINANCE',\n",
       "  '$46380.00'],\n",
       " ['\"ARMISTEAD JR', '  LEON\"', 'POLICE OFFICER', 'POLICE', '$92316.00'],\n",
       " ['\"ARMOUR', '  GRACE ANN\"', 'CLERK II', 'AVIATION', '$43920.00'],\n",
       " ['\"ARMSTEAD', '  AARON P\"', 'POLICE OFFICER', 'POLICE', '$80778.00'],\n",
       " ['\"ARMSTEAD', '  FELICIA G\"', 'POLICE OFFICER', 'POLICE', '$86520.00'],\n",
       " ['\"ARMSTEAD', '  TRAVIS B\"', 'POLICE OFFICER', 'POLICE', '$92316.00'],\n",
       " ['\"ARMSTRONG',\n",
       "  '  CLAYTON E\"',\n",
       "  'FOREMAN OF LINEMEN',\n",
       "  'TRANSPORTN',\n",
       "  '$106288.00'],\n",
       " ['\"ARMSTRONG',\n",
       "  '  DERRICK D\"',\n",
       "  'POLICE OFFICER (ASSIGNED AS DETECTIVE)',\n",
       "  'POLICE',\n",
       "  '$97044.00'],\n",
       " ['\"ARMSTRONG',\n",
       "  '  JEROME\"',\n",
       "  'SANITATION LABORER',\n",
       "  'STREETS & SAN',\n",
       "  '$72384.00'],\n",
       " ['\"ARMSTRONG',\n",
       "  '  LOUISE\"',\n",
       "  'SENIOR COMPANION',\n",
       "  'FAMILY & SUPPORT',\n",
       "  '$2756.00'],\n",
       " ['\"ARMSTRONG', '  OTIS\"', 'ALDERMANIC AIDE', 'CITY COUNCIL', '$5200.00'],\n",
       " ['\"ARMSTRONG', '  PHILLIP D\"', 'POLICE OFFICER', 'POLICE', '$83616.00'],\n",
       " ['\"ARMSTRONG',\n",
       "  '  SONYA\"',\n",
       "  'PRINCIPAL PROGRAMMER/ANALYST',\n",
       "  'FIRE',\n",
       "  '$97728.00'],\n",
       " ['\"ARNDT', '  DONNA L\"', 'LIBRARY CLERK', 'PUBLIC LIBRARY', '$48168.00'],\n",
       " ['\"ARNDT', '  JOHN V\"', 'CARPENTER', 'GENERAL SERVICES', '$90168.00'],\n",
       " ['\"ARNOLD', '  ANDREA\"', 'CROSSING GUARD', 'POLICE', '$18324.80'],\n",
       " ['\"ARNOLD', '  DENISE C\"', 'DATA ENTRY OPERATOR', 'AVIATION', '$48168.00'],\n",
       " ['\"ARNOLD',\n",
       "  '  DIONNE C\"',\n",
       "  'PERSONAL COMPUTER OPERATOR III',\n",
       "  'PROCUREMENT',\n",
       "  '$66684.00'],\n",
       " ['\"ARNOLD-GHOLSTON',\n",
       "  '  LEATRICA M\"',\n",
       "  'POLICE COMMUNICATIONS OPERATOR II',\n",
       "  'OEMC',\n",
       "  '$73764.00'],\n",
       " ['\"ARNOLD', '  PATRICK J\"', 'LIEUTENANT-EMT', 'FIRE', '$109872.00'],\n",
       " ['\"ARNOLD', '  PEARLIE\"', 'CROSSING GUARD', 'POLICE', '$18324.80'],\n",
       " ['\"ARNOLD', '  ROY E\"', 'PAINTER', 'STREETS & SAN', '$86840.00'],\n",
       " ['\"ARNOLDT', '  ROBERT K\"', 'FIREFIGHTER', 'FIRE', '$86520.00'],\n",
       " ['\"ARNOLTS', '  ROBERT C\"', 'POLICE OFFICER', 'POLICE', '$86520.00'],\n",
       " ['\"ARNONE', '  PAUL S\"', 'POOL MOTOR TRUCK DRIVER', 'AVIATION', '$71780.80'],\n",
       " ['\"ARNSWALD', '  THOMAS J\"', 'BATTALION CHIEF - EMT', 'FIRE', '$143682.00'],\n",
       " ['\"ARNTZEN',\n",
       "  '  GUENTHER K\"',\n",
       "  'FOREMAN OF ELECTRICAL MECHANICS',\n",
       "  'OEMC',\n",
       "  '$97760.00'],\n",
       " ['\"AROCHO', '  ALBERTO\"', 'POOL MOTOR TRUCK DRIVER', 'AVIATION', '$71780.80'],\n",
       " ['\"ARREDIA', '  GARY J\"', 'CONSTRUCTION LABORER', 'WATER MGMNT', '$79040.00'],\n",
       " ['\"ARREDONDO', '  JAVIER\"', 'FIRE ENGINEER', 'FIRE', '$93648.00'],\n",
       " ['\"ARREDONDO',\n",
       "  '  TIMOTHY J\"',\n",
       "  'ELECTRICAL MECHANIC',\n",
       "  'WATER MGMNT',\n",
       "  '$91520.00'],\n",
       " ['\"ARREDONDO',\n",
       "  '  TIMOTHY J\"',\n",
       "  'ELECTRICAL MECHANIC',\n",
       "  'WATER MGMNT',\n",
       "  '$91520.00'],\n",
       " ['\"ARRIAZOLA', '  RENE\"', 'POLICE OFFICER', 'POLICE', '$86520.00'],\n",
       " ['\"ARRIETA', '  BLAS E\"', 'ACCOUNTING TECHNICIAN I', 'FINANCE', '$66684.00'],\n",
       " ['\"ARRIETA', '  CHARLES\"', 'CLERK IV', 'FINANCE', '$55428.00'],\n",
       " ['\"ARRINGTON', '  ANDRE J\"', 'FOREMAN OF LINEMEN', 'OEMC', '$106287.96'],\n",
       " ['\"ARRINGTON', '  CORDIA M\"', 'POLICE OFFICER', 'POLICE', '$89718.00'],\n",
       " ['\"ARRINGTON',\n",
       "  '  JANET\"',\n",
       "  'SANITATION LABORER',\n",
       "  'STREETS & SAN',\n",
       "  '$72384.00'],\n",
       " ['\"ARRINGTON', '  JEREMY\"', 'POLICE OFFICER', 'POLICE', '$46206.00'],\n",
       " ['\"ARRINGTON', '  REGINALD S\"', 'FIREFIGHTER-EMT', 'FIRE', '$91764.00'],\n",
       " ['\"ARRIOLA',\n",
       "  '  OSCAR F\"',\n",
       "  'HEAD LIBRARY CLERK',\n",
       "  'PUBLIC LIBRARY',\n",
       "  '$60780.00'],\n",
       " ['\"ARROYO',\n",
       "  '  ABELARDO X\"',\n",
       "  'SANITATION LABORER',\n",
       "  'STREETS & SAN',\n",
       "  '$72384.00'],\n",
       " ['\"ARROYO', '  CESAR\"', 'FIREFIGHTER-EMT', 'FIRE', '$85680.00'],\n",
       " ['\"ARROYO', '  CHRISTOPHER J\"', 'LIEUTENANT-EMT', 'FIRE', '$117078.00'],\n",
       " ['\"ARROYO', '  DANNY\"', 'POLICE OFFICER', 'POLICE', '$69684.00'],\n",
       " ['\"ARROYO', '  ESTEBAN\"', 'POLICE OFFICER', 'POLICE', '$65946.00'],\n",
       " ['\"ARROYO', '  FRANCISCO\"', 'LIBRARIAN II', 'PUBLIC LIBRARY', '$80424.00'],\n",
       " ['\"ARROYO-FREGOSO', '  NANCY\"', 'STAFF ASST', 'FIRE', '$54864.00'],\n",
       " ['\"ARROYO', '  GEORGE\"', 'CUSTODIAL WORKER', 'AVIATION', '$34008.00'],\n",
       " ['\"ARROYO',\n",
       "  '  HECTOR L\"',\n",
       "  'FIREFIGHTER (PER ARBITRATORS AWARD)-PARAMEDIC',\n",
       "  'FIRE',\n",
       "  '$108462.00'],\n",
       " ['\"ARROYO', '  HERIBERTO\"', 'CLERK III', 'PUBLIC LIBRARY', '$43920.00'],\n",
       " ['\"ARROYO', '  HORACIO A\"', 'FIREFIGHTER-EMT', 'FIRE', '$85680.00'],\n",
       " ['\"ARROYO', '  JASON M\"', 'POLICE OFFICER', 'POLICE', '$80778.00'],\n",
       " ['\"ARROYO',\n",
       "  '  JAVIER C\"',\n",
       "  'AIRPORT OPERATIONS SUPVSR II',\n",
       "  'AVIATION',\n",
       "  '$107124.00'],\n",
       " ['\"ARROYO', '  JESSE\"', 'POLICE OFFICER', 'POLICE', '$86520.00'],\n",
       " ...]"
      ]
     },
     "execution_count": 311,
     "metadata": {},
     "output_type": "execute_result"
    }
   ],
   "source": [
    "full_data = []\n",
    "\n",
    "for row in rows :\n",
    "    split_row = row.split(\",\")\n",
    "    full_data.append(split_row)\n",
    "    \n",
    "full_data"
   ]
  },
  {
   "cell_type": "code",
   "execution_count": 314,
   "metadata": {},
   "outputs": [
    {
     "data": {
      "text/plain": [
       "32184"
      ]
     },
     "execution_count": 314,
     "metadata": {},
     "output_type": "execute_result"
    }
   ],
   "source": [
    "count = 0\n",
    "\n",
    "for row in full_data:\n",
    "    count +=1\n",
    "    \n",
    "count"
   ]
  },
  {
   "cell_type": "code",
   "execution_count": 319,
   "metadata": {},
   "outputs": [
    {
     "name": "stdout",
     "output_type": "stream",
     "text": [
      "Writing teste5.txt\n"
     ]
    }
   ],
   "source": [
    "%%writefile teste5.txt\n",
    "\n",
    "Texto do teste 5"
   ]
  },
  {
   "cell_type": "code",
   "execution_count": 320,
   "metadata": {},
   "outputs": [],
   "source": [
    "import pandas as pd"
   ]
  },
  {
   "cell_type": "code",
   "execution_count": 326,
   "metadata": {},
   "outputs": [],
   "source": [
    "file_name = \"http://www.ats.ucla.edu/stat/data/binary.csv\""
   ]
  },
  {
   "cell_type": "code",
   "execution_count": 327,
   "metadata": {},
   "outputs": [
    {
     "ename": "ParserError",
     "evalue": "Error tokenizing data. C error: Expected 1 fields in line 9, saw 4\n",
     "output_type": "error",
     "traceback": [
      "\u001b[1;31m---------------------------------------------------------------------------\u001b[0m",
      "\u001b[1;31mParserError\u001b[0m                               Traceback (most recent call last)",
      "\u001b[1;32m<ipython-input-327-95bef9d63610>\u001b[0m in \u001b[0;36m<module>\u001b[1;34m()\u001b[0m\n\u001b[1;32m----> 1\u001b[1;33m \u001b[0mdata\u001b[0m \u001b[1;33m=\u001b[0m \u001b[0mpd\u001b[0m\u001b[1;33m.\u001b[0m\u001b[0mread_csv\u001b[0m\u001b[1;33m(\u001b[0m\u001b[0mfile_name\u001b[0m\u001b[1;33m)\u001b[0m\u001b[1;33m\u001b[0m\u001b[0m\n\u001b[0m",
      "\u001b[1;32mC:\\ProgramData\\Anaconda3\\lib\\site-packages\\pandas\\io\\parsers.py\u001b[0m in \u001b[0;36mparser_f\u001b[1;34m(filepath_or_buffer, sep, delimiter, header, names, index_col, usecols, squeeze, prefix, mangle_dupe_cols, dtype, engine, converters, true_values, false_values, skipinitialspace, skiprows, nrows, na_values, keep_default_na, na_filter, verbose, skip_blank_lines, parse_dates, infer_datetime_format, keep_date_col, date_parser, dayfirst, iterator, chunksize, compression, thousands, decimal, lineterminator, quotechar, quoting, escapechar, comment, encoding, dialect, tupleize_cols, error_bad_lines, warn_bad_lines, skipfooter, skip_footer, doublequote, delim_whitespace, as_recarray, compact_ints, use_unsigned, low_memory, buffer_lines, memory_map, float_precision)\u001b[0m\n\u001b[0;32m    707\u001b[0m                     skip_blank_lines=skip_blank_lines)\n\u001b[0;32m    708\u001b[0m \u001b[1;33m\u001b[0m\u001b[0m\n\u001b[1;32m--> 709\u001b[1;33m         \u001b[1;32mreturn\u001b[0m \u001b[0m_read\u001b[0m\u001b[1;33m(\u001b[0m\u001b[0mfilepath_or_buffer\u001b[0m\u001b[1;33m,\u001b[0m \u001b[0mkwds\u001b[0m\u001b[1;33m)\u001b[0m\u001b[1;33m\u001b[0m\u001b[0m\n\u001b[0m\u001b[0;32m    710\u001b[0m \u001b[1;33m\u001b[0m\u001b[0m\n\u001b[0;32m    711\u001b[0m     \u001b[0mparser_f\u001b[0m\u001b[1;33m.\u001b[0m\u001b[0m__name__\u001b[0m \u001b[1;33m=\u001b[0m \u001b[0mname\u001b[0m\u001b[1;33m\u001b[0m\u001b[0m\n",
      "\u001b[1;32mC:\\ProgramData\\Anaconda3\\lib\\site-packages\\pandas\\io\\parsers.py\u001b[0m in \u001b[0;36m_read\u001b[1;34m(filepath_or_buffer, kwds)\u001b[0m\n\u001b[0;32m    453\u001b[0m \u001b[1;33m\u001b[0m\u001b[0m\n\u001b[0;32m    454\u001b[0m     \u001b[1;32mtry\u001b[0m\u001b[1;33m:\u001b[0m\u001b[1;33m\u001b[0m\u001b[0m\n\u001b[1;32m--> 455\u001b[1;33m         \u001b[0mdata\u001b[0m \u001b[1;33m=\u001b[0m \u001b[0mparser\u001b[0m\u001b[1;33m.\u001b[0m\u001b[0mread\u001b[0m\u001b[1;33m(\u001b[0m\u001b[0mnrows\u001b[0m\u001b[1;33m)\u001b[0m\u001b[1;33m\u001b[0m\u001b[0m\n\u001b[0m\u001b[0;32m    456\u001b[0m     \u001b[1;32mfinally\u001b[0m\u001b[1;33m:\u001b[0m\u001b[1;33m\u001b[0m\u001b[0m\n\u001b[0;32m    457\u001b[0m         \u001b[0mparser\u001b[0m\u001b[1;33m.\u001b[0m\u001b[0mclose\u001b[0m\u001b[1;33m(\u001b[0m\u001b[1;33m)\u001b[0m\u001b[1;33m\u001b[0m\u001b[0m\n",
      "\u001b[1;32mC:\\ProgramData\\Anaconda3\\lib\\site-packages\\pandas\\io\\parsers.py\u001b[0m in \u001b[0;36mread\u001b[1;34m(self, nrows)\u001b[0m\n\u001b[0;32m   1067\u001b[0m                 \u001b[1;32mraise\u001b[0m \u001b[0mValueError\u001b[0m\u001b[1;33m(\u001b[0m\u001b[1;34m'skipfooter not supported for iteration'\u001b[0m\u001b[1;33m)\u001b[0m\u001b[1;33m\u001b[0m\u001b[0m\n\u001b[0;32m   1068\u001b[0m \u001b[1;33m\u001b[0m\u001b[0m\n\u001b[1;32m-> 1069\u001b[1;33m         \u001b[0mret\u001b[0m \u001b[1;33m=\u001b[0m \u001b[0mself\u001b[0m\u001b[1;33m.\u001b[0m\u001b[0m_engine\u001b[0m\u001b[1;33m.\u001b[0m\u001b[0mread\u001b[0m\u001b[1;33m(\u001b[0m\u001b[0mnrows\u001b[0m\u001b[1;33m)\u001b[0m\u001b[1;33m\u001b[0m\u001b[0m\n\u001b[0m\u001b[0;32m   1070\u001b[0m \u001b[1;33m\u001b[0m\u001b[0m\n\u001b[0;32m   1071\u001b[0m         \u001b[1;32mif\u001b[0m \u001b[0mself\u001b[0m\u001b[1;33m.\u001b[0m\u001b[0moptions\u001b[0m\u001b[1;33m.\u001b[0m\u001b[0mget\u001b[0m\u001b[1;33m(\u001b[0m\u001b[1;34m'as_recarray'\u001b[0m\u001b[1;33m)\u001b[0m\u001b[1;33m:\u001b[0m\u001b[1;33m\u001b[0m\u001b[0m\n",
      "\u001b[1;32mC:\\ProgramData\\Anaconda3\\lib\\site-packages\\pandas\\io\\parsers.py\u001b[0m in \u001b[0;36mread\u001b[1;34m(self, nrows)\u001b[0m\n\u001b[0;32m   1837\u001b[0m     \u001b[1;32mdef\u001b[0m \u001b[0mread\u001b[0m\u001b[1;33m(\u001b[0m\u001b[0mself\u001b[0m\u001b[1;33m,\u001b[0m \u001b[0mnrows\u001b[0m\u001b[1;33m=\u001b[0m\u001b[1;32mNone\u001b[0m\u001b[1;33m)\u001b[0m\u001b[1;33m:\u001b[0m\u001b[1;33m\u001b[0m\u001b[0m\n\u001b[0;32m   1838\u001b[0m         \u001b[1;32mtry\u001b[0m\u001b[1;33m:\u001b[0m\u001b[1;33m\u001b[0m\u001b[0m\n\u001b[1;32m-> 1839\u001b[1;33m             \u001b[0mdata\u001b[0m \u001b[1;33m=\u001b[0m \u001b[0mself\u001b[0m\u001b[1;33m.\u001b[0m\u001b[0m_reader\u001b[0m\u001b[1;33m.\u001b[0m\u001b[0mread\u001b[0m\u001b[1;33m(\u001b[0m\u001b[0mnrows\u001b[0m\u001b[1;33m)\u001b[0m\u001b[1;33m\u001b[0m\u001b[0m\n\u001b[0m\u001b[0;32m   1840\u001b[0m         \u001b[1;32mexcept\u001b[0m \u001b[0mStopIteration\u001b[0m\u001b[1;33m:\u001b[0m\u001b[1;33m\u001b[0m\u001b[0m\n\u001b[0;32m   1841\u001b[0m             \u001b[1;32mif\u001b[0m \u001b[0mself\u001b[0m\u001b[1;33m.\u001b[0m\u001b[0m_first_chunk\u001b[0m\u001b[1;33m:\u001b[0m\u001b[1;33m\u001b[0m\u001b[0m\n",
      "\u001b[1;32mpandas/_libs/parsers.pyx\u001b[0m in \u001b[0;36mpandas._libs.parsers.TextReader.read\u001b[1;34m()\u001b[0m\n",
      "\u001b[1;32mpandas/_libs/parsers.pyx\u001b[0m in \u001b[0;36mpandas._libs.parsers.TextReader._read_low_memory\u001b[1;34m()\u001b[0m\n",
      "\u001b[1;32mpandas/_libs/parsers.pyx\u001b[0m in \u001b[0;36mpandas._libs.parsers.TextReader._read_rows\u001b[1;34m()\u001b[0m\n",
      "\u001b[1;32mpandas/_libs/parsers.pyx\u001b[0m in \u001b[0;36mpandas._libs.parsers.TextReader._tokenize_rows\u001b[1;34m()\u001b[0m\n",
      "\u001b[1;32mpandas/_libs/parsers.pyx\u001b[0m in \u001b[0;36mpandas._libs.parsers.raise_parser_error\u001b[1;34m()\u001b[0m\n",
      "\u001b[1;31mParserError\u001b[0m: Error tokenizing data. C error: Expected 1 fields in line 9, saw 4\n"
     ]
    }
   ],
   "source": [
    "n data = pd.read_csv(file_name)"
   ]
  },
  {
   "cell_type": "code",
   "execution_count": 332,
   "metadata": {},
   "outputs": [
    {
     "name": "stdout",
     "output_type": "stream",
     "text": [
      "1\n",
      "2\n",
      "3\n",
      "4\n",
      "5\n",
      "6\n",
      "7\n",
      "8\n",
      "9\n",
      "10\n"
     ]
    }
   ],
   "source": [
    "n = 1\n",
    "\n",
    "while (n <=10):\n",
    "    print(n)\n",
    "    n +=1"
   ]
  },
  {
   "cell_type": "code",
   "execution_count": 334,
   "metadata": {},
   "outputs": [
    {
     "data": {
      "text/plain": [
       "[1, 2, 3, 4, 5]"
      ]
     },
     "execution_count": 334,
     "metadata": {},
     "output_type": "execute_result"
    }
   ],
   "source": [
    "lista1 = [1,2,3,4,5]\n",
    "\n",
    "lista1"
   ]
  },
  {
   "cell_type": "code",
   "execution_count": 338,
   "metadata": {},
   "outputs": [
    {
     "data": {
      "text/plain": [
       "'Jeann Câmara'"
      ]
     },
     "execution_count": 338,
     "metadata": {},
     "output_type": "execute_result"
    }
   ],
   "source": [
    "nome, sobrenome = \"Jeann\", \"Câmara\"\n",
    "\n",
    "Nome_Completo = nome + \" \" + sobrenome\n",
    "\n",
    "Nome_Completo"
   ]
  },
  {
   "cell_type": "code",
   "execution_count": 339,
   "metadata": {},
   "outputs": [
    {
     "data": {
      "text/plain": [
       "3"
      ]
     },
     "execution_count": 339,
     "metadata": {},
     "output_type": "execute_result"
    }
   ],
   "source": [
    "tupla1 = (1, 2, 2, 3, 4, 4, 4, 5)\n",
    "\n",
    "tupla1.count(4)"
   ]
  },
  {
   "cell_type": "code",
   "execution_count": 340,
   "metadata": {},
   "outputs": [
    {
     "data": {
      "text/plain": [
       "{1: 'a', 2: 'b', 3: 'c'}"
      ]
     },
     "execution_count": 340,
     "metadata": {},
     "output_type": "execute_result"
    }
   ],
   "source": [
    "dicionario1 = {1:\"a\", 2:\"b\",3:\"c\"}\n",
    "\n",
    "dicionario1"
   ]
  },
  {
   "cell_type": "code",
   "execution_count": 343,
   "metadata": {},
   "outputs": [
    {
     "data": {
      "text/plain": [
       "{1: 'a', 2: 'b', 3: 'c', 4: 'd'}"
      ]
     },
     "execution_count": 343,
     "metadata": {},
     "output_type": "execute_result"
    }
   ],
   "source": [
    "dicionario1.update({4:'d'})\n",
    "\n",
    "dicionario1"
   ]
  },
  {
   "cell_type": "code",
   "execution_count": 344,
   "metadata": {},
   "outputs": [
    {
     "name": "stdout",
     "output_type": "stream",
     "text": [
      "Writing nomes.txt\n"
     ]
    }
   ],
   "source": [
    "%%writefile nomes.txt\n",
    "Jeann1\n",
    "Jeann2\n",
    "Jeann3\n",
    "Jeann4\n",
    "Jeann5"
   ]
  },
  {
   "cell_type": "code",
   "execution_count": 349,
   "metadata": {},
   "outputs": [
    {
     "data": {
      "text/plain": [
       "'Jeann1\\nJeann2\\nJeann3\\nJeann4\\nJeann5'"
      ]
     },
     "execution_count": 349,
     "metadata": {},
     "output_type": "execute_result"
    }
   ],
   "source": [
    "nomes = open(\"nomes.txt\", \"r\")\n",
    "nomes.read()"
   ]
  },
  {
   "cell_type": "code",
   "execution_count": 351,
   "metadata": {},
   "outputs": [
    {
     "name": "stdout",
     "output_type": "stream",
     "text": [
      "{}\n"
     ]
    }
   ],
   "source": [
    "dicionario2 = {}\n",
    "\n",
    "print(dicionario2)"
   ]
  },
  {
   "cell_type": "code",
   "execution_count": 358,
   "metadata": {},
   "outputs": [
    {
     "data": {
      "text/html": [
       "<div>\n",
       "<style scoped>\n",
       "    .dataframe tbody tr th:only-of-type {\n",
       "        vertical-align: middle;\n",
       "    }\n",
       "\n",
       "    .dataframe tbody tr th {\n",
       "        vertical-align: top;\n",
       "    }\n",
       "\n",
       "    .dataframe thead th {\n",
       "        text-align: right;\n",
       "    }\n",
       "</style>\n",
       "<table border=\"1\" class=\"dataframe\">\n",
       "  <thead>\n",
       "    <tr style=\"text-align: right;\">\n",
       "      <th></th>\n",
       "      <th>Name</th>\n",
       "      <th>Position Title</th>\n",
       "      <th>Department</th>\n",
       "      <th>Employee Annual Salary</th>\n",
       "    </tr>\n",
       "  </thead>\n",
       "  <tbody>\n",
       "    <tr>\n",
       "      <th>32177</th>\n",
       "      <td>ZYGOWICZ,  PETER J</td>\n",
       "      <td>POLICE OFFICER</td>\n",
       "      <td>POLICE</td>\n",
       "      <td>$86520.00</td>\n",
       "    </tr>\n",
       "    <tr>\n",
       "      <th>32178</th>\n",
       "      <td>ZYMANTAS,  MARK E</td>\n",
       "      <td>POLICE OFFICER</td>\n",
       "      <td>POLICE</td>\n",
       "      <td>$83616.00</td>\n",
       "    </tr>\n",
       "    <tr>\n",
       "      <th>32179</th>\n",
       "      <td>ZYRKOWSKI,  CARLO E</td>\n",
       "      <td>POLICE OFFICER</td>\n",
       "      <td>POLICE</td>\n",
       "      <td>$86520.00</td>\n",
       "    </tr>\n",
       "    <tr>\n",
       "      <th>32180</th>\n",
       "      <td>ZYSKOWSKI,  DARIUSZ</td>\n",
       "      <td>CHIEF DATA BASE ANALYST</td>\n",
       "      <td>DoIT</td>\n",
       "      <td>$110352.00</td>\n",
       "    </tr>\n",
       "    <tr>\n",
       "      <th>32181</th>\n",
       "      <td>NaN</td>\n",
       "      <td>NaN</td>\n",
       "      <td>NaN</td>\n",
       "      <td>NaN</td>\n",
       "    </tr>\n",
       "  </tbody>\n",
       "</table>\n",
       "</div>"
      ],
      "text/plain": [
       "                      Name           Position Title Department  \\\n",
       "32177   ZYGOWICZ,  PETER J           POLICE OFFICER     POLICE   \n",
       "32178    ZYMANTAS,  MARK E           POLICE OFFICER     POLICE   \n",
       "32179  ZYRKOWSKI,  CARLO E           POLICE OFFICER     POLICE   \n",
       "32180  ZYSKOWSKI,  DARIUSZ  CHIEF DATA BASE ANALYST       DoIT   \n",
       "32181                  NaN                      NaN        NaN   \n",
       "\n",
       "      Employee Annual Salary  \n",
       "32177              $86520.00  \n",
       "32178              $83616.00  \n",
       "32179              $86520.00  \n",
       "32180             $110352.00  \n",
       "32181                    NaN  "
      ]
     },
     "execution_count": 358,
     "metadata": {},
     "output_type": "execute_result"
    }
   ],
   "source": [
    "import pandas as pd\n",
    "file_name = \"salarios.csv\"\n",
    "df = pd.read_csv(file_name)\n",
    "df.tail()"
   ]
  },
  {
   "cell_type": "code",
   "execution_count": 369,
   "metadata": {},
   "outputs": [
    {
     "name": "stdout",
     "output_type": "stream",
     "text": [
      "1\n"
     ]
    }
   ],
   "source": [
    "if 1 or 0 :\n",
    "    print(1)\n",
    "elif 1:\n",
    "    print(2)"
   ]
  },
  {
   "cell_type": "code",
   "execution_count": 377,
   "metadata": {},
   "outputs": [
    {
     "name": "stdout",
     "output_type": "stream",
     "text": [
      "1\n",
      "2\n",
      "3\n"
     ]
    }
   ],
   "source": [
    "tupla1 = (1,2,3)\n",
    "\n",
    "for i in tupla1:\n",
    "    if i > 0:\n",
    "        print(i)"
   ]
  },
  {
   "cell_type": "code",
   "execution_count": 374,
   "metadata": {},
   "outputs": [
    {
     "name": "stdout",
     "output_type": "stream",
     "text": [
      "a\n",
      "b\n",
      "c\n"
     ]
    }
   ],
   "source": [
    "lista1 = ['a','b','c']\n",
    "\n",
    "for i in lista1:\n",
    "    print(i)"
   ]
  },
  {
   "cell_type": "code",
   "execution_count": 378,
   "metadata": {},
   "outputs": [
    {
     "name": "stdout",
     "output_type": "stream",
     "text": [
      "0\n",
      "2\n",
      "4\n",
      "6\n",
      "8\n",
      "10\n",
      "12\n",
      "14\n",
      "16\n",
      "18\n",
      "20\n",
      "22\n",
      "24\n",
      "26\n",
      "28\n",
      "30\n",
      "32\n",
      "34\n",
      "36\n",
      "38\n",
      "40\n",
      "42\n",
      "44\n",
      "46\n",
      "48\n",
      "50\n",
      "52\n",
      "54\n",
      "56\n",
      "58\n",
      "60\n",
      "62\n",
      "64\n",
      "66\n",
      "68\n",
      "70\n",
      "72\n",
      "74\n",
      "76\n",
      "78\n",
      "80\n",
      "82\n",
      "84\n",
      "86\n",
      "88\n",
      "90\n",
      "92\n",
      "94\n",
      "96\n",
      "98\n",
      "100\n"
     ]
    }
   ],
   "source": [
    "for i in range(0,101,2):\n",
    "    print(i)"
   ]
  },
  {
   "cell_type": "code",
   "execution_count": 379,
   "metadata": {},
   "outputs": [
    {
     "name": "stdout",
     "output_type": "stream",
     "text": [
      "0\n",
      "1\n",
      "2\n",
      "3\n",
      "4\n",
      "0\n",
      "1\n",
      "2\n",
      "3\n",
      "4\n",
      "0\n",
      "1\n",
      "2\n",
      "3\n",
      "4\n",
      "0\n",
      "1\n",
      "2\n",
      "3\n",
      "4\n",
      "0\n",
      "1\n",
      "2\n",
      "3\n",
      "4\n"
     ]
    }
   ],
   "source": [
    "for i in range(0,5):\n",
    "    for a in range(0,5):\n",
    "        print(a)"
   ]
  },
  {
   "cell_type": "code",
   "execution_count": 391,
   "metadata": {},
   "outputs": [
    {
     "name": "stdout",
     "output_type": "stream",
     "text": [
      "0\n",
      "1\n",
      "2\n",
      "3\n",
      "4\n",
      "5\n",
      "6\n",
      "7\n",
      "8\n",
      "9\n",
      "10\n",
      "11\n",
      "12\n",
      "13\n",
      "14\n",
      "15\n",
      "16\n",
      "17\n",
      "18\n",
      "19\n",
      "20\n",
      "21\n",
      "22\n",
      "23\n",
      "24\n",
      "25\n",
      "26\n",
      "27\n",
      "28\n",
      "29\n",
      "30\n",
      "31\n",
      "32\n",
      "33\n",
      "34\n",
      "35\n",
      "36\n",
      "37\n",
      "38\n",
      "39\n",
      "40\n",
      "41\n",
      "42\n",
      "43\n",
      "44\n",
      "45\n",
      "46\n",
      "47\n",
      "48\n",
      "49\n",
      "50\n",
      "51\n",
      "52\n",
      "53\n",
      "54\n",
      "55\n",
      "56\n",
      "57\n",
      "58\n",
      "59\n",
      "60\n",
      "61\n",
      "62\n",
      "63\n",
      "64\n",
      "65\n",
      "66\n",
      "67\n",
      "68\n",
      "69\n",
      "70\n",
      "71\n",
      "72\n",
      "73\n",
      "74\n",
      "75\n",
      "76\n",
      "77\n",
      "78\n",
      "79\n",
      "80\n",
      "81\n",
      "82\n",
      "83\n",
      "84\n",
      "85\n",
      "86\n",
      "87\n",
      "88\n",
      "89\n",
      "90\n",
      "91\n",
      "92\n",
      "93\n",
      "94\n",
      "95\n",
      "96\n",
      "97\n",
      "98\n",
      "99\n",
      "100\n",
      "Concluído\n"
     ]
    }
   ],
   "source": [
    "n = 0\n",
    "\n",
    "while(n <= 100):\n",
    "    if n > 105:\n",
    "        break\n",
    "    else:\n",
    "        pass\n",
    "    print(n)\n",
    "    n += 1\n",
    "else:\n",
    "    print(\"Concluído\")"
   ]
  },
  {
   "cell_type": "code",
   "execution_count": 396,
   "metadata": {},
   "outputs": [
    {
     "name": "stdout",
     "output_type": "stream",
     "text": [
      "j\n",
      "e\n",
      "n\n",
      "n\n"
     ]
    }
   ],
   "source": [
    "for i in \"jeann\":\n",
    "    if i == 'a':\n",
    "        continue\n",
    "        #break\n",
    "    else:\n",
    "        print(i)\n",
    "    "
   ]
  },
  {
   "cell_type": "code",
   "execution_count": 397,
   "metadata": {},
   "outputs": [
    {
     "name": "stdout",
     "output_type": "stream",
     "text": [
      "50\n",
      "52\n",
      "54\n",
      "56\n",
      "58\n",
      "60\n",
      "62\n",
      "64\n",
      "66\n",
      "68\n",
      "70\n",
      "72\n",
      "74\n",
      "76\n",
      "78\n",
      "80\n",
      "82\n",
      "84\n",
      "86\n",
      "88\n",
      "90\n",
      "92\n",
      "94\n",
      "96\n",
      "98\n",
      "100\n"
     ]
    }
   ],
   "source": [
    "for i in range(50,101,2):\n",
    "    print(i)"
   ]
  },
  {
   "cell_type": "code",
   "execution_count": 398,
   "metadata": {},
   "outputs": [
    {
     "data": {
      "text/plain": [
       "range"
      ]
     },
     "execution_count": 398,
     "metadata": {},
     "output_type": "execute_result"
    }
   ],
   "source": [
    "type(range(0,3))"
   ]
  },
  {
   "cell_type": "code",
   "execution_count": 410,
   "metadata": {},
   "outputs": [
    {
     "name": "stdout",
     "output_type": "stream",
     "text": [
      "Qual o dia da semana? Sábado\n",
      "Dia de descanso\n"
     ]
    }
   ],
   "source": [
    "dia = input(\"Qual o dia da semana? \")\n",
    "\n",
    "if dia == \"Domingo\" or \"Sábado\":\n",
    "    print(\"Dia de descanso\")\n",
    "else:\n",
    "    print(\"Vai trabalhar\")"
   ]
  },
  {
   "cell_type": "code",
   "execution_count": 411,
   "metadata": {},
   "outputs": [
    {
     "name": "stdout",
     "output_type": "stream",
     "text": [
      "sim\n"
     ]
    }
   ],
   "source": [
    "listaFrutas = [\"Morango\", 'Fruta1', 'Fruta2', 'Fruta3', 'Fruta4']\n",
    "\n",
    "for fruta in listaFrutas:\n",
    "    if fruta == \"Morango\":\n",
    "        print(\"sim\")"
   ]
  },
  {
   "cell_type": "code",
   "execution_count": 414,
   "metadata": {},
   "outputs": [
    {
     "data": {
      "text/plain": [
       "[2, 4, 6, 8]"
      ]
     },
     "execution_count": 414,
     "metadata": {},
     "output_type": "execute_result"
    }
   ],
   "source": [
    "tupla2 = (1,2,3,4)\n",
    "lista2 = []\n",
    "\n",
    "for i in tupla2:\n",
    "    lista2.append(i*2)\n",
    "    \n",
    "lista2"
   ]
  },
  {
   "cell_type": "code",
   "execution_count": 417,
   "metadata": {},
   "outputs": [
    {
     "name": "stdout",
     "output_type": "stream",
     "text": [
      "[100, 102, 104, 106, 108, 110, 112, 114, 116, 118, 120, 122, 124, 126, 128, 130, 132, 134, 136, 138, 140, 142, 144, 146, 148]\n"
     ]
    }
   ],
   "source": [
    "listaPares = []\n",
    "\n",
    "for i in range(100,150,2):\n",
    "    listaPares.append(i)\n",
    "\n",
    "print(listaPares)"
   ]
  },
  {
   "cell_type": "code",
   "execution_count": 418,
   "metadata": {},
   "outputs": [],
   "source": [
    "temperatura = 40\n",
    "\n"
   ]
  },
  {
   "cell_type": "code",
   "execution_count": 421,
   "metadata": {},
   "outputs": [
    {
     "name": "stdout",
     "output_type": "stream",
     "text": [
      "0\n",
      "1\n",
      "2\n",
      "3\n",
      "4\n",
      "5\n",
      "6\n",
      "7\n",
      "8\n",
      "9\n",
      "10\n",
      "11\n",
      "12\n",
      "13\n",
      "14\n",
      "15\n",
      "16\n",
      "17\n",
      "18\n",
      "19\n",
      "20\n",
      "21\n",
      "22\n"
     ]
    }
   ],
   "source": [
    "contador = 0\n",
    "\n",
    "while contador < 100:\n",
    "    if contador == 23:\n",
    "        break\n",
    "    print(contador)\n",
    "    contador += 1"
   ]
  },
  {
   "cell_type": "code",
   "execution_count": 424,
   "metadata": {},
   "outputs": [
    {
     "name": "stdout",
     "output_type": "stream",
     "text": [
      "[4, 6, 8, 10, 12, 14, 16, 18, 20]\n"
     ]
    }
   ],
   "source": [
    "lista3 = []\n",
    "valor = 4\n",
    "\n",
    "while valor <= 20:\n",
    "    if valor % 2 == 0:\n",
    "        lista3.append(valor)\n",
    "    valor += 1\n",
    "\n",
    "print(lista3)"
   ]
  },
  {
   "cell_type": "code",
   "execution_count": 425,
   "metadata": {},
   "outputs": [
    {
     "name": "stdout",
     "output_type": "stream",
     "text": [
      "[5, 7, 9, 11, 13, 15, 17, 19, 21, 23, 25, 27, 29, 31, 33, 35, 37, 39, 41, 43]\n"
     ]
    }
   ],
   "source": [
    "lista4 = []\n",
    "\n",
    "for i in range(5,45,2):\n",
    "    lista4.append(i)\n",
    "    \n",
    "print(lista4)"
   ]
  },
  {
   "cell_type": "code",
   "execution_count": 439,
   "metadata": {},
   "outputs": [
    {
     "name": "stdout",
     "output_type": "stream",
     "text": [
      "Qual a temperatura? 28\n",
      "Busque seus casacos.\n"
     ]
    }
   ],
   "source": [
    "temperatura = float(input('Qual a temperatura? '))\n",
    "                    \n",
    "if temperatura > 30:\n",
    "    print('Vista roupas leves.')\n",
    "else:\n",
    "    print('Busque seus casacos.')"
   ]
  },
  {
   "cell_type": "code",
   "execution_count": 458,
   "metadata": {},
   "outputs": [
    {
     "name": "stdout",
     "output_type": "stream",
     "text": [
      "A letra 'a' apareceu 9 vezes. + 0\n"
     ]
    }
   ],
   "source": [
    "texto = \"É melhor, muito melhor, contentar-se com a realidade; se ela não é tão brilhante como os sonhos, tem pelo menos a vantagem de existir.\"\n",
    "contador2 = 0\n",
    "b = 0\n",
    "\n",
    "for letra in texto:\n",
    "    if letra == \"a\":\n",
    "        contador2 += 1\n",
    "\n",
    "print(\"A letra 'a' apareceu %d vezes. + %d\" % (contador2, b) )"
   ]
  },
  {
   "cell_type": "code",
   "execution_count": 459,
   "metadata": {},
   "outputs": [
    {
     "name": "stdout",
     "output_type": "stream",
     "text": [
      "462\n"
     ]
    }
   ],
   "source": [
    "listaB = [32,53,85,10,15,17,19]\n",
    "soma = 0\n",
    "for i in listaB:\n",
    "    i2x = i*2\n",
    "    soma += i2x\n",
    "print(soma)"
   ]
  },
  {
   "cell_type": "code",
   "execution_count": 460,
   "metadata": {},
   "outputs": [
    {
     "data": {
      "text/plain": [
       "['__add__',\n",
       " '__class__',\n",
       " '__contains__',\n",
       " '__delattr__',\n",
       " '__delitem__',\n",
       " '__dir__',\n",
       " '__doc__',\n",
       " '__eq__',\n",
       " '__format__',\n",
       " '__ge__',\n",
       " '__getattribute__',\n",
       " '__getitem__',\n",
       " '__gt__',\n",
       " '__hash__',\n",
       " '__iadd__',\n",
       " '__imul__',\n",
       " '__init__',\n",
       " '__init_subclass__',\n",
       " '__iter__',\n",
       " '__le__',\n",
       " '__len__',\n",
       " '__lt__',\n",
       " '__mul__',\n",
       " '__ne__',\n",
       " '__new__',\n",
       " '__reduce__',\n",
       " '__reduce_ex__',\n",
       " '__repr__',\n",
       " '__reversed__',\n",
       " '__rmul__',\n",
       " '__setattr__',\n",
       " '__setitem__',\n",
       " '__sizeof__',\n",
       " '__str__',\n",
       " '__subclasshook__',\n",
       " 'append',\n",
       " 'clear',\n",
       " 'copy',\n",
       " 'count',\n",
       " 'extend',\n",
       " 'index',\n",
       " 'insert',\n",
       " 'pop',\n",
       " 'remove',\n",
       " 'reverse',\n",
       " 'sort']"
      ]
     },
     "execution_count": 460,
     "metadata": {},
     "output_type": "execute_result"
    }
   ],
   "source": [
    "dir(listaB)"
   ]
  },
  {
   "cell_type": "code",
   "execution_count": 461,
   "metadata": {},
   "outputs": [
    {
     "name": "stdout",
     "output_type": "stream",
     "text": [
      "Help on list object:\n",
      "\n",
      "class list(object)\n",
      " |  list() -> new empty list\n",
      " |  list(iterable) -> new list initialized from iterable's items\n",
      " |  \n",
      " |  Methods defined here:\n",
      " |  \n",
      " |  __add__(self, value, /)\n",
      " |      Return self+value.\n",
      " |  \n",
      " |  __contains__(self, key, /)\n",
      " |      Return key in self.\n",
      " |  \n",
      " |  __delitem__(self, key, /)\n",
      " |      Delete self[key].\n",
      " |  \n",
      " |  __eq__(self, value, /)\n",
      " |      Return self==value.\n",
      " |  \n",
      " |  __ge__(self, value, /)\n",
      " |      Return self>=value.\n",
      " |  \n",
      " |  __getattribute__(self, name, /)\n",
      " |      Return getattr(self, name).\n",
      " |  \n",
      " |  __getitem__(...)\n",
      " |      x.__getitem__(y) <==> x[y]\n",
      " |  \n",
      " |  __gt__(self, value, /)\n",
      " |      Return self>value.\n",
      " |  \n",
      " |  __iadd__(self, value, /)\n",
      " |      Implement self+=value.\n",
      " |  \n",
      " |  __imul__(self, value, /)\n",
      " |      Implement self*=value.\n",
      " |  \n",
      " |  __init__(self, /, *args, **kwargs)\n",
      " |      Initialize self.  See help(type(self)) for accurate signature.\n",
      " |  \n",
      " |  __iter__(self, /)\n",
      " |      Implement iter(self).\n",
      " |  \n",
      " |  __le__(self, value, /)\n",
      " |      Return self<=value.\n",
      " |  \n",
      " |  __len__(self, /)\n",
      " |      Return len(self).\n",
      " |  \n",
      " |  __lt__(self, value, /)\n",
      " |      Return self<value.\n",
      " |  \n",
      " |  __mul__(self, value, /)\n",
      " |      Return self*value.n\n",
      " |  \n",
      " |  __ne__(self, value, /)\n",
      " |      Return self!=value.\n",
      " |  \n",
      " |  __new__(*args, **kwargs) from builtins.type\n",
      " |      Create and return a new object.  See help(type) for accurate signature.\n",
      " |  \n",
      " |  __repr__(self, /)\n",
      " |      Return repr(self).\n",
      " |  \n",
      " |  __reversed__(...)\n",
      " |      L.__reversed__() -- return a reverse iterator over the list\n",
      " |  \n",
      " |  __rmul__(self, value, /)\n",
      " |      Return self*value.\n",
      " |  \n",
      " |  __setitem__(self, key, value, /)\n",
      " |      Set self[key] to value.\n",
      " |  \n",
      " |  __sizeof__(...)\n",
      " |      L.__sizeof__() -- size of L in memory, in bytes\n",
      " |  \n",
      " |  append(...)\n",
      " |      L.append(object) -> None -- append object to end\n",
      " |  \n",
      " |  clear(...)\n",
      " |      L.clear() -> None -- remove all items from L\n",
      " |  \n",
      " |  copy(...)\n",
      " |      L.copy() -> list -- a shallow copy of L\n",
      " |  \n",
      " |  count(...)\n",
      " |      L.count(value) -> integer -- return number of occurrences of value\n",
      " |  \n",
      " |  extend(...)\n",
      " |      L.extend(iterable) -> None -- extend list by appending elements from the iterable\n",
      " |  \n",
      " |  index(...)\n",
      " |      L.index(value, [start, [stop]]) -> integer -- return first index of value.\n",
      " |      Raises ValueError if the value is not present.\n",
      " |  \n",
      " |  insert(...)\n",
      " |      L.insert(index, object) -- insert object before index\n",
      " |  \n",
      " |  pop(...)\n",
      " |      L.pop([index]) -> item -- remove and return item at index (default last).\n",
      " |      Raises IndexError if list is empty or index is out of range.\n",
      " |  \n",
      " |  remove(...)\n",
      " |      L.remove(value) -> None -- remove first occurrence of value.\n",
      " |      Raises ValueError if the value is not present.\n",
      " |  \n",
      " |  reverse(...)\n",
      " |      L.reverse() -- reverse *IN PLACE*\n",
      " |  \n",
      " |  sort(...)\n",
      " |      L.sort(key=None, reverse=False) -> None -- stable sort *IN PLACE*\n",
      " |  \n",
      " |  ----------------------------------------------------------------------\n",
      " |  Data and other attributes defined here:\n",
      " |  \n",
      " |  __hash__ = None\n",
      "\n"
     ]
    }
   ],
   "source": [
    "help(listaB)"
   ]
  },
  {
   "cell_type": "code",
   "execution_count": 462,
   "metadata": {},
   "outputs": [],
   "source": [
    "def primeiraFunc():\n",
    "    print('olá')"
   ]
  },
  {
   "cell_type": "code",
   "execution_count": 463,
   "metadata": {},
   "outputs": [
    {
     "name": "stdout",
     "output_type": "stream",
     "text": [
      "olá\n"
     ]
    }
   ],
   "source": [
    "primeiraFunc()"
   ]
  },
  {
   "cell_type": "code",
   "execution_count": 465,
   "metadata": {},
   "outputs": [],
   "source": [
    "def primeiraFunc(nome):\n",
    "    print('olá %s' %nome)"
   ]
  },
  {
   "cell_type": "code",
   "execution_count": 467,
   "metadata": {},
   "outputs": [
    {
     "name": "stdout",
     "output_type": "stream",
     "text": [
      "olá Jeann\n"
     ]
    }
   ],
   "source": [
    "primeiraFunc('Jeann')"
   ]
  },
  {
   "cell_type": "code",
   "execution_count": 469,
   "metadata": {},
   "outputs": [],
   "source": [
    "def funcLeitura():\n",
    "    for i in range(0,5):\n",
    "        print(\"Número: %d\" %i)"
   ]
  },
  {
   "cell_type": "code",
   "execution_count": 471,
   "metadata": {},
   "outputs": [
    {
     "name": "stdout",
     "output_type": "stream",
     "text": [
      "Número: 0\n",
      "Número: 1\n",
      "Número: 2\n",
      "Número: 3\n",
      "Número: 4\n"
     ]
    }
   ],
   "source": [
    "funcLeitura()"
   ]
  },
  {
   "cell_type": "code",
   "execution_count": 475,
   "metadata": {},
   "outputs": [],
   "source": [
    "def addNum(first_num, second_num):\n",
    "    # Adiciona números.\n",
    "    print(\"Primeiro número: %d\" %first_num)\n",
    "    print(\"Segundo número: %d\" %second_num)"
   ]
  },
  {
   "cell_type": "code",
   "execution_count": 480,
   "metadata": {},
   "outputs": [
    {
     "name": "stdout",
     "output_type": "stream",
     "text": [
      "Primeiro número: 1\n",
      "Segundo número: 2\n"
     ]
    }
   ],
   "source": [
    "addNum(1,2)"
   ]
  },
  {
   "cell_type": "code",
   "execution_count": 482,
   "metadata": {},
   "outputs": [],
   "source": [
    "var_global = 10\n",
    "\n",
    "def multiplica(num1,num2):\n",
    "    var_global = num1 * num2\n",
    "    print(var_global)"
   ]
  },
  {
   "cell_type": "code",
   "execution_count": 483,
   "metadata": {},
   "outputs": [
    {
     "name": "stdout",
     "output_type": "stream",
     "text": [
      "40\n"
     ]
    }
   ],
   "source": [
    "multiplica(20,2)"
   ]
  },
  {
   "cell_type": "code",
   "execution_count": 484,
   "metadata": {},
   "outputs": [
    {
     "data": {
      "text/plain": [
       "10"
      ]
     },
     "execution_count": 484,
     "metadata": {},
     "output_type": "execute_result"
    }
   ],
   "source": [
    "var_global"
   ]
  },
  {
   "cell_type": "code",
   "execution_count": 485,
   "metadata": {},
   "outputs": [],
   "source": [
    "frase = \"Eu estou aprendendo python\"\n"
   ]
  },
  {
   "cell_type": "code",
   "execution_count": 486,
   "metadata": {},
   "outputs": [
    {
     "data": {
      "text/plain": [
       "str"
      ]
     },
     "execution_count": 486,
     "metadata": {},
     "output_type": "execute_result"
    }
   ],
   "source": [
    "type(frase)"
   ]
  },
  {
   "cell_type": "code",
   "execution_count": 487,
   "metadata": {},
   "outputs": [
    {
     "data": {
      "text/plain": [
       "['__add__',\n",
       " '__class__',\n",
       " '__contains__',\n",
       " '__delattr__',\n",
       " '__dir__',\n",
       " '__doc__',\n",
       " '__eq__',\n",
       " '__format__',\n",
       " '__ge__',\n",
       " '__getattribute__',\n",
       " '__getitem__',\n",
       " '__getnewargs__',\n",
       " '__gt__',\n",
       " '__hash__',\n",
       " '__init__',\n",
       " '__init_subclass__',\n",
       " '__iter__',\n",
       " '__le__',\n",
       " '__len__',\n",
       " '__lt__',\n",
       " '__mod__',\n",
       " '__mul__',\n",
       " '__ne__',\n",
       " '__new__',\n",
       " '__reduce__',\n",
       " '__reduce_ex__',\n",
       " '__repr__',\n",
       " '__rmod__',\n",
       " '__rmul__',\n",
       " '__setattr__',\n",
       " '__sizeof__',\n",
       " '__str__',\n",
       " '__subclasshook__',\n",
       " 'capitalize',\n",
       " 'casefold',\n",
       " 'center',\n",
       " 'count',\n",
       " 'encode',\n",
       " 'endswith',\n",
       " 'expandtabs',\n",
       " 'find',\n",
       " 'format',\n",
       " 'format_map',\n",
       " 'index',\n",
       " 'isalnum',\n",
       " 'isalpha',\n",
       " 'isdecimal',\n",
       " 'isdigit',\n",
       " 'isidentifier',\n",
       " 'islower',\n",
       " 'isnumeric',\n",
       " 'isprintable',\n",
       " 'isspace',\n",
       " 'istitle',\n",
       " 'isupper',\n",
       " 'join',\n",
       " 'ljust',\n",
       " 'lower',\n",
       " 'lstrip',\n",
       " 'maketrans',\n",
       " 'partition',\n",
       " 'replace',\n",
       " 'rfind',\n",
       " 'rindex',\n",
       " 'rjust',\n",
       " 'rpartition',\n",
       " 'rsplit',\n",
       " 'rstrip',\n",
       " 'split',\n",
       " 'splitlines',\n",
       " 'startswith',\n",
       " 'strip',\n",
       " 'swapcase',\n",
       " 'title',\n",
       " 'translate',\n",
       " 'upper',\n",
       " 'zfill']"
      ]
     },
     "execution_count": 487,
     "metadata": {},
     "output_type": "execute_result"
    }
   ],
   "source": [
    "dir(frase)"
   ]
  },
  {
   "cell_type": "code",
   "execution_count": 488,
   "metadata": {},
   "outputs": [
    {
     "name": "stdout",
     "output_type": "stream",
     "text": [
      "Help on built-in function upper:\n",
      "\n",
      "upper(...) method of builtins.str instance\n",
      "    S.upper() -> str\n",
      "    \n",
      "    Return a copy of S converted to uppercase.\n",
      "\n"
     ]
    }
   ],
   "source": [
    "help(frase.upper)"
   ]
  },
  {
   "cell_type": "code",
   "execution_count": 489,
   "metadata": {},
   "outputs": [],
   "source": [
    "def split_string(text):\n",
    "    # Divide string pelos espaços vazios.\n",
    "    return text.split(\" \")"
   ]
  },
  {
   "cell_type": "code",
   "execution_count": 490,
   "metadata": {},
   "outputs": [
    {
     "data": {
      "text/plain": [
       "['Jeann', 'Câmara', 'Rodrigues']"
      ]
     },
     "execution_count": 490,
     "metadata": {},
     "output_type": "execute_result"
    }
   ],
   "source": [
    "split_string(\"Jeann Câmara Rodrigues\")"
   ]
  },
  {
   "cell_type": "code",
   "execution_count": 491,
   "metadata": {},
   "outputs": [],
   "source": [
    "def printSomaVariosNumeros(num1, *numeros):\n",
    "    soma = num1\n",
    "    for num in numeros:\n",
    "        soma += num\n",
    "    print(soma)"
   ]
  },
  {
   "cell_type": "code",
   "execution_count": 492,
   "metadata": {},
   "outputs": [
    {
     "name": "stdout",
     "output_type": "stream",
     "text": [
      "45\n"
     ]
    }
   ],
   "source": [
    "printSomaVariosNumeros(1,2,3,4,5,6,7,8,9)"
   ]
  },
  {
   "cell_type": "code",
   "execution_count": 493,
   "metadata": {},
   "outputs": [
    {
     "name": "stdout",
     "output_type": "stream",
     "text": [
      "1\n"
     ]
    }
   ],
   "source": [
    "printSomaVariosNumeros(1)"
   ]
  },
  {
   "cell_type": "code",
   "execution_count": 494,
   "metadata": {},
   "outputs": [],
   "source": [
    "par = lambda x: x % 2 == 0"
   ]
  },
  {
   "cell_type": "code",
   "execution_count": 495,
   "metadata": {},
   "outputs": [
    {
     "data": {
      "text/plain": [
       "False"
      ]
     },
     "execution_count": 495,
     "metadata": {},
     "output_type": "execute_result"
    }
   ],
   "source": [
    "par(3)"
   ]
  },
  {
   "cell_type": "code",
   "execution_count": 496,
   "metadata": {},
   "outputs": [
    {
     "data": {
      "text/plain": [
       "True"
      ]
     },
     "execution_count": 496,
     "metadata": {},
     "output_type": "execute_result"
    }
   ],
   "source": [
    "par(2)"
   ]
  },
  {
   "cell_type": "code",
   "execution_count": 497,
   "metadata": {},
   "outputs": [],
   "source": [
    "soma = lambda num1,num2 : num1 + num2"
   ]
  },
  {
   "cell_type": "code",
   "execution_count": 498,
   "metadata": {},
   "outputs": [
    {
     "data": {
      "text/plain": [
       "3"
      ]
     },
     "execution_count": 498,
     "metadata": {},
     "output_type": "execute_result"
    }
   ],
   "source": [
    "soma(1,2)"
   ]
  },
  {
   "cell_type": "code",
   "execution_count": 505,
   "metadata": {},
   "outputs": [
    {
     "ename": "SyntaxError",
     "evalue": "invalid syntax (<ipython-input-505-be2e3276aa4d>, line 1)",
     "output_type": "error",
     "traceback": [
      "\u001b[1;36m  File \u001b[1;32m\"<ipython-input-505-be2e3276aa4d>\"\u001b[1;36m, line \u001b[1;32m1\u001b[0m\n\u001b[1;33m    soma = lambda num1,*numeros: soma = num1: for n in numeros:soma += n return soma\u001b[0m\n\u001b[1;37m                                            ^\u001b[0m\n\u001b[1;31mSyntaxError\u001b[0m\u001b[1;31m:\u001b[0m invalid syntax\n"
     ]
    }
   ],
   "source": [
    "soma = lambda num1,*numeros: soma = num1: for n in numeros:soma += n return soma\n"
   ]
  },
  {
   "cell_type": "code",
   "execution_count": 516,
   "metadata": {},
   "outputs": [],
   "source": [
    "def NumPares():\n",
    "    for i in range(2,21,2):\n",
    "        print(i)"
   ]
  },
  {
   "cell_type": "code",
   "execution_count": 517,
   "metadata": {},
   "outputs": [
    {
     "name": "stdout",
     "output_type": "stream",
     "text": [
      "2\n",
      "4\n",
      "6\n",
      "8\n",
      "10\n",
      "12\n",
      "14\n",
      "16\n",
      "18\n",
      "20\n"
     ]
    }
   ],
   "source": [
    "NumPares()"
   ]
  },
  {
   "cell_type": "code",
   "execution_count": 518,
   "metadata": {},
   "outputs": [],
   "source": [
    "def funcUpper(texto):\n",
    "    return texto.upper()"
   ]
  },
  {
   "cell_type": "code",
   "execution_count": 519,
   "metadata": {},
   "outputs": [
    {
     "data": {
      "text/plain": [
       "'JEANN'"
      ]
     },
     "execution_count": 519,
     "metadata": {},
     "output_type": "execute_result"
    }
   ],
   "source": [
    "funcUpper('jeann')"
   ]
  },
  {
   "cell_type": "code",
   "execution_count": 521,
   "metadata": {},
   "outputs": [],
   "source": [
    "def funcList(lista):\n",
    "    lista.append(5)\n",
    "    lista.append(6)\n",
    "    return print(lista)"
   ]
  },
  {
   "cell_type": "code",
   "execution_count": 522,
   "metadata": {},
   "outputs": [
    {
     "name": "stdout",
     "output_type": "stream",
     "text": [
      "[1, 2, 3, 4, 5, 6]\n"
     ]
    }
   ],
   "source": [
    "lista1 = [1,2,3,4]\n",
    "\n",
    "funcList(lista1)"
   ]
  },
  {
   "cell_type": "code",
   "execution_count": 523,
   "metadata": {},
   "outputs": [],
   "source": [
    "def funcSoma(num1, *numeros):\n",
    "    soma = num1\n",
    "    for n in numeros:\n",
    "        soma += n\n",
    "    print(soma)"
   ]
  },
  {
   "cell_type": "code",
   "execution_count": 524,
   "metadata": {},
   "outputs": [
    {
     "name": "stdout",
     "output_type": "stream",
     "text": [
      "1\n"
     ]
    }
   ],
   "source": [
    "funcSoma(1)"
   ]
  },
  {
   "cell_type": "code",
   "execution_count": 526,
   "metadata": {},
   "outputs": [
    {
     "name": "stdout",
     "output_type": "stream",
     "text": [
      "10\n"
     ]
    }
   ],
   "source": [
    "funcSoma(1,2,3,4)"
   ]
  },
  {
   "cell_type": "code",
   "execution_count": 527,
   "metadata": {},
   "outputs": [],
   "source": [
    "soma = lambda num1, num2 : num1 + num2"
   ]
  },
  {
   "cell_type": "code",
   "execution_count": 529,
   "metadata": {},
   "outputs": [
    {
     "data": {
      "text/plain": [
       "4"
      ]
     },
     "execution_count": 529,
     "metadata": {},
     "output_type": "execute_result"
    }
   ],
   "source": [
    "soma(2,2)"
   ]
  },
  {
   "cell_type": "code",
   "execution_count": 530,
   "metadata": {},
   "outputs": [
    {
     "name": "stdout",
     "output_type": "stream",
     "text": [
      "Dentro da função o total é :  30\n",
      "Fora da função o total é :  0\n"
     ]
    }
   ],
   "source": [
    "total = 0; \n",
    "def soma( arg1, arg2 ):\n",
    "    total = arg1 + arg2; \n",
    "    print (\"Dentro da função o total é : \", total)\n",
    "    return total;\n",
    "\n",
    "\n",
    "soma( 10, 20 );\n",
    "print (\"Fora da função o total é : \", total)"
   ]
  },
  {
   "cell_type": "code",
   "execution_count": 535,
   "metadata": {},
   "outputs": [],
   "source": [
    "def resumoEstatistico(file_name):\n",
    "    import pandas as pd\n",
    "    arquivo = pd.read_csv(file_name)\n",
    "    return arquivo.describe()"
   ]
  },
  {
   "cell_type": "code",
   "execution_count": 537,
   "metadata": {},
   "outputs": [
    {
     "data": {
      "text/html": [
       "<div>\n",
       "<style scoped>\n",
       "    .dataframe tbody tr th:only-of-type {\n",
       "        vertical-align: middle;\n",
       "    }\n",
       "\n",
       "    .dataframe tbody tr th {\n",
       "        vertical-align: top;\n",
       "    }\n",
       "\n",
       "    .dataframe thead th {\n",
       "        text-align: right;\n",
       "    }\n",
       "</style>\n",
       "<table border=\"1\" class=\"dataframe\">\n",
       "  <thead>\n",
       "    <tr style=\"text-align: right;\">\n",
       "      <th></th>\n",
       "      <th>Name</th>\n",
       "      <th>Position Title</th>\n",
       "      <th>Department</th>\n",
       "      <th>Employee Annual Salary</th>\n",
       "    </tr>\n",
       "  </thead>\n",
       "  <tbody>\n",
       "    <tr>\n",
       "      <th>count</th>\n",
       "      <td>32181</td>\n",
       "      <td>32181</td>\n",
       "      <td>32181</td>\n",
       "      <td>32181</td>\n",
       "    </tr>\n",
       "    <tr>\n",
       "      <th>unique</th>\n",
       "      <td>31893</td>\n",
       "      <td>1094</td>\n",
       "      <td>35</td>\n",
       "      <td>1105</td>\n",
       "    </tr>\n",
       "    <tr>\n",
       "      <th>top</th>\n",
       "      <td>KELLY,  MICHAEL J</td>\n",
       "      <td>POLICE OFFICER</td>\n",
       "      <td>POLICE</td>\n",
       "      <td>$86520.00</td>\n",
       "    </tr>\n",
       "    <tr>\n",
       "      <th>freq</th>\n",
       "      <td>4</td>\n",
       "      <td>9489</td>\n",
       "      <td>13570</td>\n",
       "      <td>2497</td>\n",
       "    </tr>\n",
       "  </tbody>\n",
       "</table>\n",
       "</div>"
      ],
      "text/plain": [
       "                     Name  Position Title Department Employee Annual Salary\n",
       "count               32181           32181      32181                  32181\n",
       "unique              31893            1094         35                   1105\n",
       "top     KELLY,  MICHAEL J  POLICE OFFICER     POLICE              $86520.00\n",
       "freq                    4            9489      13570                   2497"
      ]
     },
     "execution_count": 537,
     "metadata": {},
     "output_type": "execute_result"
    }
   ],
   "source": [
    "resumoEstatistico(\"salarios.csv\")"
   ]
  },
  {
   "cell_type": "code",
   "execution_count": 548,
   "metadata": {},
   "outputs": [],
   "source": [
    "class Livro():\n",
    "    \n",
    "    def __init__(self):\n",
    "        self.titulo = \"O Príncipe\"\n",
    "        self.isbn = 666\n",
    "        print(\"Objeto construído.\")\n",
    "        \n",
    "    def imprima(self):\n",
    "        print(\"Foi criado o livro: %s e isbn %d\" %(self.titulo,self.isbn))"
   ]
  },
  {
   "cell_type": "code",
   "execution_count": 549,
   "metadata": {},
   "outputs": [
    {
     "name": "stdout",
     "output_type": "stream",
     "text": [
      "Objeto construído.\n"
     ]
    }
   ],
   "source": [
    "livro1 = Livro()"
   ]
  },
  {
   "cell_type": "code",
   "execution_count": 545,
   "metadata": {},
   "outputs": [
    {
     "data": {
      "text/plain": [
       "__main__.Livro"
      ]
     },
     "execution_count": 545,
     "metadata": {},
     "output_type": "execute_result"
    }
   ],
   "source": [
    "type(livro1)"
   ]
  },
  {
   "cell_type": "code",
   "execution_count": 550,
   "metadata": {},
   "outputs": [
    {
     "data": {
      "text/plain": [
       "'O Príncipe'"
      ]
     },
     "execution_count": 550,
     "metadata": {},
     "output_type": "execute_result"
    }
   ],
   "source": [
    "livro1.titulo"
   ]
  },
  {
   "cell_type": "code",
   "execution_count": 551,
   "metadata": {},
   "outputs": [
    {
     "data": {
      "text/plain": [
       "666"
      ]
     },
     "execution_count": 551,
     "metadata": {},
     "output_type": "execute_result"
    }
   ],
   "source": [
    "livro1.isbn"
   ]
  },
  {
   "cell_type": "code",
   "execution_count": 552,
   "metadata": {},
   "outputs": [
    {
     "name": "stdout",
     "output_type": "stream",
     "text": [
      "Foi criado o livro: O Príncipe e isbn 666\n"
     ]
    }
   ],
   "source": [
    "livro1.imprima()"
   ]
  },
  {
   "cell_type": "code",
   "execution_count": 561,
   "metadata": {},
   "outputs": [],
   "source": [
    "class Livro():\n",
    "    \n",
    "    def __init__(self,titulo,isbn):\n",
    "        self.titulo = titulo\n",
    "        self.isbn = isbn\n",
    "        print(\"Objeto construído.\")\n",
    "        \n",
    "    def imprima(self):\n",
    "        print(\"Foi criado o livro: %s e isbn %d\" %(self.titulo,self.isbn))"
   ]
  },
  {
   "cell_type": "code",
   "execution_count": 562,
   "metadata": {},
   "outputs": [
    {
     "name": "stdout",
     "output_type": "stream",
     "text": [
      "Objeto construído.\n"
     ]
    }
   ],
   "source": [
    "livro1 = Livro(\"A Máquina do tempo\", 0)"
   ]
  },
  {
   "cell_type": "code",
   "execution_count": 563,
   "metadata": {},
   "outputs": [
    {
     "name": "stdout",
     "output_type": "stream",
     "text": [
      "Foi criado o livro: A Máquina do tempo e isbn 0\n"
     ]
    }
   ],
   "source": [
    "livro1.imprima()"
   ]
  },
  {
   "cell_type": "code",
   "execution_count": 564,
   "metadata": {},
   "outputs": [],
   "source": [
    "class Cachorro():\n",
    "    \n",
    "    def __init__(self, raça):\n",
    "        self.raça = raça\n",
    "        print(\"Objeto Construído.\")"
   ]
  },
  {
   "cell_type": "code",
   "execution_count": 566,
   "metadata": {},
   "outputs": [
    {
     "name": "stdout",
     "output_type": "stream",
     "text": [
      "Objeto Construído.\n"
     ]
    }
   ],
   "source": [
    "cachorro1 = Cachorro(\"Pastor Alemão\")"
   ]
  },
  {
   "cell_type": "code",
   "execution_count": 567,
   "metadata": {},
   "outputs": [
    {
     "data": {
      "text/plain": [
       "'Pastor Alemão'"
      ]
     },
     "execution_count": 567,
     "metadata": {},
     "output_type": "execute_result"
    }
   ],
   "source": [
    "cachorro1.raça"
   ]
  },
  {
   "cell_type": "code",
   "execution_count": 568,
   "metadata": {},
   "outputs": [],
   "source": [
    "class Estudantes:\n",
    "    \n",
    "    def __init__(self, nome, idade, nota):\n",
    "        self.nome = nome\n",
    "        self.idade = idade\n",
    "        self.nota = nota"
   ]
  },
  {
   "cell_type": "code",
   "execution_count": 573,
   "metadata": {},
   "outputs": [],
   "source": [
    "estudante1 = Estudantes(\"Jeann\", 30,10.0)"
   ]
  },
  {
   "cell_type": "code",
   "execution_count": 574,
   "metadata": {},
   "outputs": [
    {
     "data": {
      "text/plain": [
       "'Jeann'"
      ]
     },
     "execution_count": 574,
     "metadata": {},
     "output_type": "execute_result"
    }
   ],
   "source": [
    "estudante1.nome"
   ]
  },
  {
   "cell_type": "code",
   "execution_count": 575,
   "metadata": {},
   "outputs": [
    {
     "data": {
      "text/plain": [
       "30"
      ]
     },
     "execution_count": 575,
     "metadata": {},
     "output_type": "execute_result"
    }
   ],
   "source": [
    "estudante1.idade"
   ]
  },
  {
   "cell_type": "code",
   "execution_count": 576,
   "metadata": {},
   "outputs": [
    {
     "data": {
      "text/plain": [
       "10.0"
      ]
     },
     "execution_count": 576,
     "metadata": {},
     "output_type": "execute_result"
    }
   ],
   "source": [
    "estudante1.nota"
   ]
  },
  {
   "cell_type": "code",
   "execution_count": 577,
   "metadata": {},
   "outputs": [],
   "source": [
    "estudante1.nome = \"Jeann Câmara\""
   ]
  },
  {
   "cell_type": "code",
   "execution_count": 578,
   "metadata": {},
   "outputs": [
    {
     "data": {
      "text/plain": [
       "'Jeann Câmara'"
      ]
     },
     "execution_count": 578,
     "metadata": {},
     "output_type": "execute_result"
    }
   ],
   "source": [
    "estudante1.nome"
   ]
  },
  {
   "cell_type": "code",
   "execution_count": 587,
   "metadata": {},
   "outputs": [],
   "source": [
    "class Funcionários:\n",
    "    \n",
    "    def __init__(self, nome, salário):\n",
    "        self.nome = nome\n",
    "        self.salário = salário\n",
    "        \n",
    "    def listFunc(self):\n",
    "        print(\"O nome do funcionário é: %s e o salário é de R$ %s\" %(self.nome,str(self.salário)))"
   ]
  },
  {
   "cell_type": "code",
   "execution_count": 590,
   "metadata": {},
   "outputs": [],
   "source": [
    "funcionario1 = Funcionários(\"Jeann Câmara\", 10000.00)"
   ]
  },
  {
   "cell_type": "code",
   "execution_count": 591,
   "metadata": {},
   "outputs": [
    {
     "name": "stdout",
     "output_type": "stream",
     "text": [
      "O nome do funcionário é: Jeann Câmara e o salário é de R$ 10000.0\n"
     ]
    }
   ],
   "source": [
    "funcionario1.listFunc()"
   ]
  },
  {
   "cell_type": "code",
   "execution_count": 592,
   "metadata": {},
   "outputs": [
    {
     "data": {
      "text/plain": [
       "True"
      ]
     },
     "execution_count": 592,
     "metadata": {},
     "output_type": "execute_result"
    }
   ],
   "source": [
    "hasattr(funcionario1, \"nome\")"
   ]
  },
  {
   "cell_type": "code",
   "execution_count": 593,
   "metadata": {},
   "outputs": [],
   "source": [
    "setattr(funcionario1, \"nome\", \"Jeann Câmara Rodrigues\")"
   ]
  },
  {
   "cell_type": "code",
   "execution_count": 594,
   "metadata": {},
   "outputs": [
    {
     "data": {
      "text/plain": [
       "'Jeann Câmara Rodrigues'"
      ]
     },
     "execution_count": 594,
     "metadata": {},
     "output_type": "execute_result"
    }
   ],
   "source": [
    "funcionario1.nome"
   ]
  },
  {
   "cell_type": "code",
   "execution_count": 595,
   "metadata": {},
   "outputs": [
    {
     "data": {
      "text/plain": [
       "10000.0"
      ]
     },
     "execution_count": 595,
     "metadata": {},
     "output_type": "execute_result"
    }
   ],
   "source": [
    "getattr(funcionario1,\"salário\")"
   ]
  },
  {
   "cell_type": "code",
   "execution_count": 596,
   "metadata": {},
   "outputs": [],
   "source": [
    "delattr(funcionario1, \"nome\")"
   ]
  },
  {
   "cell_type": "code",
   "execution_count": 597,
   "metadata": {},
   "outputs": [
    {
     "name": "stdout",
     "output_type": "stream",
     "text": [
      "Help on Funcionários in module __main__ object:\n",
      "\n",
      "class Funcionários(builtins.object)\n",
      " |  Methods defined here:\n",
      " |  \n",
      " |  __init__(self, nome, salário)\n",
      " |      Initialize self.  See help(type(self)) for accurate signature.\n",
      " |  \n",
      " |  listFunc(self)\n",
      " |  \n",
      " |  ----------------------------------------------------------------------\n",
      " |  Data descriptors defined here:\n",
      " |  \n",
      " |  __dict__\n",
      " |      dictionary for instance variables (if defined)\n",
      " |  \n",
      " |  __weakref__\n",
      " |      list of weak references to the object (if defined)\n",
      "\n"
     ]
    }
   ],
   "source": [
    "help(funcionario1)"
   ]
  },
  {
   "cell_type": "code",
   "execution_count": 601,
   "metadata": {},
   "outputs": [
    {
     "ename": "AttributeError",
     "evalue": "'Funcionários' object has no attribute 'nome'",
     "output_type": "error",
     "traceback": [
      "\u001b[1;31m---------------------------------------------------------------------------\u001b[0m",
      "\u001b[1;31mAttributeError\u001b[0m                            Traceback (most recent call last)",
      "\u001b[1;32m<ipython-input-601-d65167c84a60>\u001b[0m in \u001b[0;36m<module>\u001b[1;34m()\u001b[0m\n\u001b[1;32m----> 1\u001b[1;33m \u001b[0mfuncionario1\u001b[0m\u001b[1;33m.\u001b[0m\u001b[0mnome\u001b[0m\u001b[1;33m\u001b[0m\u001b[0m\n\u001b[0m",
      "\u001b[1;31mAttributeError\u001b[0m: 'Funcionários' object has no attribute 'nome'"
     ]
    }
   ],
   "source": [
    "funcionario1.nome"
   ]
  },
  {
   "cell_type": "code",
   "execution_count": 600,
   "metadata": {},
   "outputs": [
    {
     "data": {
      "text/plain": [
       "10000.0"
      ]
     },
     "execution_count": 600,
     "metadata": {},
     "output_type": "execute_result"
    }
   ],
   "source": [
    "funcionario1.salário"
   ]
  },
  {
   "cell_type": "code",
   "execution_count": 618,
   "metadata": {},
   "outputs": [],
   "source": [
    "class Animal(object):\n",
    "    \n",
    "    def __init__(self):\n",
    "        print(\"Animal criado.\")\n",
    "        \n",
    "    def identif(self):\n",
    "        print(\"Animal\")\n",
    "\n",
    "    def comer(self):\n",
    "        print(\"Comendo\")"
   ]
  },
  {
   "cell_type": "code",
   "execution_count": 619,
   "metadata": {},
   "outputs": [],
   "source": [
    "class Cachorro(Animal):\n",
    "    \n",
    "    def __init__(self):\n",
    "        Animal.__init__(self)\n",
    "        print(\"Cachorro criado.\")\n",
    "        \n",
    "    def identif(self):\n",
    "        print(\"Cachorro\")\n",
    "\n",
    "    def latir(self):\n",
    "        print(\"Au Au\")"
   ]
  },
  {
   "cell_type": "code",
   "execution_count": 620,
   "metadata": {},
   "outputs": [
    {
     "name": "stdout",
     "output_type": "stream",
     "text": [
      "Animal criado.\n",
      "Cachorro criado.\n"
     ]
    }
   ],
   "source": [
    "beterraba  = Cachorro()"
   ]
  },
  {
   "cell_type": "code",
   "execution_count": 615,
   "metadata": {},
   "outputs": [
    {
     "name": "stdout",
     "output_type": "stream",
     "text": [
      "Cachorro\n"
     ]
    }
   ],
   "source": [
    "beterraba.identif()"
   ]
  },
  {
   "cell_type": "code",
   "execution_count": 616,
   "metadata": {},
   "outputs": [
    {
     "name": "stdout",
     "output_type": "stream",
     "text": [
      "Comendo\n"
     ]
    }
   ],
   "source": [
    "beterraba.comer()"
   ]
  },
  {
   "cell_type": "code",
   "execution_count": 617,
   "metadata": {},
   "outputs": [
    {
     "name": "stdout",
     "output_type": "stream",
     "text": [
      "Au Au\n"
     ]
    }
   ],
   "source": [
    "beterraba.latir()"
   ]
  },
  {
   "cell_type": "code",
   "execution_count": 632,
   "metadata": {},
   "outputs": [],
   "source": [
    "from math import sqrt\n",
    "\n",
    "class Rocket():\n",
    "     \n",
    "    def __init__(self, x=0, y=0):\n",
    "        self.x = x\n",
    "        self.y = y\n",
    "        \n",
    "    def move_rocket(self, x_increment=1, y_increment=1):\n",
    "        self.x += x_increment\n",
    "        self.y += y_increment\n",
    "        \n",
    "    def print_rocket(self):\n",
    "        print(self.x, self.y)"
   ]
  },
  {
   "cell_type": "code",
   "execution_count": 633,
   "metadata": {},
   "outputs": [],
   "source": [
    "roc1 = Rocket(10,20)"
   ]
  },
  {
   "cell_type": "code",
   "execution_count": 637,
   "metadata": {},
   "outputs": [
    {
     "data": {
      "text/plain": [
       "11"
      ]
     },
     "execution_count": 637,
     "metadata": {},
     "output_type": "execute_result"
    }
   ],
   "source": [
    "roc1.x\n"
   ]
  },
  {
   "cell_type": "code",
   "execution_count": 638,
   "metadata": {},
   "outputs": [
    {
     "data": {
      "text/plain": [
       "21"
      ]
     },
     "execution_count": 638,
     "metadata": {},
     "output_type": "execute_result"
    }
   ],
   "source": [
    "roc1.y"
   ]
  },
  {
   "cell_type": "code",
   "execution_count": 636,
   "metadata": {},
   "outputs": [],
   "source": [
    "roc1.move_rocket()"
   ]
  },
  {
   "cell_type": "code",
   "execution_count": 639,
   "metadata": {},
   "outputs": [
    {
     "name": "stdout",
     "output_type": "stream",
     "text": [
      "11 21\n"
     ]
    }
   ],
   "source": [
    "roc1.print_rocket()"
   ]
  },
  {
   "cell_type": "code",
   "execution_count": 657,
   "metadata": {},
   "outputs": [],
   "source": [
    "class Pessoa():\n",
    "    \n",
    "    def __init__(self, nome, cidade, telefone, email):\n",
    "        self.nome = nome\n",
    "        self.cidade = cidade\n",
    "        self.telefone = telefone\n",
    "        self.email = email\n",
    "        \n",
    "    def __str__(self):\n",
    "        return \"%s de %s com número %s e email %s\" %(nome, self.cidade, self.telefone, self.email)"
   ]
  },
  {
   "cell_type": "code",
   "execution_count": 658,
   "metadata": {},
   "outputs": [],
   "source": [
    "pessoa1 = Pessoa(\"Jeann\",\"Fortaleza\",\"9-9966-8800\",\"jeanncamara@gmail.com\")"
   ]
  },
  {
   "cell_type": "code",
   "execution_count": 659,
   "metadata": {},
   "outputs": [
    {
     "name": "stdout",
     "output_type": "stream",
     "text": [
      "Jeann de Fortaleza com número 9-9966-8800 e email jeanncamara@gmail.com\n"
     ]
    }
   ],
   "source": [
    "print(pessoa1)"
   ]
  },
  {
   "cell_type": "code",
   "execution_count": 660,
   "metadata": {},
   "outputs": [
    {
     "name": "stdout",
     "output_type": "stream",
     "text": [
      "Valores para o objeto criado: Pequeno Led 64 GB\n"
     ]
    }
   ],
   "source": [
    "class Smartphone(object):\n",
    "    def __init__(self, tamanho, interface):\n",
    "        self.tamanho = tamanho\n",
    "        self.interface = interface\n",
    "        \n",
    "class MP3Player(Smartphone):\n",
    "    def __init__(self, capacidade, tamanho = 'Pequeno', interface = 'Led'):\n",
    "        self.capacidade = capacidade\n",
    "        Smartphone.__init__(self, tamanho, interface)\n",
    "        \n",
    "    def print_mp3player(self):\n",
    "        print(\"Valores para o objeto criado: %s %s %s\"  %(self.tamanho, self.interface, self.capacidade))\n",
    "    \n",
    "device1 = MP3Player('64 GB')\n",
    "device1.print_mp3player()"
   ]
  },
  {
   "cell_type": "code",
   "execution_count": 661,
   "metadata": {},
   "outputs": [],
   "source": [
    "import sqlite3"
   ]
  },
  {
   "cell_type": "code",
   "execution_count": 664,
   "metadata": {},
   "outputs": [],
   "source": [
    "conexão = sqlite3.connect(\"escola.db\")"
   ]
  },
  {
   "cell_type": "code",
   "execution_count": 665,
   "metadata": {},
   "outputs": [
    {
     "data": {
      "text/plain": [
       "sqlite3.Connection"
      ]
     },
     "execution_count": 665,
     "metadata": {},
     "output_type": "execute_result"
    }
   ],
   "source": [
    "type(conexão)"
   ]
  },
  {
   "cell_type": "code",
   "execution_count": 666,
   "metadata": {},
   "outputs": [],
   "source": [
    "cursor = conexão.cursor()"
   ]
  },
  {
   "cell_type": "code",
   "execution_count": 667,
   "metadata": {},
   "outputs": [
    {
     "data": {
      "text/plain": [
       "sqlite3.Cursor"
      ]
     },
     "execution_count": 667,
     "metadata": {},
     "output_type": "execute_result"
    }
   ],
   "source": [
    "type(cursor)"
   ]
  },
  {
   "cell_type": "code",
   "execution_count": 670,
   "metadata": {},
   "outputs": [],
   "source": [
    "sql_create = \"create table cursos \"\\\n",
    "\"(\"\\\n",
    "    \"id integer primary key,\"\\\n",
    "    \"titulo varchar(100),\"\\\n",
    "    \"categoria varchar(140)\"\\\n",
    "\")\""
   ]
  },
  {
   "cell_type": "code",
   "execution_count": 671,
   "metadata": {},
   "outputs": [
    {
     "data": {
      "text/plain": [
       "<sqlite3.Cursor at 0x133be5e0>"
      ]
     },
     "execution_count": 671,
     "metadata": {},
     "output_type": "execute_result"
    }
   ],
   "source": [
    "cursor.execute(sql_create)"
   ]
  },
  {
   "cell_type": "code",
   "execution_count": 672,
   "metadata": {},
   "outputs": [],
   "source": [
    "sql_insert = \"insert into cursos values (?, ?, ?)\""
   ]
  },
  {
   "cell_type": "code",
   "execution_count": 675,
   "metadata": {},
   "outputs": [],
   "source": [
    "recset = [\n",
    "        (1000,\"Ciência de dados\",\"Data Science\"),\n",
    "        (1001,\"Big Data Fundamentos\",\"Big data\"),\n",
    "        (1002,\"Python Fundamentos\",\"Análise de dados\")\n",
    "    ]"
   ]
  },
  {
   "cell_type": "code",
   "execution_count": 676,
   "metadata": {},
   "outputs": [],
   "source": [
    "for rec in recset:\n",
    "    cursor.execute(sql_insert, rec)"
   ]
  },
  {
   "cell_type": "code",
   "execution_count": 678,
   "metadata": {},
   "outputs": [],
   "source": [
    "conexão.commit()"
   ]
  },
  {
   "cell_type": "code",
   "execution_count": 679,
   "metadata": {},
   "outputs": [],
   "source": [
    "sql_select = \"select * from cursos\""
   ]
  },
  {
   "cell_type": "code",
   "execution_count": 680,
   "metadata": {},
   "outputs": [
    {
     "data": {
      "text/plain": [
       "<sqlite3.Cursor at 0x133be5e0>"
      ]
     },
     "execution_count": 680,
     "metadata": {},
     "output_type": "execute_result"
    }
   ],
   "source": [
    "cursor.execute(sql_select)"
   ]
  },
  {
   "cell_type": "code",
   "execution_count": 681,
   "metadata": {},
   "outputs": [],
   "source": [
    "dados = cursor.fetchall()"
   ]
  },
  {
   "cell_type": "code",
   "execution_count": 682,
   "metadata": {},
   "outputs": [
    {
     "name": "stdout",
     "output_type": "stream",
     "text": [
      "[(1000, 'Ciência de dados', 'Data Science'), (1001, 'Big Data Fundamentos', 'Big data'), (1002, 'Python Fundamentos', 'Análise de dados')]\n"
     ]
    }
   ],
   "source": [
    "print(dados)"
   ]
  },
  {
   "cell_type": "code",
   "execution_count": 729,
   "metadata": {},
   "outputs": [],
   "source": [
    "conexão.close()"
   ]
  },
  {
   "cell_type": "code",
   "execution_count": 4,
   "metadata": {},
   "outputs": [],
   "source": [
    "import sqlite3 as db\n",
    "import random\n",
    "import datetime\n",
    "import matplotlib.pyplot as plt\n",
    "%matplotlib notebook\n",
    " \n",
    "# Criando uma conexão\n",
    "conexão = db.connect('dsa.db')   \n",
    "\n",
    "# Criando um cursor\n",
    "cursor = conexão.cursor()\n",
    " \n",
    "# Função para criar uma tabela\n",
    "def create_table():\n",
    "    cursor.execute('CREATE TABLE IF NOT EXISTS produtos(id INTEGER PRIMARY KEY AUTOINCREMENT NOT NULL, date TEXT, '\\\n",
    "              'prod_name TEXT, valor REAL)')\n",
    "     \n",
    "# Função para inserir uma linha\n",
    "def data_insert():\n",
    "    cursor.execute(\"INSERT INTO produtos (date, prod_name, valor) VALUES(CURRENT_TIMESTAMP, 'Teclado', 130 )\")\n",
    "    conexão.commit()\n",
    "    \n",
    "# Usando variáveis para inserir dados    \n",
    "def data_insert_var():\n",
    "    new_date = datetime.datetime.now()\n",
    "    new_prod_name = 'monitor'\n",
    "    new_valor = random.randrange(50,100)\n",
    "    cursor.execute(\"INSERT INTO produtos (date, prod_name, valor) VALUES (?, ?, ?)\",(new_date, new_prod_name, new_valor))\n",
    "    conexão.commit()\n",
    "    \n",
    "# Leitura de dados\n",
    "def leitura_todos_dados():\n",
    "    cursor.execute(\"SELECT * FROM PRODUTOS\")\n",
    "    for linha in cursor.fetchall():\n",
    "        print(linha)\n",
    "        \n",
    "# Leitura de registros específicos\n",
    "def leitura_registros():\n",
    "    cursor.execute(\"SELECT * FROM PRODUTOS WHERE valor > 60.0\")\n",
    "    for linha in cursor.fetchall():\n",
    "        print(linha)      \n",
    "        \n",
    "# Leitura de colunas específicos\n",
    "def leitura_colunas():\n",
    "    cursor.execute(\"SELECT * FROM PRODUTOS\")\n",
    "    for linha in cursor.fetchall():\n",
    "        print(linha[3])  \n",
    "        \n",
    "# Update\n",
    "def atualiza_dados():\n",
    "    cursor.execute(\"UPDATE produtos SET valor = 70.00 WHERE valor > 80.0\")\n",
    "    conexão.commit()\n",
    "    \n",
    "# Delete\n",
    "def remove_dados():\n",
    "    cursor.execute(\"DELETE FROM produtos WHERE valor = 65.0\")\n",
    "    conexão.commit()\n",
    "  \n",
    "# Gerar gráficos com os dados        \n",
    "def dados_grafico():\n",
    "    cursor.execute(\"SELECT id, valor FROM produtos\")\n",
    "    ids = []\n",
    "    valores = []\n",
    "    dados = cursor.fetchall()\n",
    "    for linha in dados:\n",
    "        ids.append(linha[0])\n",
    "        valores.append(linha[1])\n",
    "        \n",
    "    plt.bar(ids, valores)\n",
    "    plt.show()"
   ]
  },
  {
   "cell_type": "code",
   "execution_count": 5,
   "metadata": {},
   "outputs": [
    {
     "data": {
      "application/javascript": [
       "/* Put everything inside the global mpl namespace */\n",
       "window.mpl = {};\n",
       "\n",
       "\n",
       "mpl.get_websocket_type = function() {\n",
       "    if (typeof(WebSocket) !== 'undefined') {\n",
       "        return WebSocket;\n",
       "    } else if (typeof(MozWebSocket) !== 'undefined') {\n",
       "        return MozWebSocket;\n",
       "    } else {\n",
       "        alert('Your browser does not have WebSocket support.' +\n",
       "              'Please try Chrome, Safari or Firefox ≥ 6. ' +\n",
       "              'Firefox 4 and 5 are also supported but you ' +\n",
       "              'have to enable WebSockets in about:config.');\n",
       "    };\n",
       "}\n",
       "\n",
       "mpl.figure = function(figure_id, websocket, ondownload, parent_element) {\n",
       "    this.id = figure_id;\n",
       "\n",
       "    this.ws = websocket;\n",
       "\n",
       "    this.supports_binary = (this.ws.binaryType != undefined);\n",
       "\n",
       "    if (!this.supports_binary) {\n",
       "        var warnings = document.getElementById(\"mpl-warnings\");\n",
       "        if (warnings) {\n",
       "            warnings.style.display = 'block';\n",
       "            warnings.textContent = (\n",
       "                \"This browser does not support binary websocket messages. \" +\n",
       "                    \"Performance may be slow.\");\n",
       "        }\n",
       "    }\n",
       "\n",
       "    this.imageObj = new Image();\n",
       "\n",
       "    this.context = undefined;\n",
       "    this.message = undefined;\n",
       "    this.canvas = undefined;\n",
       "    this.rubberband_canvas = undefined;\n",
       "    this.rubberband_context = undefined;\n",
       "    this.format_dropdown = undefined;\n",
       "\n",
       "    this.image_mode = 'full';\n",
       "\n",
       "    this.root = $('<div/>');\n",
       "    this._root_extra_style(this.root)\n",
       "    this.root.attr('style', 'display: inline-block');\n",
       "\n",
       "    $(parent_element).append(this.root);\n",
       "\n",
       "    this._init_header(this);\n",
       "    this._init_canvas(this);\n",
       "    this._init_toolbar(this);\n",
       "\n",
       "    var fig = this;\n",
       "\n",
       "    this.waiting = false;\n",
       "\n",
       "    this.ws.onopen =  function () {\n",
       "            fig.send_message(\"supports_binary\", {value: fig.supports_binary});\n",
       "            fig.send_message(\"send_image_mode\", {});\n",
       "            if (mpl.ratio != 1) {\n",
       "                fig.send_message(\"set_dpi_ratio\", {'dpi_ratio': mpl.ratio});\n",
       "            }\n",
       "            fig.send_message(\"refresh\", {});\n",
       "        }\n",
       "\n",
       "    this.imageObj.onload = function() {\n",
       "            if (fig.image_mode == 'full') {\n",
       "                // Full images could contain transparency (where diff images\n",
       "                // almost always do), so we need to clear the canvas so that\n",
       "                // there is no ghosting.\n",
       "                fig.context.clearRect(0, 0, fig.canvas.width, fig.canvas.height);\n",
       "            }\n",
       "            fig.context.drawImage(fig.imageObj, 0, 0);\n",
       "        };\n",
       "\n",
       "    this.imageObj.onunload = function() {\n",
       "        fig.ws.close();\n",
       "    }\n",
       "\n",
       "    this.ws.onmessage = this._make_on_message_function(this);\n",
       "\n",
       "    this.ondownload = ondownload;\n",
       "}\n",
       "\n",
       "mpl.figure.prototype._init_header = function() {\n",
       "    var titlebar = $(\n",
       "        '<div class=\"ui-dialog-titlebar ui-widget-header ui-corner-all ' +\n",
       "        'ui-helper-clearfix\"/>');\n",
       "    var titletext = $(\n",
       "        '<div class=\"ui-dialog-title\" style=\"width: 100%; ' +\n",
       "        'text-align: center; padding: 3px;\"/>');\n",
       "    titlebar.append(titletext)\n",
       "    this.root.append(titlebar);\n",
       "    this.header = titletext[0];\n",
       "}\n",
       "\n",
       "\n",
       "\n",
       "mpl.figure.prototype._canvas_extra_style = function(canvas_div) {\n",
       "\n",
       "}\n",
       "\n",
       "\n",
       "mpl.figure.prototype._root_extra_style = function(canvas_div) {\n",
       "\n",
       "}\n",
       "\n",
       "mpl.figure.prototype._init_canvas = function() {\n",
       "    var fig = this;\n",
       "\n",
       "    var canvas_div = $('<div/>');\n",
       "\n",
       "    canvas_div.attr('style', 'position: relative; clear: both; outline: 0');\n",
       "\n",
       "    function canvas_keyboard_event(event) {\n",
       "        return fig.key_event(event, event['data']);\n",
       "    }\n",
       "\n",
       "    canvas_div.keydown('key_press', canvas_keyboard_event);\n",
       "    canvas_div.keyup('key_release', canvas_keyboard_event);\n",
       "    this.canvas_div = canvas_div\n",
       "    this._canvas_extra_style(canvas_div)\n",
       "    this.root.append(canvas_div);\n",
       "\n",
       "    var canvas = $('<canvas/>');\n",
       "    canvas.addClass('mpl-canvas');\n",
       "    canvas.attr('style', \"left: 0; top: 0; z-index: 0; outline: 0\")\n",
       "\n",
       "    this.canvas = canvas[0];\n",
       "    this.context = canvas[0].getContext(\"2d\");\n",
       "\n",
       "    var backingStore = this.context.backingStorePixelRatio ||\n",
       "\tthis.context.webkitBackingStorePixelRatio ||\n",
       "\tthis.context.mozBackingStorePixelRatio ||\n",
       "\tthis.context.msBackingStorePixelRatio ||\n",
       "\tthis.context.oBackingStorePixelRatio ||\n",
       "\tthis.context.backingStorePixelRatio || 1;\n",
       "\n",
       "    mpl.ratio = (window.devicePixelRatio || 1) / backingStore;\n",
       "\n",
       "    var rubberband = $('<canvas/>');\n",
       "    rubberband.attr('style', \"position: absolute; left: 0; top: 0; z-index: 1;\")\n",
       "\n",
       "    var pass_mouse_events = true;\n",
       "\n",
       "    canvas_div.resizable({\n",
       "        start: function(event, ui) {\n",
       "            pass_mouse_events = false;\n",
       "        },\n",
       "        resize: function(event, ui) {\n",
       "            fig.request_resize(ui.size.width, ui.size.height);\n",
       "        },\n",
       "        stop: function(event, ui) {\n",
       "            pass_mouse_events = true;\n",
       "            fig.request_resize(ui.size.width, ui.size.height);\n",
       "        },\n",
       "    });\n",
       "\n",
       "    function mouse_event_fn(event) {\n",
       "        if (pass_mouse_events)\n",
       "            return fig.mouse_event(event, event['data']);\n",
       "    }\n",
       "\n",
       "    rubberband.mousedown('button_press', mouse_event_fn);\n",
       "    rubberband.mouseup('button_release', mouse_event_fn);\n",
       "    // Throttle sequential mouse events to 1 every 20ms.\n",
       "    rubberband.mousemove('motion_notify', mouse_event_fn);\n",
       "\n",
       "    rubberband.mouseenter('figure_enter', mouse_event_fn);\n",
       "    rubberband.mouseleave('figure_leave', mouse_event_fn);\n",
       "\n",
       "    canvas_div.on(\"wheel\", function (event) {\n",
       "        event = event.originalEvent;\n",
       "        event['data'] = 'scroll'\n",
       "        if (event.deltaY < 0) {\n",
       "            event.step = 1;\n",
       "        } else {\n",
       "            event.step = -1;\n",
       "        }\n",
       "        mouse_event_fn(event);\n",
       "    });\n",
       "\n",
       "    canvas_div.append(canvas);\n",
       "    canvas_div.append(rubberband);\n",
       "\n",
       "    this.rubberband = rubberband;\n",
       "    this.rubberband_canvas = rubberband[0];\n",
       "    this.rubberband_context = rubberband[0].getContext(\"2d\");\n",
       "    this.rubberband_context.strokeStyle = \"#000000\";\n",
       "\n",
       "    this._resize_canvas = function(width, height) {\n",
       "        // Keep the size of the canvas, canvas container, and rubber band\n",
       "        // canvas in synch.\n",
       "        canvas_div.css('width', width)\n",
       "        canvas_div.css('height', height)\n",
       "\n",
       "        canvas.attr('width', width * mpl.ratio);\n",
       "        canvas.attr('height', height * mpl.ratio);\n",
       "        canvas.attr('style', 'width: ' + width + 'px; height: ' + height + 'px;');\n",
       "\n",
       "        rubberband.attr('width', width);\n",
       "        rubberband.attr('height', height);\n",
       "    }\n",
       "\n",
       "    // Set the figure to an initial 600x600px, this will subsequently be updated\n",
       "    // upon first draw.\n",
       "    this._resize_canvas(600, 600);\n",
       "\n",
       "    // Disable right mouse context menu.\n",
       "    $(this.rubberband_canvas).bind(\"contextmenu\",function(e){\n",
       "        return false;\n",
       "    });\n",
       "\n",
       "    function set_focus () {\n",
       "        canvas.focus();\n",
       "        canvas_div.focus();\n",
       "    }\n",
       "\n",
       "    window.setTimeout(set_focus, 100);\n",
       "}\n",
       "\n",
       "mpl.figure.prototype._init_toolbar = function() {\n",
       "    var fig = this;\n",
       "\n",
       "    var nav_element = $('<div/>')\n",
       "    nav_element.attr('style', 'width: 100%');\n",
       "    this.root.append(nav_element);\n",
       "\n",
       "    // Define a callback function for later on.\n",
       "    function toolbar_event(event) {\n",
       "        return fig.toolbar_button_onclick(event['data']);\n",
       "    }\n",
       "    function toolbar_mouse_event(event) {\n",
       "        return fig.toolbar_button_onmouseover(event['data']);\n",
       "    }\n",
       "\n",
       "    for(var toolbar_ind in mpl.toolbar_items) {\n",
       "        var name = mpl.toolbar_items[toolbar_ind][0];\n",
       "        var tooltip = mpl.toolbar_items[toolbar_ind][1];\n",
       "        var image = mpl.toolbar_items[toolbar_ind][2];\n",
       "        var method_name = mpl.toolbar_items[toolbar_ind][3];\n",
       "\n",
       "        if (!name) {\n",
       "            // put a spacer in here.\n",
       "            continue;\n",
       "        }\n",
       "        var button = $('<button/>');\n",
       "        button.addClass('ui-button ui-widget ui-state-default ui-corner-all ' +\n",
       "                        'ui-button-icon-only');\n",
       "        button.attr('role', 'button');\n",
       "        button.attr('aria-disabled', 'false');\n",
       "        button.click(method_name, toolbar_event);\n",
       "        button.mouseover(tooltip, toolbar_mouse_event);\n",
       "\n",
       "        var icon_img = $('<span/>');\n",
       "        icon_img.addClass('ui-button-icon-primary ui-icon');\n",
       "        icon_img.addClass(image);\n",
       "        icon_img.addClass('ui-corner-all');\n",
       "\n",
       "        var tooltip_span = $('<span/>');\n",
       "        tooltip_span.addClass('ui-button-text');\n",
       "        tooltip_span.html(tooltip);\n",
       "\n",
       "        button.append(icon_img);\n",
       "        button.append(tooltip_span);\n",
       "\n",
       "        nav_element.append(button);\n",
       "    }\n",
       "\n",
       "    var fmt_picker_span = $('<span/>');\n",
       "\n",
       "    var fmt_picker = $('<select/>');\n",
       "    fmt_picker.addClass('mpl-toolbar-option ui-widget ui-widget-content');\n",
       "    fmt_picker_span.append(fmt_picker);\n",
       "    nav_element.append(fmt_picker_span);\n",
       "    this.format_dropdown = fmt_picker[0];\n",
       "\n",
       "    for (var ind in mpl.extensions) {\n",
       "        var fmt = mpl.extensions[ind];\n",
       "        var option = $(\n",
       "            '<option/>', {selected: fmt === mpl.default_extension}).html(fmt);\n",
       "        fmt_picker.append(option)\n",
       "    }\n",
       "\n",
       "    // Add hover states to the ui-buttons\n",
       "    $( \".ui-button\" ).hover(\n",
       "        function() { $(this).addClass(\"ui-state-hover\");},\n",
       "        function() { $(this).removeClass(\"ui-state-hover\");}\n",
       "    );\n",
       "\n",
       "    var status_bar = $('<span class=\"mpl-message\"/>');\n",
       "    nav_element.append(status_bar);\n",
       "    this.message = status_bar[0];\n",
       "}\n",
       "\n",
       "mpl.figure.prototype.request_resize = function(x_pixels, y_pixels) {\n",
       "    // Request matplotlib to resize the figure. Matplotlib will then trigger a resize in the client,\n",
       "    // which will in turn request a refresh of the image.\n",
       "    this.send_message('resize', {'width': x_pixels, 'height': y_pixels});\n",
       "}\n",
       "\n",
       "mpl.figure.prototype.send_message = function(type, properties) {\n",
       "    properties['type'] = type;\n",
       "    properties['figure_id'] = this.id;\n",
       "    this.ws.send(JSON.stringify(properties));\n",
       "}\n",
       "\n",
       "mpl.figure.prototype.send_draw_message = function() {\n",
       "    if (!this.waiting) {\n",
       "        this.waiting = true;\n",
       "        this.ws.send(JSON.stringify({type: \"draw\", figure_id: this.id}));\n",
       "    }\n",
       "}\n",
       "\n",
       "\n",
       "mpl.figure.prototype.handle_save = function(fig, msg) {\n",
       "    var format_dropdown = fig.format_dropdown;\n",
       "    var format = format_dropdown.options[format_dropdown.selectedIndex].value;\n",
       "    fig.ondownload(fig, format);\n",
       "}\n",
       "\n",
       "\n",
       "mpl.figure.prototype.handle_resize = function(fig, msg) {\n",
       "    var size = msg['size'];\n",
       "    if (size[0] != fig.canvas.width || size[1] != fig.canvas.height) {\n",
       "        fig._resize_canvas(size[0], size[1]);\n",
       "        fig.send_message(\"refresh\", {});\n",
       "    };\n",
       "}\n",
       "\n",
       "mpl.figure.prototype.handle_rubberband = function(fig, msg) {\n",
       "    var x0 = msg['x0'] / mpl.ratio;\n",
       "    var y0 = (fig.canvas.height - msg['y0']) / mpl.ratio;\n",
       "    var x1 = msg['x1'] / mpl.ratio;\n",
       "    var y1 = (fig.canvas.height - msg['y1']) / mpl.ratio;\n",
       "    x0 = Math.floor(x0) + 0.5;\n",
       "    y0 = Math.floor(y0) + 0.5;\n",
       "    x1 = Math.floor(x1) + 0.5;\n",
       "    y1 = Math.floor(y1) + 0.5;\n",
       "    var min_x = Math.min(x0, x1);\n",
       "    var min_y = Math.min(y0, y1);\n",
       "    var width = Math.abs(x1 - x0);\n",
       "    var height = Math.abs(y1 - y0);\n",
       "\n",
       "    fig.rubberband_context.clearRect(\n",
       "        0, 0, fig.canvas.width, fig.canvas.height);\n",
       "\n",
       "    fig.rubberband_context.strokeRect(min_x, min_y, width, height);\n",
       "}\n",
       "\n",
       "mpl.figure.prototype.handle_figure_label = function(fig, msg) {\n",
       "    // Updates the figure title.\n",
       "    fig.header.textContent = msg['label'];\n",
       "}\n",
       "\n",
       "mpl.figure.prototype.handle_cursor = function(fig, msg) {\n",
       "    var cursor = msg['cursor'];\n",
       "    switch(cursor)\n",
       "    {\n",
       "    case 0:\n",
       "        cursor = 'pointer';\n",
       "        break;\n",
       "    case 1:\n",
       "        cursor = 'default';\n",
       "        break;\n",
       "    case 2:\n",
       "        cursor = 'crosshair';\n",
       "        break;\n",
       "    case 3:\n",
       "        cursor = 'move';\n",
       "        break;\n",
       "    }\n",
       "    fig.rubberband_canvas.style.cursor = cursor;\n",
       "}\n",
       "\n",
       "mpl.figure.prototype.handle_message = function(fig, msg) {\n",
       "    fig.message.textContent = msg['message'];\n",
       "}\n",
       "\n",
       "mpl.figure.prototype.handle_draw = function(fig, msg) {\n",
       "    // Request the server to send over a new figure.\n",
       "    fig.send_draw_message();\n",
       "}\n",
       "\n",
       "mpl.figure.prototype.handle_image_mode = function(fig, msg) {\n",
       "    fig.image_mode = msg['mode'];\n",
       "}\n",
       "\n",
       "mpl.figure.prototype.updated_canvas_event = function() {\n",
       "    // Called whenever the canvas gets updated.\n",
       "    this.send_message(\"ack\", {});\n",
       "}\n",
       "\n",
       "// A function to construct a web socket function for onmessage handling.\n",
       "// Called in the figure constructor.\n",
       "mpl.figure.prototype._make_on_message_function = function(fig) {\n",
       "    return function socket_on_message(evt) {\n",
       "        if (evt.data instanceof Blob) {\n",
       "            /* FIXME: We get \"Resource interpreted as Image but\n",
       "             * transferred with MIME type text/plain:\" errors on\n",
       "             * Chrome.  But how to set the MIME type?  It doesn't seem\n",
       "             * to be part of the websocket stream */\n",
       "            evt.data.type = \"image/png\";\n",
       "\n",
       "            /* Free the memory for the previous frames */\n",
       "            if (fig.imageObj.src) {\n",
       "                (window.URL || window.webkitURL).revokeObjectURL(\n",
       "                    fig.imageObj.src);\n",
       "            }\n",
       "\n",
       "            fig.imageObj.src = (window.URL || window.webkitURL).createObjectURL(\n",
       "                evt.data);\n",
       "            fig.updated_canvas_event();\n",
       "            fig.waiting = false;\n",
       "            return;\n",
       "        }\n",
       "        else if (typeof evt.data === 'string' && evt.data.slice(0, 21) == \"data:image/png;base64\") {\n",
       "            fig.imageObj.src = evt.data;\n",
       "            fig.updated_canvas_event();\n",
       "            fig.waiting = false;\n",
       "            return;\n",
       "        }\n",
       "\n",
       "        var msg = JSON.parse(evt.data);\n",
       "        var msg_type = msg['type'];\n",
       "\n",
       "        // Call the  \"handle_{type}\" callback, which takes\n",
       "        // the figure and JSON message as its only arguments.\n",
       "        try {\n",
       "            var callback = fig[\"handle_\" + msg_type];\n",
       "        } catch (e) {\n",
       "            console.log(\"No handler for the '\" + msg_type + \"' message type: \", msg);\n",
       "            return;\n",
       "        }\n",
       "\n",
       "        if (callback) {\n",
       "            try {\n",
       "                // console.log(\"Handling '\" + msg_type + \"' message: \", msg);\n",
       "                callback(fig, msg);\n",
       "            } catch (e) {\n",
       "                console.log(\"Exception inside the 'handler_\" + msg_type + \"' callback:\", e, e.stack, msg);\n",
       "            }\n",
       "        }\n",
       "    };\n",
       "}\n",
       "\n",
       "// from http://stackoverflow.com/questions/1114465/getting-mouse-location-in-canvas\n",
       "mpl.findpos = function(e) {\n",
       "    //this section is from http://www.quirksmode.org/js/events_properties.html\n",
       "    var targ;\n",
       "    if (!e)\n",
       "        e = window.event;\n",
       "    if (e.target)\n",
       "        targ = e.target;\n",
       "    else if (e.srcElement)\n",
       "        targ = e.srcElement;\n",
       "    if (targ.nodeType == 3) // defeat Safari bug\n",
       "        targ = targ.parentNode;\n",
       "\n",
       "    // jQuery normalizes the pageX and pageY\n",
       "    // pageX,Y are the mouse positions relative to the document\n",
       "    // offset() returns the position of the element relative to the document\n",
       "    var x = e.pageX - $(targ).offset().left;\n",
       "    var y = e.pageY - $(targ).offset().top;\n",
       "\n",
       "    return {\"x\": x, \"y\": y};\n",
       "};\n",
       "\n",
       "/*\n",
       " * return a copy of an object with only non-object keys\n",
       " * we need this to avoid circular references\n",
       " * http://stackoverflow.com/a/24161582/3208463\n",
       " */\n",
       "function simpleKeys (original) {\n",
       "  return Object.keys(original).reduce(function (obj, key) {\n",
       "    if (typeof original[key] !== 'object')\n",
       "        obj[key] = original[key]\n",
       "    return obj;\n",
       "  }, {});\n",
       "}\n",
       "\n",
       "mpl.figure.prototype.mouse_event = function(event, name) {\n",
       "    var canvas_pos = mpl.findpos(event)\n",
       "\n",
       "    if (name === 'button_press')\n",
       "    {\n",
       "        this.canvas.focus();\n",
       "        this.canvas_div.focus();\n",
       "    }\n",
       "\n",
       "    var x = canvas_pos.x * mpl.ratio;\n",
       "    var y = canvas_pos.y * mpl.ratio;\n",
       "\n",
       "    this.send_message(name, {x: x, y: y, button: event.button,\n",
       "                             step: event.step,\n",
       "                             guiEvent: simpleKeys(event)});\n",
       "\n",
       "    /* This prevents the web browser from automatically changing to\n",
       "     * the text insertion cursor when the button is pressed.  We want\n",
       "     * to control all of the cursor setting manually through the\n",
       "     * 'cursor' event from matplotlib */\n",
       "    event.preventDefault();\n",
       "    return false;\n",
       "}\n",
       "\n",
       "mpl.figure.prototype._key_event_extra = function(event, name) {\n",
       "    // Handle any extra behaviour associated with a key event\n",
       "}\n",
       "\n",
       "mpl.figure.prototype.key_event = function(event, name) {\n",
       "\n",
       "    // Prevent repeat events\n",
       "    if (name == 'key_press')\n",
       "    {\n",
       "        if (event.which === this._key)\n",
       "            return;\n",
       "        else\n",
       "            this._key = event.which;\n",
       "    }\n",
       "    if (name == 'key_release')\n",
       "        this._key = null;\n",
       "\n",
       "    var value = '';\n",
       "    if (event.ctrlKey && event.which != 17)\n",
       "        value += \"ctrl+\";\n",
       "    if (event.altKey && event.which != 18)\n",
       "        value += \"alt+\";\n",
       "    if (event.shiftKey && event.which != 16)\n",
       "        value += \"shift+\";\n",
       "\n",
       "    value += 'k';\n",
       "    value += event.which.toString();\n",
       "\n",
       "    this._key_event_extra(event, name);\n",
       "\n",
       "    this.send_message(name, {key: value,\n",
       "                             guiEvent: simpleKeys(event)});\n",
       "    return false;\n",
       "}\n",
       "\n",
       "mpl.figure.prototype.toolbar_button_onclick = function(name) {\n",
       "    if (name == 'download') {\n",
       "        this.handle_save(this, null);\n",
       "    } else {\n",
       "        this.send_message(\"toolbar_button\", {name: name});\n",
       "    }\n",
       "};\n",
       "\n",
       "mpl.figure.prototype.toolbar_button_onmouseover = function(tooltip) {\n",
       "    this.message.textContent = tooltip;\n",
       "};\n",
       "mpl.toolbar_items = [[\"Home\", \"Reset original view\", \"fa fa-home icon-home\", \"home\"], [\"Back\", \"Back to  previous view\", \"fa fa-arrow-left icon-arrow-left\", \"back\"], [\"Forward\", \"Forward to next view\", \"fa fa-arrow-right icon-arrow-right\", \"forward\"], [\"\", \"\", \"\", \"\"], [\"Pan\", \"Pan axes with left mouse, zoom with right\", \"fa fa-arrows icon-move\", \"pan\"], [\"Zoom\", \"Zoom to rectangle\", \"fa fa-square-o icon-check-empty\", \"zoom\"], [\"\", \"\", \"\", \"\"], [\"Download\", \"Download plot\", \"fa fa-floppy-o icon-save\", \"download\"]];\n",
       "\n",
       "mpl.extensions = [\"eps\", \"jpeg\", \"pdf\", \"png\", \"ps\", \"raw\", \"svg\", \"tif\"];\n",
       "\n",
       "mpl.default_extension = \"png\";var comm_websocket_adapter = function(comm) {\n",
       "    // Create a \"websocket\"-like object which calls the given IPython comm\n",
       "    // object with the appropriate methods. Currently this is a non binary\n",
       "    // socket, so there is still some room for performance tuning.\n",
       "    var ws = {};\n",
       "\n",
       "    ws.close = function() {\n",
       "        comm.close()\n",
       "    };\n",
       "    ws.send = function(m) {\n",
       "        //console.log('sending', m);\n",
       "        comm.send(m);\n",
       "    };\n",
       "    // Register the callback with on_msg.\n",
       "    comm.on_msg(function(msg) {\n",
       "        //console.log('receiving', msg['content']['data'], msg);\n",
       "        // Pass the mpl event to the overriden (by mpl) onmessage function.\n",
       "        ws.onmessage(msg['content']['data'])\n",
       "    });\n",
       "    return ws;\n",
       "}\n",
       "\n",
       "mpl.mpl_figure_comm = function(comm, msg) {\n",
       "    // This is the function which gets called when the mpl process\n",
       "    // starts-up an IPython Comm through the \"matplotlib\" channel.\n",
       "\n",
       "    var id = msg.content.data.id;\n",
       "    // Get hold of the div created by the display call when the Comm\n",
       "    // socket was opened in Python.\n",
       "    var element = $(\"#\" + id);\n",
       "    var ws_proxy = comm_websocket_adapter(comm)\n",
       "\n",
       "    function ondownload(figure, format) {\n",
       "        window.open(figure.imageObj.src);\n",
       "    }\n",
       "\n",
       "    var fig = new mpl.figure(id, ws_proxy,\n",
       "                           ondownload,\n",
       "                           element.get(0));\n",
       "\n",
       "    // Call onopen now - mpl needs it, as it is assuming we've passed it a real\n",
       "    // web socket which is closed, not our websocket->open comm proxy.\n",
       "    ws_proxy.onopen();\n",
       "\n",
       "    fig.parent_element = element.get(0);\n",
       "    fig.cell_info = mpl.find_output_cell(\"<div id='\" + id + \"'></div>\");\n",
       "    if (!fig.cell_info) {\n",
       "        console.error(\"Failed to find cell for figure\", id, fig);\n",
       "        return;\n",
       "    }\n",
       "\n",
       "    var output_index = fig.cell_info[2]\n",
       "    var cell = fig.cell_info[0];\n",
       "\n",
       "};\n",
       "\n",
       "mpl.figure.prototype.handle_close = function(fig, msg) {\n",
       "    var width = fig.canvas.width/mpl.ratio\n",
       "    fig.root.unbind('remove')\n",
       "\n",
       "    // Update the output cell to use the data from the current canvas.\n",
       "    fig.push_to_output();\n",
       "    var dataURL = fig.canvas.toDataURL();\n",
       "    // Re-enable the keyboard manager in IPython - without this line, in FF,\n",
       "    // the notebook keyboard shortcuts fail.\n",
       "    IPython.keyboard_manager.enable()\n",
       "    $(fig.parent_element).html('<img src=\"' + dataURL + '\" width=\"' + width + '\">');\n",
       "    fig.close_ws(fig, msg);\n",
       "}\n",
       "\n",
       "mpl.figure.prototype.close_ws = function(fig, msg){\n",
       "    fig.send_message('closing', msg);\n",
       "    // fig.ws.close()\n",
       "}\n",
       "\n",
       "mpl.figure.prototype.push_to_output = function(remove_interactive) {\n",
       "    // Turn the data on the canvas into data in the output cell.\n",
       "    var width = this.canvas.width/mpl.ratio\n",
       "    var dataURL = this.canvas.toDataURL();\n",
       "    this.cell_info[1]['text/html'] = '<img src=\"' + dataURL + '\" width=\"' + width + '\">';\n",
       "}\n",
       "\n",
       "mpl.figure.prototype.updated_canvas_event = function() {\n",
       "    // Tell IPython that the notebook contents must change.\n",
       "    IPython.notebook.set_dirty(true);\n",
       "    this.send_message(\"ack\", {});\n",
       "    var fig = this;\n",
       "    // Wait a second, then push the new image to the DOM so\n",
       "    // that it is saved nicely (might be nice to debounce this).\n",
       "    setTimeout(function () { fig.push_to_output() }, 1000);\n",
       "}\n",
       "\n",
       "mpl.figure.prototype._init_toolbar = function() {\n",
       "    var fig = this;\n",
       "\n",
       "    var nav_element = $('<div/>')\n",
       "    nav_element.attr('style', 'width: 100%');\n",
       "    this.root.append(nav_element);\n",
       "\n",
       "    // Define a callback function for later on.\n",
       "    function toolbar_event(event) {\n",
       "        return fig.toolbar_button_onclick(event['data']);\n",
       "    }\n",
       "    function toolbar_mouse_event(event) {\n",
       "        return fig.toolbar_button_onmouseover(event['data']);\n",
       "    }\n",
       "\n",
       "    for(var toolbar_ind in mpl.toolbar_items){\n",
       "        var name = mpl.toolbar_items[toolbar_ind][0];\n",
       "        var tooltip = mpl.toolbar_items[toolbar_ind][1];\n",
       "        var image = mpl.toolbar_items[toolbar_ind][2];\n",
       "        var method_name = mpl.toolbar_items[toolbar_ind][3];\n",
       "\n",
       "        if (!name) { continue; };\n",
       "\n",
       "        var button = $('<button class=\"btn btn-default\" href=\"#\" title=\"' + name + '\"><i class=\"fa ' + image + ' fa-lg\"></i></button>');\n",
       "        button.click(method_name, toolbar_event);\n",
       "        button.mouseover(tooltip, toolbar_mouse_event);\n",
       "        nav_element.append(button);\n",
       "    }\n",
       "\n",
       "    // Add the status bar.\n",
       "    var status_bar = $('<span class=\"mpl-message\" style=\"text-align:right; float: right;\"/>');\n",
       "    nav_element.append(status_bar);\n",
       "    this.message = status_bar[0];\n",
       "\n",
       "    // Add the close button to the window.\n",
       "    var buttongrp = $('<div class=\"btn-group inline pull-right\"></div>');\n",
       "    var button = $('<button class=\"btn btn-mini btn-primary\" href=\"#\" title=\"Stop Interaction\"><i class=\"fa fa-power-off icon-remove icon-large\"></i></button>');\n",
       "    button.click(function (evt) { fig.handle_close(fig, {}); } );\n",
       "    button.mouseover('Stop Interaction', toolbar_mouse_event);\n",
       "    buttongrp.append(button);\n",
       "    var titlebar = this.root.find($('.ui-dialog-titlebar'));\n",
       "    titlebar.prepend(buttongrp);\n",
       "}\n",
       "\n",
       "mpl.figure.prototype._root_extra_style = function(el){\n",
       "    var fig = this\n",
       "    el.on(\"remove\", function(){\n",
       "\tfig.close_ws(fig, {});\n",
       "    });\n",
       "}\n",
       "\n",
       "mpl.figure.prototype._canvas_extra_style = function(el){\n",
       "    // this is important to make the div 'focusable\n",
       "    el.attr('tabindex', 0)\n",
       "    // reach out to IPython and tell the keyboard manager to turn it's self\n",
       "    // off when our div gets focus\n",
       "\n",
       "    // location in version 3\n",
       "    if (IPython.notebook.keyboard_manager) {\n",
       "        IPython.notebook.keyboard_manager.register_events(el);\n",
       "    }\n",
       "    else {\n",
       "        // location in version 2\n",
       "        IPython.keyboard_manager.register_events(el);\n",
       "    }\n",
       "\n",
       "}\n",
       "\n",
       "mpl.figure.prototype._key_event_extra = function(event, name) {\n",
       "    var manager = IPython.notebook.keyboard_manager;\n",
       "    if (!manager)\n",
       "        manager = IPython.keyboard_manager;\n",
       "\n",
       "    // Check for shift+enter\n",
       "    if (event.shiftKey && event.which == 13) {\n",
       "        this.canvas_div.blur();\n",
       "        event.shiftKey = false;\n",
       "        // Send a \"J\" for go to next cell\n",
       "        event.which = 74;\n",
       "        event.keyCode = 74;\n",
       "        manager.command_mode();\n",
       "        manager.handle_keydown(event);\n",
       "    }\n",
       "}\n",
       "\n",
       "mpl.figure.prototype.handle_save = function(fig, msg) {\n",
       "    fig.ondownload(fig, null);\n",
       "}\n",
       "\n",
       "\n",
       "mpl.find_output_cell = function(html_output) {\n",
       "    // Return the cell and output element which can be found *uniquely* in the notebook.\n",
       "    // Note - this is a bit hacky, but it is done because the \"notebook_saving.Notebook\"\n",
       "    // IPython event is triggered only after the cells have been serialised, which for\n",
       "    // our purposes (turning an active figure into a static one), is too late.\n",
       "    var cells = IPython.notebook.get_cells();\n",
       "    var ncells = cells.length;\n",
       "    for (var i=0; i<ncells; i++) {\n",
       "        var cell = cells[i];\n",
       "        if (cell.cell_type === 'code'){\n",
       "            for (var j=0; j<cell.output_area.outputs.length; j++) {\n",
       "                var data = cell.output_area.outputs[j];\n",
       "                if (data.data) {\n",
       "                    // IPython >= 3 moved mimebundle to data attribute of output\n",
       "                    data = data.data;\n",
       "                }\n",
       "                if (data['text/html'] == html_output) {\n",
       "                    return [cell, data, j];\n",
       "                }\n",
       "            }\n",
       "        }\n",
       "    }\n",
       "}\n",
       "\n",
       "// Register the function which deals with the matplotlib target/channel.\n",
       "// The kernel may be null if the page has been refreshed.\n",
       "if (IPython.notebook.kernel != null) {\n",
       "    IPython.notebook.kernel.comm_manager.register_target('matplotlib', mpl.mpl_figure_comm);\n",
       "}\n"
      ],
      "text/plain": [
       "<IPython.core.display.Javascript object>"
      ]
     },
     "metadata": {},
     "output_type": "display_data"
    },
    {
     "data": {
      "text/html": [
       "<img src=\"data:image/png;base64,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\" width=\"990\">"
      ],
      "text/plain": [
       "<IPython.core.display.HTML object>"
      ]
     },
     "metadata": {},
     "output_type": "display_data"
    }
   ],
   "source": [
    "# Criando a tabela produtos.\n",
    "create_table()\n",
    "\n",
    "# Inserindo dados.\n",
    "data_insert()\n",
    "\n",
    "# Inserindo dados.\n",
    "data_insert_var()\n",
    "\n",
    "# Atualizando dados.\n",
    "atualiza_dados()\n",
    "\n",
    "# Gerando gráficos.\n",
    "dados_grafico()\n",
    "\n",
    "cursor.close()\n",
    "conexão.close()"
   ]
  },
  {
   "cell_type": "code",
   "execution_count": 89,
   "metadata": {},
   "outputs": [],
   "source": [
    "from pymongo import MongoClient"
   ]
  },
  {
   "cell_type": "code",
   "execution_count": 90,
   "metadata": {},
   "outputs": [],
   "source": [
    "conexão = MongoClient(\"localhost\", 27017)"
   ]
  },
  {
   "cell_type": "code",
   "execution_count": 91,
   "metadata": {},
   "outputs": [
    {
     "data": {
      "text/plain": [
       "pymongo.mongo_client.MongoClient"
      ]
     },
     "execution_count": 91,
     "metadata": {},
     "output_type": "execute_result"
    }
   ],
   "source": [
    "type(conexão)"
   ]
  },
  {
   "cell_type": "code",
   "execution_count": 92,
   "metadata": {},
   "outputs": [],
   "source": [
    "db = conexão.cadastroDb"
   ]
  },
  {
   "cell_type": "code",
   "execution_count": 93,
   "metadata": {},
   "outputs": [
    {
     "data": {
      "text/plain": [
       "pymongo.database.Database"
      ]
     },
     "execution_count": 93,
     "metadata": {},
     "output_type": "execute_result"
    }
   ],
   "source": [
    "type(db)"
   ]
  },
  {
   "cell_type": "code",
   "execution_count": 94,
   "metadata": {},
   "outputs": [],
   "source": [
    "collection = db.cadastroDb"
   ]
  },
  {
   "cell_type": "code",
   "execution_count": 95,
   "metadata": {},
   "outputs": [
    {
     "data": {
      "text/plain": [
       "pymongo.collection.Collection"
      ]
     },
     "execution_count": 95,
     "metadata": {},
     "output_type": "execute_result"
    }
   ],
   "source": [
    "type(collection)"
   ]
  },
  {
   "cell_type": "code",
   "execution_count": 96,
   "metadata": {},
   "outputs": [],
   "source": [
    "import datetime"
   ]
  },
  {
   "cell_type": "code",
   "execution_count": 117,
   "metadata": {},
   "outputs": [],
   "source": [
    "post1 = {\"codigo\": \"ID-9987725\",\n",
    "        \"prod_name\": \"Geladeira\",\n",
    "        \"marcas\": [\"brastemp\", \"consul\", \"electrolux\"],\n",
    "        \"data_cadastro\": datetime.datetime.utcnow()}"
   ]
  },
  {
   "cell_type": "code",
   "execution_count": 118,
   "metadata": {},
   "outputs": [
    {
     "data": {
      "text/plain": [
       "dict"
      ]
     },
     "execution_count": 118,
     "metadata": {},
     "output_type": "execute_result"
    }
   ],
   "source": [
    "type(post1)"
   ]
  },
  {
   "cell_type": "code",
   "execution_count": 119,
   "metadata": {},
   "outputs": [],
   "source": [
    "collection = db.posts"
   ]
  },
  {
   "cell_type": "code",
   "execution_count": 120,
   "metadata": {},
   "outputs": [],
   "source": [
    "post_id = collection.insert_one(post1)"
   ]
  },
  {
   "cell_type": "code",
   "execution_count": 121,
   "metadata": {},
   "outputs": [],
   "source": [
    "post_id = post_id.inserted_id"
   ]
  },
  {
   "cell_type": "code",
   "execution_count": 122,
   "metadata": {},
   "outputs": [
    {
     "data": {
      "text/plain": [
       "ObjectId('5a957bf132d1a41488c1bd4c')"
      ]
     },
     "execution_count": 122,
     "metadata": {},
     "output_type": "execute_result"
    }
   ],
   "source": [
    "post_id"
   ]
  },
  {
   "cell_type": "code",
   "execution_count": 123,
   "metadata": {},
   "outputs": [],
   "source": [
    "post2 = {\"codigo\": \"ID-2209876\",\n",
    "        \"prod_name\": \"Televisor\",\n",
    "        \"marcas\": [\"samsung\", \"panasonic\", \"lg\"],\n",
    "        \"data_cadastro\": datetime.datetime.utcnow()}"
   ]
  },
  {
   "cell_type": "code",
   "execution_count": 124,
   "metadata": {},
   "outputs": [],
   "source": [
    "collection = db.posts"
   ]
  },
  {
   "cell_type": "code",
   "execution_count": 125,
   "metadata": {},
   "outputs": [],
   "source": [
    "post_id = collection.insert_one(post2).inserted_id"
   ]
  },
  {
   "cell_type": "code",
   "execution_count": 126,
   "metadata": {},
   "outputs": [
    {
     "data": {
      "text/plain": [
       "ObjectId('5a957bf632d1a41488c1bd4d')"
      ]
     },
     "execution_count": 126,
     "metadata": {},
     "output_type": "execute_result"
    }
   ],
   "source": [
    "post_id"
   ]
  },
  {
   "cell_type": "code",
   "execution_count": 127,
   "metadata": {},
   "outputs": [
    {
     "data": {
      "text/plain": [
       "{'_id': ObjectId('5a957bce32d1a41488c1bd4b'),\n",
       " 'codigo': 'ID-2209876',\n",
       " 'data_cadastro': datetime.datetime(2018, 2, 27, 15, 39, 51, 514000),\n",
       " 'marcas': ['samsung', 'panasonic', 'lg'],\n",
       " 'prod_name': 'Televisor'}"
      ]
     },
     "execution_count": 127,
     "metadata": {},
     "output_type": "execute_result"
    }
   ],
   "source": [
    "collection.find_one({\"prod_name\": \"Televisor\"})"
   ]
  },
  {
   "cell_type": "code",
   "execution_count": 128,
   "metadata": {},
   "outputs": [
    {
     "name": "stdout",
     "output_type": "stream",
     "text": [
      "{'_id': ObjectId('5a957bb432d1a41488c1bd4a'), 'codigo': 'ID-9987725', 'prod_name': 'Geladeira', 'marcas': ['brastemp', 'consul', 'electrolux'], 'data_cadastro': 'data_teste'}\n",
      "{'_id': ObjectId('5a957bce32d1a41488c1bd4b'), 'codigo': 'ID-2209876', 'prod_name': 'Televisor', 'marcas': ['samsung', 'panasonic', 'lg'], 'data_cadastro': datetime.datetime(2018, 2, 27, 15, 39, 51, 514000)}\n",
      "{'_id': ObjectId('5a957bf132d1a41488c1bd4c'), 'codigo': 'ID-9987725', 'prod_name': 'Geladeira', 'marcas': ['brastemp', 'consul', 'electrolux'], 'data_cadastro': datetime.datetime(2018, 2, 27, 15, 40, 28, 435000)}\n",
      "{'_id': ObjectId('5a957bf632d1a41488c1bd4d'), 'codigo': 'ID-2209876', 'prod_name': 'Televisor', 'marcas': ['samsung', 'panasonic', 'lg'], 'data_cadastro': datetime.datetime(2018, 2, 27, 15, 40, 37, 135000)}\n"
     ]
    }
   ],
   "source": [
    "for post in collection.find():\n",
    "    print(post)"
   ]
  },
  {
   "cell_type": "code",
   "execution_count": 129,
   "metadata": {},
   "outputs": [
    {
     "data": {
      "text/plain": [
       "'cadastroDb'"
      ]
     },
     "execution_count": 129,
     "metadata": {},
     "output_type": "execute_result"
    }
   ],
   "source": [
    "db.name"
   ]
  },
  {
   "cell_type": "code",
   "execution_count": 130,
   "metadata": {},
   "outputs": [
    {
     "data": {
      "text/plain": [
       "['posts']"
      ]
     },
     "execution_count": 130,
     "metadata": {},
     "output_type": "execute_result"
    }
   ],
   "source": [
    "db.collection_names()"
   ]
  },
  {
   "cell_type": "code",
   "execution_count": null,
   "metadata": {},
   "outputs": [],
   "source": []
  },
  {
   "cell_type": "code",
   "execution_count": 134,
   "metadata": {},
   "outputs": [],
   "source": [
    "import pymongo"
   ]
  },
  {
   "cell_type": "code",
   "execution_count": 135,
   "metadata": {},
   "outputs": [],
   "source": [
    "mongo_connection = pymongo.MongoClient()"
   ]
  },
  {
   "cell_type": "code",
   "execution_count": 136,
   "metadata": {},
   "outputs": [
    {
     "data": {
      "text/plain": [
       "['admin', 'cadastroDb', 'config', 'local']"
      ]
     },
     "execution_count": 136,
     "metadata": {},
     "output_type": "execute_result"
    }
   ],
   "source": [
    "mongo_connection.database_names()"
   ]
  },
  {
   "cell_type": "code",
   "execution_count": 137,
   "metadata": {},
   "outputs": [],
   "source": [
    "db = mongo_connection.cadastroDb2"
   ]
  },
  {
   "cell_type": "code",
   "execution_count": 138,
   "metadata": {},
   "outputs": [
    {
     "data": {
      "text/plain": [
       "['admin', 'cadastroDb', 'config', 'local']"
      ]
     },
     "execution_count": 138,
     "metadata": {},
     "output_type": "execute_result"
    }
   ],
   "source": [
    "mongo_connection.database_names()"
   ]
  },
  {
   "cell_type": "code",
   "execution_count": 139,
   "metadata": {},
   "outputs": [
    {
     "data": {
      "text/plain": [
       "Collection(Database(MongoClient(host=['localhost:27017'], document_class=dict, tz_aware=False, connect=True), 'cadastroDb2'), 'myCollection')"
      ]
     },
     "execution_count": 139,
     "metadata": {},
     "output_type": "execute_result"
    }
   ],
   "source": [
    "db.create_collection(\"myCollection\")"
   ]
  },
  {
   "cell_type": "code",
   "execution_count": 140,
   "metadata": {},
   "outputs": [
    {
     "data": {
      "text/plain": [
       "['admin', 'cadastroDb', 'cadastroDb2', 'config', 'local']"
      ]
     },
     "execution_count": 140,
     "metadata": {},
     "output_type": "execute_result"
    }
   ],
   "source": [
    "mongo_connection.database_names()"
   ]
  },
  {
   "cell_type": "code",
   "execution_count": 145,
   "metadata": {},
   "outputs": [
    {
     "data": {
      "text/plain": [
       "<pymongo.results.InsertOneResult at 0x99a3f88>"
      ]
     },
     "execution_count": 145,
     "metadata": {},
     "output_type": "execute_result"
    }
   ],
   "source": [
    "db.myCollection.insert_one({\"5\":\"Teste5\"})"
   ]
  },
  {
   "cell_type": "code",
   "execution_count": 146,
   "metadata": {},
   "outputs": [
    {
     "data": {
      "text/plain": [
       "{'5': 'Teste5', '_id': ObjectId('5a957eb032d1a41488c1bd52')}"
      ]
     },
     "execution_count": 146,
     "metadata": {},
     "output_type": "execute_result"
    }
   ],
   "source": [
    "db.myCollection.find_one()"
   ]
  },
  {
   "cell_type": "code",
   "execution_count": 147,
   "metadata": {},
   "outputs": [],
   "source": [
    "doc1 = {\"Nome\": \"Jeann\",\"Sobrenome\":\"Câmara\",\"twitter\":\"@JeannCamara\"}"
   ]
  },
  {
   "cell_type": "code",
   "execution_count": 148,
   "metadata": {},
   "outputs": [
    {
     "data": {
      "text/plain": [
       "<pymongo.results.InsertOneResult at 0x9361f88>"
      ]
     },
     "execution_count": 148,
     "metadata": {},
     "output_type": "execute_result"
    }
   ],
   "source": [
    "db.myCollection.insert_one(doc1)"
   ]
  },
  {
   "cell_type": "code",
   "execution_count": 149,
   "metadata": {},
   "outputs": [],
   "source": [
    "doc2 = {\"Nome\": \"Jeann2\",\"Sobrenome\":\"Câmara2\",\"twitter\":\"@JeannCamara2\"}"
   ]
  },
  {
   "cell_type": "code",
   "execution_count": 150,
   "metadata": {},
   "outputs": [
    {
     "data": {
      "text/plain": [
       "<pymongo.results.InsertOneResult at 0x9351808>"
      ]
     },
     "execution_count": 150,
     "metadata": {},
     "output_type": "execute_result"
    }
   ],
   "source": [
    "db.myCollection.insert_one(doc2)"
   ]
  },
  {
   "cell_type": "code",
   "execution_count": 151,
   "metadata": {},
   "outputs": [
    {
     "name": "stdout",
     "output_type": "stream",
     "text": [
      "{'_id': ObjectId('5a957eb032d1a41488c1bd52'), '5': 'Teste5'}\n",
      "{'_id': ObjectId('5a957f4232d1a41488c1bd53'), 'Nome': 'Jeann', 'Sobrenome': 'Câmara', 'twitter': '@JeannCamara'}\n",
      "{'_id': ObjectId('5a957f6432d1a41488c1bd54'), 'Nome': 'Jeann2', 'Sobrenome': 'Câmara2', 'twitter': '@JeannCamara2'}\n"
     ]
    }
   ],
   "source": [
    "for rec in db.myCollection.find():\n",
    "    print(rec)"
   ]
  },
  {
   "cell_type": "code",
   "execution_count": 152,
   "metadata": {},
   "outputs": [],
   "source": [
    "col = db[\"myCollection\"]"
   ]
  },
  {
   "cell_type": "code",
   "execution_count": 153,
   "metadata": {},
   "outputs": [
    {
     "data": {
      "text/plain": [
       "pymongo.collection.Collection"
      ]
     },
     "execution_count": 153,
     "metadata": {},
     "output_type": "execute_result"
    }
   ],
   "source": [
    "type(col)"
   ]
  },
  {
   "cell_type": "code",
   "execution_count": 154,
   "metadata": {},
   "outputs": [
    {
     "data": {
      "text/plain": [
       "3"
      ]
     },
     "execution_count": 154,
     "metadata": {},
     "output_type": "execute_result"
    }
   ],
   "source": [
    "col.count()"
   ]
  },
  {
   "cell_type": "code",
   "execution_count": 167,
   "metadata": {},
   "outputs": [],
   "source": [
    "redoc = col.find_one()"
   ]
  },
  {
   "cell_type": "code",
   "execution_count": 168,
   "metadata": {},
   "outputs": [
    {
     "data": {
      "text/plain": [
       "{'5': 'Teste5', '_id': ObjectId('5a957eb032d1a41488c1bd52')}"
      ]
     },
     "execution_count": 168,
     "metadata": {},
     "output_type": "execute_result"
    }
   ],
   "source": [
    "redoc"
   ]
  },
  {
   "cell_type": "code",
   "execution_count": null,
   "metadata": {},
   "outputs": [],
   "source": []
  },
  {
   "cell_type": "code",
   "execution_count": 1,
   "metadata": {},
   "outputs": [],
   "source": [
    "import math"
   ]
  },
  {
   "cell_type": "code",
   "execution_count": 2,
   "metadata": {},
   "outputs": [
    {
     "data": {
      "text/plain": [
       "['__doc__',\n",
       " '__loader__',\n",
       " '__name__',\n",
       " '__package__',\n",
       " '__spec__',\n",
       " 'acos',\n",
       " 'acosh',\n",
       " 'asin',\n",
       " 'asinh',\n",
       " 'atan',\n",
       " 'atan2',\n",
       " 'atanh',\n",
       " 'ceil',\n",
       " 'copysign',\n",
       " 'cos',\n",
       " 'cosh',\n",
       " 'degrees',\n",
       " 'e',\n",
       " 'erf',\n",
       " 'erfc',\n",
       " 'exp',\n",
       " 'expm1',\n",
       " 'fabs',\n",
       " 'factorial',\n",
       " 'floor',\n",
       " 'fmod',\n",
       " 'frexp',\n",
       " 'fsum',\n",
       " 'gamma',\n",
       " 'gcd',\n",
       " 'hypot',\n",
       " 'inf',\n",
       " 'isclose',\n",
       " 'isfinite',\n",
       " 'isinf',\n",
       " 'isnan',\n",
       " 'ldexp',\n",
       " 'lgamma',\n",
       " 'log',\n",
       " 'log10',\n",
       " 'log1p',\n",
       " 'log2',\n",
       " 'modf',\n",
       " 'nan',\n",
       " 'pi',\n",
       " 'pow',\n",
       " 'radians',\n",
       " 'sin',\n",
       " 'sinh',\n",
       " 'sqrt',\n",
       " 'tan',\n",
       " 'tanh',\n",
       " 'tau',\n",
       " 'trunc']"
      ]
     },
     "execution_count": 2,
     "metadata": {},
     "output_type": "execute_result"
    }
   ],
   "source": [
    "dir(math)"
   ]
  },
  {
   "cell_type": "code",
   "execution_count": 3,
   "metadata": {},
   "outputs": [
    {
     "data": {
      "text/plain": [
       "5.0"
      ]
     },
     "execution_count": 3,
     "metadata": {},
     "output_type": "execute_result"
    }
   ],
   "source": [
    "math.sqrt(25)"
   ]
  },
  {
   "cell_type": "code",
   "execution_count": 4,
   "metadata": {},
   "outputs": [],
   "source": [
    "from math import sqrt"
   ]
  },
  {
   "cell_type": "code",
   "execution_count": 5,
   "metadata": {},
   "outputs": [
    {
     "data": {
      "text/plain": [
       "3.0"
      ]
     },
     "execution_count": 5,
     "metadata": {},
     "output_type": "execute_result"
    }
   ],
   "source": [
    "sqrt(9)"
   ]
  },
  {
   "cell_type": "code",
   "execution_count": 6,
   "metadata": {},
   "outputs": [
    {
     "name": "stdout",
     "output_type": "stream",
     "text": [
      "['__doc__', '__loader__', '__name__', '__package__', '__spec__', 'acos', 'acosh', 'asin', 'asinh', 'atan', 'atan2', 'atanh', 'ceil', 'copysign', 'cos', 'cosh', 'degrees', 'e', 'erf', 'erfc', 'exp', 'expm1', 'fabs', 'factorial', 'floor', 'fmod', 'frexp', 'fsum', 'gamma', 'gcd', 'hypot', 'inf', 'isclose', 'isfinite', 'isinf', 'isnan', 'ldexp', 'lgamma', 'log', 'log10', 'log1p', 'log2', 'modf', 'nan', 'pi', 'pow', 'radians', 'sin', 'sinh', 'sqrt', 'tan', 'tanh', 'tau', 'trunc']\n"
     ]
    }
   ],
   "source": [
    "print(dir(math))"
   ]
  },
  {
   "cell_type": "code",
   "execution_count": 7,
   "metadata": {},
   "outputs": [
    {
     "name": "stdout",
     "output_type": "stream",
     "text": [
      "Help on built-in function sqrt in module math:\n",
      "\n",
      "sqrt(...)\n",
      "    sqrt(x)\n",
      "    \n",
      "    Return the square root of x.\n",
      "\n"
     ]
    }
   ],
   "source": [
    "help(sqrt)"
   ]
  },
  {
   "cell_type": "code",
   "execution_count": 8,
   "metadata": {},
   "outputs": [],
   "source": [
    "import random"
   ]
  },
  {
   "cell_type": "code",
   "execution_count": 10,
   "metadata": {},
   "outputs": [
    {
     "data": {
      "text/plain": [
       "'Maça'"
      ]
     },
     "execution_count": 10,
     "metadata": {},
     "output_type": "execute_result"
    }
   ],
   "source": [
    "random.choice([\"Maça\",\"Banana\",\"Laranja\"])"
   ]
  },
  {
   "cell_type": "code",
   "execution_count": 12,
   "metadata": {},
   "outputs": [
    {
     "data": {
      "text/plain": [
       "[55, 56, 46, 13, 97, 3, 64, 76, 4, 0]"
      ]
     },
     "execution_count": 12,
     "metadata": {},
     "output_type": "execute_result"
    }
   ],
   "source": [
    "random.sample(range(100),10)"
   ]
  },
  {
   "cell_type": "code",
   "execution_count": 13,
   "metadata": {},
   "outputs": [],
   "source": [
    "import statistics"
   ]
  },
  {
   "cell_type": "code",
   "execution_count": 14,
   "metadata": {},
   "outputs": [],
   "source": [
    "dados = [0.5, 1.0, 1.5, 2.0, 2.5, 3.0, 3.5, 4.0]"
   ]
  },
  {
   "cell_type": "code",
   "execution_count": 15,
   "metadata": {},
   "outputs": [
    {
     "data": {
      "text/plain": [
       "2.25"
      ]
     },
     "execution_count": 15,
     "metadata": {},
     "output_type": "execute_result"
    }
   ],
   "source": [
    "statistics.mean(dados)"
   ]
  },
  {
   "cell_type": "code",
   "execution_count": 16,
   "metadata": {},
   "outputs": [
    {
     "data": {
      "text/plain": [
       "2.25"
      ]
     },
     "execution_count": 16,
     "metadata": {},
     "output_type": "execute_result"
    }
   ],
   "source": [
    "statistics.median(dados)"
   ]
  },
  {
   "cell_type": "code",
   "execution_count": 17,
   "metadata": {},
   "outputs": [
    {
     "data": {
      "text/plain": [
       "2.5"
      ]
     },
     "execution_count": 17,
     "metadata": {},
     "output_type": "execute_result"
    }
   ],
   "source": [
    "statistics.median_high(dados)"
   ]
  },
  {
   "cell_type": "code",
   "execution_count": 18,
   "metadata": {},
   "outputs": [],
   "source": [
    "import os"
   ]
  },
  {
   "cell_type": "code",
   "execution_count": 19,
   "metadata": {},
   "outputs": [
    {
     "data": {
      "text/plain": [
       "'C:\\\\Users\\\\d001110\\\\Desktop\\\\Data Science\\\\Projetos DSA'"
      ]
     },
     "execution_count": 19,
     "metadata": {},
     "output_type": "execute_result"
    }
   ],
   "source": [
    "os.getcwd()"
   ]
  },
  {
   "cell_type": "code",
   "execution_count": 20,
   "metadata": {},
   "outputs": [
    {
     "name": "stdout",
     "output_type": "stream",
     "text": [
      "['DirEntry', 'F_OK', 'MutableMapping', 'O_APPEND', 'O_BINARY', 'O_CREAT', 'O_EXCL', 'O_NOINHERIT', 'O_RANDOM', 'O_RDONLY', 'O_RDWR', 'O_SEQUENTIAL', 'O_SHORT_LIVED', 'O_TEMPORARY', 'O_TEXT', 'O_TRUNC', 'O_WRONLY', 'P_DETACH', 'P_NOWAIT', 'P_NOWAITO', 'P_OVERLAY', 'P_WAIT', 'PathLike', 'R_OK', 'SEEK_CUR', 'SEEK_END', 'SEEK_SET', 'TMP_MAX', 'W_OK', 'X_OK', '_Environ', '__all__', '__builtins__', '__cached__', '__doc__', '__file__', '__loader__', '__name__', '__package__', '__spec__', '_execvpe', '_exists', '_exit', '_fspath', '_get_exports_list', '_putenv', '_unsetenv', '_wrap_close', 'abc', 'abort', 'access', 'altsep', 'chdir', 'chmod', 'close', 'closerange', 'cpu_count', 'curdir', 'defpath', 'device_encoding', 'devnull', 'dup', 'dup2', 'environ', 'errno', 'error', 'execl', 'execle', 'execlp', 'execlpe', 'execv', 'execve', 'execvp', 'execvpe', 'extsep', 'fdopen', 'fsdecode', 'fsencode', 'fspath', 'fstat', 'fsync', 'ftruncate', 'get_exec_path', 'get_handle_inheritable', 'get_inheritable', 'get_terminal_size', 'getcwd', 'getcwdb', 'getenv', 'getlogin', 'getpid', 'getppid', 'isatty', 'kill', 'linesep', 'link', 'listdir', 'lseek', 'lstat', 'makedirs', 'mkdir', 'name', 'open', 'pardir', 'path', 'pathsep', 'pipe', 'popen', 'putenv', 'read', 'readlink', 'remove', 'removedirs', 'rename', 'renames', 'replace', 'rmdir', 'scandir', 'sep', 'set_handle_inheritable', 'set_inheritable', 'spawnl', 'spawnle', 'spawnv', 'spawnve', 'st', 'startfile', 'stat', 'stat_float_times', 'stat_result', 'statvfs_result', 'strerror', 'supports_bytes_environ', 'supports_dir_fd', 'supports_effective_ids', 'supports_fd', 'supports_follow_symlinks', 'symlink', 'sys', 'system', 'terminal_size', 'times', 'times_result', 'truncate', 'umask', 'uname_result', 'unlink', 'urandom', 'utime', 'waitpid', 'walk', 'write']\n"
     ]
    }
   ],
   "source": [
    "print(dir(os))"
   ]
  },
  {
   "cell_type": "code",
   "execution_count": 22,
   "metadata": {},
   "outputs": [],
   "source": [
    "import sys"
   ]
  },
  {
   "cell_type": "code",
   "execution_count": 23,
   "metadata": {},
   "outputs": [
    {
     "name": "stdout",
     "output_type": "stream",
     "text": [
      "teste"
     ]
    }
   ],
   "source": [
    "sys.stdout.write(\"teste\")"
   ]
  },
  {
   "cell_type": "code",
   "execution_count": 24,
   "metadata": {},
   "outputs": [
    {
     "data": {
      "text/plain": [
       "'3.6.4 |Anaconda, Inc.| (default, Jan 16 2018, 10:22:32) [MSC v.1900 64 bit (AMD64)]'"
      ]
     },
     "execution_count": 24,
     "metadata": {},
     "output_type": "execute_result"
    }
   ],
   "source": [
    "sys.version"
   ]
  },
  {
   "cell_type": "code",
   "execution_count": 28,
   "metadata": {},
   "outputs": [
    {
     "name": "stdout",
     "output_type": "stream",
     "text": [
      "['__displayhook__', '__doc__', '__excepthook__', '__interactivehook__', '__loader__', '__name__', '__package__', '__spec__', '__stderr__', '__stdin__', '__stdout__', '_clear_type_cache', '_current_frames', '_debugmallocstats', '_enablelegacywindowsfsencoding', '_getframe', '_git', '_home', '_xoptions', 'api_version', 'argv', 'base_exec_prefix', 'base_prefix', 'builtin_module_names', 'byteorder', 'call_tracing', 'callstats', 'copyright', 'displayhook', 'dllhandle', 'dont_write_bytecode', 'exc_info', 'excepthook', 'exec_prefix', 'executable', 'exit', 'flags', 'float_info', 'float_repr_style', 'get_asyncgen_hooks', 'get_coroutine_wrapper', 'getallocatedblocks', 'getcheckinterval', 'getdefaultencoding', 'getfilesystemencodeerrors', 'getfilesystemencoding', 'getprofile', 'getrecursionlimit', 'getrefcount', 'getsizeof', 'getswitchinterval', 'gettrace', 'getwindowsversion', 'hash_info', 'hexversion', 'implementation', 'int_info', 'intern', 'is_finalizing', 'last_traceback', 'last_type', 'last_value', 'maxsize', 'maxunicode', 'meta_path', 'modules', 'path', 'path_hooks', 'path_importer_cache', 'platform', 'prefix', 'ps1', 'ps2', 'ps3', 'set_asyncgen_hooks', 'set_coroutine_wrapper', 'setcheckinterval', 'setprofile', 'setrecursionlimit', 'setswitchinterval', 'settrace', 'stderr', 'stdin', 'stdout', 'thread_info', 'version', 'version_info', 'warnoptions', 'winver']\n"
     ]
    }
   ],
   "source": [
    "print(dir(sys))"
   ]
  },
  {
   "cell_type": "code",
   "execution_count": 25,
   "metadata": {},
   "outputs": [],
   "source": [
    "import urllib.request"
   ]
  },
  {
   "cell_type": "code",
   "execution_count": 37,
   "metadata": {},
   "outputs": [],
   "source": [
    "resposta = urllib.request.urlopen(\"http://python.org\")"
   ]
  },
  {
   "cell_type": "code",
   "execution_count": 38,
   "metadata": {},
   "outputs": [
    {
     "name": "stdout",
     "output_type": "stream",
     "text": [
      "<http.client.HTTPResponse object at 0x0000000008208400>\n"
     ]
    }
   ],
   "source": [
    "print(resposta)"
   ]
  },
  {
   "cell_type": "code",
   "execution_count": 39,
   "metadata": {},
   "outputs": [],
   "source": [
    "html = resposta.read()"
   ]
  },
  {
   "cell_type": "code",
   "execution_count": 40,
   "metadata": {},
   "outputs": [
    {
     "name": "stdout",
     "output_type": "stream",
     "text": [
      "b'<html>\\n<head>\\n<title>Your request is being redirected</title>\\n<style type=\"text/css\">\\n<!--\\n.container {\\n        background-color: #FFFFFF;\\n        border: 5px solid #999999;\\n        font-family:Tahoma,Helvetica,Arial,sans-serif;\\n        font-size:14px;\\n        margin: 20px;\\n        padding-top: 20px;\\n        padding-right: 45px;\\n        padding-bottom: 20px;\\n        padding-left: 45px;\\n}\\nbody,td,th {\\n        color: #000000;\\n}\\nbody {\\n        background-color: #5e6a71;\\n}\\nh1{\\n        font-size:22px;\\n        font-weight:bold;\\n        color:#8a0e1f;\\n}\\n-->\\n</style>\\n</head>\\n\\n<body>\\n<div class=\"container\">\\n<h1>Warning</h1>\\n<h2>Your request is being redirected to the Firewall Single Sign-On Facility</h2>\\n<hr>\\n<p>\\n<ul>\\n<li>\\n<strong>\\nSSO Redirect\\n</strong>\\n</li>\\n</ul>\\n<p>\\nYour request cannot be completed until authentication is complete.\\n</div>\\n</body>\\n</html>\\n'\n"
     ]
    }
   ],
   "source": [
    "print(html)"
   ]
  },
  {
   "cell_type": "code",
   "execution_count": null,
   "metadata": {},
   "outputs": [],
   "source": []
  },
  {
   "cell_type": "code",
   "execution_count": 47,
   "metadata": {},
   "outputs": [
    {
     "ename": "URLError",
     "evalue": "<urlopen error [Errno 11004] getaddrinfo failed>",
     "output_type": "error",
     "traceback": [
      "\u001b[1;31m---------------------------------------------------------------------------\u001b[0m",
      "\u001b[1;31mgaierror\u001b[0m                                  Traceback (most recent call last)",
      "\u001b[1;32mC:\\ProgramData\\Anaconda3\\lib\\urllib\\request.py\u001b[0m in \u001b[0;36mdo_open\u001b[1;34m(self, http_class, req, **http_conn_args)\u001b[0m\n\u001b[0;32m   1317\u001b[0m                 h.request(req.get_method(), req.selector, req.data, headers,\n\u001b[1;32m-> 1318\u001b[1;33m                           encode_chunked=req.has_header('Transfer-encoding'))\n\u001b[0m\u001b[0;32m   1319\u001b[0m             \u001b[1;32mexcept\u001b[0m \u001b[0mOSError\u001b[0m \u001b[1;32mas\u001b[0m \u001b[0merr\u001b[0m\u001b[1;33m:\u001b[0m \u001b[1;31m# timeout error\u001b[0m\u001b[1;33m\u001b[0m\u001b[0m\n",
      "\u001b[1;32mC:\\ProgramData\\Anaconda3\\lib\\http\\client.py\u001b[0m in \u001b[0;36mrequest\u001b[1;34m(self, method, url, body, headers, encode_chunked)\u001b[0m\n\u001b[0;32m   1238\u001b[0m         \u001b[1;34m\"\"\"Send a complete request to the server.\"\"\"\u001b[0m\u001b[1;33m\u001b[0m\u001b[0m\n\u001b[1;32m-> 1239\u001b[1;33m         \u001b[0mself\u001b[0m\u001b[1;33m.\u001b[0m\u001b[0m_send_request\u001b[0m\u001b[1;33m(\u001b[0m\u001b[0mmethod\u001b[0m\u001b[1;33m,\u001b[0m \u001b[0murl\u001b[0m\u001b[1;33m,\u001b[0m \u001b[0mbody\u001b[0m\u001b[1;33m,\u001b[0m \u001b[0mheaders\u001b[0m\u001b[1;33m,\u001b[0m \u001b[0mencode_chunked\u001b[0m\u001b[1;33m)\u001b[0m\u001b[1;33m\u001b[0m\u001b[0m\n\u001b[0m\u001b[0;32m   1240\u001b[0m \u001b[1;33m\u001b[0m\u001b[0m\n",
      "\u001b[1;32mC:\\ProgramData\\Anaconda3\\lib\\http\\client.py\u001b[0m in \u001b[0;36m_send_request\u001b[1;34m(self, method, url, body, headers, encode_chunked)\u001b[0m\n\u001b[0;32m   1284\u001b[0m             \u001b[0mbody\u001b[0m \u001b[1;33m=\u001b[0m \u001b[0m_encode\u001b[0m\u001b[1;33m(\u001b[0m\u001b[0mbody\u001b[0m\u001b[1;33m,\u001b[0m \u001b[1;34m'body'\u001b[0m\u001b[1;33m)\u001b[0m\u001b[1;33m\u001b[0m\u001b[0m\n\u001b[1;32m-> 1285\u001b[1;33m         \u001b[0mself\u001b[0m\u001b[1;33m.\u001b[0m\u001b[0mendheaders\u001b[0m\u001b[1;33m(\u001b[0m\u001b[0mbody\u001b[0m\u001b[1;33m,\u001b[0m \u001b[0mencode_chunked\u001b[0m\u001b[1;33m=\u001b[0m\u001b[0mencode_chunked\u001b[0m\u001b[1;33m)\u001b[0m\u001b[1;33m\u001b[0m\u001b[0m\n\u001b[0m\u001b[0;32m   1286\u001b[0m \u001b[1;33m\u001b[0m\u001b[0m\n",
      "\u001b[1;32mC:\\ProgramData\\Anaconda3\\lib\\http\\client.py\u001b[0m in \u001b[0;36mendheaders\u001b[1;34m(self, message_body, encode_chunked)\u001b[0m\n\u001b[0;32m   1233\u001b[0m             \u001b[1;32mraise\u001b[0m \u001b[0mCannotSendHeader\u001b[0m\u001b[1;33m(\u001b[0m\u001b[1;33m)\u001b[0m\u001b[1;33m\u001b[0m\u001b[0m\n\u001b[1;32m-> 1234\u001b[1;33m         \u001b[0mself\u001b[0m\u001b[1;33m.\u001b[0m\u001b[0m_send_output\u001b[0m\u001b[1;33m(\u001b[0m\u001b[0mmessage_body\u001b[0m\u001b[1;33m,\u001b[0m \u001b[0mencode_chunked\u001b[0m\u001b[1;33m=\u001b[0m\u001b[0mencode_chunked\u001b[0m\u001b[1;33m)\u001b[0m\u001b[1;33m\u001b[0m\u001b[0m\n\u001b[0m\u001b[0;32m   1235\u001b[0m \u001b[1;33m\u001b[0m\u001b[0m\n",
      "\u001b[1;32mC:\\ProgramData\\Anaconda3\\lib\\http\\client.py\u001b[0m in \u001b[0;36m_send_output\u001b[1;34m(self, message_body, encode_chunked)\u001b[0m\n\u001b[0;32m   1025\u001b[0m         \u001b[1;32mdel\u001b[0m \u001b[0mself\u001b[0m\u001b[1;33m.\u001b[0m\u001b[0m_buffer\u001b[0m\u001b[1;33m[\u001b[0m\u001b[1;33m:\u001b[0m\u001b[1;33m]\u001b[0m\u001b[1;33m\u001b[0m\u001b[0m\n\u001b[1;32m-> 1026\u001b[1;33m         \u001b[0mself\u001b[0m\u001b[1;33m.\u001b[0m\u001b[0msend\u001b[0m\u001b[1;33m(\u001b[0m\u001b[0mmsg\u001b[0m\u001b[1;33m)\u001b[0m\u001b[1;33m\u001b[0m\u001b[0m\n\u001b[0m\u001b[0;32m   1027\u001b[0m \u001b[1;33m\u001b[0m\u001b[0m\n",
      "\u001b[1;32mC:\\ProgramData\\Anaconda3\\lib\\http\\client.py\u001b[0m in \u001b[0;36msend\u001b[1;34m(self, data)\u001b[0m\n\u001b[0;32m    963\u001b[0m             \u001b[1;32mif\u001b[0m \u001b[0mself\u001b[0m\u001b[1;33m.\u001b[0m\u001b[0mauto_open\u001b[0m\u001b[1;33m:\u001b[0m\u001b[1;33m\u001b[0m\u001b[0m\n\u001b[1;32m--> 964\u001b[1;33m                 \u001b[0mself\u001b[0m\u001b[1;33m.\u001b[0m\u001b[0mconnect\u001b[0m\u001b[1;33m(\u001b[0m\u001b[1;33m)\u001b[0m\u001b[1;33m\u001b[0m\u001b[0m\n\u001b[0m\u001b[0;32m    965\u001b[0m             \u001b[1;32melse\u001b[0m\u001b[1;33m:\u001b[0m\u001b[1;33m\u001b[0m\u001b[0m\n",
      "\u001b[1;32mC:\\ProgramData\\Anaconda3\\lib\\http\\client.py\u001b[0m in \u001b[0;36mconnect\u001b[1;34m(self)\u001b[0m\n\u001b[0;32m    935\u001b[0m         self.sock = self._create_connection(\n\u001b[1;32m--> 936\u001b[1;33m             (self.host,self.port), self.timeout, self.source_address)\n\u001b[0m\u001b[0;32m    937\u001b[0m         \u001b[0mself\u001b[0m\u001b[1;33m.\u001b[0m\u001b[0msock\u001b[0m\u001b[1;33m.\u001b[0m\u001b[0msetsockopt\u001b[0m\u001b[1;33m(\u001b[0m\u001b[0msocket\u001b[0m\u001b[1;33m.\u001b[0m\u001b[0mIPPROTO_TCP\u001b[0m\u001b[1;33m,\u001b[0m \u001b[0msocket\u001b[0m\u001b[1;33m.\u001b[0m\u001b[0mTCP_NODELAY\u001b[0m\u001b[1;33m,\u001b[0m \u001b[1;36m1\u001b[0m\u001b[1;33m)\u001b[0m\u001b[1;33m\u001b[0m\u001b[0m\n",
      "\u001b[1;32mC:\\ProgramData\\Anaconda3\\lib\\socket.py\u001b[0m in \u001b[0;36mcreate_connection\u001b[1;34m(address, timeout, source_address)\u001b[0m\n\u001b[0;32m    703\u001b[0m     \u001b[0merr\u001b[0m \u001b[1;33m=\u001b[0m \u001b[1;32mNone\u001b[0m\u001b[1;33m\u001b[0m\u001b[0m\n\u001b[1;32m--> 704\u001b[1;33m     \u001b[1;32mfor\u001b[0m \u001b[0mres\u001b[0m \u001b[1;32min\u001b[0m \u001b[0mgetaddrinfo\u001b[0m\u001b[1;33m(\u001b[0m\u001b[0mhost\u001b[0m\u001b[1;33m,\u001b[0m \u001b[0mport\u001b[0m\u001b[1;33m,\u001b[0m \u001b[1;36m0\u001b[0m\u001b[1;33m,\u001b[0m \u001b[0mSOCK_STREAM\u001b[0m\u001b[1;33m)\u001b[0m\u001b[1;33m:\u001b[0m\u001b[1;33m\u001b[0m\u001b[0m\n\u001b[0m\u001b[0;32m    705\u001b[0m         \u001b[0maf\u001b[0m\u001b[1;33m,\u001b[0m \u001b[0msocktype\u001b[0m\u001b[1;33m,\u001b[0m \u001b[0mproto\u001b[0m\u001b[1;33m,\u001b[0m \u001b[0mcanonname\u001b[0m\u001b[1;33m,\u001b[0m \u001b[0msa\u001b[0m \u001b[1;33m=\u001b[0m \u001b[0mres\u001b[0m\u001b[1;33m\u001b[0m\u001b[0m\n",
      "\u001b[1;32mC:\\ProgramData\\Anaconda3\\lib\\socket.py\u001b[0m in \u001b[0;36mgetaddrinfo\u001b[1;34m(host, port, family, type, proto, flags)\u001b[0m\n\u001b[0;32m    744\u001b[0m     \u001b[0maddrlist\u001b[0m \u001b[1;33m=\u001b[0m \u001b[1;33m[\u001b[0m\u001b[1;33m]\u001b[0m\u001b[1;33m\u001b[0m\u001b[0m\n\u001b[1;32m--> 745\u001b[1;33m     \u001b[1;32mfor\u001b[0m \u001b[0mres\u001b[0m \u001b[1;32min\u001b[0m \u001b[0m_socket\u001b[0m\u001b[1;33m.\u001b[0m\u001b[0mgetaddrinfo\u001b[0m\u001b[1;33m(\u001b[0m\u001b[0mhost\u001b[0m\u001b[1;33m,\u001b[0m \u001b[0mport\u001b[0m\u001b[1;33m,\u001b[0m \u001b[0mfamily\u001b[0m\u001b[1;33m,\u001b[0m \u001b[0mtype\u001b[0m\u001b[1;33m,\u001b[0m \u001b[0mproto\u001b[0m\u001b[1;33m,\u001b[0m \u001b[0mflags\u001b[0m\u001b[1;33m)\u001b[0m\u001b[1;33m:\u001b[0m\u001b[1;33m\u001b[0m\u001b[0m\n\u001b[0m\u001b[0;32m    746\u001b[0m         \u001b[0maf\u001b[0m\u001b[1;33m,\u001b[0m \u001b[0msocktype\u001b[0m\u001b[1;33m,\u001b[0m \u001b[0mproto\u001b[0m\u001b[1;33m,\u001b[0m \u001b[0mcanonname\u001b[0m\u001b[1;33m,\u001b[0m \u001b[0msa\u001b[0m \u001b[1;33m=\u001b[0m \u001b[0mres\u001b[0m\u001b[1;33m\u001b[0m\u001b[0m\n",
      "\u001b[1;31mgaierror\u001b[0m: [Errno 11004] getaddrinfo failed",
      "\nDuring handling of the above exception, another exception occurred:\n",
      "\u001b[1;31mURLError\u001b[0m                                  Traceback (most recent call last)",
      "\u001b[1;32m<ipython-input-47-3d8bf93dd1ae>\u001b[0m in \u001b[0;36m<module>\u001b[1;34m()\u001b[0m\n\u001b[0;32m      6\u001b[0m \u001b[0mendereço\u001b[0m \u001b[1;33m=\u001b[0m \u001b[1;34m'http://real-chart.finance.yahoo.com/table.csv?s=PETR4.SA&d=9&e=17&f=2015&g=d&a=0&b=3&c=2000&ignore=.csv'\u001b[0m\u001b[1;33m\u001b[0m\u001b[0m\n\u001b[0;32m      7\u001b[0m \u001b[1;33m\u001b[0m\u001b[0m\n\u001b[1;32m----> 8\u001b[1;33m \u001b[0marquivo\u001b[0m \u001b[1;33m=\u001b[0m \u001b[0murlopen\u001b[0m\u001b[1;33m(\u001b[0m\u001b[0mendereço\u001b[0m\u001b[1;33m)\u001b[0m\u001b[1;33m\u001b[0m\u001b[0m\n\u001b[0m\u001b[0;32m      9\u001b[0m \u001b[1;33m\u001b[0m\u001b[0m\n\u001b[0;32m     10\u001b[0m \u001b[0mpetrobras\u001b[0m \u001b[1;33m=\u001b[0m \u001b[0mpandas\u001b[0m\u001b[1;33m.\u001b[0m\u001b[0mread_csv\u001b[0m\u001b[1;33m(\u001b[0m\u001b[0marquivo\u001b[0m\u001b[1;33m,\u001b[0m \u001b[0mindex_col\u001b[0m\u001b[1;33m=\u001b[0m\u001b[1;36m0\u001b[0m\u001b[1;33m,\u001b[0m \u001b[0mparse_dates\u001b[0m\u001b[1;33m=\u001b[0m\u001b[1;32mTrue\u001b[0m\u001b[1;33m)\u001b[0m\u001b[1;33m\u001b[0m\u001b[0m\n",
      "\u001b[1;32mC:\\ProgramData\\Anaconda3\\lib\\urllib\\request.py\u001b[0m in \u001b[0;36murlopen\u001b[1;34m(url, data, timeout, cafile, capath, cadefault, context)\u001b[0m\n\u001b[0;32m    221\u001b[0m     \u001b[1;32melse\u001b[0m\u001b[1;33m:\u001b[0m\u001b[1;33m\u001b[0m\u001b[0m\n\u001b[0;32m    222\u001b[0m         \u001b[0mopener\u001b[0m \u001b[1;33m=\u001b[0m \u001b[0m_opener\u001b[0m\u001b[1;33m\u001b[0m\u001b[0m\n\u001b[1;32m--> 223\u001b[1;33m     \u001b[1;32mreturn\u001b[0m \u001b[0mopener\u001b[0m\u001b[1;33m.\u001b[0m\u001b[0mopen\u001b[0m\u001b[1;33m(\u001b[0m\u001b[0murl\u001b[0m\u001b[1;33m,\u001b[0m \u001b[0mdata\u001b[0m\u001b[1;33m,\u001b[0m \u001b[0mtimeout\u001b[0m\u001b[1;33m)\u001b[0m\u001b[1;33m\u001b[0m\u001b[0m\n\u001b[0m\u001b[0;32m    224\u001b[0m \u001b[1;33m\u001b[0m\u001b[0m\n\u001b[0;32m    225\u001b[0m \u001b[1;32mdef\u001b[0m \u001b[0minstall_opener\u001b[0m\u001b[1;33m(\u001b[0m\u001b[0mopener\u001b[0m\u001b[1;33m)\u001b[0m\u001b[1;33m:\u001b[0m\u001b[1;33m\u001b[0m\u001b[0m\n",
      "\u001b[1;32mC:\\ProgramData\\Anaconda3\\lib\\urllib\\request.py\u001b[0m in \u001b[0;36mopen\u001b[1;34m(self, fullurl, data, timeout)\u001b[0m\n\u001b[0;32m    524\u001b[0m             \u001b[0mreq\u001b[0m \u001b[1;33m=\u001b[0m \u001b[0mmeth\u001b[0m\u001b[1;33m(\u001b[0m\u001b[0mreq\u001b[0m\u001b[1;33m)\u001b[0m\u001b[1;33m\u001b[0m\u001b[0m\n\u001b[0;32m    525\u001b[0m \u001b[1;33m\u001b[0m\u001b[0m\n\u001b[1;32m--> 526\u001b[1;33m         \u001b[0mresponse\u001b[0m \u001b[1;33m=\u001b[0m \u001b[0mself\u001b[0m\u001b[1;33m.\u001b[0m\u001b[0m_open\u001b[0m\u001b[1;33m(\u001b[0m\u001b[0mreq\u001b[0m\u001b[1;33m,\u001b[0m \u001b[0mdata\u001b[0m\u001b[1;33m)\u001b[0m\u001b[1;33m\u001b[0m\u001b[0m\n\u001b[0m\u001b[0;32m    527\u001b[0m \u001b[1;33m\u001b[0m\u001b[0m\n\u001b[0;32m    528\u001b[0m         \u001b[1;31m# post-process response\u001b[0m\u001b[1;33m\u001b[0m\u001b[1;33m\u001b[0m\u001b[0m\n",
      "\u001b[1;32mC:\\ProgramData\\Anaconda3\\lib\\urllib\\request.py\u001b[0m in \u001b[0;36m_open\u001b[1;34m(self, req, data)\u001b[0m\n\u001b[0;32m    542\u001b[0m         \u001b[0mprotocol\u001b[0m \u001b[1;33m=\u001b[0m \u001b[0mreq\u001b[0m\u001b[1;33m.\u001b[0m\u001b[0mtype\u001b[0m\u001b[1;33m\u001b[0m\u001b[0m\n\u001b[0;32m    543\u001b[0m         result = self._call_chain(self.handle_open, protocol, protocol +\n\u001b[1;32m--> 544\u001b[1;33m                                   '_open', req)\n\u001b[0m\u001b[0;32m    545\u001b[0m         \u001b[1;32mif\u001b[0m \u001b[0mresult\u001b[0m\u001b[1;33m:\u001b[0m\u001b[1;33m\u001b[0m\u001b[0m\n\u001b[0;32m    546\u001b[0m             \u001b[1;32mreturn\u001b[0m \u001b[0mresult\u001b[0m\u001b[1;33m\u001b[0m\u001b[0m\n",
      "\u001b[1;32mC:\\ProgramData\\Anaconda3\\lib\\urllib\\request.py\u001b[0m in \u001b[0;36m_call_chain\u001b[1;34m(self, chain, kind, meth_name, *args)\u001b[0m\n\u001b[0;32m    502\u001b[0m         \u001b[1;32mfor\u001b[0m \u001b[0mhandler\u001b[0m \u001b[1;32min\u001b[0m \u001b[0mhandlers\u001b[0m\u001b[1;33m:\u001b[0m\u001b[1;33m\u001b[0m\u001b[0m\n\u001b[0;32m    503\u001b[0m             \u001b[0mfunc\u001b[0m \u001b[1;33m=\u001b[0m \u001b[0mgetattr\u001b[0m\u001b[1;33m(\u001b[0m\u001b[0mhandler\u001b[0m\u001b[1;33m,\u001b[0m \u001b[0mmeth_name\u001b[0m\u001b[1;33m)\u001b[0m\u001b[1;33m\u001b[0m\u001b[0m\n\u001b[1;32m--> 504\u001b[1;33m             \u001b[0mresult\u001b[0m \u001b[1;33m=\u001b[0m \u001b[0mfunc\u001b[0m\u001b[1;33m(\u001b[0m\u001b[1;33m*\u001b[0m\u001b[0margs\u001b[0m\u001b[1;33m)\u001b[0m\u001b[1;33m\u001b[0m\u001b[0m\n\u001b[0m\u001b[0;32m    505\u001b[0m             \u001b[1;32mif\u001b[0m \u001b[0mresult\u001b[0m \u001b[1;32mis\u001b[0m \u001b[1;32mnot\u001b[0m \u001b[1;32mNone\u001b[0m\u001b[1;33m:\u001b[0m\u001b[1;33m\u001b[0m\u001b[0m\n\u001b[0;32m    506\u001b[0m                 \u001b[1;32mreturn\u001b[0m \u001b[0mresult\u001b[0m\u001b[1;33m\u001b[0m\u001b[0m\n",
      "\u001b[1;32mC:\\ProgramData\\Anaconda3\\lib\\urllib\\request.py\u001b[0m in \u001b[0;36mhttp_open\u001b[1;34m(self, req)\u001b[0m\n\u001b[0;32m   1344\u001b[0m \u001b[1;33m\u001b[0m\u001b[0m\n\u001b[0;32m   1345\u001b[0m     \u001b[1;32mdef\u001b[0m \u001b[0mhttp_open\u001b[0m\u001b[1;33m(\u001b[0m\u001b[0mself\u001b[0m\u001b[1;33m,\u001b[0m \u001b[0mreq\u001b[0m\u001b[1;33m)\u001b[0m\u001b[1;33m:\u001b[0m\u001b[1;33m\u001b[0m\u001b[0m\n\u001b[1;32m-> 1346\u001b[1;33m         \u001b[1;32mreturn\u001b[0m \u001b[0mself\u001b[0m\u001b[1;33m.\u001b[0m\u001b[0mdo_open\u001b[0m\u001b[1;33m(\u001b[0m\u001b[0mhttp\u001b[0m\u001b[1;33m.\u001b[0m\u001b[0mclient\u001b[0m\u001b[1;33m.\u001b[0m\u001b[0mHTTPConnection\u001b[0m\u001b[1;33m,\u001b[0m \u001b[0mreq\u001b[0m\u001b[1;33m)\u001b[0m\u001b[1;33m\u001b[0m\u001b[0m\n\u001b[0m\u001b[0;32m   1347\u001b[0m \u001b[1;33m\u001b[0m\u001b[0m\n\u001b[0;32m   1348\u001b[0m     \u001b[0mhttp_request\u001b[0m \u001b[1;33m=\u001b[0m \u001b[0mAbstractHTTPHandler\u001b[0m\u001b[1;33m.\u001b[0m\u001b[0mdo_request_\u001b[0m\u001b[1;33m\u001b[0m\u001b[0m\n",
      "\u001b[1;32mC:\\ProgramData\\Anaconda3\\lib\\urllib\\request.py\u001b[0m in \u001b[0;36mdo_open\u001b[1;34m(self, http_class, req, **http_conn_args)\u001b[0m\n\u001b[0;32m   1318\u001b[0m                           encode_chunked=req.has_header('Transfer-encoding'))\n\u001b[0;32m   1319\u001b[0m             \u001b[1;32mexcept\u001b[0m \u001b[0mOSError\u001b[0m \u001b[1;32mas\u001b[0m \u001b[0merr\u001b[0m\u001b[1;33m:\u001b[0m \u001b[1;31m# timeout error\u001b[0m\u001b[1;33m\u001b[0m\u001b[0m\n\u001b[1;32m-> 1320\u001b[1;33m                 \u001b[1;32mraise\u001b[0m \u001b[0mURLError\u001b[0m\u001b[1;33m(\u001b[0m\u001b[0merr\u001b[0m\u001b[1;33m)\u001b[0m\u001b[1;33m\u001b[0m\u001b[0m\n\u001b[0m\u001b[0;32m   1321\u001b[0m             \u001b[0mr\u001b[0m \u001b[1;33m=\u001b[0m \u001b[0mh\u001b[0m\u001b[1;33m.\u001b[0m\u001b[0mgetresponse\u001b[0m\u001b[1;33m(\u001b[0m\u001b[1;33m)\u001b[0m\u001b[1;33m\u001b[0m\u001b[0m\n\u001b[0;32m   1322\u001b[0m         \u001b[1;32mexcept\u001b[0m\u001b[1;33m:\u001b[0m\u001b[1;33m\u001b[0m\u001b[0m\n",
      "\u001b[1;31mURLError\u001b[0m: <urlopen error [Errno 11004] getaddrinfo failed>"
     ]
    }
   ],
   "source": [
    "from urllib.request import urlopen\n",
    "import matplotlib.pyplot as plt\n",
    "import pandas\n",
    "%matplotlib inline\n",
    "\n",
    "endereço = 'http://real-chart.finance.yahoo.com/table.csv?s=PETR4.SA&d=9&e=17&f=2015&g=d&a=0&b=3&c=2000&ignore=.csv'\n",
    "\n",
    "arquivo = urlopen(endereço)\n",
    "\n",
    "petrobras = pandas.read_csv(arquivo, index_col=0, parse_dates=True)\n",
    "petrobras.plot(y=\"adj close\")\n",
    "\n",
    "plt.xlabel(\"Ano\")\n",
    "plt.ylabel(\"Cotação\")\n",
    "plt.legend().set_visible(False)\n",
    "plt.show()"
   ]
  },
  {
   "cell_type": "code",
   "execution_count": null,
   "metadata": {},
   "outputs": [],
   "source": []
  },
  {
   "cell_type": "code",
   "execution_count": 48,
   "metadata": {},
   "outputs": [],
   "source": [
    "import pandas"
   ]
  },
  {
   "cell_type": "code",
   "execution_count": 49,
   "metadata": {},
   "outputs": [],
   "source": [
    "import pandas as pd"
   ]
  },
  {
   "cell_type": "code",
   "execution_count": 50,
   "metadata": {},
   "outputs": [],
   "source": [
    "from pandas import DataFrame"
   ]
  },
  {
   "cell_type": "code",
   "execution_count": 51,
   "metadata": {},
   "outputs": [
    {
     "data": {
      "text/html": [
       "<div>\n",
       "<style scoped>\n",
       "    .dataframe tbody tr th:only-of-type {\n",
       "        vertical-align: middle;\n",
       "    }\n",
       "\n",
       "    .dataframe tbody tr th {\n",
       "        vertical-align: top;\n",
       "    }\n",
       "\n",
       "    .dataframe thead th {\n",
       "        text-align: right;\n",
       "    }\n",
       "</style>\n",
       "<table border=\"1\" class=\"dataframe\">\n",
       "  <thead>\n",
       "    <tr style=\"text-align: right;\">\n",
       "      <th></th>\n",
       "      <th>Position Title</th>\n",
       "      <th>Department</th>\n",
       "      <th>Employee Annual Salary</th>\n",
       "    </tr>\n",
       "    <tr>\n",
       "      <th>Name</th>\n",
       "      <th></th>\n",
       "      <th></th>\n",
       "      <th></th>\n",
       "    </tr>\n",
       "  </thead>\n",
       "  <tbody>\n",
       "    <tr>\n",
       "      <th>AARON,  ELVIA J</th>\n",
       "      <td>WATER RATE TAKER</td>\n",
       "      <td>WATER MGMNT</td>\n",
       "      <td>$88968.00</td>\n",
       "    </tr>\n",
       "    <tr>\n",
       "      <th>AARON,  JEFFERY M</th>\n",
       "      <td>POLICE OFFICER</td>\n",
       "      <td>POLICE</td>\n",
       "      <td>$80778.00</td>\n",
       "    </tr>\n",
       "    <tr>\n",
       "      <th>AARON,  KARINA</th>\n",
       "      <td>POLICE OFFICER</td>\n",
       "      <td>POLICE</td>\n",
       "      <td>$80778.00</td>\n",
       "    </tr>\n",
       "    <tr>\n",
       "      <th>AARON,  KIMBERLEI R</th>\n",
       "      <td>CHIEF CONTRACT EXPEDITER</td>\n",
       "      <td>GENERAL SERVICES</td>\n",
       "      <td>$84780.00</td>\n",
       "    </tr>\n",
       "    <tr>\n",
       "      <th>ABAD JR,  VICENTE M</th>\n",
       "      <td>CIVIL ENGINEER IV</td>\n",
       "      <td>WATER MGMNT</td>\n",
       "      <td>$104736.00</td>\n",
       "    </tr>\n",
       "  </tbody>\n",
       "</table>\n",
       "</div>"
      ],
      "text/plain": [
       "                               Position Title        Department  \\\n",
       "Name                                                              \n",
       "AARON,  ELVIA J              WATER RATE TAKER       WATER MGMNT   \n",
       "AARON,  JEFFERY M              POLICE OFFICER            POLICE   \n",
       "AARON,  KARINA                 POLICE OFFICER            POLICE   \n",
       "AARON,  KIMBERLEI R  CHIEF CONTRACT EXPEDITER  GENERAL SERVICES   \n",
       "ABAD JR,  VICENTE M         CIVIL ENGINEER IV       WATER MGMNT   \n",
       "\n",
       "                    Employee Annual Salary  \n",
       "Name                                        \n",
       "AARON,  ELVIA J                  $88968.00  \n",
       "AARON,  JEFFERY M                $80778.00  \n",
       "AARON,  KARINA                   $80778.00  \n",
       "AARON,  KIMBERLEI R              $84780.00  \n",
       "ABAD JR,  VICENTE M             $104736.00  "
      ]
     },
     "execution_count": 51,
     "metadata": {},
     "output_type": "execute_result"
    }
   ],
   "source": [
    "petrobras.head()"
   ]
  },
  {
   "cell_type": "code",
   "execution_count": 52,
   "metadata": {},
   "outputs": [],
   "source": [
    "df = pd.DataFrame(petrobras)"
   ]
  },
  {
   "cell_type": "code",
   "execution_count": 53,
   "metadata": {},
   "outputs": [
    {
     "name": "stdout",
     "output_type": "stream",
     "text": [
      "                                                         Position Title  \\\n",
      "Name                                                                      \n",
      "AARON,  ELVIA J                                        WATER RATE TAKER   \n",
      "AARON,  JEFFERY M                                        POLICE OFFICER   \n",
      "AARON,  KARINA                                           POLICE OFFICER   \n",
      "AARON,  KIMBERLEI R                            CHIEF CONTRACT EXPEDITER   \n",
      "ABAD JR,  VICENTE M                                   CIVIL ENGINEER IV   \n",
      "ABARCA,  ANABEL                                    ASST TO THE ALDERMAN   \n",
      "ABARCA,  EMMANUEL                                 GENERAL LABORER - DSS   \n",
      "ABBATACOLA,  ROBERT J                               ELECTRICAL MECHANIC   \n",
      "ABBATEMARCO,  JAMES J                                     FIRE ENGINEER   \n",
      "ABBATE,  TERRY M                                         POLICE OFFICER   \n",
      "ABBOTT,  BETTY L                                     FOSTER GRANDPARENT   \n",
      "ABBOTT,  LYNISE M                                             CLERK III   \n",
      "ABBRUZZESE,  WILLIAM J                           INVESTIGATOR - IPRA II   \n",
      "ABDALLAH,  ZAID                                          POLICE OFFICER   \n",
      "ABDELHADI,  ABDALMAHD                                    POLICE OFFICER   \n",
      "ABDELLATIF,  AREF R       FIREFIGHTER (PER ARBITRATORS AWARD)-PARAMEDIC   \n",
      "ABDELMAJEID,  AZIZ                                       POLICE OFFICER   \n",
      "ABDOLLAHZADEH,  ALI                               FIREFIGHTER/PARAMEDIC   \n",
      "ABDUL-KARIM,  MUHAMMAD A                      ENGINEERING TECHNICIAN VI   \n",
      "ABDULLAH,  DANIEL N                                     FIREFIGHTER-EMT   \n",
      "ABDULLAH,  KEVIN                                             LIEUTENANT   \n",
      "ABDULLAH,  LAKENYA N                                     CROSSING GUARD   \n",
      "ABDULLAH,  RASHAD J             ELECTRICAL MECHANIC-AUTO-POLICE MTR MNT   \n",
      "ABDUL-SHAKUR,  TAHIR                              GENERAL LABORER - DSS   \n",
      "ABEJERO,  JASON V                                        POLICE OFFICER   \n",
      "ABERCROMBIE IV,  EARL S                                       PARAMEDIC   \n",
      "ABERCROMBIE,  TIMOTHY                                MOTOR TRUCK DRIVER   \n",
      "ABIOYE,  ADEWOLE A                           LIBRARY ASSOCIATE - HOURLY   \n",
      "ABOUELKHEIR,  HASSAN A                        SENIOR PROGRAMMER/ANALYST   \n",
      "ABRAHAM,  GIRLEY T                                    CIVIL ENGINEER IV   \n",
      "...                                                                 ...   \n",
      "ZUNIGA,  JURDON                                          POLICE OFFICER   \n",
      "ZUNIGA,  OSCAR                                           POLICE OFFICER   \n",
      "ZUNIGA,  RONALD                                          POLICE OFFICER   \n",
      "ZUNIGA,  THOMAS                                   GENERAL LABORER - DSS   \n",
      "ZUNIGA,  VICENTE                                        FIREFIGHTER-EMT   \n",
      "ZUNO,  ERIK                                        LABORER - APPRENTICE   \n",
      "ZUPAN,  BILL M                                           LIEUTENANT-EMT   \n",
      "ZUPANCIC,  KELLY                                         POLICE OFFICER   \n",
      "ZUPAN,  VICTORIA J                                       POLICE OFFICER   \n",
      "ZURAWSKI,  CAROL A                                       CROSSING GUARD   \n",
      "ZURAWSKI,  JEFFREY                       FRM OF MACHINISTS - AUTOMOTIVE   \n",
      "ZURAWSKI,  MAC Z                                     SANITATION LABORER   \n",
      "ZURAWSKI,  MARY E                                        POLICE OFFICER   \n",
      "ZUREK,  FRANCIS                                     ELECTRICAL MECHANIC   \n",
      "ZUREK,  MARY H                        SENIOR PUBLIC INFORMATION OFFICER   \n",
      "ZURITA,  ADRIEL                                          POLICE OFFICER   \n",
      "ZVANJA,  TINA M                                         LEGAL SECRETARY   \n",
      "ZWARYCZ MANN,  IRENE A                                   CROSSING GUARD   \n",
      "ZWARYCZ,  THOMAS J                              POOL MOTOR TRUCK DRIVER   \n",
      "ZWIESLER,  MATTHEW                          AIRPORT OPERATIONS SUPVSR I   \n",
      "ZWIT,  JEFFREY J                                         POLICE OFFICER   \n",
      "ZWOLFER,  MATTHEW W                                     FIREFIGHTER-EMT   \n",
      "ZYDEK,  BRYAN                                            POLICE OFFICER   \n",
      "ZYGADLO,  JOHN P                                 MACHINIST (AUTOMOTIVE)   \n",
      "ZYGADLO,  MICHAEL J                      FRM OF MACHINISTS - AUTOMOTIVE   \n",
      "ZYGOWICZ,  PETER J                                       POLICE OFFICER   \n",
      "ZYMANTAS,  MARK E                                        POLICE OFFICER   \n",
      "ZYRKOWSKI,  CARLO E                                      POLICE OFFICER   \n",
      "ZYSKOWSKI,  DARIUSZ                             CHIEF DATA BASE ANALYST   \n",
      "NaN                                                                 NaN   \n",
      "\n",
      "                                Department Employee Annual Salary  \n",
      "Name                                                               \n",
      "AARON,  ELVIA J                WATER MGMNT              $88968.00  \n",
      "AARON,  JEFFERY M                   POLICE              $80778.00  \n",
      "AARON,  KARINA                      POLICE              $80778.00  \n",
      "AARON,  KIMBERLEI R       GENERAL SERVICES              $84780.00  \n",
      "ABAD JR,  VICENTE M            WATER MGMNT             $104736.00  \n",
      "ABARCA,  ANABEL               CITY COUNCIL              $70764.00  \n",
      "ABARCA,  EMMANUEL            STREETS & SAN              $40560.00  \n",
      "ABBATACOLA,  ROBERT J             AVIATION              $91520.00  \n",
      "ABBATEMARCO,  JAMES J                 FIRE              $90456.00  \n",
      "ABBATE,  TERRY M                    POLICE              $86520.00  \n",
      "ABBOTT,  BETTY L          FAMILY & SUPPORT               $2756.00  \n",
      "ABBOTT,  LYNISE M                   POLICE              $43920.00  \n",
      "ABBRUZZESE,  WILLIAM J                IPRA              $72468.00  \n",
      "ABDALLAH,  ZAID                     POLICE              $69684.00  \n",
      "ABDELHADI,  ABDALMAHD               POLICE              $80778.00  \n",
      "ABDELLATIF,  AREF R                   FIRE              $98244.00  \n",
      "ABDELMAJEID,  AZIZ                  POLICE              $80778.00  \n",
      "ABDOLLAHZADEH,  ALI                   FIRE              $87720.00  \n",
      "ABDUL-KARIM,  MUHAMMAD A       WATER MGMNT             $106104.00  \n",
      "ABDULLAH,  DANIEL N                   FIRE              $91764.00  \n",
      "ABDULLAH,  KEVIN                      FIRE             $110370.00  \n",
      "ABDULLAH,  LAKENYA N                POLICE              $16692.00  \n",
      "ABDULLAH,  RASHAD J       GENERAL SERVICES              $91520.00  \n",
      "ABDUL-SHAKUR,  TAHIR         STREETS & SAN              $40560.00  \n",
      "ABEJERO,  JASON V                   POLICE              $86520.00  \n",
      "ABERCROMBIE IV,  EARL S               FIRE              $54114.00  \n",
      "ABERCROMBIE,  TIMOTHY        STREETS & SAN              $71780.80  \n",
      "ABIOYE,  ADEWOLE A          PUBLIC LIBRARY              $24835.20  \n",
      "ABOUELKHEIR,  HASSAN A                DoIT             $104736.00  \n",
      "ABRAHAM,  GIRLEY T             WATER MGMNT             $104736.00  \n",
      "...                                    ...                    ...  \n",
      "ZUNIGA,  JURDON                     POLICE              $69684.00  \n",
      "ZUNIGA,  OSCAR                      POLICE              $69684.00  \n",
      "ZUNIGA,  RONALD                     POLICE              $86520.00  \n",
      "ZUNIGA,  THOMAS              STREETS & SAN              $43201.60  \n",
      "ZUNIGA,  VICENTE                      FIRE              $88680.00  \n",
      "ZUNO,  ERIK                    WATER MGMNT              $63232.00  \n",
      "ZUPAN,  BILL M                        FIRE             $106524.00  \n",
      "ZUPANCIC,  KELLY                    POLICE              $46206.00  \n",
      "ZUPAN,  VICTORIA J                  POLICE              $80778.00  \n",
      "ZURAWSKI,  CAROL A                  POLICE              $21080.80  \n",
      "ZURAWSKI,  JEFFREY        GENERAL SERVICES              $97448.00  \n",
      "ZURAWSKI,  MAC Z             STREETS & SAN              $72384.00  \n",
      "ZURAWSKI,  MARY E                   POLICE              $89718.00  \n",
      "ZUREK,  FRANCIS                       OEMC              $91520.00  \n",
      "ZUREK,  MARY H                     FINANCE              $80916.00  \n",
      "ZURITA,  ADRIEL                     POLICE              $46206.00  \n",
      "ZVANJA,  TINA M                        LAW              $69888.00  \n",
      "ZWARYCZ MANN,  IRENE A              POLICE              $16692.00  \n",
      "ZWARYCZ,  THOMAS J             WATER MGMNT              $71780.80  \n",
      "ZWIESLER,  MATTHEW                AVIATION              $69840.00  \n",
      "ZWIT,  JEFFREY J                    POLICE              $83616.00  \n",
      "ZWOLFER,  MATTHEW W                   FIRE              $91764.00  \n",
      "ZYDEK,  BRYAN                       POLICE              $80778.00  \n",
      "ZYGADLO,  JOHN P          GENERAL SERVICES              $92248.00  \n",
      "ZYGADLO,  MICHAEL J       GENERAL SERVICES              $97448.00  \n",
      "ZYGOWICZ,  PETER J                  POLICE              $86520.00  \n",
      "ZYMANTAS,  MARK E                   POLICE              $83616.00  \n",
      "ZYRKOWSKI,  CARLO E                 POLICE              $86520.00  \n",
      "ZYSKOWSKI,  DARIUSZ                   DoIT             $110352.00  \n",
      "NaN                                    NaN                    NaN  \n",
      "\n",
      "[32182 rows x 3 columns]\n"
     ]
    }
   ],
   "source": [
    "print(df)"
   ]
  },
  {
   "cell_type": "code",
   "execution_count": null,
   "metadata": {},
   "outputs": [],
   "source": []
  },
  {
   "cell_type": "code",
   "execution_count": 55,
   "metadata": {},
   "outputs": [],
   "source": [
    "def fahrenheit(T):\n",
    "    return ( (float(9) / 5) * T + 32)\n",
    "\n",
    "def celsius(T):\n",
    "    return (float(5) / 9) * (T-32)"
   ]
  },
  {
   "cell_type": "code",
   "execution_count": 56,
   "metadata": {},
   "outputs": [],
   "source": [
    "temperaturas = [0, 20, 40, 60, 80, 100]"
   ]
  },
  {
   "cell_type": "code",
   "execution_count": 59,
   "metadata": {},
   "outputs": [
    {
     "data": {
      "text/plain": [
       "[32.0, 68.0, 104.0, 140.0, 176.0, 212.0]"
      ]
     },
     "execution_count": 59,
     "metadata": {},
     "output_type": "execute_result"
    }
   ],
   "source": [
    "list(map(fahrenheit,temperaturas))"
   ]
  },
  {
   "cell_type": "code",
   "execution_count": 61,
   "metadata": {},
   "outputs": [
    {
     "name": "stdout",
     "output_type": "stream",
     "text": [
      "[-17.77777777777778, -6.666666666666667, 4.444444444444445, 15.555555555555557, 26.666666666666668, 37.77777777777778]\n"
     ]
    }
   ],
   "source": [
    "print(list(map(celsius,temperaturas)))"
   ]
  },
  {
   "cell_type": "code",
   "execution_count": 62,
   "metadata": {},
   "outputs": [
    {
     "data": {
      "text/plain": [
       "[-17.77777777777778,\n",
       " -6.666666666666667,\n",
       " 4.444444444444445,\n",
       " 15.555555555555557,\n",
       " 26.666666666666668,\n",
       " 37.77777777777778]"
      ]
     },
     "execution_count": 62,
     "metadata": {},
     "output_type": "execute_result"
    }
   ],
   "source": [
    "list(map(lambda t: (5.0 / 9) * (t - 32), temperaturas))"
   ]
  },
  {
   "cell_type": "code",
   "execution_count": 63,
   "metadata": {},
   "outputs": [
    {
     "name": "stdout",
     "output_type": "stream",
     "text": [
      "[-17.77777777777778, -6.666666666666667, 4.444444444444445, 15.555555555555557, 26.666666666666668, 37.77777777777778]\n"
     ]
    }
   ],
   "source": [
    "print(list(map(lambda t: (float(5) / 9) * (t-32), temperaturas)))"
   ]
  },
  {
   "cell_type": "code",
   "execution_count": null,
   "metadata": {},
   "outputs": [],
   "source": []
  },
  {
   "cell_type": "code",
   "execution_count": 64,
   "metadata": {},
   "outputs": [],
   "source": [
    "from functools import reduce\n"
   ]
  },
  {
   "cell_type": "code",
   "execution_count": 65,
   "metadata": {},
   "outputs": [],
   "source": [
    "lista = [10,11,12,13]"
   ]
  },
  {
   "cell_type": "code",
   "execution_count": 66,
   "metadata": {},
   "outputs": [
    {
     "data": {
      "text/plain": [
       "[10, 11, 12, 13]"
      ]
     },
     "execution_count": 66,
     "metadata": {},
     "output_type": "execute_result"
    }
   ],
   "source": [
    "lista"
   ]
  },
  {
   "cell_type": "code",
   "execution_count": 67,
   "metadata": {},
   "outputs": [],
   "source": [
    "def soma(a,b):\n",
    "    return a + b "
   ]
  },
  {
   "cell_type": "code",
   "execution_count": 68,
   "metadata": {},
   "outputs": [
    {
     "data": {
      "text/plain": [
       "46"
      ]
     },
     "execution_count": 68,
     "metadata": {},
     "output_type": "execute_result"
    }
   ],
   "source": [
    "reduce(soma,lista)"
   ]
  },
  {
   "cell_type": "code",
   "execution_count": 71,
   "metadata": {},
   "outputs": [
    {
     "data": {
      "image/png": "[encoded data removed]",
      "text/plain": [
       "<IPython.core.display.Image object>"
      ]
     },
     "execution_count": 71,
     "metadata": {},
     "output_type": "execute_result"
    }
   ],
   "source": [
    "from IPython.display import Image\n",
    "Image('reduce.png')"
   ]
  },
  {
   "cell_type": "code",
   "execution_count": 72,
   "metadata": {},
   "outputs": [
    {
     "data": {
      "text/plain": [
       "46"
      ]
     },
     "execution_count": 72,
     "metadata": {},
     "output_type": "execute_result"
    }
   ],
   "source": [
    "reduce(lambda x,y: x+y, lista)"
   ]
  },
  {
   "cell_type": "code",
   "execution_count": 73,
   "metadata": {},
   "outputs": [],
   "source": [
    "max_find2 = lambda a,b: a if(a > b) else b"
   ]
  },
  {
   "cell_type": "code",
   "execution_count": 74,
   "metadata": {},
   "outputs": [
    {
     "data": {
      "text/plain": [
       "function"
      ]
     },
     "execution_count": 74,
     "metadata": {},
     "output_type": "execute_result"
    }
   ],
   "source": [
    "type(max_find2)"
   ]
  },
  {
   "cell_type": "code",
   "execution_count": 75,
   "metadata": {},
   "outputs": [
    {
     "data": {
      "text/plain": [
       "13"
      ]
     },
     "execution_count": 75,
     "metadata": {},
     "output_type": "execute_result"
    }
   ],
   "source": [
    "reduce(max_find2, lista)"
   ]
  },
  {
   "cell_type": "code",
   "execution_count": null,
   "metadata": {},
   "outputs": [],
   "source": []
  },
  {
   "cell_type": "code",
   "execution_count": 76,
   "metadata": {},
   "outputs": [],
   "source": [
    "def verificaPar(num):\n",
    "    return num % 2 == 0"
   ]
  },
  {
   "cell_type": "code",
   "execution_count": 78,
   "metadata": {},
   "outputs": [
    {
     "data": {
      "text/plain": [
       "True"
      ]
     },
     "execution_count": 78,
     "metadata": {},
     "output_type": "execute_result"
    }
   ],
   "source": [
    "verificaPar(34)"
   ]
  },
  {
   "cell_type": "code",
   "execution_count": 80,
   "metadata": {},
   "outputs": [],
   "source": [
    "lista = [0, 1, 2, 3, 4, 5, 6, 7, 8, 9, 10, 11, 12, 13, 14, 15, 16, 17, 18, 19, 20]"
   ]
  },
  {
   "cell_type": "code",
   "execution_count": 81,
   "metadata": {},
   "outputs": [
    {
     "data": {
      "text/plain": [
       "[0, 2, 4, 6, 8, 10, 12, 14, 16, 18, 20]"
      ]
     },
     "execution_count": 81,
     "metadata": {},
     "output_type": "execute_result"
    }
   ],
   "source": [
    "list(filter(verificaPar, lista))"
   ]
  },
  {
   "cell_type": "code",
   "execution_count": 82,
   "metadata": {},
   "outputs": [
    {
     "data": {
      "text/plain": [
       "[0, 2, 4, 6, 8, 10, 12, 14, 16, 18, 20]"
      ]
     },
     "execution_count": 82,
     "metadata": {},
     "output_type": "execute_result"
    }
   ],
   "source": [
    "list(filter(lambda x: x % 2 == 0, lista))"
   ]
  },
  {
   "cell_type": "code",
   "execution_count": 84,
   "metadata": {},
   "outputs": [
    {
     "data": {
      "text/plain": [
       "[14, 15, 16, 17, 18, 19, 20]"
      ]
     },
     "execution_count": 84,
     "metadata": {},
     "output_type": "execute_result"
    }
   ],
   "source": [
    "list(filter(lambda x: x > 13, lista))"
   ]
  },
  {
   "cell_type": "code",
   "execution_count": null,
   "metadata": {},
   "outputs": [],
   "source": []
  },
  {
   "cell_type": "code",
   "execution_count": 85,
   "metadata": {},
   "outputs": [],
   "source": [
    "lista = [x for x in \"python\"]"
   ]
  },
  {
   "cell_type": "code",
   "execution_count": 86,
   "metadata": {},
   "outputs": [
    {
     "data": {
      "text/plain": [
       "['p', 'y', 't', 'h', 'o', 'n']"
      ]
     },
     "execution_count": 86,
     "metadata": {},
     "output_type": "execute_result"
    }
   ],
   "source": [
    "lista"
   ]
  },
  {
   "cell_type": "code",
   "execution_count": 88,
   "metadata": {},
   "outputs": [
    {
     "data": {
      "text/plain": [
       "[0, 2, 4, 6, 8, 10]"
      ]
     },
     "execution_count": 88,
     "metadata": {},
     "output_type": "execute_result"
    }
   ],
   "source": [
    "lista = [x for x in range(11) if x % 2 == 0]\n",
    "lista"
   ]
  },
  {
   "cell_type": "code",
   "execution_count": 89,
   "metadata": {},
   "outputs": [
    {
     "data": {
      "text/plain": [
       "[32.0, 33.8, 35.6, 37.4, 39.2, 41.0]"
      ]
     },
     "execution_count": 89,
     "metadata": {},
     "output_type": "execute_result"
    }
   ],
   "source": [
    "celsius = [0, 1, 2, 3, 4, 5]\n",
    "\n",
    "fahrenheit = [((float(9) / 5) * temp + 32) for temp in celsius]\n",
    "\n",
    "fahrenheit"
   ]
  },
  {
   "cell_type": "code",
   "execution_count": 90,
   "metadata": {},
   "outputs": [],
   "source": [
    "lista = [x ** 2 for x in [x ** 2 for x in range(11)]]"
   ]
  },
  {
   "cell_type": "code",
   "execution_count": 91,
   "metadata": {},
   "outputs": [
    {
     "data": {
      "text/plain": [
       "[0, 1, 16, 81, 256, 625, 1296, 2401, 4096, 6561, 10000]"
      ]
     },
     "execution_count": 91,
     "metadata": {},
     "output_type": "execute_result"
    }
   ],
   "source": [
    "lista"
   ]
  },
  {
   "cell_type": "code",
   "execution_count": null,
   "metadata": {},
   "outputs": [],
   "source": []
  },
  {
   "cell_type": "code",
   "execution_count": 92,
   "metadata": {},
   "outputs": [],
   "source": [
    "x = [1, 2, 3]\n",
    "\n",
    "y = [4, 5, 6]"
   ]
  },
  {
   "cell_type": "code",
   "execution_count": 94,
   "metadata": {},
   "outputs": [
    {
     "data": {
      "text/plain": [
       "[(1, 4), (2, 5), (3, 6)]"
      ]
     },
     "execution_count": 94,
     "metadata": {},
     "output_type": "execute_result"
    }
   ],
   "source": [
    "list(zip(x,y))"
   ]
  },
  {
   "cell_type": "code",
   "execution_count": 95,
   "metadata": {},
   "outputs": [
    {
     "data": {
      "text/plain": [
       "[('a', 'x'), ('b', 'y')]"
      ]
     },
     "execution_count": 95,
     "metadata": {},
     "output_type": "execute_result"
    }
   ],
   "source": [
    "list(zip(\"abcd\", \"xy\"))"
   ]
  },
  {
   "cell_type": "code",
   "execution_count": 96,
   "metadata": {},
   "outputs": [],
   "source": [
    "a = [1, 2, 3]\n",
    "\n",
    "b = [4, 5, 6, 7, 8]"
   ]
  },
  {
   "cell_type": "code",
   "execution_count": 97,
   "metadata": {},
   "outputs": [
    {
     "data": {
      "text/plain": [
       "[(1, 4), (2, 5), (3, 6)]"
      ]
     },
     "execution_count": 97,
     "metadata": {},
     "output_type": "execute_result"
    }
   ],
   "source": [
    "list(zip(a,b))"
   ]
  },
  {
   "cell_type": "code",
   "execution_count": 98,
   "metadata": {},
   "outputs": [],
   "source": [
    "d1 = {\"a\": 1, \"b\": 2}\n",
    "d2 = {\"c\": 3, \"d\": 4}"
   ]
  },
  {
   "cell_type": "code",
   "execution_count": 99,
   "metadata": {},
   "outputs": [
    {
     "data": {
      "text/plain": [
       "[('a', 'c'), ('b', 'd')]"
      ]
     },
     "execution_count": 99,
     "metadata": {},
     "output_type": "execute_result"
    }
   ],
   "source": [
    "list(zip(d1,d2))"
   ]
  },
  {
   "cell_type": "code",
   "execution_count": 101,
   "metadata": {},
   "outputs": [
    {
     "data": {
      "text/plain": [
       "[('a', 3), ('b', 4)]"
      ]
     },
     "execution_count": 101,
     "metadata": {},
     "output_type": "execute_result"
    }
   ],
   "source": [
    "list(zip(d1,d2.values()))"
   ]
  },
  {
   "cell_type": "code",
   "execution_count": 103,
   "metadata": {},
   "outputs": [
    {
     "data": {
      "text/plain": [
       "[(1, 3), (2, 4)]"
      ]
     },
     "execution_count": 103,
     "metadata": {},
     "output_type": "execute_result"
    }
   ],
   "source": [
    "list(zip(d1.values(),d2.values()))"
   ]
  },
  {
   "cell_type": "code",
   "execution_count": 104,
   "metadata": {},
   "outputs": [],
   "source": [
    "def trocaValores(d1,d2):\n",
    "    dictemp = {}\n",
    "    \n",
    "    for d1Key, d2Val in zip(d1, d2.values()):\n",
    "        dictemp[d1Key] = d2Val\n",
    "        \n",
    "    return dictemp"
   ]
  },
  {
   "cell_type": "code",
   "execution_count": 105,
   "metadata": {},
   "outputs": [
    {
     "data": {
      "text/plain": [
       "{'a': 3, 'b': 4}"
      ]
     },
     "execution_count": 105,
     "metadata": {},
     "output_type": "execute_result"
    }
   ],
   "source": [
    "trocaValores(d1,d2)"
   ]
  },
  {
   "cell_type": "code",
   "execution_count": 107,
   "metadata": {},
   "outputs": [],
   "source": [
    "seq = [\"a\", \"b\", \"c\", \"d\"]"
   ]
  },
  {
   "cell_type": "code",
   "execution_count": 109,
   "metadata": {},
   "outputs": [
    {
     "data": {
      "text/plain": [
       "[(0, 'a'), (1, 'b'), (2, 'c'), (3, 'd')]"
      ]
     },
     "execution_count": 109,
     "metadata": {},
     "output_type": "execute_result"
    }
   ],
   "source": [
    "list(enumerate(seq))"
   ]
  },
  {
   "cell_type": "code",
   "execution_count": 110,
   "metadata": {},
   "outputs": [
    {
     "name": "stdout",
     "output_type": "stream",
     "text": [
      "0 a\n",
      "1 b\n",
      "2 c\n",
      "3 d\n"
     ]
    }
   ],
   "source": [
    "for indice, valor in enumerate(seq):\n",
    "    print(indice, valor)"
   ]
  },
  {
   "cell_type": "code",
   "execution_count": 111,
   "metadata": {},
   "outputs": [
    {
     "name": "stdout",
     "output_type": "stream",
     "text": [
      "0 a\n",
      "1 b\n"
     ]
    }
   ],
   "source": [
    "for indice, valor in enumerate(seq):\n",
    "    if indice >= 2:\n",
    "        break\n",
    "    else:\n",
    "        print(indice, valor)\n",
    "    "
   ]
  },
  {
   "cell_type": "code",
   "execution_count": 112,
   "metadata": {},
   "outputs": [],
   "source": [
    "lista = [\"Jeann\", \"Câmara\", \"Rodrigues\"]"
   ]
  },
  {
   "cell_type": "code",
   "execution_count": 114,
   "metadata": {},
   "outputs": [
    {
     "name": "stdout",
     "output_type": "stream",
     "text": [
      "0 J\n",
      "1 e\n",
      "2 a\n",
      "3 n\n",
      "4 n\n",
      "5  \n",
      "6 C\n",
      "7 â\n",
      "8 m\n",
      "9 a\n",
      "10 r\n",
      "11 a\n",
      "12  \n",
      "13 R\n",
      "14 o\n",
      "15 d\n",
      "16 r\n",
      "17 i\n",
      "18 g\n",
      "19 u\n",
      "20 e\n",
      "21 s\n"
     ]
    }
   ],
   "source": [
    "for indice, valor in enumerate(\"Jeann Câmara Rodrigues\"):\n",
    "    print(indice, valor)"
   ]
  },
  {
   "cell_type": "code",
   "execution_count": 115,
   "metadata": {},
   "outputs": [
    {
     "name": "stdout",
     "output_type": "stream",
     "text": [
      "Indice: 0, Valor: 0\n",
      "Indice: 1, Valor: 1\n",
      "Indice: 2, Valor: 2\n",
      "Indice: 3, Valor: 3\n",
      "Indice: 4, Valor: 4\n",
      "Indice: 5, Valor: 5\n",
      "Indice: 6, Valor: 6\n",
      "Indice: 7, Valor: 7\n",
      "Indice: 8, Valor: 8\n",
      "Indice: 9, Valor: 9\n",
      "Indice: 10, Valor: 10\n",
      "Indice: 11, Valor: 11\n",
      "Indice: 12, Valor: 12\n",
      "Indice: 13, Valor: 13\n",
      "Indice: 14, Valor: 14\n",
      "Indice: 15, Valor: 15\n",
      "Indice: 16, Valor: 16\n",
      "Indice: 17, Valor: 17\n",
      "Indice: 18, Valor: 18\n",
      "Indice: 19, Valor: 19\n",
      "Indice: 20, Valor: 20\n",
      "Indice: 21, Valor: 21\n",
      "Indice: 22, Valor: 22\n",
      "Indice: 23, Valor: 23\n",
      "Indice: 24, Valor: 24\n",
      "Indice: 25, Valor: 25\n",
      "Indice: 26, Valor: 26\n",
      "Indice: 27, Valor: 27\n",
      "Indice: 28, Valor: 28\n",
      "Indice: 29, Valor: 29\n",
      "Indice: 30, Valor: 30\n",
      "Indice: 31, Valor: 31\n",
      "Indice: 32, Valor: 32\n",
      "Indice: 33, Valor: 33\n",
      "Indice: 34, Valor: 34\n",
      "Indice: 35, Valor: 35\n",
      "Indice: 36, Valor: 36\n",
      "Indice: 37, Valor: 37\n",
      "Indice: 38, Valor: 38\n",
      "Indice: 39, Valor: 39\n",
      "Indice: 40, Valor: 40\n",
      "Indice: 41, Valor: 41\n",
      "Indice: 42, Valor: 42\n",
      "Indice: 43, Valor: 43\n",
      "Indice: 44, Valor: 44\n",
      "Indice: 45, Valor: 45\n",
      "Indice: 46, Valor: 46\n",
      "Indice: 47, Valor: 47\n",
      "Indice: 48, Valor: 48\n",
      "Indice: 49, Valor: 49\n",
      "Indice: 50, Valor: 50\n",
      "Indice: 51, Valor: 51\n",
      "Indice: 52, Valor: 52\n",
      "Indice: 53, Valor: 53\n",
      "Indice: 54, Valor: 54\n",
      "Indice: 55, Valor: 55\n",
      "Indice: 56, Valor: 56\n",
      "Indice: 57, Valor: 57\n",
      "Indice: 58, Valor: 58\n",
      "Indice: 59, Valor: 59\n",
      "Indice: 60, Valor: 60\n",
      "Indice: 61, Valor: 61\n",
      "Indice: 62, Valor: 62\n",
      "Indice: 63, Valor: 63\n",
      "Indice: 64, Valor: 64\n",
      "Indice: 65, Valor: 65\n",
      "Indice: 66, Valor: 66\n",
      "Indice: 67, Valor: 67\n",
      "Indice: 68, Valor: 68\n",
      "Indice: 69, Valor: 69\n",
      "Indice: 70, Valor: 70\n",
      "Indice: 71, Valor: 71\n",
      "Indice: 72, Valor: 72\n",
      "Indice: 73, Valor: 73\n",
      "Indice: 74, Valor: 74\n",
      "Indice: 75, Valor: 75\n",
      "Indice: 76, Valor: 76\n",
      "Indice: 77, Valor: 77\n",
      "Indice: 78, Valor: 78\n",
      "Indice: 79, Valor: 79\n",
      "Indice: 80, Valor: 80\n",
      "Indice: 81, Valor: 81\n",
      "Indice: 82, Valor: 82\n",
      "Indice: 83, Valor: 83\n",
      "Indice: 84, Valor: 84\n",
      "Indice: 85, Valor: 85\n",
      "Indice: 86, Valor: 86\n",
      "Indice: 87, Valor: 87\n",
      "Indice: 88, Valor: 88\n",
      "Indice: 89, Valor: 89\n",
      "Indice: 90, Valor: 90\n",
      "Indice: 91, Valor: 91\n",
      "Indice: 92, Valor: 92\n",
      "Indice: 93, Valor: 93\n",
      "Indice: 94, Valor: 94\n",
      "Indice: 95, Valor: 95\n",
      "Indice: 96, Valor: 96\n",
      "Indice: 97, Valor: 97\n",
      "Indice: 98, Valor: 98\n",
      "Indice: 99, Valor: 99\n"
     ]
    }
   ],
   "source": [
    "for indice, valor in enumerate(range(100)):\n",
    "    print(\"Indice: %d, Valor: %d\" %(indice, valor))"
   ]
  },
  {
   "cell_type": "code",
   "execution_count": null,
   "metadata": {},
   "outputs": [],
   "source": [
    "\n"
   ]
  },
  {
   "cell_type": "code",
   "execution_count": 116,
   "metadata": {},
   "outputs": [],
   "source": [
    "def numDiv(num1, num2):\n",
    "    print(num1/num2)"
   ]
  },
  {
   "cell_type": "code",
   "execution_count": 117,
   "metadata": {},
   "outputs": [
    {
     "name": "stdout",
     "output_type": "stream",
     "text": [
      "2.0\n"
     ]
    }
   ],
   "source": [
    "numDiv(4,2)"
   ]
  },
  {
   "cell_type": "code",
   "execution_count": 118,
   "metadata": {},
   "outputs": [
    {
     "ename": "ZeroDivisionError",
     "evalue": "division by zero",
     "output_type": "error",
     "traceback": [
      "\u001b[1;31m---------------------------------------------------------------------------\u001b[0m",
      "\u001b[1;31mZeroDivisionError\u001b[0m                         Traceback (most recent call last)",
      "\u001b[1;32m<ipython-input-118-ab1f14e17343>\u001b[0m in \u001b[0;36m<module>\u001b[1;34m()\u001b[0m\n\u001b[1;32m----> 1\u001b[1;33m \u001b[0mnumDiv\u001b[0m\u001b[1;33m(\u001b[0m\u001b[1;36m4\u001b[0m\u001b[1;33m,\u001b[0m\u001b[1;36m0\u001b[0m\u001b[1;33m)\u001b[0m\u001b[1;33m\u001b[0m\u001b[0m\n\u001b[0m",
      "\u001b[1;32m<ipython-input-116-d1e2478d1418>\u001b[0m in \u001b[0;36mnumDiv\u001b[1;34m(num1, num2)\u001b[0m\n\u001b[0;32m      1\u001b[0m \u001b[1;32mdef\u001b[0m \u001b[0mnumDiv\u001b[0m\u001b[1;33m(\u001b[0m\u001b[0mnum1\u001b[0m\u001b[1;33m,\u001b[0m \u001b[0mnum2\u001b[0m\u001b[1;33m)\u001b[0m\u001b[1;33m:\u001b[0m\u001b[1;33m\u001b[0m\u001b[0m\n\u001b[1;32m----> 2\u001b[1;33m     \u001b[0mprint\u001b[0m\u001b[1;33m(\u001b[0m\u001b[0mnum1\u001b[0m\u001b[1;33m/\u001b[0m\u001b[0mnum2\u001b[0m\u001b[1;33m)\u001b[0m\u001b[1;33m\u001b[0m\u001b[0m\n\u001b[0m",
      "\u001b[1;31mZeroDivisionError\u001b[0m: division by zero"
     ]
    }
   ],
   "source": [
    "numDiv(4,0)"
   ]
  },
  {
   "cell_type": "code",
   "execution_count": 119,
   "metadata": {},
   "outputs": [
    {
     "name": "stdout",
     "output_type": "stream",
     "text": [
      "Operação não permitida: divisão por zero.\n"
     ]
    }
   ],
   "source": [
    "try:\n",
    "    8 + 'a'\n",
    "except TypeError:\n",
    "    print(\"Operação não permitida: divisão por zero.\")"
   ]
  },
  {
   "cell_type": "code",
   "execution_count": 123,
   "metadata": {},
   "outputs": [
    {
     "name": "stdout",
     "output_type": "stream",
     "text": [
      "Gravado.\n"
     ]
    }
   ],
   "source": [
    "try:\n",
    "    f = open(\"testando_erros.txt\", \"w\")\n",
    "    f.write(\"Gravando o texto.\")\n",
    "except IOError:\n",
    "    print(\"Erro na leitura do arquivo.\")\n",
    "else:\n",
    "    print(\"Gravado.\")"
   ]
  },
  {
   "cell_type": "code",
   "execution_count": 122,
   "metadata": {},
   "outputs": [
    {
     "name": "stdout",
     "output_type": "stream",
     "text": [
      "Erro na leitura do arquivo.\n"
     ]
    }
   ],
   "source": [
    "try:\n",
    "    f = open(\"testando_erros.txt\", \"r\")\n",
    "    f.write(\"Gravando o texto.\")\n",
    "except IOError:\n",
    "    print(\"Erro na leitura do arquivo.\")\n",
    "else:\n",
    "    print(\"Gravado.\")"
   ]
  },
  {
   "cell_type": "code",
   "execution_count": 129,
   "metadata": {},
   "outputs": [
    {
     "name": "stdout",
     "output_type": "stream",
     "text": [
      "Gravado.\n",
      "Código sempre executado, independente de erro ou não.\n"
     ]
    }
   ],
   "source": [
    "try:\n",
    "    f = open(\"testando_erros.txt\", \"w\")\n",
    "    f.write(\"Gravando o texto.\")\n",
    "except IOError:\n",
    "    print(\"Erro na leitura do arquivo.\")\n",
    "else:\n",
    "    print(\"Gravado.\")\n",
    "finally:\n",
    "    print(\"Código sempre executado, independente de erro ou não.\")"
   ]
  },
  {
   "cell_type": "code",
   "execution_count": 131,
   "metadata": {},
   "outputs": [
    {
     "name": "stdout",
     "output_type": "stream",
     "text": [
      "Erro: not writable\n",
      "Código sempre executado, independente de erro ou não.\n"
     ]
    }
   ],
   "source": [
    "try:\n",
    "    f = open(\"testando_erros.txt\", \"r\")\n",
    "    f.write(\"Gravando o texto.\")\n",
    "except IOError as e:\n",
    "    print(\"Erro:\", e)\n",
    "else:\n",
    "    print(\"Gravado.\")\n",
    "finally:\n",
    "    print(\"Código sempre executado, independente de erro ou não.\")"
   ]
  },
  {
   "cell_type": "code",
   "execution_count": null,
   "metadata": {},
   "outputs": [],
   "source": []
  }
 ],
 "metadata": {
  "kernelspec": {
   "display_name": "Python 3",
   "language": "python",
   "name": "python3"
  },
  "language_info": {
   "codemirror_mode": {
    "name": "ipython",
    "version": 3
   },
   "file_extension": ".py",
   "mimetype": "text/x-python",
   "name": "python",
   "nbconvert_exporter": "python",
   "pygments_lexer": "ipython3",
   "version": "3.6.4"
  }
 },
 "nbformat": 4,
 "nbformat_minor": 2
}
