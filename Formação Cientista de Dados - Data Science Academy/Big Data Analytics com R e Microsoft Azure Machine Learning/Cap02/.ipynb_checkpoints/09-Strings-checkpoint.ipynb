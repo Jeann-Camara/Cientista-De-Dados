{
 "cells": [
  {
   "cell_type": "markdown",
   "metadata": {},
   "source": [
    "# String"
   ]
  },
  {
   "cell_type": "code",
   "execution_count": 1,
   "metadata": {},
   "outputs": [
    {
     "data": {
      "text/html": [
       "'Isto é uma String'"
      ],
      "text/latex": [
       "'Isto é uma String'"
      ],
      "text/markdown": [
       "'Isto é uma String'"
      ],
      "text/plain": [
       "[1] \"Isto é uma String\""
      ]
     },
     "metadata": {},
     "output_type": "display_data"
    }
   ],
   "source": [
    "texto <- \"Isto é uma String\"\n",
    "texto"
   ]
  },
  {
   "cell_type": "code",
   "execution_count": 2,
   "metadata": {},
   "outputs": [
    {
     "data": {
      "text/html": [
       "'3.14'"
      ],
      "text/latex": [
       "'3.14'"
      ],
      "text/markdown": [
       "'3.14'"
      ],
      "text/plain": [
       "[1] \"3.14\""
      ]
     },
     "metadata": {},
     "output_type": "display_data"
    },
    {
     "data": {
      "text/html": [
       "'character'"
      ],
      "text/latex": [
       "'character'"
      ],
      "text/markdown": [
       "'character'"
      ],
      "text/plain": [
       "[1] \"character\""
      ]
     },
     "metadata": {},
     "output_type": "display_data"
    }
   ],
   "source": [
    "x = as.character(3.14)\n",
    "x\n",
    "class(x)"
   ]
  },
  {
   "cell_type": "markdown",
   "metadata": {},
   "source": [
    "# Concatenando Strings"
   ]
  },
  {
   "cell_type": "code",
   "execution_count": 3,
   "metadata": {},
   "outputs": [
    {
     "data": {
      "text/html": [
       "'Jeann Câmara'"
      ],
      "text/latex": [
       "'Jeann Câmara'"
      ],
      "text/markdown": [
       "'Jeann Câmara'"
      ],
      "text/plain": [
       "[1] \"Jeann Câmara\""
      ]
     },
     "metadata": {},
     "output_type": "display_data"
    },
    {
     "name": "stdout",
     "output_type": "stream",
     "text": [
      "Jeann Câmara"
     ]
    }
   ],
   "source": [
    "nome= \"Jeann\"; sobrenome=\"Câmara\"\n",
    "paste(nome, sobrenome)\n",
    "cat(nome, sobrenome)"
   ]
  },
  {
   "cell_type": "markdown",
   "metadata": {},
   "source": [
    "# Formatando a saída"
   ]
  },
  {
   "cell_type": "code",
   "execution_count": 4,
   "metadata": {},
   "outputs": [
    {
     "data": {
      "text/html": [
       "'A Data Science Academy é nota 10'"
      ],
      "text/latex": [
       "'A Data Science Academy é nota 10'"
      ],
      "text/markdown": [
       "'A Data Science Academy é nota 10'"
      ],
      "text/plain": [
       "[1] \"A Data Science Academy é nota 10\""
      ]
     },
     "metadata": {},
     "output_type": "display_data"
    }
   ],
   "source": [
    "sprintf(\"A %s é nota %d\", \"Data Science Academy\", 10)"
   ]
  },
  {
   "cell_type": "markdown",
   "metadata": {},
   "source": [
    "# Extraindo parte da String."
   ]
  },
  {
   "cell_type": "code",
   "execution_count": 5,
   "metadata": {},
   "outputs": [
    {
     "data": {
      "text/html": [
       "'String'"
      ],
      "text/latex": [
       "'String'"
      ],
      "text/markdown": [
       "'String'"
      ],
      "text/plain": [
       "[1] \"String\""
      ]
     },
     "metadata": {},
     "output_type": "display_data"
    }
   ],
   "source": [
    "texto <- \"Isto é uma String\"\n",
    "substr(texto, start = 12, stop = 17)"
   ]
  },
  {
   "cell_type": "markdown",
   "metadata": {},
   "source": [
    "# Concatenando o número de caracteres."
   ]
  },
  {
   "cell_type": "code",
   "execution_count": 7,
   "metadata": {},
   "outputs": [
    {
     "data": {
      "text/html": [
       "17"
      ],
      "text/latex": [
       "17"
      ],
      "text/markdown": [
       "17"
      ],
      "text/plain": [
       "[1] 17"
      ]
     },
     "metadata": {},
     "output_type": "display_data"
    }
   ],
   "source": [
    "nchar(texto)"
   ]
  },
  {
   "cell_type": "markdown",
   "metadata": {},
   "source": [
    "# Alterando a capitalização."
   ]
  },
  {
   "cell_type": "code",
   "execution_count": 8,
   "metadata": {},
   "outputs": [
    {
     "data": {
      "text/html": [
       "'histogramas e elementos de dados'"
      ],
      "text/latex": [
       "'histogramas e elementos de dados'"
      ],
      "text/markdown": [
       "'histogramas e elementos de dados'"
      ],
      "text/plain": [
       "[1] \"histogramas e elementos de dados\""
      ]
     },
     "metadata": {},
     "output_type": "display_data"
    },
    {
     "data": {
      "text/html": [
       "'HISTOGRAMAS E ELEMENTOS DE DADOS'"
      ],
      "text/latex": [
       "'HISTOGRAMAS E ELEMENTOS DE DADOS'"
      ],
      "text/markdown": [
       "'HISTOGRAMAS E ELEMENTOS DE DADOS'"
      ],
      "text/plain": [
       "[1] \"HISTOGRAMAS E ELEMENTOS DE DADOS\""
      ]
     },
     "metadata": {},
     "output_type": "display_data"
    }
   ],
   "source": [
    "tolower(\"Histogramas e Elementos de Dados\")\n",
    "toupper(\"Histogramas e Elementos de Dados\")"
   ]
  },
  {
   "cell_type": "markdown",
   "metadata": {},
   "source": [
    "# Dividindo uma String em Caracteres"
   ]
  },
  {
   "cell_type": "code",
   "execution_count": 11,
   "metadata": {},
   "outputs": [
    {
     "data": {
      "text/html": [
       "<ol>\n",
       "\t<li><ol class=list-inline>\n",
       "\t<li>'H'</li>\n",
       "\t<li>'i'</li>\n",
       "\t<li>'s'</li>\n",
       "\t<li>'t'</li>\n",
       "\t<li>'o'</li>\n",
       "\t<li>'g'</li>\n",
       "\t<li>'r'</li>\n",
       "\t<li>'a'</li>\n",
       "\t<li>'m'</li>\n",
       "\t<li>'a'</li>\n",
       "\t<li>'s'</li>\n",
       "\t<li>' '</li>\n",
       "\t<li>'e'</li>\n",
       "\t<li>' '</li>\n",
       "\t<li>'E'</li>\n",
       "\t<li>'l'</li>\n",
       "\t<li>'e'</li>\n",
       "\t<li>'m'</li>\n",
       "\t<li>'e'</li>\n",
       "\t<li>'n'</li>\n",
       "\t<li>'t'</li>\n",
       "\t<li>'o'</li>\n",
       "\t<li>'s'</li>\n",
       "\t<li>' '</li>\n",
       "\t<li>'d'</li>\n",
       "\t<li>'e'</li>\n",
       "\t<li>' '</li>\n",
       "\t<li>'D'</li>\n",
       "\t<li>'a'</li>\n",
       "\t<li>'d'</li>\n",
       "\t<li>'o'</li>\n",
       "\t<li>'s'</li>\n",
       "</ol>\n",
       "</li>\n",
       "</ol>\n"
      ],
      "text/latex": [
       "\\begin{enumerate}\n",
       "\\item \\begin{enumerate*}\n",
       "\\item 'H'\n",
       "\\item 'i'\n",
       "\\item 's'\n",
       "\\item 't'\n",
       "\\item 'o'\n",
       "\\item 'g'\n",
       "\\item 'r'\n",
       "\\item 'a'\n",
       "\\item 'm'\n",
       "\\item 'a'\n",
       "\\item 's'\n",
       "\\item ' '\n",
       "\\item 'e'\n",
       "\\item ' '\n",
       "\\item 'E'\n",
       "\\item 'l'\n",
       "\\item 'e'\n",
       "\\item 'm'\n",
       "\\item 'e'\n",
       "\\item 'n'\n",
       "\\item 't'\n",
       "\\item 'o'\n",
       "\\item 's'\n",
       "\\item ' '\n",
       "\\item 'd'\n",
       "\\item 'e'\n",
       "\\item ' '\n",
       "\\item 'D'\n",
       "\\item 'a'\n",
       "\\item 'd'\n",
       "\\item 'o'\n",
       "\\item 's'\n",
       "\\end{enumerate*}\n",
       "\n",
       "\\end{enumerate}\n"
      ],
      "text/markdown": [
       "1. 1. 'H'\n",
       "2. 'i'\n",
       "3. 's'\n",
       "4. 't'\n",
       "5. 'o'\n",
       "6. 'g'\n",
       "7. 'r'\n",
       "8. 'a'\n",
       "9. 'm'\n",
       "10. 'a'\n",
       "11. 's'\n",
       "12. ' '\n",
       "13. 'e'\n",
       "14. ' '\n",
       "15. 'E'\n",
       "16. 'l'\n",
       "17. 'e'\n",
       "18. 'm'\n",
       "19. 'e'\n",
       "20. 'n'\n",
       "21. 't'\n",
       "22. 'o'\n",
       "23. 's'\n",
       "24. ' '\n",
       "25. 'd'\n",
       "26. 'e'\n",
       "27. ' '\n",
       "28. 'D'\n",
       "29. 'a'\n",
       "30. 'd'\n",
       "31. 'o'\n",
       "32. 's'\n",
       "\n",
       "\n",
       "\n",
       "\n",
       "\n"
      ],
      "text/plain": [
       "[[1]]\n",
       " [1] \"H\" \"i\" \"s\" \"t\" \"o\" \"g\" \"r\" \"a\" \"m\" \"a\" \"s\" \" \" \"e\" \" \" \"E\" \"l\" \"e\" \"m\" \"e\"\n",
       "[20] \"n\" \"t\" \"o\" \"s\" \" \" \"d\" \"e\" \" \" \"D\" \"a\" \"d\" \"o\" \"s\"\n"
      ]
     },
     "metadata": {},
     "output_type": "display_data"
    }
   ],
   "source": [
    "strsplit(\"Histogramas e Elementos de Dados\", NULL)"
   ]
  },
  {
   "cell_type": "markdown",
   "metadata": {},
   "source": [
    "# Dividindo uma String em Caracteres, após o caracter espaço"
   ]
  },
  {
   "cell_type": "code",
   "execution_count": 13,
   "metadata": {},
   "outputs": [
    {
     "data": {
      "text/html": [
       "<ol>\n",
       "\t<li><ol class=list-inline>\n",
       "\t<li>'Histogramas'</li>\n",
       "\t<li>'e'</li>\n",
       "\t<li>'Elementos'</li>\n",
       "\t<li>'de'</li>\n",
       "\t<li>'Dados'</li>\n",
       "</ol>\n",
       "</li>\n",
       "</ol>\n"
      ],
      "text/latex": [
       "\\begin{enumerate}\n",
       "\\item \\begin{enumerate*}\n",
       "\\item 'Histogramas'\n",
       "\\item 'e'\n",
       "\\item 'Elementos'\n",
       "\\item 'de'\n",
       "\\item 'Dados'\n",
       "\\end{enumerate*}\n",
       "\n",
       "\\end{enumerate}\n"
      ],
      "text/markdown": [
       "1. 1. 'Histogramas'\n",
       "2. 'e'\n",
       "3. 'Elementos'\n",
       "4. 'de'\n",
       "5. 'Dados'\n",
       "\n",
       "\n",
       "\n",
       "\n",
       "\n"
      ],
      "text/plain": [
       "[[1]]\n",
       "[1] \"Histogramas\" \"e\"           \"Elementos\"   \"de\"          \"Dados\"      \n"
      ]
     },
     "metadata": {},
     "output_type": "display_data"
    }
   ],
   "source": [
    "strsplit(\"Histogramas e Elementos de Dados\", \" \")"
   ]
  },
  {
   "cell_type": "markdown",
   "metadata": {},
   "source": [
    "# Trabalhando com Strings"
   ]
  },
  {
   "cell_type": "code",
   "execution_count": 14,
   "metadata": {},
   "outputs": [
    {
     "data": {
      "text/html": [
       "<ol class=list-inline>\n",
       "\t<li><span style=white-space:pre-wrap>'Esta é a primeira parte da minha String e será  a primeira parte do meu vetor'</span></li>\n",
       "\t<li>'Aqui a minha String continua, mas vai ser transformada no segundo vetor.'</li>\n",
       "</ol>\n"
      ],
      "text/latex": [
       "\\begin{enumerate*}\n",
       "\\item 'Esta é a primeira parte da minha String e será  a primeira parte do meu vetor'\n",
       "\\item 'Aqui a minha String continua, mas vai ser transformada no segundo vetor.'\n",
       "\\end{enumerate*}\n"
      ],
      "text/markdown": [
       "1. <span style=white-space:pre-wrap>'Esta é a primeira parte da minha String e será  a primeira parte do meu vetor'</span>\n",
       "2. 'Aqui a minha String continua, mas vai ser transformada no segundo vetor.'\n",
       "\n",
       "\n"
      ],
      "text/plain": [
       "[1] \"Esta é a primeira parte da minha String e será  a primeira parte do meu vetor\"\n",
       "[2] \"Aqui a minha String continua, mas vai ser transformada no segundo vetor.\"     "
      ]
     },
     "metadata": {},
     "output_type": "display_data"
    }
   ],
   "source": [
    "string_1 <- c(\"Esta é a primeira parte da minha String e será  a primeira parte do meu vetor\", \"Aqui a minha String continua, mas vai ser transformada no segundo vetor.\")\n",
    "string_1"
   ]
  },
  {
   "cell_type": "code",
   "execution_count": 15,
   "metadata": {},
   "outputs": [
    {
     "data": {
      "text/html": [
       "<ol class=list-inline>\n",
       "\t<li>'Precisamos testar outras Strings - @???!$'</li>\n",
       "\t<li>'Análise de Dados em R'</li>\n",
       "</ol>\n"
      ],
      "text/latex": [
       "\\begin{enumerate*}\n",
       "\\item 'Precisamos testar outras Strings - @???!\\$'\n",
       "\\item 'Análise de Dados em R'\n",
       "\\end{enumerate*}\n"
      ],
      "text/markdown": [
       "1. 'Precisamos testar outras Strings - @???!$'\n",
       "2. 'Análise de Dados em R'\n",
       "\n",
       "\n"
      ],
      "text/plain": [
       "[1] \"Precisamos testar outras Strings - @???!$\"\n",
       "[2] \"Análise de Dados em R\"                    "
      ]
     },
     "metadata": {},
     "output_type": "display_data"
    }
   ],
   "source": [
    "string_2 <- c(\"Precisamos testar outras Strings - @???!$\",\"Análise de Dados em R\")\n",
    "string_2"
   ]
  },
  {
   "cell_type": "markdown",
   "metadata": {},
   "source": [
    "# Adicionando 2 Strings (Concatenando)"
   ]
  },
  {
   "cell_type": "code",
   "execution_count": 16,
   "metadata": {},
   "outputs": [
    {
     "data": {
      "text/html": [
       "<ol class=list-inline>\n",
       "\t<li><span style=white-space:pre-wrap>'Esta é a primeira parte da minha String e será  a primeira parte do meu vetor'</span></li>\n",
       "\t<li>'Aqui a minha String continua, mas vai ser transformada no segundo vetor.'</li>\n",
       "\t<li>'Precisamos testar outras Strings - @???!$'</li>\n",
       "\t<li>'Análise de Dados em R'</li>\n",
       "</ol>\n"
      ],
      "text/latex": [
       "\\begin{enumerate*}\n",
       "\\item 'Esta é a primeira parte da minha String e será  a primeira parte do meu vetor'\n",
       "\\item 'Aqui a minha String continua, mas vai ser transformada no segundo vetor.'\n",
       "\\item 'Precisamos testar outras Strings - @???!\\$'\n",
       "\\item 'Análise de Dados em R'\n",
       "\\end{enumerate*}\n"
      ],
      "text/markdown": [
       "1. <span style=white-space:pre-wrap>'Esta é a primeira parte da minha String e será  a primeira parte do meu vetor'</span>\n",
       "2. 'Aqui a minha String continua, mas vai ser transformada no segundo vetor.'\n",
       "3. 'Precisamos testar outras Strings - @???!$'\n",
       "4. 'Análise de Dados em R'\n",
       "\n",
       "\n"
      ],
      "text/plain": [
       "[1] \"Esta é a primeira parte da minha String e será  a primeira parte do meu vetor\"\n",
       "[2] \"Aqui a minha String continua, mas vai ser transformada no segundo vetor.\"     \n",
       "[3] \"Precisamos testar outras Strings - @???!$\"                                    \n",
       "[4] \"Análise de Dados em R\"                                                        "
      ]
     },
     "metadata": {},
     "output_type": "display_data"
    }
   ],
   "source": [
    "str_c(c(string_1, string_2), sep = \"\")"
   ]
  },
  {
   "cell_type": "markdown",
   "metadata": {},
   "source": [
    "# Contar quantas vezes um caracter aparece no texto"
   ]
  },
  {
   "cell_type": "code",
   "execution_count": 17,
   "metadata": {},
   "outputs": [
    {
     "data": {
      "text/html": [
       "<ol class=list-inline>\n",
       "\t<li>5</li>\n",
       "\t<li>2</li>\n",
       "</ol>\n"
      ],
      "text/latex": [
       "\\begin{enumerate*}\n",
       "\\item 5\n",
       "\\item 2\n",
       "\\end{enumerate*}\n"
      ],
      "text/markdown": [
       "1. 5\n",
       "2. 2\n",
       "\n",
       "\n"
      ],
      "text/plain": [
       "[1] 5 2"
      ]
     },
     "metadata": {},
     "output_type": "display_data"
    }
   ],
   "source": [
    "str_count(string_2,\"s\")"
   ]
  },
  {
   "cell_type": "markdown",
   "metadata": {},
   "source": [
    "# Localiza a primeira e última posição que o caracter aparece na String."
   ]
  },
  {
   "cell_type": "code",
   "execution_count": 18,
   "metadata": {},
   "outputs": [
    {
     "data": {
      "text/html": [
       "<ol>\n",
       "\t<li><table>\n",
       "<thead><tr><th scope=col>start</th><th scope=col>end</th></tr></thead>\n",
       "<tbody>\n",
       "\t<tr><td> 6</td><td> 6</td></tr>\n",
       "\t<tr><td>10</td><td>10</td></tr>\n",
       "\t<tr><td>14</td><td>14</td></tr>\n",
       "\t<tr><td>24</td><td>24</td></tr>\n",
       "\t<tr><td>32</td><td>32</td></tr>\n",
       "</tbody>\n",
       "</table>\n",
       "</li>\n",
       "\t<li><table>\n",
       "<thead><tr><th scope=col>start</th><th scope=col>end</th></tr></thead>\n",
       "<tbody>\n",
       "\t<tr><td> 6</td><td> 6</td></tr>\n",
       "\t<tr><td>16</td><td>16</td></tr>\n",
       "</tbody>\n",
       "</table>\n",
       "</li>\n",
       "</ol>\n"
      ],
      "text/latex": [
       "\\begin{enumerate}\n",
       "\\item \\begin{tabular}{ll}\n",
       " start & end\\\\\n",
       "\\hline\n",
       "\t  6 &  6\\\\\n",
       "\t 10 & 10\\\\\n",
       "\t 14 & 14\\\\\n",
       "\t 24 & 24\\\\\n",
       "\t 32 & 32\\\\\n",
       "\\end{tabular}\n",
       "\n",
       "\\item \\begin{tabular}{ll}\n",
       " start & end\\\\\n",
       "\\hline\n",
       "\t  6 &  6\\\\\n",
       "\t 16 & 16\\\\\n",
       "\\end{tabular}\n",
       "\n",
       "\\end{enumerate}\n"
      ],
      "text/markdown": [
       "1. \n",
       "start | end | \n",
       "|---|---|---|---|---|\n",
       "|  6 |  6 | \n",
       "| 10 | 10 | \n",
       "| 14 | 14 | \n",
       "| 24 | 24 | \n",
       "| 32 | 32 | \n",
       "\n",
       "\n",
       "\n",
       "2. \n",
       "start | end | \n",
       "|---|---|\n",
       "|  6 |  6 | \n",
       "| 16 | 16 | \n",
       "\n",
       "\n",
       "\n",
       "\n",
       "\n"
      ],
      "text/plain": [
       "[[1]]\n",
       "     start end\n",
       "[1,]     6   6\n",
       "[2,]    10  10\n",
       "[3,]    14  14\n",
       "[4,]    24  24\n",
       "[5,]    32  32\n",
       "\n",
       "[[2]]\n",
       "     start end\n",
       "[1,]     6   6\n",
       "[2,]    16  16\n"
      ]
     },
     "metadata": {},
     "output_type": "display_data"
    }
   ],
   "source": [
    "str_locate_all(string_2, \"s\")"
   ]
  },
  {
   "cell_type": "markdown",
   "metadata": {},
   "source": [
    "# Subistitui a primeira ocorrência de um caracter"
   ]
  },
  {
   "cell_type": "code",
   "execution_count": 19,
   "metadata": {},
   "outputs": [
    {
     "data": {
      "text/html": [
       "<ol class=list-inline>\n",
       "\t<li>'Precisamostestar outras Strings - @???!$'</li>\n",
       "\t<li>'Análisede Dados em R'</li>\n",
       "</ol>\n"
      ],
      "text/latex": [
       "\\begin{enumerate*}\n",
       "\\item 'Precisamostestar outras Strings - @???!\\$'\n",
       "\\item 'Análisede Dados em R'\n",
       "\\end{enumerate*}\n"
      ],
      "text/markdown": [
       "1. 'Precisamostestar outras Strings - @???!$'\n",
       "2. 'Análisede Dados em R'\n",
       "\n",
       "\n"
      ],
      "text/plain": [
       "[1] \"Precisamostestar outras Strings - @???!$\"\n",
       "[2] \"Análisede Dados em R\"                    "
      ]
     },
     "metadata": {},
     "output_type": "display_data"
    }
   ],
   "source": [
    "str_replace(string_2, \"\\\\s\",\"\")"
   ]
  },
  {
   "cell_type": "markdown",
   "metadata": {},
   "source": [
    "# Subistitui todas as ocorrências de um caracter"
   ]
  },
  {
   "cell_type": "code",
   "execution_count": 21,
   "metadata": {},
   "outputs": [
    {
     "data": {
      "text/html": [
       "<ol class=list-inline>\n",
       "\t<li>'PrecisamostestaroutrasStrings-@???!$'</li>\n",
       "\t<li>'AnálisedeDadosemR'</li>\n",
       "</ol>\n"
      ],
      "text/latex": [
       "\\begin{enumerate*}\n",
       "\\item 'PrecisamostestaroutrasStrings-@???!\\$'\n",
       "\\item 'AnálisedeDadosemR'\n",
       "\\end{enumerate*}\n"
      ],
      "text/markdown": [
       "1. 'PrecisamostestaroutrasStrings-@???!$'\n",
       "2. 'AnálisedeDadosemR'\n",
       "\n",
       "\n"
      ],
      "text/plain": [
       "[1] \"PrecisamostestaroutrasStrings-@???!$\"\n",
       "[2] \"AnálisedeDadosemR\"                   "
      ]
     },
     "metadata": {},
     "output_type": "display_data"
    }
   ],
   "source": [
    "str_replace_all(string_2, \"\\\\s\",\"\")"
   ]
  },
  {
   "cell_type": "markdown",
   "metadata": {},
   "source": [
    "# Detectando padrões nas Strings"
   ]
  },
  {
   "cell_type": "code",
   "execution_count": 22,
   "metadata": {},
   "outputs": [
    {
     "data": {
      "text/html": [
       "TRUE"
      ],
      "text/latex": [
       "TRUE"
      ],
      "text/markdown": [
       "TRUE"
      ],
      "text/plain": [
       "[1] TRUE"
      ]
     },
     "metadata": {},
     "output_type": "display_data"
    },
    {
     "data": {
      "text/html": [
       "FALSE"
      ],
      "text/latex": [
       "FALSE"
      ],
      "text/markdown": [
       "FALSE"
      ],
      "text/plain": [
       "[1] FALSE"
      ]
     },
     "metadata": {},
     "output_type": "display_data"
    }
   ],
   "source": [
    "string_1 <- \"13 jan 2001\"\n",
    "string_2 <- \"1 jan 2001\"\n",
    "padrao <- \"jan 20\"\n",
    "grepl(pattern = padrao, x = string_1)\n",
    "padrao <- \"jan20\"\n",
    "grepl(pattern = padrao, x = string_1)"
   ]
  },
  {
   "cell_type": "code",
   "execution_count": null,
   "metadata": {},
   "outputs": [],
   "source": []
  },
  {
   "cell_type": "code",
   "execution_count": 6,
   "metadata": {},
   "outputs": [
    {
     "data": {
      "text/html": [
       "\n",
       "<table width=\"100%\" summary=\"page for substr {base}\"><tr><td>substr {base}</td><td style=\"text-align: right;\">R Documentation</td></tr></table>\n",
       "\n",
       "<h2>Substrings of a Character Vector</h2>\n",
       "\n",
       "<h3>Description</h3>\n",
       "\n",
       "<p>Extract or replace substrings in a character vector.\n",
       "</p>\n",
       "\n",
       "\n",
       "<h3>Usage</h3>\n",
       "\n",
       "<pre>\n",
       "substr(x, start, stop)\n",
       "substring(text, first, last = 1000000L)\n",
       "substr(x, start, stop) &lt;- value\n",
       "substring(text, first, last = 1000000L) &lt;- value\n",
       "</pre>\n",
       "\n",
       "\n",
       "<h3>Arguments</h3>\n",
       "\n",
       "<table summary=\"R argblock\">\n",
       "<tr valign=\"top\"><td><code>x, text</code></td>\n",
       "<td>\n",
       "<p>a character vector.</p>\n",
       "</td></tr>\n",
       "<tr valign=\"top\"><td><code>start, first</code></td>\n",
       "<td>\n",
       "<p>integer.  The first element to be replaced.</p>\n",
       "</td></tr>\n",
       "<tr valign=\"top\"><td><code>stop, last</code></td>\n",
       "<td>\n",
       "<p>integer.  The last element to be replaced.</p>\n",
       "</td></tr>\n",
       "<tr valign=\"top\"><td><code>value</code></td>\n",
       "<td>\n",
       "<p>a character vector, recycled if necessary.</p>\n",
       "</td></tr>\n",
       "</table>\n",
       "\n",
       "\n",
       "<h3>Details</h3>\n",
       "\n",
       "<p><code>substring</code> is compatible with S, with <code>first</code> and\n",
       "<code>last</code> instead of <code>start</code> and <code>stop</code>.\n",
       "For vector arguments, it expands the arguments cyclically to the\n",
       "length of the longest <em>provided</em> none are of zero length.\n",
       "</p>\n",
       "<p>When extracting, if <code>start</code> is larger than the string length then\n",
       "<code>\"\"</code> is returned.\n",
       "</p>\n",
       "<p>For the extraction functions, <code>x</code> or <code>text</code> will be\n",
       "converted to a character vector by <code>as.character</code> if it is not\n",
       "already one.\n",
       "</p>\n",
       "<p>For the replacement functions, if <code>start</code> is larger than the\n",
       "string length then no replacement is done.  If the portion to be\n",
       "replaced is longer than the replacement string, then only the\n",
       "portion the length of the string is replaced.\n",
       "</p>\n",
       "<p>If any argument is an <code>NA</code> element, the corresponding element of\n",
       "the answer is <code>NA</code>.\n",
       "</p>\n",
       "<p>Elements of the result will be have the encoding declared as that of\n",
       "the current locale (see <code>Encoding</code>) if the corresponding\n",
       "input had a declared Latin-1 or UTF-8 encoding and the current locale\n",
       "is either Latin-1 or UTF-8.\n",
       "</p>\n",
       "<p>If an input element has declared <code>\"bytes\"</code> encoding (see\n",
       "<code>Encoding</code>, the subsetting is done in units of bytes not\n",
       "characters.\n",
       "</p>\n",
       "\n",
       "\n",
       "<h3>Value</h3>\n",
       "\n",
       "<p>For <code>substr</code>, a character vector of the same length and with the\n",
       "same attributes as <code>x</code> (after possible coercion).\n",
       "</p>\n",
       "<p>For <code>substring</code>, a character vector of length the longest of the\n",
       "arguments.  This will have names taken from <code>x</code> (if it has any\n",
       "after coercion, repeated as needed), and other attributes copied from\n",
       "<code>x</code> if it is the longest of the arguments).\n",
       "</p>\n",
       "<p>Elements of <code>x</code> with a declared encoding (see\n",
       "<code>Encoding</code>) will be returned with the same encoding.\n",
       "</p>\n",
       "\n",
       "\n",
       "<h3>Note</h3>\n",
       "\n",
       "<p>The S4 version of <code>substring&lt;-</code> ignores <code>last</code>; this version\n",
       "does not.\n",
       "</p>\n",
       "<p>These functions are often used with <code>nchar</code> to truncate a\n",
       "display.  That does not really work (you want to limit the width, not\n",
       "the number of characters, so it would be better to use\n",
       "<code>strtrim</code>), but at least make sure you use the default\n",
       "<code>nchar(type = \"c\")</code>.\n",
       "</p>\n",
       "\n",
       "\n",
       "<h3>References</h3>\n",
       "\n",
       "<p>Becker, R. A., Chambers, J. M. and Wilks, A. R. (1988)\n",
       "<em>The New S Language</em>.\n",
       "Wadsworth &amp; Brooks/Cole.  (<code>substring</code>.)\n",
       "</p>\n",
       "\n",
       "\n",
       "<h3>See Also</h3>\n",
       "\n",
       "<p><code>strsplit</code>, <code>paste</code>, <code>nchar</code>.\n",
       "</p>\n",
       "\n",
       "\n",
       "<h3>Examples</h3>\n",
       "\n",
       "<pre>\n",
       "substr(\"abcdef\", 2, 4)\n",
       "substring(\"abcdef\", 1:6, 1:6)\n",
       "## strsplit is more efficient ...\n",
       "\n",
       "substr(rep(\"abcdef\", 4), 1:4, 4:5)\n",
       "x &lt;- c(\"asfef\", \"qwerty\", \"yuiop[\", \"b\", \"stuff.blah.yech\")\n",
       "substr(x, 2, 5)\n",
       "substring(x, 2, 4:6)\n",
       "\n",
       "substring(x, 2) &lt;- c(\"..\", \"+++\")\n",
       "x\n",
       "</pre>\n",
       "\n",
       "<hr /><div style=\"text-align: center;\">[Package <em>base</em> version 3.5.1 ]</div>"
      ],
      "text/latex": [
       "\\inputencoding{utf8}\n",
       "\\HeaderA{substr}{Substrings of a Character Vector}{substr}\n",
       "\\aliasA{substr<\\Rdash{}}{substr}{substr<.Rdash.}\n",
       "\\aliasA{substring}{substr}{substring}\n",
       "\\aliasA{substring<\\Rdash{}}{substr}{substring<.Rdash.}\n",
       "\\keyword{character}{substr}\n",
       "%\n",
       "\\begin{Description}\\relax\n",
       "Extract or replace substrings in a character vector.\n",
       "\\end{Description}\n",
       "%\n",
       "\\begin{Usage}\n",
       "\\begin{verbatim}\n",
       "substr(x, start, stop)\n",
       "substring(text, first, last = 1000000L)\n",
       "substr(x, start, stop) <- value\n",
       "substring(text, first, last = 1000000L) <- value\n",
       "\\end{verbatim}\n",
       "\\end{Usage}\n",
       "%\n",
       "\\begin{Arguments}\n",
       "\\begin{ldescription}\n",
       "\\item[\\code{x, text}] a character vector.\n",
       "\\item[\\code{start, first}] integer.  The first element to be replaced.\n",
       "\\item[\\code{stop, last}] integer.  The last element to be replaced.\n",
       "\\item[\\code{value}] a character vector, recycled if necessary.\n",
       "\\end{ldescription}\n",
       "\\end{Arguments}\n",
       "%\n",
       "\\begin{Details}\\relax\n",
       "\\code{substring} is compatible with S, with \\code{first} and\n",
       "\\code{last} instead of \\code{start} and \\code{stop}.\n",
       "For vector arguments, it expands the arguments cyclically to the\n",
       "length of the longest \\emph{provided} none are of zero length.\n",
       "\n",
       "When extracting, if \\code{start} is larger than the string length then\n",
       "\\code{\"\"} is returned.\n",
       "\n",
       "For the extraction functions, \\code{x} or \\code{text} will be\n",
       "converted to a character vector by \\code{\\LinkA{as.character}{as.character}} if it is not\n",
       "already one.\n",
       "\n",
       "For the replacement functions, if \\code{start} is larger than the\n",
       "string length then no replacement is done.  If the portion to be\n",
       "replaced is longer than the replacement string, then only the\n",
       "portion the length of the string is replaced.\n",
       "\n",
       "If any argument is an \\code{NA} element, the corresponding element of\n",
       "the answer is \\code{NA}.\n",
       "\n",
       "Elements of the result will be have the encoding declared as that of\n",
       "the current locale (see \\code{\\LinkA{Encoding}{Encoding}}) if the corresponding\n",
       "input had a declared Latin-1 or UTF-8 encoding and the current locale\n",
       "is either Latin-1 or UTF-8.\n",
       "\n",
       "If an input element has declared \\code{\"bytes\"} encoding (see\n",
       "\\code{\\LinkA{Encoding}{Encoding}}, the subsetting is done in units of bytes not\n",
       "characters.\n",
       "\\end{Details}\n",
       "%\n",
       "\\begin{Value}\n",
       "For \\code{substr}, a character vector of the same length and with the\n",
       "same attributes as \\code{x} (after possible coercion).\n",
       "\n",
       "For \\code{substring}, a character vector of length the longest of the\n",
       "arguments.  This will have names taken from \\code{x} (if it has any\n",
       "after coercion, repeated as needed), and other attributes copied from\n",
       "\\code{x} if it is the longest of the arguments).\n",
       "\n",
       "Elements of \\code{x} with a declared encoding (see\n",
       "\\code{\\LinkA{Encoding}{Encoding}}) will be returned with the same encoding.\n",
       "\\end{Value}\n",
       "%\n",
       "\\begin{Note}\\relax\n",
       "The S4 version of \\code{substring<-} ignores \\code{last}; this version\n",
       "does not.\n",
       "\n",
       "These functions are often used with \\code{\\LinkA{nchar}{nchar}} to truncate a\n",
       "display.  That does not really work (you want to limit the width, not\n",
       "the number of characters, so it would be better to use\n",
       "\\code{\\LinkA{strtrim}{strtrim}}), but at least make sure you use the default\n",
       "\\code{nchar(type = \"c\")}.\n",
       "\\end{Note}\n",
       "%\n",
       "\\begin{References}\\relax\n",
       "Becker, R. A., Chambers, J. M. and Wilks, A. R. (1988)\n",
       "\\emph{The New S Language}.\n",
       "Wadsworth \\& Brooks/Cole.  (\\code{substring}.)\n",
       "\\end{References}\n",
       "%\n",
       "\\begin{SeeAlso}\\relax\n",
       "\\code{\\LinkA{strsplit}{strsplit}}, \\code{\\LinkA{paste}{paste}}, \\code{\\LinkA{nchar}{nchar}}.\n",
       "\\end{SeeAlso}\n",
       "%\n",
       "\\begin{Examples}\n",
       "\\begin{ExampleCode}\n",
       "substr(\"abcdef\", 2, 4)\n",
       "substring(\"abcdef\", 1:6, 1:6)\n",
       "## strsplit is more efficient ...\n",
       "\n",
       "substr(rep(\"abcdef\", 4), 1:4, 4:5)\n",
       "x <- c(\"asfef\", \"qwerty\", \"yuiop[\", \"b\", \"stuff.blah.yech\")\n",
       "substr(x, 2, 5)\n",
       "substring(x, 2, 4:6)\n",
       "\n",
       "substring(x, 2) <- c(\"..\", \"+++\")\n",
       "x\n",
       "\\end{ExampleCode}\n",
       "\\end{Examples}"
      ],
      "text/plain": [
       "substr                  package:base                   R Documentation\n",
       "\n",
       "_\bS_\bu_\bb_\bs_\bt_\br_\bi_\bn_\bg_\bs _\bo_\bf _\ba _\bC_\bh_\ba_\br_\ba_\bc_\bt_\be_\br _\bV_\be_\bc_\bt_\bo_\br\n",
       "\n",
       "_\bD_\be_\bs_\bc_\br_\bi_\bp_\bt_\bi_\bo_\bn:\n",
       "\n",
       "     Extract or replace substrings in a character vector.\n",
       "\n",
       "_\bU_\bs_\ba_\bg_\be:\n",
       "\n",
       "     substr(x, start, stop)\n",
       "     substring(text, first, last = 1000000L)\n",
       "     substr(x, start, stop) <- value\n",
       "     substring(text, first, last = 1000000L) <- value\n",
       "     \n",
       "_\bA_\br_\bg_\bu_\bm_\be_\bn_\bt_\bs:\n",
       "\n",
       " x, text: a character vector.\n",
       "\n",
       "start, first: integer.  The first element to be replaced.\n",
       "\n",
       "stop, last: integer.  The last element to be replaced.\n",
       "\n",
       "   value: a character vector, recycled if necessary.\n",
       "\n",
       "_\bD_\be_\bt_\ba_\bi_\bl_\bs:\n",
       "\n",
       "     'substring' is compatible with S, with 'first' and 'last' instead\n",
       "     of 'start' and 'stop'.  For vector arguments, it expands the\n",
       "     arguments cyclically to the length of the longest _provided_ none\n",
       "     are of zero length.\n",
       "\n",
       "     When extracting, if 'start' is larger than the string length then\n",
       "     '\"\"' is returned.\n",
       "\n",
       "     For the extraction functions, 'x' or 'text' will be converted to a\n",
       "     character vector by 'as.character' if it is not already one.\n",
       "\n",
       "     For the replacement functions, if 'start' is larger than the\n",
       "     string length then no replacement is done.  If the portion to be\n",
       "     replaced is longer than the replacement string, then only the\n",
       "     portion the length of the string is replaced.\n",
       "\n",
       "     If any argument is an 'NA' element, the corresponding element of\n",
       "     the answer is 'NA'.\n",
       "\n",
       "     Elements of the result will be have the encoding declared as that\n",
       "     of the current locale (see 'Encoding') if the corresponding input\n",
       "     had a declared Latin-1 or UTF-8 encoding and the current locale is\n",
       "     either Latin-1 or UTF-8.\n",
       "\n",
       "     If an input element has declared '\"bytes\"' encoding (see\n",
       "     'Encoding', the subsetting is done in units of bytes not\n",
       "     characters.\n",
       "\n",
       "_\bV_\ba_\bl_\bu_\be:\n",
       "\n",
       "     For 'substr', a character vector of the same length and with the\n",
       "     same attributes as 'x' (after possible coercion).\n",
       "\n",
       "     For 'substring', a character vector of length the longest of the\n",
       "     arguments.  This will have names taken from 'x' (if it has any\n",
       "     after coercion, repeated as needed), and other attributes copied\n",
       "     from 'x' if it is the longest of the arguments).\n",
       "\n",
       "     Elements of 'x' with a declared encoding (see 'Encoding') will be\n",
       "     returned with the same encoding.\n",
       "\n",
       "_\bN_\bo_\bt_\be:\n",
       "\n",
       "     The S4 version of 'substring<-' ignores 'last'; this version does\n",
       "     not.\n",
       "\n",
       "     These functions are often used with 'nchar' to truncate a display.\n",
       "     That does not really work (you want to limit the width, not the\n",
       "     number of characters, so it would be better to use 'strtrim'), but\n",
       "     at least make sure you use the default 'nchar(type = \"c\")'.\n",
       "\n",
       "_\bR_\be_\bf_\be_\br_\be_\bn_\bc_\be_\bs:\n",
       "\n",
       "     Becker, R. A., Chambers, J. M. and Wilks, A. R. (1988) _The New S\n",
       "     Language_.  Wadsworth & Brooks/Cole.  ('substring'.)\n",
       "\n",
       "_\bS_\be_\be _\bA_\bl_\bs_\bo:\n",
       "\n",
       "     'strsplit', 'paste', 'nchar'.\n",
       "\n",
       "_\bE_\bx_\ba_\bm_\bp_\bl_\be_\bs:\n",
       "\n",
       "     substr(\"abcdef\", 2, 4)\n",
       "     substring(\"abcdef\", 1:6, 1:6)\n",
       "     ## strsplit is more efficient ...\n",
       "     \n",
       "     substr(rep(\"abcdef\", 4), 1:4, 4:5)\n",
       "     x <- c(\"asfef\", \"qwerty\", \"yuiop[\", \"b\", \"stuff.blah.yech\")\n",
       "     substr(x, 2, 5)\n",
       "     substring(x, 2, 4:6)\n",
       "     \n",
       "     substring(x, 2) <- c(\"..\", \"+++\")\n",
       "     x\n",
       "     "
      ]
     },
     "metadata": {},
     "output_type": "display_data"
    }
   ],
   "source": [
    "?substr"
   ]
  },
  {
   "cell_type": "code",
   "execution_count": 12,
   "metadata": {},
   "outputs": [
    {
     "data": {
      "text/html": [
       "\n",
       "<table width=\"100%\" summary=\"page for strsplit {base}\"><tr><td>strsplit {base}</td><td style=\"text-align: right;\">R Documentation</td></tr></table>\n",
       "\n",
       "<h2>Split the Elements of a Character Vector</h2>\n",
       "\n",
       "<h3>Description</h3>\n",
       "\n",
       "<p>Split the elements of a character vector <code>x</code> into substrings\n",
       "according to the matches to substring <code>split</code> within them.\n",
       "</p>\n",
       "\n",
       "\n",
       "<h3>Usage</h3>\n",
       "\n",
       "<pre>\n",
       "strsplit(x, split, fixed = FALSE, perl = FALSE, useBytes = FALSE)\n",
       "</pre>\n",
       "\n",
       "\n",
       "<h3>Arguments</h3>\n",
       "\n",
       "<table summary=\"R argblock\">\n",
       "<tr valign=\"top\"><td><code>x</code></td>\n",
       "<td>\n",
       "\n",
       "<p>character vector, each element of which is to be split.  Other\n",
       "inputs, including a factor, will give an error.\n",
       "</p>\n",
       "</td></tr>\n",
       "<tr valign=\"top\"><td><code>split</code></td>\n",
       "<td>\n",
       "\n",
       "<p>character vector (or object which can be coerced to such)\n",
       "containing regular expression(s) (unless <code>fixed = TRUE</code>)\n",
       "to use for splitting.  If empty matches occur, in particular if\n",
       "<code>split</code> has length 0, <code>x</code> is split into single characters.\n",
       "If <code>split</code> has length greater than 1, it is re-cycled along\n",
       "<code>x</code>.\n",
       "</p>\n",
       "</td></tr>\n",
       "<tr valign=\"top\"><td><code>fixed</code></td>\n",
       "<td>\n",
       "\n",
       "<p>logical.  If <code>TRUE</code> match <code>split</code> exactly, otherwise\n",
       "use regular expressions.  Has priority over <code>perl</code>.\n",
       "</p>\n",
       "</td></tr>\n",
       "<tr valign=\"top\"><td><code>perl</code></td>\n",
       "<td>\n",
       "<p>logical.  Should Perl-compatible regexps be used?</p>\n",
       "</td></tr>\n",
       "<tr valign=\"top\"><td><code>useBytes</code></td>\n",
       "<td>\n",
       "<p>logical.  If <code>TRUE</code> the matching is done\n",
       "byte-by-byte rather than character-by-character, and inputs with\n",
       "marked encodings are not converted.  This is forced (with a warning)\n",
       "if any input is found which is marked as <code>\"bytes\"</code>\n",
       "(see <code>Encoding</code>).</p>\n",
       "</td></tr>\n",
       "</table>\n",
       "\n",
       "\n",
       "<h3>Details</h3>\n",
       "\n",
       "<p>Argument <code>split</code> will be coerced to character, so\n",
       "you will see uses with <code>split = NULL</code> to mean\n",
       "<code>split = character(0)</code>, including in the examples below.\n",
       "</p>\n",
       "<p>Note that splitting into single characters can be done <em>via</em>\n",
       "<code>split = character(0)</code> or <code>split = \"\"</code>; the two are\n",
       "equivalent.  The definition of &lsquo;character&rsquo; here depends on the\n",
       "locale: in a single-byte locale it is a byte, and in a multi-byte\n",
       "locale it is the unit represented by a &lsquo;wide character&rsquo; (almost\n",
       "always a Unicode code point).\n",
       "</p>\n",
       "<p>A missing value of <code>split</code> does not split the corresponding\n",
       "element(s) of <code>x</code> at all.\n",
       "</p>\n",
       "<p>The algorithm applied to each input string is\n",
       "</p>\n",
       "<pre>    repeat {\n",
       "        if the string is empty\n",
       "            break.\n",
       "        if there is a match\n",
       "            add the string to the left of the match to the output.\n",
       "            remove the match and all to the left of it.\n",
       "        else\n",
       "            add the string to the output.\n",
       "            break.\n",
       "    }\n",
       "</pre>\n",
       "<p>Note that this means that if there is a match at the beginning of a\n",
       "(non-empty) string, the first element of the output is <code>\"\"</code>, but\n",
       "if there is a match at the end of the string, the output is the same\n",
       "as with the match removed.\n",
       "</p>\n",
       "<p>Invalid inputs in the current locale are warned about up to 5 times.\n",
       "</p>\n",
       "\n",
       "\n",
       "<h3>Value</h3>\n",
       "\n",
       "<p>A list of the same length as <code>x</code>, the <code>i</code>-th element of which\n",
       "contains the vector of splits of <code>x[i]</code>.\n",
       "</p>\n",
       "<p>If any element of <code>x</code> or <code>split</code> is declared to be in UTF-8\n",
       "(see <code>Encoding</code>), all non-ASCII character strings in the\n",
       "result will be in UTF-8 and have their encoding declared as UTF-8.\n",
       "For <code>perl = TRUE, useBytes = FALSE</code> all non-ASCII strings in a\n",
       "multibyte locale are translated to UTF-8.\n",
       "</p>\n",
       "\n",
       "\n",
       "<h3>See Also</h3>\n",
       "\n",
       "<p><code>paste</code> for the reverse,\n",
       "<code>grep</code> and <code>sub</code> for string search and\n",
       "manipulation; also <code>nchar</code>, <code>substr</code>.\n",
       "</p>\n",
       "<p>&lsquo;regular expression&rsquo; for the details of the pattern\n",
       "specification.\n",
       "</p>\n",
       "<p>Option <code>PCRE_use_JIT</code> controls the details when <code>perl = TRUE</code>.\n",
       "</p>\n",
       "\n",
       "\n",
       "<h3>Examples</h3>\n",
       "\n",
       "<pre>\n",
       "noquote(strsplit(\"A text I want to display with spaces\", NULL)[[1]])\n",
       "\n",
       "x &lt;- c(as = \"asfef\", qu = \"qwerty\", \"yuiop[\", \"b\", \"stuff.blah.yech\")\n",
       "# split x on the letter e\n",
       "strsplit(x, \"e\")\n",
       "\n",
       "unlist(strsplit(\"a.b.c\", \".\"))\n",
       "## [1] \"\" \"\" \"\" \"\" \"\"\n",
       "## Note that 'split' is a regexp!\n",
       "## If you really want to split on '.', use\n",
       "unlist(strsplit(\"a.b.c\", \"[.]\"))\n",
       "## [1] \"a\" \"b\" \"c\"\n",
       "## or\n",
       "unlist(strsplit(\"a.b.c\", \".\", fixed = TRUE))\n",
       "\n",
       "## a useful function: rev() for strings\n",
       "strReverse &lt;- function(x)\n",
       "        sapply(lapply(strsplit(x, NULL), rev), paste, collapse = \"\")\n",
       "strReverse(c(\"abc\", \"Statistics\"))\n",
       "\n",
       "## get the first names of the members of R-core\n",
       "a &lt;- readLines(file.path(R.home(\"doc\"),\"AUTHORS\"))[-(1:8)]\n",
       "a &lt;- a[(0:2)-length(a)]\n",
       "(a &lt;- sub(\" .*\",\"\", a))\n",
       "# and reverse them\n",
       "strReverse(a)\n",
       "\n",
       "## Note that final empty strings are not produced:\n",
       "strsplit(paste(c(\"\", \"a\", \"\"), collapse=\"#\"), split=\"#\")[[1]]\n",
       "# [1] \"\"  \"a\"\n",
       "## and also an empty string is only produced before a definite match:\n",
       "strsplit(\"\", \" \")[[1]]    # character(0)\n",
       "strsplit(\" \", \" \")[[1]]   # [1] \"\"\n",
       "</pre>\n",
       "\n",
       "<hr /><div style=\"text-align: center;\">[Package <em>base</em> version 3.5.1 ]</div>"
      ],
      "text/latex": [
       "\\inputencoding{utf8}\n",
       "\\HeaderA{strsplit}{Split the Elements of a Character Vector}{strsplit}\n",
       "\\keyword{character}{strsplit}\n",
       "%\n",
       "\\begin{Description}\\relax\n",
       "Split the elements of a character vector \\code{x} into substrings\n",
       "according to the matches to substring \\code{split} within them.\n",
       "\\end{Description}\n",
       "%\n",
       "\\begin{Usage}\n",
       "\\begin{verbatim}\n",
       "strsplit(x, split, fixed = FALSE, perl = FALSE, useBytes = FALSE)\n",
       "\\end{verbatim}\n",
       "\\end{Usage}\n",
       "%\n",
       "\\begin{Arguments}\n",
       "\\begin{ldescription}\n",
       "\\item[\\code{x}] \n",
       "character vector, each element of which is to be split.  Other\n",
       "inputs, including a factor, will give an error.\n",
       "\n",
       "\\item[\\code{split}] \n",
       "character vector (or object which can be coerced to such)\n",
       "containing \\LinkA{regular expression}{regular expression}(s) (unless \\code{fixed = TRUE})\n",
       "to use for splitting.  If empty matches occur, in particular if\n",
       "\\code{split} has length 0, \\code{x} is split into single characters.\n",
       "If \\code{split} has length greater than 1, it is re-cycled along\n",
       "\\code{x}.\n",
       "\n",
       "\\item[\\code{fixed}] \n",
       "logical.  If \\code{TRUE} match \\code{split} exactly, otherwise\n",
       "use regular expressions.  Has priority over \\code{perl}.\n",
       "\n",
       "\\item[\\code{perl}] logical.  Should Perl-compatible regexps be used?\n",
       "\\item[\\code{useBytes}] logical.  If \\code{TRUE} the matching is done\n",
       "byte-by-byte rather than character-by-character, and inputs with\n",
       "marked encodings are not converted.  This is forced (with a warning)\n",
       "if any input is found which is marked as \\code{\"bytes\"}\n",
       "(see \\code{\\LinkA{Encoding}{Encoding}}).\n",
       "\\end{ldescription}\n",
       "\\end{Arguments}\n",
       "%\n",
       "\\begin{Details}\\relax\n",
       "Argument \\code{split} will be coerced to character, so\n",
       "you will see uses with \\code{split = NULL} to mean\n",
       "\\code{split = character(0)}, including in the examples below.\n",
       "\n",
       "Note that splitting into single characters can be done \\emph{via}\n",
       "\\code{split = character(0)} or \\code{split = \"\"}; the two are\n",
       "equivalent.  The definition of `character' here depends on the\n",
       "locale: in a single-byte locale it is a byte, and in a multi-byte\n",
       "locale it is the unit represented by a `wide character' (almost\n",
       "always a Unicode code point).\n",
       "\n",
       "A missing value of \\code{split} does not split the corresponding\n",
       "element(s) of \\code{x} at all.\n",
       "\n",
       "The algorithm applied to each input string is\n",
       "\\begin{alltt}    repeat \\{\n",
       "        if the string is empty\n",
       "            break.\n",
       "        if there is a match\n",
       "            add the string to the left of the match to the output.\n",
       "            remove the match and all to the left of it.\n",
       "        else\n",
       "            add the string to the output.\n",
       "            break.\n",
       "    \\}\n",
       "\\end{alltt}\n",
       "\n",
       "Note that this means that if there is a match at the beginning of a\n",
       "(non-empty) string, the first element of the output is \\code{\"\"}, but\n",
       "if there is a match at the end of the string, the output is the same\n",
       "as with the match removed.\n",
       "\n",
       "Invalid inputs in the current locale are warned about up to 5 times.\n",
       "\\end{Details}\n",
       "%\n",
       "\\begin{Value}\n",
       "A list of the same length as \\code{x}, the \\code{i}-th element of which\n",
       "contains the vector of splits of \\code{x[i]}.\n",
       "\n",
       "If any element of \\code{x} or \\code{split} is declared to be in UTF-8\n",
       "(see \\code{\\LinkA{Encoding}{Encoding}}), all non-ASCII character strings in the\n",
       "result will be in UTF-8 and have their encoding declared as UTF-8.\n",
       "For \\code{perl = TRUE, useBytes = FALSE} all non-ASCII strings in a\n",
       "multibyte locale are translated to UTF-8.\n",
       "\\end{Value}\n",
       "%\n",
       "\\begin{SeeAlso}\\relax\n",
       "\\code{\\LinkA{paste}{paste}} for the reverse,\n",
       "\\code{\\LinkA{grep}{grep}} and \\code{\\LinkA{sub}{sub}} for string search and\n",
       "manipulation; also \\code{\\LinkA{nchar}{nchar}}, \\code{\\LinkA{substr}{substr}}.\n",
       "\n",
       "`\\LinkA{regular expression}{regular expression}' for the details of the pattern\n",
       "specification.\n",
       "\n",
       "Option \\code{PCRE\\_use\\_JIT} controls the details when \\code{perl = TRUE}.\n",
       "\\end{SeeAlso}\n",
       "%\n",
       "\\begin{Examples}\n",
       "\\begin{ExampleCode}\n",
       "noquote(strsplit(\"A text I want to display with spaces\", NULL)[[1]])\n",
       "\n",
       "x <- c(as = \"asfef\", qu = \"qwerty\", \"yuiop[\", \"b\", \"stuff.blah.yech\")\n",
       "# split x on the letter e\n",
       "strsplit(x, \"e\")\n",
       "\n",
       "unlist(strsplit(\"a.b.c\", \".\"))\n",
       "## [1] \"\" \"\" \"\" \"\" \"\"\n",
       "## Note that 'split' is a regexp!\n",
       "## If you really want to split on '.', use\n",
       "unlist(strsplit(\"a.b.c\", \"[.]\"))\n",
       "## [1] \"a\" \"b\" \"c\"\n",
       "## or\n",
       "unlist(strsplit(\"a.b.c\", \".\", fixed = TRUE))\n",
       "\n",
       "## a useful function: rev() for strings\n",
       "strReverse <- function(x)\n",
       "        sapply(lapply(strsplit(x, NULL), rev), paste, collapse = \"\")\n",
       "strReverse(c(\"abc\", \"Statistics\"))\n",
       "\n",
       "## get the first names of the members of R-core\n",
       "a <- readLines(file.path(R.home(\"doc\"),\"AUTHORS\"))[-(1:8)]\n",
       "a <- a[(0:2)-length(a)]\n",
       "(a <- sub(\" .*\",\"\", a))\n",
       "# and reverse them\n",
       "strReverse(a)\n",
       "\n",
       "## Note that final empty strings are not produced:\n",
       "strsplit(paste(c(\"\", \"a\", \"\"), collapse=\"#\"), split=\"#\")[[1]]\n",
       "# [1] \"\"  \"a\"\n",
       "## and also an empty string is only produced before a definite match:\n",
       "strsplit(\"\", \" \")[[1]]    # character(0)\n",
       "strsplit(\" \", \" \")[[1]]   # [1] \"\"\n",
       "\\end{ExampleCode}\n",
       "\\end{Examples}"
      ],
      "text/plain": [
       "strsplit                 package:base                  R Documentation\n",
       "\n",
       "_\bS_\bp_\bl_\bi_\bt _\bt_\bh_\be _\bE_\bl_\be_\bm_\be_\bn_\bt_\bs _\bo_\bf _\ba _\bC_\bh_\ba_\br_\ba_\bc_\bt_\be_\br _\bV_\be_\bc_\bt_\bo_\br\n",
       "\n",
       "_\bD_\be_\bs_\bc_\br_\bi_\bp_\bt_\bi_\bo_\bn:\n",
       "\n",
       "     Split the elements of a character vector 'x' into substrings\n",
       "     according to the matches to substring 'split' within them.\n",
       "\n",
       "_\bU_\bs_\ba_\bg_\be:\n",
       "\n",
       "     strsplit(x, split, fixed = FALSE, perl = FALSE, useBytes = FALSE)\n",
       "     \n",
       "_\bA_\br_\bg_\bu_\bm_\be_\bn_\bt_\bs:\n",
       "\n",
       "       x: character vector, each element of which is to be split.\n",
       "          Other inputs, including a factor, will give an error.\n",
       "\n",
       "   split: character vector (or object which can be coerced to such)\n",
       "          containing regular expression(s) (unless 'fixed = TRUE') to\n",
       "          use for splitting.  If empty matches occur, in particular if\n",
       "          'split' has length 0, 'x' is split into single characters.\n",
       "          If 'split' has length greater than 1, it is re-cycled along\n",
       "          'x'.\n",
       "\n",
       "   fixed: logical.  If 'TRUE' match 'split' exactly, otherwise use\n",
       "          regular expressions.  Has priority over 'perl'.\n",
       "\n",
       "    perl: logical.  Should Perl-compatible regexps be used?\n",
       "\n",
       "useBytes: logical.  If 'TRUE' the matching is done byte-by-byte rather\n",
       "          than character-by-character, and inputs with marked encodings\n",
       "          are not converted.  This is forced (with a warning) if any\n",
       "          input is found which is marked as '\"bytes\"' (see 'Encoding').\n",
       "\n",
       "_\bD_\be_\bt_\ba_\bi_\bl_\bs:\n",
       "\n",
       "     Argument 'split' will be coerced to character, so you will see\n",
       "     uses with 'split = NULL' to mean 'split = character(0)', including\n",
       "     in the examples below.\n",
       "\n",
       "     Note that splitting into single characters can be done _via_\n",
       "     'split = character(0)' or 'split = \"\"'; the two are equivalent.\n",
       "     The definition of 'character' here depends on the locale: in a\n",
       "     single-byte locale it is a byte, and in a multi-byte locale it is\n",
       "     the unit represented by a 'wide character' (almost always a\n",
       "     Unicode code point).\n",
       "\n",
       "     A missing value of 'split' does not split the corresponding\n",
       "     element(s) of 'x' at all.\n",
       "\n",
       "     The algorithm applied to each input string is\n",
       "     \n",
       "         repeat {\n",
       "             if the string is empty\n",
       "                 break.\n",
       "             if there is a match\n",
       "                 add the string to the left of the match to the output.\n",
       "                 remove the match and all to the left of it.\n",
       "             else\n",
       "                 add the string to the output.\n",
       "                 break.\n",
       "         }\n",
       "\n",
       "     Note that this means that if there is a match at the beginning of\n",
       "     a (non-empty) string, the first element of the output is '\"\"', but\n",
       "     if there is a match at the end of the string, the output is the\n",
       "     same as with the match removed.\n",
       "\n",
       "     Invalid inputs in the current locale are warned about up to 5\n",
       "     times.\n",
       "\n",
       "_\bV_\ba_\bl_\bu_\be:\n",
       "\n",
       "     A list of the same length as 'x', the 'i'-th element of which\n",
       "     contains the vector of splits of 'x[i]'.\n",
       "\n",
       "     If any element of 'x' or 'split' is declared to be in UTF-8 (see\n",
       "     'Encoding'), all non-ASCII character strings in the result will be\n",
       "     in UTF-8 and have their encoding declared as UTF-8.  For 'perl =\n",
       "     TRUE, useBytes = FALSE' all non-ASCII strings in a multibyte\n",
       "     locale are translated to UTF-8.\n",
       "\n",
       "_\bS_\be_\be _\bA_\bl_\bs_\bo:\n",
       "\n",
       "     'paste' for the reverse, 'grep' and 'sub' for string search and\n",
       "     manipulation; also 'nchar', 'substr'.\n",
       "\n",
       "     'regular expression' for the details of the pattern specification.\n",
       "\n",
       "     Option 'PCRE_use_JIT' controls the details when 'perl = TRUE'.\n",
       "\n",
       "_\bE_\bx_\ba_\bm_\bp_\bl_\be_\bs:\n",
       "\n",
       "     noquote(strsplit(\"A text I want to display with spaces\", NULL)[[1]])\n",
       "     \n",
       "     x <- c(as = \"asfef\", qu = \"qwerty\", \"yuiop[\", \"b\", \"stuff.blah.yech\")\n",
       "     # split x on the letter e\n",
       "     strsplit(x, \"e\")\n",
       "     \n",
       "     unlist(strsplit(\"a.b.c\", \".\"))\n",
       "     ## [1] \"\" \"\" \"\" \"\" \"\"\n",
       "     ## Note that 'split' is a regexp!\n",
       "     ## If you really want to split on '.', use\n",
       "     unlist(strsplit(\"a.b.c\", \"[.]\"))\n",
       "     ## [1] \"a\" \"b\" \"c\"\n",
       "     ## or\n",
       "     unlist(strsplit(\"a.b.c\", \".\", fixed = TRUE))\n",
       "     \n",
       "     ## a useful function: rev() for strings\n",
       "     strReverse <- function(x)\n",
       "             sapply(lapply(strsplit(x, NULL), rev), paste, collapse = \"\")\n",
       "     strReverse(c(\"abc\", \"Statistics\"))\n",
       "     \n",
       "     ## get the first names of the members of R-core\n",
       "     a <- readLines(file.path(R.home(\"doc\"),\"AUTHORS\"))[-(1:8)]\n",
       "     a <- a[(0:2)-length(a)]\n",
       "     (a <- sub(\" .*\",\"\", a))\n",
       "     # and reverse them\n",
       "     strReverse(a)\n",
       "     \n",
       "     ## Note that final empty strings are not produced:\n",
       "     strsplit(paste(c(\"\", \"a\", \"\"), collapse=\"#\"), split=\"#\")[[1]]\n",
       "     # [1] \"\"  \"a\"\n",
       "     ## and also an empty string is only produced before a definite match:\n",
       "     strsplit(\"\", \" \")[[1]]    # character(0)\n",
       "     strsplit(\" \", \" \")[[1]]   # [1] \"\"\n",
       "     "
      ]
     },
     "metadata": {},
     "output_type": "display_data"
    }
   ],
   "source": [
    "?strsplit"
   ]
  },
  {
   "cell_type": "code",
   "execution_count": null,
   "metadata": {},
   "outputs": [],
   "source": []
  }
 ],
 "metadata": {
  "kernelspec": {
   "display_name": "R",
   "language": "R",
   "name": "ir"
  },
  "language_info": {
   "codemirror_mode": "r",
   "file_extension": ".r",
   "mimetype": "text/x-r-source",
   "name": "R",
   "pygments_lexer": "r",
   "version": "3.5.1"
  }
 },
 "nbformat": 4,
 "nbformat_minor": 2
}
