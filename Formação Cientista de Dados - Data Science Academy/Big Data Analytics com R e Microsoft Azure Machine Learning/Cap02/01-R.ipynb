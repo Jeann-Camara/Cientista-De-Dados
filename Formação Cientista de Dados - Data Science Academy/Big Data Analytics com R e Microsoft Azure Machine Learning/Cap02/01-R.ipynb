{
 "cells": [
  {
   "cell_type": "code",
   "execution_count": 2,
   "metadata": {},
   "outputs": [
    {
     "data": {
      "text/plain": [
       "R Information\n",
       "\n",
       "R is a project which is attempting to provide a modern piece of\n",
       "statistical software for the GNU suite of software.\n",
       "\n",
       "The current R is the result of a collaborative effort with\n",
       "contributions from all over the world.\n",
       "\n",
       "\n",
       "Authors of R.\n",
       "\n",
       "R was initially written by Robert Gentleman and Ross Ihakaâ€”also known as \"R & R\"\n",
       "of the Statistics Department of the University of Auckland.\n",
       "\n",
       "Since mid-1997 there has been a core group with write access to the R\n",
       "source, currently consisting of\n",
       "\n",
       "Douglas Bates\n",
       "John Chambers\n",
       "Peter Dalgaard\n",
       "Robert Gentleman\n",
       "Kurt Hornik\n",
       "Ross Ihaka\n",
       "Tomas Kalibera\n",
       "Michael Lawrence\n",
       "Friedrich Leisch\n",
       "Uwe Ligges\n",
       "Thomas Lumley\n",
       "Martin Maechler\n",
       "Martin Morgan\n",
       "Paul Murrell\n",
       "Martyn Plummer\n",
       "Brian Ripley\n",
       "Deepayan Sarkar\n",
       "Duncan Temple Lang\n",
       "Luke Tierney\n",
       "Simon Urbanek\n",
       "\n",
       "plus Heiner Schwarte up to October 1999, Guido Masarotto up to June 2003,\n",
       "Stefano Iacus up to July 2014, Seth Falcon up to August 2015 and Duncan Murdoch\n",
       "up to September 2017.\n",
       "\n",
       "\n",
       "Current R-core members can be contacted via email to R-project.org\n",
       "with name made up by replacing spaces by dots in the name listed above.\n",
       "\n",
       "(The authors of code from other projects included in the R distribution\n",
       "are listed in the COPYRIGHTS file.)\n",
       "\n",
       "R would not be what it is today without the invaluable help of these\n",
       "people outside of the R core team, who contributed by donating code, bug\n",
       "fixes and documentation:\n",
       "\n",
       "Valerio Aimale, Suharto Anggono, Thomas Baier, Henrik Bengtsson, Roger Bivand,\n",
       "Ben Bolker, David Brahm, G\"oran Brostr\"om, Patrick Burns, Vince Carey,\n",
       "Saikat DebRoy, Matt Dowle, Brian D'Urso, Lyndon Drake, Dirk Eddelbuettel,\n",
       "Claus Ekstrom, Sebastian Fischmeister, John Fox, Paul Gilbert,\n",
       "Yu Gong, Gabor Grothendieck, Frank E Harrell Jr, Peter M. Haverty,\n",
       "Torsten Hothorn, Robert King, Kjetil Kjernsmo, Roger Koenker, Philippe Lambert,\n",
       "Jan de Leeuw, Jim Lindsey, Patrick Lindsey, Catherine Loader,\n",
       "Gordon Maclean, John Maindonald, David Meyer, Ei-ji Nakama,\n",
       "Jens Oehlschaegel, Steve Oncley, Richard O'Keefe, Hubert Palme,\n",
       "Roger D. Peng, Jose' C. Pinheiro, Tony Plate, Anthony Rossini,\n",
       "Jonathan Rougier, Petr Savicky, Guenther Sawitzki, Marc Schwartz,\n",
       "Arun Srinivasan, Detlef Steuer, Bill Simpson, Gordon Smyth, Adrian Trapletti,\n",
       "Terry Therneau, Rolf Turner, Bill Venables, Gregory R. Warnes,\n",
       "Andreas Weingessel, Morten Welinder, James Wettenhall, Simon Wood, and\n",
       "Achim Zeileis.\n",
       "\n",
       "Others have written code that has been adopted by R and is\n",
       "acknowledged in the code files, including\n",
       "\n",
       "J. D. Beasley, David J. Best, Richard Brent, Kevin Buhr, Michael\n",
       "A. Covington, Bill Cleveland, Robert Cleveland,, G. W. Cran,\n",
       "C. G. Ding, Ulrich Drepper, Paul Eggert, J. O. Evans, David M. Gay,\n",
       "H. Frick, G. W. Hill, Richard H. Jones, Eric Grosse, Shelby Haberman,\n",
       "Bruno Haible, John Hartigan, Andrew Harvey, Trevor Hastie, Min Long\n",
       "Lam, George Marsaglia, K. J. Martin, Gordon Matzigkeit,\n",
       "C. R. Mckenzie, Jean McRae, Cyrus Mehta, Fionn Murtagh, John C. Nash,\n",
       "Finbarr O'Sullivan, R. E. Odeh, William Patefield, Nitin Patel, Alan\n",
       "Richardson, D. E. Roberts, Patrick Royston, Russell Lenth, Ming-Jen\n",
       "Shyu, Richard C. Singleton, S. G. Springer, Supoj Sutanthavibul, Irma\n",
       "Terpenning, G. E. Thomas, Rob Tibshirani, Wai Wan Tsang, Berwin\n",
       "Turlach, Gary V. Vaughan, Michael Wichura, Jingbo Wang, M. A. Wong,\n",
       "and the Free Software Foundation (for autoconf code and utilities).\n",
       "See also files under src/extras.\n",
       "\n",
       "Many more, too numerous to mention here, have contributed by sending bug\n",
       "reports and suggesting various improvements.\n",
       "\n",
       "Simon Davies whilst at the University of Auckland wrote the original\n",
       "version of glm().\n",
       "\n",
       "Julian Harris and Wing Kwong (Tiki) Wan whilst at the University of\n",
       "Auckland assisted Ross Ihaka with the original Macintosh port.\n",
       "\n",
       "R was inspired by the S environment which has been principally\n",
       "developed by John Chambers, with substantial input from Douglas Bates,\n",
       "Rick Becker, Bill Cleveland, Trevor Hastie, Daryl Pregibon and\n",
       "Allan Wilks.\n",
       "\n",
       "A special debt is owed to John Chambers who has graciously contributed\n",
       "advice and encouragement in the early days of R and later became a\n",
       "member of the core team.\n",
       "\n",
       "\n",
       "\n",
       "The R Foundation may decide to give out <first.lastname>@R-project.org\n",
       "email addresses to contributors to the R Project (even without making them\n",
       "members of the R Foundation) when in the view of the R Foundation this\n",
       "would help advance the R project.\n",
       "\n",
       "The R Core Group, Roger Bivand, Jennifer Bryan, Di Cook, Dirk Eddelbuettel,\n",
       "John Fox, Bettina GrÃ¼n, Frank Harrell, Torsten Hothorn, Stefano Iacus,\n",
       "Julie Josse, Balasubramanian Narasimhan, Marc Schwartz, Heather Turner,\n",
       "Bill Venables, Hadley Wickham and Achim Zeileis are the ordinary members of\n",
       "the R Foundation.\n",
       "In addition, David Meyer and Simon Wood are also e-addressable by\n",
       "<Firstname>.<Lastname>@R-project.org."
      ]
     },
     "metadata": {},
     "output_type": "display_data"
    }
   ],
   "source": [
    "contributors()"
   ]
  },
  {
   "cell_type": "code",
   "execution_count": 3,
   "metadata": {},
   "outputs": [
    {
     "name": "stdout",
     "output_type": "stream",
     "text": [
      "\n",
      "This software is distributed under the terms of the GNU General\n",
      "Public License, either Version 2, June 1991 or Version 3, June 2007.\n",
      "The terms of version 2 of the license are in a file called COPYING\n",
      "which you should have received with\n",
      "this software and which can be displayed by RShowDoc(\"COPYING\").\n",
      "Version 3 of the license can be displayed by RShowDoc(\"GPL-3\").\n",
      "\n",
      "Copies of both versions 2 and 3 of the license can be found\n",
      "at https://www.R-project.org/Licenses/.\n",
      "\n",
      "A small number of files (the API header files listed in\n",
      "R_DOC_DIR/COPYRIGHTS) are distributed under the\n",
      "LESSER GNU GENERAL PUBLIC LICENSE, version 2.1 or later.\n",
      "This can be displayed by RShowDoc(\"LGPL-2.1\"),\n",
      "or obtained at the URI given.\n",
      "Version 3 of the license can be displayed by RShowDoc(\"LGPL-3\").\n",
      "\n",
      "'Share and Enjoy.'\n",
      "\n"
     ]
    }
   ],
   "source": [
    "license()"
   ]
  },
  {
   "cell_type": "code",
   "execution_count": 5,
   "metadata": {},
   "outputs": [
    {
     "data": {
      "text/plain": [
       "R version 3.5.1 (2018-07-02)\n",
       "Platform: x86_64-w64-mingw32/x64 (64-bit)\n",
       "Running under: Windows 10 x64 (build 15063)\n",
       "\n",
       "Matrix products: default\n",
       "\n",
       "locale:\n",
       "[1] LC_COLLATE=Portuguese_Brazil.1252  LC_CTYPE=Portuguese_Brazil.1252   \n",
       "[3] LC_MONETARY=Portuguese_Brazil.1252 LC_NUMERIC=C                      \n",
       "[5] LC_TIME=Portuguese_Brazil.1252    \n",
       "\n",
       "attached base packages:\n",
       "[1] stats     graphics  grDevices utils     datasets  methods   base     \n",
       "\n",
       "loaded via a namespace (and not attached):\n",
       " [1] compiler_3.5.1  magrittr_1.5    IRdisplay_0.5.0 pbdZMQ_0.3-3   \n",
       " [5] tools_3.5.1     htmltools_0.3.6 base64enc_0.1-3 crayon_1.3.4   \n",
       " [9] Rcpp_0.12.18    uuid_0.1-2      stringi_1.2.4   IRkernel_0.8.12\n",
       "[13] jsonlite_1.5    stringr_1.3.1   digest_0.6.15   repr_0.15.0    \n",
       "[17] evaluate_0.11  "
      ]
     },
     "metadata": {},
     "output_type": "display_data"
    }
   ],
   "source": [
    "sessionInfo()"
   ]
  },
  {
   "cell_type": "code",
   "execution_count": 7,
   "metadata": {},
   "outputs": [
    {
     "name": "stdout",
     "output_type": "stream",
     "text": [
      "[1] \"Estou iniciando minha caminhada na carreira de Cientista de Dados\"\n"
     ]
    }
   ],
   "source": [
    "print('Estou iniciando minha caminhada na carreira de Cientista de Dados')"
   ]
  },
  {
   "cell_type": "markdown",
   "metadata": {},
   "source": [
    "## Criar Gráfico"
   ]
  },
  {
   "cell_type": "code",
   "execution_count": 19,
   "metadata": {},
   "outputs": [
    {
     "data": {
      "image/png": "[encoded data removed]",
      "text/plain": [
       "plot without title"
      ]
     },
     "metadata": {},
     "output_type": "display_data",
     "source": "R display func"
    }
   ],
   "source": [
    "plot(1:100)"
   ]
  },
  {
   "cell_type": "markdown",
   "metadata": {},
   "source": [
    "## Carregar Pacotes."
   ]
  },
  {
   "cell_type": "code",
   "execution_count": 32,
   "metadata": {},
   "outputs": [],
   "source": [
    "library('randomForest')\n",
    "library('ggplot2')\n",
    "library('dplyr')\n",
    "#library('devtools')"
   ]
  },
  {
   "cell_type": "markdown",
   "metadata": {},
   "source": [
    "## Help R"
   ]
  },
  {
   "cell_type": "code",
   "execution_count": 33,
   "metadata": {},
   "outputs": [
    {
     "data": {
      "text/html": [
       "\n",
       "<table width=\"100%\" summary=\"page for mean {base}\"><tr><td>mean {base}</td><td style=\"text-align: right;\">R Documentation</td></tr></table>\n",
       "\n",
       "<h2>Arithmetic Mean</h2>\n",
       "\n",
       "<h3>Description</h3>\n",
       "\n",
       "<p>Generic function for the (trimmed) arithmetic mean.\n",
       "</p>\n",
       "\n",
       "\n",
       "<h3>Usage</h3>\n",
       "\n",
       "<pre>\n",
       "mean(x, ...)\n",
       "\n",
       "## Default S3 method:\n",
       "mean(x, trim = 0, na.rm = FALSE, ...)\n",
       "</pre>\n",
       "\n",
       "\n",
       "<h3>Arguments</h3>\n",
       "\n",
       "<table summary=\"R argblock\">\n",
       "<tr valign=\"top\"><td><code>x</code></td>\n",
       "<td>\n",
       "<p>An <span style=\"font-family: Courier New, Courier; color: #666666;\"><b>R</b></span> object.  Currently there are methods for\n",
       "numeric/logical vectors and date,\n",
       "date-time and time interval objects.  Complex vectors\n",
       "are allowed for <code>trim = 0</code>, only.</p>\n",
       "</td></tr>\n",
       "<tr valign=\"top\"><td><code>trim</code></td>\n",
       "<td>\n",
       "<p>the fraction (0 to 0.5) of observations to be\n",
       "trimmed from each end of <code>x</code> before the mean is computed.\n",
       "Values of trim outside that range are taken as the nearest endpoint.\n",
       "</p>\n",
       "</td></tr>\n",
       "<tr valign=\"top\"><td><code>na.rm</code></td>\n",
       "<td>\n",
       "<p>a logical value indicating whether <code>NA</code>\n",
       "values should be stripped before the computation proceeds.</p>\n",
       "</td></tr>\n",
       "<tr valign=\"top\"><td><code>...</code></td>\n",
       "<td>\n",
       "<p>further arguments passed to or from other methods.</p>\n",
       "</td></tr>\n",
       "</table>\n",
       "\n",
       "\n",
       "<h3>Value</h3>\n",
       "\n",
       "<p>If <code>trim</code> is zero (the default), the arithmetic mean of the\n",
       "values in <code>x</code> is computed, as a numeric or complex vector of\n",
       "length one.  If <code>x</code> is not logical (coerced to numeric), numeric\n",
       "(including integer) or complex, <code>NA_real_</code> is returned, with a warning.\n",
       "</p>\n",
       "<p>If <code>trim</code> is non-zero, a symmetrically trimmed mean is computed\n",
       "with a fraction of <code>trim</code> observations deleted from each end\n",
       "before the mean is computed.\n",
       "</p>\n",
       "\n",
       "\n",
       "<h3>References</h3>\n",
       "\n",
       "<p>Becker, R. A., Chambers, J. M. and Wilks, A. R. (1988)\n",
       "<em>The New S Language</em>.\n",
       "Wadsworth &amp; Brooks/Cole.\n",
       "</p>\n",
       "\n",
       "\n",
       "<h3>See Also</h3>\n",
       "\n",
       "<p><code>weighted.mean</code>, <code>mean.POSIXct</code>,\n",
       "<code>colMeans</code> for row and column means.\n",
       "</p>\n",
       "\n",
       "\n",
       "<h3>Examples</h3>\n",
       "\n",
       "<pre>\n",
       "x &lt;- c(0:10, 50)\n",
       "xm &lt;- mean(x)\n",
       "c(xm, mean(x, trim = 0.10))\n",
       "</pre>\n",
       "\n",
       "<hr /><div style=\"text-align: center;\">[Package <em>base</em> version 3.5.1 ]</div>"
      ],
      "text/latex": [
       "\\inputencoding{utf8}\n",
       "\\HeaderA{mean}{Arithmetic Mean}{mean}\n",
       "\\methaliasA{mean.default}{mean}{mean.default}\n",
       "\\keyword{univar}{mean}\n",
       "%\n",
       "\\begin{Description}\\relax\n",
       "Generic function for the (trimmed) arithmetic mean.\n",
       "\\end{Description}\n",
       "%\n",
       "\\begin{Usage}\n",
       "\\begin{verbatim}\n",
       "mean(x, ...)\n",
       "\n",
       "## Default S3 method:\n",
       "mean(x, trim = 0, na.rm = FALSE, ...)\n",
       "\\end{verbatim}\n",
       "\\end{Usage}\n",
       "%\n",
       "\\begin{Arguments}\n",
       "\\begin{ldescription}\n",
       "\\item[\\code{x}] An \\R{} object.  Currently there are methods for\n",
       "numeric/logical vectors and \\LinkA{date}{Dates},\n",
       "\\LinkA{date-time}{date.Rdash.time} and \\LinkA{time interval}{time interval} objects.  Complex vectors\n",
       "are allowed for \\code{trim = 0}, only.\n",
       "\\item[\\code{trim}] the fraction (0 to 0.5) of observations to be\n",
       "trimmed from each end of \\code{x} before the mean is computed.\n",
       "Values of trim outside that range are taken as the nearest endpoint.\n",
       "\n",
       "\\item[\\code{na.rm}] a logical value indicating whether \\code{NA}\n",
       "values should be stripped before the computation proceeds.\n",
       "\\item[\\code{...}] further arguments passed to or from other methods.\n",
       "\\end{ldescription}\n",
       "\\end{Arguments}\n",
       "%\n",
       "\\begin{Value}\n",
       "If \\code{trim} is zero (the default), the arithmetic mean of the\n",
       "values in \\code{x} is computed, as a numeric or complex vector of\n",
       "length one.  If \\code{x} is not logical (coerced to numeric), numeric\n",
       "(including integer) or complex, \\code{NA\\_real\\_} is returned, with a warning.\n",
       "\n",
       "If \\code{trim} is non-zero, a symmetrically trimmed mean is computed\n",
       "with a fraction of \\code{trim} observations deleted from each end\n",
       "before the mean is computed.\n",
       "\\end{Value}\n",
       "%\n",
       "\\begin{References}\\relax\n",
       "Becker, R. A., Chambers, J. M. and Wilks, A. R. (1988)\n",
       "\\emph{The New S Language}.\n",
       "Wadsworth \\& Brooks/Cole.\n",
       "\\end{References}\n",
       "%\n",
       "\\begin{SeeAlso}\\relax\n",
       "\\code{\\LinkA{weighted.mean}{weighted.mean}}, \\code{\\LinkA{mean.POSIXct}{mean.POSIXct}},\n",
       "\\code{\\LinkA{colMeans}{colMeans}} for row and column means.\n",
       "\\end{SeeAlso}\n",
       "%\n",
       "\\begin{Examples}\n",
       "\\begin{ExampleCode}\n",
       "x <- c(0:10, 50)\n",
       "xm <- mean(x)\n",
       "c(xm, mean(x, trim = 0.10))\n",
       "\\end{ExampleCode}\n",
       "\\end{Examples}"
      ],
      "text/plain": [
       "mean                   package:base                    R Documentation\n",
       "\n",
       "_\bA_\br_\bi_\bt_\bh_\bm_\be_\bt_\bi_\bc _\bM_\be_\ba_\bn\n",
       "\n",
       "_\bD_\be_\bs_\bc_\br_\bi_\bp_\bt_\bi_\bo_\bn:\n",
       "\n",
       "     Generic function for the (trimmed) arithmetic mean.\n",
       "\n",
       "_\bU_\bs_\ba_\bg_\be:\n",
       "\n",
       "     mean(x, ...)\n",
       "     \n",
       "     ## Default S3 method:\n",
       "     mean(x, trim = 0, na.rm = FALSE, ...)\n",
       "     \n",
       "_\bA_\br_\bg_\bu_\bm_\be_\bn_\bt_\bs:\n",
       "\n",
       "       x: An R object.  Currently there are methods for numeric/logical\n",
       "          vectors and date, date-time and time interval objects.\n",
       "          Complex vectors are allowed for 'trim = 0', only.\n",
       "\n",
       "    trim: the fraction (0 to 0.5) of observations to be trimmed from\n",
       "          each end of 'x' before the mean is computed.  Values of trim\n",
       "          outside that range are taken as the nearest endpoint.\n",
       "\n",
       "   na.rm: a logical value indicating whether 'NA' values should be\n",
       "          stripped before the computation proceeds.\n",
       "\n",
       "     ...: further arguments passed to or from other methods.\n",
       "\n",
       "_\bV_\ba_\bl_\bu_\be:\n",
       "\n",
       "     If 'trim' is zero (the default), the arithmetic mean of the values\n",
       "     in 'x' is computed, as a numeric or complex vector of length one.\n",
       "     If 'x' is not logical (coerced to numeric), numeric (including\n",
       "     integer) or complex, 'NA_real_' is returned, with a warning.\n",
       "\n",
       "     If 'trim' is non-zero, a symmetrically trimmed mean is computed\n",
       "     with a fraction of 'trim' observations deleted from each end\n",
       "     before the mean is computed.\n",
       "\n",
       "_\bR_\be_\bf_\be_\br_\be_\bn_\bc_\be_\bs:\n",
       "\n",
       "     Becker, R. A., Chambers, J. M. and Wilks, A. R. (1988) _The New S\n",
       "     Language_.  Wadsworth & Brooks/Cole.\n",
       "\n",
       "_\bS_\be_\be _\bA_\bl_\bs_\bo:\n",
       "\n",
       "     'weighted.mean', 'mean.POSIXct', 'colMeans' for row and column\n",
       "     means.\n",
       "\n",
       "_\bE_\bx_\ba_\bm_\bp_\bl_\be_\bs:\n",
       "\n",
       "     x <- c(0:10, 50)\n",
       "     xm <- mean(x)\n",
       "     c(xm, mean(x, trim = 0.10))\n",
       "     "
      ]
     },
     "metadata": {},
     "output_type": "display_data"
    }
   ],
   "source": [
    "help(mean)"
   ]
  },
  {
   "cell_type": "markdown",
   "metadata": {},
   "source": [
    "## Função Example"
   ]
  },
  {
   "cell_type": "code",
   "execution_count": 38,
   "metadata": {},
   "outputs": [
    {
     "name": "stdout",
     "output_type": "stream",
     "text": [
      "\n",
      "mean> x <- c(0:10, 50)\n",
      "\n",
      "mean> xm <- mean(x)\n",
      "\n",
      "mean> c(xm, mean(x, trim = 0.10))\n",
      "[1] 8.75 5.50\n"
     ]
    }
   ],
   "source": [
    "example(mean)"
   ]
  },
  {
   "cell_type": "markdown",
   "metadata": {},
   "source": [
    "## Sair"
   ]
  },
  {
   "cell_type": "code",
   "execution_count": 39,
   "metadata": {},
   "outputs": [],
   "source": [
    "q()"
   ]
  },
  {
   "cell_type": "code",
   "execution_count": null,
   "metadata": {},
   "outputs": [],
   "source": []
  }
 ],
 "metadata": {
  "kernelspec": {
   "display_name": "R",
   "language": "R",
   "name": "ir"
  },
  "language_info": {
   "codemirror_mode": "r",
   "file_extension": ".r",
   "mimetype": "text/x-r-source",
   "name": "R",
   "pygments_lexer": "r",
   "version": "3.5.1"
  }
 },
 "nbformat": 4,
 "nbformat_minor": 2
}
