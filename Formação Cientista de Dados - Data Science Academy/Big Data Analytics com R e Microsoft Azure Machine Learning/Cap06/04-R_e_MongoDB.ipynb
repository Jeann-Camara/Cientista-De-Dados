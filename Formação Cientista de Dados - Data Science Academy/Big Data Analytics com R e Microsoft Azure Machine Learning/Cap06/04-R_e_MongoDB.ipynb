{
 "cells": [
  {
   "cell_type": "code",
   "execution_count": null,
   "metadata": {},
   "outputs": [],
   "source": [
    "# RMongoDB\n",
    "# Instalação do Pacote\n",
    "#install.packages(\"devtools\")\n",
    "#library(\"devtools\")\n",
    "#install_github(\"mongosoup/rmongodb\", force = TRUE)\n",
    "#library(rmongodb)"
   ]
  },
  {
   "cell_type": "code",
   "execution_count": null,
   "metadata": {},
   "outputs": [],
   "source": [
    "# Criando a conexão\n",
    "help(\"mongo.create\")\n",
    "mongo <- mongo.create()\n",
    "mongo"
   ]
  },
  {
   "cell_type": "code",
   "execution_count": null,
   "metadata": {},
   "outputs": [],
   "source": [
    "# Checando a conexão\n",
    "mongo.is.connected(mongo)\n",
    "\n",
    "if(mongo.is.connected(mongo) == TRUE) {\n",
    "  mongo.get.databases(mongo)\n",
    "}"
   ]
  },
  {
   "cell_type": "code",
   "execution_count": null,
   "metadata": {},
   "outputs": [],
   "source": [
    "# Armazenando o nome de uma das coleções\n",
    "coll <- \"users.contatos\""
   ]
  },
  {
   "cell_type": "code",
   "execution_count": null,
   "metadata": {},
   "outputs": [],
   "source": [
    "# Contando os registros em uma coleção\n",
    "help(\"mongo.count\")\n",
    "mongo.count(mongo, coll)"
   ]
  },
  {
   "cell_type": "code",
   "execution_count": null,
   "metadata": {},
   "outputs": [],
   "source": [
    "# Buscando um registro em uma coleção\n",
    "mongo.find.one(mongo, coll)"
   ]
  },
  {
   "cell_type": "code",
   "execution_count": null,
   "metadata": {},
   "outputs": [],
   "source": [
    "# Obtendo um vetor de valores distintos das chaves de uma coleção\n",
    "res <- mongo.distinct(mongo, coll, \"city\")\n",
    "head(res)"
   ]
  },
  {
   "cell_type": "code",
   "execution_count": null,
   "metadata": {},
   "outputs": [],
   "source": [
    "# Obtendo um vetor de valores distintos das chaves de uma coleção\n",
    "# E gerando um histograma\n",
    "pop <- mongo.distinct(mongo, coll, \"pop\")\n",
    "hist(pop)"
   ]
  },
  {
   "cell_type": "code",
   "execution_count": null,
   "metadata": {},
   "outputs": [],
   "source": [
    "# Contando os elementos\n",
    "nr <- mongo.count(mongo, coll, list('pop' = list('$lte' = 2)))\n",
    "print( nr )"
   ]
  },
  {
   "cell_type": "code",
   "execution_count": null,
   "metadata": {},
   "outputs": [],
   "source": [
    "# Buscando todos os elementos\n",
    "pops <- mongo.find.all(mongo, coll, list('pop' = list('$lte' = 2)))\n",
    "head(pops, 2)"
   ]
  },
  {
   "cell_type": "code",
   "execution_count": null,
   "metadata": {},
   "outputs": [],
   "source": [
    "# Encerrando a conexão\n",
    "mongo.destroy(mongo)"
   ]
  },
  {
   "cell_type": "code",
   "execution_count": null,
   "metadata": {},
   "outputs": [],
   "source": [
    "# Criando e validando um arquivo json\n",
    "library(jsonlite)\n",
    "json_arquivo <- '{\"pop\":{\"$lte\":2}, \"pop\":{\"$gte\":1}}'\n",
    "cat(prettify(json_arquivo))\n",
    "\n",
    "validate(json_arquivo)"
   ]
  },
  {
   "cell_type": "code",
   "execution_count": null,
   "metadata": {},
   "outputs": [],
   "source": []
  }
 ],
 "metadata": {
  "kernelspec": {
   "display_name": "R",
   "language": "R",
   "name": "ir"
  },
  "language_info": {
   "codemirror_mode": "r",
   "file_extension": ".r",
   "mimetype": "text/x-r-source",
   "name": "R",
   "pygments_lexer": "r",
   "version": "3.6.0"
  }
 },
 "nbformat": 4,
 "nbformat_minor": 2
}
