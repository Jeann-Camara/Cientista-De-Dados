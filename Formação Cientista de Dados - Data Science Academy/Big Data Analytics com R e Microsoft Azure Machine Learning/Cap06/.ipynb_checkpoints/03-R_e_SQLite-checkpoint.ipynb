{
 "cells": [
  {
   "cell_type": "code",
   "execution_count": null,
   "metadata": {},
   "outputs": [],
   "source": [
    "# Instalar SQLite\n",
    "#install.packages(\"RSQLite\")\n",
    "#library(RSQLite)"
   ]
  },
  {
   "cell_type": "code",
   "execution_count": null,
   "metadata": {},
   "outputs": [],
   "source": [
    "# Remover o banco SQLite, caso exista - Não é obrigatório\n",
    "system(\"del exemplo.db\") # --> no Windows\n",
    "# system(\"rm exemplo.db\")    # --> no Mac e Linux"
   ]
  },
  {
   "cell_type": "code",
   "execution_count": null,
   "metadata": {},
   "outputs": [],
   "source": [
    "# Criando driver e conexão ao banco de dados\n",
    "drv = dbDriver(\"SQLite\")\n",
    "con = dbConnect(drv, dbname = \"exemplo.db\")\n",
    "dbListTables(con)"
   ]
  },
  {
   "cell_type": "code",
   "execution_count": null,
   "metadata": {},
   "outputs": [],
   "source": [
    "# Criando uma tabela e carregando com dados do dataset mtcars\n",
    "dbWriteTable(con, \"mtcars\", mtcars, row.names = TRUE)"
   ]
  },
  {
   "cell_type": "code",
   "execution_count": null,
   "metadata": {},
   "outputs": [],
   "source": [
    "# Listando uma tabela\n",
    "dbListTables(con)\n",
    "dbExistsTable(con,\"mtcars\")\n",
    "dbExistsTable(con,\"mtcars2\")\n",
    "dbListFields(con,\"mtcars\")"
   ]
  },
  {
   "cell_type": "code",
   "execution_count": null,
   "metadata": {},
   "outputs": [],
   "source": [
    "# Lendo o conteúdo da tabela\n",
    "dbReadTable(con, \"mtcars\")"
   ]
  },
  {
   "cell_type": "code",
   "execution_count": null,
   "metadata": {},
   "outputs": [],
   "source": [
    "# Criando apenas a definição da tabela.\n",
    "dbWriteTable(con, \"mtcars2\", mtcars[0, ], row.names = TRUE)\n",
    "dbListTables(con)\n",
    "dbReadTable(con, \"mtcars2\")"
   ]
  },
  {
   "cell_type": "code",
   "execution_count": null,
   "metadata": {},
   "outputs": [],
   "source": [
    "# Executando consultas no banco de dados\n",
    "query = \"select row_names from mtcars\"\n",
    "rs = dbSendQuery(con, query)\n",
    "dados = fetch(rs, n = -1)\n",
    "dados\n",
    "class(dados)"
   ]
  },
  {
   "cell_type": "code",
   "execution_count": null,
   "metadata": {},
   "outputs": [],
   "source": [
    "# Executando consultas no banco de dados\n",
    "query = \"select row_names from mtcars\"\n",
    "rs = dbSendQuery(con, query)\n",
    "while (!dbHasCompleted(rs))\n",
    "{\n",
    "  dados = fetch(rs, n = 1)\n",
    "  print(dados$row_names)\n",
    "}"
   ]
  },
  {
   "cell_type": "code",
   "execution_count": null,
   "metadata": {},
   "outputs": [],
   "source": [
    "# Executando consultas no banco de dados\n",
    "query = \"select disp, hp from mtcars where disp > 160\"\n",
    "rs = dbSendQuery(con, query)\n",
    "dados = fetch(rs, n = -1)\n",
    "dados"
   ]
  },
  {
   "cell_type": "code",
   "execution_count": null,
   "metadata": {},
   "outputs": [],
   "source": [
    "# Executando consultas no banco de dados\n",
    "query = \"select row_names, avg(hp) from mtcars group by row_names\"\n",
    "rs = dbSendQuery(con, query)\n",
    "dados = fetch(rs, n = -1)\n",
    "dados"
   ]
  },
  {
   "cell_type": "code",
   "execution_count": null,
   "metadata": {},
   "outputs": [],
   "source": [
    "# Criando uma tabela a partir de um arquivo\n",
    "dbWriteTable(con, \"iris\", \"iris.csv\", sep = \",\", header = T)\n",
    "dbListTables(con)\n",
    "dbReadTable(con, \"iris\")"
   ]
  },
  {
   "cell_type": "code",
   "execution_count": null,
   "metadata": {},
   "outputs": [],
   "source": [
    "# Encerrando a conexão\n",
    "dbDisconnect(con)"
   ]
  },
  {
   "cell_type": "code",
   "execution_count": null,
   "metadata": {},
   "outputs": [],
   "source": [
    "# Carregando dados no banco de dados\n",
    "# http://dados.gov.br/dataset/iq-indice-nacional-de-precos-ao-consumidor-amplo-15-ipca15\n",
    "# Criando driver e conexão ao banco de dados\n",
    "drv = dbDriver(\"SQLite\")\n",
    "con = dbConnect(drv, dbname = \"exemplo.db\")\n",
    "\n",
    "dbWriteTable(con,\"indices\", \"indice.csv\",\n",
    "              sep = \"|\", header = T)\n",
    "\n",
    "dbRemoveTable(con, \"indices\")\n",
    "\n",
    "dbWriteTable(con,\"indices\", \"indice.csv\",\n",
    "             sep = \"|\", header = T)\n",
    "\n",
    "dbListTables(con)\n",
    "dbReadTable(con, \"indices\")\n",
    "\n",
    "df <- dbReadTable(con, \"indices\")\n",
    "df\n",
    "str(df)\n",
    "sapply(df, class)\n",
    "\n",
    "hist(df$setembro)\n",
    "df_mean <- unlist(lapply(df[, c(4, 5, 6, 7, 8)], mean))\n",
    "df_mean\n",
    "\n",
    "dbDisconnect(con)"
   ]
  },
  {
   "cell_type": "code",
   "execution_count": null,
   "metadata": {},
   "outputs": [],
   "source": []
  }
 ],
 "metadata": {
  "kernelspec": {
   "display_name": "R",
   "language": "R",
   "name": "ir"
  },
  "language_info": {
   "codemirror_mode": "r",
   "file_extension": ".r",
   "mimetype": "text/x-r-source",
   "name": "R",
   "pygments_lexer": "r",
   "version": "3.6.0"
  }
 },
 "nbformat": 4,
 "nbformat_minor": 2
}
