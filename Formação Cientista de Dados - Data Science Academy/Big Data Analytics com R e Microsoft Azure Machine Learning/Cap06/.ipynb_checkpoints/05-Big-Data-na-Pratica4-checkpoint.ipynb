{
 "cells": [
  {
   "cell_type": "code",
   "execution_count": null,
   "metadata": {},
   "outputs": [],
   "source": [
    "# Carregando os pacotes\n",
    "#library(plyr)\n",
    "#library(corrplot)\n",
    "#library(ggplot2)\n",
    "#library(gridExtra)\n",
    "#library(ggthemes)\n",
    "#library(caret)\n",
    "#library(MASS)\n",
    "#library(randomForest)\n",
    "#library(party)"
   ]
  },
  {
   "cell_type": "code",
   "execution_count": null,
   "metadata": {},
   "outputs": [],
   "source": [
    "##### Carregando e Limpando os Dados ##### \n",
    "\n",
    "# Os dados brutos contém 7043 linhas (clientes) e 21 colunas (recursos). \n",
    "# A coluna \"Churn\" é o nosso alvo.\n",
    "churn <- read.csv('Telco-Customer-Churn.csv')\n",
    "View(churn)\n",
    "str(churn)"
   ]
  },
  {
   "cell_type": "code",
   "execution_count": null,
   "metadata": {},
   "outputs": [],
   "source": [
    "# Usamos sapply para verificar o número de valores ausentes (missing) em cada coluna. \n",
    "# Descobrimos que há 11 valores ausentes nas colunas \"TotalCharges\". \n",
    "# Então, vamos remover todas as linhas com valores ausentes.\n",
    "sapply(churn, function(x) sum(is.na(x)))\n",
    "churn <- churn[complete.cases(churn), ]"
   ]
  },
  {
   "cell_type": "code",
   "execution_count": null,
   "metadata": {},
   "outputs": [],
   "source": [
    "# Olhe para as variáveis, podemos ver que temos algumas limpezas e ajustes para fazer.\n",
    "# 1. Vamos mudar \"No internet service\" para \"No\" por seis colunas, que são: \n",
    "# \"OnlineSecurity\", \"OnlineBackup\", \"DeviceProtection\", \"TechSupport\", \"streamingTV\", \n",
    "# \"streamingMovies\".\n",
    "str(churn)\n",
    "cols_recode1 <- c(10:15)\n",
    "for(i in 1:ncol(churn[,cols_recode1])) {\n",
    "  churn[,cols_recode1][,i] <- as.factor(mapvalues\n",
    "                                        (churn[,cols_recode1][,i], from =c(\"No internet service\"),to=c(\"No\")))\n",
    "}"
   ]
  },
  {
   "cell_type": "code",
   "execution_count": null,
   "metadata": {},
   "outputs": [],
   "source": [
    "# 2. Vamos mudar \"No phone service\" para \"No\" para a coluna “MultipleLines”\n",
    "churn$MultipleLines <- as.factor(mapvalues(churn$MultipleLines, \n",
    "                                           from=c(\"No phone service\"),\n",
    "                                           to=c(\"No\")))"
   ]
  },
  {
   "cell_type": "code",
   "execution_count": null,
   "metadata": {},
   "outputs": [],
   "source": [
    "# 3. Como a permanência mínima é de 1 mês e a permanência máxima é de 72 meses, \n",
    "# podemos agrupá-los em cinco grupos de posse (tenure): \n",
    "# “0-12 Mês”, “12–24 Mês”, “24–48 Meses”, “48–60 Mês” Mês ”,“> 60 Mês”\n",
    "min(churn$tenure); max(churn$tenure)\n",
    "\n",
    "group_tenure <- function(tenure){\n",
    "  if (tenure >= 0 & tenure <= 12){\n",
    "    return('0-12 Month')\n",
    "  }else if(tenure > 12 & tenure <= 24){\n",
    "    return('12-24 Month')\n",
    "  }else if (tenure > 24 & tenure <= 48){\n",
    "    return('24-48 Month')\n",
    "  }else if (tenure > 48 & tenure <=60){\n",
    "    return('48-60 Month')\n",
    "  }else if (tenure > 60){\n",
    "    return('> 60 Month')\n",
    "  }\n",
    "}\n",
    "\n",
    "churn$tenure_group <- sapply(churn$tenure,group_tenure)\n",
    "churn$tenure_group <- as.factor(churn$tenure_group)"
   ]
  },
  {
   "cell_type": "code",
   "execution_count": null,
   "metadata": {},
   "outputs": [],
   "source": [
    "# 4. Alteramos os valores na coluna “SeniorCitizen” de 0 ou 1 para “No” ou “Yes”.\n",
    "churn$SeniorCitizen <- as.factor(mapvalues(churn$SeniorCitizen,\n",
    "                                           from=c(\"0\",\"1\"),\n",
    "                                           to=c(\"No\", \"Yes\")))"
   ]
  },
  {
   "cell_type": "code",
   "execution_count": null,
   "metadata": {},
   "outputs": [],
   "source": [
    "# 5. Removemos as colunas que não precisamos para a análise.\n",
    "churn$customerID <- NULL\n",
    "churn$tenure <- NULL\n",
    "View(churn)"
   ]
  },
  {
   "cell_type": "code",
   "execution_count": null,
   "metadata": {},
   "outputs": [],
   "source": [
    "##### Análise exploratória de dados e seleção de recursos ##### \n",
    "\n",
    "# Correlação entre variáveis numéricas\n",
    "numeric.var <- sapply(churn, is.numeric)\n",
    "corr.matrix <- cor(churn[,numeric.var])\n",
    "corrplot(corr.matrix, main=\"\\n\\nGráfico de Correlação para Variáveis Numéricas\", method=\"number\")"
   ]
  },
  {
   "cell_type": "code",
   "execution_count": null,
   "metadata": {},
   "outputs": [],
   "source": [
    "# Os encargos mensais e os encargos totais estão correlacionados. \n",
    "# Então, um deles será removido do modelo. Nós removemos Total Charges.\n",
    "churn$TotalCharges <- NULL"
   ]
  },
  {
   "cell_type": "code",
   "execution_count": null,
   "metadata": {},
   "outputs": [],
   "source": [
    "# Gráficos de barra de variáveis categóricas\n",
    "p1 <- ggplot(churn, aes(x=gender)) + ggtitle(\"Gender\") + xlab(\"Sexo\") +\n",
    "  geom_bar(aes(y = 100*(..count..)/sum(..count..)), width = 0.5) + ylab(\"Percentual\") + coord_flip() + theme_minimal()\n",
    "p2 <- ggplot(churn, aes(x=SeniorCitizen)) + ggtitle(\"Senior Citizen\") + xlab(\"Senior Citizen\") + \n",
    "  geom_bar(aes(y = 100*(..count..)/sum(..count..)), width = 0.5) + ylab(\"Percentual\") + coord_flip() + theme_minimal()\n",
    "p3 <- ggplot(churn, aes(x=Partner)) + ggtitle(\"Partner\") + xlab(\"Parceiros\") + \n",
    "  geom_bar(aes(y = 100*(..count..)/sum(..count..)), width = 0.5) + ylab(\"Percentual\") + coord_flip() + theme_minimal()\n",
    "p4 <- ggplot(churn, aes(x=Dependents)) + ggtitle(\"Dependents\") + xlab(\"Dependentes\") +\n",
    "  geom_bar(aes(y = 100*(..count..)/sum(..count..)), width = 0.5) + ylab(\"Percentual\") + coord_flip() + theme_minimal()\n",
    "grid.arrange(p1, p2, p3, p4, ncol=2)\n",
    "\n",
    "\n",
    "p5 <- ggplot(churn, aes(x=PhoneService)) + ggtitle(\"Phone Service\") + xlab(\"Telefonia\") +\n",
    "  geom_bar(aes(y = 100*(..count..)/sum(..count..)), width = 0.5) + ylab(\"Percentual\") + coord_flip() + theme_minimal()\n",
    "p6 <- ggplot(churn, aes(x=MultipleLines)) + ggtitle(\"Multiple Lines\") + xlab(\"Múltiplas Linhas\") + \n",
    "  geom_bar(aes(y = 100*(..count..)/sum(..count..)), width = 0.5) + ylab(\"Percentual\") + coord_flip() + theme_minimal()\n",
    "p7 <- ggplot(churn, aes(x=InternetService)) + ggtitle(\"Internet Service\") + xlab(\"Internet Service\") + \n",
    "  geom_bar(aes(y = 100*(..count..)/sum(..count..)), width = 0.5) + ylab(\"Percentual\") + coord_flip() + theme_minimal()\n",
    "p8 <- ggplot(churn, aes(x=OnlineSecurity)) + ggtitle(\"Online Security\") + xlab(\"Online Security\") +\n",
    "  geom_bar(aes(y = 100*(..count..)/sum(..count..)), width = 0.5) + ylab(\"Percentual\") + coord_flip() + theme_minimal()\n",
    "grid.arrange(p5, p6, p7, p8, ncol=2)\n",
    "\n",
    "\n",
    "p9 <- ggplot(churn, aes(x=OnlineBackup)) + ggtitle(\"Online Backup\") + xlab(\"Online Backup\") +\n",
    "  geom_bar(aes(y = 100*(..count..)/sum(..count..)), width = 0.5) + ylab(\"Percentual\") + coord_flip() + theme_minimal()\n",
    "p10 <- ggplot(churn, aes(x=DeviceProtection)) + ggtitle(\"Device Protection\") + xlab(\"Device Protection\") + \n",
    "  geom_bar(aes(y = 100*(..count..)/sum(..count..)), width = 0.5) + ylab(\"Percentual\") + coord_flip() + theme_minimal()\n",
    "p11 <- ggplot(churn, aes(x=TechSupport)) + ggtitle(\"Tech Support\") + xlab(\"Tech Support\") + \n",
    "  geom_bar(aes(y = 100*(..count..)/sum(..count..)), width = 0.5) + ylab(\"Percentual\") + coord_flip() + theme_minimal()\n",
    "p12 <- ggplot(churn, aes(x=StreamingTV)) + ggtitle(\"Streaming TV\") + xlab(\"Streaming TV\") +\n",
    "  geom_bar(aes(y = 100*(..count..)/sum(..count..)), width = 0.5) + ylab(\"Percentual\") + coord_flip() + theme_minimal()\n",
    "grid.arrange(p9, p10, p11, p12, ncol=2)\n",
    "\n",
    "\n",
    "p13 <- ggplot(churn, aes(x=StreamingMovies)) + ggtitle(\"Streaming Movies\") + xlab(\"Streaming Movies\") +\n",
    "  geom_bar(aes(y = 100*(..count..)/sum(..count..)), width = 0.5) + ylab(\"Percentual\") + coord_flip() + theme_minimal()\n",
    "p14 <- ggplot(churn, aes(x=Contract)) + ggtitle(\"Contract\") + xlab(\"Contract\") + \n",
    "  geom_bar(aes(y = 100*(..count..)/sum(..count..)), width = 0.5) + ylab(\"Percentual\") + coord_flip() + theme_minimal()\n",
    "p15 <- ggplot(churn, aes(x=PaperlessBilling)) + ggtitle(\"Paperless Billing\") + xlab(\"Paperless Billing\") + \n",
    "  geom_bar(aes(y = 100*(..count..)/sum(..count..)), width = 0.5) + ylab(\"Percentual\") + coord_flip() + theme_minimal()\n",
    "p16 <- ggplot(churn, aes(x=PaymentMethod)) + ggtitle(\"Payment Method\") + xlab(\"Payment Method\") +\n",
    "  geom_bar(aes(y = 100*(..count..)/sum(..count..)), width = 0.5) + ylab(\"Percentual\") + coord_flip() + theme_minimal()\n",
    "p17 <- ggplot(churn, aes(x=tenure_group)) + ggtitle(\"Tenure Group\") + xlab(\"Tenure Group\") +\n",
    "  geom_bar(aes(y = 100*(..count..)/sum(..count..)), width = 0.5) + ylab(\"Percentual\") + coord_flip() + theme_minimal()\n",
    "grid.arrange(p13, p14, p15, p16, p17, ncol=2)\n",
    "\n",
    "\n",
    "# Todas as variáveis categóricas parecem ter uma distribuição razoavelmente ampla, \n",
    "# portanto, todas elas serão mantidas para análise posterior."
   ]
  },
  {
   "cell_type": "code",
   "execution_count": null,
   "metadata": {},
   "outputs": [],
   "source": [
    "##### Modelagem Preditiva ##### "
   ]
  },
  {
   "cell_type": "code",
   "execution_count": null,
   "metadata": {},
   "outputs": [],
   "source": [
    "# Regressão Logística"
   ]
  },
  {
   "cell_type": "code",
   "execution_count": null,
   "metadata": {},
   "outputs": [],
   "source": [
    "# Primeiro, dividimos os dados em conjuntos de treinamento e testes\n",
    "intrain <- createDataPartition(churn$Churn,p=0.7,list=FALSE)\n",
    "set.seed(2017)\n",
    "training <- churn[intrain,]\n",
    "testing <- churn[-intrain,]"
   ]
  },
  {
   "cell_type": "code",
   "execution_count": null,
   "metadata": {},
   "outputs": [],
   "source": [
    "# Confirme se a divisão está correta\n",
    "dim(training); dim(testing)"
   ]
  },
  {
   "cell_type": "code",
   "execution_count": null,
   "metadata": {},
   "outputs": [],
   "source": [
    "# Treinando o modelo de regressão logística\n",
    "# Fitting do Modelo\n",
    "?glm\n",
    "LogModel <- glm(Churn ~ ., family=binomial(link=\"logit\"), data=training)\n",
    "print(summary(LogModel))"
   ]
  },
  {
   "cell_type": "code",
   "execution_count": null,
   "metadata": {},
   "outputs": [],
   "source": [
    "# Análise de Variância - ANOVA\n",
    "\n",
    "# Os três principais recursos mais relevantes incluem \n",
    "# Contract, tenure_group e PaperlessBilling.\n",
    "?anova\n",
    "anova(LogModel, test=\"Chisq\")"
   ]
  },
  {
   "cell_type": "code",
   "execution_count": null,
   "metadata": {},
   "outputs": [],
   "source": [
    "# Analisando a tabela de variância, podemos ver a queda no desvio ao adicionar cada variável \n",
    "# uma de cada vez. Adicionar InternetService, Contract e tenure_group reduz \n",
    "# significativamente o desvio residual. \n",
    "# As outras variáveis, como PaymentMethod e Dependents, parecem melhorar menos o modelo, \n",
    "# embora todos tenham valores p baixos.\n",
    "testing$Churn <- as.character(testing$Churn)\n",
    "testing$Churn[testing$Churn==\"No\"] <- \"0\"\n",
    "testing$Churn[testing$Churn==\"Yes\"] <- \"1\"\n",
    "fitted.results <- predict(LogModel,newdata=testing,type='response')\n",
    "fitted.results <- ifelse(fitted.results > 0.5,1,0)\n",
    "misClasificError <- mean(fitted.results != testing$Churn)\n",
    "print(paste('Logistic Regression Accuracy',1-misClasificError))"
   ]
  },
  {
   "cell_type": "code",
   "execution_count": null,
   "metadata": {},
   "outputs": [],
   "source": [
    "# Matriz de Confusão de Regressão Logística\n",
    "print(\"Confusion Matrix Para Logistic Regression\"); table(testing$Churn, fitted.results > 0.5)"
   ]
  },
  {
   "cell_type": "code",
   "execution_count": null,
   "metadata": {},
   "outputs": [],
   "source": [
    "# Odds Ratio\n",
    "\n",
    "# Uma das medidas de desempenho interessantes na regressão logística é Odds Ratio. \n",
    "# Basicamente, odds ratio é a chance de um evento acontecer.\n",
    "exp(cbind(OR=coef(LogModel), confint(LogModel)))\n",
    "\n",
    "# Para cada aumento de unidade no encargo mensal (Monthly Charge), \n",
    "# há uma redução de 2,5% na probabilidade do cliente cancelar a assinatura."
   ]
  },
  {
   "cell_type": "code",
   "execution_count": null,
   "metadata": {},
   "outputs": [],
   "source": [
    "# Árvore de Decisão\n",
    "\n",
    "# Visualização da Árvore de Decisão\n",
    "# Para fins de ilustração, vamos usar apenas três variáveis para plotar \n",
    "# árvores de decisão, elas são “Contrato”, “tenure_group” e “PaperlessBilling”.\n",
    "?ctree\n",
    "tree <- ctree(Churn ~ Contract+tenure_group+PaperlessBilling, training)\n",
    "plot(tree, type='simple')\n",
    "\n",
    "# 1. Das três variáveis que usamos, o Contrato é a variável mais importante \n",
    "# para prever a rotatividade de clientes ou não.\n",
    "# 2. Se um cliente em um contrato de um ano ou de dois anos, \n",
    "# não importa se ele (ela) tem ou não a PapelessBilling, ele (ela) é menos propenso \n",
    "# a se cancelar a assinatura.\n",
    "# 3. Por outro lado, se um cliente estiver em um contrato mensal, \n",
    "# e no grupo de posse de 0 a 12 meses, e usando o PaperlessBilling, \n",
    "# esse cliente terá mais chances de cancelar a assinatura."
   ]
  },
  {
   "cell_type": "code",
   "execution_count": null,
   "metadata": {},
   "outputs": [],
   "source": [
    "# Matriz de Confusão da Árvore de Decisão\n",
    "# Estamos usando todas as variáveis para tabela de matriz de confusão de produto e fazer previsões.\n",
    "pred_tree <- predict(tree, testing)\n",
    "print(\"Confusion Matrix Para Decision Tree\"); table(Predicted = pred_tree, Actual = testing$Churn)"
   ]
  },
  {
   "cell_type": "code",
   "execution_count": null,
   "metadata": {},
   "outputs": [],
   "source": [
    "# Precisão da árvore de decisão\n",
    "p1 <- predict(tree, training)\n",
    "tab1 <- table(Predicted = p1, Actual = training$Churn)\n",
    "tab2 <- table(Predicted = pred_tree, Actual = testing$Churn)\n",
    "print(paste('Decision Tree Accuracy',sum(diag(tab2))/sum(tab2)))"
   ]
  },
  {
   "cell_type": "code",
   "execution_count": null,
   "metadata": {},
   "outputs": [],
   "source": [
    "##### Random Forest #####\n",
    "\n",
    "set.seed(2017)\n",
    "?randomForest\n",
    "rfModel <- randomForest(Churn ~ ., data = training)\n",
    "print(rfModel)\n",
    "plot(rfModel)\n",
    "\n",
    "# A previsão é muito boa ao prever \"Não\". \n",
    "# A taxa de erros é muito maior quando se prevê \"sim\"."
   ]
  },
  {
   "cell_type": "code",
   "execution_count": null,
   "metadata": {},
   "outputs": [],
   "source": [
    "# Prevendo valores com dados de teste\n",
    "pred_rf <- predict(rfModel, testing)"
   ]
  },
  {
   "cell_type": "code",
   "execution_count": null,
   "metadata": {},
   "outputs": [],
   "source": [
    "# Confusion Matrix\n",
    "print(\"Confusion Matrix Para Random Forest\"); table(testing$Churn, pred_rf)"
   ]
  },
  {
   "cell_type": "code",
   "execution_count": null,
   "metadata": {},
   "outputs": [],
   "source": [
    "# Recursos mais importantes\n",
    "?varImpPlot\n",
    "varImpPlot(rfModel, sort=T, n.var = 10, main = 'Top 10 Feature Importance')"
   ]
  }
 ],
 "metadata": {
  "kernelspec": {
   "display_name": "R",
   "language": "R",
   "name": "ir"
  },
  "language_info": {
   "codemirror_mode": "r",
   "file_extension": ".r",
   "mimetype": "text/x-r-source",
   "name": "R",
   "pygments_lexer": "r",
   "version": "3.6.0"
  }
 },
 "nbformat": 4,
 "nbformat_minor": 2
}
