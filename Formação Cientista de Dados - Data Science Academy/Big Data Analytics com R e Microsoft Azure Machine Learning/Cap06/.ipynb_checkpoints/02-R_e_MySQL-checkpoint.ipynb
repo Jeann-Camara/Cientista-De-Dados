{
 "cells": [
  {
   "cell_type": "code",
   "execution_count": null,
   "metadata": {},
   "outputs": [],
   "source": [
    "#install.packages('RMySQL')\n",
    "#install.packages(\"ggplot2\")\n",
    "#install.packages(\"dbplyr\")\n",
    "#library(RMySQL)\n",
    "#library(ggplot2)\n",
    "#library(dbplyr)\n",
    "#library(dplyr)"
   ]
  },
  {
   "cell_type": "code",
   "execution_count": null,
   "metadata": {},
   "outputs": [],
   "source": [
    "# Antes de trabalha com MySQL e R, acesse o shell do MySQL (no prompt ou terminal) e digite:\n",
    "# ALTER USER 'root'@'localhost' IDENTIFIED WITH mysql_native_password BY 'dsa1234';\n",
    "\n",
    "# Conexão com o banco de dados\n",
    "?dbConnect\n",
    "con = dbConnect(MySQL(), user = \"root\", password = \"dsa1234\", dbname = \"titanicDB\", host = \"localhost\")"
   ]
  },
  {
   "cell_type": "code",
   "execution_count": null,
   "metadata": {},
   "outputs": [],
   "source": [
    "# Query\n",
    "qry <- \"select pclass, survived, avg(age) as media_idade from titanic where survived = 1 group by pclass, survived;\"\n",
    "dbGetQuery(con, qry)"
   ]
  },
  {
   "cell_type": "code",
   "execution_count": null,
   "metadata": {},
   "outputs": [],
   "source": [
    "# Plot\n",
    "dados <- dbGetQuery(con, qry)\n",
    "head(dados)\n",
    "class(dados)\n",
    "ggplot(dados, aes(pclass, media_idade)) + geom_bar(stat = \"identity\")"
   ]
  },
  {
   "cell_type": "code",
   "execution_count": null,
   "metadata": {},
   "outputs": [],
   "source": [
    "# Conectando no MySQL com dplyr\n",
    "?src_mysql\n",
    "con2 <- src_mysql(dbname = \"titanicdb\", user = \"root\", password = \"dsa1234\", host = \"localhost\")"
   ]
  },
  {
   "cell_type": "code",
   "execution_count": null,
   "metadata": {},
   "outputs": [],
   "source": [
    "# Coletando e agrupando os dados\n",
    "dados2 <- con2 %>%\n",
    "  tbl(\"titanic\") %>%\n",
    "  select(pclass, sex, age, survived, fare) %>%\n",
    "  filter(survived == 0) %>%\n",
    "  collect()\n",
    "\n",
    "head(dados2)"
   ]
  },
  {
   "cell_type": "code",
   "execution_count": null,
   "metadata": {},
   "outputs": [],
   "source": [
    "# Manipulando dados\n",
    "dados2 <- con2 %>%\n",
    "  tbl(\"titanic\") %>%\n",
    "  select(pclass, sex, survived) %>%\n",
    "  group_by(pclass, sex) %>%\n",
    "  summarise(survival_ratio = avg(survived)) %>%\n",
    "  collect() \n",
    "\n",
    "View(dados2)"
   ]
  },
  {
   "cell_type": "code",
   "execution_count": null,
   "metadata": {},
   "outputs": [],
   "source": [
    "# Plot\n",
    "ggplot(dados2, aes(pclass,survival_ratio, color=sex, group=sex)) +\n",
    "  geom_point(size=3) + geom_line()"
   ]
  },
  {
   "cell_type": "code",
   "execution_count": null,
   "metadata": {},
   "outputs": [],
   "source": [
    "# Sumarizando os dados\n",
    "dados2 <- con2 %>%\n",
    "  tbl(\"titanic\") %>% \n",
    "  filter(fare > 150) %>%\n",
    "  select(pclass,sex,age,fare) %>%\n",
    "  group_by(pclass,sex) %>% \n",
    "  summarise(avg_age = avg(age),\n",
    "            avg_fare = avg(fare))\n",
    "\n",
    "head(dados2)\n",
    "\n",
    "\n",
    "# --> Para outros bancos de dados, use RODBC"
   ]
  },
  {
   "cell_type": "code",
   "execution_count": null,
   "metadata": {},
   "outputs": [],
   "source": []
  }
 ],
 "metadata": {
  "kernelspec": {
   "display_name": "R",
   "language": "R",
   "name": "ir"
  },
  "language_info": {
   "codemirror_mode": "r",
   "file_extension": ".r",
   "mimetype": "text/x-r-source",
   "name": "R",
   "pygments_lexer": "r",
   "version": "3.6.0"
  }
 },
 "nbformat": 4,
 "nbformat_minor": 2
}
