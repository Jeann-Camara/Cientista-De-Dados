{
 "cells": [
  {
   "cell_type": "code",
   "execution_count": 2,
   "metadata": {},
   "outputs": [],
   "source": [
    "# Big Data na Prática 3 - Mineração de Regra de Associação \n",
    "\n",
    "# Esse é um material de bônus. \n",
    "# Conteúdo sobre ese tema pode ser encontrado nos cursos: \n",
    "\n",
    "# Business Analytics \n",
    "# Análise em Grafos Para Big Data\n",
    "# Data Mining e Modelagem Preditiva\n",
    "\n",
    "# Embora tenha mais de 20 anos, o Market Basket Analysis (MBA) (ou Mineração de Regras de Associação) \n",
    "# ainda pode ser uma técnica muito útil para obter insights em grandes conjuntos de dados transacionais. \n",
    "\n",
    "# O exemplo clássico são dados transacionais em um supermercado. Para cada cliente, sabemos quais são os produtos \n",
    "# individuais (itens) que ele colocou na cesta e comprou. Outros casos de uso para o MBA podem ser dados de clique da web, \n",
    "# arquivos de log e até questionários.\n",
    "\n",
    "# Com a análise de cesta de compras, podemos identificar itens que são frequentemente comprados juntos. \n",
    "# Normalmente, os resultados de um MBA são apresentados sob a forma de regras. \n",
    "# As regras podem ser tão simples quanto {A ==> B}, quando um cliente compra o item A então é (muito) provável \n",
    "# que o cliente compre o item B. Regras mais complexas também são possíveis {A, B ==> D, F}, quando um cliente \n",
    "# compra os itens A e B, é provável que ele compre os itens D e F.\n",
    "\n",
    "# Neste Big Data na Pratica, vamos buscar a associação entre os clubes de futebol da Europa e responder a pergunta:\n",
    "\n",
    "# Quais clubes mais realizam transações de compra e venda de jogadores, entre si?\n",
    "\n",
    "# Usaremos um dataset oferecido pelo Kaggle: https://www.kaggle.com/hugomathien/soccer\n",
    "\n",
    "# O dataset contêm cerca de 25.000 partidas de onze ligas de futebol europeias a partir da temporada 2008/2009 \n",
    "# até a temporada 2015/2016. \n",
    "\n",
    "# Depois de realizar o trabalho de Data Wrangling, vamos gerar um conjunto de dados transacionais adequado para análise \n",
    "# de cesta de compras.\n",
    "\n",
    "# Portanto, não temos clientes, mas jogadores de futebol, e não temos produtos, mas clubes de futebol. \n",
    "\n",
    "# No total, o conjunto de dados transacionais de futebol contém cerca de 18.000 registros. \n",
    "# Obviamente, esses registros não incluem apenas as transferências multimilionárias cobertas pela mídia, \n",
    "# mas também todas as transferências de jogadores que ninguém nunca ouviu falar.\n",
    "\n",
    "# Como vamos aplicar o MBA?\n",
    "# Em R você pode usar o pacote arules para mineração de regras de associação / MBA. \n",
    "# Alternativamente, quando a ordem das transações é importante, você deve usar o pacote arulesSequences. \n",
    "# Depois de executar o algoritmo, obteremos alguns resultados interessantes. \n",
    "  \n",
    "# Por exemplo: neste conjunto de dados, a transferência mais frequente é da Fiorentina para o Gênova \n",
    "# (12 transferências no total). Vamos imprimir a tabela com todos os resultados ao final do processo.\n",
    "\n",
    "# Visualização de gráfico de rede\n",
    "# Todas as regras que obtemos da mineração de regras de associação formam um gráfico de rede. \n",
    "# Os clubes de futebol individuais são os nós do gráfico e cada regra \"de ==> para\" é uma aresta (edge) do gráfico de rede.\n",
    "\n",
    "# Em R, os gráficos de rede podem ser visualizados bem por meio do pacote visNetwork. "
   ]
  },
  {
   "cell_type": "code",
   "execution_count": 3,
   "metadata": {},
   "outputs": [
    {
     "name": "stderr",
     "output_type": "stream",
     "text": [
      "Warning message:\n",
      "\"package 'RSQLite' was built under R version 3.6.1\""
     ]
    },
    {
     "ename": "ERROR",
     "evalue": "Error in library(dplyr): there is no package called 'dplyr'\n",
     "output_type": "error",
     "traceback": [
      "Error in library(dplyr): there is no package called 'dplyr'\nTraceback:\n",
      "1. library(dplyr)"
     ]
    }
   ],
   "source": [
    "# Pacotes\n",
    "#install.packages(\"RSQLite\")\n",
    "#install.packages(\"dplyr\")\n",
    "#install.packages(\"tidyr\")\n",
    "#install.packages(\"arules\")\n",
    "#install.packages(\"arulesSequences\")\n",
    "#install.packages(\"readr\")\n",
    "#install.packages(\"visNetwork\")\n",
    "#install.packages(\"igraph\")\n",
    "#install.packages(\"lubridate\")\n",
    "#install.packages(\"DT\")\n",
    "\n",
    "library(RSQLite)\n",
    "library(dplyr)\n",
    "library(tidyr)\n",
    "library(arules)\n",
    "library(arulesSequences)\n",
    "library(readr)\n",
    "library(stringr)\n",
    "library(visNetwork)\n",
    "library(igraph)\n",
    "library(lubridate)\n",
    "library(DT)"
   ]
  },
  {
   "cell_type": "code",
   "execution_count": 4,
   "metadata": {},
   "outputs": [],
   "source": [
    "# Os dados estão disponibilizados em um banco de dados SQLITE \n",
    "# que pode ser baixado do kaggle, mas está anexo a este script.\n",
    "\n",
    "# Conectando no banco de dados\n",
    "con = dbConnect(RSQLite::SQLite(), dbname=\"database.sqlite\")"
   ]
  },
  {
   "cell_type": "code",
   "execution_count": 5,
   "metadata": {},
   "outputs": [
    {
     "data": {
      "text/html": [
       "<ol class=list-inline>\n",
       "\t<li>'Country'</li>\n",
       "\t<li>'League'</li>\n",
       "\t<li>'Match'</li>\n",
       "\t<li>'Player'</li>\n",
       "\t<li>'Player_Attributes'</li>\n",
       "\t<li>'Team'</li>\n",
       "\t<li>'Team_Attributes'</li>\n",
       "\t<li>'sqlite_sequence'</li>\n",
       "</ol>\n"
      ],
      "text/latex": [
       "\\begin{enumerate*}\n",
       "\\item 'Country'\n",
       "\\item 'League'\n",
       "\\item 'Match'\n",
       "\\item 'Player'\n",
       "\\item 'Player\\_Attributes'\n",
       "\\item 'Team'\n",
       "\\item 'Team\\_Attributes'\n",
       "\\item 'sqlite\\_sequence'\n",
       "\\end{enumerate*}\n"
      ],
      "text/markdown": [
       "1. 'Country'\n",
       "2. 'League'\n",
       "3. 'Match'\n",
       "4. 'Player'\n",
       "5. 'Player_Attributes'\n",
       "6. 'Team'\n",
       "7. 'Team_Attributes'\n",
       "8. 'sqlite_sequence'\n",
       "\n",
       "\n"
      ],
      "text/plain": [
       "[1] \"Country\"           \"League\"            \"Match\"            \n",
       "[4] \"Player\"            \"Player_Attributes\" \"Team\"             \n",
       "[7] \"Team_Attributes\"   \"sqlite_sequence\"  "
      ]
     },
     "metadata": {},
     "output_type": "display_data"
    }
   ],
   "source": [
    "# Obtendo a lista de tabelas\n",
    "alltables = dbListTables(con)\n",
    "alltables"
   ]
  },
  {
   "cell_type": "code",
   "execution_count": 6,
   "metadata": {},
   "outputs": [
    {
     "ename": "ERROR",
     "evalue": "Error in View(players): 'View()' not yet supported in the Jupyter R kernel\n",
     "output_type": "error",
     "traceback": [
      "Error in View(players): 'View()' not yet supported in the Jupyter R kernel\nTraceback:\n",
      "1. View(players)",
      "2. stop(sQuote(\"View()\"), \" not yet supported in the Jupyter R kernel\")"
     ]
    }
   ],
   "source": [
    "# Extraindo as tabelas\n",
    "players       = dbReadTable(con, \"Player\")\n",
    "players_stats = dbReadTable(con, \"Player_Attributes\")\n",
    "teams         = dbReadTable(con, \"Team\")\n",
    "league        = dbReadTable(con, \"League\")\n",
    "Matches       = dbReadTable(con, \"Match\")\n",
    "\n",
    "View(players)\n",
    "View(players_stats)\n",
    "View(teams)\n",
    "View(league)\n",
    "View(Matches)"
   ]
  },
  {
   "cell_type": "code",
   "execution_count": null,
   "metadata": {},
   "outputs": [],
   "source": [
    "# Substituindo espaço por underline nos nome muito longos\n",
    "teams$team_long_name = str_replace_all(teams$team_long_name, \"\\\\s\", \"_\")\n",
    "teams$team_long_name = str_replace_all(teams$team_long_name, \"\\\\.\", \"_\")\n",
    "teams$team_long_name = str_replace_all(teams$team_long_name, \"-\", \"_\")\n",
    "View(teams)"
   ]
  },
  {
   "cell_type": "code",
   "execution_count": null,
   "metadata": {},
   "outputs": [],
   "source": [
    "# Agrupando as equipes por país\n",
    "CountryClub = Matches %>% \n",
    "  group_by(home_team_api_id,country_id) %>% \n",
    "  summarise(n=n()) %>% \n",
    "  left_join(league) %>%\n",
    "  left_join(teams, by=c(\"home_team_api_id\" = \"team_api_id\"))"
   ]
  },
  {
   "cell_type": "code",
   "execution_count": null,
   "metadata": {},
   "outputs": [],
   "source": [
    "# Preparando os dados para mineração das regras de associação\n",
    "\n",
    "# Os jogadores estão em colunas separadas, mas precisamos deles empilhados em uma coluna\n",
    "tmp = Matches %>% \n",
    "  select(\n",
    "    season, \n",
    "    home_team_api_id, \n",
    "    home_player_1:home_player_11\n",
    "  )%>%\n",
    "  gather(\n",
    "    player, \n",
    "    player_api_id, \n",
    "    -c(season, home_team_api_id)\n",
    "  ) %>%\n",
    "  group_by(player_api_id, home_team_api_id ) %>% \n",
    "  summarise(season = min(season))"
   ]
  },
  {
   "cell_type": "code",
   "execution_count": null,
   "metadata": {},
   "outputs": [],
   "source": [
    "# Unindo dados de jogador e clube\n",
    "playerClubSequence = left_join(\n",
    "  tmp,\n",
    "  players\n",
    "  ) %>% \n",
    "  left_join(\n",
    "    teams, \n",
    "    by=c(\"home_team_api_id\"=\"team_api_id\")\n",
    "  )\n",
    "\n",
    "playerClubSequence = playerClubSequence %>% \n",
    "  filter(\n",
    "    !is.na(player_name), !is.na(team_short_name)\n",
    "  )  %>%\n",
    "  arrange(\n",
    "    player_api_id, \n",
    "    season\n",
    "  )"
   ]
  },
  {
   "cell_type": "code",
   "execution_count": null,
   "metadata": {},
   "outputs": [],
   "source": [
    "# Adicionando um número sequencial por jogador\n",
    "playerClubSequence$seqnr = ave( playerClubSequence$player_api_id, playerClubSequence$player_api_id, FUN = seq_along)\n",
    "playerClubSequence$size = 1"
   ]
  },
  {
   "cell_type": "code",
   "execution_count": null,
   "metadata": {},
   "outputs": [],
   "source": [
    "# Mineração de sequências com algoritmo cSPade do pacote arulesSequences\n",
    "\n",
    "# Grava o conjunto de dados em um arquivo txt para facilitar a manipulação \n",
    "# da função read_basket em arulesSequence para criar um objeto de transação\n",
    "write_delim( \n",
    "  playerClubSequence %>% select( c(player_api_id, seqnr, size, team_long_name)) ,\n",
    "  delim =\"\\t\", path = \"player_transactions.txt\", col_names = FALSE\n",
    "  )"
   ]
  },
  {
   "cell_type": "code",
   "execution_count": null,
   "metadata": {},
   "outputs": [],
   "source": [
    "# Agora importamos as transações registradas no item anterior\n",
    "playerstrxs <- read_baskets(\"player_transactions.txt\", sep = \"[ \\t]+\",info =  c(\"sequenceID\",\"eventID\",\"size\"))\n",
    "summary(playerstrxs)"
   ]
  },
  {
   "cell_type": "code",
   "execution_count": null,
   "metadata": {},
   "outputs": [],
   "source": [
    "# Executar mineração de sequência, por enquanto apenas com comprimento de duas sequências\n",
    "?cspade\n",
    "\n",
    "playersClubSeq <- cspade(\n",
    "  playerstrxs, \n",
    "  parameter = list(support = 0.00010, maxlen=2), \n",
    "  control   = list(verbose = TRUE)\n",
    ")\n",
    "\n",
    "summary(playersClubSeq)"
   ]
  },
  {
   "cell_type": "code",
   "execution_count": null,
   "metadata": {},
   "outputs": [],
   "source": [
    "# Fazendo Data Wrangling para colocar os resultados do cspade em um organizado conjunto de dados \n",
    "# que é adequado para a visNetwork. A visNetwork precisa de dois conjuntos de dados:\n",
    "# um conjunto de dados com as arestas \"de --> para\" e um conjunto de dados com os nós exclusivos\n",
    "seqResult = as(playersClubSeq, \"data.frame\")\n",
    "seqResult = seqResult %>% \n",
    "  mutate(\n",
    "    sequence = as.character(sequence)\n",
    "  )\n",
    "\n",
    "seqResult = bind_cols(\n",
    "  seqResult,\n",
    "  as.data.frame(\n",
    "    str_split_fixed(seqResult$sequence, pattern =\",\", 2), \n",
    "    stringsAsFactors = FALSE)\n",
    "  )\n",
    "\n",
    "seqResult$from = str_extract_all(seqResult$V1,\"\\\\w+\", simplify = TRUE)[,1] \n",
    "seqResult$to   = str_extract_all(seqResult$V2,\"\\\\w+\",simplify = TRUE)[,1]\n",
    "\n",
    "\n",
    "seqResult$width = exp(3000*seqResult$support)\n",
    "seqResult = seqResult %>% filter(V2 !=\"\")\n",
    "seqResult$title = paste(seqResult$sequence, \"<br>\", round(100*seqResult$support,2), \"%\")\n",
    "\n",
    "seqResult$support_perc = paste(sprintf(\"%.4f\", 100*seqResult$support), \"%\")"
   ]
  },
  {
   "cell_type": "code",
   "execution_count": null,
   "metadata": {},
   "outputs": [],
   "source": [
    "# Criando o dataframe com os nodes\n",
    "nodes = unique(c(seqResult$from, seqResult$to))\n",
    "nodesData = data.frame(id = unique(nodes), title = unique(nodes), label = unique(nodes), stringsAsFactors = FALSE) %>%\n",
    "  left_join(CountryClub, by = c(\"id\"=\"team_long_name\")) %>% \n",
    "  rename(group = name)\n",
    "\n",
    "View(nodes)"
   ]
  },
  {
   "cell_type": "code",
   "execution_count": null,
   "metadata": {},
   "outputs": [],
   "source": [
    "# Calcula as medidas de centralidade de betweeness\n",
    "# usando o igraph, para que possamos ter tamanhos diferentes de\n",
    "# nós no gráfico de rede\n",
    "transferGraph = graph_from_data_frame(seqResult[,c(5,6)], directed = TRUE)\n",
    "\n",
    "tmp = betweenness(transferGraph)\n",
    "Clubs_betweenness = data.frame(id = names(tmp), value = tmp, stringsAsFactors = FALSE)\n",
    "nodesData = nodesData %>% \n",
    "  left_join(Clubs_betweenness) %>%\n",
    "  mutate(title = paste(id, \"betweeness \", round(value))) %>%\n",
    "  arrange(id)"
   ]
  },
  {
   "cell_type": "code",
   "execution_count": null,
   "metadata": {},
   "outputs": [],
   "source": [
    "# Criando a rede interativa\n",
    "\n",
    "# Preparando o dataframe final e removendo duplicidades\n",
    "nodes = nodesData\n",
    "nodes = nodes[!duplicated(nodes$id),]"
   ]
  },
  {
   "cell_type": "code",
   "execution_count": null,
   "metadata": {},
   "outputs": [],
   "source": [
    "# Cria a rede\n",
    "?visNetwork\n",
    "\n",
    "visNetwork(nodes, edges = seqResult, width = 900, height = 700) %>%\n",
    "  visNodes(size = 10) %>%\n",
    "  visLegend() %>%\n",
    "  visEdges(smooth = FALSE) %>%\n",
    "  visOptions(highlightNearest = TRUE, nodesIdSelection = TRUE) %>%\n",
    "  visInteraction(navigationButtons = TRUE) %>%\n",
    "  visEdges(arrows = 'from') %>%\n",
    "  visPhysics(\n",
    "    solver = \"barnesHut\",\n",
    "    maxVelocity = 35,\n",
    "    forceAtlas2Based = list(gravitationalConstant = -6000)\n",
    "  )"
   ]
  },
  {
   "cell_type": "code",
   "execution_count": null,
   "metadata": {},
   "outputs": [],
   "source": [
    "# Cria a tabela final para suportar a análise\n",
    "seqResult$Ntransctions = seqResult$support*10542\n",
    "DT::datatable(\n",
    "  seqResult[,c(5,6,9,10)], \n",
    "  rownames = FALSE,\n",
    "  options = list(\n",
    "    pageLength=25)\n",
    "  )"
   ]
  },
  {
   "cell_type": "code",
   "execution_count": null,
   "metadata": {},
   "outputs": [],
   "source": []
  },
  {
   "cell_type": "code",
   "execution_count": null,
   "metadata": {},
   "outputs": [],
   "source": []
  }
 ],
 "metadata": {
  "kernelspec": {
   "display_name": "R",
   "language": "R",
   "name": "ir"
  },
  "language_info": {
   "codemirror_mode": "r",
   "file_extension": ".r",
   "mimetype": "text/x-r-source",
   "name": "R",
   "pygments_lexer": "r",
   "version": "3.6.0"
  }
 },
 "nbformat": 4,
 "nbformat_minor": 2
}
