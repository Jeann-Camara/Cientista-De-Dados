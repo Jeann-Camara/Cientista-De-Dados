{
 "cells": [
  {
   "cell_type": "code",
   "execution_count": 5,
   "metadata": {},
   "outputs": [
    {
     "ename": "ERROR",
     "evalue": "Error in write.table(mtcars, file = \"mtcars2.txt\", sep = \"|\", col.names = N, : objeto 'N' não encontrado\n",
     "output_type": "error",
     "traceback": [
      "Error in write.table(mtcars, file = \"mtcars2.txt\", sep = \"|\", col.names = N, : objeto 'N' não encontrado\nTraceback:\n",
      "1. write.table(mtcars, file = \"mtcars2.txt\", sep = \"|\", col.names = N, \n .     qmethod = \"double\")"
     ]
    }
   ],
   "source": [
    "# Exercicio 1 - Encontre e faça a correção do erro na instrução abaixo:\n",
    "write.table(mtcars, file = \"mtcars2.txt\", sep = \"|\", col.names = N, qmethod = \"double\")"
   ]
  },
  {
   "cell_type": "code",
   "execution_count": 6,
   "metadata": {},
   "outputs": [],
   "source": [
    "## Correto: \n",
    "write.table(mtcars, file = \"mtcars2.txt\", sep = \"|\", col.names = NA, qmethod = \"double\")"
   ]
  },
  {
   "cell_type": "code",
   "execution_count": 7,
   "metadata": {},
   "outputs": [
    {
     "ename": "ERROR",
     "evalue": "Error in read_csv(\"iris.csv\", col_types = matrix(Sepal.Length = col_double(1), : não foi possível encontrar a função \"read_csv\"\n",
     "output_type": "error",
     "traceback": [
      "Error in read_csv(\"iris.csv\", col_types = matrix(Sepal.Length = col_double(1), : não foi possível encontrar a função \"read_csv\"\nTraceback:\n"
     ]
    }
   ],
   "source": [
    "# Exercicio 2 - Encontre e faça a correção do erro na instrução abaixo:\n",
    "# Troubleshooting\n",
    "#library(readr)\n",
    "?read_csv\n",
    "df_iris <- read_csv(\"iris.csv\", col_types = matrix(\n",
    "  Sepal.Length = col_double(1),\n",
    "  Sepal.Width = col_double(1),\n",
    "  Petal.Length = col_double(1),\n",
    "  Petal.Width = col_double(1),\n",
    "  Species = col_factor(c(\"setosa\", \"versicolor\", \"virginica\"))\n",
    "))"
   ]
  },
  {
   "cell_type": "code",
   "execution_count": 8,
   "metadata": {},
   "outputs": [
    {
     "ename": "ERROR",
     "evalue": "Error in read_csv(\"iris.csv\", col_types = list(Sepal.Length = col_double(), : não foi possível encontrar a função \"read_csv\"\n",
     "output_type": "error",
     "traceback": [
      "Error in read_csv(\"iris.csv\", col_types = list(Sepal.Length = col_double(), : não foi possível encontrar a função \"read_csv\"\nTraceback:\n"
     ]
    }
   ],
   "source": [
    "## Correto: \n",
    "#library(readr)\n",
    "df_iris <- read_csv(\"iris.csv\", col_types = list(\n",
    "    Sepal.Length = col_double(),\n",
    "    Sepal.Width = col_double(),\n",
    "    Petal.Length = col_double(),\n",
    "    Petal.Width = col_double(),\n",
    "    Species = col_factor(c(\"setosa\", \"versicolor\", \"virginica\"))\n",
    "))"
   ]
  },
  {
   "cell_type": "code",
   "execution_count": 9,
   "metadata": {},
   "outputs": [],
   "source": [
    "# Exercício 3 - Abaixo você encontra dois histogramas criados separadamente.\n",
    "# Mas isso dificulta a comparação das distribuições. Crie um novo plot que faça a união \n",
    "# de ambos histogramas em apenas uma área de plotagem."
   ]
  },
  {
   "cell_type": "code",
   "execution_count": 10,
   "metadata": {},
   "outputs": [
    {
     "data": {
      "image/png": "[encoded data removed]",
      "text/plain": [
       "Plot with title \"\""
      ]
     },
     "metadata": {},
     "output_type": "display_data"
    },
    {
     "data": {
      "image/png": "[encoded data removed]",
      "text/plain": [
       "Plot with title \"distribution of height of 2 durum wheat varieties\""
      ]
     },
     "metadata": {},
     "output_type": "display_data"
    }
   ],
   "source": [
    "\n",
    "# Dados aleatórios\n",
    "dataset1=rnorm(4000 , 100 , 30)     \n",
    "dataset2=rnorm(4000 , 200 , 30) \n",
    "\n",
    "# Histogramas\n",
    "par(mfrow=c(1,2))\n",
    "hist(dataset1, breaks=30 , xlim=c(0,300) , col=rgb(1,0,0,0.5) , xlab=\"Altura\" , ylab=\"Peso\" , main=\"\" )\n",
    "hist(dataset2, breaks=30 , xlim=c(0,300) , col=rgb(0,0,1,0.5) , xlab=\"Altura\" , ylab=\"Peso\" , main=\"\")\n",
    "\n",
    "hist(dataset1, breaks=30, xlim=c(0,300), col=rgb(1,0,0,0.5), xlab=\"height\", ylab=\"nbr of plants\", main=\"distribution of height of 2 durum wheat varieties\" )\n",
    "hist(dataset2, breaks=30, xlim=c(0,300), col=rgb(0,0,1,0.5), add=T)\n",
    "legend(\"topright\", legend=c(\"Dataset 1\",\"Dataset 2\"), col=c(rgb(1,0,0,0.5), \n",
    "                                                      rgb(0,0,1,0.5)), pt.cex=2, pch=15 )"
   ]
  },
  {
   "cell_type": "code",
   "execution_count": 11,
   "metadata": {},
   "outputs": [
    {
     "ename": "ERROR",
     "evalue": "Error in plot_ly(iris, x = ~Petal.Length, y = ~Petal.Width, type = \"scatter\", : não foi possível encontrar a função \"plot_ly\"\n",
     "output_type": "error",
     "traceback": [
      "Error in plot_ly(iris, x = ~Petal.Length, y = ~Petal.Width, type = \"scatter\", : não foi possível encontrar a função \"plot_ly\"\nTraceback:\n"
     ]
    }
   ],
   "source": [
    "# Exercício 4 - Encontre e corrija o erro no gráfico abaixo\n",
    "#install.packages(\"plotly\")\n",
    "#library(plotly)\n",
    "#View(iris)\n",
    "\n",
    "plot_ly(iris, \n",
    "        x = ~Petal.Length, \n",
    "        y = ~Petal.Width,  \n",
    "        type=\"scatter\", \n",
    "        mode = \"markers\" , \n",
    "        color = Species , marker=list(size=20 , opacity=0.5))"
   ]
  },
  {
   "cell_type": "code",
   "execution_count": null,
   "metadata": {},
   "outputs": [],
   "source": [
    "## Correto\n",
    "?plot_ly\n",
    "plot_ly(iris, \n",
    "        x = ~Petal.Length, \n",
    "        y = ~Petal.Width,  \n",
    "        type=\"scatter\", \n",
    "        mode = \"markers\" , \n",
    "        color = ~Species , marker=list( size=20 , opacity=0.5))"
   ]
  },
  {
   "cell_type": "code",
   "execution_count": 12,
   "metadata": {},
   "outputs": [
    {
     "data": {
      "text/html": [
       "<table>\n",
       "<tbody>\n",
       "\t<tr><td>100</td><td>100</td><td>101</td><td>101</td><td>101</td><td>101</td><td>101</td><td>100</td><td>100</td><td>100</td><td>...</td><td>107</td><td>107</td><td>107</td><td>106</td><td>106</td><td>105</td><td>105</td><td>104</td><td>104</td><td>103</td></tr>\n",
       "\t<tr><td>101</td><td>101</td><td>102</td><td>102</td><td>102</td><td>102</td><td>102</td><td>101</td><td>101</td><td>101</td><td>...</td><td>108</td><td>108</td><td>107</td><td>107</td><td>106</td><td>106</td><td>105</td><td>105</td><td>104</td><td>104</td></tr>\n",
       "\t<tr><td>102</td><td>102</td><td>103</td><td>103</td><td>103</td><td>103</td><td>103</td><td>102</td><td>102</td><td>102</td><td>...</td><td>109</td><td>108</td><td>108</td><td>107</td><td>107</td><td>106</td><td>106</td><td>105</td><td>105</td><td>104</td></tr>\n",
       "\t<tr><td>103</td><td>103</td><td>104</td><td>104</td><td>104</td><td>104</td><td>104</td><td>103</td><td>103</td><td>103</td><td>...</td><td>109</td><td>109</td><td>108</td><td>108</td><td>107</td><td>107</td><td>106</td><td>106</td><td>105</td><td>105</td></tr>\n",
       "\t<tr><td>104</td><td>104</td><td>105</td><td>105</td><td>105</td><td>105</td><td>105</td><td>104</td><td>104</td><td>103</td><td>...</td><td>110</td><td>109</td><td>109</td><td>108</td><td>107</td><td>107</td><td>107</td><td>106</td><td>106</td><td>105</td></tr>\n",
       "\t<tr><td>105</td><td>105</td><td>105</td><td>106</td><td>106</td><td>106</td><td>106</td><td>105</td><td>105</td><td>104</td><td>...</td><td>110</td><td>110</td><td>109</td><td>108</td><td>108</td><td>108</td><td>107</td><td>107</td><td>106</td><td>106</td></tr>\n",
       "</tbody>\n",
       "</table>\n"
      ],
      "text/latex": [
       "\\begin{tabular}{lllllllllllllllllllllllllllllllllllllllllllllllllllllllllllll}\n",
       "\t 100 & 100 & 101 & 101 & 101 & 101 & 101 & 100 & 100 & 100 & ... & 107 & 107 & 107 & 106 & 106 & 105 & 105 & 104 & 104 & 103\\\\\n",
       "\t 101 & 101 & 102 & 102 & 102 & 102 & 102 & 101 & 101 & 101 & ... & 108 & 108 & 107 & 107 & 106 & 106 & 105 & 105 & 104 & 104\\\\\n",
       "\t 102 & 102 & 103 & 103 & 103 & 103 & 103 & 102 & 102 & 102 & ... & 109 & 108 & 108 & 107 & 107 & 106 & 106 & 105 & 105 & 104\\\\\n",
       "\t 103 & 103 & 104 & 104 & 104 & 104 & 104 & 103 & 103 & 103 & ... & 109 & 109 & 108 & 108 & 107 & 107 & 106 & 106 & 105 & 105\\\\\n",
       "\t 104 & 104 & 105 & 105 & 105 & 105 & 105 & 104 & 104 & 103 & ... & 110 & 109 & 109 & 108 & 107 & 107 & 107 & 106 & 106 & 105\\\\\n",
       "\t 105 & 105 & 105 & 106 & 106 & 106 & 106 & 105 & 105 & 104 & ... & 110 & 110 & 109 & 108 & 108 & 108 & 107 & 107 & 106 & 106\\\\\n",
       "\\end{tabular}\n"
      ],
      "text/markdown": [
       "\n",
       "| 100 | 100 | 101 | 101 | 101 | 101 | 101 | 100 | 100 | 100 | ... | 107 | 107 | 107 | 106 | 106 | 105 | 105 | 104 | 104 | 103 |\n",
       "| 101 | 101 | 102 | 102 | 102 | 102 | 102 | 101 | 101 | 101 | ... | 108 | 108 | 107 | 107 | 106 | 106 | 105 | 105 | 104 | 104 |\n",
       "| 102 | 102 | 103 | 103 | 103 | 103 | 103 | 102 | 102 | 102 | ... | 109 | 108 | 108 | 107 | 107 | 106 | 106 | 105 | 105 | 104 |\n",
       "| 103 | 103 | 104 | 104 | 104 | 104 | 104 | 103 | 103 | 103 | ... | 109 | 109 | 108 | 108 | 107 | 107 | 106 | 106 | 105 | 105 |\n",
       "| 104 | 104 | 105 | 105 | 105 | 105 | 105 | 104 | 104 | 103 | ... | 110 | 109 | 109 | 108 | 107 | 107 | 107 | 106 | 106 | 105 |\n",
       "| 105 | 105 | 105 | 106 | 106 | 106 | 106 | 105 | 105 | 104 | ... | 110 | 110 | 109 | 108 | 108 | 108 | 107 | 107 | 106 | 106 |\n",
       "\n"
      ],
      "text/plain": [
       "     [,1] [,2] [,3] [,4] [,5] [,6] [,7] [,8] [,9] [,10] [,11] [,12] [,13] [,14]\n",
       "[1,] 100  100  101  101  101  101  101  100  100  100   ...   107   107   107  \n",
       "[2,] 101  101  102  102  102  102  102  101  101  101   ...   108   108   107  \n",
       "[3,] 102  102  103  103  103  103  103  102  102  102   ...   109   108   108  \n",
       "[4,] 103  103  104  104  104  104  104  103  103  103   ...   109   109   108  \n",
       "[5,] 104  104  105  105  105  105  105  104  104  103   ...   110   109   109  \n",
       "[6,] 105  105  105  106  106  106  106  105  105  104   ...   110   110   109  \n",
       "     [,15] [,16] [,17] [,18] [,19] [,20] [,21]\n",
       "[1,] 106   106   105   105   104   104   103  \n",
       "[2,] 107   106   106   105   105   104   104  \n",
       "[3,] 107   107   106   106   105   105   104  \n",
       "[4,] 108   107   107   106   106   105   105  \n",
       "[5,] 108   107   107   107   106   106   105  \n",
       "[6,] 108   108   108   107   107   106   106  "
      ]
     },
     "metadata": {},
     "output_type": "display_data"
    },
    {
     "data": {
      "text/html": [
       "\n",
       "<table width=\"100%\" summary=\"page for volcano {datasets}\"><tr><td>volcano {datasets}</td><td style=\"text-align: right;\">R Documentation</td></tr></table>\n",
       "\n",
       "<h2>Topographic Information on Auckland's Maunga Whau Volcano</h2>\n",
       "\n",
       "<h3>Description</h3>\n",
       "\n",
       "<p>Maunga Whau (Mt Eden) is one of about 50 volcanos in the Auckland\n",
       "volcanic field.  This data set gives topographic information for\n",
       "Maunga Whau on a 10m by 10m grid.\n",
       "</p>\n",
       "\n",
       "\n",
       "<h3>Usage</h3>\n",
       "\n",
       "<pre>volcano</pre>\n",
       "\n",
       "\n",
       "<h3>Format</h3>\n",
       "\n",
       "<p>A matrix with 87 rows and 61 columns, rows corresponding to grid lines\n",
       "running east to west and columns to grid lines running south to\n",
       "north.</p>\n",
       "\n",
       "\n",
       "<h3>Source</h3>\n",
       "\n",
       "<p>Digitized from a topographic map by Ross Ihaka.\n",
       "These data should not be regarded as accurate.\n",
       "</p>\n",
       "\n",
       "\n",
       "<h3>See Also</h3>\n",
       "\n",
       "<p><code>filled.contour</code> for a nice plot.</p>\n",
       "\n",
       "\n",
       "<h3>Examples</h3>\n",
       "\n",
       "<pre>\n",
       "require(grDevices); require(graphics)\n",
       "filled.contour(volcano, color.palette = terrain.colors, asp = 1)\n",
       "title(main = \"volcano data: filled contour map\")\n",
       "</pre>\n",
       "\n",
       "<hr /><div style=\"text-align: center;\">[Package <em>datasets</em> version 3.6.0 ]</div>"
      ],
      "text/latex": [
       "\\inputencoding{utf8}\n",
       "\\HeaderA{volcano}{Topographic Information on Auckland's Maunga Whau Volcano}{volcano}\n",
       "\\keyword{datasets}{volcano}\n",
       "%\n",
       "\\begin{Description}\\relax\n",
       "Maunga Whau (Mt Eden) is one of about 50 volcanos in the Auckland\n",
       "volcanic field.  This data set gives topographic information for\n",
       "Maunga Whau on a 10m by 10m grid.\n",
       "\\end{Description}\n",
       "%\n",
       "\\begin{Usage}\n",
       "\\begin{verbatim}\n",
       "volcano\n",
       "\\end{verbatim}\n",
       "\\end{Usage}\n",
       "%\n",
       "\\begin{Format}\n",
       "A matrix with 87 rows and 61 columns, rows corresponding to grid lines\n",
       "running east to west and columns to grid lines running south to\n",
       "north.\n",
       "\\end{Format}\n",
       "%\n",
       "\\begin{Source}\\relax\n",
       "Digitized from a topographic map by Ross Ihaka.\n",
       "These data should not be regarded as accurate.\n",
       "\\end{Source}\n",
       "%\n",
       "\\begin{SeeAlso}\\relax\n",
       "\\code{\\LinkA{filled.contour}{filled.contour}} for a nice plot.\n",
       "\\end{SeeAlso}\n",
       "%\n",
       "\\begin{Examples}\n",
       "\\begin{ExampleCode}\n",
       "require(grDevices); require(graphics)\n",
       "filled.contour(volcano, color.palette = terrain.colors, asp = 1)\n",
       "title(main = \"volcano data: filled contour map\")\n",
       "\\end{ExampleCode}\n",
       "\\end{Examples}"
      ],
      "text/plain": [
       "volcano                package:datasets                R Documentation\n",
       "\n",
       "_\bT_\bo_\bp_\bo_\bg_\br_\ba_\bp_\bh_\bi_\bc _\bI_\bn_\bf_\bo_\br_\bm_\ba_\bt_\bi_\bo_\bn _\bo_\bn _\bA_\bu_\bc_\bk_\bl_\ba_\bn_\bd'_\bs _\bM_\ba_\bu_\bn_\bg_\ba _\bW_\bh_\ba_\bu _\bV_\bo_\bl_\bc_\ba_\bn_\bo\n",
       "\n",
       "_\bD_\be_\bs_\bc_\br_\bi_\bp_\bt_\bi_\bo_\bn:\n",
       "\n",
       "     Maunga Whau (Mt Eden) is one of about 50 volcanos in the Auckland\n",
       "     volcanic field.  This data set gives topographic information for\n",
       "     Maunga Whau on a 10m by 10m grid.\n",
       "\n",
       "_\bU_\bs_\ba_\bg_\be:\n",
       "\n",
       "     volcano\n",
       "     \n",
       "_\bF_\bo_\br_\bm_\ba_\bt:\n",
       "\n",
       "     A matrix with 87 rows and 61 columns, rows corresponding to grid\n",
       "     lines running east to west and columns to grid lines running south\n",
       "     to north.\n",
       "\n",
       "_\bS_\bo_\bu_\br_\bc_\be:\n",
       "\n",
       "     Digitized from a topographic map by Ross Ihaka.  These data should\n",
       "     not be regarded as accurate.\n",
       "\n",
       "_\bS_\be_\be _\bA_\bl_\bs_\bo:\n",
       "\n",
       "     'filled.contour' for a nice plot.\n",
       "\n",
       "_\bE_\bx_\ba_\bm_\bp_\bl_\be_\bs:\n",
       "\n",
       "     require(grDevices); require(graphics)\n",
       "     filled.contour(volcano, color.palette = terrain.colors, asp = 1)\n",
       "     title(main = \"volcano data: filled contour map\")\n",
       "     "
      ]
     },
     "metadata": {},
     "output_type": "display_data"
    }
   ],
   "source": [
    "# Exercício 5 - Em anexo você encontra o arquivo exercicio5.png. Crie o gráfico que resulta nesta imagem.\n",
    "# https://www.r-graph-gallery.com/111-interactive-3d-plot-plotly/\n",
    "#library(plotly)\n",
    "head(volcano)\n",
    "?volcano"
   ]
  },
  {
   "cell_type": "code",
   "execution_count": 13,
   "metadata": {},
   "outputs": [
    {
     "ename": "ERROR",
     "evalue": "Error in plot_ly(z = volcano, type = \"surface\"): não foi possível encontrar a função \"plot_ly\"\n",
     "output_type": "error",
     "traceback": [
      "Error in plot_ly(z = volcano, type = \"surface\"): não foi possível encontrar a função \"plot_ly\"\nTraceback:\n"
     ]
    }
   ],
   "source": [
    "# 3D plot :\n",
    "p = plot_ly(z = volcano, type = \"surface\")\n",
    "p"
   ]
  },
  {
   "cell_type": "code",
   "execution_count": 14,
   "metadata": {},
   "outputs": [],
   "source": [
    "# Exercício 6 - Carregue o arquivo input.json anexo a este script e imprima o conteúdo no console\n",
    "# Dica: Use o pacote rjson"
   ]
  },
  {
   "cell_type": "code",
   "execution_count": 15,
   "metadata": {},
   "outputs": [
    {
     "ename": "ERROR",
     "evalue": "Error in fromJSON(file = \"input.json\"): não foi possível encontrar a função \"fromJSON\"\n",
     "output_type": "error",
     "traceback": [
      "Error in fromJSON(file = \"input.json\"): não foi possível encontrar a função \"fromJSON\"\nTraceback:\n"
     ]
    }
   ],
   "source": [
    "#library(\"rjson\")\n",
    "result <- fromJSON(file = \"input.json\")\n",
    "print(result)\n",
    "class(result)"
   ]
  },
  {
   "cell_type": "code",
   "execution_count": 16,
   "metadata": {},
   "outputs": [],
   "source": [
    "# Exercício 7 - Converta o objeto criado ao carregar o arquivo json do exercício anterior \n",
    "# em um dataframe e imprima o conteúdo no console."
   ]
  },
  {
   "cell_type": "code",
   "execution_count": 17,
   "metadata": {},
   "outputs": [
    {
     "ename": "ERROR",
     "evalue": "Error in fromJSON(file = \"input.json\"): não foi possível encontrar a função \"fromJSON\"\n",
     "output_type": "error",
     "traceback": [
      "Error in fromJSON(file = \"input.json\"): não foi possível encontrar a função \"fromJSON\"\nTraceback:\n"
     ]
    }
   ],
   "source": [
    "#library(\"rjson\")\n",
    "result <- fromJSON(file = \"input.json\")\n",
    "class(result)\n",
    "json_data_frame <- as.data.frame(result)\n",
    "print(json_data_frame)\n",
    "class(json_data_frame)\n",
    "#View(json_data_frame)"
   ]
  },
  {
   "cell_type": "code",
   "execution_count": 18,
   "metadata": {},
   "outputs": [],
   "source": [
    "# Exercício 8 - Carregue o arquivo input.xml anexo a este script.\n",
    "# Dica: Use o pacote XML"
   ]
  },
  {
   "cell_type": "code",
   "execution_count": 19,
   "metadata": {},
   "outputs": [
    {
     "ename": "ERROR",
     "evalue": "Error in xmlParse(file = \"input.xml\"): não foi possível encontrar a função \"xmlParse\"\n",
     "output_type": "error",
     "traceback": [
      "Error in xmlParse(file = \"input.xml\"): não foi possível encontrar a função \"xmlParse\"\nTraceback:\n"
     ]
    }
   ],
   "source": [
    "#install.packages(\"XML\")\n",
    "#library(\"XML\")\n",
    "#library(\"methods\")\n",
    "\n",
    "result <- xmlParse(file = \"input.xml\")\n",
    "print(result)\n",
    "class(result)"
   ]
  },
  {
   "cell_type": "code",
   "execution_count": 20,
   "metadata": {},
   "outputs": [],
   "source": [
    "# Exercício 9 - Converta o objeto criado no exercício anterior em um dataframe"
   ]
  },
  {
   "cell_type": "code",
   "execution_count": 21,
   "metadata": {},
   "outputs": [
    {
     "ename": "ERROR",
     "evalue": "Error in xmlToDataFrame(\"input.xml\"): não foi possível encontrar a função \"xmlToDataFrame\"\n",
     "output_type": "error",
     "traceback": [
      "Error in xmlToDataFrame(\"input.xml\"): não foi possível encontrar a função \"xmlToDataFrame\"\nTraceback:\n"
     ]
    }
   ],
   "source": [
    "xmldataframe <- xmlToDataFrame(\"input.xml\")\n",
    "print(xmldataframe)\n",
    "class(xmldataframe)\n",
    "#View(xmldataframe)"
   ]
  },
  {
   "cell_type": "code",
   "execution_count": 22,
   "metadata": {},
   "outputs": [],
   "source": [
    "# Exercício 10 - Carregue o arquivo input.csv em anexo e então responda às seguintes perguntas:\n",
    "\n",
    "# Pergunta 1 - Quantas linhas e quantas colunas tem o objeto resultante em R?\n",
    "# Pergunta 2 - Qual o maior salário?\n",
    "# Pergunta 3 - Imprima no console o registro da pessoa com o maior salário.\n",
    "# Pergunta 4 - Imprima no console todas as pessoas que trabalham no departamento de IT.\n",
    "# Pergunta 5 - Imprima no console as pessoas do departamento de IT com salário superior a 600. "
   ]
  },
  {
   "cell_type": "code",
   "execution_count": 23,
   "metadata": {},
   "outputs": [
    {
     "name": "stdout",
     "output_type": "stream",
     "text": [
      "  id     name salary start_date       dept\n",
      "1  1     Rick 623.30 2012-01-01         IT\n",
      "2  2      Dan 515.20 2013-09-23 Operations\n",
      "3  3 Michelle 611.00 2014-11-15         IT\n",
      "4  4     Ryan 729.00 2014-05-11         HR\n",
      "5  5     Gary 843.25 2015-03-27    Finance\n",
      "6  6     Nina 578.00 2013-05-21         IT\n",
      "7  7    Simon 632.80 2013-07-30 Operations\n",
      "8  8     Guru 722.50 2014-06-17    Finance\n"
     ]
    }
   ],
   "source": [
    "data <- read.csv(\"input.csv\")\n",
    "print(data)\n",
    "#View(data)"
   ]
  },
  {
   "cell_type": "code",
   "execution_count": 24,
   "metadata": {},
   "outputs": [
    {
     "name": "stdout",
     "output_type": "stream",
     "text": [
      "[1] TRUE\n",
      "[1] 5\n",
      "[1] 8\n"
     ]
    }
   ],
   "source": [
    "# 1\n",
    "print(is.data.frame(data))\n",
    "print(ncol(data))\n",
    "print(nrow(data))"
   ]
  },
  {
   "cell_type": "code",
   "execution_count": 25,
   "metadata": {},
   "outputs": [
    {
     "name": "stdout",
     "output_type": "stream",
     "text": [
      "[1] 843.25\n"
     ]
    }
   ],
   "source": [
    "# 2\n",
    "# Get the max salary from data frame.\n",
    "sal <- max(data$salary)\n",
    "print(sal)"
   ]
  },
  {
   "cell_type": "code",
   "execution_count": 26,
   "metadata": {},
   "outputs": [
    {
     "name": "stdout",
     "output_type": "stream",
     "text": [
      "  id name salary start_date    dept\n",
      "5  5 Gary 843.25 2015-03-27 Finance\n"
     ]
    }
   ],
   "source": [
    "# 3\n",
    "# Get the person detail having max salary.\n",
    "retval <- subset(data, salary == max(salary))\n",
    "print(retval)"
   ]
  },
  {
   "cell_type": "code",
   "execution_count": 27,
   "metadata": {},
   "outputs": [
    {
     "name": "stdout",
     "output_type": "stream",
     "text": [
      "  id     name salary start_date dept\n",
      "1  1     Rick  623.3 2012-01-01   IT\n",
      "3  3 Michelle  611.0 2014-11-15   IT\n",
      "6  6     Nina  578.0 2013-05-21   IT\n"
     ]
    }
   ],
   "source": [
    "# 4\n",
    "retval <- subset(data, dept == \"IT\")\n",
    "print(retval)"
   ]
  },
  {
   "cell_type": "code",
   "execution_count": 28,
   "metadata": {},
   "outputs": [
    {
     "name": "stdout",
     "output_type": "stream",
     "text": [
      "  id     name salary start_date dept\n",
      "1  1     Rick  623.3 2012-01-01   IT\n",
      "3  3 Michelle  611.0 2014-11-15   IT\n"
     ]
    }
   ],
   "source": [
    "# 5\n",
    "info <- subset(data, salary > 600 & dept == \"IT\")\n",
    "print(info)"
   ]
  },
  {
   "cell_type": "code",
   "execution_count": null,
   "metadata": {},
   "outputs": [],
   "source": []
  }
 ],
 "metadata": {
  "kernelspec": {
   "display_name": "R",
   "language": "R",
   "name": "ir"
  },
  "language_info": {
   "codemirror_mode": "r",
   "file_extension": ".r",
   "mimetype": "text/x-r-source",
   "name": "R",
   "pygments_lexer": "r",
   "version": "3.6.0"
  }
 },
 "nbformat": 4,
 "nbformat_minor": 2
}
