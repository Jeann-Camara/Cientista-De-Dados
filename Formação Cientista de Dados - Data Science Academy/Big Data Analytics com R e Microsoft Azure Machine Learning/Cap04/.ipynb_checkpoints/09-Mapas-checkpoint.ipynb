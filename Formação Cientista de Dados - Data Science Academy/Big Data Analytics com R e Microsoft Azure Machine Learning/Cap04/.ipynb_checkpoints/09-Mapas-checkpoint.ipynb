{
 "cells": [
  {
   "cell_type": "code",
   "execution_count": null,
   "metadata": {},
   "outputs": [],
   "source": [
    "# Instala os pacotes\n",
    "#install.packages(c(\"ggplot2\", \"maps\", \"mapdata\"))"
   ]
  },
  {
   "cell_type": "code",
   "execution_count": 1,
   "metadata": {},
   "outputs": [
    {
     "name": "stderr",
     "output_type": "stream",
     "text": [
      "Registered S3 methods overwritten by 'ggplot2':\n",
      "  method         from \n",
      "  [.quosures     rlang\n",
      "  c.quosures     rlang\n",
      "  print.quosures rlang\n"
     ]
    },
    {
     "ename": "ERROR",
     "evalue": "Error in library(mapdata): there is no package called 'mapdata'\n",
     "output_type": "error",
     "traceback": [
      "Error in library(mapdata): there is no package called 'mapdata'\nTraceback:\n",
      "1. library(mapdata)"
     ]
    }
   ],
   "source": [
    "# Carrega os pacotes\n",
    "library(ggplot2)\n",
    "library(maps)\n",
    "library(mapdata)"
   ]
  },
  {
   "cell_type": "code",
   "execution_count": 2,
   "metadata": {},
   "outputs": [
    {
     "ename": "ERROR",
     "evalue": "Error in eval(expr, envir, enclos): objeto 'mapa' não encontrado\n",
     "output_type": "error",
     "traceback": [
      "Error in eval(expr, envir, enclos): objeto 'mapa' não encontrado\nTraceback:\n"
     ]
    }
   ],
   "source": [
    "# Visualizando o dataframe\n",
    "dim(mapa)\n",
    "#View(mapa)"
   ]
  },
  {
   "cell_type": "code",
   "execution_count": 3,
   "metadata": {},
   "outputs": [
    {
     "ename": "ERROR",
     "evalue": "Error in fortify(data): objeto 'mapa' não encontrado\n",
     "output_type": "error",
     "traceback": [
      "Error in fortify(data): objeto 'mapa' não encontrado\nTraceback:\n",
      "1. geom_polygon(data = mapa, aes(x = long, y = lat, group = group))",
      "2. layer(data = data, mapping = mapping, stat = stat, geom = GeomPolygon, \n .     position = position, show.legend = show.legend, inherit.aes = inherit.aes, \n .     params = list(na.rm = na.rm, ...))",
      "3. fortify(data)"
     ]
    }
   ],
   "source": [
    "# Gerando o Mapa\n",
    "ggplot() + geom_polygon(data = mapa, aes(x=long, y = lat, group = group)) + \n",
    "  coord_fixed(1.3)\n",
    "\n",
    "ggplot() + \n",
    "  geom_polygon(data = mapa, aes(x=long, y = lat, group = group), fill = NA, color = \"blue\") + \n",
    "  coord_fixed(1.3)\n",
    "\n",
    "gg1 <- ggplot() + \n",
    "  geom_polygon(data = mapa, aes(x=long, y = lat, group = group), fill = \"seagreen1\", color = \"blue\") + \n",
    "  coord_fixed(1.3)\n",
    "gg1"
   ]
  },
  {
   "cell_type": "code",
   "execution_count": 4,
   "metadata": {},
   "outputs": [],
   "source": [
    "# Marcando alguns pontos no mapa\n",
    "# Podemos usar um shapefile\n",
    "labs <- data.frame(\n",
    "  long = c(69.24140, -2.8456051),\n",
    "  lat = c(-78.38995, 22.44512),\n",
    "  names = c(\"Ponto1\", \"Ponto2\"),\n",
    "  stringsAsFactors = FALSE\n",
    ")  "
   ]
  },
  {
   "cell_type": "code",
   "execution_count": 5,
   "metadata": {},
   "outputs": [
    {
     "ename": "ERROR",
     "evalue": "Error in eval(expr, envir, enclos): objeto 'gg1' não encontrado\n",
     "output_type": "error",
     "traceback": [
      "Error in eval(expr, envir, enclos): objeto 'gg1' não encontrado\nTraceback:\n"
     ]
    }
   ],
   "source": [
    "# Pontos no mapa\n",
    "gg1 + \n",
    "  geom_point(data = labs, aes(x = long, y = lat), color = \"black\", size = 2) +\n",
    "  geom_point(data = labs, aes(x = long, y = lat), color = \"yellow\", size = 2)"
   ]
  },
  {
   "cell_type": "code",
   "execution_count": 6,
   "metadata": {},
   "outputs": [
    {
     "ename": "ERROR",
     "evalue": "Error in ggplot(data = mapa): objeto 'mapa' não encontrado\n",
     "output_type": "error",
     "traceback": [
      "Error in ggplot(data = mapa): objeto 'mapa' não encontrado\nTraceback:\n",
      "1. ggplot(data = mapa)"
     ]
    }
   ],
   "source": [
    "# Divisão por países\n",
    "ggplot(data = mapa) + \n",
    "  geom_polygon(aes(x = long, y = lat, fill = region, group = group), color = \"white\") + \n",
    "  coord_fixed(1.3) +\n",
    "  guides(fill=FALSE)"
   ]
  },
  {
   "cell_type": "code",
   "execution_count": null,
   "metadata": {},
   "outputs": [],
   "source": [
    "# rMaps \n",
    "# http://rmaps.github.io"
   ]
  },
  {
   "cell_type": "code",
   "execution_count": null,
   "metadata": {},
   "outputs": [],
   "source": []
  }
 ],
 "metadata": {
  "kernelspec": {
   "display_name": "R",
   "language": "R",
   "name": "ir"
  },
  "language_info": {
   "codemirror_mode": "r",
   "file_extension": ".r",
   "mimetype": "text/x-r-source",
   "name": "R",
   "pygments_lexer": "r",
   "version": "3.6.0"
  }
 },
 "nbformat": 4,
 "nbformat_minor": 2
}
