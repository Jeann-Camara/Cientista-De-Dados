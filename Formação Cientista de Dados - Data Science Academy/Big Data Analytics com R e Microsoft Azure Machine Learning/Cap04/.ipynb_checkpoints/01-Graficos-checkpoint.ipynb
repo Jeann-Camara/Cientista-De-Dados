{
 "cells": [
  {
   "cell_type": "code",
   "execution_count": 1,
   "metadata": {},
   "outputs": [
    {
     "data": {
      "text/html": [
       "<ol class=list-inline>\n",
       "\t<li>'.GlobalEnv'</li>\n",
       "\t<li>'jupyter:irkernel'</li>\n",
       "\t<li>'jupyter:irkernel'</li>\n",
       "\t<li>'package:stats'</li>\n",
       "\t<li>'package:graphics'</li>\n",
       "\t<li>'package:grDevices'</li>\n",
       "\t<li>'package:utils'</li>\n",
       "\t<li>'package:datasets'</li>\n",
       "\t<li>'package:methods'</li>\n",
       "\t<li>'Autoloads'</li>\n",
       "\t<li>'package:base'</li>\n",
       "</ol>\n"
      ],
      "text/latex": [
       "\\begin{enumerate*}\n",
       "\\item '.GlobalEnv'\n",
       "\\item 'jupyter:irkernel'\n",
       "\\item 'jupyter:irkernel'\n",
       "\\item 'package:stats'\n",
       "\\item 'package:graphics'\n",
       "\\item 'package:grDevices'\n",
       "\\item 'package:utils'\n",
       "\\item 'package:datasets'\n",
       "\\item 'package:methods'\n",
       "\\item 'Autoloads'\n",
       "\\item 'package:base'\n",
       "\\end{enumerate*}\n"
      ],
      "text/markdown": [
       "1. '.GlobalEnv'\n",
       "2. 'jupyter:irkernel'\n",
       "3. 'jupyter:irkernel'\n",
       "4. 'package:stats'\n",
       "5. 'package:graphics'\n",
       "6. 'package:grDevices'\n",
       "7. 'package:utils'\n",
       "8. 'package:datasets'\n",
       "9. 'package:methods'\n",
       "10. 'Autoloads'\n",
       "11. 'package:base'\n",
       "\n",
       "\n"
      ],
      "text/plain": [
       " [1] \".GlobalEnv\"        \"jupyter:irkernel\"  \"jupyter:irkernel\" \n",
       " [4] \"package:stats\"     \"package:graphics\"  \"package:grDevices\"\n",
       " [7] \"package:utils\"     \"package:datasets\"  \"package:methods\"  \n",
       "[10] \"Autoloads\"         \"package:base\"     "
      ]
     },
     "metadata": {},
     "output_type": "display_data"
    }
   ],
   "source": [
    "# Lista de pacotes base carregados\n",
    "search()"
   ]
  },
  {
   "cell_type": "code",
   "execution_count": null,
   "metadata": {},
   "outputs": [],
   "source": [
    "# Demo\n",
    "demo(\"graphics\")"
   ]
  },
  {
   "cell_type": "code",
   "execution_count": null,
   "metadata": {},
   "outputs": [],
   "source": [
    "# Plot Básico\n",
    "x = 5:7\n",
    "y = 8:10\n",
    "plot(x,y)\n",
    "?plot\n",
    "\n",
    "altura <- c(145, 167, 176, 123, 150)\n",
    "largura <- c(51, 63, 64, 40, 55)\n",
    "\n",
    "plot(altura, largura)"
   ]
  },
  {
   "cell_type": "code",
   "execution_count": null,
   "metadata": {},
   "outputs": [],
   "source": [
    "# Plotando um Dataframe\n",
    "?lynx\n",
    "plot(lynx)\n",
    "plot(lynx, ylab = \"Plots com Dataframes\", xlab = \"\")\n",
    "plot(lynx, ylab = \"Plots com Dataframes\", xlab = \"Observações\")\n",
    "plot(lynx, main = \"Plots com Dataframes\", col = 'red')\n",
    "plot(lynx, main = \"Plots com Dataframes\", col = 'red', col.main = 52, cex.main = 1.5)\n",
    "\n",
    "library(datasets)\n",
    "hist(warpbreaks$breaks)\n",
    "\n",
    "airquality\n",
    "transform(airquality, Month = factor(Month))\n",
    "boxplot(Ozone ~ Month, airquality, xlab = \"Month\", ylab = \"Ozone (ppb)\")"
   ]
  },
  {
   "cell_type": "code",
   "execution_count": null,
   "metadata": {},
   "outputs": [],
   "source": [
    "# Especificando os parâmetros\n",
    "\n",
    "# col - cor do plot\n",
    "# lty - tipo de linha\n",
    "# lwd - largura de linha\n",
    "# pch - símbolo no plot\n",
    "# xlab - label do eixo x\n",
    "# ylab - label do eixo y\n",
    "# las - como os labels dos eixos são orientados\n",
    "# bg - background color\n",
    "# mfrow - número de plots por linha\n",
    "# mfcool - número de plots por coluna\n",
    "\n",
    "# Funções Básicas de Plot\n",
    "\n",
    "# plot() - scatterplots\n",
    "# lines() -  adiciona linhas ao gráfico\n",
    "# points() - adiciona pontos ao gráfico\n",
    "# text() - adiciona label ao gráfico\n",
    "# title() - adiciona título ao gráfico"
   ]
  },
  {
   "cell_type": "code",
   "execution_count": null,
   "metadata": {},
   "outputs": [],
   "source": [
    "# Parâmetros dos Gráficos\n",
    "?par\n",
    "par()\n",
    "par('pch')\n",
    "par('lty')\n",
    "\n",
    "x = 2:4\n",
    "plot(x, pch = \"*\")\n",
    "\n",
    "par(mfrow = c(2,2), col.axis = \"red\")\n",
    "plot(1:8, las = 0, xlab = \"xlab\", ylab = \"ylab\", main = \"LAS = 0\")\n",
    "plot(1:8, las = 1, xlab = \"xlab\", ylab = \"ylab\", main = \"LAS = 1\")\n",
    "plot(1:8, las = 2, xlab = \"xlab\", ylab = \"ylab\", main = \"LAS = 2\")\n",
    "plot(1:8, las = 3, xlab = \"xlab\", ylab = \"ylab\", main = \"LAS = 3\")\n",
    "legend(\"topright\", pch = 1, col = c(\"blue\", \"red\"), legend = c(\"Var1\",\"Var2\"))\n",
    "par(mfrow = c(1,1))"
   ]
  },
  {
   "cell_type": "code",
   "execution_count": null,
   "metadata": {},
   "outputs": [],
   "source": [
    "# Cores disponíveis\n",
    "colors()"
   ]
  },
  {
   "cell_type": "code",
   "execution_count": null,
   "metadata": {},
   "outputs": [],
   "source": [
    "# Salvando os gráficos\n",
    "\n",
    "# png\n",
    "png(\"Grafico1.png\", width = 500, height = 500, res = 72)\n",
    "\n",
    "plot(iris$Sepal.Length, iris$Petal.Length,\n",
    "     col = iris$Species,\n",
    "     main = \"Gráfico gerado a partir do Iris\")\n",
    "\n",
    "dev.off()"
   ]
  },
  {
   "cell_type": "code",
   "execution_count": null,
   "metadata": {},
   "outputs": [],
   "source": [
    "# pdf\n",
    "pdf(\"Grafico2.pdf\")\n",
    "\n",
    "plot(iris$Sepal.Length, iris$Petal.Length,\n",
    "     col = iris$Species,\n",
    "     main = \"Gráfico gerado a partir do Iris\")\n",
    "\n",
    "dev.off()"
   ]
  },
  {
   "cell_type": "code",
   "execution_count": null,
   "metadata": {},
   "outputs": [],
   "source": [
    "# Estendendo as funções do plot\n",
    "install.packages('plotrix')\n",
    "library(plotrix)\n",
    "?plotrix\n",
    "\n",
    "par(mfrow = c(1,1), col.axis = \"red\")\n",
    "plot(1:6, las = 3, xlab = \"lty 1:6\", ylab = \"\", main = \"Mais opções ao plot\")\n",
    "ablineclip(v=1, lty=1, col=\"sienna2\", lwd=2)\n",
    "ablineclip(v=2, lty=1, col=\"sienna2\", lwd=2)\n",
    "ablineclip(v=3, lty=1, col=\"sienna2\", lwd=2)\n",
    "ablineclip(v=4, lty=1, col=\"sienna2\", lwd=2)\n",
    "ablineclip(v=5, lty=1, col=\"sienna2\", lwd=2)\n",
    "ablineclip(v=6, lty=1, col=\"sienna2\", lwd=2)\n",
    "ablineclip(v=7, lty=1, col=\"sienna2\", lwd=2)\n",
    "\n",
    "\n",
    "plot(lynx)\n",
    "plot(lynx, type=\"p\", main=\"Type p\")\n",
    "plot(lynx, type=\"l\", main=\"Type l\")\n",
    "plot(lynx, type=\"b\", main=\"Type b\")\n",
    "plot(lynx, type=\"o\", main=\"Type o\")\n",
    "plot(lynx, type=\"h\", main=\"Type h\")\n",
    "plot(lynx, type=\"s\", main=\"Type s\")\n",
    "plot(lynx, type=\"n\", main=\"Type n\")"
   ]
  },
  {
   "cell_type": "code",
   "execution_count": null,
   "metadata": {},
   "outputs": [],
   "source": [
    "# Dois plots juntos\n",
    "par(mar=c(4,3,3,3), col.axis=\"black\")\n",
    "\n",
    "plot(cars$speed, type=\"s\", col=\"red\", bty=\"n\", xlab=\"Cars ID\", ylab=\"\")\n",
    "text(8, 14, \"Velocidade\", cex=0.85, col=\"red\") \n",
    "par(new=T) \n",
    "\n",
    "plot(cars$dist, type=\"s\", bty=\"n\", ann=F, axes=F, col=\"darkblue\")\n",
    "axis(side=4)\n",
    "text(37, 18, \"Distância\", cex=0.85, col=\"darkblue\") \n",
    "\n",
    "title(main=\"Velocidade x Distância\")"
   ]
  },
  {
   "cell_type": "code",
   "execution_count": null,
   "metadata": {},
   "outputs": [],
   "source": [
    "# Plots a partir de datasets\n",
    "df <- read.csv('pibpercap.csv', stringsAsFactors = F)\n",
    "df_1982 <- subset(df, ano == 1982)\n",
    "plot(expectativa ~ pibpercap, data = df_1982, log = \"x\")\n",
    "View(df)"
   ]
  },
  {
   "cell_type": "code",
   "execution_count": null,
   "metadata": {},
   "outputs": [],
   "source": [
    "# Nomes paar as colunas\n",
    "mycol <- c(Asia = \"tomato\", Europe = \"chocolate4\", Africa = \"dodgerblue2\", \n",
    "           Americas = \"darkgoldenrod1\", Oceania = \"green4\")"
   ]
  },
  {
   "cell_type": "code",
   "execution_count": null,
   "metadata": {},
   "outputs": [],
   "source": [
    "# Plot\n",
    "plot(expectativa ~ pibpercap, data = df_1982, log = \"x\", col = mycol[continente])"
   ]
  },
  {
   "cell_type": "code",
   "execution_count": null,
   "metadata": {},
   "outputs": [],
   "source": [
    "# Função para a escala\n",
    "mycex <- function(var, r, f = sqrt){\n",
    "  x = f(var)\n",
    "  x_scaled = (x - min(x))/(max(x) - min(x))\n",
    "  r[1] + x_scaled * (r[2] - r[1])\n",
    "}"
   ]
  },
  {
   "cell_type": "code",
   "execution_count": null,
   "metadata": {},
   "outputs": [],
   "source": [
    "# Plot\n",
    "plot(expectativa ~ pibpercap, data = df_1982, log = \"x\",\n",
    "     col = mycol[continente],\n",
    "     cex = mycex(pop, r = c(0.2, 10))\n",
    ")"
   ]
  },
  {
   "cell_type": "code",
   "execution_count": null,
   "metadata": {},
   "outputs": [],
   "source": []
  }
 ],
 "metadata": {
  "kernelspec": {
   "display_name": "R",
   "language": "R",
   "name": "ir"
  },
  "language_info": {
   "codemirror_mode": "r",
   "file_extension": ".r",
   "mimetype": "text/x-r-source",
   "name": "R",
   "pygments_lexer": "r",
   "version": "3.5.1"
  }
 },
 "nbformat": 4,
 "nbformat_minor": 2
}
