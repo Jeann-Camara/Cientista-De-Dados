{
 "cells": [
  {
   "cell_type": "code",
   "execution_count": null,
   "metadata": {},
   "outputs": [],
   "source": [
    "# Define os dados\n",
    "set.seed(67)\n",
    "x = rnorm(10,5,7)\n",
    "y = rpois(10,7)\n",
    "z = rnorm(10,6,7)\n",
    "t = rpois(10,9)"
   ]
  },
  {
   "cell_type": "code",
   "execution_count": null,
   "metadata": {},
   "outputs": [],
   "source": [
    "# Cria o Plot\n",
    "plot(x, y, col = 123, pch = 10, main = \"Multi Scatterplot\",\n",
    "     col.main = \"red\", cex.main = 1.5, xlab = \"Variável Independente\", \n",
    "     ylab = \"Variável Dependente\")"
   ]
  },
  {
   "cell_type": "code",
   "execution_count": null,
   "metadata": {},
   "outputs": [],
   "source": [
    "# Adiciona outros dados \n",
    "points(z, t, col = \"blue\", pch = 4)"
   ]
  },
  {
   "cell_type": "code",
   "execution_count": null,
   "metadata": {},
   "outputs": [],
   "source": [
    "# Adiciona outros dados \n",
    "points(y, t, col = 777, pch = 9)"
   ]
  },
  {
   "cell_type": "code",
   "execution_count": null,
   "metadata": {},
   "outputs": [],
   "source": [
    "# Cria legenda\n",
    "legend(-6,5.9, legend = c(\"Nível 1\", \"Nível 2\", \"Nível 3\"),\n",
    "       col = c(123, \"blue\", 777), pch = c(10,4,9),\n",
    "       cex = 0.65, bty = \"n\")"
   ]
  },
  {
   "cell_type": "code",
   "execution_count": null,
   "metadata": {},
   "outputs": [],
   "source": []
  }
 ],
 "metadata": {
  "kernelspec": {
   "display_name": "R",
   "language": "R",
   "name": "ir"
  },
  "language_info": {
   "codemirror_mode": "r",
   "file_extension": ".r",
   "mimetype": "text/x-r-source",
   "name": "R",
   "pygments_lexer": "r",
   "version": "3.5.1"
  }
 },
 "nbformat": 4,
 "nbformat_minor": 2
}
