{
 "cells": [
  {
   "cell_type": "code",
   "execution_count": 16,
   "metadata": {},
   "outputs": [
    {
     "ename": "ERROR",
     "evalue": "Error in library(googleVis): there is no package called 'googleVis'\n",
     "output_type": "error",
     "traceback": [
      "Error in library(googleVis): there is no package called 'googleVis'\nTraceback:\n",
      "1. library(googleVis)"
     ]
    }
   ],
   "source": [
    "# Baseado no Google Chart (visualização de dados na web)\n",
    "# googlevis é um pacote que fornece interface entre R e o Google Charts\n",
    "# Utiliza JavaScript e arquivos JSON. Os dados são transformados em formato JSON\n",
    "# O resultado é gerado em HTML5 ou Flash\n",
    "# Pode-se criar os mais variados tipos de gráficos e mapas. Inclusive Google Maps\n",
    "# Você pode incorporar os gráficos criados em páginas HTML ou apps\n",
    "# Verifique termos de uso, antes de utilizar\n",
    "\n",
    "#install.packages(\"googleVis\")\n",
    "library(googleVis)\n",
    "?googleVis"
   ]
  },
  {
   "cell_type": "code",
   "execution_count": 17,
   "metadata": {},
   "outputs": [],
   "source": [
    "# Criando um Datafrane\n",
    "df = data.frame(País = c(\"BR\", \"CH\", \"AR\"), \n",
    "                Exportações = c(10,13,14), \n",
    "                Importações = c(23,12,32))"
   ]
  },
  {
   "cell_type": "code",
   "execution_count": 18,
   "metadata": {},
   "outputs": [
    {
     "ename": "ERROR",
     "evalue": "Error in gvisLineChart(df): não foi possível encontrar a função \"gvisLineChart\"\n",
     "output_type": "error",
     "traceback": [
      "Error in gvisLineChart(df): não foi possível encontrar a função \"gvisLineChart\"\nTraceback:\n"
     ]
    }
   ],
   "source": [
    "# Gráfico de Linha\n",
    "Line <- gvisLineChart(df)\n",
    "plot(Line)"
   ]
  },
  {
   "cell_type": "code",
   "execution_count": 19,
   "metadata": {},
   "outputs": [
    {
     "ename": "ERROR",
     "evalue": "Error in gvisColumnChart(df): não foi possível encontrar a função \"gvisColumnChart\"\n",
     "output_type": "error",
     "traceback": [
      "Error in gvisColumnChart(df): não foi possível encontrar a função \"gvisColumnChart\"\nTraceback:\n"
     ]
    }
   ],
   "source": [
    "# Gráfico de Barras\n",
    "Column <- gvisColumnChart(df)\n",
    "plot(Column)"
   ]
  },
  {
   "cell_type": "code",
   "execution_count": 20,
   "metadata": {},
   "outputs": [
    {
     "ename": "ERROR",
     "evalue": "Error in gvisBarChart(df): não foi possível encontrar a função \"gvisBarChart\"\n",
     "output_type": "error",
     "traceback": [
      "Error in gvisBarChart(df): não foi possível encontrar a função \"gvisBarChart\"\nTraceback:\n"
     ]
    }
   ],
   "source": [
    "# Gráfico de Barras Horizontais\n",
    "Bar <- gvisBarChart(df)\n",
    "plot(Bar)"
   ]
  },
  {
   "cell_type": "code",
   "execution_count": 21,
   "metadata": {},
   "outputs": [
    {
     "ename": "ERROR",
     "evalue": "Error in gvisPieChart(CityPopularity): não foi possível encontrar a função \"gvisPieChart\"\n",
     "output_type": "error",
     "traceback": [
      "Error in gvisPieChart(CityPopularity): não foi possível encontrar a função \"gvisPieChart\"\nTraceback:\n"
     ]
    }
   ],
   "source": [
    "# Gráfico de Pizza\n",
    "Pie <- gvisPieChart(CityPopularity)\n",
    "plot(Pie)"
   ]
  },
  {
   "cell_type": "code",
   "execution_count": 22,
   "metadata": {},
   "outputs": [
    {
     "ename": "ERROR",
     "evalue": "Error in gvisComboChart(df, xvar = \"País\", yvar = c(\"Exportações\", \"Importações\"), : não foi possível encontrar a função \"gvisComboChart\"\n",
     "output_type": "error",
     "traceback": [
      "Error in gvisComboChart(df, xvar = \"País\", yvar = c(\"Exportações\", \"Importações\"), : não foi possível encontrar a função \"gvisComboChart\"\nTraceback:\n"
     ]
    }
   ],
   "source": [
    "# Gráficos Combinados\n",
    "Combo <- gvisComboChart(df, xvar = \"País\",\n",
    "                        yvar = c(\"Exportações\", \"Importações\"),\n",
    "                        options = list(seriesType = \"bars\",\n",
    "                                       series='{1: {type:\"line\"}}'))\n",
    "plot(Combo)"
   ]
  },
  {
   "cell_type": "code",
   "execution_count": 23,
   "metadata": {},
   "outputs": [
    {
     "ename": "ERROR",
     "evalue": "Error in gvisScatterChart(women, options = list(legend = \"none\", lineWidth = 2, : não foi possível encontrar a função \"gvisScatterChart\"\n",
     "output_type": "error",
     "traceback": [
      "Error in gvisScatterChart(women, options = list(legend = \"none\", lineWidth = 2, : não foi possível encontrar a função \"gvisScatterChart\"\nTraceback:\n"
     ]
    }
   ],
   "source": [
    "# Scatter Chart\n",
    "Scatter <- gvisScatterChart(women, \n",
    "                            options=list(\n",
    "                              legend=\"none\",\n",
    "                              lineWidth=2, pointSize=0,\n",
    "                              title=\"Women\", vAxis=\"{title:'weight (lbs)'}\",\n",
    "                              hAxis=\"{title:'height (in)'}\", \n",
    "                              width=300, height=300))\n",
    "plot(Scatter)\n"
   ]
  },
  {
   "cell_type": "code",
   "execution_count": 24,
   "metadata": {},
   "outputs": [
    {
     "ename": "ERROR",
     "evalue": "Error in gvisBubbleChart(Fruits, idvar = \"Fruit\", xvar = \"Sales\", yvar = \"Expenses\", : não foi possível encontrar a função \"gvisBubbleChart\"\n",
     "output_type": "error",
     "traceback": [
      "Error in gvisBubbleChart(Fruits, idvar = \"Fruit\", xvar = \"Sales\", yvar = \"Expenses\", : não foi possível encontrar a função \"gvisBubbleChart\"\nTraceback:\n"
     ]
    }
   ],
   "source": [
    "# Bubble\n",
    "Bubble <- gvisBubbleChart(Fruits, idvar=\"Fruit\", \n",
    "                          xvar=\"Sales\", yvar=\"Expenses\",\n",
    "                          colorvar=\"Year\", sizevar=\"Profit\",\n",
    "                          options=list(\n",
    "                            hAxis='{minValue:75, maxValue:125}'))\n",
    "plot(Bubble)"
   ]
  },
  {
   "cell_type": "code",
   "execution_count": 25,
   "metadata": {},
   "outputs": [
    {
     "ename": "ERROR",
     "evalue": "Error in gvisScatterChart(dat, options = list(title = \"Customizing points\", : não foi possível encontrar a função \"gvisScatterChart\"\n",
     "output_type": "error",
     "traceback": [
      "Error in gvisScatterChart(dat, options = list(title = \"Customizing points\", : não foi possível encontrar a função \"gvisScatterChart\"\nTraceback:\n"
     ]
    }
   ],
   "source": [
    "# Customizando\n",
    "M <- matrix(nrow=6,ncol=6)\n",
    "M[col(M)==row(M)] <- 1:6\n",
    "dat <- data.frame(X=1:6, M)\n",
    "SC <- gvisScatterChart(dat, \n",
    "                       options=list(\n",
    "                         title=\"Customizing points\",\n",
    "                         legend=\"right\",\n",
    "                         pointSize=30,\n",
    "                         series=\"{\n",
    "                         0: { pointShape: 'circle' },\n",
    "                         1: { pointShape: 'triangle' },\n",
    "                         2: { pointShape: 'square' },\n",
    "                         3: { pointShape: 'diamond' },\n",
    "                         4: { pointShape: 'star' },\n",
    "                         5: { pointShape: 'polygon' }\n",
    "                         }\"))\n",
    "plot(SC)"
   ]
  },
  {
   "cell_type": "code",
   "execution_count": 26,
   "metadata": {},
   "outputs": [
    {
     "ename": "ERROR",
     "evalue": "Error in gvisGauge(CityPopularity, options = list(min = 0, max = 800, : não foi possível encontrar a função \"gvisGauge\"\n",
     "output_type": "error",
     "traceback": [
      "Error in gvisGauge(CityPopularity, options = list(min = 0, max = 800, : não foi possível encontrar a função \"gvisGauge\"\nTraceback:\n"
     ]
    }
   ],
   "source": [
    "# Gauge\n",
    "Gauge <- gvisGauge(CityPopularity, \n",
    "                   options=list(min=0, max=800, greenFrom=500,\n",
    "                                greenTo=800, yellowFrom=300, yellowTo=500,\n",
    "                                redFrom=0, redTo=300, width=400, height=300))\n",
    "plot(Gauge)"
   ]
  },
  {
   "cell_type": "code",
   "execution_count": 27,
   "metadata": {},
   "outputs": [
    {
     "ename": "ERROR",
     "evalue": "Error in gvisIntensityMap(df): não foi possível encontrar a função \"gvisIntensityMap\"\n",
     "output_type": "error",
     "traceback": [
      "Error in gvisIntensityMap(df): não foi possível encontrar a função \"gvisIntensityMap\"\nTraceback:\n"
     ]
    }
   ],
   "source": [
    "# Mapas\n",
    "Intensity <- gvisIntensityMap(df)\n",
    "plot(Intensity)"
   ]
  },
  {
   "cell_type": "code",
   "execution_count": 28,
   "metadata": {},
   "outputs": [
    {
     "ename": "ERROR",
     "evalue": "Error in gvisGeoChart(Exports, locationvar = \"Country\", colorvar = \"Profit\", : não foi possível encontrar a função \"gvisGeoChart\"\n",
     "output_type": "error",
     "traceback": [
      "Error in gvisGeoChart(Exports, locationvar = \"Country\", colorvar = \"Profit\", : não foi possível encontrar a função \"gvisGeoChart\"\nTraceback:\n"
     ]
    }
   ],
   "source": [
    "# Geo Chart\n",
    "Geo=gvisGeoChart(Exports, locationvar=\"Country\", \n",
    "                 colorvar=\"Profit\",\n",
    "                 options=list(projection=\"kavrayskiy-vii\"))\n",
    "plot(Geo)"
   ]
  },
  {
   "cell_type": "code",
   "execution_count": 29,
   "metadata": {},
   "outputs": [
    {
     "ename": "ERROR",
     "evalue": "Error in gvisMap(Andrew, \"LatLong\", \"Tip\", options = list(showTip = TRUE, : não foi possível encontrar a função \"gvisMap\"\n",
     "output_type": "error",
     "traceback": [
      "Error in gvisMap(Andrew, \"LatLong\", \"Tip\", options = list(showTip = TRUE, : não foi possível encontrar a função \"gvisMap\"\nTraceback:\n"
     ]
    }
   ],
   "source": [
    "# Google Maps\n",
    "AndrewMap <- gvisMap(Andrew, \"LatLong\" , \"Tip\", \n",
    "                     options=list(showTip=TRUE, \n",
    "                                  showLine=TRUE, \n",
    "                                  enableScrollWheel=TRUE,\n",
    "                                  mapType='terrain', \n",
    "                                  useMapTypeControl=TRUE))\n",
    "plot(AndrewMap)"
   ]
  },
  {
   "cell_type": "code",
   "execution_count": 30,
   "metadata": {},
   "outputs": [
    {
     "ename": "ERROR",
     "evalue": "Error in gvisGeoChart(states, \"state.name\", \"Illiteracy\", options = list(region = \"US\", : não foi possível encontrar a função \"gvisGeoChart\"\n",
     "output_type": "error",
     "traceback": [
      "Error in gvisGeoChart(states, \"state.name\", \"Illiteracy\", options = list(region = \"US\", : não foi possível encontrar a função \"gvisGeoChart\"\nTraceback:\n"
     ]
    }
   ],
   "source": [
    "# Dados em Gráfico. Nível de analfabetismo nos EUA\n",
    "require(datasets)\n",
    "states <- data.frame(state.name, state.x77)\n",
    "GeoStates <- gvisGeoChart(states, \"state.name\", \"Illiteracy\",\n",
    "                          options=list(region=\"US\", \n",
    "                                       displayMode=\"regions\", \n",
    "                                       resolution=\"provinces\",\n",
    "                                       width=600, height=400))\n",
    "plot(GeoStates)"
   ]
  },
  {
   "cell_type": "code",
   "execution_count": null,
   "metadata": {},
   "outputs": [],
   "source": []
  }
 ],
 "metadata": {
  "kernelspec": {
   "display_name": "R",
   "language": "R",
   "name": "ir"
  },
  "language_info": {
   "codemirror_mode": "r",
   "file_extension": ".r",
   "mimetype": "text/x-r-source",
   "name": "R",
   "pygments_lexer": "r",
   "version": "3.6.0"
  }
 },
 "nbformat": 4,
 "nbformat_minor": 2
}
