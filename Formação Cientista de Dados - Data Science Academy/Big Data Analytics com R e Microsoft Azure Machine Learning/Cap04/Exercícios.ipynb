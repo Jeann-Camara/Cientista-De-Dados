{
 "cells": [
  {
   "cell_type": "code",
   "execution_count": 1,
   "metadata": {},
   "outputs": [
    {
     "name": "stdout",
     "output_type": "stream",
     "text": [
      "   x y\n",
      "1 10 a\n",
      "2 11 b\n",
      "3 12 c\n",
      "4 13 d\n"
     ]
    }
   ],
   "source": [
    "# Exercicio 1 - Crie uma função que receba os dois vetores abaixo como parâmetro, \n",
    "# converta-os em um dataframe e imprima no console\n",
    "vec1 <- (10:13)\n",
    "vec2 <- c(\"a\", \"b\", \"c\", \"d\")\n",
    "\n",
    "myfunc <- function(x, y){\n",
    "  df = data.frame(cbind(x, y))\n",
    "  print(df)\n",
    "}\n",
    "\n",
    "myfunc(vec1, vec2)"
   ]
  },
  {
   "cell_type": "code",
   "execution_count": 2,
   "metadata": {},
   "outputs": [
    {
     "data": {
      "text/html": [
       "<table>\n",
       "<tbody>\n",
       "\t<tr><td>1 </td><td>5 </td><td> 9</td><td>13</td></tr>\n",
       "\t<tr><td>2 </td><td>6 </td><td>10</td><td>14</td></tr>\n",
       "\t<tr><td>3 </td><td>7 </td><td>11</td><td>15</td></tr>\n",
       "\t<tr><td>4 </td><td>8 </td><td>12</td><td>16</td></tr>\n",
       "</tbody>\n",
       "</table>\n"
      ],
      "text/latex": [
       "\\begin{tabular}{llll}\n",
       "\t 1  & 5  &  9 & 13\\\\\n",
       "\t 2  & 6  & 10 & 14\\\\\n",
       "\t 3  & 7  & 11 & 15\\\\\n",
       "\t 4  & 8  & 12 & 16\\\\\n",
       "\\end{tabular}\n"
      ],
      "text/markdown": [
       "\n",
       "| 1  | 5  |  9 | 13 |\n",
       "| 2  | 6  | 10 | 14 |\n",
       "| 3  | 7  | 11 | 15 |\n",
       "| 4  | 8  | 12 | 16 |\n",
       "\n"
      ],
      "text/plain": [
       "     [,1] [,2] [,3] [,4]\n",
       "[1,] 1    5     9   13  \n",
       "[2,] 2    6    10   14  \n",
       "[3,] 3    7    11   15  \n",
       "[4,] 4    8    12   16  "
      ]
     },
     "metadata": {},
     "output_type": "display_data"
    },
    {
     "data": {
      "text/html": [
       "<ol class=list-inline>\n",
       "\t<li>7</li>\n",
       "\t<li>8</li>\n",
       "\t<li>9</li>\n",
       "\t<li>10</li>\n",
       "</ol>\n"
      ],
      "text/latex": [
       "\\begin{enumerate*}\n",
       "\\item 7\n",
       "\\item 8\n",
       "\\item 9\n",
       "\\item 10\n",
       "\\end{enumerate*}\n"
      ],
      "text/markdown": [
       "1. 7\n",
       "2. 8\n",
       "3. 9\n",
       "4. 10\n",
       "\n",
       "\n"
      ],
      "text/plain": [
       "[1]  7  8  9 10"
      ]
     },
     "metadata": {},
     "output_type": "display_data"
    }
   ],
   "source": [
    "# Exercicio 2 - Crie uma matriz com 4 linhas e 4 colunas preenchida com \n",
    "# números inteiros e calcule a média de cada linha\n",
    "mat <- matrix(c(1:16), nrow = 4, ncol = 4)\n",
    "mat\n",
    "apply(mat, 1, mean)"
   ]
  },
  {
   "cell_type": "code",
   "execution_count": 3,
   "metadata": {},
   "outputs": [
    {
     "data": {
      "text/html": [
       "<table>\n",
       "<thead><tr><th scope=col>Aluno</th><th scope=col>Matematica</th><th scope=col>Geografia</th><th scope=col>Quimica</th></tr></thead>\n",
       "<tbody>\n",
       "\t<tr><td>Alan </td><td>90   </td><td>100  </td><td> 76  </td></tr>\n",
       "\t<tr><td>Alice</td><td>80   </td><td> 78  </td><td> 56  </td></tr>\n",
       "\t<tr><td>Alana</td><td>85   </td><td> 86  </td><td> 89  </td></tr>\n",
       "\t<tr><td>Aline</td><td>87   </td><td> 90  </td><td> 90  </td></tr>\n",
       "\t<tr><td>Alex </td><td>56   </td><td> 98  </td><td>100  </td></tr>\n",
       "\t<tr><td>Ajay </td><td>79   </td><td> 67  </td><td> 87  </td></tr>\n",
       "</tbody>\n",
       "</table>\n"
      ],
      "text/latex": [
       "\\begin{tabular}{r|llll}\n",
       " Aluno & Matematica & Geografia & Quimica\\\\\n",
       "\\hline\n",
       "\t Alan  & 90    & 100   &  76  \\\\\n",
       "\t Alice & 80    &  78   &  56  \\\\\n",
       "\t Alana & 85    &  86   &  89  \\\\\n",
       "\t Aline & 87    &  90   &  90  \\\\\n",
       "\t Alex  & 56    &  98   & 100  \\\\\n",
       "\t Ajay  & 79    &  67   &  87  \\\\\n",
       "\\end{tabular}\n"
      ],
      "text/markdown": [
       "\n",
       "| Aluno | Matematica | Geografia | Quimica |\n",
       "|---|---|---|---|\n",
       "| Alan  | 90    | 100   |  76   |\n",
       "| Alice | 80    |  78   |  56   |\n",
       "| Alana | 85    |  86   |  89   |\n",
       "| Aline | 87    |  90   |  90   |\n",
       "| Alex  | 56    |  98   | 100   |\n",
       "| Ajay  | 79    |  67   |  87   |\n",
       "\n"
      ],
      "text/plain": [
       "  Aluno Matematica Geografia Quimica\n",
       "1 Alan  90         100        76    \n",
       "2 Alice 80          78        56    \n",
       "3 Alana 85          86        89    \n",
       "4 Aline 87          90        90    \n",
       "5 Alex  56          98       100    \n",
       "6 Ajay  79          67        87    "
      ]
     },
     "metadata": {},
     "output_type": "display_data"
    },
    {
     "data": {
      "text/html": [
       "<dl class=dl-horizontal>\n",
       "\t<dt>Matematica</dt>\n",
       "\t\t<dd>79.5</dd>\n",
       "\t<dt>Geografia</dt>\n",
       "\t\t<dd>86.5</dd>\n",
       "\t<dt>Quimica</dt>\n",
       "\t\t<dd>83</dd>\n",
       "</dl>\n"
      ],
      "text/latex": [
       "\\begin{description*}\n",
       "\\item[Matematica] 79.5\n",
       "\\item[Geografia] 86.5\n",
       "\\item[Quimica] 83\n",
       "\\end{description*}\n"
      ],
      "text/markdown": [
       "Matematica\n",
       ":   79.5Geografia\n",
       ":   86.5Quimica\n",
       ":   83\n",
       "\n"
      ],
      "text/plain": [
       "Matematica  Geografia    Quimica \n",
       "      79.5       86.5       83.0 "
      ]
     },
     "metadata": {},
     "output_type": "display_data"
    }
   ],
   "source": [
    "# Exercicio 3 - Considere o dataframe abaixo. \n",
    "# Calcule a média por disciplina e depois calcule a média de apenas uma disciplina\n",
    "escola <- data.frame(Aluno = c('Alan', 'Alice', 'Alana', 'Aline', 'Alex', 'Ajay'),\n",
    "                     Matematica = c(90, 80, 85, 87, 56, 79),\n",
    "                     Geografia = c(100, 78, 86, 90, 98, 67),\n",
    "                     Quimica = c(76, 56, 89, 90, 100, 87))\n",
    "escola\n",
    "apply(escola[, c(2, 3, 4)], 2, mean)"
   ]
  },
  {
   "cell_type": "code",
   "execution_count": 14,
   "metadata": {},
   "outputs": [
    {
     "ename": "ERROR",
     "evalue": "Error in apply(escola$Matemática, 2, mean): dim(X) must have a positive length\n",
     "output_type": "error",
     "traceback": [
      "Error in apply(escola$Matemática, 2, mean): dim(X) must have a positive length\nTraceback:\n",
      "1. apply(escola$Matemática, 2, mean)",
      "2. stop(\"dim(X) must have a positive length\")"
     ]
    }
   ],
   "source": [
    "# Obs: Se você tentar calcular a média de apenas uma disciplina, assim, \n",
    "# vai receber uma mensagem de erro:\n",
    "apply(escola$Matemática,2,mean)\n",
    "\n",
    "# Isso acontece porque o interpretador do R tenta usar um vetor de qualquer dimensão, \n",
    "# enquanto apply espera que o objeto tenha algumas dimensões. \n",
    "# Você pode evitar a coerção, adicionando drop = F ao seu comando, ou seja:\n",
    "apply(escola[, c(2), drop=F], 2, mean)"
   ]
  },
  {
   "cell_type": "code",
   "execution_count": 5,
   "metadata": {},
   "outputs": [
    {
     "data": {
      "text/html": [
       "<dl>\n",
       "\t<dt>$a</dt>\n",
       "\t\t<dd><ol class=list-inline>\n",
       "\t<li>1</li>\n",
       "\t<li>2</li>\n",
       "\t<li>3</li>\n",
       "\t<li>4</li>\n",
       "\t<li>5</li>\n",
       "\t<li>6</li>\n",
       "\t<li>7</li>\n",
       "\t<li>8</li>\n",
       "\t<li>9</li>\n",
       "\t<li>10</li>\n",
       "</ol>\n",
       "</dd>\n",
       "\t<dt>$b</dt>\n",
       "\t\t<dd><ol class=list-inline>\n",
       "\t<li>1</li>\n",
       "\t<li>2</li>\n",
       "\t<li>3</li>\n",
       "\t<li>4</li>\n",
       "\t<li>5</li>\n",
       "</ol>\n",
       "</dd>\n",
       "</dl>\n"
      ],
      "text/latex": [
       "\\begin{description}\n",
       "\\item[\\$a] \\begin{enumerate*}\n",
       "\\item 1\n",
       "\\item 2\n",
       "\\item 3\n",
       "\\item 4\n",
       "\\item 5\n",
       "\\item 6\n",
       "\\item 7\n",
       "\\item 8\n",
       "\\item 9\n",
       "\\item 10\n",
       "\\end{enumerate*}\n",
       "\n",
       "\\item[\\$b] \\begin{enumerate*}\n",
       "\\item 1\n",
       "\\item 2\n",
       "\\item 3\n",
       "\\item 4\n",
       "\\item 5\n",
       "\\end{enumerate*}\n",
       "\n",
       "\\end{description}\n"
      ],
      "text/markdown": [
       "$a\n",
       ":   1. 1\n",
       "2. 2\n",
       "3. 3\n",
       "4. 4\n",
       "5. 5\n",
       "6. 6\n",
       "7. 7\n",
       "8. 8\n",
       "9. 9\n",
       "10. 10\n",
       "\n",
       "\n",
       "\n",
       "$b\n",
       ":   1. 1\n",
       "2. 2\n",
       "3. 3\n",
       "4. 4\n",
       "5. 5\n",
       "\n",
       "\n",
       "\n",
       "\n",
       "\n"
      ],
      "text/plain": [
       "$a\n",
       " [1]  1  2  3  4  5  6  7  8  9 10\n",
       "\n",
       "$b\n",
       "[1] 1 2 3 4 5\n"
      ]
     },
     "metadata": {},
     "output_type": "display_data"
    },
    {
     "data": {
      "text/html": [
       "70"
      ],
      "text/latex": [
       "70"
      ],
      "text/markdown": [
       "70"
      ],
      "text/plain": [
       "[1] 70"
      ]
     },
     "metadata": {},
     "output_type": "display_data"
    }
   ],
   "source": [
    "# Exercicio 4 - Crie uma lista com 3 elementos, todos numéricos \n",
    "# e calcule a soma de todos os elementos da lista\n",
    "lst <- list(a = 1:10, b = 1:5)\n",
    "lst\n",
    "do.call(sum, lst)"
   ]
  },
  {
   "cell_type": "code",
   "execution_count": 6,
   "metadata": {},
   "outputs": [
    {
     "data": {
      "text/html": [
       "<dl class=dl-horizontal>\n",
       "\t<dt>a1</dt>\n",
       "\t\t<dd>1</dd>\n",
       "\t<dt>a2</dt>\n",
       "\t\t<dd>2</dd>\n",
       "\t<dt>a3</dt>\n",
       "\t\t<dd>3</dd>\n",
       "\t<dt>a4</dt>\n",
       "\t\t<dd>4</dd>\n",
       "\t<dt>a5</dt>\n",
       "\t\t<dd>5</dd>\n",
       "\t<dt>a6</dt>\n",
       "\t\t<dd>6</dd>\n",
       "\t<dt>a7</dt>\n",
       "\t\t<dd>7</dd>\n",
       "\t<dt>a8</dt>\n",
       "\t\t<dd>8</dd>\n",
       "\t<dt>a9</dt>\n",
       "\t\t<dd>9</dd>\n",
       "\t<dt>a10</dt>\n",
       "\t\t<dd>10</dd>\n",
       "\t<dt>b1</dt>\n",
       "\t\t<dd>1</dd>\n",
       "\t<dt>b2</dt>\n",
       "\t\t<dd>2</dd>\n",
       "\t<dt>b3</dt>\n",
       "\t\t<dd>3</dd>\n",
       "\t<dt>b4</dt>\n",
       "\t\t<dd>4</dd>\n",
       "\t<dt>b5</dt>\n",
       "\t\t<dd>5</dd>\n",
       "</dl>\n"
      ],
      "text/latex": [
       "\\begin{description*}\n",
       "\\item[a1] 1\n",
       "\\item[a2] 2\n",
       "\\item[a3] 3\n",
       "\\item[a4] 4\n",
       "\\item[a5] 5\n",
       "\\item[a6] 6\n",
       "\\item[a7] 7\n",
       "\\item[a8] 8\n",
       "\\item[a9] 9\n",
       "\\item[a10] 10\n",
       "\\item[b1] 1\n",
       "\\item[b2] 2\n",
       "\\item[b3] 3\n",
       "\\item[b4] 4\n",
       "\\item[b5] 5\n",
       "\\end{description*}\n"
      ],
      "text/markdown": [
       "a1\n",
       ":   1a2\n",
       ":   2a3\n",
       ":   3a4\n",
       ":   4a5\n",
       ":   5a6\n",
       ":   6a7\n",
       ":   7a8\n",
       ":   8a9\n",
       ":   9a10\n",
       ":   10b1\n",
       ":   1b2\n",
       ":   2b3\n",
       ":   3b4\n",
       ":   4b5\n",
       ":   5\n",
       "\n"
      ],
      "text/plain": [
       " a1  a2  a3  a4  a5  a6  a7  a8  a9 a10  b1  b2  b3  b4  b5 \n",
       "  1   2   3   4   5   6   7   8   9  10   1   2   3   4   5 "
      ]
     },
     "metadata": {},
     "output_type": "display_data"
    }
   ],
   "source": [
    "# Exercicio 5 - Transforme a lista anterior em um vetor\n",
    "unlist(lst)"
   ]
  },
  {
   "cell_type": "code",
   "execution_count": 7,
   "metadata": {},
   "outputs": [
    {
     "data": {
      "text/html": [
       "<ol class=list-inline>\n",
       "\t<li>'Expressoes'</li>\n",
       "\t<li>'regulares'</li>\n",
       "\t<li>'em linguagem R'</li>\n",
       "\t<li>'permitem a busca de padroes'</li>\n",
       "\t<li>'e exploracao de frases'</li>\n",
       "\t<li>'podemos buscar padroes em digitos'</li>\n",
       "\t<li>'como por exemplo'</li>\n",
       "\t<li>'10992451280'</li>\n",
       "</ol>\n"
      ],
      "text/latex": [
       "\\begin{enumerate*}\n",
       "\\item 'Expressoes'\n",
       "\\item 'regulares'\n",
       "\\item 'em linguagem R'\n",
       "\\item 'permitem a busca de padroes'\n",
       "\\item 'e exploracao de frases'\n",
       "\\item 'podemos buscar padroes em digitos'\n",
       "\\item 'como por exemplo'\n",
       "\\item '10992451280'\n",
       "\\end{enumerate*}\n"
      ],
      "text/markdown": [
       "1. 'Expressoes'\n",
       "2. 'regulares'\n",
       "3. 'em linguagem R'\n",
       "4. 'permitem a busca de padroes'\n",
       "5. 'e exploracao de frases'\n",
       "6. 'podemos buscar padroes em digitos'\n",
       "7. 'como por exemplo'\n",
       "8. '10992451280'\n",
       "\n",
       "\n"
      ],
      "text/plain": [
       "[1] \"Expressoes\"                        \"regulares\"                        \n",
       "[3] \"em linguagem R\"                    \"permitem a busca de padroes\"      \n",
       "[5] \"e exploracao de frases\"            \"podemos buscar padroes em digitos\"\n",
       "[7] \"como por exemplo\"                  \"10992451280\"                      "
      ]
     },
     "metadata": {},
     "output_type": "display_data"
    }
   ],
   "source": [
    "# Exercicio 6 - Considere a string abaixo. Substitua a palavra \"textos\" por \"frases\"\n",
    "str <- c(\"Expressoes\", \"regulares\", \"em linguagem R\", \n",
    "         \"permitem a busca de padroes\", \"e exploracao de textos\",\n",
    "         \"podemos buscar padroes em digitos\",\n",
    "         \"como por exemplo\",\n",
    "         \"10992451280\")\n",
    "\n",
    "gsub(\"textos\", \"frases\", str)"
   ]
  },
  {
   "cell_type": "code",
   "execution_count": 13,
   "metadata": {},
   "outputs": [
    {
     "data": {
      "image/png": "[encoded data removed]",
      "text/plain": [
       "plot without title"
      ]
     },
     "metadata": {},
     "output_type": "display_data"
    }
   ],
   "source": [
    "# Exercicio 7 - Usando o dataset mtcars, crie um grafico com ggplot do tipo \n",
    "# scatter plot. Use as colunas disp e mpg nos eixos x e y respectivamente\n",
    "library(ggplot2)\n",
    "ggplot(data = mtcars, aes(x = disp, y = mpg)) + geom_point()"
   ]
  },
  {
   "cell_type": "code",
   "execution_count": 9,
   "metadata": {},
   "outputs": [
    {
     "data": {
      "text/html": [
       "<table>\n",
       "<tbody>\n",
       "\t<tr><td>652 </td><td>1537</td><td>598 </td><td>242 </td></tr>\n",
       "\t<tr><td> 36 </td><td>  46</td><td> 38 </td><td> 21 </td></tr>\n",
       "\t<tr><td>218 </td><td> 327</td><td>106 </td><td> 67 </td></tr>\n",
       "</tbody>\n",
       "</table>\n"
      ],
      "text/latex": [
       "\\begin{tabular}{llll}\n",
       "\t 652  & 1537 & 598  & 242 \\\\\n",
       "\t  36  &   46 &  38  &  21 \\\\\n",
       "\t 218  &  327 & 106  &  67 \\\\\n",
       "\\end{tabular}\n"
      ],
      "text/markdown": [
       "\n",
       "| 652  | 1537 | 598  | 242  |\n",
       "|  36  |   46 |  38  |  21  |\n",
       "| 218  |  327 | 106  |  67  |\n",
       "\n"
      ],
      "text/plain": [
       "     [,1] [,2] [,3] [,4]\n",
       "[1,] 652  1537 598  242 \n",
       "[2,]  36    46  38   21 \n",
       "[3,] 218   327 106   67 "
      ]
     },
     "metadata": {},
     "output_type": "display_data"
    },
    {
     "data": {
      "image/png": "[encoded data removed]",
      "text/plain": [
       "plot without title"
      ]
     },
     "metadata": {},
     "output_type": "display_data"
    },
    {
     "data": {
      "image/png": "[encoded data removed]",
      "text/plain": [
       "plot without title"
      ]
     },
     "metadata": {},
     "output_type": "display_data"
    }
   ],
   "source": [
    "# Exercicio 8 - Considere a matriz abaixo.\n",
    "# Crie um bar plot que represente os dados em barras individuais.\n",
    "mat1 <- matrix(c(652,1537,598,242,36,46,38,21,218,327,106,67), nrow = 3, byrow = T)\n",
    "mat1\n",
    "barplot(mat1, beside = T)\n",
    "barplot(mat1)"
   ]
  },
  {
   "cell_type": "code",
   "execution_count": 11,
   "metadata": {},
   "outputs": [
    {
     "data": {
      "image/png": "[encoded data removed]",
      "text/plain": [
       "plot without title"
      ]
     },
     "metadata": {},
     "output_type": "display_data"
    }
   ],
   "source": [
    "# Exercício 9 - Qual o erro do código abaixo?\n",
    "# Troubleshooting\n",
    "data(diamonds)\n",
    "#View(diamonds)\n",
    "ggplot(data = diamonds, aes(x = price, group = cut, fill = cut)) + \n",
    "  geom_density(adjust = 1.5)"
   ]
  },
  {
   "cell_type": "code",
   "execution_count": 12,
   "metadata": {},
   "outputs": [
    {
     "data": {
      "image/png": "[encoded data removed]",
      "text/plain": [
       "plot without title"
      ]
     },
     "metadata": {},
     "output_type": "display_data"
    }
   ],
   "source": [
    "# Exercício 10 - Qual o erro do código abaixo?\n",
    "ggplot(mtcars, aes(x = as.factor(cyl), fill = as.factor(cyl))) + \n",
    "  geom_bar() +\n",
    "  labs(fill = \"cyl\")"
   ]
  },
  {
   "cell_type": "code",
   "execution_count": null,
   "metadata": {},
   "outputs": [],
   "source": []
  }
 ],
 "metadata": {
  "kernelspec": {
   "display_name": "R",
   "language": "R",
   "name": "ir"
  },
  "language_info": {
   "codemirror_mode": "r",
   "file_extension": ".r",
   "mimetype": "text/x-r-source",
   "name": "R",
   "pygments_lexer": "r",
   "version": "3.6.0"
  }
 },
 "nbformat": 4,
 "nbformat_minor": 2
}
