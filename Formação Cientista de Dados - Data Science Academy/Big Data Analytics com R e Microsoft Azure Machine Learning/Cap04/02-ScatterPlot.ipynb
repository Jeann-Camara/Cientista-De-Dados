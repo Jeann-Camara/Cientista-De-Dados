{
 "cells": [
  {
   "cell_type": "code",
   "execution_count": 1,
   "metadata": {},
   "outputs": [],
   "source": [
    "# Define os dados\n",
    "set.seed(67)\n",
    "x = rnorm(10,5,7)\n",
    "y = rpois(10,7)\n",
    "z = rnorm(10,6,7)\n",
    "t = rpois(10,9)"
   ]
  },
  {
   "cell_type": "code",
   "execution_count": 2,
   "metadata": {},
   "outputs": [
    {
     "data": {
      "image/png": "[encoded data removed]",
      "text/plain": [
       "Plot with title \"Multi Scatterplot\""
      ]
     },
     "metadata": {},
     "output_type": "display_data",
     "source": "R display func"
    }
   ],
   "source": [
    "# Cria o Plot\n",
    "plot(x, y, col = 123, pch = 10, main = \"Multi Scatterplot\",\n",
    "     col.main = \"red\", cex.main = 1.5, xlab = \"Variável Independente\", \n",
    "     ylab = \"Variável Dependente\")"
   ]
  },
  {
   "cell_type": "code",
   "execution_count": 3,
   "metadata": {},
   "outputs": [
    {
     "ename": "ERROR",
     "evalue": "Error in plot.xy(xy.coords(x, y), type = type, ...): plot.new has not been called yet\n",
     "execution_count": 3,
     "output_type": "error",
     "traceback": [
      "Error in plot.xy(xy.coords(x, y), type = type, ...): plot.new has not been called yet\nTraceback:\n",
      "1. points(z, t, col = \"blue\", pch = 4)",
      "2. points.default(z, t, col = \"blue\", pch = 4)",
      "3. plot.xy(xy.coords(x, y), type = type, ...)"
     ]
    }
   ],
   "source": [
    "# Adiciona outros dados \n",
    "points(z, t, col = \"blue\", pch = 4)"
   ]
  },
  {
   "cell_type": "code",
   "execution_count": 4,
   "metadata": {},
   "outputs": [
    {
     "ename": "ERROR",
     "evalue": "Error in plot.xy(xy.coords(x, y), type = type, ...): plot.new has not been called yet\n",
     "execution_count": 4,
     "output_type": "error",
     "traceback": [
      "Error in plot.xy(xy.coords(x, y), type = type, ...): plot.new has not been called yet\nTraceback:\n",
      "1. points(y, t, col = 777, pch = 9)",
      "2. points.default(y, t, col = 777, pch = 9)",
      "3. plot.xy(xy.coords(x, y), type = type, ...)"
     ]
    }
   ],
   "source": [
    "# Adiciona outros dados \n",
    "points(y, t, col = 777, pch = 9)"
   ]
  },
  {
   "cell_type": "code",
   "execution_count": 5,
   "metadata": {},
   "outputs": [
    {
     "ename": "ERROR",
     "evalue": "Error in strwidth(legend, units = \"user\", cex = cex, font = text.font): plot.new has not been called yet\n",
     "execution_count": 5,
     "output_type": "error",
     "traceback": [
      "Error in strwidth(legend, units = \"user\", cex = cex, font = text.font): plot.new has not been called yet\nTraceback:\n",
      "1. legend(-6, 5.9, legend = c(\"Nível 1\", \"Nível 2\", \"Nível 3\"), \n .     col = c(123, \"blue\", 777), pch = c(10, 4, 9), cex = 0.65, \n .     bty = \"n\")",
      "2. strwidth(legend, units = \"user\", cex = cex, font = text.font)"
     ]
    }
   ],
   "source": [
    "# Cria legenda\n",
    "legend(-6,5.9, legend = c(\"Nível 1\", \"Nível 2\", \"Nível 3\"),\n",
    "       col = c(123, \"blue\", 777), pch = c(10,4,9),\n",
    "       cex = 0.65, bty = \"n\")"
   ]
  },
  {
   "cell_type": "code",
   "execution_count": null,
   "metadata": {},
   "outputs": [],
   "source": []
  }
 ],
 "metadata": {
  "kernelspec": {
   "display_name": "R",
   "language": "R",
   "name": "ir"
  },
  "language_info": {
   "codemirror_mode": "r",
   "file_extension": ".r",
   "mimetype": "text/x-r-source",
   "name": "R",
   "pygments_lexer": "r",
   "version": "3.6.0"
  }
 },
 "nbformat": 4,
 "nbformat_minor": 2
}
