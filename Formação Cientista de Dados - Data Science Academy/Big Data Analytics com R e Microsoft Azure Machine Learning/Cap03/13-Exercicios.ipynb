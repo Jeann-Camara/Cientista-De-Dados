{
 "cells": [
  {
   "cell_type": "code",
   "execution_count": 1,
   "metadata": {},
   "outputs": [
    {
     "data": {
      "text/html": [
       "<ol class=list-inline>\n",
       "\t<li>'02-Big-Data-na-Pratica1.ipynb'</li>\n",
       "\t<li>'03-Fatores-e-Fatores-Ordenados.ipynb'</li>\n",
       "\t<li>'04-Fatores-Dataframes.ipynb'</li>\n",
       "\t<li>'05-Estruturas-de-Controle.ipynb'</li>\n",
       "\t<li>'06-Funcoes.ipynb'</li>\n",
       "\t<li>'07-Familia-Apply.ipynb'</li>\n",
       "\t<li>'08-Funcoes-Especiais.ipynb'</li>\n",
       "\t<li>'09-Pacotes-e-Instalacao-de-Pacotes.ipynb'</li>\n",
       "\t<li>'10-Expressoes-Regulares.ipynb'</li>\n",
       "\t<li>'11-Trabalhando-com-Datas.ipynb'</li>\n",
       "\t<li>'12-Operadores-Atribuicao.ipynb'</li>\n",
       "\t<li>'13-Exercicios.ipynb'</li>\n",
       "\t<li>'TemperaturasGlobais.rar'</li>\n",
       "</ol>\n"
      ],
      "text/latex": [
       "\\begin{enumerate*}\n",
       "\\item '02-Big-Data-na-Pratica1.ipynb'\n",
       "\\item '03-Fatores-e-Fatores-Ordenados.ipynb'\n",
       "\\item '04-Fatores-Dataframes.ipynb'\n",
       "\\item '05-Estruturas-de-Controle.ipynb'\n",
       "\\item '06-Funcoes.ipynb'\n",
       "\\item '07-Familia-Apply.ipynb'\n",
       "\\item '08-Funcoes-Especiais.ipynb'\n",
       "\\item '09-Pacotes-e-Instalacao-de-Pacotes.ipynb'\n",
       "\\item '10-Expressoes-Regulares.ipynb'\n",
       "\\item '11-Trabalhando-com-Datas.ipynb'\n",
       "\\item '12-Operadores-Atribuicao.ipynb'\n",
       "\\item '13-Exercicios.ipynb'\n",
       "\\item 'TemperaturasGlobais.rar'\n",
       "\\end{enumerate*}\n"
      ],
      "text/markdown": [
       "1. '02-Big-Data-na-Pratica1.ipynb'\n",
       "2. '03-Fatores-e-Fatores-Ordenados.ipynb'\n",
       "3. '04-Fatores-Dataframes.ipynb'\n",
       "4. '05-Estruturas-de-Controle.ipynb'\n",
       "5. '06-Funcoes.ipynb'\n",
       "6. '07-Familia-Apply.ipynb'\n",
       "7. '08-Funcoes-Especiais.ipynb'\n",
       "8. '09-Pacotes-e-Instalacao-de-Pacotes.ipynb'\n",
       "9. '10-Expressoes-Regulares.ipynb'\n",
       "10. '11-Trabalhando-com-Datas.ipynb'\n",
       "11. '12-Operadores-Atribuicao.ipynb'\n",
       "12. '13-Exercicios.ipynb'\n",
       "13. 'TemperaturasGlobais.rar'\n",
       "\n",
       "\n"
      ],
      "text/plain": [
       " [1] \"02-Big-Data-na-Pratica1.ipynb\"           \n",
       " [2] \"03-Fatores-e-Fatores-Ordenados.ipynb\"    \n",
       " [3] \"04-Fatores-Dataframes.ipynb\"             \n",
       " [4] \"05-Estruturas-de-Controle.ipynb\"         \n",
       " [5] \"06-Funcoes.ipynb\"                        \n",
       " [6] \"07-Familia-Apply.ipynb\"                  \n",
       " [7] \"08-Funcoes-Especiais.ipynb\"              \n",
       " [8] \"09-Pacotes-e-Instalacao-de-Pacotes.ipynb\"\n",
       " [9] \"10-Expressoes-Regulares.ipynb\"           \n",
       "[10] \"11-Trabalhando-com-Datas.ipynb\"          \n",
       "[11] \"12-Operadores-Atribuicao.ipynb\"          \n",
       "[12] \"13-Exercicios.ipynb\"                     \n",
       "[13] \"TemperaturasGlobais.rar\"                 "
      ]
     },
     "metadata": {},
     "output_type": "display_data"
    }
   ],
   "source": [
    "# Exercício 1 - Pesquise pela função que permita listar todos os arquivos no \n",
    "# diretório de trabalho\n",
    "list.files()"
   ]
  },
  {
   "cell_type": "code",
   "execution_count": 2,
   "metadata": {},
   "outputs": [
    {
     "data": {
      "text/html": [
       "<table>\n",
       "<thead><tr><th scope=col>charac_vec</th><th scope=col>num_vec</th><th scope=col>logic_vec</th></tr></thead>\n",
       "<tbody>\n",
       "\t<tr><td>A    </td><td>4.5  </td><td> TRUE</td></tr>\n",
       "\t<tr><td>B    </td><td>3.9  </td><td> TRUE</td></tr>\n",
       "\t<tr><td>C    </td><td>7.2  </td><td>FALSE</td></tr>\n",
       "</tbody>\n",
       "</table>\n"
      ],
      "text/latex": [
       "\\begin{tabular}{r|lll}\n",
       " charac\\_vec & num\\_vec & logic\\_vec\\\\\n",
       "\\hline\n",
       "\t A     & 4.5   &  TRUE\\\\\n",
       "\t B     & 3.9   &  TRUE\\\\\n",
       "\t C     & 7.2   & FALSE\\\\\n",
       "\\end{tabular}\n"
      ],
      "text/markdown": [
       "\n",
       "charac_vec | num_vec | logic_vec | \n",
       "|---|---|---|\n",
       "| A     | 4.5   |  TRUE | \n",
       "| B     | 3.9   |  TRUE | \n",
       "| C     | 7.2   | FALSE | \n",
       "\n",
       "\n"
      ],
      "text/plain": [
       "  charac_vec num_vec logic_vec\n",
       "1 A          4.5      TRUE    \n",
       "2 B          3.9      TRUE    \n",
       "3 C          7.2     FALSE    "
      ]
     },
     "metadata": {},
     "output_type": "display_data"
    }
   ],
   "source": [
    "# Exercício 2 - Crie um dataframe a partir de 3 vetores: um de caracteres, \n",
    "# um lógico e um de números\n",
    "charac_vec <- c(\"A\", \"B\", \"C\")\n",
    "num_vec <- c(4.5, 3.9, 7.2)\n",
    "logic_vec <- c(TRUE, TRUE, FALSE)\n",
    "df1 <- data.frame(charac_vec, num_vec, logic_vec)\n",
    "df1"
   ]
  },
  {
   "cell_type": "code",
   "execution_count": 3,
   "metadata": {},
   "outputs": [
    {
     "data": {
      "text/html": [
       "<ol class=list-inline>\n",
       "\t<li>12</li>\n",
       "\t<li>3</li>\n",
       "\t<li>4</li>\n",
       "\t<li>19</li>\n",
       "\t<li>34</li>\n",
       "</ol>\n"
      ],
      "text/latex": [
       "\\begin{enumerate*}\n",
       "\\item 12\n",
       "\\item 3\n",
       "\\item 4\n",
       "\\item 19\n",
       "\\item 34\n",
       "\\end{enumerate*}\n"
      ],
      "text/markdown": [
       "1. 12\n",
       "2. 3\n",
       "3. 4\n",
       "4. 19\n",
       "5. 34\n",
       "\n",
       "\n"
      ],
      "text/plain": [
       "[1] 12  3  4 19 34"
      ]
     },
     "metadata": {},
     "output_type": "display_data"
    },
    {
     "name": "stdout",
     "output_type": "stream",
     "text": [
      "[1] 12\n",
      "[1] \"Este elemento do vetor é maior que 10\"\n",
      "[1] 3\n",
      "[1] \"Este elemento do vetor é menor que 10\"\n",
      "[1] 4\n",
      "[1] \"Este elemento do vetor é menor que 10\"\n",
      "[1] 19\n",
      "[1] \"Este elemento do vetor é maior que 10\"\n",
      "[1] 34\n",
      "[1] \"Este elemento do vetor é maior que 10\"\n"
     ]
    }
   ],
   "source": [
    "# Exercício 3 - Considere o vetor abaixo. \n",
    "# Crie um loop que verifique se há números maiores que 10 e imprima o número \n",
    "# e uma mensagem no console.\n",
    "\n",
    "# Criando um Vetor\n",
    "vec1 <- c(12, 3, 4, 19, 34)\n",
    "vec1\n",
    "\n",
    "for (i in 1:length(vec1)){\n",
    "  if (vec1[i] > 10) {\n",
    "    print(vec1[i])\n",
    "    print('Este elemento do vetor é maior que 10')\n",
    "  } else  {\n",
    "    print(vec1[i])\n",
    "    print('Este elemento do vetor é menor que 10')\n",
    "  } \n",
    "}"
   ]
  },
  {
   "cell_type": "code",
   "execution_count": 4,
   "metadata": {},
   "outputs": [
    {
     "data": {
      "text/html": [
       "<ol>\n",
       "\t<li>2</li>\n",
       "\t<li>3</li>\n",
       "\t<li>5</li>\n",
       "\t<li>7</li>\n",
       "\t<li>11</li>\n",
       "\t<li>13</li>\n",
       "</ol>\n"
      ],
      "text/latex": [
       "\\begin{enumerate}\n",
       "\\item 2\n",
       "\\item 3\n",
       "\\item 5\n",
       "\\item 7\n",
       "\\item 11\n",
       "\\item 13\n",
       "\\end{enumerate}\n"
      ],
      "text/markdown": [
       "1. 2\n",
       "2. 3\n",
       "3. 5\n",
       "4. 7\n",
       "5. 11\n",
       "6. 13\n",
       "\n",
       "\n"
      ],
      "text/plain": [
       "[[1]]\n",
       "[1] 2\n",
       "\n",
       "[[2]]\n",
       "[1] 3\n",
       "\n",
       "[[3]]\n",
       "[1] 5\n",
       "\n",
       "[[4]]\n",
       "[1] 7\n",
       "\n",
       "[[5]]\n",
       "[1] 11\n",
       "\n",
       "[[6]]\n",
       "[1] 13\n"
      ]
     },
     "metadata": {},
     "output_type": "display_data"
    },
    {
     "name": "stdout",
     "output_type": "stream",
     "text": [
      "[1] 2\n",
      "[1] 3\n",
      "[1] 5\n",
      "[1] 7\n",
      "[1] 11\n",
      "[1] 13\n"
     ]
    }
   ],
   "source": [
    "# Exercício 4 - Conisdere a lista abaixo. Crie um loop que imprima no console \n",
    "# cada elemento da lista\n",
    "lst2 <- list(2, 3, 5, 7, 11, 13)\n",
    "lst2\n",
    "\n",
    "for (i in 1:length(lst2)) {\n",
    "  print(lst2[[i]])\n",
    "}"
   ]
  },
  {
   "cell_type": "code",
   "execution_count": 5,
   "metadata": {},
   "outputs": [
    {
     "data": {
      "text/html": [
       "<table>\n",
       "<tbody>\n",
       "\t<tr><td> 1</td><td> 2</td><td> 3</td><td> 4</td><td> 5</td></tr>\n",
       "\t<tr><td> 6</td><td> 7</td><td> 8</td><td> 9</td><td>10</td></tr>\n",
       "\t<tr><td>11</td><td>12</td><td>13</td><td>14</td><td>15</td></tr>\n",
       "\t<tr><td>16</td><td>17</td><td>18</td><td>19</td><td>20</td></tr>\n",
       "\t<tr><td>21</td><td>22</td><td>23</td><td>24</td><td>25</td></tr>\n",
       "</tbody>\n",
       "</table>\n"
      ],
      "text/latex": [
       "\\begin{tabular}{lllll}\n",
       "\t  1 &  2 &  3 &  4 &  5\\\\\n",
       "\t  6 &  7 &  8 &  9 & 10\\\\\n",
       "\t 11 & 12 & 13 & 14 & 15\\\\\n",
       "\t 16 & 17 & 18 & 19 & 20\\\\\n",
       "\t 21 & 22 & 23 & 24 & 25\\\\\n",
       "\\end{tabular}\n"
      ],
      "text/markdown": [
       "\n",
       "|  1 |  2 |  3 |  4 |  5 | \n",
       "|  6 |  7 |  8 |  9 | 10 | \n",
       "| 11 | 12 | 13 | 14 | 15 | \n",
       "| 16 | 17 | 18 | 19 | 20 | \n",
       "| 21 | 22 | 23 | 24 | 25 | \n",
       "\n",
       "\n"
      ],
      "text/plain": [
       "     [,1] [,2] [,3] [,4] [,5]\n",
       "[1,]  1    2    3    4    5  \n",
       "[2,]  6    7    8    9   10  \n",
       "[3,] 11   12   13   14   15  \n",
       "[4,] 16   17   18   19   20  \n",
       "[5,] 21   22   23   24   25  "
      ]
     },
     "metadata": {},
     "output_type": "display_data"
    },
    {
     "data": {
      "text/html": [
       "<table>\n",
       "<tbody>\n",
       "\t<tr><td>1 </td><td> 6</td><td>11</td><td>16</td><td>21</td></tr>\n",
       "\t<tr><td>2 </td><td> 7</td><td>12</td><td>17</td><td>22</td></tr>\n",
       "\t<tr><td>3 </td><td> 8</td><td>13</td><td>18</td><td>23</td></tr>\n",
       "\t<tr><td>4 </td><td> 9</td><td>14</td><td>19</td><td>24</td></tr>\n",
       "\t<tr><td>5 </td><td>10</td><td>15</td><td>20</td><td>25</td></tr>\n",
       "</tbody>\n",
       "</table>\n"
      ],
      "text/latex": [
       "\\begin{tabular}{lllll}\n",
       "\t 1  &  6 & 11 & 16 & 21\\\\\n",
       "\t 2  &  7 & 12 & 17 & 22\\\\\n",
       "\t 3  &  8 & 13 & 18 & 23\\\\\n",
       "\t 4  &  9 & 14 & 19 & 24\\\\\n",
       "\t 5  & 10 & 15 & 20 & 25\\\\\n",
       "\\end{tabular}\n"
      ],
      "text/markdown": [
       "\n",
       "| 1  |  6 | 11 | 16 | 21 | \n",
       "| 2  |  7 | 12 | 17 | 22 | \n",
       "| 3  |  8 | 13 | 18 | 23 | \n",
       "| 4  |  9 | 14 | 19 | 24 | \n",
       "| 5  | 10 | 15 | 20 | 25 | \n",
       "\n",
       "\n"
      ],
      "text/plain": [
       "     [,1] [,2] [,3] [,4] [,5]\n",
       "[1,] 1     6   11   16   21  \n",
       "[2,] 2     7   12   17   22  \n",
       "[3,] 3     8   13   18   23  \n",
       "[4,] 4     9   14   19   24  \n",
       "[5,] 5    10   15   20   25  "
      ]
     },
     "metadata": {},
     "output_type": "display_data"
    },
    {
     "data": {
      "text/html": [
       "<table>\n",
       "<tbody>\n",
       "\t<tr><td>  1</td><td> 12</td><td> 33</td><td> 64</td><td>105</td></tr>\n",
       "\t<tr><td> 12</td><td> 49</td><td> 96</td><td>153</td><td>220</td></tr>\n",
       "\t<tr><td> 33</td><td> 96</td><td>169</td><td>252</td><td>345</td></tr>\n",
       "\t<tr><td> 64</td><td>153</td><td>252</td><td>361</td><td>480</td></tr>\n",
       "\t<tr><td>105</td><td>220</td><td>345</td><td>480</td><td>625</td></tr>\n",
       "</tbody>\n",
       "</table>\n"
      ],
      "text/latex": [
       "\\begin{tabular}{lllll}\n",
       "\t   1 &  12 &  33 &  64 & 105\\\\\n",
       "\t  12 &  49 &  96 & 153 & 220\\\\\n",
       "\t  33 &  96 & 169 & 252 & 345\\\\\n",
       "\t  64 & 153 & 252 & 361 & 480\\\\\n",
       "\t 105 & 220 & 345 & 480 & 625\\\\\n",
       "\\end{tabular}\n"
      ],
      "text/markdown": [
       "\n",
       "|   1 |  12 |  33 |  64 | 105 | \n",
       "|  12 |  49 |  96 | 153 | 220 | \n",
       "|  33 |  96 | 169 | 252 | 345 | \n",
       "|  64 | 153 | 252 | 361 | 480 | \n",
       "| 105 | 220 | 345 | 480 | 625 | \n",
       "\n",
       "\n"
      ],
      "text/plain": [
       "     [,1] [,2] [,3] [,4] [,5]\n",
       "[1,]   1   12   33   64  105 \n",
       "[2,]  12   49   96  153  220 \n",
       "[3,]  33   96  169  252  345 \n",
       "[4,]  64  153  252  361  480 \n",
       "[5,] 105  220  345  480  625 "
      ]
     },
     "metadata": {},
     "output_type": "display_data"
    },
    {
     "data": {
      "text/html": [
       "<table>\n",
       "<tbody>\n",
       "\t<tr><td> 55 </td><td>130 </td><td> 205</td><td> 280</td><td> 355</td></tr>\n",
       "\t<tr><td>130 </td><td>330 </td><td> 530</td><td> 730</td><td> 930</td></tr>\n",
       "\t<tr><td>205 </td><td>530 </td><td> 855</td><td>1180</td><td>1505</td></tr>\n",
       "\t<tr><td>280 </td><td>730 </td><td>1180</td><td>1630</td><td>2080</td></tr>\n",
       "\t<tr><td>355 </td><td>930 </td><td>1505</td><td>2080</td><td>2655</td></tr>\n",
       "</tbody>\n",
       "</table>\n"
      ],
      "text/latex": [
       "\\begin{tabular}{lllll}\n",
       "\t  55  & 130  &  205 &  280 &  355\\\\\n",
       "\t 130  & 330  &  530 &  730 &  930\\\\\n",
       "\t 205  & 530  &  855 & 1180 & 1505\\\\\n",
       "\t 280  & 730  & 1180 & 1630 & 2080\\\\\n",
       "\t 355  & 930  & 1505 & 2080 & 2655\\\\\n",
       "\\end{tabular}\n"
      ],
      "text/markdown": [
       "\n",
       "|  55  | 130  |  205 |  280 |  355 | \n",
       "| 130  | 330  |  530 |  730 |  930 | \n",
       "| 205  | 530  |  855 | 1180 | 1505 | \n",
       "| 280  | 730  | 1180 | 1630 | 2080 | \n",
       "| 355  | 930  | 1505 | 2080 | 2655 | \n",
       "\n",
       "\n"
      ],
      "text/plain": [
       "     [,1] [,2] [,3] [,4] [,5]\n",
       "[1,]  55  130   205  280  355\n",
       "[2,] 130  330   530  730  930\n",
       "[3,] 205  530   855 1180 1505\n",
       "[4,] 280  730  1180 1630 2080\n",
       "[5,] 355  930  1505 2080 2655"
      ]
     },
     "metadata": {},
     "output_type": "display_data"
    }
   ],
   "source": [
    "# Exercício 5 - Considere as duas matrizes abaixo. \n",
    "# Faça uma multiplicação element-wise e multiplicação normal entre as matrizes\n",
    "# https://www.mathwarehouse.com/algebra/matrix/multiply-matrix.php\n",
    "mat1 <- matrix(c(1:50), nrow = 5, ncol = 5, byrow = T)\n",
    "mat1\n",
    "mat2 <- t(mat1)\n",
    "mat2\n",
    "\n",
    "# Multiplicação element-wise\n",
    "mat3 <- mat1 * mat2\t\n",
    "mat3\n",
    "\n",
    "# Multiplicação de matrizes \n",
    "# (multiplica primeira linha da mat1 com a primeira coluna de mat2\n",
    "# Item [1,1] ==> (1 x 1) + (2 x 2) + (3 x 3) x (4 x 4) x (5 x 5) = 55\n",
    "# Item [2,1] ==> (6 x 1) + (7 x 2) + (8 x 3) x (9 x 4) x (10 x 5) = 130\n",
    "# Item [3,1] ==> (11 x 1) + (12) x 2) + (13 x 3) x (14 x 4) x (15 x 5) = 205\n",
    "mat4 <- mat1 %*% mat2\n",
    "mat4"
   ]
  },
  {
   "cell_type": "code",
   "execution_count": 6,
   "metadata": {},
   "outputs": [
    {
     "data": {
      "text/html": [
       "<dl class=dl-horizontal>\n",
       "\t<dt>Col1</dt>\n",
       "\t\t<dd>12</dd>\n",
       "\t<dt>Col2</dt>\n",
       "\t\t<dd>3</dd>\n",
       "\t<dt>Col3</dt>\n",
       "\t\t<dd>4</dd>\n",
       "\t<dt>Col4</dt>\n",
       "\t\t<dd>19</dd>\n",
       "\t<dt>Col5</dt>\n",
       "\t\t<dd>34</dd>\n",
       "</dl>\n"
      ],
      "text/latex": [
       "\\begin{description*}\n",
       "\\item[Col1] 12\n",
       "\\item[Col2] 3\n",
       "\\item[Col3] 4\n",
       "\\item[Col4] 19\n",
       "\\item[Col5] 34\n",
       "\\end{description*}\n"
      ],
      "text/markdown": [
       "Col1\n",
       ":   12Col2\n",
       ":   3Col3\n",
       ":   4Col4\n",
       ":   19Col5\n",
       ":   34\n",
       "\n"
      ],
      "text/plain": [
       "Col1 Col2 Col3 Col4 Col5 \n",
       "  12    3    4   19   34 "
      ]
     },
     "metadata": {},
     "output_type": "display_data"
    },
    {
     "data": {
      "text/html": [
       "<table>\n",
       "<thead><tr><th></th><th scope=col>Var1</th><th scope=col>Var2</th><th scope=col>Var3</th><th scope=col>Var4</th><th scope=col>Var5</th></tr></thead>\n",
       "<tbody>\n",
       "\t<tr><th scope=row>Obs1</th><td> 1</td><td> 2</td><td> 3</td><td> 4</td><td> 5</td></tr>\n",
       "\t<tr><th scope=row>Obs2</th><td> 6</td><td> 7</td><td> 8</td><td> 9</td><td>10</td></tr>\n",
       "\t<tr><th scope=row>Obs3</th><td>11</td><td>12</td><td>13</td><td>14</td><td>15</td></tr>\n",
       "\t<tr><th scope=row>Obs4</th><td>16</td><td>17</td><td>18</td><td>19</td><td>20</td></tr>\n",
       "\t<tr><th scope=row>Obs5</th><td>21</td><td>22</td><td>23</td><td>24</td><td>25</td></tr>\n",
       "</tbody>\n",
       "</table>\n"
      ],
      "text/latex": [
       "\\begin{tabular}{r|lllll}\n",
       "  & Var1 & Var2 & Var3 & Var4 & Var5\\\\\n",
       "\\hline\n",
       "\tObs1 &  1 &  2 &  3 &  4 &  5\\\\\n",
       "\tObs2 &  6 &  7 &  8 &  9 & 10\\\\\n",
       "\tObs3 & 11 & 12 & 13 & 14 & 15\\\\\n",
       "\tObs4 & 16 & 17 & 18 & 19 & 20\\\\\n",
       "\tObs5 & 21 & 22 & 23 & 24 & 25\\\\\n",
       "\\end{tabular}\n"
      ],
      "text/markdown": [
       "\n",
       "| <!--/--> | Var1 | Var2 | Var3 | Var4 | Var5 | \n",
       "|---|---|---|---|---|\n",
       "| Obs1 |  1 |  2 |  3 |  4 |  5 | \n",
       "| Obs2 |  6 |  7 |  8 |  9 | 10 | \n",
       "| Obs3 | 11 | 12 | 13 | 14 | 15 | \n",
       "| Obs4 | 16 | 17 | 18 | 19 | 20 | \n",
       "| Obs5 | 21 | 22 | 23 | 24 | 25 | \n",
       "\n",
       "\n"
      ],
      "text/plain": [
       "     Var1 Var2 Var3 Var4 Var5\n",
       "Obs1  1    2    3    4    5  \n",
       "Obs2  6    7    8    9   10  \n",
       "Obs3 11   12   13   14   15  \n",
       "Obs4 16   17   18   19   20  \n",
       "Obs5 21   22   23   24   25  "
      ]
     },
     "metadata": {},
     "output_type": "display_data"
    },
    {
     "data": {
      "text/html": [
       "<dl>\n",
       "\t<dt>$dim1</dt>\n",
       "\t\t<dd>2</dd>\n",
       "\t<dt>$dim2</dt>\n",
       "\t\t<dd>3</dd>\n",
       "\t<dt>$dim3</dt>\n",
       "\t\t<dd><ol class=list-inline>\n",
       "\t<li>1</li>\n",
       "\t<li>2</li>\n",
       "\t<li>3</li>\n",
       "</ol>\n",
       "</dd>\n",
       "</dl>\n"
      ],
      "text/latex": [
       "\\begin{description}\n",
       "\\item[\\$dim1] 2\n",
       "\\item[\\$dim2] 3\n",
       "\\item[\\$dim3] \\begin{enumerate*}\n",
       "\\item 1\n",
       "\\item 2\n",
       "\\item 3\n",
       "\\end{enumerate*}\n",
       "\n",
       "\\end{description}\n"
      ],
      "text/markdown": [
       "$dim1\n",
       ":   2\n",
       "$dim2\n",
       ":   3\n",
       "$dim3\n",
       ":   1. 1\n",
       "2. 2\n",
       "3. 3\n",
       "\n",
       "\n",
       "\n",
       "\n",
       "\n"
      ],
      "text/plain": [
       "$dim1\n",
       "[1] 2\n",
       "\n",
       "$dim2\n",
       "[1] 3\n",
       "\n",
       "$dim3\n",
       "[1] 1 2 3\n"
      ]
     },
     "metadata": {},
     "output_type": "display_data"
    },
    {
     "data": {
      "text/html": [
       "<table>\n",
       "<thead><tr><th></th><th scope=col>Caracteres</th><th scope=col>Float</th><th scope=col>Logico</th></tr></thead>\n",
       "<tbody>\n",
       "\t<tr><th scope=row>Obs1</th><td>A    </td><td>4.5  </td><td> TRUE</td></tr>\n",
       "\t<tr><th scope=row>Obs2</th><td>B    </td><td>3.9  </td><td> TRUE</td></tr>\n",
       "\t<tr><th scope=row>Obs3</th><td>C    </td><td>7.2  </td><td>FALSE</td></tr>\n",
       "</tbody>\n",
       "</table>\n"
      ],
      "text/latex": [
       "\\begin{tabular}{r|lll}\n",
       "  & Caracteres & Float & Logico\\\\\n",
       "\\hline\n",
       "\tObs1 & A     & 4.5   &  TRUE\\\\\n",
       "\tObs2 & B     & 3.9   &  TRUE\\\\\n",
       "\tObs3 & C     & 7.2   & FALSE\\\\\n",
       "\\end{tabular}\n"
      ],
      "text/markdown": [
       "\n",
       "| <!--/--> | Caracteres | Float | Logico | \n",
       "|---|---|---|\n",
       "| Obs1 | A     | 4.5   |  TRUE | \n",
       "| Obs2 | B     | 3.9   |  TRUE | \n",
       "| Obs3 | C     | 7.2   | FALSE | \n",
       "\n",
       "\n"
      ],
      "text/plain": [
       "     Caracteres Float Logico\n",
       "Obs1 A          4.5    TRUE \n",
       "Obs2 B          3.9    TRUE \n",
       "Obs3 C          7.2   FALSE "
      ]
     },
     "metadata": {},
     "output_type": "display_data"
    }
   ],
   "source": [
    "# Exercício 6 - Crie um vetor, matriz, lista e dataframe e faça a nomeação \n",
    "# de cada um dos objetos\n",
    "vec1 <- c(12, 3, 4, 19, 34)\n",
    "names(vec1) <- c('Col1', 'Col2', 'Col3', 'Col4', 'Col5')\n",
    "vec1\n",
    "\n",
    "mat1 <- matrix(c(1:50), nrow = 5, ncol = 5, byrow = T)\n",
    "dimnames(mat1) = (list( c(\"Obs1\", \"Obs2\", \"Obs3\", \"Obs4\", \"Obs5\"), c(\"Var1\", \"Var2\", \"Var3\", \"Var4\", \"Var5\")))\n",
    "mat1\n",
    "\n",
    "lst1 <- list(2, 3, c(1, 2, 3))\n",
    "names(lst1) <- c('dim1', 'dim2', 'dim3')\n",
    "lst1\n",
    "\n",
    "df1 <- data.frame(c(\"A\", \"B\", \"C\"), c(4.5, 3.9, 7.2), c(TRUE, TRUE, FALSE))\n",
    "colnames(df1) <- c('Caracteres', 'Float', 'Logico')\n",
    "rownames(df1) <- c(\"Obs1\", \"Obs2\", \"Obs3\")\n",
    "df1"
   ]
  },
  {
   "cell_type": "code",
   "execution_count": 7,
   "metadata": {},
   "outputs": [
    {
     "data": {
      "text/html": [
       "<table>\n",
       "<tbody>\n",
       "\t<tr><td> 1</td><td>11</td><td>21</td><td>31</td><td>41</td><td>51</td><td>61</td><td>71</td><td>81</td></tr>\n",
       "\t<tr><td> 2</td><td>12</td><td>22</td><td>32</td><td>42</td><td>52</td><td>62</td><td>72</td><td>82</td></tr>\n",
       "\t<tr><td> 3</td><td>13</td><td>23</td><td>33</td><td>43</td><td>53</td><td>63</td><td>73</td><td>83</td></tr>\n",
       "\t<tr><td> 4</td><td>14</td><td>24</td><td>34</td><td>44</td><td>54</td><td>64</td><td>74</td><td>84</td></tr>\n",
       "\t<tr><td> 5</td><td>15</td><td>25</td><td>35</td><td>45</td><td>55</td><td>65</td><td>75</td><td>85</td></tr>\n",
       "\t<tr><td> 6</td><td>16</td><td>26</td><td>36</td><td>46</td><td>56</td><td>66</td><td>76</td><td>86</td></tr>\n",
       "\t<tr><td> 7</td><td>17</td><td>27</td><td>37</td><td>47</td><td>57</td><td>67</td><td>77</td><td>87</td></tr>\n",
       "\t<tr><td> 8</td><td>18</td><td>28</td><td>38</td><td>48</td><td>58</td><td>68</td><td>78</td><td>88</td></tr>\n",
       "\t<tr><td> 9</td><td>19</td><td>29</td><td>39</td><td>49</td><td>59</td><td>69</td><td>79</td><td>89</td></tr>\n",
       "\t<tr><td>10</td><td>20</td><td>30</td><td>40</td><td>50</td><td>60</td><td>70</td><td>80</td><td>90</td></tr>\n",
       "</tbody>\n",
       "</table>\n"
      ],
      "text/latex": [
       "\\begin{tabular}{lllllllll}\n",
       "\t  1 & 11 & 21 & 31 & 41 & 51 & 61 & 71 & 81\\\\\n",
       "\t  2 & 12 & 22 & 32 & 42 & 52 & 62 & 72 & 82\\\\\n",
       "\t  3 & 13 & 23 & 33 & 43 & 53 & 63 & 73 & 83\\\\\n",
       "\t  4 & 14 & 24 & 34 & 44 & 54 & 64 & 74 & 84\\\\\n",
       "\t  5 & 15 & 25 & 35 & 45 & 55 & 65 & 75 & 85\\\\\n",
       "\t  6 & 16 & 26 & 36 & 46 & 56 & 66 & 76 & 86\\\\\n",
       "\t  7 & 17 & 27 & 37 & 47 & 57 & 67 & 77 & 87\\\\\n",
       "\t  8 & 18 & 28 & 38 & 48 & 58 & 68 & 78 & 88\\\\\n",
       "\t  9 & 19 & 29 & 39 & 49 & 59 & 69 & 79 & 89\\\\\n",
       "\t 10 & 20 & 30 & 40 & 50 & 60 & 70 & 80 & 90\\\\\n",
       "\\end{tabular}\n"
      ],
      "text/markdown": [
       "\n",
       "|  1 | 11 | 21 | 31 | 41 | 51 | 61 | 71 | 81 | \n",
       "|  2 | 12 | 22 | 32 | 42 | 52 | 62 | 72 | 82 | \n",
       "|  3 | 13 | 23 | 33 | 43 | 53 | 63 | 73 | 83 | \n",
       "|  4 | 14 | 24 | 34 | 44 | 54 | 64 | 74 | 84 | \n",
       "|  5 | 15 | 25 | 35 | 45 | 55 | 65 | 75 | 85 | \n",
       "|  6 | 16 | 26 | 36 | 46 | 56 | 66 | 76 | 86 | \n",
       "|  7 | 17 | 27 | 37 | 47 | 57 | 67 | 77 | 87 | \n",
       "|  8 | 18 | 28 | 38 | 48 | 58 | 68 | 78 | 88 | \n",
       "|  9 | 19 | 29 | 39 | 49 | 59 | 69 | 79 | 89 | \n",
       "| 10 | 20 | 30 | 40 | 50 | 60 | 70 | 80 | 90 | \n",
       "\n",
       "\n"
      ],
      "text/plain": [
       "      [,1] [,2] [,3] [,4] [,5] [,6] [,7] [,8] [,9]\n",
       " [1,]  1   11   21   31   41   51   61   71   81  \n",
       " [2,]  2   12   22   32   42   52   62   72   82  \n",
       " [3,]  3   13   23   33   43   53   63   73   83  \n",
       " [4,]  4   14   24   34   44   54   64   74   84  \n",
       " [5,]  5   15   25   35   45   55   65   75   85  \n",
       " [6,]  6   16   26   36   46   56   66   76   86  \n",
       " [7,]  7   17   27   37   47   57   67   77   87  \n",
       " [8,]  8   18   28   38   48   58   68   78   88  \n",
       " [9,]  9   19   29   39   49   59   69   79   89  \n",
       "[10,] 10   20   30   40   50   60   70   80   90  "
      ]
     },
     "metadata": {},
     "output_type": "display_data"
    },
    {
     "data": {
      "text/html": [
       "<table>\n",
       "<tbody>\n",
       "\t<tr><td> 1</td><td>11</td><td>21</td><td>NA</td><td>41</td><td>51</td><td>61</td><td>71</td><td>81</td></tr>\n",
       "\t<tr><td> 2</td><td>12</td><td>NA</td><td>32</td><td>NA</td><td>52</td><td>62</td><td>72</td><td>82</td></tr>\n",
       "\t<tr><td> 3</td><td>13</td><td>23</td><td>NA</td><td>43</td><td>53</td><td>63</td><td>73</td><td>83</td></tr>\n",
       "\t<tr><td> 4</td><td>NA</td><td>24</td><td>34</td><td>44</td><td>54</td><td>64</td><td>74</td><td>84</td></tr>\n",
       "\t<tr><td>NA</td><td>NA</td><td>25</td><td>35</td><td>45</td><td>55</td><td>65</td><td>75</td><td>85</td></tr>\n",
       "\t<tr><td> 6</td><td>16</td><td>26</td><td>36</td><td>46</td><td>56</td><td>66</td><td>76</td><td>86</td></tr>\n",
       "\t<tr><td> 7</td><td>17</td><td>27</td><td>37</td><td>47</td><td>57</td><td>67</td><td>77</td><td>87</td></tr>\n",
       "\t<tr><td> 8</td><td>18</td><td>28</td><td>38</td><td>48</td><td>58</td><td>68</td><td>78</td><td>88</td></tr>\n",
       "\t<tr><td> 9</td><td>19</td><td>NA</td><td>NA</td><td>49</td><td>59</td><td>69</td><td>79</td><td>89</td></tr>\n",
       "\t<tr><td>10</td><td>20</td><td>30</td><td>NA</td><td>50</td><td>60</td><td>70</td><td>80</td><td>90</td></tr>\n",
       "</tbody>\n",
       "</table>\n"
      ],
      "text/latex": [
       "\\begin{tabular}{lllllllll}\n",
       "\t  1 & 11 & 21 & NA & 41 & 51 & 61 & 71 & 81\\\\\n",
       "\t  2 & 12 & NA & 32 & NA & 52 & 62 & 72 & 82\\\\\n",
       "\t  3 & 13 & 23 & NA & 43 & 53 & 63 & 73 & 83\\\\\n",
       "\t  4 & NA & 24 & 34 & 44 & 54 & 64 & 74 & 84\\\\\n",
       "\t NA & NA & 25 & 35 & 45 & 55 & 65 & 75 & 85\\\\\n",
       "\t  6 & 16 & 26 & 36 & 46 & 56 & 66 & 76 & 86\\\\\n",
       "\t  7 & 17 & 27 & 37 & 47 & 57 & 67 & 77 & 87\\\\\n",
       "\t  8 & 18 & 28 & 38 & 48 & 58 & 68 & 78 & 88\\\\\n",
       "\t  9 & 19 & NA & NA & 49 & 59 & 69 & 79 & 89\\\\\n",
       "\t 10 & 20 & 30 & NA & 50 & 60 & 70 & 80 & 90\\\\\n",
       "\\end{tabular}\n"
      ],
      "text/markdown": [
       "\n",
       "|  1 | 11 | 21 | NA | 41 | 51 | 61 | 71 | 81 | \n",
       "|  2 | 12 | NA | 32 | NA | 52 | 62 | 72 | 82 | \n",
       "|  3 | 13 | 23 | NA | 43 | 53 | 63 | 73 | 83 | \n",
       "|  4 | NA | 24 | 34 | 44 | 54 | 64 | 74 | 84 | \n",
       "| NA | NA | 25 | 35 | 45 | 55 | 65 | 75 | 85 | \n",
       "|  6 | 16 | 26 | 36 | 46 | 56 | 66 | 76 | 86 | \n",
       "|  7 | 17 | 27 | 37 | 47 | 57 | 67 | 77 | 87 | \n",
       "|  8 | 18 | 28 | 38 | 48 | 58 | 68 | 78 | 88 | \n",
       "|  9 | 19 | NA | NA | 49 | 59 | 69 | 79 | 89 | \n",
       "| 10 | 20 | 30 | NA | 50 | 60 | 70 | 80 | 90 | \n",
       "\n",
       "\n"
      ],
      "text/plain": [
       "      [,1] [,2] [,3] [,4] [,5] [,6] [,7] [,8] [,9]\n",
       " [1,]  1   11   21   NA   41   51   61   71   81  \n",
       " [2,]  2   12   NA   32   NA   52   62   72   82  \n",
       " [3,]  3   13   23   NA   43   53   63   73   83  \n",
       " [4,]  4   NA   24   34   44   54   64   74   84  \n",
       " [5,] NA   NA   25   35   45   55   65   75   85  \n",
       " [6,]  6   16   26   36   46   56   66   76   86  \n",
       " [7,]  7   17   27   37   47   57   67   77   87  \n",
       " [8,]  8   18   28   38   48   58   68   78   88  \n",
       " [9,]  9   19   NA   NA   49   59   69   79   89  \n",
       "[10,] 10   20   30   NA   50   60   70   80   90  "
      ]
     },
     "metadata": {},
     "output_type": "display_data"
    },
    {
     "data": {
      "text/html": [
       "\n",
       "<table width=\"100%\" summary=\"page for sample {base}\"><tr><td>sample {base}</td><td style=\"text-align: right;\">R Documentation</td></tr></table>\n",
       "\n",
       "<h2>Random Samples and Permutations</h2>\n",
       "\n",
       "<h3>Description</h3>\n",
       "\n",
       "<p><code>sample</code> takes a sample of the specified size from the elements\n",
       "of <code>x</code> using either with or without replacement.\n",
       "</p>\n",
       "\n",
       "\n",
       "<h3>Usage</h3>\n",
       "\n",
       "<pre>\n",
       "sample(x, size, replace = FALSE, prob = NULL)\n",
       "\n",
       "sample.int(n, size = n, replace = FALSE, prob = NULL,\n",
       "           useHash = (!replace &amp;&amp; is.null(prob) &amp;&amp; size &lt;= n/2 &amp;&amp; n &gt; 1e7))\n",
       "</pre>\n",
       "\n",
       "\n",
       "<h3>Arguments</h3>\n",
       "\n",
       "<table summary=\"R argblock\">\n",
       "<tr valign=\"top\"><td><code>x</code></td>\n",
       "<td>\n",
       "<p>either a vector of one or more elements from which to choose,\n",
       "or a positive integer.  See &lsquo;Details.&rsquo;</p>\n",
       "</td></tr>\n",
       "<tr valign=\"top\"><td><code>n</code></td>\n",
       "<td>\n",
       "<p>a positive number, the number of items to choose from.  See\n",
       "&lsquo;Details.&rsquo;</p>\n",
       "</td></tr>\n",
       "<tr valign=\"top\"><td><code>size</code></td>\n",
       "<td>\n",
       "<p>a non-negative integer giving the number of items to choose.</p>\n",
       "</td></tr>\n",
       "<tr valign=\"top\"><td><code>replace</code></td>\n",
       "<td>\n",
       "<p>should sampling be with replacement?</p>\n",
       "</td></tr>\n",
       "<tr valign=\"top\"><td><code>prob</code></td>\n",
       "<td>\n",
       "<p>a vector of probability weights for obtaining the elements\n",
       "of the vector being sampled.</p>\n",
       "</td></tr>\n",
       "<tr valign=\"top\"><td><code>useHash</code></td>\n",
       "<td>\n",
       "<p><code>logical</code> indicating if the hash-version of\n",
       "the algorithm should be used.  Can only be used for <code>replace =\n",
       "      FALSE</code>, <code>prob = NULL</code>, and <code>size &lt;= n/2</code>, and really\n",
       "should be used for large <code>n</code>, as <code>useHash=FALSE</code> will use\n",
       "memory proportional to <code>n</code>.</p>\n",
       "</td></tr>\n",
       "</table>\n",
       "\n",
       "\n",
       "<h3>Details</h3>\n",
       "\n",
       "<p>If <code>x</code> has length 1, is numeric (in the sense of\n",
       "<code>is.numeric</code>) and <code>x &gt;= 1</code>, sampling <em>via</em>\n",
       "<code>sample</code> takes place from <code>1:x</code>.  <em>Note</em> that this\n",
       "convenience feature may lead to undesired behaviour when <code>x</code> is\n",
       "of varying length in calls such as <code>sample(x)</code>.  See the examples.\n",
       "</p>\n",
       "<p>Otherwise <code>x</code> can be any <span style=\"font-family: Courier New, Courier; color: #666666;\"><b>R</b></span> object for which <code>length</code> and\n",
       "subsetting by integers make sense: S3 or S4 methods for these\n",
       "operations will be dispatched as appropriate.\n",
       "</p>\n",
       "<p>For <code>sample</code> the default for <code>size</code> is the number of items\n",
       "inferred from the first argument, so that <code>sample(x)</code> generates a\n",
       "random permutation of the elements of <code>x</code> (or <code>1:x</code>).\n",
       "</p>\n",
       "<p>It is allowed to ask for <code>size = 0</code> samples with <code>n = 0</code> or\n",
       "a length-zero <code>x</code>, but otherwise <code>n &gt; 0</code> or positive\n",
       "<code>length(x)</code> is required.\n",
       "</p>\n",
       "<p>Non-integer positive numerical values of <code>n</code> or <code>x</code> will be\n",
       "truncated to the next smallest integer, which has to be no larger than\n",
       "<code>.Machine$integer.max</code>.\n",
       "</p>\n",
       "<p>The optional <code>prob</code> argument can be used to give a vector of\n",
       "weights for obtaining the elements of the vector being sampled.  They\n",
       "need not sum to one, but they should be non-negative and not all zero.\n",
       "If <code>replace</code> is true, Walker's alias method (Ripley, 1987) is\n",
       "used when there are more than 200 reasonably probable values: this\n",
       "gives results incompatible with those from <span style=\"font-family: Courier New, Courier; color: #666666;\"><b>R</b></span> &lt; 2.2.0.\n",
       "</p>\n",
       "<p>If <code>replace</code> is false, these probabilities are applied\n",
       "sequentially, that is the probability of choosing the next item is\n",
       "proportional to the weights amongst the remaining items.  The number\n",
       "of nonzero weights must be at least <code>size</code> in this case.\n",
       "</p>\n",
       "<p><code>sample.int</code> is a bare interface in which both <code>n</code> and\n",
       "<code>size</code> must be supplied as integers.\n",
       "</p>\n",
       "<p>Argument <code>n</code> can be larger than the largest integer of\n",
       "type <code>integer</code>, up to the largest representable integer in type\n",
       "<code>double</code>.  Only uniform sampling is supported.  Two\n",
       "random numbers are used to ensure uniform sampling of large integers.\n",
       "</p>\n",
       "\n",
       "\n",
       "<h3>Value</h3>\n",
       "\n",
       "<p>For <code>sample</code> a vector of length <code>size</code> with elements\n",
       "drawn from either <code>x</code> or from the integers <code>1:x</code>.\n",
       "</p>\n",
       "<p>For <code>sample.int</code>, an integer vector of length <code>size</code> with\n",
       "elements from <code>1:n</code>, or a double vector if\n",
       "<i>n &gt;= 2^31</i>.\n",
       "</p>\n",
       "\n",
       "\n",
       "<h3>References</h3>\n",
       "\n",
       "<p>Becker, R. A., Chambers, J. M. and Wilks, A. R. (1988)\n",
       "<em>The New S Language</em>.\n",
       "Wadsworth &amp; Brooks/Cole.\n",
       "</p>\n",
       "<p>Ripley, B. D. (1987) <em>Stochastic Simulation</em>. Wiley.\n",
       "</p>\n",
       "\n",
       "\n",
       "<h3>See Also</h3>\n",
       "\n",
       "<p><code>RNG</code> about random number generation.\n",
       "</p>\n",
       "<p>CRAN package <a href=\"https://CRAN.R-project.org/package=sampling\"><span class=\"pkg\">sampling</span></a> for other methods of weighted sampling\n",
       "without replacement.\n",
       "</p>\n",
       "\n",
       "\n",
       "<h3>Examples</h3>\n",
       "\n",
       "<pre>\n",
       "x &lt;- 1:12\n",
       "# a random permutation\n",
       "sample(x)\n",
       "# bootstrap resampling -- only if length(x) &gt; 1 !\n",
       "sample(x, replace = TRUE)\n",
       "\n",
       "# 100 Bernoulli trials\n",
       "sample(c(0,1), 100, replace = TRUE)\n",
       "\n",
       "## More careful bootstrapping --  Consider this when using sample()\n",
       "## programmatically (i.e., in your function or simulation)!\n",
       "\n",
       "# sample()'s surprise -- example\n",
       "x &lt;- 1:10\n",
       "    sample(x[x &gt;  8]) # length 2\n",
       "    sample(x[x &gt;  9]) # oops -- length 10!\n",
       "    sample(x[x &gt; 10]) # length 0\n",
       "\n",
       "## safer version:\n",
       "resample &lt;- function(x, ...) x[sample.int(length(x), ...)]\n",
       "resample(x[x &gt;  8]) # length 2\n",
       "resample(x[x &gt;  9]) # length 1\n",
       "resample(x[x &gt; 10]) # length 0\n",
       "\n",
       "## R 3.x.y only\n",
       "sample.int(1e10, 12, replace = TRUE)\n",
       "sample.int(1e10, 12) # not that there is much chance of duplicates\n",
       "</pre>\n",
       "\n",
       "<hr /><div style=\"text-align: center;\">[Package <em>base</em> version 3.5.1 ]</div>"
      ],
      "text/latex": [
       "\\inputencoding{utf8}\n",
       "\\HeaderA{sample}{Random Samples and Permutations}{sample}\n",
       "\\methaliasA{sample.int}{sample}{sample.int}\n",
       "\\keyword{distribution}{sample}\n",
       "%\n",
       "\\begin{Description}\\relax\n",
       "\\code{sample} takes a sample of the specified size from the elements\n",
       "of \\code{x} using either with or without replacement.\n",
       "\\end{Description}\n",
       "%\n",
       "\\begin{Usage}\n",
       "\\begin{verbatim}\n",
       "sample(x, size, replace = FALSE, prob = NULL)\n",
       "\n",
       "sample.int(n, size = n, replace = FALSE, prob = NULL,\n",
       "           useHash = (!replace && is.null(prob) && size <= n/2 && n > 1e7))\n",
       "\\end{verbatim}\n",
       "\\end{Usage}\n",
       "%\n",
       "\\begin{Arguments}\n",
       "\\begin{ldescription}\n",
       "\\item[\\code{x}] either a vector of one or more elements from which to choose,\n",
       "or a positive integer.  See `Details.'\n",
       "\\item[\\code{n}] a positive number, the number of items to choose from.  See\n",
       "`Details.'\n",
       "\\item[\\code{size}] a non-negative integer giving the number of items to choose.\n",
       "\\item[\\code{replace}] should sampling be with replacement?\n",
       "\\item[\\code{prob}] a vector of probability weights for obtaining the elements\n",
       "of the vector being sampled.\n",
       "\\item[\\code{useHash}] \\code{\\LinkA{logical}{logical}} indicating if the hash-version of\n",
       "the algorithm should be used.  Can only be used for \\code{replace =\n",
       "      FALSE}, \\code{prob = NULL}, and \\code{size <= n/2}, and really\n",
       "should be used for large \\code{n}, as \\code{useHash=FALSE} will use\n",
       "memory proportional to \\code{n}.\n",
       "\\end{ldescription}\n",
       "\\end{Arguments}\n",
       "%\n",
       "\\begin{Details}\\relax\n",
       "If \\code{x} has length 1, is numeric (in the sense of\n",
       "\\code{\\LinkA{is.numeric}{is.numeric}}) and \\code{x >= 1}, sampling \\emph{via}\n",
       "\\code{sample} takes place from \\code{1:x}.  \\emph{Note} that this\n",
       "convenience feature may lead to undesired behaviour when \\code{x} is\n",
       "of varying length in calls such as \\code{sample(x)}.  See the examples.\n",
       "\n",
       "Otherwise \\code{x} can be any \\R{} object for which \\code{length} and\n",
       "subsetting by integers make sense: S3 or S4 methods for these\n",
       "operations will be dispatched as appropriate.\n",
       "\n",
       "For \\code{sample} the default for \\code{size} is the number of items\n",
       "inferred from the first argument, so that \\code{sample(x)} generates a\n",
       "random permutation of the elements of \\code{x} (or \\code{1:x}).\n",
       "\n",
       "It is allowed to ask for \\code{size = 0} samples with \\code{n = 0} or\n",
       "a length-zero \\code{x}, but otherwise \\code{n > 0} or positive\n",
       "\\code{length(x)} is required.\n",
       "\n",
       "Non-integer positive numerical values of \\code{n} or \\code{x} will be\n",
       "truncated to the next smallest integer, which has to be no larger than\n",
       "\\code{\\LinkA{.Machine}{.Machine}\\$integer.max}.\n",
       "\n",
       "The optional \\code{prob} argument can be used to give a vector of\n",
       "weights for obtaining the elements of the vector being sampled.  They\n",
       "need not sum to one, but they should be non-negative and not all zero.\n",
       "If \\code{replace} is true, Walker's alias method (Ripley, 1987) is\n",
       "used when there are more than 200 reasonably probable values: this\n",
       "gives results incompatible with those from \\R{} < 2.2.0.\n",
       "\n",
       "If \\code{replace} is false, these probabilities are applied\n",
       "sequentially, that is the probability of choosing the next item is\n",
       "proportional to the weights amongst the remaining items.  The number\n",
       "of nonzero weights must be at least \\code{size} in this case.\n",
       "\n",
       "\\code{sample.int} is a bare interface in which both \\code{n} and\n",
       "\\code{size} must be supplied as integers.\n",
       "\n",
       "Argument \\code{n} can be larger than the largest integer of\n",
       "type \\code{integer}, up to the largest representable integer in type\n",
       "\\code{double}.  Only uniform sampling is supported.  Two\n",
       "random numbers are used to ensure uniform sampling of large integers.\n",
       "\\end{Details}\n",
       "%\n",
       "\\begin{Value}\n",
       "For \\code{sample} a vector of length \\code{size} with elements\n",
       "drawn from either \\code{x} or from the integers \\code{1:x}.\n",
       "\n",
       "For \\code{sample.int}, an integer vector of length \\code{size} with\n",
       "elements from \\code{1:n}, or a double vector if\n",
       "\\eqn{n \\ge 2^{31}}{}.\n",
       "\\end{Value}\n",
       "%\n",
       "\\begin{References}\\relax\n",
       "Becker, R. A., Chambers, J. M. and Wilks, A. R. (1988)\n",
       "\\emph{The New S Language}.\n",
       "Wadsworth \\& Brooks/Cole.\n",
       "\n",
       "Ripley, B. D. (1987) \\emph{Stochastic Simulation}. Wiley.\n",
       "\\end{References}\n",
       "%\n",
       "\\begin{SeeAlso}\\relax\n",
       "\\code{\\LinkA{RNG}{RNG}} about random number generation.\n",
       "\n",
       "CRAN package \\Rhref{https://CRAN.R-project.org/package=sampling}{\\pkg{sampling}} for other methods of weighted sampling\n",
       "without replacement.\n",
       "\\end{SeeAlso}\n",
       "%\n",
       "\\begin{Examples}\n",
       "\\begin{ExampleCode}\n",
       "x <- 1:12\n",
       "# a random permutation\n",
       "sample(x)\n",
       "# bootstrap resampling -- only if length(x) > 1 !\n",
       "sample(x, replace = TRUE)\n",
       "\n",
       "# 100 Bernoulli trials\n",
       "sample(c(0,1), 100, replace = TRUE)\n",
       "\n",
       "## More careful bootstrapping --  Consider this when using sample()\n",
       "## programmatically (i.e., in your function or simulation)!\n",
       "\n",
       "# sample()'s surprise -- example\n",
       "x <- 1:10\n",
       "    sample(x[x >  8]) # length 2\n",
       "    sample(x[x >  9]) # oops -- length 10!\n",
       "    sample(x[x > 10]) # length 0\n",
       "\n",
       "## safer version:\n",
       "resample <- function(x, ...) x[sample.int(length(x), ...)]\n",
       "resample(x[x >  8]) # length 2\n",
       "resample(x[x >  9]) # length 1\n",
       "resample(x[x > 10]) # length 0\n",
       "\n",
       "## R 3.x.y only\n",
       "sample.int(1e10, 12, replace = TRUE)\n",
       "sample.int(1e10, 12) # not that there is much chance of duplicates\n",
       "\\end{ExampleCode}\n",
       "\\end{Examples}"
      ],
      "text/plain": [
       "sample                  package:base                   R Documentation\n",
       "\n",
       "_\bR_\ba_\bn_\bd_\bo_\bm _\bS_\ba_\bm_\bp_\bl_\be_\bs _\ba_\bn_\bd _\bP_\be_\br_\bm_\bu_\bt_\ba_\bt_\bi_\bo_\bn_\bs\n",
       "\n",
       "_\bD_\be_\bs_\bc_\br_\bi_\bp_\bt_\bi_\bo_\bn:\n",
       "\n",
       "     'sample' takes a sample of the specified size from the elements of\n",
       "     'x' using either with or without replacement.\n",
       "\n",
       "_\bU_\bs_\ba_\bg_\be:\n",
       "\n",
       "     sample(x, size, replace = FALSE, prob = NULL)\n",
       "     \n",
       "     sample.int(n, size = n, replace = FALSE, prob = NULL,\n",
       "                useHash = (!replace && is.null(prob) && size <= n/2 && n > 1e7))\n",
       "     \n",
       "_\bA_\br_\bg_\bu_\bm_\be_\bn_\bt_\bs:\n",
       "\n",
       "       x: either a vector of one or more elements from which to choose,\n",
       "          or a positive integer.  See 'Details.'\n",
       "\n",
       "       n: a positive number, the number of items to choose from.  See\n",
       "          'Details.'\n",
       "\n",
       "    size: a non-negative integer giving the number of items to choose.\n",
       "\n",
       " replace: should sampling be with replacement?\n",
       "\n",
       "    prob: a vector of probability weights for obtaining the elements of\n",
       "          the vector being sampled.\n",
       "\n",
       " useHash: 'logical' indicating if the hash-version of the algorithm\n",
       "          should be used.  Can only be used for 'replace = FALSE',\n",
       "          'prob = NULL', and 'size <= n/2', and really should be used\n",
       "          for large 'n', as 'useHash=FALSE' will use memory\n",
       "          proportional to 'n'.\n",
       "\n",
       "_\bD_\be_\bt_\ba_\bi_\bl_\bs:\n",
       "\n",
       "     If 'x' has length 1, is numeric (in the sense of 'is.numeric') and\n",
       "     'x >= 1', sampling _via_ 'sample' takes place from '1:x'.  _Note_\n",
       "     that this convenience feature may lead to undesired behaviour when\n",
       "     'x' is of varying length in calls such as 'sample(x)'.  See the\n",
       "     examples.\n",
       "\n",
       "     Otherwise 'x' can be any R object for which 'length' and\n",
       "     subsetting by integers make sense: S3 or S4 methods for these\n",
       "     operations will be dispatched as appropriate.\n",
       "\n",
       "     For 'sample' the default for 'size' is the number of items\n",
       "     inferred from the first argument, so that 'sample(x)' generates a\n",
       "     random permutation of the elements of 'x' (or '1:x').\n",
       "\n",
       "     It is allowed to ask for 'size = 0' samples with 'n = 0' or a\n",
       "     length-zero 'x', but otherwise 'n > 0' or positive 'length(x)' is\n",
       "     required.\n",
       "\n",
       "     Non-integer positive numerical values of 'n' or 'x' will be\n",
       "     truncated to the next smallest integer, which has to be no larger\n",
       "     than '.Machine$integer.max'.\n",
       "\n",
       "     The optional 'prob' argument can be used to give a vector of\n",
       "     weights for obtaining the elements of the vector being sampled.\n",
       "     They need not sum to one, but they should be non-negative and not\n",
       "     all zero.  If 'replace' is true, Walker's alias method (Ripley,\n",
       "     1987) is used when there are more than 200 reasonably probable\n",
       "     values: this gives results incompatible with those from R < 2.2.0.\n",
       "\n",
       "     If 'replace' is false, these probabilities are applied\n",
       "     sequentially, that is the probability of choosing the next item is\n",
       "     proportional to the weights amongst the remaining items.  The\n",
       "     number of nonzero weights must be at least 'size' in this case.\n",
       "\n",
       "     'sample.int' is a bare interface in which both 'n' and 'size' must\n",
       "     be supplied as integers.\n",
       "\n",
       "     Argument 'n' can be larger than the largest integer of type\n",
       "     'integer', up to the largest representable integer in type\n",
       "     'double'.  Only uniform sampling is supported.  Two random numbers\n",
       "     are used to ensure uniform sampling of large integers.\n",
       "\n",
       "_\bV_\ba_\bl_\bu_\be:\n",
       "\n",
       "     For 'sample' a vector of length 'size' with elements drawn from\n",
       "     either 'x' or from the integers '1:x'.\n",
       "\n",
       "     For 'sample.int', an integer vector of length 'size' with elements\n",
       "     from '1:n', or a double vector if n >= 2^31.\n",
       "\n",
       "_\bR_\be_\bf_\be_\br_\be_\bn_\bc_\be_\bs:\n",
       "\n",
       "     Becker, R. A., Chambers, J. M. and Wilks, A. R. (1988) _The New S\n",
       "     Language_.  Wadsworth & Brooks/Cole.\n",
       "\n",
       "     Ripley, B. D. (1987) _Stochastic Simulation_. Wiley.\n",
       "\n",
       "_\bS_\be_\be _\bA_\bl_\bs_\bo:\n",
       "\n",
       "     'RNG' about random number generation.\n",
       "\n",
       "     CRAN package 'sampling' for other methods of weighted sampling\n",
       "     without replacement.\n",
       "\n",
       "_\bE_\bx_\ba_\bm_\bp_\bl_\be_\bs:\n",
       "\n",
       "     x <- 1:12\n",
       "     # a random permutation\n",
       "     sample(x)\n",
       "     # bootstrap resampling -- only if length(x) > 1 !\n",
       "     sample(x, replace = TRUE)\n",
       "     \n",
       "     # 100 Bernoulli trials\n",
       "     sample(c(0,1), 100, replace = TRUE)\n",
       "     \n",
       "     ## More careful bootstrapping --  Consider this when using sample()\n",
       "     ## programmatically (i.e., in your function or simulation)!\n",
       "     \n",
       "     # sample()'s surprise -- example\n",
       "     x <- 1:10\n",
       "         sample(x[x >  8]) # length 2\n",
       "         sample(x[x >  9]) # oops -- length 10!\n",
       "         sample(x[x > 10]) # length 0\n",
       "     \n",
       "     ## safer version:\n",
       "     resample <- function(x, ...) x[sample.int(length(x), ...)]\n",
       "     resample(x[x >  8]) # length 2\n",
       "     resample(x[x >  9]) # length 1\n",
       "     resample(x[x > 10]) # length 0\n",
       "     \n",
       "     ## R 3.x.y only\n",
       "     sample.int(1e10, 12, replace = TRUE)\n",
       "     sample.int(1e10, 12) # not that there is much chance of duplicates\n",
       "     "
      ]
     },
     "metadata": {},
     "output_type": "display_data"
    }
   ],
   "source": [
    "# Exercício 7 - Considere a matriz abaixo. Atribua valores NA de forma aletória \n",
    "# para 50 elementos da matriz\n",
    "# Dica: use a função sample()\n",
    "mat2 <- matrix(1:90, 10)\n",
    "mat2\n",
    "?sample\n",
    "mat2[sample(1:50, 10)] = NA\n",
    "mat2"
   ]
  },
  {
   "cell_type": "code",
   "execution_count": 8,
   "metadata": {},
   "outputs": [
    {
     "data": {
      "text/html": [
       "<table>\n",
       "<tbody>\n",
       "\t<tr><td> 1</td><td> 2</td><td> 3</td><td> 4</td><td> 5</td></tr>\n",
       "\t<tr><td> 6</td><td> 7</td><td> 8</td><td> 9</td><td>10</td></tr>\n",
       "\t<tr><td>11</td><td>12</td><td>13</td><td>14</td><td>15</td></tr>\n",
       "\t<tr><td>16</td><td>17</td><td>18</td><td>19</td><td>20</td></tr>\n",
       "\t<tr><td>21</td><td>22</td><td>23</td><td>24</td><td>25</td></tr>\n",
       "</tbody>\n",
       "</table>\n"
      ],
      "text/latex": [
       "\\begin{tabular}{lllll}\n",
       "\t  1 &  2 &  3 &  4 &  5\\\\\n",
       "\t  6 &  7 &  8 &  9 & 10\\\\\n",
       "\t 11 & 12 & 13 & 14 & 15\\\\\n",
       "\t 16 & 17 & 18 & 19 & 20\\\\\n",
       "\t 21 & 22 & 23 & 24 & 25\\\\\n",
       "\\end{tabular}\n"
      ],
      "text/markdown": [
       "\n",
       "|  1 |  2 |  3 |  4 |  5 | \n",
       "|  6 |  7 |  8 |  9 | 10 | \n",
       "| 11 | 12 | 13 | 14 | 15 | \n",
       "| 16 | 17 | 18 | 19 | 20 | \n",
       "| 21 | 22 | 23 | 24 | 25 | \n",
       "\n",
       "\n"
      ],
      "text/plain": [
       "     [,1] [,2] [,3] [,4] [,5]\n",
       "[1,]  1    2    3    4    5  \n",
       "[2,]  6    7    8    9   10  \n",
       "[3,] 11   12   13   14   15  \n",
       "[4,] 16   17   18   19   20  \n",
       "[5,] 21   22   23   24   25  "
      ]
     },
     "metadata": {},
     "output_type": "display_data"
    },
    {
     "data": {
      "text/html": [
       "<ol class=list-inline>\n",
       "\t<li>15</li>\n",
       "\t<li>40</li>\n",
       "\t<li>65</li>\n",
       "\t<li>90</li>\n",
       "\t<li>115</li>\n",
       "</ol>\n"
      ],
      "text/latex": [
       "\\begin{enumerate*}\n",
       "\\item 15\n",
       "\\item 40\n",
       "\\item 65\n",
       "\\item 90\n",
       "\\item 115\n",
       "\\end{enumerate*}\n"
      ],
      "text/markdown": [
       "1. 15\n",
       "2. 40\n",
       "3. 65\n",
       "4. 90\n",
       "5. 115\n",
       "\n",
       "\n"
      ],
      "text/plain": [
       "[1]  15  40  65  90 115"
      ]
     },
     "metadata": {},
     "output_type": "display_data"
    },
    {
     "data": {
      "text/html": [
       "<ol class=list-inline>\n",
       "\t<li>55</li>\n",
       "\t<li>60</li>\n",
       "\t<li>65</li>\n",
       "\t<li>70</li>\n",
       "\t<li>75</li>\n",
       "</ol>\n"
      ],
      "text/latex": [
       "\\begin{enumerate*}\n",
       "\\item 55\n",
       "\\item 60\n",
       "\\item 65\n",
       "\\item 70\n",
       "\\item 75\n",
       "\\end{enumerate*}\n"
      ],
      "text/markdown": [
       "1. 55\n",
       "2. 60\n",
       "3. 65\n",
       "4. 70\n",
       "5. 75\n",
       "\n",
       "\n"
      ],
      "text/plain": [
       "[1] 55 60 65 70 75"
      ]
     },
     "metadata": {},
     "output_type": "display_data"
    }
   ],
   "source": [
    "# Exercício 8 - Para a matriz abaixo, calcule a soma por linha e por coluna\n",
    "mat1 <- matrix(c(1:50), nrow = 5, ncol = 5, byrow = T)\n",
    "mat1\n",
    "rowSums(mat1)\n",
    "colSums(mat1)"
   ]
  },
  {
   "cell_type": "code",
   "execution_count": 9,
   "metadata": {},
   "outputs": [
    {
     "data": {
      "text/html": [
       "<ol class=list-inline>\n",
       "\t<li>100</li>\n",
       "\t<li>10</li>\n",
       "\t<li>10000</li>\n",
       "\t<li>1000</li>\n",
       "</ol>\n"
      ],
      "text/latex": [
       "\\begin{enumerate*}\n",
       "\\item 100\n",
       "\\item 10\n",
       "\\item 10000\n",
       "\\item 1000\n",
       "\\end{enumerate*}\n"
      ],
      "text/markdown": [
       "1. 100\n",
       "2. 10\n",
       "3. 10000\n",
       "4. 1000\n",
       "\n",
       "\n"
      ],
      "text/plain": [
       "[1]   100    10 10000  1000"
      ]
     },
     "metadata": {},
     "output_type": "display_data"
    },
    {
     "data": {
      "text/html": [
       "<ol class=list-inline>\n",
       "\t<li>2</li>\n",
       "\t<li>1</li>\n",
       "\t<li>4</li>\n",
       "\t<li>3</li>\n",
       "</ol>\n"
      ],
      "text/latex": [
       "\\begin{enumerate*}\n",
       "\\item 2\n",
       "\\item 1\n",
       "\\item 4\n",
       "\\item 3\n",
       "\\end{enumerate*}\n"
      ],
      "text/markdown": [
       "1. 2\n",
       "2. 1\n",
       "3. 4\n",
       "4. 3\n",
       "\n",
       "\n"
      ],
      "text/plain": [
       "[1] 2 1 4 3"
      ]
     },
     "metadata": {},
     "output_type": "display_data"
    },
    {
     "data": {
      "text/html": [
       "<ol class=list-inline>\n",
       "\t<li>10</li>\n",
       "\t<li>100</li>\n",
       "\t<li>1000</li>\n",
       "\t<li>10000</li>\n",
       "</ol>\n"
      ],
      "text/latex": [
       "\\begin{enumerate*}\n",
       "\\item 10\n",
       "\\item 100\n",
       "\\item 1000\n",
       "\\item 10000\n",
       "\\end{enumerate*}\n"
      ],
      "text/markdown": [
       "1. 10\n",
       "2. 100\n",
       "3. 1000\n",
       "4. 10000\n",
       "\n",
       "\n"
      ],
      "text/plain": [
       "[1]    10   100  1000 10000"
      ]
     },
     "metadata": {},
     "output_type": "display_data"
    }
   ],
   "source": [
    "# Exercício 9 - Para o vetor abaixo, ordene os valores em ordem crescente\n",
    "a <- c(100, 10, 10000, 1000)\n",
    "a\n",
    "order(a)\n",
    "a[order(a)]"
   ]
  },
  {
   "cell_type": "code",
   "execution_count": 10,
   "metadata": {},
   "outputs": [
    {
     "data": {
      "text/html": [
       "<table>\n",
       "<tbody>\n",
       "\t<tr><td> 1</td><td> 2</td><td> 3</td><td> 4</td><td> 5</td></tr>\n",
       "\t<tr><td> 6</td><td> 7</td><td> 8</td><td> 9</td><td>10</td></tr>\n",
       "\t<tr><td>11</td><td>12</td><td>13</td><td>14</td><td>15</td></tr>\n",
       "\t<tr><td>16</td><td>17</td><td>18</td><td>19</td><td>20</td></tr>\n",
       "\t<tr><td>21</td><td>22</td><td>23</td><td>24</td><td>25</td></tr>\n",
       "</tbody>\n",
       "</table>\n"
      ],
      "text/latex": [
       "\\begin{tabular}{lllll}\n",
       "\t  1 &  2 &  3 &  4 &  5\\\\\n",
       "\t  6 &  7 &  8 &  9 & 10\\\\\n",
       "\t 11 & 12 & 13 & 14 & 15\\\\\n",
       "\t 16 & 17 & 18 & 19 & 20\\\\\n",
       "\t 21 & 22 & 23 & 24 & 25\\\\\n",
       "\\end{tabular}\n"
      ],
      "text/markdown": [
       "\n",
       "|  1 |  2 |  3 |  4 |  5 | \n",
       "|  6 |  7 |  8 |  9 | 10 | \n",
       "| 11 | 12 | 13 | 14 | 15 | \n",
       "| 16 | 17 | 18 | 19 | 20 | \n",
       "| 21 | 22 | 23 | 24 | 25 | \n",
       "\n",
       "\n"
      ],
      "text/plain": [
       "     [,1] [,2] [,3] [,4] [,5]\n",
       "[1,]  1    2    3    4    5  \n",
       "[2,]  6    7    8    9   10  \n",
       "[3,] 11   12   13   14   15  \n",
       "[4,] 16   17   18   19   20  \n",
       "[5,] 21   22   23   24   25  "
      ]
     },
     "metadata": {},
     "output_type": "display_data"
    },
    {
     "name": "stdout",
     "output_type": "stream",
     "text": [
      "[1] 16\n",
      "[1] 21\n",
      "[1] 17\n",
      "[1] 22\n",
      "[1] 18\n",
      "[1] 23\n",
      "[1] 19\n",
      "[1] 24\n",
      "[1] 20\n",
      "[1] 25\n"
     ]
    }
   ],
   "source": [
    "# # Exercício 10 - Imprima no console todos os elementos da matriz abaixo \n",
    "# que forem maiores que 15\n",
    "mat1 <- matrix(c(1:50), nrow = 5, ncol = 5, byrow = T)\n",
    "mat1\n",
    "\n",
    "for (i in mat1){\n",
    "  if(i > 15){\n",
    "    print(i)\n",
    "  }\n",
    "}"
   ]
  },
  {
   "cell_type": "code",
   "execution_count": null,
   "metadata": {},
   "outputs": [],
   "source": []
  }
 ],
 "metadata": {
  "kernelspec": {
   "display_name": "R",
   "language": "R",
   "name": "ir"
  },
  "language_info": {
   "codemirror_mode": "r",
   "file_extension": ".r",
   "mimetype": "text/x-r-source",
   "name": "R",
   "pygments_lexer": "r",
   "version": "3.5.1"
  }
 },
 "nbformat": 4,
 "nbformat_minor": 2
}
