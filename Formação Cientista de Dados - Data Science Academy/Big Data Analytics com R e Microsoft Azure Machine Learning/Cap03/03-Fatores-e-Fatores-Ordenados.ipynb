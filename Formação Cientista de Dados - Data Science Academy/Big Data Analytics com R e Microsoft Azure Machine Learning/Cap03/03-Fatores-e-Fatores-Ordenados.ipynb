{
 "cells": [
  {
   "cell_type": "code",
   "execution_count": 1,
   "metadata": {},
   "outputs": [
    {
     "data": {
      "text/html": [
       "<ol class=list-inline>\n",
       "\t<li>'Macho'</li>\n",
       "\t<li>'Femea'</li>\n",
       "\t<li>'Femea'</li>\n",
       "\t<li>'Macho'</li>\n",
       "\t<li>'Macho'</li>\n",
       "</ol>\n"
      ],
      "text/latex": [
       "\\begin{enumerate*}\n",
       "\\item 'Macho'\n",
       "\\item 'Femea'\n",
       "\\item 'Femea'\n",
       "\\item 'Macho'\n",
       "\\item 'Macho'\n",
       "\\end{enumerate*}\n"
      ],
      "text/markdown": [
       "1. 'Macho'\n",
       "2. 'Femea'\n",
       "3. 'Femea'\n",
       "4. 'Macho'\n",
       "5. 'Macho'\n",
       "\n",
       "\n"
      ],
      "text/plain": [
       "[1] \"Macho\" \"Femea\" \"Femea\" \"Macho\" \"Macho\""
      ]
     },
     "metadata": {},
     "output_type": "display_data"
    },
    {
     "data": {
      "text/html": [
       "<ol class=list-inline>\n",
       "\t<li>Macho</li>\n",
       "\t<li>Femea</li>\n",
       "\t<li>Femea</li>\n",
       "\t<li>Macho</li>\n",
       "\t<li>Macho</li>\n",
       "</ol>\n",
       "\n",
       "<details>\n",
       "\t<summary style=display:list-item;cursor:pointer>\n",
       "\t\t<strong>Levels</strong>:\n",
       "\t</summary>\n",
       "\t<ol class=list-inline>\n",
       "\t\t<li>'Femea'</li>\n",
       "\t\t<li>'Macho'</li>\n",
       "\t</ol>\n",
       "</details>"
      ],
      "text/latex": [
       "\\begin{enumerate*}\n",
       "\\item Macho\n",
       "\\item Femea\n",
       "\\item Femea\n",
       "\\item Macho\n",
       "\\item Macho\n",
       "\\end{enumerate*}\n",
       "\n",
       "\\emph{Levels}: \\begin{enumerate*}\n",
       "\\item 'Femea'\n",
       "\\item 'Macho'\n",
       "\\end{enumerate*}\n"
      ],
      "text/markdown": [
       "1. Macho\n",
       "2. Femea\n",
       "3. Femea\n",
       "4. Macho\n",
       "5. Macho\n",
       "\n",
       "\n",
       "\n",
       "**Levels**: 1. 'Femea'\n",
       "2. 'Macho'\n",
       "\n",
       "\n"
      ],
      "text/plain": [
       "[1] Macho Femea Femea Macho Macho\n",
       "Levels: Femea Macho"
      ]
     },
     "metadata": {},
     "output_type": "display_data"
    },
    {
     "data": {
      "text/html": [
       "'character'"
      ],
      "text/latex": [
       "'character'"
      ],
      "text/markdown": [
       "'character'"
      ],
      "text/plain": [
       "[1] \"character\""
      ]
     },
     "metadata": {},
     "output_type": "display_data"
    },
    {
     "data": {
      "text/html": [
       "'factor'"
      ],
      "text/latex": [
       "'factor'"
      ],
      "text/markdown": [
       "'factor'"
      ],
      "text/plain": [
       "[1] \"factor\""
      ]
     },
     "metadata": {},
     "output_type": "display_data"
    }
   ],
   "source": [
    "vec1 <- c(\"Macho\",\"Femea\",\"Femea\",\"Macho\",\"Macho\")\n",
    "vec1\n",
    "fac_vec1 <- factor(vec1)\n",
    "fac_vec1\n",
    "class(vec1)\n",
    "class(fac_vec1)"
   ]
  },
  {
   "cell_type": "code",
   "execution_count": 2,
   "metadata": {},
   "outputs": [
    {
     "data": {
      "text/html": [
       "<ol class=list-inline>\n",
       "\t<li>'Zebra'</li>\n",
       "\t<li>'Pantera'</li>\n",
       "\t<li>'Rinoceronte'</li>\n",
       "\t<li>'Macaco'</li>\n",
       "\t<li>'Tigre'</li>\n",
       "</ol>\n"
      ],
      "text/latex": [
       "\\begin{enumerate*}\n",
       "\\item 'Zebra'\n",
       "\\item 'Pantera'\n",
       "\\item 'Rinoceronte'\n",
       "\\item 'Macaco'\n",
       "\\item 'Tigre'\n",
       "\\end{enumerate*}\n"
      ],
      "text/markdown": [
       "1. 'Zebra'\n",
       "2. 'Pantera'\n",
       "3. 'Rinoceronte'\n",
       "4. 'Macaco'\n",
       "5. 'Tigre'\n",
       "\n",
       "\n"
      ],
      "text/plain": [
       "[1] \"Zebra\"       \"Pantera\"     \"Rinoceronte\" \"Macaco\"      \"Tigre\"      "
      ]
     },
     "metadata": {},
     "output_type": "display_data"
    },
    {
     "data": {
      "text/html": [
       "'character'"
      ],
      "text/latex": [
       "'character'"
      ],
      "text/markdown": [
       "'character'"
      ],
      "text/plain": [
       "[1] \"character\""
      ]
     },
     "metadata": {},
     "output_type": "display_data"
    },
    {
     "data": {
      "text/html": [
       "<ol class=list-inline>\n",
       "\t<li>Zebra</li>\n",
       "\t<li>Pantera</li>\n",
       "\t<li>Rinoceronte</li>\n",
       "\t<li>Macaco</li>\n",
       "\t<li>Tigre</li>\n",
       "</ol>\n",
       "\n",
       "<details>\n",
       "\t<summary style=display:list-item;cursor:pointer>\n",
       "\t\t<strong>Levels</strong>:\n",
       "\t</summary>\n",
       "\t<ol class=list-inline>\n",
       "\t\t<li>'Macaco'</li>\n",
       "\t\t<li>'Pantera'</li>\n",
       "\t\t<li>'Rinoceronte'</li>\n",
       "\t\t<li>'Tigre'</li>\n",
       "\t\t<li>'Zebra'</li>\n",
       "\t</ol>\n",
       "</details>"
      ],
      "text/latex": [
       "\\begin{enumerate*}\n",
       "\\item Zebra\n",
       "\\item Pantera\n",
       "\\item Rinoceronte\n",
       "\\item Macaco\n",
       "\\item Tigre\n",
       "\\end{enumerate*}\n",
       "\n",
       "\\emph{Levels}: \\begin{enumerate*}\n",
       "\\item 'Macaco'\n",
       "\\item 'Pantera'\n",
       "\\item 'Rinoceronte'\n",
       "\\item 'Tigre'\n",
       "\\item 'Zebra'\n",
       "\\end{enumerate*}\n"
      ],
      "text/markdown": [
       "1. Zebra\n",
       "2. Pantera\n",
       "3. Rinoceronte\n",
       "4. Macaco\n",
       "5. Tigre\n",
       "\n",
       "\n",
       "\n",
       "**Levels**: 1. 'Macaco'\n",
       "2. 'Pantera'\n",
       "3. 'Rinoceronte'\n",
       "4. 'Tigre'\n",
       "5. 'Zebra'\n",
       "\n",
       "\n"
      ],
      "text/plain": [
       "[1] Zebra       Pantera     Rinoceronte Macaco      Tigre      \n",
       "Levels: Macaco Pantera Rinoceronte Tigre Zebra"
      ]
     },
     "metadata": {},
     "output_type": "display_data"
    },
    {
     "data": {
      "text/html": [
       "'factor'"
      ],
      "text/latex": [
       "'factor'"
      ],
      "text/markdown": [
       "'factor'"
      ],
      "text/plain": [
       "[1] \"factor\""
      ]
     },
     "metadata": {},
     "output_type": "display_data"
    },
    {
     "data": {
      "text/html": [
       "<ol class=list-inline>\n",
       "\t<li>'Macaco'</li>\n",
       "\t<li>'Pantera'</li>\n",
       "\t<li>'Rinoceronte'</li>\n",
       "\t<li>'Tigre'</li>\n",
       "\t<li>'Zebra'</li>\n",
       "</ol>\n"
      ],
      "text/latex": [
       "\\begin{enumerate*}\n",
       "\\item 'Macaco'\n",
       "\\item 'Pantera'\n",
       "\\item 'Rinoceronte'\n",
       "\\item 'Tigre'\n",
       "\\item 'Zebra'\n",
       "\\end{enumerate*}\n"
      ],
      "text/markdown": [
       "1. 'Macaco'\n",
       "2. 'Pantera'\n",
       "3. 'Rinoceronte'\n",
       "4. 'Tigre'\n",
       "5. 'Zebra'\n",
       "\n",
       "\n"
      ],
      "text/plain": [
       "[1] \"Macaco\"      \"Pantera\"     \"Rinoceronte\" \"Tigre\"       \"Zebra\"      "
      ]
     },
     "metadata": {},
     "output_type": "display_data"
    }
   ],
   "source": [
    "# Variáveis categóricas nominais\n",
    "# Não existe uma ordem implícita\n",
    "animais <- c(\"Zebra\", \"Pantera\", \"Rinoceronte\", \"Macaco\", \"Tigre\")\n",
    "animais\n",
    "class(animais)\n",
    "fac_animais <- factor(animais)\n",
    "fac_animais\n",
    "class(fac_animais)\n",
    "levels(fac_animais)"
   ]
  },
  {
   "cell_type": "code",
   "execution_count": 3,
   "metadata": {},
   "outputs": [
    {
     "data": {
      "text/html": [
       "<ol class=list-inline>\n",
       "\t<li>'Mestrado'</li>\n",
       "\t<li>'Doutorado'</li>\n",
       "\t<li>'Bacharelado'</li>\n",
       "\t<li>'Mestrado'</li>\n",
       "\t<li>'Mestrado'</li>\n",
       "</ol>\n"
      ],
      "text/latex": [
       "\\begin{enumerate*}\n",
       "\\item 'Mestrado'\n",
       "\\item 'Doutorado'\n",
       "\\item 'Bacharelado'\n",
       "\\item 'Mestrado'\n",
       "\\item 'Mestrado'\n",
       "\\end{enumerate*}\n"
      ],
      "text/markdown": [
       "1. 'Mestrado'\n",
       "2. 'Doutorado'\n",
       "3. 'Bacharelado'\n",
       "4. 'Mestrado'\n",
       "5. 'Mestrado'\n",
       "\n",
       "\n"
      ],
      "text/plain": [
       "[1] \"Mestrado\"    \"Doutorado\"   \"Bacharelado\" \"Mestrado\"    \"Mestrado\"   "
      ]
     },
     "metadata": {},
     "output_type": "display_data"
    },
    {
     "data": {
      "text/html": [
       "<ol class=list-inline>\n",
       "\t<li>Mestrado</li>\n",
       "\t<li>Doutorado</li>\n",
       "\t<li>Bacharelado</li>\n",
       "\t<li>Mestrado</li>\n",
       "\t<li>Mestrado</li>\n",
       "</ol>\n",
       "\n",
       "<details>\n",
       "\t<summary style=display:list-item;cursor:pointer>\n",
       "\t\t<strong>Levels</strong>:\n",
       "\t</summary>\n",
       "\t<ol class=list-inline>\n",
       "\t\t<li>'Doutorado'</li>\n",
       "\t\t<li>'Mestrado'</li>\n",
       "\t\t<li>'Bacharelado'</li>\n",
       "\t</ol>\n",
       "</details>"
      ],
      "text/latex": [
       "\\begin{enumerate*}\n",
       "\\item Mestrado\n",
       "\\item Doutorado\n",
       "\\item Bacharelado\n",
       "\\item Mestrado\n",
       "\\item Mestrado\n",
       "\\end{enumerate*}\n",
       "\n",
       "\\emph{Levels}: \\begin{enumerate*}\n",
       "\\item 'Doutorado'\n",
       "\\item 'Mestrado'\n",
       "\\item 'Bacharelado'\n",
       "\\end{enumerate*}\n"
      ],
      "text/markdown": [
       "1. Mestrado\n",
       "2. Doutorado\n",
       "3. Bacharelado\n",
       "4. Mestrado\n",
       "5. Mestrado\n",
       "\n",
       "\n",
       "\n",
       "**Levels**: 1. 'Doutorado'\n",
       "2. 'Mestrado'\n",
       "3. 'Bacharelado'\n",
       "\n",
       "\n"
      ],
      "text/plain": [
       "[1] Mestrado    Doutorado   Bacharelado Mestrado    Mestrado   \n",
       "Levels: Doutorado < Mestrado < Bacharelado"
      ]
     },
     "metadata": {},
     "output_type": "display_data"
    },
    {
     "data": {
      "text/html": [
       "<ol class=list-inline>\n",
       "\t<li>'Doutorado'</li>\n",
       "\t<li>'Mestrado'</li>\n",
       "\t<li>'Bacharelado'</li>\n",
       "</ol>\n"
      ],
      "text/latex": [
       "\\begin{enumerate*}\n",
       "\\item 'Doutorado'\n",
       "\\item 'Mestrado'\n",
       "\\item 'Bacharelado'\n",
       "\\end{enumerate*}\n"
      ],
      "text/markdown": [
       "1. 'Doutorado'\n",
       "2. 'Mestrado'\n",
       "3. 'Bacharelado'\n",
       "\n",
       "\n"
      ],
      "text/plain": [
       "[1] \"Doutorado\"   \"Mestrado\"    \"Bacharelado\""
      ]
     },
     "metadata": {},
     "output_type": "display_data"
    }
   ],
   "source": [
    "# Variáveis categóricas ordinais\n",
    "# Possuem uma ordem natural\n",
    "grad <- c(\"Mestrado\", \"Doutorado\", \"Bacharelado\", \"Mestrado\", \"Mestrado\")\n",
    "grad\n",
    "fac_grad <- factor(grad, order = TRUE, levels = c(\"Doutorado\", \"Mestrado\", \"Bacharelado\"))\n",
    "fac_grad\n",
    "levels(fac_grad)"
   ]
  },
  {
   "cell_type": "code",
   "execution_count": 4,
   "metadata": {},
   "outputs": [
    {
     "data": {
      "text/html": [
       "<dl class=dl-horizontal>\n",
       "\t<dt>Doutorado</dt>\n",
       "\t\t<dd>1</dd>\n",
       "\t<dt>Mestrado</dt>\n",
       "\t\t<dd>3</dd>\n",
       "\t<dt>Bacharelado</dt>\n",
       "\t\t<dd>1</dd>\n",
       "</dl>\n"
      ],
      "text/latex": [
       "\\begin{description*}\n",
       "\\item[Doutorado] 1\n",
       "\\item[Mestrado] 3\n",
       "\\item[Bacharelado] 1\n",
       "\\end{description*}\n"
      ],
      "text/markdown": [
       "Doutorado\n",
       ":   1Mestrado\n",
       ":   3Bacharelado\n",
       ":   1\n",
       "\n"
      ],
      "text/plain": [
       "  Doutorado    Mestrado Bacharelado \n",
       "          1           3           1 "
      ]
     },
     "metadata": {},
     "output_type": "display_data"
    },
    {
     "data": {
      "text/plain": [
       "   Length     Class      Mode \n",
       "        5 character character "
      ]
     },
     "metadata": {},
     "output_type": "display_data"
    }
   ],
   "source": [
    "# Sumarizar os dados fornece uma visão geral sobre o conteúdo das variáveis\n",
    "summary(fac_grad)\n",
    "summary(grad)"
   ]
  },
  {
   "cell_type": "code",
   "execution_count": 5,
   "metadata": {},
   "outputs": [
    {
     "data": {
      "text/html": [
       "<ol class=list-inline>\n",
       "\t<li>'M'</li>\n",
       "\t<li>'F'</li>\n",
       "\t<li>'F'</li>\n",
       "\t<li>'M'</li>\n",
       "\t<li>'M'</li>\n",
       "\t<li>'M'</li>\n",
       "\t<li>'F'</li>\n",
       "\t<li>'F'</li>\n",
       "\t<li>'M'</li>\n",
       "\t<li>'M'</li>\n",
       "\t<li>'M'</li>\n",
       "\t<li>'F'</li>\n",
       "\t<li>'F'</li>\n",
       "\t<li>'M'</li>\n",
       "\t<li>'M'</li>\n",
       "</ol>\n"
      ],
      "text/latex": [
       "\\begin{enumerate*}\n",
       "\\item 'M'\n",
       "\\item 'F'\n",
       "\\item 'F'\n",
       "\\item 'M'\n",
       "\\item 'M'\n",
       "\\item 'M'\n",
       "\\item 'F'\n",
       "\\item 'F'\n",
       "\\item 'M'\n",
       "\\item 'M'\n",
       "\\item 'M'\n",
       "\\item 'F'\n",
       "\\item 'F'\n",
       "\\item 'M'\n",
       "\\item 'M'\n",
       "\\end{enumerate*}\n"
      ],
      "text/markdown": [
       "1. 'M'\n",
       "2. 'F'\n",
       "3. 'F'\n",
       "4. 'M'\n",
       "5. 'M'\n",
       "6. 'M'\n",
       "7. 'F'\n",
       "8. 'F'\n",
       "9. 'M'\n",
       "10. 'M'\n",
       "11. 'M'\n",
       "12. 'F'\n",
       "13. 'F'\n",
       "14. 'M'\n",
       "15. 'M'\n",
       "\n",
       "\n"
      ],
      "text/plain": [
       " [1] \"M\" \"F\" \"F\" \"M\" \"M\" \"M\" \"F\" \"F\" \"M\" \"M\" \"M\" \"F\" \"F\" \"M\" \"M\""
      ]
     },
     "metadata": {},
     "output_type": "display_data"
    },
    {
     "data": {
      "text/html": [
       "<ol class=list-inline>\n",
       "\t<li>M</li>\n",
       "\t<li>F</li>\n",
       "\t<li>F</li>\n",
       "\t<li>M</li>\n",
       "\t<li>M</li>\n",
       "\t<li>M</li>\n",
       "\t<li>F</li>\n",
       "\t<li>F</li>\n",
       "\t<li>M</li>\n",
       "\t<li>M</li>\n",
       "\t<li>M</li>\n",
       "\t<li>F</li>\n",
       "\t<li>F</li>\n",
       "\t<li>M</li>\n",
       "\t<li>M</li>\n",
       "</ol>\n",
       "\n",
       "<details>\n",
       "\t<summary style=display:list-item;cursor:pointer>\n",
       "\t\t<strong>Levels</strong>:\n",
       "\t</summary>\n",
       "\t<ol class=list-inline>\n",
       "\t\t<li>'F'</li>\n",
       "\t\t<li>'M'</li>\n",
       "\t</ol>\n",
       "</details>"
      ],
      "text/latex": [
       "\\begin{enumerate*}\n",
       "\\item M\n",
       "\\item F\n",
       "\\item F\n",
       "\\item M\n",
       "\\item M\n",
       "\\item M\n",
       "\\item F\n",
       "\\item F\n",
       "\\item M\n",
       "\\item M\n",
       "\\item M\n",
       "\\item F\n",
       "\\item F\n",
       "\\item M\n",
       "\\item M\n",
       "\\end{enumerate*}\n",
       "\n",
       "\\emph{Levels}: \\begin{enumerate*}\n",
       "\\item 'F'\n",
       "\\item 'M'\n",
       "\\end{enumerate*}\n"
      ],
      "text/markdown": [
       "1. M\n",
       "2. F\n",
       "3. F\n",
       "4. M\n",
       "5. M\n",
       "6. M\n",
       "7. F\n",
       "8. F\n",
       "9. M\n",
       "10. M\n",
       "11. M\n",
       "12. F\n",
       "13. F\n",
       "14. M\n",
       "15. M\n",
       "\n",
       "\n",
       "\n",
       "**Levels**: 1. 'F'\n",
       "2. 'M'\n",
       "\n",
       "\n"
      ],
      "text/plain": [
       " [1] M F F M M M F F M M M F F M M\n",
       "Levels: F M"
      ]
     },
     "metadata": {},
     "output_type": "display_data"
    },
    {
     "data": {
      "text/html": [
       "<ol class=list-inline>\n",
       "\t<li>Macho</li>\n",
       "\t<li>Femea</li>\n",
       "\t<li>Femea</li>\n",
       "\t<li>Macho</li>\n",
       "\t<li>Macho</li>\n",
       "\t<li>Macho</li>\n",
       "\t<li>Femea</li>\n",
       "\t<li>Femea</li>\n",
       "\t<li>Macho</li>\n",
       "\t<li>Macho</li>\n",
       "\t<li>Macho</li>\n",
       "\t<li>Femea</li>\n",
       "\t<li>Femea</li>\n",
       "\t<li>Macho</li>\n",
       "\t<li>Macho</li>\n",
       "</ol>\n",
       "\n",
       "<details>\n",
       "\t<summary style=display:list-item;cursor:pointer>\n",
       "\t\t<strong>Levels</strong>:\n",
       "\t</summary>\n",
       "\t<ol class=list-inline>\n",
       "\t\t<li>'Femea'</li>\n",
       "\t\t<li>'Macho'</li>\n",
       "\t</ol>\n",
       "</details>"
      ],
      "text/latex": [
       "\\begin{enumerate*}\n",
       "\\item Macho\n",
       "\\item Femea\n",
       "\\item Femea\n",
       "\\item Macho\n",
       "\\item Macho\n",
       "\\item Macho\n",
       "\\item Femea\n",
       "\\item Femea\n",
       "\\item Macho\n",
       "\\item Macho\n",
       "\\item Macho\n",
       "\\item Femea\n",
       "\\item Femea\n",
       "\\item Macho\n",
       "\\item Macho\n",
       "\\end{enumerate*}\n",
       "\n",
       "\\emph{Levels}: \\begin{enumerate*}\n",
       "\\item 'Femea'\n",
       "\\item 'Macho'\n",
       "\\end{enumerate*}\n"
      ],
      "text/markdown": [
       "1. Macho\n",
       "2. Femea\n",
       "3. Femea\n",
       "4. Macho\n",
       "5. Macho\n",
       "6. Macho\n",
       "7. Femea\n",
       "8. Femea\n",
       "9. Macho\n",
       "10. Macho\n",
       "11. Macho\n",
       "12. Femea\n",
       "13. Femea\n",
       "14. Macho\n",
       "15. Macho\n",
       "\n",
       "\n",
       "\n",
       "**Levels**: 1. 'Femea'\n",
       "2. 'Macho'\n",
       "\n",
       "\n"
      ],
      "text/plain": [
       " [1] Macho Femea Femea Macho Macho Macho Femea Femea Macho Macho Macho Femea\n",
       "[13] Femea Macho Macho\n",
       "Levels: Femea Macho"
      ]
     },
     "metadata": {},
     "output_type": "display_data"
    },
    {
     "data": {
      "text/html": [
       "<dl class=dl-horizontal>\n",
       "\t<dt>Femea</dt>\n",
       "\t\t<dd>6</dd>\n",
       "\t<dt>Macho</dt>\n",
       "\t\t<dd>9</dd>\n",
       "</dl>\n"
      ],
      "text/latex": [
       "\\begin{description*}\n",
       "\\item[Femea] 6\n",
       "\\item[Macho] 9\n",
       "\\end{description*}\n"
      ],
      "text/markdown": [
       "Femea\n",
       ":   6Macho\n",
       ":   9\n",
       "\n"
      ],
      "text/plain": [
       "Femea Macho \n",
       "    6     9 "
      ]
     },
     "metadata": {},
     "output_type": "display_data"
    },
    {
     "data": {
      "text/plain": [
       "   Length     Class      Mode \n",
       "       15 character character "
      ]
     },
     "metadata": {},
     "output_type": "display_data"
    }
   ],
   "source": [
    "vec2 <- c(\"M\", \"F\", \"F\", \"M\", \"M\", \"M\", \"F\", \"F\", \"M\", \"M\", \"M\", \"F\", \"F\", \"M\", \"M\")\n",
    "vec2\n",
    "fac_vec2 <- factor(vec2)\n",
    "fac_vec2\n",
    "levels(fac_vec2) <- c(\"Femea\", \"Macho\")\n",
    "fac_vec2\n",
    "summary(fac_vec2)\n",
    "summary(vec2)"
   ]
  },
  {
   "cell_type": "code",
   "execution_count": 6,
   "metadata": {},
   "outputs": [
    {
     "data": {
      "text/html": [
       "<ol class=list-inline>\n",
       "\t<li>1</li>\n",
       "\t<li>2</li>\n",
       "\t<li>2</li>\n",
       "\t<li>3</li>\n",
       "\t<li>1</li>\n",
       "\t<li>2</li>\n",
       "\t<li>3</li>\n",
       "\t<li>3</li>\n",
       "\t<li>1</li>\n",
       "\t<li>2</li>\n",
       "\t<li>3</li>\n",
       "\t<li>3</li>\n",
       "\t<li>1</li>\n",
       "</ol>\n",
       "\n",
       "<details>\n",
       "\t<summary style=display:list-item;cursor:pointer>\n",
       "\t\t<strong>Levels</strong>:\n",
       "\t</summary>\n",
       "\t<ol class=list-inline>\n",
       "\t\t<li>'1'</li>\n",
       "\t\t<li>'2'</li>\n",
       "\t\t<li>'3'</li>\n",
       "\t</ol>\n",
       "</details>"
      ],
      "text/latex": [
       "\\begin{enumerate*}\n",
       "\\item 1\n",
       "\\item 2\n",
       "\\item 2\n",
       "\\item 3\n",
       "\\item 1\n",
       "\\item 2\n",
       "\\item 3\n",
       "\\item 3\n",
       "\\item 1\n",
       "\\item 2\n",
       "\\item 3\n",
       "\\item 3\n",
       "\\item 1\n",
       "\\end{enumerate*}\n",
       "\n",
       "\\emph{Levels}: \\begin{enumerate*}\n",
       "\\item '1'\n",
       "\\item '2'\n",
       "\\item '3'\n",
       "\\end{enumerate*}\n"
      ],
      "text/markdown": [
       "1. 1\n",
       "2. 2\n",
       "3. 2\n",
       "4. 3\n",
       "5. 1\n",
       "6. 2\n",
       "7. 3\n",
       "8. 3\n",
       "9. 1\n",
       "10. 2\n",
       "11. 3\n",
       "12. 3\n",
       "13. 1\n",
       "\n",
       "\n",
       "\n",
       "**Levels**: 1. '1'\n",
       "2. '2'\n",
       "3. '3'\n",
       "\n",
       "\n"
      ],
      "text/plain": [
       " [1] 1 2 2 3 1 2 3 3 1 2 3 3 1\n",
       "Levels: 1 2 3"
      ]
     },
     "metadata": {},
     "output_type": "display_data"
    }
   ],
   "source": [
    "# Mais exemplos\n",
    "data = c(1,2,2,3,1,2,3,3,1,2,3,3,1)\n",
    "fdata = factor(data)\n",
    "fdata"
   ]
  },
  {
   "cell_type": "code",
   "execution_count": 7,
   "metadata": {},
   "outputs": [
    {
     "data": {
      "text/html": [
       "<ol class=list-inline>\n",
       "\t<li>I</li>\n",
       "\t<li>II</li>\n",
       "\t<li>II</li>\n",
       "\t<li>III</li>\n",
       "\t<li>I</li>\n",
       "\t<li>II</li>\n",
       "\t<li>III</li>\n",
       "\t<li>III</li>\n",
       "\t<li>I</li>\n",
       "\t<li>II</li>\n",
       "\t<li>III</li>\n",
       "\t<li>III</li>\n",
       "\t<li>I</li>\n",
       "</ol>\n",
       "\n",
       "<details>\n",
       "\t<summary style=display:list-item;cursor:pointer>\n",
       "\t\t<strong>Levels</strong>:\n",
       "\t</summary>\n",
       "\t<ol class=list-inline>\n",
       "\t\t<li>'I'</li>\n",
       "\t\t<li>'II'</li>\n",
       "\t\t<li>'III'</li>\n",
       "\t</ol>\n",
       "</details>"
      ],
      "text/latex": [
       "\\begin{enumerate*}\n",
       "\\item I\n",
       "\\item II\n",
       "\\item II\n",
       "\\item III\n",
       "\\item I\n",
       "\\item II\n",
       "\\item III\n",
       "\\item III\n",
       "\\item I\n",
       "\\item II\n",
       "\\item III\n",
       "\\item III\n",
       "\\item I\n",
       "\\end{enumerate*}\n",
       "\n",
       "\\emph{Levels}: \\begin{enumerate*}\n",
       "\\item 'I'\n",
       "\\item 'II'\n",
       "\\item 'III'\n",
       "\\end{enumerate*}\n"
      ],
      "text/markdown": [
       "1. I\n",
       "2. II\n",
       "3. II\n",
       "4. III\n",
       "5. I\n",
       "6. II\n",
       "7. III\n",
       "8. III\n",
       "9. I\n",
       "10. II\n",
       "11. III\n",
       "12. III\n",
       "13. I\n",
       "\n",
       "\n",
       "\n",
       "**Levels**: 1. 'I'\n",
       "2. 'II'\n",
       "3. 'III'\n",
       "\n",
       "\n"
      ],
      "text/plain": [
       " [1] I   II  II  III I   II  III III I   II  III III I  \n",
       "Levels: I II III"
      ]
     },
     "metadata": {},
     "output_type": "display_data"
    }
   ],
   "source": [
    "rdata = factor(data, labels = c(\"I\",\"II\",\"III\"))\n",
    "rdata"
   ]
  },
  {
   "cell_type": "code",
   "execution_count": 8,
   "metadata": {},
   "outputs": [
    {
     "data": {
      "text/html": [
       "<ol class=list-inline>\n",
       "\t<li>'AA'</li>\n",
       "\t<li>'B'</li>\n",
       "\t<li>'BA'</li>\n",
       "\t<li>'CC'</li>\n",
       "\t<li>'CA'</li>\n",
       "\t<li>'AA'</li>\n",
       "\t<li>'BA'</li>\n",
       "\t<li>'CC'</li>\n",
       "\t<li>'CC'</li>\n",
       "</ol>\n"
      ],
      "text/latex": [
       "\\begin{enumerate*}\n",
       "\\item 'AA'\n",
       "\\item 'B'\n",
       "\\item 'BA'\n",
       "\\item 'CC'\n",
       "\\item 'CA'\n",
       "\\item 'AA'\n",
       "\\item 'BA'\n",
       "\\item 'CC'\n",
       "\\item 'CC'\n",
       "\\end{enumerate*}\n"
      ],
      "text/markdown": [
       "1. 'AA'\n",
       "2. 'B'\n",
       "3. 'BA'\n",
       "4. 'CC'\n",
       "5. 'CA'\n",
       "6. 'AA'\n",
       "7. 'BA'\n",
       "8. 'CC'\n",
       "9. 'CC'\n",
       "\n",
       "\n"
      ],
      "text/plain": [
       "[1] \"AA\" \"B\"  \"BA\" \"CC\" \"CA\" \"AA\" \"BA\" \"CC\" \"CC\""
      ]
     },
     "metadata": {},
     "output_type": "display_data"
    }
   ],
   "source": [
    "# Fatores Não-Ordenados\n",
    "set1 <- c(\"AA\", \"B\", \"BA\", \"CC\", \"CA\", \"AA\", \"BA\", \"CC\", \"CC\")\n",
    "set1"
   ]
  },
  {
   "cell_type": "code",
   "execution_count": 9,
   "metadata": {},
   "outputs": [
    {
     "data": {
      "text/html": [
       "<ol class=list-inline>\n",
       "\t<li>AA</li>\n",
       "\t<li>B</li>\n",
       "\t<li>BA</li>\n",
       "\t<li>CC</li>\n",
       "\t<li>CA</li>\n",
       "\t<li>AA</li>\n",
       "\t<li>BA</li>\n",
       "\t<li>CC</li>\n",
       "\t<li>CC</li>\n",
       "</ol>\n",
       "\n",
       "<details>\n",
       "\t<summary style=display:list-item;cursor:pointer>\n",
       "\t\t<strong>Levels</strong>:\n",
       "\t</summary>\n",
       "\t<ol class=list-inline>\n",
       "\t\t<li>'AA'</li>\n",
       "\t\t<li>'B'</li>\n",
       "\t\t<li>'BA'</li>\n",
       "\t\t<li>'CA'</li>\n",
       "\t\t<li>'CC'</li>\n",
       "\t</ol>\n",
       "</details>"
      ],
      "text/latex": [
       "\\begin{enumerate*}\n",
       "\\item AA\n",
       "\\item B\n",
       "\\item BA\n",
       "\\item CC\n",
       "\\item CA\n",
       "\\item AA\n",
       "\\item BA\n",
       "\\item CC\n",
       "\\item CC\n",
       "\\end{enumerate*}\n",
       "\n",
       "\\emph{Levels}: \\begin{enumerate*}\n",
       "\\item 'AA'\n",
       "\\item 'B'\n",
       "\\item 'BA'\n",
       "\\item 'CA'\n",
       "\\item 'CC'\n",
       "\\end{enumerate*}\n"
      ],
      "text/markdown": [
       "1. AA\n",
       "2. B\n",
       "3. BA\n",
       "4. CC\n",
       "5. CA\n",
       "6. AA\n",
       "7. BA\n",
       "8. CC\n",
       "9. CC\n",
       "\n",
       "\n",
       "\n",
       "**Levels**: 1. 'AA'\n",
       "2. 'B'\n",
       "3. 'BA'\n",
       "4. 'CA'\n",
       "5. 'CC'\n",
       "\n",
       "\n"
      ],
      "text/plain": [
       "[1] AA B  BA CC CA AA BA CC CC\n",
       "Levels: AA B BA CA CC"
      ]
     },
     "metadata": {},
     "output_type": "display_data"
    },
    {
     "data": {
      "text/html": [
       "'factor'"
      ],
      "text/latex": [
       "'factor'"
      ],
      "text/markdown": [
       "'factor'"
      ],
      "text/plain": [
       "[1] \"factor\""
      ]
     },
     "metadata": {},
     "output_type": "display_data"
    },
    {
     "data": {
      "text/html": [
       "FALSE"
      ],
      "text/latex": [
       "FALSE"
      ],
      "text/markdown": [
       "FALSE"
      ],
      "text/plain": [
       "[1] FALSE"
      ]
     },
     "metadata": {},
     "output_type": "display_data"
    }
   ],
   "source": [
    "# Transformando os dados. \n",
    "# R apenas criou os níveis, o que não significa que exista uma hierarquia.\n",
    "f.set1 <- factor(set1)\n",
    "f.set1\n",
    "class(f.set1)\n",
    "is.ordered(f.set1)"
   ]
  },
  {
   "cell_type": "code",
   "execution_count": 10,
   "metadata": {},
   "outputs": [],
   "source": [
    "# Fatores Ordenados\n",
    "o.set1 <- factor(set1, \n",
    "                 levels = c(\"CA\", \"BA\", \"AA\", \"CC\", \"B\"), \n",
    "                 ordered = TRUE)"
   ]
  },
  {
   "cell_type": "code",
   "execution_count": 11,
   "metadata": {},
   "outputs": [
    {
     "data": {
      "text/html": [
       "<ol class=list-inline>\n",
       "\t<li>AA</li>\n",
       "\t<li>B</li>\n",
       "\t<li>BA</li>\n",
       "\t<li>CC</li>\n",
       "\t<li>CA</li>\n",
       "\t<li>AA</li>\n",
       "\t<li>BA</li>\n",
       "\t<li>CC</li>\n",
       "\t<li>CC</li>\n",
       "</ol>\n",
       "\n",
       "<details>\n",
       "\t<summary style=display:list-item;cursor:pointer>\n",
       "\t\t<strong>Levels</strong>:\n",
       "\t</summary>\n",
       "\t<ol class=list-inline>\n",
       "\t\t<li>'CA'</li>\n",
       "\t\t<li>'BA'</li>\n",
       "\t\t<li>'AA'</li>\n",
       "\t\t<li>'CC'</li>\n",
       "\t\t<li>'B'</li>\n",
       "\t</ol>\n",
       "</details>"
      ],
      "text/latex": [
       "\\begin{enumerate*}\n",
       "\\item AA\n",
       "\\item B\n",
       "\\item BA\n",
       "\\item CC\n",
       "\\item CA\n",
       "\\item AA\n",
       "\\item BA\n",
       "\\item CC\n",
       "\\item CC\n",
       "\\end{enumerate*}\n",
       "\n",
       "\\emph{Levels}: \\begin{enumerate*}\n",
       "\\item 'CA'\n",
       "\\item 'BA'\n",
       "\\item 'AA'\n",
       "\\item 'CC'\n",
       "\\item 'B'\n",
       "\\end{enumerate*}\n"
      ],
      "text/markdown": [
       "1. AA\n",
       "2. B\n",
       "3. BA\n",
       "4. CC\n",
       "5. CA\n",
       "6. AA\n",
       "7. BA\n",
       "8. CC\n",
       "9. CC\n",
       "\n",
       "\n",
       "\n",
       "**Levels**: 1. 'CA'\n",
       "2. 'BA'\n",
       "3. 'AA'\n",
       "4. 'CC'\n",
       "5. 'B'\n",
       "\n",
       "\n"
      ],
      "text/plain": [
       "[1] AA B  BA CC CA AA BA CC CC\n",
       "Levels: CA < BA < AA < CC < B"
      ]
     },
     "metadata": {},
     "output_type": "display_data"
    },
    {
     "data": {
      "text/html": [
       "TRUE"
      ],
      "text/latex": [
       "TRUE"
      ],
      "text/markdown": [
       "TRUE"
      ],
      "text/plain": [
       "[1] TRUE"
      ]
     },
     "metadata": {},
     "output_type": "display_data"
    },
    {
     "data": {
      "text/html": [
       "<ol class=list-inline>\n",
       "\t<li>3</li>\n",
       "\t<li>5</li>\n",
       "\t<li>2</li>\n",
       "\t<li>4</li>\n",
       "\t<li>1</li>\n",
       "\t<li>3</li>\n",
       "\t<li>2</li>\n",
       "\t<li>4</li>\n",
       "\t<li>4</li>\n",
       "</ol>\n"
      ],
      "text/latex": [
       "\\begin{enumerate*}\n",
       "\\item 3\n",
       "\\item 5\n",
       "\\item 2\n",
       "\\item 4\n",
       "\\item 1\n",
       "\\item 3\n",
       "\\item 2\n",
       "\\item 4\n",
       "\\item 4\n",
       "\\end{enumerate*}\n"
      ],
      "text/markdown": [
       "1. 3\n",
       "2. 5\n",
       "3. 2\n",
       "4. 4\n",
       "5. 1\n",
       "6. 3\n",
       "7. 2\n",
       "8. 4\n",
       "9. 4\n",
       "\n",
       "\n"
      ],
      "text/plain": [
       "[1] 3 5 2 4 1 3 2 4 4"
      ]
     },
     "metadata": {},
     "output_type": "display_data"
    },
    {
     "data": {
      "text/plain": [
       "o.set1\n",
       "CA BA AA CC  B \n",
       " 1  2  2  3  1 "
      ]
     },
     "metadata": {},
     "output_type": "display_data"
    }
   ],
   "source": [
    "o.set1\n",
    "is.ordered(o.set1)\n",
    "\n",
    "as.numeric(o.set1)\n",
    "table(o.set1)"
   ]
  },
  {
   "cell_type": "code",
   "execution_count": 15,
   "metadata": {},
   "outputs": [
    {
     "ename": "ERROR",
     "evalue": "Error in View(df): 'View()' not yet supported in the Jupyter R kernel\n",
     "execution_count": 15,
     "output_type": "error",
     "traceback": [
      "Error in View(df): 'View()' not yet supported in the Jupyter R kernel\nTraceback:\n",
      "1. View(df)",
      "2. stop(sQuote(\"View()\"), \" not yet supported in the Jupyter R kernel\")"
     ]
    }
   ],
   "source": [
    "# Fatores e Dataframes\n",
    "df <- read.csv2(\"etnias.csv\", sep = ',')\n",
    "View(df)"
   ]
  },
  {
   "cell_type": "code",
   "execution_count": 16,
   "metadata": {},
   "outputs": [
    {
     "name": "stdout",
     "output_type": "stream",
     "text": [
      "'data.frame':\t11 obs. of  7 variables:\n",
      " $ Codigo      : int  1000 1001 1002 1003 1004 1005 1006 1007 1008 1009 ...\n",
      " $ Sexo        : Factor w/ 2 levels \"F\",\"M\": 2 1 1 1 2 2 1 2 1 2 ...\n",
      " $ Idade       : int  35 23 34 76 58 43 42 29 23 67 ...\n",
      " $ Peso        : int  89 70 64 58 56 63 62 120 88 81 ...\n",
      " $ Altura      : int  175 160 161 167 159 167 172 190 189 186 ...\n",
      " $ Estado_Civil: int  0 1 1 2 0 0 2 1 1 1 ...\n",
      " $ Etnia       : Factor w/ 3 levels \"Branco\",\"Negro\",..: 1 3 3 2 1 1 2 3 3 1 ...\n"
     ]
    }
   ],
   "source": [
    "# Variáveis do tipo fator\n",
    "str(df)"
   ]
  },
  {
   "cell_type": "code",
   "execution_count": 17,
   "metadata": {},
   "outputs": [
    {
     "data": {
      "text/html": [
       "<ol class=list-inline>\n",
       "\t<li>'Branco'</li>\n",
       "\t<li>'Negro'</li>\n",
       "\t<li>'Pardo'</li>\n",
       "</ol>\n"
      ],
      "text/latex": [
       "\\begin{enumerate*}\n",
       "\\item 'Branco'\n",
       "\\item 'Negro'\n",
       "\\item 'Pardo'\n",
       "\\end{enumerate*}\n"
      ],
      "text/markdown": [
       "1. 'Branco'\n",
       "2. 'Negro'\n",
       "3. 'Pardo'\n",
       "\n",
       "\n"
      ],
      "text/plain": [
       "[1] \"Branco\" \"Negro\"  \"Pardo\" "
      ]
     },
     "metadata": {},
     "output_type": "display_data"
    },
    {
     "data": {
      "text/html": [
       "<dl class=dl-horizontal>\n",
       "\t<dt>Branco</dt>\n",
       "\t\t<dd>5</dd>\n",
       "\t<dt>Negro</dt>\n",
       "\t\t<dd>2</dd>\n",
       "\t<dt>Pardo</dt>\n",
       "\t\t<dd>4</dd>\n",
       "</dl>\n"
      ],
      "text/latex": [
       "\\begin{description*}\n",
       "\\item[Branco] 5\n",
       "\\item[Negro] 2\n",
       "\\item[Pardo] 4\n",
       "\\end{description*}\n"
      ],
      "text/markdown": [
       "Branco\n",
       ":   5Negro\n",
       ":   2Pardo\n",
       ":   4\n",
       "\n"
      ],
      "text/plain": [
       "Branco  Negro  Pardo \n",
       "     5      2      4 "
      ]
     },
     "metadata": {},
     "output_type": "display_data"
    }
   ],
   "source": [
    "# Níveis dos fatores\n",
    "# Internamente, o R armazena valores inteiros e faz um mapeamento para as strings (em ordem alfabética)\n",
    "# e agrupa as estatísticas por níveis. Agora, se fizermos sumarização de estatísticas, é possível visualizar \n",
    "# a contabilização para cada categoria\n",
    "levels(df$Etnia)\n",
    "summary(df$Etnia)"
   ]
  },
  {
   "cell_type": "code",
   "execution_count": 18,
   "metadata": {},
   "outputs": [
    {
     "data": {
      "image/png": "[encoded data removed]",
      "text/plain": [
       "Plot with title \"Idade por Etnia\""
      ]
     },
     "metadata": {},
     "output_type": "display_data",
     "source": "R display func"
    }
   ],
   "source": [
    "# Plot\n",
    "# Agora se fizermos um plot, temos um boxplot para estas variáveis categóricas\n",
    "plot(df$Idade~df$Etnia, xlab = 'Etnia', ylab = 'Idade', main = 'Idade por Etnia')"
   ]
  },
  {
   "cell_type": "code",
   "execution_count": 19,
   "metadata": {},
   "outputs": [
    {
     "data": {
      "text/plain": [
       "\n",
       "Call:\n",
       "lm(formula = Idade ~ Etnia, data = df)\n",
       "\n",
       "Residuals:\n",
       "    Min      1Q  Median      3Q     Max \n",
       "-17.200  -6.725   1.750   6.275  17.000 \n",
       "\n",
       "Coefficients:\n",
       "            Estimate Std. Error t value Pr(>|t|)    \n",
       "(Intercept)   52.200      5.765   9.054 1.77e-05 ***\n",
       "EtniaNegro     6.800     10.786   0.630   0.5460    \n",
       "EtniaPardo   -24.950      8.648  -2.885   0.0204 *  \n",
       "---\n",
       "Signif. codes:  0 '***' 0.001 '**' 0.01 '*' 0.05 '.' 0.1 ' ' 1\n",
       "\n",
       "Residual standard error: 12.89 on 8 degrees of freedom\n",
       "Multiple R-squared:  0.5892,\tAdjusted R-squared:  0.4865 \n",
       "F-statistic: 5.737 on 2 and 8 DF,  p-value: 0.02848\n"
      ]
     },
     "metadata": {},
     "output_type": "display_data"
    }
   ],
   "source": [
    "# Regressão\n",
    "summary(lm(Idade~Etnia, data = df))"
   ]
  },
  {
   "cell_type": "code",
   "execution_count": 20,
   "metadata": {},
   "outputs": [
    {
     "data": {
      "text/html": [
       "<table>\n",
       "<thead><tr><th scope=col>Codigo</th><th scope=col>Sexo</th><th scope=col>Idade</th><th scope=col>Peso</th><th scope=col>Altura</th><th scope=col>Estado_Civil</th><th scope=col>Etnia</th></tr></thead>\n",
       "<tbody>\n",
       "\t<tr><td>1000  </td><td>M     </td><td>35    </td><td> 89   </td><td>175   </td><td>0     </td><td>Branco</td></tr>\n",
       "\t<tr><td>1001  </td><td>F     </td><td>23    </td><td> 70   </td><td>160   </td><td>1     </td><td>Pardo </td></tr>\n",
       "\t<tr><td>1002  </td><td>F     </td><td>34    </td><td> 64   </td><td>161   </td><td>1     </td><td>Pardo </td></tr>\n",
       "\t<tr><td>1003  </td><td>F     </td><td>76    </td><td> 58   </td><td>167   </td><td>2     </td><td>Negro </td></tr>\n",
       "\t<tr><td>1004  </td><td>M     </td><td>58    </td><td> 56   </td><td>159   </td><td>0     </td><td>Branco</td></tr>\n",
       "\t<tr><td>1005  </td><td>M     </td><td>43    </td><td> 63   </td><td>167   </td><td>0     </td><td>Branco</td></tr>\n",
       "\t<tr><td>1006  </td><td>F     </td><td>42    </td><td> 62   </td><td>172   </td><td>2     </td><td>Negro </td></tr>\n",
       "\t<tr><td>1007  </td><td>M     </td><td>29    </td><td>120   </td><td>190   </td><td>1     </td><td>Pardo </td></tr>\n",
       "\t<tr><td>1008  </td><td>F     </td><td>23    </td><td> 88   </td><td>189   </td><td>1     </td><td>Pardo </td></tr>\n",
       "\t<tr><td>1009  </td><td>M     </td><td>67    </td><td> 81   </td><td>186   </td><td>1     </td><td>Branco</td></tr>\n",
       "\t<tr><td>1010  </td><td>M     </td><td>58    </td><td> 64   </td><td>175   </td><td>0     </td><td>Branco</td></tr>\n",
       "</tbody>\n",
       "</table>\n"
      ],
      "text/latex": [
       "\\begin{tabular}{r|lllllll}\n",
       " Codigo & Sexo & Idade & Peso & Altura & Estado\\_Civil & Etnia\\\\\n",
       "\\hline\n",
       "\t 1000   & M      & 35     &  89    & 175    & 0      & Branco\\\\\n",
       "\t 1001   & F      & 23     &  70    & 160    & 1      & Pardo \\\\\n",
       "\t 1002   & F      & 34     &  64    & 161    & 1      & Pardo \\\\\n",
       "\t 1003   & F      & 76     &  58    & 167    & 2      & Negro \\\\\n",
       "\t 1004   & M      & 58     &  56    & 159    & 0      & Branco\\\\\n",
       "\t 1005   & M      & 43     &  63    & 167    & 0      & Branco\\\\\n",
       "\t 1006   & F      & 42     &  62    & 172    & 2      & Negro \\\\\n",
       "\t 1007   & M      & 29     & 120    & 190    & 1      & Pardo \\\\\n",
       "\t 1008   & F      & 23     &  88    & 189    & 1      & Pardo \\\\\n",
       "\t 1009   & M      & 67     &  81    & 186    & 1      & Branco\\\\\n",
       "\t 1010   & M      & 58     &  64    & 175    & 0      & Branco\\\\\n",
       "\\end{tabular}\n"
      ],
      "text/markdown": [
       "\n",
       "Codigo | Sexo | Idade | Peso | Altura | Estado_Civil | Etnia | \n",
       "|---|---|---|---|---|---|---|---|---|---|---|\n",
       "| 1000   | M      | 35     |  89    | 175    | 0      | Branco | \n",
       "| 1001   | F      | 23     |  70    | 160    | 1      | Pardo  | \n",
       "| 1002   | F      | 34     |  64    | 161    | 1      | Pardo  | \n",
       "| 1003   | F      | 76     |  58    | 167    | 2      | Negro  | \n",
       "| 1004   | M      | 58     |  56    | 159    | 0      | Branco | \n",
       "| 1005   | M      | 43     |  63    | 167    | 0      | Branco | \n",
       "| 1006   | F      | 42     |  62    | 172    | 2      | Negro  | \n",
       "| 1007   | M      | 29     | 120    | 190    | 1      | Pardo  | \n",
       "| 1008   | F      | 23     |  88    | 189    | 1      | Pardo  | \n",
       "| 1009   | M      | 67     |  81    | 186    | 1      | Branco | \n",
       "| 1010   | M      | 58     |  64    | 175    | 0      | Branco | \n",
       "\n",
       "\n"
      ],
      "text/plain": [
       "   Codigo Sexo Idade Peso Altura Estado_Civil Etnia \n",
       "1  1000   M    35     89  175    0            Branco\n",
       "2  1001   F    23     70  160    1            Pardo \n",
       "3  1002   F    34     64  161    1            Pardo \n",
       "4  1003   F    76     58  167    2            Negro \n",
       "5  1004   M    58     56  159    0            Branco\n",
       "6  1005   M    43     63  167    0            Branco\n",
       "7  1006   F    42     62  172    2            Negro \n",
       "8  1007   M    29    120  190    1            Pardo \n",
       "9  1008   F    23     88  189    1            Pardo \n",
       "10 1009   M    67     81  186    1            Branco\n",
       "11 1010   M    58     64  175    0            Branco"
      ]
     },
     "metadata": {},
     "output_type": "display_data"
    },
    {
     "name": "stdout",
     "output_type": "stream",
     "text": [
      "'data.frame':\t11 obs. of  7 variables:\n",
      " $ Codigo      : int  1000 1001 1002 1003 1004 1005 1006 1007 1008 1009 ...\n",
      " $ Sexo        : Factor w/ 2 levels \"F\",\"M\": 2 1 1 1 2 2 1 2 1 2 ...\n",
      " $ Idade       : int  35 23 34 76 58 43 42 29 23 67 ...\n",
      " $ Peso        : int  89 70 64 58 56 63 62 120 88 81 ...\n",
      " $ Altura      : int  175 160 161 167 159 167 172 190 189 186 ...\n",
      " $ Estado_Civil: int  0 1 1 2 0 0 2 1 1 1 ...\n",
      " $ Etnia       : Factor w/ 3 levels \"Branco\",\"Negro\",..: 1 3 3 2 1 1 2 3 3 1 ...\n"
     ]
    },
    {
     "data": {
      "text/html": [
       "<table>\n",
       "<thead><tr><th scope=col>Codigo</th><th scope=col>Sexo</th><th scope=col>Idade</th><th scope=col>Peso</th><th scope=col>Altura</th><th scope=col>Estado_Civil</th><th scope=col>Etnia</th><th scope=col>Estado_Civil.cat</th></tr></thead>\n",
       "<tbody>\n",
       "\t<tr><td>1000      </td><td>M         </td><td>35        </td><td> 89       </td><td>175       </td><td>0         </td><td>Branco    </td><td>Solteiro  </td></tr>\n",
       "\t<tr><td>1001      </td><td>F         </td><td>23        </td><td> 70       </td><td>160       </td><td>1         </td><td>Pardo     </td><td>Casado    </td></tr>\n",
       "\t<tr><td>1002      </td><td>F         </td><td>34        </td><td> 64       </td><td>161       </td><td>1         </td><td>Pardo     </td><td>Casado    </td></tr>\n",
       "\t<tr><td>1003      </td><td>F         </td><td>76        </td><td> 58       </td><td>167       </td><td>2         </td><td>Negro     </td><td>Divorciado</td></tr>\n",
       "\t<tr><td>1004      </td><td>M         </td><td>58        </td><td> 56       </td><td>159       </td><td>0         </td><td>Branco    </td><td>Solteiro  </td></tr>\n",
       "\t<tr><td>1005      </td><td>M         </td><td>43        </td><td> 63       </td><td>167       </td><td>0         </td><td>Branco    </td><td>Solteiro  </td></tr>\n",
       "\t<tr><td>1006      </td><td>F         </td><td>42        </td><td> 62       </td><td>172       </td><td>2         </td><td>Negro     </td><td>Divorciado</td></tr>\n",
       "\t<tr><td>1007      </td><td>M         </td><td>29        </td><td>120       </td><td>190       </td><td>1         </td><td>Pardo     </td><td>Casado    </td></tr>\n",
       "\t<tr><td>1008      </td><td>F         </td><td>23        </td><td> 88       </td><td>189       </td><td>1         </td><td>Pardo     </td><td>Casado    </td></tr>\n",
       "\t<tr><td>1009      </td><td>M         </td><td>67        </td><td> 81       </td><td>186       </td><td>1         </td><td>Branco    </td><td>Casado    </td></tr>\n",
       "\t<tr><td>1010      </td><td>M         </td><td>58        </td><td> 64       </td><td>175       </td><td>0         </td><td>Branco    </td><td>Solteiro  </td></tr>\n",
       "</tbody>\n",
       "</table>\n"
      ],
      "text/latex": [
       "\\begin{tabular}{r|llllllll}\n",
       " Codigo & Sexo & Idade & Peso & Altura & Estado\\_Civil & Etnia & Estado\\_Civil.cat\\\\\n",
       "\\hline\n",
       "\t 1000       & M          & 35         &  89        & 175        & 0          & Branco     & Solteiro  \\\\\n",
       "\t 1001       & F          & 23         &  70        & 160        & 1          & Pardo      & Casado    \\\\\n",
       "\t 1002       & F          & 34         &  64        & 161        & 1          & Pardo      & Casado    \\\\\n",
       "\t 1003       & F          & 76         &  58        & 167        & 2          & Negro      & Divorciado\\\\\n",
       "\t 1004       & M          & 58         &  56        & 159        & 0          & Branco     & Solteiro  \\\\\n",
       "\t 1005       & M          & 43         &  63        & 167        & 0          & Branco     & Solteiro  \\\\\n",
       "\t 1006       & F          & 42         &  62        & 172        & 2          & Negro      & Divorciado\\\\\n",
       "\t 1007       & M          & 29         & 120        & 190        & 1          & Pardo      & Casado    \\\\\n",
       "\t 1008       & F          & 23         &  88        & 189        & 1          & Pardo      & Casado    \\\\\n",
       "\t 1009       & M          & 67         &  81        & 186        & 1          & Branco     & Casado    \\\\\n",
       "\t 1010       & M          & 58         &  64        & 175        & 0          & Branco     & Solteiro  \\\\\n",
       "\\end{tabular}\n"
      ],
      "text/markdown": [
       "\n",
       "Codigo | Sexo | Idade | Peso | Altura | Estado_Civil | Etnia | Estado_Civil.cat | \n",
       "|---|---|---|---|---|---|---|---|---|---|---|\n",
       "| 1000       | M          | 35         |  89        | 175        | 0          | Branco     | Solteiro   | \n",
       "| 1001       | F          | 23         |  70        | 160        | 1          | Pardo      | Casado     | \n",
       "| 1002       | F          | 34         |  64        | 161        | 1          | Pardo      | Casado     | \n",
       "| 1003       | F          | 76         |  58        | 167        | 2          | Negro      | Divorciado | \n",
       "| 1004       | M          | 58         |  56        | 159        | 0          | Branco     | Solteiro   | \n",
       "| 1005       | M          | 43         |  63        | 167        | 0          | Branco     | Solteiro   | \n",
       "| 1006       | F          | 42         |  62        | 172        | 2          | Negro      | Divorciado | \n",
       "| 1007       | M          | 29         | 120        | 190        | 1          | Pardo      | Casado     | \n",
       "| 1008       | F          | 23         |  88        | 189        | 1          | Pardo      | Casado     | \n",
       "| 1009       | M          | 67         |  81        | 186        | 1          | Branco     | Casado     | \n",
       "| 1010       | M          | 58         |  64        | 175        | 0          | Branco     | Solteiro   | \n",
       "\n",
       "\n"
      ],
      "text/plain": [
       "   Codigo Sexo Idade Peso Altura Estado_Civil Etnia  Estado_Civil.cat\n",
       "1  1000   M    35     89  175    0            Branco Solteiro        \n",
       "2  1001   F    23     70  160    1            Pardo  Casado          \n",
       "3  1002   F    34     64  161    1            Pardo  Casado          \n",
       "4  1003   F    76     58  167    2            Negro  Divorciado      \n",
       "5  1004   M    58     56  159    0            Branco Solteiro        \n",
       "6  1005   M    43     63  167    0            Branco Solteiro        \n",
       "7  1006   F    42     62  172    2            Negro  Divorciado      \n",
       "8  1007   M    29    120  190    1            Pardo  Casado          \n",
       "9  1008   F    23     88  189    1            Pardo  Casado          \n",
       "10 1009   M    67     81  186    1            Branco Casado          \n",
       "11 1010   M    58     64  175    0            Branco Solteiro        "
      ]
     },
     "metadata": {},
     "output_type": "display_data"
    },
    {
     "name": "stdout",
     "output_type": "stream",
     "text": [
      "'data.frame':\t11 obs. of  8 variables:\n",
      " $ Codigo          : int  1000 1001 1002 1003 1004 1005 1006 1007 1008 1009 ...\n",
      " $ Sexo            : Factor w/ 2 levels \"F\",\"M\": 2 1 1 1 2 2 1 2 1 2 ...\n",
      " $ Idade           : int  35 23 34 76 58 43 42 29 23 67 ...\n",
      " $ Peso            : int  89 70 64 58 56 63 62 120 88 81 ...\n",
      " $ Altura          : int  175 160 161 167 159 167 172 190 189 186 ...\n",
      " $ Estado_Civil    : int  0 1 1 2 0 0 2 1 1 1 ...\n",
      " $ Etnia           : Factor w/ 3 levels \"Branco\",\"Negro\",..: 1 3 3 2 1 1 2 3 3 1 ...\n",
      " $ Estado_Civil.cat: Factor w/ 3 levels \"Solteiro\",\"Casado\",..: 1 2 2 3 1 1 3 2 2 2 ...\n"
     ]
    }
   ],
   "source": [
    "# Convertendo uma coluna em variável categórica. Isso criará um fator não-ordenado\n",
    "df\n",
    "str(df)\n",
    "df$Estado_Civil.cat <- factor(df$Estado_Civil, labels = c(\"Solteiro\", \"Casado\", \"Divorciado\"))\n",
    "df\n",
    "str(df)"
   ]
  },
  {
   "cell_type": "code",
   "execution_count": null,
   "metadata": {},
   "outputs": [],
   "source": []
  }
 ],
 "metadata": {
  "kernelspec": {
   "display_name": "R",
   "language": "R",
   "name": "ir"
  },
  "language_info": {
   "codemirror_mode": "r",
   "file_extension": ".r",
   "mimetype": "text/x-r-source",
   "name": "R",
   "pygments_lexer": "r",
   "version": "3.5.1"
  }
 },
 "nbformat": 4,
 "nbformat_minor": 2
}
