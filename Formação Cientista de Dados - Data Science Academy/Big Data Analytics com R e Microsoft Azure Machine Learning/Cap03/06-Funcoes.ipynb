{
 "cells": [
  {
   "cell_type": "code",
   "execution_count": 1,
   "metadata": {},
   "outputs": [
    {
     "data": {
      "text/html": [
       "<pre class=language-r><code>function (x, size, replace = FALSE, prob = NULL) \n",
       "NULL</code></pre>"
      ],
      "text/latex": [
       "\\begin{minted}{r}\n",
       "function (x, size, replace = FALSE, prob = NULL) \n",
       "NULL\n",
       "\\end{minted}"
      ],
      "text/markdown": [
       "```r\n",
       "function (x, size, replace = FALSE, prob = NULL) \n",
       "NULL\n",
       "```"
      ],
      "text/plain": [
       "function (x, size, replace = FALSE, prob = NULL) \n",
       "NULL"
      ]
     },
     "metadata": {},
     "output_type": "display_data"
    },
    {
     "data": {
      "text/html": [
       "<pre class=language-r><code>function (x, ...) \n",
       "NULL</code></pre>"
      ],
      "text/latex": [
       "\\begin{minted}{r}\n",
       "function (x, ...) \n",
       "NULL\n",
       "\\end{minted}"
      ],
      "text/markdown": [
       "```r\n",
       "function (x, ...) \n",
       "NULL\n",
       "```"
      ],
      "text/plain": [
       "function (x, ...) \n",
       "NULL"
      ]
     },
     "metadata": {},
     "output_type": "display_data"
    },
    {
     "data": {
      "text/html": [
       "<pre class=language-r><code>function (x, na.rm = FALSE) \n",
       "NULL</code></pre>"
      ],
      "text/latex": [
       "\\begin{minted}{r}\n",
       "function (x, na.rm = FALSE) \n",
       "NULL\n",
       "\\end{minted}"
      ],
      "text/markdown": [
       "```r\n",
       "function (x, na.rm = FALSE) \n",
       "NULL\n",
       "```"
      ],
      "text/plain": [
       "function (x, na.rm = FALSE) \n",
       "NULL"
      ]
     },
     "metadata": {},
     "output_type": "display_data"
    },
    {
     "data": {
      "text/html": [
       "\n",
       "<table width=\"100%\" summary=\"page for sample {base}\"><tr><td>sample {base}</td><td style=\"text-align: right;\">R Documentation</td></tr></table>\n",
       "\n",
       "<h2>Random Samples and Permutations</h2>\n",
       "\n",
       "<h3>Description</h3>\n",
       "\n",
       "<p><code>sample</code> takes a sample of the specified size from the elements\n",
       "of <code>x</code> using either with or without replacement.\n",
       "</p>\n",
       "\n",
       "\n",
       "<h3>Usage</h3>\n",
       "\n",
       "<pre>\n",
       "sample(x, size, replace = FALSE, prob = NULL)\n",
       "\n",
       "sample.int(n, size = n, replace = FALSE, prob = NULL,\n",
       "           useHash = (!replace &amp;&amp; is.null(prob) &amp;&amp; size &lt;= n/2 &amp;&amp; n &gt; 1e7))\n",
       "</pre>\n",
       "\n",
       "\n",
       "<h3>Arguments</h3>\n",
       "\n",
       "<table summary=\"R argblock\">\n",
       "<tr valign=\"top\"><td><code>x</code></td>\n",
       "<td>\n",
       "<p>either a vector of one or more elements from which to choose,\n",
       "or a positive integer.  See &lsquo;Details.&rsquo;</p>\n",
       "</td></tr>\n",
       "<tr valign=\"top\"><td><code>n</code></td>\n",
       "<td>\n",
       "<p>a positive number, the number of items to choose from.  See\n",
       "&lsquo;Details.&rsquo;</p>\n",
       "</td></tr>\n",
       "<tr valign=\"top\"><td><code>size</code></td>\n",
       "<td>\n",
       "<p>a non-negative integer giving the number of items to choose.</p>\n",
       "</td></tr>\n",
       "<tr valign=\"top\"><td><code>replace</code></td>\n",
       "<td>\n",
       "<p>should sampling be with replacement?</p>\n",
       "</td></tr>\n",
       "<tr valign=\"top\"><td><code>prob</code></td>\n",
       "<td>\n",
       "<p>a vector of probability weights for obtaining the elements\n",
       "of the vector being sampled.</p>\n",
       "</td></tr>\n",
       "<tr valign=\"top\"><td><code>useHash</code></td>\n",
       "<td>\n",
       "<p><code>logical</code> indicating if the hash-version of\n",
       "the algorithm should be used.  Can only be used for <code>replace =\n",
       "      FALSE</code>, <code>prob = NULL</code>, and <code>size &lt;= n/2</code>, and really\n",
       "should be used for large <code>n</code>, as <code>useHash=FALSE</code> will use\n",
       "memory proportional to <code>n</code>.</p>\n",
       "</td></tr>\n",
       "</table>\n",
       "\n",
       "\n",
       "<h3>Details</h3>\n",
       "\n",
       "<p>If <code>x</code> has length 1, is numeric (in the sense of\n",
       "<code>is.numeric</code>) and <code>x &gt;= 1</code>, sampling <em>via</em>\n",
       "<code>sample</code> takes place from <code>1:x</code>.  <em>Note</em> that this\n",
       "convenience feature may lead to undesired behaviour when <code>x</code> is\n",
       "of varying length in calls such as <code>sample(x)</code>.  See the examples.\n",
       "</p>\n",
       "<p>Otherwise <code>x</code> can be any <span style=\"font-family: Courier New, Courier; color: #666666;\"><b>R</b></span> object for which <code>length</code> and\n",
       "subsetting by integers make sense: S3 or S4 methods for these\n",
       "operations will be dispatched as appropriate.\n",
       "</p>\n",
       "<p>For <code>sample</code> the default for <code>size</code> is the number of items\n",
       "inferred from the first argument, so that <code>sample(x)</code> generates a\n",
       "random permutation of the elements of <code>x</code> (or <code>1:x</code>).\n",
       "</p>\n",
       "<p>It is allowed to ask for <code>size = 0</code> samples with <code>n = 0</code> or\n",
       "a length-zero <code>x</code>, but otherwise <code>n &gt; 0</code> or positive\n",
       "<code>length(x)</code> is required.\n",
       "</p>\n",
       "<p>Non-integer positive numerical values of <code>n</code> or <code>x</code> will be\n",
       "truncated to the next smallest integer, which has to be no larger than\n",
       "<code>.Machine$integer.max</code>.\n",
       "</p>\n",
       "<p>The optional <code>prob</code> argument can be used to give a vector of\n",
       "weights for obtaining the elements of the vector being sampled.  They\n",
       "need not sum to one, but they should be non-negative and not all zero.\n",
       "If <code>replace</code> is true, Walker's alias method (Ripley, 1987) is\n",
       "used when there are more than 200 reasonably probable values: this\n",
       "gives results incompatible with those from <span style=\"font-family: Courier New, Courier; color: #666666;\"><b>R</b></span> &lt; 2.2.0.\n",
       "</p>\n",
       "<p>If <code>replace</code> is false, these probabilities are applied\n",
       "sequentially, that is the probability of choosing the next item is\n",
       "proportional to the weights amongst the remaining items.  The number\n",
       "of nonzero weights must be at least <code>size</code> in this case.\n",
       "</p>\n",
       "<p><code>sample.int</code> is a bare interface in which both <code>n</code> and\n",
       "<code>size</code> must be supplied as integers.\n",
       "</p>\n",
       "<p>Argument <code>n</code> can be larger than the largest integer of\n",
       "type <code>integer</code>, up to the largest representable integer in type\n",
       "<code>double</code>.  Only uniform sampling is supported.  Two\n",
       "random numbers are used to ensure uniform sampling of large integers.\n",
       "</p>\n",
       "\n",
       "\n",
       "<h3>Value</h3>\n",
       "\n",
       "<p>For <code>sample</code> a vector of length <code>size</code> with elements\n",
       "drawn from either <code>x</code> or from the integers <code>1:x</code>.\n",
       "</p>\n",
       "<p>For <code>sample.int</code>, an integer vector of length <code>size</code> with\n",
       "elements from <code>1:n</code>, or a double vector if\n",
       "<i>n &gt;= 2^31</i>.\n",
       "</p>\n",
       "\n",
       "\n",
       "<h3>References</h3>\n",
       "\n",
       "<p>Becker, R. A., Chambers, J. M. and Wilks, A. R. (1988)\n",
       "<em>The New S Language</em>.\n",
       "Wadsworth &amp; Brooks/Cole.\n",
       "</p>\n",
       "<p>Ripley, B. D. (1987) <em>Stochastic Simulation</em>. Wiley.\n",
       "</p>\n",
       "\n",
       "\n",
       "<h3>See Also</h3>\n",
       "\n",
       "<p><code>RNG</code> about random number generation.\n",
       "</p>\n",
       "<p>CRAN package <a href=\"https://CRAN.R-project.org/package=sampling\"><span class=\"pkg\">sampling</span></a> for other methods of weighted sampling\n",
       "without replacement.\n",
       "</p>\n",
       "\n",
       "\n",
       "<h3>Examples</h3>\n",
       "\n",
       "<pre>\n",
       "x &lt;- 1:12\n",
       "# a random permutation\n",
       "sample(x)\n",
       "# bootstrap resampling -- only if length(x) &gt; 1 !\n",
       "sample(x, replace = TRUE)\n",
       "\n",
       "# 100 Bernoulli trials\n",
       "sample(c(0,1), 100, replace = TRUE)\n",
       "\n",
       "## More careful bootstrapping --  Consider this when using sample()\n",
       "## programmatically (i.e., in your function or simulation)!\n",
       "\n",
       "# sample()'s surprise -- example\n",
       "x &lt;- 1:10\n",
       "    sample(x[x &gt;  8]) # length 2\n",
       "    sample(x[x &gt;  9]) # oops -- length 10!\n",
       "    sample(x[x &gt; 10]) # length 0\n",
       "\n",
       "## safer version:\n",
       "resample &lt;- function(x, ...) x[sample.int(length(x), ...)]\n",
       "resample(x[x &gt;  8]) # length 2\n",
       "resample(x[x &gt;  9]) # length 1\n",
       "resample(x[x &gt; 10]) # length 0\n",
       "\n",
       "## R 3.x.y only\n",
       "sample.int(1e10, 12, replace = TRUE)\n",
       "sample.int(1e10, 12) # not that there is much chance of duplicates\n",
       "</pre>\n",
       "\n",
       "<hr /><div style=\"text-align: center;\">[Package <em>base</em> version 3.5.1 ]</div>"
      ],
      "text/latex": [
       "\\inputencoding{utf8}\n",
       "\\HeaderA{sample}{Random Samples and Permutations}{sample}\n",
       "\\methaliasA{sample.int}{sample}{sample.int}\n",
       "\\keyword{distribution}{sample}\n",
       "%\n",
       "\\begin{Description}\\relax\n",
       "\\code{sample} takes a sample of the specified size from the elements\n",
       "of \\code{x} using either with or without replacement.\n",
       "\\end{Description}\n",
       "%\n",
       "\\begin{Usage}\n",
       "\\begin{verbatim}\n",
       "sample(x, size, replace = FALSE, prob = NULL)\n",
       "\n",
       "sample.int(n, size = n, replace = FALSE, prob = NULL,\n",
       "           useHash = (!replace && is.null(prob) && size <= n/2 && n > 1e7))\n",
       "\\end{verbatim}\n",
       "\\end{Usage}\n",
       "%\n",
       "\\begin{Arguments}\n",
       "\\begin{ldescription}\n",
       "\\item[\\code{x}] either a vector of one or more elements from which to choose,\n",
       "or a positive integer.  See `Details.'\n",
       "\\item[\\code{n}] a positive number, the number of items to choose from.  See\n",
       "`Details.'\n",
       "\\item[\\code{size}] a non-negative integer giving the number of items to choose.\n",
       "\\item[\\code{replace}] should sampling be with replacement?\n",
       "\\item[\\code{prob}] a vector of probability weights for obtaining the elements\n",
       "of the vector being sampled.\n",
       "\\item[\\code{useHash}] \\code{\\LinkA{logical}{logical}} indicating if the hash-version of\n",
       "the algorithm should be used.  Can only be used for \\code{replace =\n",
       "      FALSE}, \\code{prob = NULL}, and \\code{size <= n/2}, and really\n",
       "should be used for large \\code{n}, as \\code{useHash=FALSE} will use\n",
       "memory proportional to \\code{n}.\n",
       "\\end{ldescription}\n",
       "\\end{Arguments}\n",
       "%\n",
       "\\begin{Details}\\relax\n",
       "If \\code{x} has length 1, is numeric (in the sense of\n",
       "\\code{\\LinkA{is.numeric}{is.numeric}}) and \\code{x >= 1}, sampling \\emph{via}\n",
       "\\code{sample} takes place from \\code{1:x}.  \\emph{Note} that this\n",
       "convenience feature may lead to undesired behaviour when \\code{x} is\n",
       "of varying length in calls such as \\code{sample(x)}.  See the examples.\n",
       "\n",
       "Otherwise \\code{x} can be any \\R{} object for which \\code{length} and\n",
       "subsetting by integers make sense: S3 or S4 methods for these\n",
       "operations will be dispatched as appropriate.\n",
       "\n",
       "For \\code{sample} the default for \\code{size} is the number of items\n",
       "inferred from the first argument, so that \\code{sample(x)} generates a\n",
       "random permutation of the elements of \\code{x} (or \\code{1:x}).\n",
       "\n",
       "It is allowed to ask for \\code{size = 0} samples with \\code{n = 0} or\n",
       "a length-zero \\code{x}, but otherwise \\code{n > 0} or positive\n",
       "\\code{length(x)} is required.\n",
       "\n",
       "Non-integer positive numerical values of \\code{n} or \\code{x} will be\n",
       "truncated to the next smallest integer, which has to be no larger than\n",
       "\\code{\\LinkA{.Machine}{.Machine}\\$integer.max}.\n",
       "\n",
       "The optional \\code{prob} argument can be used to give a vector of\n",
       "weights for obtaining the elements of the vector being sampled.  They\n",
       "need not sum to one, but they should be non-negative and not all zero.\n",
       "If \\code{replace} is true, Walker's alias method (Ripley, 1987) is\n",
       "used when there are more than 200 reasonably probable values: this\n",
       "gives results incompatible with those from \\R{} < 2.2.0.\n",
       "\n",
       "If \\code{replace} is false, these probabilities are applied\n",
       "sequentially, that is the probability of choosing the next item is\n",
       "proportional to the weights amongst the remaining items.  The number\n",
       "of nonzero weights must be at least \\code{size} in this case.\n",
       "\n",
       "\\code{sample.int} is a bare interface in which both \\code{n} and\n",
       "\\code{size} must be supplied as integers.\n",
       "\n",
       "Argument \\code{n} can be larger than the largest integer of\n",
       "type \\code{integer}, up to the largest representable integer in type\n",
       "\\code{double}.  Only uniform sampling is supported.  Two\n",
       "random numbers are used to ensure uniform sampling of large integers.\n",
       "\\end{Details}\n",
       "%\n",
       "\\begin{Value}\n",
       "For \\code{sample} a vector of length \\code{size} with elements\n",
       "drawn from either \\code{x} or from the integers \\code{1:x}.\n",
       "\n",
       "For \\code{sample.int}, an integer vector of length \\code{size} with\n",
       "elements from \\code{1:n}, or a double vector if\n",
       "\\eqn{n \\ge 2^{31}}{}.\n",
       "\\end{Value}\n",
       "%\n",
       "\\begin{References}\\relax\n",
       "Becker, R. A., Chambers, J. M. and Wilks, A. R. (1988)\n",
       "\\emph{The New S Language}.\n",
       "Wadsworth \\& Brooks/Cole.\n",
       "\n",
       "Ripley, B. D. (1987) \\emph{Stochastic Simulation}. Wiley.\n",
       "\\end{References}\n",
       "%\n",
       "\\begin{SeeAlso}\\relax\n",
       "\\code{\\LinkA{RNG}{RNG}} about random number generation.\n",
       "\n",
       "CRAN package \\Rhref{https://CRAN.R-project.org/package=sampling}{\\pkg{sampling}} for other methods of weighted sampling\n",
       "without replacement.\n",
       "\\end{SeeAlso}\n",
       "%\n",
       "\\begin{Examples}\n",
       "\\begin{ExampleCode}\n",
       "x <- 1:12\n",
       "# a random permutation\n",
       "sample(x)\n",
       "# bootstrap resampling -- only if length(x) > 1 !\n",
       "sample(x, replace = TRUE)\n",
       "\n",
       "# 100 Bernoulli trials\n",
       "sample(c(0,1), 100, replace = TRUE)\n",
       "\n",
       "## More careful bootstrapping --  Consider this when using sample()\n",
       "## programmatically (i.e., in your function or simulation)!\n",
       "\n",
       "# sample()'s surprise -- example\n",
       "x <- 1:10\n",
       "    sample(x[x >  8]) # length 2\n",
       "    sample(x[x >  9]) # oops -- length 10!\n",
       "    sample(x[x > 10]) # length 0\n",
       "\n",
       "## safer version:\n",
       "resample <- function(x, ...) x[sample.int(length(x), ...)]\n",
       "resample(x[x >  8]) # length 2\n",
       "resample(x[x >  9]) # length 1\n",
       "resample(x[x > 10]) # length 0\n",
       "\n",
       "## R 3.x.y only\n",
       "sample.int(1e10, 12, replace = TRUE)\n",
       "sample.int(1e10, 12) # not that there is much chance of duplicates\n",
       "\\end{ExampleCode}\n",
       "\\end{Examples}"
      ],
      "text/plain": [
       "sample                  package:base                   R Documentation\n",
       "\n",
       "_\bR_\ba_\bn_\bd_\bo_\bm _\bS_\ba_\bm_\bp_\bl_\be_\bs _\ba_\bn_\bd _\bP_\be_\br_\bm_\bu_\bt_\ba_\bt_\bi_\bo_\bn_\bs\n",
       "\n",
       "_\bD_\be_\bs_\bc_\br_\bi_\bp_\bt_\bi_\bo_\bn:\n",
       "\n",
       "     'sample' takes a sample of the specified size from the elements of\n",
       "     'x' using either with or without replacement.\n",
       "\n",
       "_\bU_\bs_\ba_\bg_\be:\n",
       "\n",
       "     sample(x, size, replace = FALSE, prob = NULL)\n",
       "     \n",
       "     sample.int(n, size = n, replace = FALSE, prob = NULL,\n",
       "                useHash = (!replace && is.null(prob) && size <= n/2 && n > 1e7))\n",
       "     \n",
       "_\bA_\br_\bg_\bu_\bm_\be_\bn_\bt_\bs:\n",
       "\n",
       "       x: either a vector of one or more elements from which to choose,\n",
       "          or a positive integer.  See 'Details.'\n",
       "\n",
       "       n: a positive number, the number of items to choose from.  See\n",
       "          'Details.'\n",
       "\n",
       "    size: a non-negative integer giving the number of items to choose.\n",
       "\n",
       " replace: should sampling be with replacement?\n",
       "\n",
       "    prob: a vector of probability weights for obtaining the elements of\n",
       "          the vector being sampled.\n",
       "\n",
       " useHash: 'logical' indicating if the hash-version of the algorithm\n",
       "          should be used.  Can only be used for 'replace = FALSE',\n",
       "          'prob = NULL', and 'size <= n/2', and really should be used\n",
       "          for large 'n', as 'useHash=FALSE' will use memory\n",
       "          proportional to 'n'.\n",
       "\n",
       "_\bD_\be_\bt_\ba_\bi_\bl_\bs:\n",
       "\n",
       "     If 'x' has length 1, is numeric (in the sense of 'is.numeric') and\n",
       "     'x >= 1', sampling _via_ 'sample' takes place from '1:x'.  _Note_\n",
       "     that this convenience feature may lead to undesired behaviour when\n",
       "     'x' is of varying length in calls such as 'sample(x)'.  See the\n",
       "     examples.\n",
       "\n",
       "     Otherwise 'x' can be any R object for which 'length' and\n",
       "     subsetting by integers make sense: S3 or S4 methods for these\n",
       "     operations will be dispatched as appropriate.\n",
       "\n",
       "     For 'sample' the default for 'size' is the number of items\n",
       "     inferred from the first argument, so that 'sample(x)' generates a\n",
       "     random permutation of the elements of 'x' (or '1:x').\n",
       "\n",
       "     It is allowed to ask for 'size = 0' samples with 'n = 0' or a\n",
       "     length-zero 'x', but otherwise 'n > 0' or positive 'length(x)' is\n",
       "     required.\n",
       "\n",
       "     Non-integer positive numerical values of 'n' or 'x' will be\n",
       "     truncated to the next smallest integer, which has to be no larger\n",
       "     than '.Machine$integer.max'.\n",
       "\n",
       "     The optional 'prob' argument can be used to give a vector of\n",
       "     weights for obtaining the elements of the vector being sampled.\n",
       "     They need not sum to one, but they should be non-negative and not\n",
       "     all zero.  If 'replace' is true, Walker's alias method (Ripley,\n",
       "     1987) is used when there are more than 200 reasonably probable\n",
       "     values: this gives results incompatible with those from R < 2.2.0.\n",
       "\n",
       "     If 'replace' is false, these probabilities are applied\n",
       "     sequentially, that is the probability of choosing the next item is\n",
       "     proportional to the weights amongst the remaining items.  The\n",
       "     number of nonzero weights must be at least 'size' in this case.\n",
       "\n",
       "     'sample.int' is a bare interface in which both 'n' and 'size' must\n",
       "     be supplied as integers.\n",
       "\n",
       "     Argument 'n' can be larger than the largest integer of type\n",
       "     'integer', up to the largest representable integer in type\n",
       "     'double'.  Only uniform sampling is supported.  Two random numbers\n",
       "     are used to ensure uniform sampling of large integers.\n",
       "\n",
       "_\bV_\ba_\bl_\bu_\be:\n",
       "\n",
       "     For 'sample' a vector of length 'size' with elements drawn from\n",
       "     either 'x' or from the integers '1:x'.\n",
       "\n",
       "     For 'sample.int', an integer vector of length 'size' with elements\n",
       "     from '1:n', or a double vector if n >= 2^31.\n",
       "\n",
       "_\bR_\be_\bf_\be_\br_\be_\bn_\bc_\be_\bs:\n",
       "\n",
       "     Becker, R. A., Chambers, J. M. and Wilks, A. R. (1988) _The New S\n",
       "     Language_.  Wadsworth & Brooks/Cole.\n",
       "\n",
       "     Ripley, B. D. (1987) _Stochastic Simulation_. Wiley.\n",
       "\n",
       "_\bS_\be_\be _\bA_\bl_\bs_\bo:\n",
       "\n",
       "     'RNG' about random number generation.\n",
       "\n",
       "     CRAN package 'sampling' for other methods of weighted sampling\n",
       "     without replacement.\n",
       "\n",
       "_\bE_\bx_\ba_\bm_\bp_\bl_\be_\bs:\n",
       "\n",
       "     x <- 1:12\n",
       "     # a random permutation\n",
       "     sample(x)\n",
       "     # bootstrap resampling -- only if length(x) > 1 !\n",
       "     sample(x, replace = TRUE)\n",
       "     \n",
       "     # 100 Bernoulli trials\n",
       "     sample(c(0,1), 100, replace = TRUE)\n",
       "     \n",
       "     ## More careful bootstrapping --  Consider this when using sample()\n",
       "     ## programmatically (i.e., in your function or simulation)!\n",
       "     \n",
       "     # sample()'s surprise -- example\n",
       "     x <- 1:10\n",
       "         sample(x[x >  8]) # length 2\n",
       "         sample(x[x >  9]) # oops -- length 10!\n",
       "         sample(x[x > 10]) # length 0\n",
       "     \n",
       "     ## safer version:\n",
       "     resample <- function(x, ...) x[sample.int(length(x), ...)]\n",
       "     resample(x[x >  8]) # length 2\n",
       "     resample(x[x >  9]) # length 1\n",
       "     resample(x[x > 10]) # length 0\n",
       "     \n",
       "     ## R 3.x.y only\n",
       "     sample.int(1e10, 12, replace = TRUE)\n",
       "     sample.int(1e10, 12) # not that there is much chance of duplicates\n",
       "     "
      ]
     },
     "metadata": {},
     "output_type": "display_data"
    }
   ],
   "source": [
    "# Help\n",
    "?sample\n",
    "args(sample)\n",
    "args(mean)\n",
    "args(sd)"
   ]
  },
  {
   "cell_type": "code",
   "execution_count": 2,
   "metadata": {},
   "outputs": [
    {
     "data": {
      "text/html": [
       "43"
      ],
      "text/latex": [
       "43"
      ],
      "text/markdown": [
       "43"
      ],
      "text/plain": [
       "[1] 43"
      ]
     },
     "metadata": {},
     "output_type": "display_data"
    },
    {
     "data": {
      "text/html": [
       "15"
      ],
      "text/latex": [
       "15"
      ],
      "text/markdown": [
       "15"
      ],
      "text/plain": [
       "[1] 15"
      ]
     },
     "metadata": {},
     "output_type": "display_data"
    },
    {
     "data": {
      "text/html": [
       "3"
      ],
      "text/latex": [
       "3"
      ],
      "text/markdown": [
       "3"
      ],
      "text/plain": [
       "[1] 3"
      ]
     },
     "metadata": {},
     "output_type": "display_data"
    },
    {
     "data": {
      "text/html": [
       "<ol class=list-inline>\n",
       "\t<li>1</li>\n",
       "\t<li>2</li>\n",
       "\t<li>3</li>\n",
       "\t<li>4</li>\n",
       "\t<li>5</li>\n",
       "</ol>\n"
      ],
      "text/latex": [
       "\\begin{enumerate*}\n",
       "\\item 1\n",
       "\\item 2\n",
       "\\item 3\n",
       "\\item 4\n",
       "\\item 5\n",
       "\\end{enumerate*}\n"
      ],
      "text/markdown": [
       "1. 1\n",
       "2. 2\n",
       "3. 3\n",
       "4. 4\n",
       "5. 5\n",
       "\n",
       "\n"
      ],
      "text/plain": [
       "[1] 1 2 3 4 5"
      ]
     },
     "metadata": {},
     "output_type": "display_data"
    },
    {
     "data": {
      "text/html": [
       "<ol class=list-inline>\n",
       "\t<li>5</li>\n",
       "\t<li>4</li>\n",
       "\t<li>3</li>\n",
       "\t<li>2</li>\n",
       "\t<li>1</li>\n",
       "</ol>\n"
      ],
      "text/latex": [
       "\\begin{enumerate*}\n",
       "\\item 5\n",
       "\\item 4\n",
       "\\item 3\n",
       "\\item 2\n",
       "\\item 1\n",
       "\\end{enumerate*}\n"
      ],
      "text/markdown": [
       "1. 5\n",
       "2. 4\n",
       "3. 3\n",
       "4. 2\n",
       "5. 1\n",
       "\n",
       "\n"
      ],
      "text/plain": [
       "[1] 5 4 3 2 1"
      ]
     },
     "metadata": {},
     "output_type": "display_data"
    },
    {
     "data": {
      "text/html": [
       "<ol class=list-inline>\n",
       "\t<li>1</li>\n",
       "\t<li>2</li>\n",
       "\t<li>3</li>\n",
       "\t<li>4</li>\n",
       "\t<li>5</li>\n",
       "</ol>\n"
      ],
      "text/latex": [
       "\\begin{enumerate*}\n",
       "\\item 1\n",
       "\\item 2\n",
       "\\item 3\n",
       "\\item 4\n",
       "\\item 5\n",
       "\\end{enumerate*}\n"
      ],
      "text/markdown": [
       "1. 1\n",
       "2. 2\n",
       "3. 3\n",
       "4. 4\n",
       "5. 5\n",
       "\n",
       "\n"
      ],
      "text/plain": [
       "[1] 1 2 3 4 5"
      ]
     },
     "metadata": {},
     "output_type": "display_data"
    },
    {
     "data": {
      "text/html": [
       "<ol class=list-inline>\n",
       "\t<li>1</li>\n",
       "\t<li>2</li>\n",
       "\t<li>3</li>\n",
       "\t<li>4</li>\n",
       "\t<li>5</li>\n",
       "</ol>\n"
      ],
      "text/latex": [
       "\\begin{enumerate*}\n",
       "\\item 1\n",
       "\\item 2\n",
       "\\item 3\n",
       "\\item 4\n",
       "\\item 5\n",
       "\\end{enumerate*}\n"
      ],
      "text/markdown": [
       "1. 1\n",
       "2. 2\n",
       "3. 3\n",
       "4. 4\n",
       "5. 5\n",
       "\n",
       "\n"
      ],
      "text/plain": [
       "[1] 1 2 3 4 5"
      ]
     },
     "metadata": {},
     "output_type": "display_data"
    },
    {
     "data": {
      "text/html": [
       "<ol class=list-inline>\n",
       "\t<li>1</li>\n",
       "\t<li>2</li>\n",
       "\t<li>3</li>\n",
       "\t<li>4</li>\n",
       "\t<li>5</li>\n",
       "\t<li>6</li>\n",
       "</ol>\n"
      ],
      "text/latex": [
       "\\begin{enumerate*}\n",
       "\\item 1\n",
       "\\item 2\n",
       "\\item 3\n",
       "\\item 4\n",
       "\\item 5\n",
       "\\item 6\n",
       "\\end{enumerate*}\n"
      ],
      "text/markdown": [
       "1. 1\n",
       "2. 2\n",
       "3. 3\n",
       "4. 4\n",
       "5. 5\n",
       "6. 6\n",
       "\n",
       "\n"
      ],
      "text/plain": [
       "[1] 1 2 3 4 5 6"
      ]
     },
     "metadata": {},
     "output_type": "display_data"
    },
    {
     "data": {
      "text/html": [
       "<ol class=list-inline>\n",
       "\t<li>6.3</li>\n",
       "\t<li>3.7</li>\n",
       "\t<li>8.4</li>\n",
       "\t<li>2.5</li>\n",
       "\t<li>1.5</li>\n",
       "</ol>\n"
      ],
      "text/latex": [
       "\\begin{enumerate*}\n",
       "\\item 6.3\n",
       "\\item 3.7\n",
       "\\item 8.4\n",
       "\\item 2.5\n",
       "\\item 1.5\n",
       "\\end{enumerate*}\n"
      ],
      "text/markdown": [
       "1. 6.3\n",
       "2. 3.7\n",
       "3. 8.4\n",
       "4. 2.5\n",
       "5. 1.5\n",
       "\n",
       "\n"
      ],
      "text/plain": [
       "[1] 6.3 3.7 8.4 2.5 1.5"
      ]
     },
     "metadata": {},
     "output_type": "display_data"
    }
   ],
   "source": [
    "# Funções Built-in\n",
    "abs(-43)\n",
    "sum(c(1:5))\n",
    "mean(c(1:5))\n",
    "round(c(1.1:5.8))\n",
    "rev(c(1:5))\n",
    "seq(1:5)\n",
    "sort(rev(c(1:5)))\n",
    "append(c(1:5), 6)\n",
    "\n",
    "vec1 <- c(1.5, 2.5, 8.4, 3.7, 6.3)\n",
    "vec2 <- rev(vec1)\n",
    "vec2"
   ]
  },
  {
   "cell_type": "code",
   "execution_count": 3,
   "metadata": {},
   "outputs": [
    {
     "data": {
      "text/html": [
       "4.48"
      ],
      "text/latex": [
       "4.48"
      ],
      "text/markdown": [
       "4.48"
      ],
      "text/plain": [
       "[1] 4.48"
      ]
     },
     "metadata": {},
     "output_type": "display_data"
    },
    {
     "data": {
      "image/png": "[encoded data removed]",
      "text/plain": [
       "plot without title"
      ]
     },
     "metadata": {},
     "output_type": "display_data",
     "source": "R display func"
    }
   ],
   "source": [
    "# Funções dentro de funções\n",
    "plot(rnorm(10))\n",
    "mean(c(abs(vec1), abs(vec2)))"
   ]
  },
  {
   "cell_type": "code",
   "execution_count": 4,
   "metadata": {},
   "outputs": [
    {
     "data": {
      "text/html": [
       "20"
      ],
      "text/latex": [
       "20"
      ],
      "text/markdown": [
       "20"
      ],
      "text/plain": [
       "[1] 20"
      ]
     },
     "metadata": {},
     "output_type": "display_data"
    },
    {
     "data": {
      "text/html": [
       "'function'"
      ],
      "text/latex": [
       "'function'"
      ],
      "text/markdown": [
       "'function'"
      ],
      "text/plain": [
       "[1] \"function\""
      ]
     },
     "metadata": {},
     "output_type": "display_data"
    },
    {
     "name": "stdout",
     "output_type": "stream",
     "text": [
      "[1] 9\n"
     ]
    },
    {
     "data": {
      "text/html": [
       "4"
      ],
      "text/latex": [
       "4"
      ],
      "text/markdown": [
       "4"
      ],
      "text/plain": [
       "[1] 4"
      ]
     },
     "metadata": {},
     "output_type": "display_data"
    }
   ],
   "source": [
    "# Criando funções\n",
    "myfunc <- function(x) { x + x }\n",
    "myfunc(10)\n",
    "class(myfunc)\n",
    "\n",
    "myfunc2 <- function(a, b) {\n",
    "  valor = a ^ b\n",
    "  print(valor)\n",
    "}\n",
    "myfunc2(3, 2)\n",
    "\n",
    "jogando_dados <- function() {\n",
    "  num <- sample(1:6, size = 1) #Local\n",
    "  num\n",
    "}\n",
    "\n",
    "jogando_dados()"
   ]
  },
  {
   "cell_type": "code",
   "execution_count": 9,
   "metadata": {},
   "outputs": [
    {
     "name": "stdout",
     "output_type": "stream",
     "text": [
      "[1] 1 2 3 4 5 6\n"
     ]
    }
   ],
   "source": [
    "# Escopo\n",
    "print(num)"
   ]
  },
  {
   "cell_type": "code",
   "execution_count": 8,
   "metadata": {},
   "outputs": [
    {
     "data": {
      "text/html": [
       "<ol class=list-inline>\n",
       "\t<li>1</li>\n",
       "\t<li>2</li>\n",
       "\t<li>3</li>\n",
       "\t<li>4</li>\n",
       "\t<li>5</li>\n",
       "\t<li>6</li>\n",
       "</ol>\n"
      ],
      "text/latex": [
       "\\begin{enumerate*}\n",
       "\\item 1\n",
       "\\item 2\n",
       "\\item 3\n",
       "\\item 4\n",
       "\\item 5\n",
       "\\item 6\n",
       "\\end{enumerate*}\n"
      ],
      "text/markdown": [
       "1. 1\n",
       "2. 2\n",
       "3. 3\n",
       "4. 4\n",
       "5. 5\n",
       "6. 6\n",
       "\n",
       "\n"
      ],
      "text/plain": [
       "[1] 1 2 3 4 5 6"
      ]
     },
     "metadata": {},
     "output_type": "display_data"
    }
   ],
   "source": [
    "num <- c(1:6)\n",
    "num #Global"
   ]
  },
  {
   "cell_type": "code",
   "execution_count": null,
   "metadata": {},
   "outputs": [],
   "source": [
    "# Funções sem número definido de argumentos\n",
    "vec1 <- (10:13)\n",
    "vec2 <- c(\"a\", \"b\", \"c\", \"d\")\n",
    "vec3 <- c(6.5, 9.2, 11.9, 5.1)\n",
    "\n",
    "myfunc3 <- function(...){\n",
    "  df = data.frame(cbind(...))\n",
    "  print(df)\n",
    "}\n",
    "\n",
    "myfunc3(vec1)\n",
    "\n",
    "myfunc3(vec2, vec3)\n",
    "\n",
    "myfunc3(vec1, vec2, vec3)"
   ]
  },
  {
   "cell_type": "code",
   "execution_count": 6,
   "metadata": {},
   "outputs": [
    {
     "data": {
      "text/plain": [
       "   user  system elapsed \n",
       "   0.83    0.00    0.83 "
      ]
     },
     "metadata": {},
     "output_type": "display_data"
    },
    {
     "data": {
      "text/plain": [
       "   user  system elapsed \n",
       "   0.13    0.00    0.13 "
      ]
     },
     "metadata": {},
     "output_type": "display_data"
    }
   ],
   "source": [
    "# Funções Built-in - Não tente recriar a roda\n",
    "# Comparação de eficiência entre função vetorizada e função \"vetorizada no R\"\n",
    "\n",
    "x <- 1:10000000\n",
    "\n",
    "# Função que calcula a raiz quadrada de cada elemento de um vetor de números\n",
    "meu_sqrt <- function(numeros) {\n",
    "  resp <- numeric(length(numeros))\n",
    "  for(i in seq_along(numeros)) {\n",
    "    resp[i] <- sqrt(numeros[i])\n",
    "  }\n",
    "  return(resp)\n",
    "}\n",
    "\n",
    "system.time(x2a <- meu_sqrt(x))\n",
    "\n",
    "system.time(x2b <- sqrt(x))"
   ]
  },
  {
   "cell_type": "code",
   "execution_count": 7,
   "metadata": {},
   "outputs": [
    {
     "data": {
      "text/html": [
       "FALSE"
      ],
      "text/latex": [
       "FALSE"
      ],
      "text/markdown": [
       "FALSE"
      ],
      "text/plain": [
       "[1] FALSE"
      ]
     },
     "metadata": {},
     "output_type": "display_data"
    }
   ],
   "source": [
    "# Sua máquina pode apresentar resultado diferente por conta da precisão de cálculo do processador.\n",
    "identical(x2a, x2b)"
   ]
  },
  {
   "cell_type": "code",
   "execution_count": null,
   "metadata": {},
   "outputs": [],
   "source": []
  }
 ],
 "metadata": {
  "kernelspec": {
   "display_name": "R",
   "language": "R",
   "name": "ir"
  },
  "language_info": {
   "codemirror_mode": "r",
   "file_extension": ".r",
   "mimetype": "text/x-r-source",
   "name": "R",
   "pygments_lexer": "r",
   "version": "3.5.1"
  }
 },
 "nbformat": 4,
 "nbformat_minor": 2
}
