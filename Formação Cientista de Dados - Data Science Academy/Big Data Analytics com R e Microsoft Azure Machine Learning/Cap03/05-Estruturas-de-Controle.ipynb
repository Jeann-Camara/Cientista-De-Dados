{
 "cells": [
  {
   "cell_type": "code",
   "execution_count": 1,
   "metadata": {},
   "outputs": [
    {
     "data": {
      "text/html": [
       "'Este número é menor que 30'"
      ],
      "text/latex": [
       "'Este número é menor que 30'"
      ],
      "text/markdown": [
       "'Este número é menor que 30'"
      ],
      "text/plain": [
       "[1] \"Este número é menor que 30\""
      ]
     },
     "metadata": {},
     "output_type": "display_data"
    }
   ],
   "source": [
    "# If-else\n",
    "x = 25\n",
    "if (x < 30) \n",
    "  {\"Este número é menor que 30\"}"
   ]
  },
  {
   "cell_type": "code",
   "execution_count": 2,
   "metadata": {},
   "outputs": [
    {
     "data": {
      "text/html": [
       "'Este número é menor que 30'"
      ],
      "text/latex": [
       "'Este número é menor que 30'"
      ],
      "text/markdown": [
       "'Este número é menor que 30'"
      ],
      "text/plain": [
       "[1] \"Este número é menor que 30\""
      ]
     },
     "metadata": {},
     "output_type": "display_data"
    }
   ],
   "source": [
    "# Chaves não são obrigatórios, mas altamente recomendados\n",
    "if (x < 30) \n",
    "  \"Este número é menor que 30\""
   ]
  },
  {
   "cell_type": "code",
   "execution_count": 3,
   "metadata": {},
   "outputs": [
    {
     "data": {
      "text/html": [
       "'Este número não é menor que 7'"
      ],
      "text/latex": [
       "'Este número não é menor que 7'"
      ],
      "text/markdown": [
       "'Este número não é menor que 7'"
      ],
      "text/plain": [
       "[1] \"Este número não é menor que 7\""
      ]
     },
     "metadata": {},
     "output_type": "display_data"
    }
   ],
   "source": [
    "# Else\n",
    "if (x < 7) {\n",
    "  \"Este número é menor que 7\"\n",
    "} else {\n",
    "  \"Este número não é menor que 7\"\n",
    "  }"
   ]
  },
  {
   "cell_type": "code",
   "execution_count": 4,
   "metadata": {},
   "outputs": [
    {
     "data": {
      "text/html": [
       "'Este é o número 7'"
      ],
      "text/latex": [
       "'Este é o número 7'"
      ],
      "text/markdown": [
       "'Este é o número 7'"
      ],
      "text/plain": [
       "[1] \"Este é o número 7\""
      ]
     },
     "metadata": {},
     "output_type": "display_data"
    }
   ],
   "source": [
    "# Comandos podem ser ainhados\n",
    "x = 7\n",
    "if (x < 7) {\n",
    "  \"Este número é menor que 7\"\n",
    "} else if(x == 7) {\n",
    "  \"Este é o número 7\"\n",
    "}else{\n",
    "  \"Este número não é menor que 7\"\n",
    "}"
   ]
  },
  {
   "cell_type": "code",
   "execution_count": 5,
   "metadata": {},
   "outputs": [
    {
     "data": {
      "text/html": [
       "'Correto!'"
      ],
      "text/latex": [
       "'Correto!'"
      ],
      "text/markdown": [
       "'Correto!'"
      ],
      "text/plain": [
       "[1] \"Correto!\""
      ]
     },
     "metadata": {},
     "output_type": "display_data"
    },
    {
     "data": {
      "text/html": [
       "&lt;NA&gt;"
      ],
      "text/latex": [
       "<NA>"
      ],
      "text/markdown": [
       "&lt;NA&gt;"
      ],
      "text/plain": [
       "[1] NA"
      ]
     },
     "metadata": {},
     "output_type": "display_data"
    }
   ],
   "source": [
    "# Ifelse\n",
    "x = 5\n",
    "ifelse (x < 6, \"Correto!\", NA)\n",
    "\n",
    "x = 9\n",
    "ifelse (x < 6, \"Correto!\", NA)"
   ]
  },
  {
   "cell_type": "code",
   "execution_count": 6,
   "metadata": {},
   "outputs": [
    {
     "data": {
      "text/html": [
       "<ol class=list-inline>\n",
       "\t<li>'Maior que 5'</li>\n",
       "\t<li>'Igual a 5'</li>\n",
       "\t<li>'Menor que 5'</li>\n",
       "</ol>\n"
      ],
      "text/latex": [
       "\\begin{enumerate*}\n",
       "\\item 'Maior que 5'\n",
       "\\item 'Igual a 5'\n",
       "\\item 'Menor que 5'\n",
       "\\end{enumerate*}\n"
      ],
      "text/markdown": [
       "1. 'Maior que 5'\n",
       "2. 'Igual a 5'\n",
       "3. 'Menor que 5'\n",
       "\n",
       "\n"
      ],
      "text/plain": [
       "[1] \"Maior que 5\" \"Igual a 5\"   \"Menor que 5\""
      ]
     },
     "metadata": {},
     "output_type": "display_data"
    }
   ],
   "source": [
    "# Expressões ifelse aninhadas\n",
    "x = c(7,5,4)\n",
    "ifelse(x < 5, \"Menor que 5\", \n",
    "       ifelse(x == 5, \"Igual a 5\", \"Maior que 5\"))"
   ]
  },
  {
   "cell_type": "code",
   "execution_count": 7,
   "metadata": {},
   "outputs": [
    {
     "data": {
      "text/html": [
       "6"
      ],
      "text/latex": [
       "6"
      ],
      "text/markdown": [
       "6"
      ],
      "text/plain": [
       "[1] 6"
      ]
     },
     "metadata": {},
     "output_type": "display_data"
    },
    {
     "data": {
      "text/html": [
       "'Não encontrado'"
      ],
      "text/latex": [
       "'Não encontrado'"
      ],
      "text/markdown": [
       "'Não encontrado'"
      ],
      "text/plain": [
       "[1] \"Não encontrado\""
      ]
     },
     "metadata": {},
     "output_type": "display_data"
    }
   ],
   "source": [
    "# Estruturas if dentro de funções\n",
    "func1 <- function(x,y){\n",
    "  ifelse(y < 7, x + y, \"Não encontrado\")\n",
    "}\n",
    "\n",
    "func1(4,2)\n",
    "func1(40,7)"
   ]
  },
  {
   "cell_type": "code",
   "execution_count": 8,
   "metadata": {},
   "outputs": [
    {
     "data": {
      "text/html": [
       "<ol class=list-inline>\n",
       "\t<li>1.02898469906266</li>\n",
       "\t<li>-0.0722210343183883</li>\n",
       "\t<li>-1.34507475588337</li>\n",
       "\t<li>0.0203463017299006</li>\n",
       "\t<li>0.435558207141702</li>\n",
       "\t<li>-1.16635388065897</li>\n",
       "\t<li>-0.749419670485855</li>\n",
       "\t<li>-0.0545917493176</li>\n",
       "\t<li>-0.555232090010401</li>\n",
       "\t<li>-0.854216921704956</li>\n",
       "\t<li>1.02898469906266</li>\n",
       "\t<li>-0.0722210343183883</li>\n",
       "\t<li>-1.34507475588337</li>\n",
       "\t<li>0.0203463017299006</li>\n",
       "\t<li>0.435558207141702</li>\n",
       "\t<li>-1.16635388065897</li>\n",
       "\t<li>-0.749419670485855</li>\n",
       "\t<li>-0.0545917493176</li>\n",
       "\t<li>-0.555232090010401</li>\n",
       "\t<li>-0.854216921704956</li>\n",
       "\t<li>1.02898469906266</li>\n",
       "\t<li>-0.0722210343183883</li>\n",
       "\t<li>-1.34507475588337</li>\n",
       "\t<li>0.0203463017299006</li>\n",
       "\t<li>0.435558207141702</li>\n",
       "\t<li>-1.16635388065897</li>\n",
       "\t<li>-0.749419670485855</li>\n",
       "\t<li>-0.0545917493176</li>\n",
       "\t<li>-0.555232090010401</li>\n",
       "\t<li>-0.854216921704956</li>\n",
       "\t<li>1.02898469906266</li>\n",
       "\t<li>-0.0722210343183883</li>\n",
       "\t<li>-1.34507475588337</li>\n",
       "\t<li>0.0203463017299006</li>\n",
       "\t<li>0.435558207141702</li>\n",
       "\t<li>-1.16635388065897</li>\n",
       "\t<li>-0.749419670485855</li>\n",
       "\t<li>-0.0545917493176</li>\n",
       "\t<li>-0.555232090010401</li>\n",
       "\t<li>-0.854216921704956</li>\n",
       "\t<li>1.02898469906266</li>\n",
       "\t<li>-0.0722210343183883</li>\n",
       "\t<li>-1.34507475588337</li>\n",
       "\t<li>0.0203463017299006</li>\n",
       "\t<li>0.435558207141702</li>\n",
       "\t<li>-1.16635388065897</li>\n",
       "\t<li>-0.749419670485855</li>\n",
       "\t<li>-0.0545917493176</li>\n",
       "\t<li>-0.555232090010401</li>\n",
       "\t<li>-0.854216921704956</li>\n",
       "</ol>\n"
      ],
      "text/latex": [
       "\\begin{enumerate*}\n",
       "\\item 1.02898469906266\n",
       "\\item -0.0722210343183883\n",
       "\\item -1.34507475588337\n",
       "\\item 0.0203463017299006\n",
       "\\item 0.435558207141702\n",
       "\\item -1.16635388065897\n",
       "\\item -0.749419670485855\n",
       "\\item -0.0545917493176\n",
       "\\item -0.555232090010401\n",
       "\\item -0.854216921704956\n",
       "\\item 1.02898469906266\n",
       "\\item -0.0722210343183883\n",
       "\\item -1.34507475588337\n",
       "\\item 0.0203463017299006\n",
       "\\item 0.435558207141702\n",
       "\\item -1.16635388065897\n",
       "\\item -0.749419670485855\n",
       "\\item -0.0545917493176\n",
       "\\item -0.555232090010401\n",
       "\\item -0.854216921704956\n",
       "\\item 1.02898469906266\n",
       "\\item -0.0722210343183883\n",
       "\\item -1.34507475588337\n",
       "\\item 0.0203463017299006\n",
       "\\item 0.435558207141702\n",
       "\\item -1.16635388065897\n",
       "\\item -0.749419670485855\n",
       "\\item -0.0545917493176\n",
       "\\item -0.555232090010401\n",
       "\\item -0.854216921704956\n",
       "\\item 1.02898469906266\n",
       "\\item -0.0722210343183883\n",
       "\\item -1.34507475588337\n",
       "\\item 0.0203463017299006\n",
       "\\item 0.435558207141702\n",
       "\\item -1.16635388065897\n",
       "\\item -0.749419670485855\n",
       "\\item -0.0545917493176\n",
       "\\item -0.555232090010401\n",
       "\\item -0.854216921704956\n",
       "\\item 1.02898469906266\n",
       "\\item -0.0722210343183883\n",
       "\\item -1.34507475588337\n",
       "\\item 0.0203463017299006\n",
       "\\item 0.435558207141702\n",
       "\\item -1.16635388065897\n",
       "\\item -0.749419670485855\n",
       "\\item -0.0545917493176\n",
       "\\item -0.555232090010401\n",
       "\\item -0.854216921704956\n",
       "\\end{enumerate*}\n"
      ],
      "text/markdown": [
       "1. 1.02898469906266\n",
       "2. -0.0722210343183883\n",
       "3. -1.34507475588337\n",
       "4. 0.0203463017299006\n",
       "5. 0.435558207141702\n",
       "6. -1.16635388065897\n",
       "7. -0.749419670485855\n",
       "8. -0.0545917493176\n",
       "9. -0.555232090010401\n",
       "10. -0.854216921704956\n",
       "11. 1.02898469906266\n",
       "12. -0.0722210343183883\n",
       "13. -1.34507475588337\n",
       "14. 0.0203463017299006\n",
       "15. 0.435558207141702\n",
       "16. -1.16635388065897\n",
       "17. -0.749419670485855\n",
       "18. -0.0545917493176\n",
       "19. -0.555232090010401\n",
       "20. -0.854216921704956\n",
       "21. 1.02898469906266\n",
       "22. -0.0722210343183883\n",
       "23. -1.34507475588337\n",
       "24. 0.0203463017299006\n",
       "25. 0.435558207141702\n",
       "26. -1.16635388065897\n",
       "27. -0.749419670485855\n",
       "28. -0.0545917493176\n",
       "29. -0.555232090010401\n",
       "30. -0.854216921704956\n",
       "31. 1.02898469906266\n",
       "32. -0.0722210343183883\n",
       "33. -1.34507475588337\n",
       "34. 0.0203463017299006\n",
       "35. 0.435558207141702\n",
       "36. -1.16635388065897\n",
       "37. -0.749419670485855\n",
       "38. -0.0545917493176\n",
       "39. -0.555232090010401\n",
       "40. -0.854216921704956\n",
       "41. 1.02898469906266\n",
       "42. -0.0722210343183883\n",
       "43. -1.34507475588337\n",
       "44. 0.0203463017299006\n",
       "45. 0.435558207141702\n",
       "46. -1.16635388065897\n",
       "47. -0.749419670485855\n",
       "48. -0.0545917493176\n",
       "49. -0.555232090010401\n",
       "50. -0.854216921704956\n",
       "\n",
       "\n"
      ],
      "text/plain": [
       " [1]  1.02898470 -0.07222103 -1.34507476  0.02034630  0.43555821 -1.16635388\n",
       " [7] -0.74941967 -0.05459175 -0.55523209 -0.85421692  1.02898470 -0.07222103\n",
       "[13] -1.34507476  0.02034630  0.43555821 -1.16635388 -0.74941967 -0.05459175\n",
       "[19] -0.55523209 -0.85421692  1.02898470 -0.07222103 -1.34507476  0.02034630\n",
       "[25]  0.43555821 -1.16635388 -0.74941967 -0.05459175 -0.55523209 -0.85421692\n",
       "[31]  1.02898470 -0.07222103 -1.34507476  0.02034630  0.43555821 -1.16635388\n",
       "[37] -0.74941967 -0.05459175 -0.55523209 -0.85421692  1.02898470 -0.07222103\n",
       "[43] -1.34507476  0.02034630  0.43555821 -1.16635388 -0.74941967 -0.05459175\n",
       "[49] -0.55523209 -0.85421692"
      ]
     },
     "metadata": {},
     "output_type": "display_data"
    }
   ],
   "source": [
    "# Rep\n",
    "rep(rnorm(10), 5)"
   ]
  },
  {
   "cell_type": "code",
   "execution_count": 9,
   "metadata": {},
   "outputs": [
    {
     "name": "stdout",
     "output_type": "stream",
     "text": [
      "[1] 4\n",
      "[1] 7\n",
      "[1] 10\n",
      "[1] 13\n",
      "[1] 16\n",
      "[1] 19\n",
      "[1] 22\n",
      "[1] 25\n",
      "[1] 28\n",
      "[1] 31\n",
      "[1] 34\n",
      "[1] 37\n",
      "[1] 40\n",
      "[1] 43\n",
      "[1] 46\n",
      "[1] 49\n",
      "[1] 52\n",
      "[1] 55\n",
      "[1] 58\n",
      "[1] 61\n",
      "[1] 64\n",
      "[1] 67\n",
      "[1] 70\n",
      "[1] 73\n",
      "[1] 76\n",
      "[1] 79\n",
      "[1] 82\n",
      "[1] 85\n",
      "[1] 88\n",
      "[1] 91\n",
      "[1] 94\n",
      "[1] 97\n"
     ]
    }
   ],
   "source": [
    "# Repeat\n",
    "x = 1\n",
    "repeat {\n",
    "  x = x + 3\n",
    "  if (x > 99)\n",
    "    break\n",
    "  print(x)}"
   ]
  },
  {
   "cell_type": "code",
   "execution_count": 10,
   "metadata": {},
   "outputs": [
    {
     "name": "stdout",
     "output_type": "stream",
     "text": [
      "[1] 1\n",
      "[1] 2\n",
      "[1] 3\n",
      "[1] 4\n",
      "[1] 5\n",
      "[1] 6\n",
      "[1] 7\n",
      "[1] 8\n",
      "[1] 9\n",
      "[1] 10\n",
      "[1] 11\n",
      "[1] 12\n",
      "[1] 13\n",
      "[1] 14\n",
      "[1] 15\n",
      "[1] 16\n",
      "[1] 17\n",
      "[1] 18\n",
      "[1] 19\n",
      "[1] 20\n",
      "[1] 0.1178787\n",
      "[1] -0.6766085\n",
      "[1] 1.660896\n",
      "[1] 0.2148134\n",
      "[1] 0.6684178\n",
      "[1] 1.122146\n",
      "[1] 1.60593\n",
      "[1] 0.06359146\n",
      "[1] 1.582212\n",
      "[1] 0.5603006\n"
     ]
    }
   ],
   "source": [
    "# Loop For\n",
    "for (i in 1:20) {print(i)}\n",
    "for (q in rnorm(10)) {print(q)}"
   ]
  },
  {
   "cell_type": "code",
   "execution_count": 11,
   "metadata": {},
   "outputs": [
    {
     "name": "stdout",
     "output_type": "stream",
     "text": [
      "[1] 1\n",
      "[1] 2\n",
      "[1] 3\n",
      "[1] 4\n",
      "[1] 5\n",
      "[1] 6\n",
      "[1] 7\n",
      "[1] 8\n",
      "[1] 9\n",
      "[1] 10\n",
      "[1] 11\n",
      "[1] 12\n",
      "[1] 14\n",
      "[1] 16\n",
      "[1] 17\n",
      "[1] 18\n",
      "[1] 19\n",
      "[1] 20\n",
      "[1] 21\n",
      "[1] 22\n"
     ]
    }
   ],
   "source": [
    "# Ignora alguns elementos dentro do loop\n",
    "for(i in 1:22){\n",
    "  if(i == 13 | i == 15)\n",
    "    next\n",
    "  print (i)}"
   ]
  },
  {
   "cell_type": "code",
   "execution_count": 12,
   "metadata": {},
   "outputs": [
    {
     "name": "stdout",
     "output_type": "stream",
     "text": [
      "[1] 1\n",
      "[1] 2\n",
      "[1] 3\n",
      "[1] 4\n",
      "[1] 5\n",
      "[1] 6\n",
      "[1] 7\n",
      "[1] 8\n",
      "[1] 9\n",
      "[1] 10\n",
      "[1] 11\n",
      "[1] 12\n"
     ]
    }
   ],
   "source": [
    "# Interromper o loop\n",
    "for(i in 1:22){\n",
    "  if(i == 13)\n",
    "    break\n",
    "  print (i)}"
   ]
  },
  {
   "cell_type": "code",
   "execution_count": 13,
   "metadata": {},
   "outputs": [
    {
     "name": "stdout",
     "output_type": "stream",
     "text": [
      "[1] 2\n",
      "[1] 3\n",
      "[1] 4\n",
      "[1] 5\n"
     ]
    }
   ],
   "source": [
    "# Loop While\n",
    "x = 1\n",
    "while(x < 5){\n",
    "  x = x + 1\n",
    "  print(x)\n",
    "}"
   ]
  },
  {
   "cell_type": "code",
   "execution_count": 15,
   "metadata": {},
   "outputs": [],
   "source": [
    "# O loop while não será executado\n",
    "y = 6\n",
    "while(y < 5){\n",
    "  y = y+10\n",
    "  print(y)\n",
    "}"
   ]
  },
  {
   "cell_type": "code",
   "execution_count": null,
   "metadata": {},
   "outputs": [],
   "source": []
  }
 ],
 "metadata": {
  "kernelspec": {
   "display_name": "R",
   "language": "R",
   "name": "ir"
  },
  "language_info": {
   "codemirror_mode": "r",
   "file_extension": ".r",
   "mimetype": "text/x-r-source",
   "name": "R",
   "pygments_lexer": "r",
   "version": "3.5.1"
  }
 },
 "nbformat": 4,
 "nbformat_minor": 2
}
