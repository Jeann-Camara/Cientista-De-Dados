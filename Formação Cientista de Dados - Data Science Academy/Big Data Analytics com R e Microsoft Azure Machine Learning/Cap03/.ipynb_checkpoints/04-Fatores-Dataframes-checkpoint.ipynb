{
 "cells": [
  {
   "cell_type": "code",
   "execution_count": 1,
   "metadata": {},
   "outputs": [],
   "source": [
    "# Criando vetores\n",
    "vec1 <- c(1001, 1002, 1003, 1004, 1005)\n",
    "vec2 <- c(0, 1, 1, 0, 2)\n",
    "vec3 <- c('Verde','Laranja','Azul','Laranja','Verde')"
   ]
  },
  {
   "cell_type": "code",
   "execution_count": 2,
   "metadata": {},
   "outputs": [
    {
     "data": {
      "text/html": [
       "<table>\n",
       "<thead><tr><th scope=col>vec1</th><th scope=col>vec2</th><th scope=col>vec3</th></tr></thead>\n",
       "<tbody>\n",
       "\t<tr><td>1001   </td><td>0      </td><td>Verde  </td></tr>\n",
       "\t<tr><td>1002   </td><td>1      </td><td>Laranja</td></tr>\n",
       "\t<tr><td>1003   </td><td>1      </td><td>Azul   </td></tr>\n",
       "\t<tr><td>1004   </td><td>0      </td><td>Laranja</td></tr>\n",
       "\t<tr><td>1005   </td><td>2      </td><td>Verde  </td></tr>\n",
       "</tbody>\n",
       "</table>\n"
      ],
      "text/latex": [
       "\\begin{tabular}{r|lll}\n",
       " vec1 & vec2 & vec3\\\\\n",
       "\\hline\n",
       "\t 1001    & 0       & Verde  \\\\\n",
       "\t 1002    & 1       & Laranja\\\\\n",
       "\t 1003    & 1       & Azul   \\\\\n",
       "\t 1004    & 0       & Laranja\\\\\n",
       "\t 1005    & 2       & Verde  \\\\\n",
       "\\end{tabular}\n"
      ],
      "text/markdown": [
       "\n",
       "vec1 | vec2 | vec3 | \n",
       "|---|---|---|---|---|\n",
       "| 1001    | 0       | Verde   | \n",
       "| 1002    | 1       | Laranja | \n",
       "| 1003    | 1       | Azul    | \n",
       "| 1004    | 0       | Laranja | \n",
       "| 1005    | 2       | Verde   | \n",
       "\n",
       "\n"
      ],
      "text/plain": [
       "  vec1 vec2 vec3   \n",
       "1 1001 0    Verde  \n",
       "2 1002 1    Laranja\n",
       "3 1003 1    Azul   \n",
       "4 1004 0    Laranja\n",
       "5 1005 2    Verde  "
      ]
     },
     "metadata": {},
     "output_type": "display_data"
    }
   ],
   "source": [
    "# Unindo os vetores em um dataframe\n",
    "df <- data.frame(vec1, vec2, vec3)\n",
    "df"
   ]
  },
  {
   "cell_type": "code",
   "execution_count": 3,
   "metadata": {},
   "outputs": [
    {
     "name": "stdout",
     "output_type": "stream",
     "text": [
      "'data.frame':\t5 obs. of  3 variables:\n",
      " $ vec1: num  1001 1002 1003 1004 1005\n",
      " $ vec2: num  0 1 1 0 2\n",
      " $ vec3: Factor w/ 3 levels \"Azul\",\"Laranja\",..: 3 2 1 2 3\n"
     ]
    }
   ],
   "source": [
    "# Verificando que o R categorizou a última coluna como fator\n",
    "str(df)"
   ]
  },
  {
   "cell_type": "code",
   "execution_count": 4,
   "metadata": {},
   "outputs": [
    {
     "data": {
      "text/html": [
       "<ol class=list-inline>\n",
       "\t<li>'Azul'</li>\n",
       "\t<li>'Laranja'</li>\n",
       "\t<li>'Verde'</li>\n",
       "</ol>\n"
      ],
      "text/latex": [
       "\\begin{enumerate*}\n",
       "\\item 'Azul'\n",
       "\\item 'Laranja'\n",
       "\\item 'Verde'\n",
       "\\end{enumerate*}\n"
      ],
      "text/markdown": [
       "1. 'Azul'\n",
       "2. 'Laranja'\n",
       "3. 'Verde'\n",
       "\n",
       "\n"
      ],
      "text/plain": [
       "[1] \"Azul\"    \"Laranja\" \"Verde\"  "
      ]
     },
     "metadata": {},
     "output_type": "display_data"
    }
   ],
   "source": [
    "# Verificando os níveis do fator. Perceba que os níveis estão categorizados em ordem alfabética\n",
    "levels(df$vec3)"
   ]
  },
  {
   "cell_type": "code",
   "execution_count": 5,
   "metadata": {},
   "outputs": [
    {
     "data": {
      "text/html": [
       "<table>\n",
       "<thead><tr><th scope=col>vec1</th><th scope=col>vec2</th><th scope=col>vec3</th><th scope=col>cat1</th></tr></thead>\n",
       "<tbody>\n",
       "\t<tr><td>1001   </td><td>0      </td><td>Verde  </td><td>cor3   </td></tr>\n",
       "\t<tr><td>1002   </td><td>1      </td><td>Laranja</td><td>cor1   </td></tr>\n",
       "\t<tr><td>1003   </td><td>1      </td><td>Azul   </td><td>cor2   </td></tr>\n",
       "\t<tr><td>1004   </td><td>0      </td><td>Laranja</td><td>cor1   </td></tr>\n",
       "\t<tr><td>1005   </td><td>2      </td><td>Verde  </td><td>cor3   </td></tr>\n",
       "</tbody>\n",
       "</table>\n"
      ],
      "text/latex": [
       "\\begin{tabular}{r|llll}\n",
       " vec1 & vec2 & vec3 & cat1\\\\\n",
       "\\hline\n",
       "\t 1001    & 0       & Verde   & cor3   \\\\\n",
       "\t 1002    & 1       & Laranja & cor1   \\\\\n",
       "\t 1003    & 1       & Azul    & cor2   \\\\\n",
       "\t 1004    & 0       & Laranja & cor1   \\\\\n",
       "\t 1005    & 2       & Verde   & cor3   \\\\\n",
       "\\end{tabular}\n"
      ],
      "text/markdown": [
       "\n",
       "vec1 | vec2 | vec3 | cat1 | \n",
       "|---|---|---|---|---|\n",
       "| 1001    | 0       | Verde   | cor3    | \n",
       "| 1002    | 1       | Laranja | cor1    | \n",
       "| 1003    | 1       | Azul    | cor2    | \n",
       "| 1004    | 0       | Laranja | cor1    | \n",
       "| 1005    | 2       | Verde   | cor3    | \n",
       "\n",
       "\n"
      ],
      "text/plain": [
       "  vec1 vec2 vec3    cat1\n",
       "1 1001 0    Verde   cor3\n",
       "2 1002 1    Laranja cor1\n",
       "3 1003 1    Azul    cor2\n",
       "4 1004 0    Laranja cor1\n",
       "5 1005 2    Verde   cor3"
      ]
     },
     "metadata": {},
     "output_type": "display_data"
    }
   ],
   "source": [
    "# Criando uma outra coluna e atribuindo labels\n",
    "df$cat1 <- factor(df$vec3, labels = c(\"cor2\", \"cor1\", \"cor3\"))\n",
    "df"
   ]
  },
  {
   "cell_type": "code",
   "execution_count": 6,
   "metadata": {},
   "outputs": [
    {
     "name": "stdout",
     "output_type": "stream",
     "text": [
      "'data.frame':\t5 obs. of  4 variables:\n",
      " $ vec1: num  1001 1002 1003 1004 1005\n",
      " $ vec2: num  0 1 1 0 2\n",
      " $ vec3: Factor w/ 3 levels \"Azul\",\"Laranja\",..: 3 2 1 2 3\n",
      " $ cat1: Factor w/ 3 levels \"cor2\",\"cor1\",..: 3 2 1 2 3\n"
     ]
    }
   ],
   "source": [
    "# Internamente, os fatores são registrados como inteiros, mas a ordenação segue a ordem alfabética\n",
    "# das strings\n",
    "str(df)"
   ]
  },
  {
   "cell_type": "code",
   "execution_count": 7,
   "metadata": {},
   "outputs": [
    {
     "data": {
      "text/html": [
       "<table>\n",
       "<thead><tr><th scope=col>vec1</th><th scope=col>vec2</th><th scope=col>vec3</th><th scope=col>cat1</th><th scope=col>cat2</th></tr></thead>\n",
       "<tbody>\n",
       "\t<tr><td>1001      </td><td>0         </td><td>Verde     </td><td>cor3      </td><td>Divorciado</td></tr>\n",
       "\t<tr><td>1002      </td><td>1         </td><td>Laranja   </td><td>cor1      </td><td>Casado    </td></tr>\n",
       "\t<tr><td>1003      </td><td>1         </td><td>Azul      </td><td>cor2      </td><td>Casado    </td></tr>\n",
       "\t<tr><td>1004      </td><td>0         </td><td>Laranja   </td><td>cor1      </td><td>Divorciado</td></tr>\n",
       "\t<tr><td>1005      </td><td>2         </td><td>Verde     </td><td>cor3      </td><td>Solteiro  </td></tr>\n",
       "</tbody>\n",
       "</table>\n"
      ],
      "text/latex": [
       "\\begin{tabular}{r|lllll}\n",
       " vec1 & vec2 & vec3 & cat1 & cat2\\\\\n",
       "\\hline\n",
       "\t 1001       & 0          & Verde      & cor3       & Divorciado\\\\\n",
       "\t 1002       & 1          & Laranja    & cor1       & Casado    \\\\\n",
       "\t 1003       & 1          & Azul       & cor2       & Casado    \\\\\n",
       "\t 1004       & 0          & Laranja    & cor1       & Divorciado\\\\\n",
       "\t 1005       & 2          & Verde      & cor3       & Solteiro  \\\\\n",
       "\\end{tabular}\n"
      ],
      "text/markdown": [
       "\n",
       "vec1 | vec2 | vec3 | cat1 | cat2 | \n",
       "|---|---|---|---|---|\n",
       "| 1001       | 0          | Verde      | cor3       | Divorciado | \n",
       "| 1002       | 1          | Laranja    | cor1       | Casado     | \n",
       "| 1003       | 1          | Azul       | cor2       | Casado     | \n",
       "| 1004       | 0          | Laranja    | cor1       | Divorciado | \n",
       "| 1005       | 2          | Verde      | cor3       | Solteiro   | \n",
       "\n",
       "\n"
      ],
      "text/plain": [
       "  vec1 vec2 vec3    cat1 cat2      \n",
       "1 1001 0    Verde   cor3 Divorciado\n",
       "2 1002 1    Laranja cor1 Casado    \n",
       "3 1003 1    Azul    cor2 Casado    \n",
       "4 1004 0    Laranja cor1 Divorciado\n",
       "5 1005 2    Verde   cor3 Solteiro  "
      ]
     },
     "metadata": {},
     "output_type": "display_data"
    },
    {
     "name": "stdout",
     "output_type": "stream",
     "text": [
      "'data.frame':\t5 obs. of  5 variables:\n",
      " $ vec1: num  1001 1002 1003 1004 1005\n",
      " $ vec2: num  0 1 1 0 2\n",
      " $ vec3: Factor w/ 3 levels \"Azul\",\"Laranja\",..: 3 2 1 2 3\n",
      " $ cat1: Factor w/ 3 levels \"cor2\",\"cor1\",..: 3 2 1 2 3\n",
      " $ cat2: Factor w/ 3 levels \"Divorciado\",\"Casado\",..: 1 2 2 1 3\n"
     ]
    },
    {
     "data": {
      "text/html": [
       "<ol class=list-inline>\n",
       "\t<li>'Divorciado'</li>\n",
       "\t<li>'Casado'</li>\n",
       "\t<li>'Solteiro'</li>\n",
       "</ol>\n"
      ],
      "text/latex": [
       "\\begin{enumerate*}\n",
       "\\item 'Divorciado'\n",
       "\\item 'Casado'\n",
       "\\item 'Solteiro'\n",
       "\\end{enumerate*}\n"
      ],
      "text/markdown": [
       "1. 'Divorciado'\n",
       "2. 'Casado'\n",
       "3. 'Solteiro'\n",
       "\n",
       "\n"
      ],
      "text/plain": [
       "[1] \"Divorciado\" \"Casado\"     \"Solteiro\"  "
      ]
     },
     "metadata": {},
     "output_type": "display_data"
    }
   ],
   "source": [
    "# Veja como foi feita a atribuição:\n",
    "# Azul = cor2\n",
    "# Laranja = cor1\n",
    "# Verde = cor3\n",
    "# Ou seja, os vetores com os labels, seguiram a ordem alfabética dos níveis classificados pelo R\n",
    "\n",
    "# Criando uma outra coluna e atribuindo labels\n",
    "# Ao aplicarmos a função factor() a coluna vec2, internamente o R classificou em ordem alfabética\n",
    "# e quando atribuímos os labels, foi feita a associação.\n",
    "df$cat2 <- factor(df$vec2, labels = c(\"Divorciado\", \"Casado\", \"Solteiro\"))\n",
    "df\n",
    "str(df)\n",
    "levels(df$cat2)"
   ]
  }
 ],
 "metadata": {
  "kernelspec": {
   "display_name": "R",
   "language": "R",
   "name": "ir"
  },
  "language_info": {
   "codemirror_mode": "r",
   "file_extension": ".r",
   "mimetype": "text/x-r-source",
   "name": "R",
   "pygments_lexer": "r",
   "version": "3.5.1"
  }
 },
 "nbformat": 4,
 "nbformat_minor": 2
}
